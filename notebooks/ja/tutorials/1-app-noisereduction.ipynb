{
 "cells": [
  {
   "cell_type": "markdown",
   "metadata": {},
   "source": [
    "# 画像のノイズリダクション"
   ]
  },
  {
   "cell_type": "markdown",
   "metadata": {},
   "source": [
    "## 問題の概要\n",
    "\n",
    "アニーリングマシンを用いてノイズが加わった画像から元の画像の推定を行うことを考えます。\n",
    "\n",
    "下記の仮定に基づいてノイズ除去を試みます。\n",
    "\n",
    "*   元の画像とノイズの入った画像は一致することが多い\n",
    "*   元の画像では隣り合う画素は同じ色であることが多い\n",
    "\n",
    "ここでは簡単のため白黒画像を取り扱います。  \n",
    "画素のデータは黒と白の二値での表現が可能なので、各画素の値を二値変数を用いて表すことができます。  \n",
    "上記の仮定を表現する画素同士の相互作用を目的関数を用いて表現し、これを最適化することによって元の画像を推定することができます。\n",
    "\n",
    "## 目的関数の構築\n",
    "\n",
    "画素の集合を $V$ とし、各画素を表すインデックスを $i\\in V$ とします。  \n",
    "まず、入力画素を表すイジング変数を $y$ としそれぞれの色に対応する値を以下のように表します。\n",
    "\n",
    "$$\n",
    "y_{i} = \\left\\{\n",
    "\\begin{align}\n",
    "&+1 \\quad\\text{(白)}\\\\\n",
    "&-1 \\quad \\text{(黒)}\n",
    "\\end{align}\n",
    "\\right. \\quad\n",
    "i\\in V\\\\\n",
    "$$\n",
    "\n",
    "また、出力画素に対応した二値のイジング変数を以下のように表します。\n",
    "\n",
    "$$\n",
    "s_{i} = \\left\\{\n",
    "\\begin{align}\n",
    "&+1 \\quad\\text{(白)}\\\\\n",
    "&-1 \\quad \\text{(黒)}\n",
    "\\end{align}\n",
    "\\right. \\quad\n",
    "i\\in V\\\\\n",
    "$$\n",
    "\n",
    "入力画像と出力画像は概ね一致するという仮定 (ノイズがそれほど多くないという仮定) により、入力画素と出力画素は同じ値になるようにします。つまり、$s_i$ と $y_i$ は同じ値を持つときに値が小さくなるような目的関数を導入します。例えば以下のように与えられます。\n",
    "\n",
    "$$\n",
    "f_1 = - \\sum_{i\\in V} y_{i} s_{i}\n",
    "$$\n",
    "\n",
    "$y_{i}$ と $s_{i}$ が同じ値を持つと 上記の目的関数の値は減少し、異なった値を持つと増加するので、全ての $i\\in V$ において $y_{i} = s_{i}$ である場合に $f_1$ は最小値をとります。しかしながら、入力画像にはノイズがのっているので、出力画像が入力画像と同じになってしまうとノイズを減らすことができません。\n",
    "\n",
    "そこで、隣り合う画素は同じ色になりやすいという仮定を考慮します。  \n",
    "つまり、隣り合った出力画素が同じ値を持つ場合に値が小さくなるような目的関数を導入します。例えば以下のように与えられます。\n",
    " \n",
    "$$\n",
    "f_2 = -\\sum_{(i,j)\\in E} s_i s_j\n",
    "$$\n",
    "\n",
    "ここで隣接する画素のペアの集合を $E$ としました。全ての出力画素が同じ値を持つと $f_2$ は最小の値をとります。しかし、全ての画素が同じ値になってしまうと全てが白または黒の画像になってしまうので、元の画像の情報が失われてしまいます。\n",
    "\n",
    "そこで、$f_1$ と $f_2$ を適切に足し合わせることで、出力画像が入力画像と近い値をとりつつノイズと思われる画素のみ除去することを試みます。\n",
    "\n",
    "$$\n",
    "\\begin{align}\n",
    "f & = f_1 + \\eta f_2\\\\\n",
    "&=- \\sum_{i\\in V}y_is_i - \\eta \\sum_{(i,j)\\in E}s_i s_j\n",
    "\\end{align}\n",
    "$$\n",
    "\n",
    "ここで、$\\eta>0$ というパラメータを導入しました。これにより $f_1$ と $f_2$ の強さの調整が出来ます。$\\eta$ が大きいほどノイズ除去を行う項が強いことを意味しています。\n",
    "\n",
    "この目的関数を最小化しイジング変数 $s$ の値を画素の値と解釈することで、ノイズを除去した画像が得られます。\n",
    "\n",
    "\n",
    "## 参考\n",
    "* [Annealing Cloud Web: デモアプリ](https://annealing-cloud.com/ja/play/demoapp/noise.html)\n",
    "* [Annealing Cloud Web: 画像のノイズリダクション解説](https://annealing-cloud.com/ja/tutorial/2.html)"
   ]
  },
  {
   "cell_type": "markdown",
   "metadata": {},
   "source": [
    "## 画像の読み込み\n",
    "\n",
    "まずは、画像データをダウンロードする関数と、ダウンロードした画像をイジング変数配列に変換する関数を定義します。"
   ]
  },
  {
   "cell_type": "code",
   "execution_count": null,
   "metadata": {},
   "outputs": [],
   "source": [
    "import os\n",
    "from PIL import Image\n",
    "import numpy as np\n",
    "\n",
    "%matplotlib inline\n",
    "import matplotlib.pyplot as plt\n",
    "\n",
    "# 元画像のイジング配列を作成\n",
    "img = Image.open(\"sample.png\")\n",
    "x = np.where(np.array(img) >= 128, 1, -1)\n",
    "plt.imshow(x, cmap=\"gray\")\n",
    "plt.show()\n",
    "print(x.shape)\n",
    "print(x)"
   ]
  },
  {
   "cell_type": "markdown",
   "metadata": {},
   "source": [
    "## ノイズ画像の作成\n",
    "\n",
    "次に、画素を無作為に選びその値を反転することでノイズを表現する関数を定義します。"
   ]
  },
  {
   "cell_type": "code",
   "execution_count": null,
   "metadata": {},
   "outputs": [],
   "source": [
    "# 画像にノイズを追加する関数\n",
    "def get_noisy_img_array(img_array):\n",
    "    # 2次元配列を1次元に変換して扱いやすくする\n",
    "    img_shape = img_array.shape\n",
    "    flattened_img = img_array.flatten()\n",
    "\n",
    "    # 最大値と最小値を入れ替える関数を定義\n",
    "    min_v = min(flattened_img)\n",
    "    max_v = max(flattened_img)\n",
    "\n",
    "    def invert_value(v):\n",
    "        return min_v + max_v - v\n",
    "\n",
    "    # ノイズの割合\n",
    "    ratio = 0.02\n",
    "\n",
    "    # ノイズをのせる画素をランダムに選択して反転\n",
    "    for idx in np.random.choice(len(flattened_img), int(ratio * len(flattened_img))):\n",
    "        flattened_img[idx] = invert_value(flattened_img[idx])\n",
    "\n",
    "    # 元の配列の形に戻す\n",
    "    return flattened_img.reshape(*img_shape)"
   ]
  },
  {
   "cell_type": "code",
   "execution_count": null,
   "metadata": {},
   "outputs": [],
   "source": [
    "# ノイズ画像のイジング配列を作成\n",
    "y = get_noisy_img_array(x)\n",
    "plt.imshow(y, cmap=\"gray\")\n",
    "plt.show()\n",
    "print(y.shape)\n",
    "print(y)"
   ]
  },
  {
   "attachments": {},
   "cell_type": "markdown",
   "metadata": {},
   "source": [
    "## イジング変数配列の作成\n",
    "\n",
    "次に、イジング変数の配列 `s` を生成します。入力画像のデータ `y` を $h \\times w$ の2次元配列とすると、出力画像に対応するイジング変数 `s` も 同じく $h \\times w$ の2次元配列となります。\n",
    "\n",
    "変数の生成には `IsingSymbolGenerator` を使います。`IsingSymbolGenerator` の `array` メソッドでは、入力画像のデータ `y` と同じ配列の形で変数配列を作成できるので、目的関数の計算に便利です。"
   ]
  },
  {
   "cell_type": "code",
   "execution_count": null,
   "metadata": {},
   "outputs": [],
   "source": [
    "from amplify import IsingSymbolGenerator, IsingPoly, sum_poly\n",
    "\n",
    "# 画像の高さ(h),幅(w)を取得\n",
    "h, w = y.shape\n",
    "\n",
    "gen = IsingSymbolGenerator()\n",
    "s = gen.array(h, w)  # h x w の配列の形にイジング変数を生成"
   ]
  },
  {
   "cell_type": "markdown",
   "metadata": {},
   "source": [
    "## 目的関数\n",
    "\n",
    "入力画像データの配列 $y$ と出力画像に対応したイジング変数配列 $s$ を用いて、目的関数を構築します。\n"
   ]
  },
  {
   "cell_type": "code",
   "execution_count": null,
   "metadata": {},
   "outputs": [],
   "source": [
    "# 強度パラメータ\n",
    "eta = 0.333\n",
    "\n",
    "# 目的関数 f を計算\n",
    "\n",
    "# - \\sum_{i\\in V} y_{i} s_{i}\n",
    "f1 = sum_poly(-s * y)\n",
    "\n",
    "# -\\sum_{(i,j)\\in E} s_i s_j\n",
    "f2 = sum_poly(h - 1, lambda i: sum_poly(w    , lambda j: -s[i, j] * s[i + 1, j])) \\\n",
    "   + sum_poly(h    , lambda i: sum_poly(w - 1, lambda j: -s[i, j] * s[i, j + 1]))\n",
    "\n",
    "f = f1 + eta * f2"
   ]
  },
  {
   "cell_type": "markdown",
   "metadata": {},
   "source": [
    "## クライアントの設定とマシンの実行\n",
    "\n",
    "次にクライアントを設定し、先ほど与えた目的関数の最小値に対応する解をイジングマシンで探索します。"
   ]
  },
  {
   "cell_type": "code",
   "execution_count": null,
   "metadata": {},
   "outputs": [],
   "source": [
    "from amplify.client import FixstarsClient\n",
    "from amplify import Solver\n",
    "\n",
    "# クライアントの設定\n",
    "client = FixstarsClient()\n",
    "client.parameters.timeout = 1000  # タイムアウト1秒\n",
    "# client.token = \"xxxxxxxxxxxxxxxxxxxxxxxxxxxxxxxx\"  # ローカル環境で使用する場合は、Amplify AEのアクセストークンを入力してください\n",
    "\n",
    "# ソルバの設定と結果の取得\n",
    "solver = Solver(client)\n",
    "result = solver.solve(f)"
   ]
  },
  {
   "cell_type": "markdown",
   "metadata": {},
   "source": [
    "## 解の取得と結果の表示\n",
    "\n",
    "最後に、得られた解を元のイジング変数 $s$ に代入し、出力画像のデータを取得します。\n",
    "\n",
    "入力画像と比較するとノイズが減少したことが確認できます。"
   ]
  },
  {
   "cell_type": "code",
   "execution_count": null,
   "metadata": {},
   "outputs": [],
   "source": [
    "# 解の取得\n",
    "values = result[0].values\n",
    "\n",
    "# イジング変数に解を代入\n",
    "output = s.decode(values, 1)\n",
    "\n",
    "plt.imshow(output, cmap=\"gray\")  # 復元画像\n",
    "plt.show()\n",
    "\n",
    "plt.imshow(x, cmap=\"gray\")  # 元画像\n",
    "plt.show()\n",
    "\n",
    "plt.imshow(y, cmap=\"gray\")  # ノイズ画像\n",
    "plt.show()"
   ]
  },
  {
   "cell_type": "code",
   "execution_count": null,
   "metadata": {},
   "outputs": [],
   "source": []
  }
 ],
 "metadata": {
  "kernelspec": {
   "display_name": ".venv",
   "language": "python",
   "name": "python3"
  },
  "language_info": {
   "codemirror_mode": {
    "name": "ipython",
    "version": 3
   },
   "file_extension": ".py",
   "mimetype": "text/x-python",
   "name": "python",
   "nbconvert_exporter": "python",
   "pygments_lexer": "ipython3",
   "version": "3.10.6"
  }
 },
 "nbformat": 4,
 "nbformat_minor": 4
}
