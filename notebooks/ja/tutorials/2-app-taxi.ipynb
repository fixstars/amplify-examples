{
 "cells": [
  {
   "cell_type": "markdown",
   "metadata": {},
   "source": [
    "# タクシーマッチング問題\n",
    "ここでは、目的関数と制約条件を両方用いる問題の例としてタクシーマッチング問題を解いてみましょう。\n",
    "\n",
    "タクシーマッチング問題とは、複数名の顧客と複数台のタクシーの位置がそれぞれ与えられている場合に、配車コストを最小化する問題です。\n",
    "\n",
    "配車コストには様々な定義が考えられますが、ここでは簡単のためタクシーと顧客間の総距離とします。タクシーと顧客のマッチングを行い、それぞれのタクシーと向かう先の顧客との距離の合計を最小化するように配車先の決定を行います。\n",
    "\n",
    "## 問題の定式化\n",
    "\n",
    "まず、ここでの問題の前提条件として、$N$人の顧客と、それと同じ数$N$台のタクシーがあるとします。インデックス $i, j = 0, 1, \\cdots, N -1$ の顧客の座標 $(c_{i,x}, c_{i,y})$ とタクシーの座標 $(t_{j,x}, t_{j,y})$ が与えられているとします。これらの座標から、顧客 $i$ とタクシー $j$ の距離を \n",
    "\n",
    "$$\n",
    "d_{ij} = \\sqrt{(c_{i,x} - t_{j,x})^2 + (c_{i,y} - t_{j,y})^2}\n",
    "$$ \n",
    "\n",
    "とします。\n",
    "\n",
    "### 決定変数\n",
    "\n",
    "顧客 $i$ とタクシー $j$ の関係は以下の二つのパターンに分けられます。\n",
    "\n",
    "* 顧客 $i$ にタクシー $j$ が割り当てられる\n",
    "* 顧客 $i$ にタクシー $j$ が割り当てられない\n",
    "\n",
    "この二つの状態をバイナリ変数 $q_{ij}$ を用いて表現することにします。\n",
    "\n",
    "* 顧客 $i$ に タクシー $j$ が割り当てられるとき、 $q_{ij} = 1$\n",
    "* 顧客 $i$ に タクシー $j$ が割り当てられないとき、 $q_{ij} = 0$\n",
    "\n",
    "|顧客 \\ タクシー| $0$ | $1$ | ... | $N-1$|  \n",
    "|:---:|:---:|:---:|:---:|:---:|\n",
    "|$0$| $q_{0,0}$ | $q_{0,1}$ | ... | $q_{0,N-1}$|\n",
    "|$1$| $q_{1,0}$ | $q_{1,1}$ | ... | $q_{1,N-1}$|\n",
    "|$\\vdots$| $\\vdots$ | $\\vdots$ | ... | $\\vdots$|\n",
    "|$N -1$| $q_{N-1,0}$ | $q_{N-1,1}$ | ... | $q_{N-1,N-1}$|\n",
    "\n",
    "### 目的関数\n",
    "\n",
    "上記の バイナリ変数を用いて、マッチングされた顧客とタクシーの合計の距離である目的関数は以下のように与えられます。  \n",
    "変数 $q_{ij}$ は $1$ の場合に顧客 $i$ とタクシー $j$ がマッチングしているという意味なので、結果として $q_{ij} = 1$ となっている距離だけを足し上げています。\n",
    "\n",
    "$$\n",
    "\\sum_{i, j=0}^{N-1}d_{ij}q_{ij}\n",
    "$$\n",
    "\n",
    "### 制約条件\n",
    "\n",
    "次に制約条件を定めます。\n",
    "\n",
    "まず、一人の顧客に必ず一台のタクシーを割り当てるので、顧客 $i$ に対して\n",
    "\n",
    "$$\n",
    "\\sum_{j=0}^{N -1}q_{ij} = 1 \n",
    "$$\n",
    "\n",
    "という制約条件が必要となります。\n",
    "\n",
    "さらに、一台のタクシーは必ず一人の顧客に割り当てられるので、タクシー $j$ に対して、\n",
    "\n",
    "$$\n",
    "\\sum_{i=0}^{N -1}q_{ij} = 1 \n",
    "$$\n",
    "\n",
    "という制約条件も必要となります。\n",
    "\n",
    "\n",
    "## 問題の実装\n",
    "\n",
    "顧客とタクシーの位置座標が入力データとして必要となるので、顧客とタクシーの座標をランダムに生成して、顧客とタクシー全ての組み合わせの距離を計算する関数を作ります。"
   ]
  },
  {
   "cell_type": "code",
   "execution_count": null,
   "metadata": {},
   "outputs": [],
   "source": [
    "import numpy as np\n",
    "\n",
    "\n",
    "# 顧客とタクシーの座標をランダムに生成し、顧客とタクシーの距離を計算\n",
    "def gen_random_locations(num_customers: int, num_taxies: int):\n",
    "    rng = np.random.default_rng()\n",
    "\n",
    "    # 顧客の座標\n",
    "    loc_customers = rng.random(size=(num_customers, 2))\n",
    "    # タクシーの座標\n",
    "    loc_taxies = rng.random(size=(num_taxies, 2))\n",
    "\n",
    "    # distances[i, j] が顧客 i と タクシー j の距離を表すように距離行列を計算\n",
    "    distances = (\n",
    "        (loc_customers[:, np.newaxis, 0] - loc_taxies[np.newaxis, :, 0]) ** 2\n",
    "        + (loc_customers[:, np.newaxis, 1] - loc_taxies[np.newaxis, :, 1]) ** 2\n",
    "    ) ** 0.5\n",
    "\n",
    "    return loc_customers, loc_taxies, distances"
   ]
  },
  {
   "cell_type": "markdown",
   "metadata": {},
   "source": [
    "また、可視化のために、顧客とタクシーの座標を与えると、それらの座標をプロットする関数も作ります。"
   ]
  },
  {
   "cell_type": "code",
   "execution_count": null,
   "metadata": {},
   "outputs": [],
   "source": [
    "%matplotlib inline\n",
    "import matplotlib.pyplot as plt\n",
    "\n",
    "\n",
    "# 顧客とタクシーの位置を可視化\n",
    "def show_plot(loc_customers: np.ndarray, loc_taxies: np.ndarray):\n",
    "    markersize = 100\n",
    "    fig, ax = plt.subplots(nrows=1, ncols=1, figsize=(10, 10))\n",
    "    ax.set_xlabel(\"x\")\n",
    "    ax.set_ylabel(\"y\")\n",
    "    ax.scatter(\n",
    "        loc_customers[:, 0],\n",
    "        loc_customers[:, 1],\n",
    "        label=\"Customers\",\n",
    "        marker=\"o\",\n",
    "        color=\"red\",\n",
    "        s=markersize,\n",
    "    )\n",
    "    ax.scatter(\n",
    "        loc_taxies[:, 0],\n",
    "        loc_taxies[:, 1],\n",
    "        label=\"Taxies\",\n",
    "        marker=\"^\",\n",
    "        color=\"blue\",\n",
    "        s=markersize,\n",
    "    )\n",
    "    ax.legend(loc=\"upper right\")\n",
    "    plt.show()"
   ]
  },
  {
   "cell_type": "markdown",
   "metadata": {},
   "source": [
    "顧客数とタクシー台数に対応する `N` を定め、それらの座標と距離を先ほど定義した `gen_random_locations` 関数で生成します。生成された結果をプロットして、顧客とタクシーの位置を可視化します。"
   ]
  },
  {
   "cell_type": "code",
   "execution_count": null,
   "metadata": {},
   "outputs": [],
   "source": [
    "N = 5\n",
    "\n",
    "loc_customers, loc_taxies, distances = gen_random_locations(\n",
    "    num_customers=N, num_taxies=N\n",
    ")\n",
    "\n",
    "show_plot(loc_customers, loc_taxies)"
   ]
  },
  {
   "cell_type": "markdown",
   "metadata": {},
   "source": [
    "### 定式化\n",
    "\n",
    "次に必要となる バイナリ変数を定義します。$N$人の各顧客に対して $N$ 台のタクシーを対応させることを考えるので、$N\\times N$の 2 次元配列としてバイナリ変数を以下のように生成します。"
   ]
  },
  {
   "cell_type": "code",
   "execution_count": null,
   "metadata": {},
   "outputs": [],
   "source": [
    "from amplify import VariableGenerator\n",
    "\n",
    "# バイナリ変数を生成\n",
    "gen = VariableGenerator()\n",
    "q = gen.array(\"Binary\", shape=(N, N))"
   ]
  },
  {
   "cell_type": "markdown",
   "metadata": {},
   "source": [
    "このバイナリ変数を用いて 目的関数は以下のように構築できます。"
   ]
  },
  {
   "cell_type": "code",
   "execution_count": null,
   "metadata": {},
   "outputs": [],
   "source": [
    "from amplify import sum\n",
    "\n",
    "cost = (distances * q).sum()"
   ]
  },
  {
   "attachments": {},
   "cell_type": "markdown",
   "metadata": {},
   "source": [
    "次に、制約条件を定めます。\n",
    "\n",
    "冒頭で説明した2つの制約条件を `one_hot` 関数を用いて以下のように表し、それらを足し上げて制約条件オブジェクトを構築します。"
   ]
  },
  {
   "cell_type": "code",
   "execution_count": null,
   "metadata": {},
   "outputs": [],
   "source": [
    "from amplify import one_hot\n",
    "\n",
    "customer_has_one_taxi = one_hot(q, axis=1)\n",
    "taxi_has_one_customer = one_hot(q, axis=0)\n",
    "\n",
    "constraints = customer_has_one_taxi + taxi_has_one_customer"
   ]
  },
  {
   "cell_type": "markdown",
   "metadata": {},
   "source": [
    "目的関数と制約条件を足すことで、最終的な二値多項式模型を以下のように得ることができます。\n",
    "\n",
    "ここで、目的関数に対する制約条件の重みが重要になります。  \n",
    "結論だけ述べると $d_{ij}$ の最大値にしておけば十分です。どの程度の重みが必要なのかに関する議論はここでは割愛します。"
   ]
  },
  {
   "cell_type": "code",
   "execution_count": null,
   "metadata": {},
   "outputs": [],
   "source": [
    "# 重みを設定\n",
    "constraints *= np.amax(distances)  # type: ignore\n",
    "\n",
    "# 目的関数と制約条件を結合する\n",
    "model = cost + constraints"
   ]
  },
  {
   "cell_type": "markdown",
   "metadata": {},
   "source": [
    "### イジングマシンの実行\n",
    "\n",
    "イジングマシンのクライアントを `FixstarsClient` に設定し、さらにソルバーを作成して、以下のように問題を解きます。"
   ]
  },
  {
   "cell_type": "code",
   "execution_count": null,
   "metadata": {},
   "outputs": [],
   "source": [
    "from amplify import FixstarsClient, solve\n",
    "from datetime import timedelta\n",
    "\n",
    "# クライアントを設定\n",
    "client = FixstarsClient()\n",
    "client.parameters.timeout = timedelta(milliseconds=1000)  # タイムアウト1秒\n",
    "# client.token = \"xxxxxxxxxxxxxxxxxxxxxxxxxxxxxxxx\"  # ローカル環境で使用する場合は、Amplify AEのアクセストークンを入力してください\n",
    "\n",
    "# ソルバーの設定と結果の取得\n",
    "result = solve(model, client)"
   ]
  },
  {
   "cell_type": "markdown",
   "metadata": {},
   "source": [
    "得られた解は、以下のようにして確認することができます。\n",
    "\n",
    "evaluate 関数を用いて、始めに定義した変数に代入することで、最終的な解を得ることができます。"
   ]
  },
  {
   "cell_type": "code",
   "execution_count": null,
   "metadata": {},
   "outputs": [],
   "source": [
    "# result が空の場合は制約条件が満たされず、解が求まらない\n",
    "if len(result) == 0:\n",
    "    raise RuntimeError(\"Given constraint conditions are not satisfied\")\n",
    "\n",
    "# 最良解における目的関数の値 (= 顧客とタクシーの距離の合計)\n",
    "print(f\"objective = {result.best.objective}\")\n",
    "\n",
    "# 最良解におけるバイナリ変数の値\n",
    "solution = q.evaluate(result.best.values)\n",
    "print(f\"solution = {solution}\")"
   ]
  },
  {
   "cell_type": "markdown",
   "metadata": {},
   "source": [
    "決定変数の配列は $i$ 番目の行の $j$ 番目の列に $1$ がある場合は、顧客 $i$ にタクシー $j$ を割り当てるという意味でした。したがって、以下のようにしてどの顧客にどのタクシーをマッチさせるかという情報を取得することができます。"
   ]
  },
  {
   "cell_type": "code",
   "execution_count": null,
   "metadata": {},
   "outputs": [],
   "source": [
    "customers = np.arange(N, dtype=int)\n",
    "taxies = (solution @ np.arange(N)).astype(int)\n",
    "matches = list(zip(customers, taxies))\n",
    "\n",
    "matches"
   ]
  },
  {
   "cell_type": "markdown",
   "metadata": {},
   "source": [
    "最後に、得られた顧客とタクシーのマッチングのデータを可視化します。"
   ]
  },
  {
   "cell_type": "code",
   "execution_count": null,
   "metadata": {},
   "outputs": [],
   "source": [
    "def plot_matching(loc_customers, loc_taxies, matches):\n",
    "    markersize = 100\n",
    "    fig, ax = plt.subplots(nrows=1, ncols=1, figsize=(10, 10))\n",
    "    ax.set_xlabel(\"x\")\n",
    "    ax.set_ylabel(\"y\")\n",
    "    ax.scatter(\n",
    "        loc_customers[:, 0],\n",
    "        loc_customers[:, 1],\n",
    "        label=\"Customers\",\n",
    "        marker=\"o\",\n",
    "        color=\"red\",\n",
    "        s=markersize,\n",
    "    )\n",
    "    ax.scatter(\n",
    "        loc_taxies[:, 0],\n",
    "        loc_taxies[:, 1],\n",
    "        label=\"Taxies\",\n",
    "        marker=\"^\",\n",
    "        color=\"blue\",\n",
    "        s=markersize,\n",
    "    )\n",
    "\n",
    "    for i, j in matches:\n",
    "        xc, yc = loc_customers[i]\n",
    "        xt, yt = loc_taxies[j]\n",
    "        plt.plot([xc, xt], [yc, yt], color=\"green\", linestyle=\"--\")\n",
    "\n",
    "    plt.legend(loc=\"upper right\")\n",
    "\n",
    "    plt.show()\n",
    "\n",
    "\n",
    "plot_matching(loc_customers=loc_customers, loc_taxies=loc_taxies, matches=matches)"
   ]
  },
  {
   "cell_type": "markdown",
   "metadata": {},
   "source": [
    "## タクシーの台数よりも顧客の人数のほうが少ない場合\n",
    "\n",
    "ここでは、タクシーの台数よりも顧客の人数が少ない場合のタクシーマッチング問題を考えます。\n",
    "この場合、各タクシーに割り当てられる顧客の数が0になる場合と1になる場合の両方を考慮して制約条件を立てる必要があります。\n",
    "このような制約条件は不等式制約条件を用いて定式化できます。\n",
    "\n",
    "$N_c$人の顧客と$N_t$台のタクシー($N_c < N_t$)とそれらの座標が与えられ、これまで通り顧客 $i$ と タクシー $j$ の距離を $d_{ij}$ とします。\n",
    "\n",
    "### 目的関数\n",
    "\n",
    "目的関数はこれまでと同様ですが、$N_c$ と $N_t$ が異なる値であることを考慮します。\n",
    "\n",
    "$$\n",
    "\\sum_{i=0}^{N_c-1}\\sum_{j=0}^{N_t - 1}d_{ij}q_{ij}\n",
    "$$\n",
    "\n",
    "\n",
    "### 制約条件\n",
    "\n",
    "顧客よりもタクシーの台数が多いため、すべての顧客に対してタクシーが1台割り当てられます。\n",
    "そのため、顧客$i$に対して、\n",
    "$$\n",
    "\\sum_{j=0}^{N_{\\rm t}-1}q_{ij} = 1 \n",
    "$$\n",
    "が成り立ちます。\n",
    "\n",
    "一方、タクシーに対しては客が一人もいない場合があります。そこで、顧客の人数が0である場合と1である場合の両方を考慮して、不等式による制約を課します。\n",
    "タクシー$j$に対して\n",
    "$$\n",
    "\\sum_{i=0}^{N_{\\rm c} -1}q_{ij} \\le 1\n",
    "$$\n",
    "が成り立ちます。\n"
   ]
  },
  {
   "cell_type": "code",
   "execution_count": null,
   "metadata": {},
   "outputs": [],
   "source": [
    "import numpy as np\n",
    "from amplify import VariableGenerator, sum, less_equal, one_hot, FixstarsClient, solve\n",
    "\n",
    "num_customers = 5  # 顧客の数\n",
    "num_taxies = 8  # タクシーの数\n",
    "\n",
    "# 顧客の座標、タクシーの座標、顧客とタクシーの距離行列を生成\n",
    "loc_customers, loc_taxies, distances = gen_random_locations(num_customers, num_taxies)\n",
    "\n",
    "# QUBO変数を生成\n",
    "gen = VariableGenerator()\n",
    "q = gen.array(\"Binary\", shape=(num_customers, num_taxies))\n",
    "\n",
    "# 目的関数\n",
    "cost = (distances * q).sum()\n",
    "\n",
    "############################################################################################\n",
    "# 制約条件\n",
    "# 等式制約の生成には equal_to, 不等式制約の生成には less_equal を使う\n",
    "############################################################################################\n",
    "\n",
    "customer_has_one_taxi = one_hot(q, axis=1)\n",
    "\n",
    "taxi_has_one_or_less_customer = less_equal(q, 1, axis=0)\n",
    "\n",
    "constraints = customer_has_one_taxi + taxi_has_one_or_less_customer\n",
    "\n",
    "############################################################################################\n",
    "\n",
    "# 目的関数と制約条件オブジェクトを足して論理模型を構築\n",
    "constraints *= np.amax(distances)  # type: ignore\n",
    "model = cost + constraints\n",
    "\n",
    "# クライアントを設定\n",
    "client = FixstarsClient()\n",
    "client.parameters.timeout = timedelta(milliseconds=1000)  # タイムアウト1秒\n",
    "# client.token = \"xxxxxxxxxxxxxxxxxxxxxxxxxxxxxxxx\"  # ローカル環境で使用する場合は、Amplify AEのアクセストークンを入力してください\n",
    "\n",
    "# ソルバーの設定と結果の取得\n",
    "result = solve(model, client)\n",
    "\n",
    "# result が空の場合は制約条件が満たさていない\n",
    "if len(result) == 0:\n",
    "    raise RuntimeError(\"Given constraint conditions are not satisfied\")\n",
    "\n",
    "solution = q.evaluate(result.best.values)\n",
    "\n",
    "customers = np.arange(num_customers, dtype=int)\n",
    "taxies = (solution @ np.arange(num_taxies)).astype(int)\n",
    "matches = list(zip(customers, taxies))  # マッチさせる顧客とタクシーのインデックス\n",
    "\n",
    "# 顧客とタクシーのマッチングをプロット\n",
    "plot_matching(loc_customers=loc_customers, loc_taxies=loc_taxies, matches=matches)"
   ]
  },
  {
   "cell_type": "code",
   "execution_count": null,
   "metadata": {},
   "outputs": [],
   "source": []
  }
 ],
 "metadata": {
  "language_info": {
   "name": "python",
   "pygments_lexer": "ipython3"
  }
 },
 "nbformat": 4,
 "nbformat_minor": 4
}
