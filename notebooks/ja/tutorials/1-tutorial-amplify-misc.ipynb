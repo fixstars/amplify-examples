{
 "cells": [
  {
   "cell_type": "markdown",
   "metadata": {},
   "source": [
    "# Amplifyの機能(多項式の生成)\n",
    "\n",
    "この節ではAmplify を用いたイジングマシンのプログラミングを通して Amplify の機能の紹介をしていきます。\n",
    "詳細は [公式ドキュメント](https://amplify.fixstars.com/docs/polynomial.html) を参照してください。\n",
    "\n"
   ]
  },
  {
   "attachments": {},
   "cell_type": "markdown",
   "metadata": {},
   "source": [
    "## 二値変数多項式の構築\n",
    "\n",
    "$n$ 変数の二値変数多項式 $f_n$​ は次のように表されます。\n",
    "\n",
    "$\\displaystyle f_n(x_1, x_2, \\cdots, x_n) = \\sum_{\\{k_1,k_2, \\cdots, k_n\\}}a_{k_1k_2\\cdots k_n}x_1^{k_i}x_2^{k_2}\\cdots x_n^{k_n}\\,\\quad k_i\\in\\{0, 1\\}$\n",
    "\n",
    "$x_i$ は二値変数で、バイナリ変数 $q_i \\in \\{0,1\\}$ 、またはイジング変数 $s_i \\in \\{−1, +1\\}$です。また、$a_{k_1k_2\\cdots k_n}$ は多項式の係数です。\n",
    "\n",
    "Amplify では、二値多変数多項式を表現するために以下の多項式クラスが提供されています。\n",
    "\n",
    "* `BinaryPoly` (バイナリ変数による多項式)\n",
    "* `IsingPoly` (イジング変数による多項式)\n",
    "\n",
    "Amplify では `SymbolGenerator` を用いることによって二値変数を多次元配列の形式で生成することができます。また、生成した二値変数に対して積`*`や和`+`の演算を用いることで多項式を生成できます。"
   ]
  },
  {
   "cell_type": "code",
   "execution_count": null,
   "metadata": {},
   "outputs": [],
   "source": [
    "from amplify import (\n",
    "    SymbolGenerator,\n",
    "    BinaryPoly,\n",
    "    IsingPoly,\n",
    ")\n",
    "\n",
    "# 4要素の1次元配列のバイナリ変数\n",
    "gen_b = SymbolGenerator(BinaryPoly)\n",
    "q_1d = gen_b.array(4)\n",
    "print(q_1d)\n",
    "\n",
    "# 3x2 の 2次元配列型のイジング変数\n",
    "gen_i = SymbolGenerator(IsingPoly)\n",
    "s_2d = gen_i.array(3, 2)\n",
    "print(s_2d)"
   ]
  },
  {
   "cell_type": "markdown",
   "metadata": {},
   "source": [
    "定義した変数を用いて多項式を生成したり、多項式を使った演算を行うことも可能です。\n"
   ]
  },
  {
   "cell_type": "code",
   "execution_count": null,
   "metadata": {},
   "outputs": [],
   "source": [
    "gen = SymbolGenerator(BinaryPoly)\n",
    "q = gen.array(4)\n",
    "\n",
    "# q_0 * q_1 + q_2\n",
    "f0 = q[0] * q[1] + q[2]\n",
    "\n",
    "# q_1 + q_3 + 1\n",
    "f1 = q[1] + q[3] + 1\n",
    "\n",
    "# (q_0 * q_1 + q_2) + (q_1 + q_3 + 1)\n",
    "f2 = f0 + f1\n",
    "\n",
    "# (q_1 + q_3 + 1) * (q_1 + q_3 + 1)\n",
    "f3 = f1 ** 2\n",
    "\n",
    "print(f\"f0 = {f0}\")\n",
    "print(f\"f1 = {f1}\")\n",
    "print(f\"f2 = {f2}\")\n",
    "print(f\"f3 = {f3}\")"
   ]
  },
  {
   "attachments": {},
   "cell_type": "markdown",
   "metadata": {},
   "source": [
    "複数の配列を生成することも可能です。先ほどの変数ジェネレータ `SymbolGenerator` を用いて、何度でも array() メソッドを呼び出すことが出来ます。"
   ]
  },
  {
   "cell_type": "code",
   "execution_count": null,
   "metadata": {},
   "outputs": [],
   "source": [
    "from amplify import BinaryPoly, SymbolGenerator\n",
    "\n",
    "# BinaryPoly の変数ジェネレータを定義\n",
    "gen = SymbolGenerator(BinaryPoly)  # BinarySymbolGenerator を用いても同様\n",
    "q1 = gen.array(4, 4)  # 4 x 4 の変数配列を生成\n",
    "q2 = gen.array(shape=(2, 3)) # 2 x 3 の変数配列を生成\n",
    "\n",
    "print(q1)\n",
    "print(q2)\n"
   ]
  },
  {
   "attachments": {},
   "cell_type": "markdown",
   "metadata": {},
   "source": [
    "変数配列 `q1` と `q2` の実体は異なるインデックスであることに注意してください。変数配列を生成する度に、実体のインデックスは一つずつ増加していきます。つまり、異なる変数配列は異なる変数の集合として扱われます。"
   ]
  },
  {
   "cell_type": "markdown",
   "metadata": {},
   "source": [
    "## 数学関数\n",
    "\n",
    "Amplify では、多項式クラスのための 定式化補助関数 として、次の三つの関数が実装されています。\n",
    "\n",
    "* 全ての和 $\\sum_i$ に相当する `sum_poly()` \n",
    "* 関数全ての組合せの和 $\\sum_{i \\neq j}$ に相当する `pair_sum()`\n",
    "* 全ての積 $\\prod_i$ に相当する `product()` \n",
    "\n",
    "これらの定式化補助関数の利用方法についていくつか例を挙げます。\n",
    "\n",
    "#### 例1: $\\displaystyle f_0 = \\sum_{i = 0}^{n-1}q_i$ の定式化"
   ]
  },
  {
   "cell_type": "code",
   "execution_count": null,
   "metadata": {},
   "outputs": [],
   "source": [
    "from amplify import sum_poly, BinarySymbolGenerator\n",
    "\n",
    "# バイナリ変数を1次元配列形式に8個生成\n",
    "gen = BinarySymbolGenerator()\n",
    "q = gen.array(8)\n",
    "print(q)\n",
    "\n",
    "# 二値変数や多項式のリストを指定すると、その総和を計算\n",
    "f0 = sum_poly(q)\n",
    "\n",
    "print(f\"f0 = {f0}\")"
   ]
  },
  {
   "cell_type": "markdown",
   "metadata": {},
   "source": [
    "#### 例2: $\\displaystyle f_1 = \\sum_{i = 0}^{n-1}\\sum_{j = 0}^{n-1}q_iq_j$ の定式化"
   ]
  },
  {
   "cell_type": "code",
   "execution_count": null,
   "metadata": {},
   "outputs": [],
   "source": [
    "# バイナリ変数を3個生成\n",
    "gen = BinarySymbolGenerator()\n",
    "q = gen.array(3)\n",
    "print(q)\n",
    "\n",
    "# インデックスを受け取る関数とインデックスの上限値を指定して、総和を取ることも可能\n",
    "f1 = sum_poly(3, lambda i: sum_poly(3, lambda j: q[i] * q[j]))\n",
    "\n",
    "print(f\"f1 = {f1}\")"
   ]
  },
  {
   "cell_type": "markdown",
   "metadata": {},
   "source": [
    "#### 例3: $\\displaystyle f_2 = \\sum_{i=0}^{n-1}\\left(\\sum_{j=0}^{n-1}q_{ij} - 1\\right)^2$ の定式化"
   ]
  },
  {
   "cell_type": "code",
   "execution_count": null,
   "metadata": {},
   "outputs": [],
   "source": [
    "# 2x2のバイナリ変数を生成\n",
    "gen = BinarySymbolGenerator()\n",
    "q = gen.array(2, 2)\n",
    "print(q)\n",
    "\n",
    "# 2乗と四則演算を含む数式の2重和\n",
    "f2 = sum_poly(2, lambda i: (sum_poly(2, lambda j: q[i, j]) - 1) ** 2)\n",
    "\n",
    "print(f\"f2 = {f2}\")"
   ]
  },
  {
   "cell_type": "markdown",
   "metadata": {},
   "source": [
    "#### 例4: $\\displaystyle f_3 = \\sum_{i \\neq j} q_iq_j$ の定式化"
   ]
  },
  {
   "cell_type": "code",
   "execution_count": null,
   "metadata": {},
   "outputs": [],
   "source": [
    "from amplify import pair_sum\n",
    "\n",
    "# バイナリ変数を3個生成\n",
    "gen = BinarySymbolGenerator()\n",
    "q = gen.array(3)\n",
    "print(q)\n",
    "\n",
    "f3 = pair_sum(q)\n",
    "\n",
    "print(f\"f3 = {f3}\")"
   ]
  },
  {
   "cell_type": "markdown",
   "metadata": {},
   "source": [
    "#### 例5: $\\displaystyle f_4 = \\prod_{i = 0}^{n-1} q_i$ の定式化"
   ]
  },
  {
   "cell_type": "code",
   "execution_count": null,
   "metadata": {},
   "outputs": [],
   "source": [
    "from amplify import product\n",
    "\n",
    "# バイナリ変数を3個生成\n",
    "gen = BinarySymbolGenerator()\n",
    "q = gen.array(3)\n",
    "print(f\"q = {q}\")\n",
    "\n",
    "f4 = product(q)\n",
    "\n",
    "print(f\"f4 = {f4}\")"
   ]
  },
  {
   "cell_type": "markdown",
   "metadata": {},
   "source": [
    "## コンストラクタを用いた二値変数多項式の構築\n",
    "\n",
    "多項式のコンストラクタ`BinaryPoly`と`IsingPoly`から直接多項式を構築することも可能です。\n",
    "\n",
    "二値多変数多項式の任意の項を作るには、上記のクラスのコンストラクタの引数に以下の形式の辞書を入れます。\n",
    "\n",
    "$kx_{i}x_{j}\\cdots x_{m} \\rightarrow $ `{(i, j, ..., m): k}`\n",
    "\n",
    "複数の項は辞書の形にまとめることもできます。\n",
    "\n",
    "$k_2 x_ix_j + k_1 x_l + c \\rightarrow $ `{(i, j): k2, (l): k1, (): c)}`\n",
    "\n",
    "以下に基本的な例を示します。"
   ]
  },
  {
   "cell_type": "code",
   "execution_count": null,
   "metadata": {},
   "outputs": [],
   "source": [
    "from amplify import BinaryPoly\n",
    "\n",
    "# q_0\n",
    "f0 = BinaryPoly({(0): 1})\n",
    "\n",
    "# 2 * q_0 * q_1 + 1\n",
    "f1 = BinaryPoly({(0, 1): 2, (): 1})\n",
    "\n",
    "\n",
    "print(f\"f0 = {f0}\")\n",
    "print(f\"f1 = {f1}\")"
   ]
  },
  {
   "cell_type": "markdown",
   "metadata": {},
   "source": [
    "イジング多項式を扱う際には IsingPoly を使います。"
   ]
  },
  {
   "cell_type": "code",
   "execution_count": null,
   "metadata": {},
   "outputs": [],
   "source": [
    "from amplify import IsingPoly\n",
    "\n",
    "# s_0\n",
    "f0 = IsingPoly({(0): 1})\n",
    "\n",
    "# 2 * s_0 * s_1 + 1\n",
    "f1 = IsingPoly({(0, 1): 2, (): 1})\n",
    "\n",
    "\n",
    "print(f\"f0 = {f0}\")\n",
    "print(f\"f1 = {f1}\")"
   ]
  }
 ],
 "metadata": {
  "kernelspec": {
   "display_name": ".venv",
   "language": "python",
   "name": "python3"
  },
  "language_info": {
   "codemirror_mode": {
    "name": "ipython",
    "version": 3
   },
   "file_extension": ".py",
   "mimetype": "text/x-python",
   "name": "python",
   "nbconvert_exporter": "python",
   "pygments_lexer": "ipython3",
   "version": "3.10.6"
  }
 },
 "nbformat": 4,
 "nbformat_minor": 4
}
