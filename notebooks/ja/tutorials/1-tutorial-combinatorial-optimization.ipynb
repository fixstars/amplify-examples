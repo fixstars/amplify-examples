{
 "cells": [
  {
   "cell_type": "markdown",
   "metadata": {},
   "source": [
    "## 組合せ最適化問題\n",
    "\n",
    "### 組合せ最適化問題とは\n",
    "\n",
    "そもそも最適化問題とは、「さまざまな制約の下で、数ある選択肢の中からある観点で最適な選択を決定\n",
    "する」ような問題を指します。最適化問題の例として以下のようなものがあります。\n",
    "\n",
    "* 製品の高性能化、製造過程の効率化、コスト削減、歩留まり向上\n",
    "* 商品の発注計画、効率的な物流ルート、金融資産の運用\n",
    "* 災害復旧スケジュール、公共施設の配置、エネルギー需給バランス\n",
    "\n",
    "このような問題を数式(数理モデル)で記述し、数理的な計算手法で最善策を求めることを「数理最適化」といいます。\n",
    "\n",
    "### 数理モデルの構成要素\n",
    "\n",
    "* 目的関数: 目的達成度を表す数式 (最小あるいは最大化)\n",
    "* 決定変数: 選択肢となる変数\n",
    "* 制約条件: 決定変数間の取り得る条件式(制約関数)\n"
   ]
  },
  {
   "cell_type": "markdown",
   "metadata": {},
   "source": [
    "## 数の分割問題\n",
    "\n",
    "組合せ最適化問題の具体例として、数の分割問題について考えてみます。\n",
    "\n",
    "$n$ 個の整数の集合 $A$ が\n",
    "\n",
    "$$\n",
    "A = \\{a_0, a_1, \\cdots, a_{n-1} \\}\n",
    "$$\n",
    "\n",
    "で与えられているとします。 $A$ を二つの集合 $A_0$ と $A_1$ に分割することを考えます。以下のような問題が数の分割問題です。\n",
    "\n",
    "* 判定問題: 「$A_0$ の要素の和」と「$A_1$ の要素の和」が等しくなるような集合の分割が存在するか判定する\n",
    "* 最適化問題: 「$A_0$ の要素の和」と 「$A_1$ の要素の和」の差が最小となる集合の分割を求める\n",
    "\n",
    "### 具体例\n",
    "\n",
    "10個の整数の集合 $A=\\{2,10,3,8,5,7,9,5,3,2\\}$ の分割を考えてみます。\n",
    "\n",
    "例えば $A_0=\\{2,3,5,7,10\\}, A_1=\\{2,3,5,8,9\\}$のように分割すると、それぞれの集合の要素の和が等しいことが確認できます。\n",
    "よって、判定問題としては「存在する」が解答となり、最適化問題としては上記の $A_0, A_1$ が解答となります。\n",
    "\n",
    "### QUBO模型、イジング模型による定式化\n",
    "\n",
    "ここでは、数の分割問題のうち、最適化問題を解くことを考えます。\n",
    "#### 決定変数の定義\n",
    "\n",
    "集合 $A$ に属する $n$ 個の各要素に対応した $n$ 個のバイナリ変数とイジング変数を\n",
    "$$\n",
    "\\begin{align}\n",
    "q_i &\\in\\{0, 1\\}\\quad (i=0, 1, \\cdots, n-1) \\quad \\text{(Binary)}\\\\\n",
    "s_i &\\in\\{-1, 1\\}\\quad (i=0, 1, \\cdots, n-1) \\quad \\text{(Ising)}\n",
    "\\end{align}\n",
    "$$\n",
    "とします。これらの変数は、$q_i=0$ ($s_i=-1$) の場合は $a_i$ は $A_0$ に属し、$q_i=1$ ($s_i=1$) の場合は $a_i$ は $A_1$ に属することを意味します。\n",
    "集合 $A_0$ の要素の和を $S_0$、集合 $A_1$ の要素の和を$S_1$とします。\n",
    "$$\n",
    "\\begin{align}\n",
    "S_0 &= \\sum_{a_i\\in A_0}a_i\\\\\n",
    "S_1 &= \\sum_{a_i\\in A_1}a_i\n",
    "\\end{align}\n",
    "$$\n",
    "\n",
    "#### 目的関数\n",
    "次に、目的関数を作成することを考えます。\n",
    "目的関数は上記のバイナリ変数、もしくはイジング変数の関数であり、求めるべき条件が満たされた場合に最小値をとるような関数です。\n",
    "ここでは、 $S_0 = S_1$ の条件を満たす分割を探すため、目的関数を $(S_1 - S_0)^2$ とすると、条件が満たされた時に $0$ となり最小値をとります。\n",
    "したがって、バイナリ変数、またはイジング変数を使うと、目的関数 $f$ は以下のように書き下すことができます。\n",
    "\n",
    "$$\n",
    "\\begin{align}\n",
    "f &= \\left(S_1 - S_0\\right)^2\n",
    "= \\left(\\sum_{a_i\\in A_1}a_i - \\sum_{a_i\\in A_0}a_i\\right)^2\\\\\n",
    "&= \\left(\\sum_{i=0}^{n-1}(2q_i -1)a_i\\right)^2 \\quad \\text{(Binary)}\\\\\n",
    "&= \\left(\\sum_{i=0}^{n-1} a_i s_i \\right)^2\\quad \\text{(Ising)}\n",
    "\\end{align}\n",
    "$$\n",
    "\n",
    "1行目から2行目（3行目）への変換は、$q_i=1$ ($s_i=1$) または $q_i=0$ ($s_i=-1$) によって、$a_i$ は $A_0$ または $A_1$ に割り当てられることを使いました。\n",
    "$f$ の値が $0$ かどうか確認することで、条件を満たす分割がなされたかどうかを確かめることができます。\n"
   ]
  },
  {
   "cell_type": "markdown",
   "metadata": {},
   "source": [
    "## Amplifyによる実装\n",
    "\n",
    "### イジング変数による実装\n",
    "\n",
    "イジング変数は $s_i\\in\\{1, -1\\}$ の二値変数です。`gen_symbols` に渡す引数に `IsingPoly` を与えることでイジング変数の配列を生成することができます。\n",
    "\n",
    "イジング変数を用いた目的関数は次のように与えられます。\n",
    "\n",
    "$$\n",
    "f = \\left(\\sum_{i=0}^{N-1}s_ia_i\\right)^2\n",
    "$$\n",
    "\n",
    "これをAmplifyで実装してみます。\n"
   ]
  },
  {
   "cell_type": "code",
   "execution_count": null,
   "metadata": {},
   "outputs": [],
   "source": [
    "from amplify import (\n",
    "    gen_symbols,\n",
    "    IsingPoly,\n",
    ")\n",
    "\n",
    "# 数の集合Aに対応する数のリスト\n",
    "A = [2, 10, 3, 8, 5, 7, 9, 5, 3, 2]\n",
    "\n",
    "# len(A): 変数の数\n",
    "n = len(A)\n",
    "\n",
    "# イジング変数を生成\n",
    "s = gen_symbols(IsingPoly, n)\n",
    "\n",
    "# 変数を確認\n",
    "print(s)"
   ]
  },
  {
   "cell_type": "markdown",
   "metadata": {},
   "source": [
    "#### 目的関数の構築\n",
    "\n",
    "数のリスト $A$ と先ほど生成したイジング変数を用いて目的関数を構築します。"
   ]
  },
  {
   "cell_type": "code",
   "execution_count": null,
   "metadata": {},
   "outputs": [],
   "source": [
    "# 目的関数の構築: イジング\n",
    "f = IsingPoly()\n",
    "\n",
    "for i in range(n):\n",
    "    f += s[i] * A[i]\n",
    "\n",
    "f = f ** 2"
   ]
  },
  {
   "cell_type": "markdown",
   "metadata": {},
   "source": [
    "イジングマシンで問題を実行してみます。"
   ]
  },
  {
   "cell_type": "code",
   "execution_count": null,
   "metadata": {},
   "outputs": [],
   "source": [
    "from amplify.client import FixstarsClient\n",
    "from amplify import Solver\n",
    "from amplify import decode_solution\n",
    "\n",
    "# クライアントの設定\n",
    "client = FixstarsClient()\n",
    "client.parameters.timeout = 1000  # タイムアウト1秒\n",
    "# client.token = \"xxxxxxxxxxxxxxxxxxxxxxxxxxxxxxxx\"  # ローカル環境で使用する場合は、Amplify AEのアクセストークンを入力してください\n",
    "client.parameters.outputs.duplicate = True  # 同じエネルギー値の解を列挙\n",
    "\n",
    "solver = Solver(client)\n",
    "result = solver.solve(f)"
   ]
  },
  {
   "cell_type": "code",
   "execution_count": null,
   "metadata": {},
   "outputs": [],
   "source": [
    "# 解が得られなかった場合、len(result) == 0\n",
    "if len(result) == 0:\n",
    "    raise RuntimeError(\"No solution was found\")\n",
    "\n",
    "energy = result[0].energy\n",
    "values = result[0].values\n",
    "\n",
    "# エネルギー値 (f の最小値) を確認\n",
    "print(f\"f = {energy}\")\n",
    "\n",
    "# valuesを確認\n",
    "# 変数 s_i の i=0, 1, ..., N-1 の値を格納した辞書\n",
    "print(f\"values = {values}\")"
   ]
  },
  {
   "cell_type": "markdown",
   "metadata": {},
   "source": [
    "$f$ の値が $0$ となる解となっているので、条件を満たす解が見つかったことがわかります。\n",
    "\n",
    "見つかった解を元の変数 `s` に代入するには、`decode_solution` を使うと便利です。"
   ]
  },
  {
   "cell_type": "code",
   "execution_count": null,
   "metadata": {},
   "outputs": [],
   "source": [
    "from amplify import decode_solution\n",
    "\n",
    "solution = decode_solution(s, values)\n",
    "\n",
    "print(solution)"
   ]
  },
  {
   "cell_type": "markdown",
   "metadata": {},
   "source": [
    "最後に、得られた解を元に、集合 $A$ の数字を二つのグループに分割します。\n",
    "\n",
    "二つのリスト $A_0$ と $A_1$ を用意し、解が $0$ に対応する数字は $A_0$に、そうで無い場合は $A_1$ に割り振ります。"
   ]
  },
  {
   "cell_type": "code",
   "execution_count": null,
   "metadata": {},
   "outputs": [],
   "source": [
    "A0 = sorted([A[idx] for idx, val in enumerate(solution) if val != 1])\n",
    "A1 = sorted([A[idx] for idx, val in enumerate(solution) if val == 1])\n",
    "\n",
    "print(f\"A0 = {A0}\")\n",
    "print(f\"A1 = {A1}\")"
   ]
  },
  {
   "cell_type": "markdown",
   "metadata": {},
   "source": [
    "$A_0$ と $A_1$ のそれぞれの数字の和が等しいことを確かめます。和は 27 となっていることが確認できます。"
   ]
  },
  {
   "cell_type": "code",
   "execution_count": null,
   "metadata": {},
   "outputs": [],
   "source": [
    "print(f\"{sum(A0) == sum(A1)}, {sum(A0)}\")"
   ]
  },
  {
   "cell_type": "markdown",
   "metadata": {},
   "source": [
    "### 複数の解を得る方法\n",
    "\n",
    "先ほどの問題では、解を一つだけ得る方法を紹介しました。しかしながら、この問題では、条件を満たす解は複数個見つけることができます。この分割問題の設定では、条件は目的関数が $0$ であることと等価であるため、条件を満たす解が複数個ある場合は、エネルギー値が $0.0$ である解が複数個あるということになります。一部のマシンは、同じエネルギーを持つ解を複数得ること出来ます。Fixstars Optigan の場合はパラメータ `client.parameters.outputs.duplicate` を `True` に設定することで複数の解が出力されます。"
   ]
  },
  {
   "cell_type": "code",
   "execution_count": null,
   "metadata": {},
   "outputs": [],
   "source": [
    "from amplify.client import FixstarsClient\n",
    "from amplify import Solver\n",
    "\n",
    "client = FixstarsClient()\n",
    "client.parameters.timeout = 1000  # タイムアウト1秒\n",
    "# client.token = \"xxxxxxxxxxxxxxxxxxxxxxxxxxxxxxxx\"  # ローカル環境で使用する場合は、Amplify AEのアクセストークンを入力してください\n",
    "client.parameters.outputs.duplicate = True  # 同じエネルギー値の解を列挙するオプション（解が複数個あるため）\n",
    "\n",
    "solver = Solver(client)\n",
    "result = solver.solve(f)"
   ]
  },
  {
   "cell_type": "markdown",
   "metadata": {},
   "source": [
    "解が複数個あることは以下のようにして確かめることができます。46個の解が見つかるはずです。"
   ]
  },
  {
   "cell_type": "code",
   "execution_count": null,
   "metadata": {},
   "outputs": [],
   "source": [
    "len(result)"
   ]
  },
  {
   "cell_type": "markdown",
   "metadata": {},
   "source": [
    "次に、見つけてきた複数の解を元の変数に代入して全ての分割を求めます。$(A_1, A_0)$ と $(A_0, A_1)$ の組合せを同一視する必要があることに注意して下さい。"
   ]
  },
  {
   "cell_type": "code",
   "execution_count": null,
   "metadata": {},
   "outputs": [],
   "source": [
    "from amplify import decode_solution\n",
    "\n",
    "partitions = set()\n",
    "\n",
    "for sol in result:\n",
    "    solution = decode_solution(s, sol.values)\n",
    "\n",
    "    A0 = tuple(sorted([A[idx] for idx, val in enumerate(solution) if val != 1]))\n",
    "    A1 = tuple(sorted([A[idx] for idx, val in enumerate(solution) if val == 1]))\n",
    "\n",
    "    # 同じ分割がすでにリストに含まれていない場合\n",
    "    if (A1, A0) not in partitions:\n",
    "        partitions.add((A0, A1))\n",
    "\n",
    "for p in partitions:\n",
    "    print(f\"sum = {sum(p[0])}, {sum(p[1])}, partition: {p}\")"
   ]
  },
  {
   "cell_type": "markdown",
   "metadata": {},
   "source": [
    "### バイナリ変数での実装\n",
    "\n",
    "バイナリ変数は $q_i\\in\\{1, 0\\}$ の二値変数です。`gen_symbols` に渡す引数に `BinaryPoly` を与えることでバイナリ変数の配列を生成することができます。\n",
    "\n",
    "バイナリ変数を用いた目的関数は次のように与えられます。\n",
    "\n",
    "$$\n",
    "f = \\left(\\sum_{i=0}^{N-1}(2q_i -1)a_i\\right)^2\n",
    "$$\n",
    "\n",
    "これをAmplifyで実装してみます。"
   ]
  },
  {
   "cell_type": "code",
   "execution_count": null,
   "metadata": {},
   "outputs": [],
   "source": [
    "from amplify import (\n",
    "    gen_symbols,\n",
    "    BinaryPoly,\n",
    ")\n",
    "\n",
    "# 数の集合Aに対応する数のリスト\n",
    "A = [2, 10, 3, 8, 5, 7, 9, 5, 3, 2]\n",
    "\n",
    "# 変数の数\n",
    "n = len(A)\n",
    "\n",
    "# バイナリ変数を生成\n",
    "q = gen_symbols(BinaryPoly, n)\n",
    "\n",
    "# 目的関数の構築: バイナリ\n",
    "f = BinaryPoly()\n",
    "\n",
    "for i in range(n):\n",
    "    f += (2 * q[i] - 1) * A[i]\n",
    "\n",
    "f = f ** 2"
   ]
  },
  {
   "cell_type": "markdown",
   "metadata": {},
   "source": [
    "イジング変数の場合と同様に実行してみます。"
   ]
  },
  {
   "cell_type": "code",
   "execution_count": null,
   "metadata": {},
   "outputs": [],
   "source": [
    "from amplify.client import FixstarsClient\n",
    "from amplify import Solver\n",
    "\n",
    "client = FixstarsClient()\n",
    "client.parameters.timeout = 1000  # タイムアウト1秒\n",
    "# client.token = \"xxxxxxxxxxxxxxxxxxxxxxxxxxxxxxxx\"  # ローカル環境で使用する場合は、Amplify AEのアクセストークンを入力してください\n",
    "client.parameters.outputs.duplicate = True  # 同じエネルギー値の解を列挙するオプション（解が複数個あるため）\n",
    "\n",
    "solver = Solver(client)\n",
    "result = solver.solve(f)\n",
    "\n",
    "from amplify import decode_solution\n",
    "\n",
    "partitions = set()\n",
    "\n",
    "for sol in result:\n",
    "    solution = decode_solution(q, sol.values)\n",
    "\n",
    "    A0 = tuple(sorted([A[idx] for idx, val in enumerate(solution) if val != 1]))\n",
    "    A1 = tuple(sorted([A[idx] for idx, val in enumerate(solution) if val == 1]))\n",
    "\n",
    "    # 同じ分割がすでにリストに含まれていない場合\n",
    "    if (A1, A0) not in partitions:\n",
    "        partitions.add((A0, A1))\n",
    "\n",
    "for p in partitions:\n",
    "    print(f\"sum = {sum(p[0])}, {sum(p[1])}, partition: {p}\")"
   ]
  },
  {
   "cell_type": "markdown",
   "metadata": {},
   "source": [
    "イジング変数で解いた場合と同様の解が得られました。"
   ]
  }
 ],
 "metadata": {
  "language_info": {
   "name": "python",
   "pygments_lexer": "ipython3"
  }
 },
 "nbformat": 4,
 "nbformat_minor": 4
}
