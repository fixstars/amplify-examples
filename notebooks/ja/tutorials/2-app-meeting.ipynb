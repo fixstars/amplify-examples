{
 "cells": [
  {
   "cell_type": "markdown",
   "metadata": {},
   "source": [
    "# 会議割り当て問題\n",
    "\n",
    "会議割り当て問題は、複数の会議のスケジュールと複数の会議室が与えられている場合に、なるべく多くの会議が開催できるように会議室を割り当てる問題です。本課題では、この問題に対応したQUBO模型を構築し、アニーリングマシンにより問題を解くことを考えます。\n",
    "\n",
    "まず、データとして、各会議の開始時間と終了時間が与えられているとします。ここでは時間は文字列で `\"10:40\"` の形式で与えられているとします。さらにデータとして、会議名をキーとし、その会議の開始・終了時間のリストを値とした辞書で会議スケジュールの情報を持つことにします。また、会議の数と、利用可能な会議室の数も定義しておきます。"
   ]
  },
  {
   "cell_type": "code",
   "execution_count": null,
   "metadata": {},
   "outputs": [],
   "source": [
    "# 会議のスケジュール\n",
    "schedules = {\n",
    "    \"meeting1\": [\"10:00\", \"13:00\"],\n",
    "    \"meeting2\": [\"10:00\", \"12:00\"],\n",
    "    \"meeting3\": [\"10:00\", \"11:00\"],\n",
    "    \"meeting4\": [\"11:00\", \"13:00\"],\n",
    "    \"meeting5\": [\"11:00\", \"12:00\"],\n",
    "    \"meeting6\": [\"11:00\", \"15:00\"],\n",
    "    \"meeting7\": [\"12:00\", \"16:00\"],\n",
    "    \"meeting8\": [\"12:00\", \"15:00\"],\n",
    "    \"meeting9\": [\"13:00\", \"15:00\"],\n",
    "    \"meeting10\": [\"13:00\", \"14:00\"],\n",
    "    \"meeting11\": [\"14:00\", \"17:00\"],\n",
    "    \"meeting12\": [\"15:00\", \"19:00\"],\n",
    "    \"meeting13\": [\"15:00\", \"17:00\"],\n",
    "    \"meeting14\": [\"15:00\", \"16:00\"],\n",
    "    \"meeting15\": [\"16:00\", \"18:00\"],\n",
    "    \"meeting16\": [\"16:00\", \"18:00\"],\n",
    "    \"meeting17\": [\"17:00\", \"19:00\"],\n",
    "    \"meeting18\": [\"17:00\", \"18:00\"],\n",
    "    \"meeting19\": [\"18:00\", \"19:00\"],\n",
    "}\n",
    "\n",
    "# 会議の数\n",
    "Nm = len(schedules)\n",
    "\n",
    "# 会議室の数\n",
    "Nr = 8"
   ]
  },
  {
   "cell_type": "markdown",
   "metadata": {},
   "source": [
    "次に、会議の時間を比べるために、与えられた時刻を数値で返す関数 `time2num` と、二つの会議のスケジュールが重なりあうかどうかをチェックする関数 `check_overlap` を用意します。"
   ]
  },
  {
   "cell_type": "code",
   "execution_count": null,
   "metadata": {},
   "outputs": [],
   "source": [
    "# 時刻を時間単位の数値に変換\n",
    "def time2num(time: str):\n",
    "    h, m = map(float, time.split(\":\"))\n",
    "    return h + m / 60\n",
    "\n",
    "\n",
    "# 2つの会議時間に重なりがあるかをチェック\n",
    "def check_overlap(time_slot1, time_slot2):\n",
    "    start1, end1 = map(time2num, time_slot1)\n",
    "    start2, end2 = map(time2num, time_slot2)\n",
    "\n",
    "    return start1 < end2 and start2 < end1"
   ]
  },
  {
   "cell_type": "markdown",
   "metadata": {},
   "source": [
    "これで与えられた会議の情報を数値化する準備が整いました。次に、どのようにしてこの問題を組合せ最適化問題として表現するかを考えます。\n",
    "\n",
    "まず基本方針として、各会議がどの会議室で開催されるかを変数で表すことを考えます。しかし、QUBO変数やイジング変数のような二値変数では任意の数の状態を持つことが出来ません。そこで、各会議に会議室の数だけ決定変数を割り当てます。\n",
    "\n",
    "例えば、会議 $i$ を 会議室 $r$ で行うことを表す変数を $q_{i, r}$ とします。$q_{i, r} = 1$ であれば会議 $i$ を会議室 $r$ に割り当て、$q_{i, r} = 0$ であれば割り当てないと考えることができます。\n",
    "\n",
    "\n",
    "|会議 \\ 会議室| $0$ | $1$ | ... | $N_r-1$|  \n",
    "|:---:|:---:|:---:|:---:|:---:|\n",
    "|$0$| $q_{0,0}$ | $q_{0,1}$ | ... | $q_{0,N_r-1}$|\n",
    "|$1$| $q_{1,0}$ | $q_{1,1}$ | ... | $q_{1,N_r-1}$|\n",
    "|$\\vdots$| $\\vdots$ | $\\vdots$ | ... | $\\vdots$|\n",
    "|$N_m -1$| $q_{N_m-1,0}$ | $q_{N_m-1,1}$ | ... | $q_{N_m-1,N_r-1}$|\n",
    "\n",
    "次に、同じ会議室には複数の会議を重ねて割り当てることができないという制約について考えます。\n",
    "\n",
    "スケジュールの重なりのある会議をまとめたリストを構築しておきます。例えば、会議 $i$ と $j$ にスケジュールの重なりがある場合、タプル $(i, j)$ を構築し、このリストに格納します。「スケジュールの重なりが無いように各会議を会議室に割り当てる問題」は、「二つの会議 $(i, j)$ が上記のリストに含まれる場合、同じ会議室を割り当てないように会議を配置する問題」となります。\n",
    "\n",
    "次のようにして、上記に定義した `check_overlap` 関数を用いて会議のスケジュールの重なりを調べ、それをもとにスケジュールに重なりがある二つの会議 $(i, j)$ を `overlaps` リストに追加していきます。"
   ]
  },
  {
   "cell_type": "code",
   "execution_count": null,
   "metadata": {},
   "outputs": [],
   "source": [
    "import itertools\n",
    "\n",
    "# 会議名のリストを取得\n",
    "mtg_names = list(schedules.keys())\n",
    "\n",
    "# 会議室名とインデックスの辞書を作成\n",
    "mtg_name2idx = {mtg_names[i]: i for i in range(Nm)}\n",
    "\n",
    "# スケジュールの重なりがある会議のインデックスをタプルで格納\n",
    "overlaps = []\n",
    "for mtg1, mtg2 in itertools.combinations(mtg_names, 2):\n",
    "    if check_overlap(schedules[mtg1], schedules[mtg2]):\n",
    "        overlaps.append(tuple(sorted([mtg_name2idx[mtg1], mtg_name2idx[mtg2]])))"
   ]
  },
  {
   "cell_type": "markdown",
   "metadata": {},
   "source": [
    "次に、`Nm` 個ある会議それぞれに `Nr` 個の会議室を対応させた、 `Nm` × `Nr` 個のQUBO変数を定義します。会議のインデックス $i$、会議室のインデックス $r$ に対応する変数を $q_{i, r}$ とします。"
   ]
  },
  {
   "cell_type": "code",
   "execution_count": null,
   "metadata": {},
   "outputs": [],
   "source": [
    "from amplify import gen_symbols, BinaryPoly\n",
    "\n",
    "# 決定変数を (Nm x Nr) の配列の形式で定義\n",
    "q = gen_symbols(BinaryPoly, Nm, Nr)"
   ]
  },
  {
   "cell_type": "markdown",
   "metadata": {},
   "source": [
    "QUBO変数を用いて制約条件を作成します。\n",
    "\n",
    "まず、一つの会議は一つの会議室に割り当てられる必要があるので、\n",
    "\n",
    "$\n",
    "\\displaystyle\\sum_{r=0}^{\\text{Nr} - 1}q_{i, r} = 1\n",
    "$\n",
    "\n",
    "という one-hot 制約を課します。\n",
    "\n"
   ]
  },
  {
   "cell_type": "code",
   "execution_count": null,
   "metadata": {},
   "outputs": [],
   "source": [
    "from amplify import sum_poly\n",
    "from amplify.constraint import equal_to\n",
    "\n",
    "# 一つの会議に一つの会議室を割り当てるための one-hot 制約\n",
    "# equal_to 関数と sum_poly 関数を用いて書けます\n",
    "room_constraints = sum(\n",
    "    [equal_to(sum_poly(Nr, lambda r: q[i][r]), 1) for i in range(Nm)]\n",
    ")"
   ]
  },
  {
   "cell_type": "markdown",
   "metadata": {},
   "source": [
    "さらに、二つの会議のインデックス $(i, j)$ が、 先ほど定義した会議スケジュールの重なりリスト `overlaps` に含まれている場合は、同じ会議室を割り当てることができないという制約を与える必要があります。\n",
    "\n",
    "これは $(i, j)\\in \\text{overlaps}$ の場合は、$q_{i, r}$ と $q_{j, r}$ が同時に $1$ にならないという制約条件となるので、\n",
    "\n",
    "$\n",
    "q_{i, r} q_{j, r} = 0 \\qquad \\text{for}\\quad (i, j) \\in \\text{overlaps}\\quad{and}\\quad  r \\in \\{0, \\cdots, N_r - 1\\}\n",
    "$\n",
    "\n",
    "という制約になります。\n"
   ]
  },
  {
   "cell_type": "code",
   "execution_count": null,
   "metadata": {},
   "outputs": [],
   "source": [
    "from amplify import sum_poly\n",
    "from amplify.constraint import penalty\n",
    "\n",
    "# overlaps内の全ての (i, j) で、q[i][r] * q[j][r] = 0 の制約条件を課す\n",
    "overlap_constraints = sum(\n",
    "    [penalty(q[i][r] * q[j][r]) for (i, j) in overlaps for r in range(Nr)]\n",
    ")"
   ]
  },
  {
   "cell_type": "markdown",
   "metadata": {},
   "source": [
    "上記で生成した二つの制約条件オブジェクト `room_constraints` と `overlap_constraints` を結合し、最終的に解くべき論理模型とします。 "
   ]
  },
  {
   "cell_type": "code",
   "execution_count": null,
   "metadata": {},
   "outputs": [],
   "source": [
    "model = room_constraints + overlap_constraints"
   ]
  },
  {
   "cell_type": "markdown",
   "metadata": {},
   "source": [
    "次に、クライアントを設定し、定義した模型を解きます。"
   ]
  },
  {
   "cell_type": "code",
   "execution_count": null,
   "metadata": {},
   "outputs": [],
   "source": [
    "from amplify import Solver\n",
    "from amplify.client import FixstarsClient\n",
    "\n",
    "# クライアントを設定\n",
    "client = FixstarsClient()\n",
    "# client.token = \"xxxxxxxxxxxxxxxxxxxxxxxxxxxxxxxx\"  # ローカル環境で使用する場合は、Amplify AEのアクセストークンを入力してください\n",
    "client.parameters.timeout = 1000  # タイムアウト1秒\n",
    "\n",
    "# ソルバーを設定\n",
    "solver = Solver(client)\n",
    "# 問題を解く\n",
    "result = solver.solve(model)\n",
    "\n",
    "# result が空の場合、制約条件を満たす解が得られなかったことを示す\n",
    "if len(result) == 0:\n",
    "    raise RuntimeError(\"Given constraint conditions are not satisfied\")"
   ]
  },
  {
   "cell_type": "markdown",
   "metadata": {},
   "source": [
    "求めた解で値が $1$ となる変数から、各会議がどの会議室に割り当てられたかを読み取ることができます。"
   ]
  },
  {
   "cell_type": "code",
   "execution_count": null,
   "metadata": {},
   "outputs": [],
   "source": [
    "from amplify import decode_solution\n",
    "import numpy as np\n",
    "\n",
    "# 求めた解を元の変数に代入\n",
    "values = result[0].values\n",
    "solution = np.array(decode_solution(q, values))\n",
    "\n",
    "# 各会議がどの会議室に割り当てられるかを読み取る\n",
    "room_assignment = list(zip(*np.where(solution == 1)))"
   ]
  },
  {
   "cell_type": "markdown",
   "metadata": {},
   "source": [
    "最後に結果を可視化します。"
   ]
  },
  {
   "cell_type": "code",
   "execution_count": null,
   "metadata": {},
   "outputs": [],
   "source": [
    "#\n",
    "# 会議室割り当てを可視化\n",
    "#\n",
    "%matplotlib inline\n",
    "\n",
    "\n",
    "def plot_mtg_schedule(num_rooms, room_assignment):\n",
    "    import matplotlib.pyplot as plt\n",
    "\n",
    "    room_names = [\"Room \" + chr(65 + i) for i in range(num_rooms)]\n",
    "\n",
    "    cmap = plt.get_cmap(\"coolwarm\", num_rooms)\n",
    "    colors = [cmap(i) for i in range(num_rooms)]\n",
    "\n",
    "    fig, ax1 = plt.subplots(nrows=1, ncols=1, figsize=(15, 10))\n",
    "    for mtg_idx, room in room_assignment:\n",
    "        mtg_name = mtg_names[mtg_idx]\n",
    "        start = time2num(schedules[mtg_name][0])\n",
    "        end = time2num(schedules[mtg_name][1])\n",
    "\n",
    "        plt.fill_between(\n",
    "            [room + 0.55, room + 1.45],\n",
    "            [start, start],\n",
    "            [end, end],\n",
    "            edgecolor=\"black\",\n",
    "            linewidth=3.0,\n",
    "            facecolor=colors[room],\n",
    "        )\n",
    "        plt.text(\n",
    "            room + 0.6, start + 0.1, f\"{schedules[mtg_name][0]}\", va=\"top\", fontsize=10\n",
    "        )\n",
    "        plt.text(\n",
    "            room + 1.0,\n",
    "            (start + end) * 0.5,\n",
    "            mtg_name,\n",
    "            ha=\"center\",\n",
    "            va=\"center\",\n",
    "            fontsize=15,\n",
    "        )\n",
    "\n",
    "    # Set First Axis\n",
    "    ax1.yaxis.grid()\n",
    "    ax1.set_xlim(0.5, len(room_names) + 0.5)\n",
    "    ax1.set_ylim(19.1, 7.9)\n",
    "    ax1.set_xticks(range(1, len(room_names) + 1))\n",
    "    ax1.set_xticklabels(room_names)\n",
    "    ax1.set_ylabel(\"Time\")\n",
    "\n",
    "    # Set Second Axis\n",
    "    ax2 = ax1.twiny().twinx()\n",
    "    ax2.set_xlim(ax1.get_xlim())\n",
    "    ax2.set_ylim(ax1.get_ylim())\n",
    "    ax2.set_xticks(ax1.get_xticks())\n",
    "    ax2.set_xticklabels(room_names)\n",
    "    ax2.set_ylabel(\"Time\")\n",
    "\n",
    "    plt.show()"
   ]
  },
  {
   "cell_type": "code",
   "execution_count": null,
   "metadata": {},
   "outputs": [],
   "source": [
    "plot_mtg_schedule(num_rooms=Nr, room_assignment=room_assignment)"
   ]
  },
  {
   "cell_type": "markdown",
   "metadata": {},
   "source": [
    "## いくつかの会議を手動で割り当てる場合\n",
    "Amplifyでは変数の値を定数値で固定ことができます。この機能を用いて、会議室割り当てを手動で行うことができます。\n",
    "\n",
    "例えば、バイナリ変数`q[i][j]`の値を1で固定する場合には`q[i][j] = BinaryPoly(1)`とします。右辺の`BinaryPoly(1)`はBinaryPoly型の定数1を表します。\n",
    "\n",
    "ここでは、\n",
    "\n",
    "* meeting1 -> Room B\n",
    "* meeting2 -> Room A\n",
    "* meeting6 -> Room C\n",
    "* meeting10 -> Room A\n",
    "* meeting12 -> Room C\n",
    "* meeting17 -> Room A\n",
    "\n",
    "をあらかじめ固定したうえで残りの会議室割り当てを最適化問題として解くことを考えます。\n",
    "\n"
   ]
  },
  {
   "cell_type": "code",
   "execution_count": null,
   "metadata": {},
   "outputs": [],
   "source": [
    "from amplify import gen_symbols, BinaryPoly\n",
    "from amplify import sum_poly\n",
    "from amplify.constraint import equal_to\n",
    "from amplify.constraint import penalty\n",
    "\n",
    "\"\"\"\n",
    "会議室の名前と対応するインデックス\n",
    "Room A -> 0, Room B -> 1, Room C -> 2, ...\n",
    "\"\"\"\n",
    "\n",
    "pre_assign = {\n",
    "    \"meeting1\": 1,\n",
    "    \"meeting2\": 0,\n",
    "    \"meeting6\": 2,\n",
    "    \"meeting10\": 0,\n",
    "    \"meeting12\": 1,\n",
    "    \"meeting17\": 0,\n",
    "}\n",
    "\n",
    "\n",
    "Nm = len(schedules)  # 会議の数\n",
    "Nr = 6  # 会議室の数\n",
    "\n",
    "q = gen_symbols(BinaryPoly, Nm, Nr)\n",
    "\n",
    "# あらかじめ割り当てが決まっている会議と会議室の組み合わせに対して、定数を代入する\n",
    "for mtg_name, room in pre_assign.items():\n",
    "    mtg_idx = mtg_name2idx[mtg_name]\n",
    "    for r in range(Nr):\n",
    "        q[mtg_idx][r] = BinaryPoly(1) if r == room else BinaryPoly(0)\n",
    "\n",
    "# 一つの会議に一つの会議室を割り当てるための one-hot 制約\n",
    "room_constraints = sum(\n",
    "    [equal_to(sum_poly(Nr, lambda r: q[i][r]), 1) for i in range(Nm)]\n",
    ")\n",
    "\n",
    "# overlaps内の全ての (i, j) で、q[i][r] * q[j][r] = 0 の制約条件を課す\n",
    "overlap_constraints = sum(\n",
    "    [sum([penalty(q[i][r] * q[j][r]) for (i, j) in overlaps]) for r in range(Nr)]\n",
    ")\n",
    "\n",
    "model = room_constraints + overlap_constraints\n",
    "\n",
    "from amplify import Solver\n",
    "from amplify.client import FixstarsClient\n",
    "\n",
    "# クライアントを設定\n",
    "client = FixstarsClient()\n",
    "client.parameters.timeout = 1000  # タイムアウト1秒\n",
    "# client.token = \"xxxxxxxxxxxxxxxxxxxxxxxxxxxxxxxx\"  # ローカル環境で使用する場合は、Amplify AEのアクセストークンを入力してください\n",
    "\n",
    "\n",
    "solver = Solver(client)  # ソルバーを設定\n",
    "result = solver.solve(model)  # 問題を解く\n",
    "\n",
    "# result が空の場合は制約条件が満たされず、解が求まらない\n",
    "if len(result) == 0:\n",
    "    raise RuntimeError(\"Given constraint conditions are not satisfied\")\n",
    "\n",
    "\n",
    "from amplify import decode_solution\n",
    "import numpy as np\n",
    "\n",
    "# 求めた解を元の変数に代入\n",
    "values = result[0].values\n",
    "solution = np.array(decode_solution(q, values))\n",
    "\n",
    "# 各会議がどの会議室に割り当てられるかを読み取る\n",
    "room_assignment = list(zip(*np.where(solution == 1)))\n",
    "\n",
    "plot_mtg_schedule(num_rooms=Nr, room_assignment=room_assignment)"
   ]
  }
 ],
 "metadata": {
  "language_info": {
   "name": "python",
   "pygments_lexer": "ipython3"
  }
 },
 "nbformat": 4,
 "nbformat_minor": 4
}
