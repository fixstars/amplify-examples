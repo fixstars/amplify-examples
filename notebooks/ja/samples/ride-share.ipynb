{
 "cells": [
  {
   "cell_type": "markdown",
   "metadata": {},
   "source": [
    "# Ride sharing\n",
    "\n",
    "このチュートリアルで取り扱う問題は、集合型ライドシェアと呼ばれる問題です。\n",
    "\n",
    "集合型ライドシェアとは、複数の利用者がいくつかの大型駐車場に集合し、  \n",
    "同じ車に乗って同じ目的地を目指す形式のライドシェアを指します。\n",
    "\n",
    "（他の形式として巡回型ライドシェアというのもありますが、今回は名前のみの紹介とします。）\n",
    "![picture](../figures/ride-share_abstract.png)\n",
    "\n",
    "\n",
    "今回は、同じ目的地を持つ複数の人物と利用可能な車(駐車場)の候補が与えられている場合に、各人の車までの移動距離と使用する車の台数をなるべく小さくするような人と車の割り当てを考えます。  \n",
    "イジングマシンで実行可能なモデルとして定式化を行い、最小化問題として割り当てを求めていきます。 \n",
    "\n",
    "一つの駐車場に複数台の車がある場合は、乗車可能人数がその駐車場にある車の乗車可能人数の合計と等しい一台の車だけが駐車してあるとみなし、\n",
    "駐車場と車が一対一に対応していることを仮定します。\n",
    "  \n",
    "\n",
    "## 定式化\n",
    "\n",
    "まず、定式化に必要な定数・変数を定義します。\n",
    "\n",
    "#### 定数\n",
    "\n",
    "* $N$：ライドシェア利用者数\n",
    "* $M$：使用可能な車の台数\n",
    "* $C$：車一台あたりの乗車可能人数\n",
    "* $D$：$ik$成分$(d_{ik})$が利用者$i$と車$k$の間の距離となるような行列\n",
    "\n",
    "#### 変数\n",
    "\n",
    "- $q_{ik}\\in\\{0,1\\}\\quad(i\\in\\{1,\\dots,N\\}, k\\in\\{1,\\dots,M\\})$  \n",
    "  人$i$が車$k$に乗るかどうかを表現するバイナリ変数（$q_{ik}=1\\Leftrightarrow$人$i$が車$k$に乗る）\n",
    "- $y_{lk}\\in\\{0,1\\}\\quad(l\\in\\{0,\\dots,C\\},k\\in\\{1,\\dots,M\\})$  \n",
    "  $\\sum_ly_{lk}=\\sum_iq_{ik}$を満たす変数（乗車可能人数に関する制約を表現するために使用）\n",
    "\n",
    "\n",
    "\n",
    "続いて、変数が満たすべき制約を考えます。\n",
    "\n",
    "### 制約条件\n",
    "\n",
    "- 一人必ず一台の車に乗る  \n",
    "  $\\sum_{k=1}^Mq_{ik}=1(\\forall i\\in\\{1,\\dots,N\\})$\n",
    "- 実際の乗車人数が乗車可能人数を上回らない  \n",
    "  $\\sum_{i=1}^Nq_{ik}\\leq C(\\forall k\\in\\{1,\\dots,M\\})$\n",
    "\n",
    "最後に、今回の目的である、\n",
    "\n",
    "1. 利用者はなるべく近い場所にある車を利用する\n",
    "2. なるべく少ない車で移動する\n",
    "\n",
    "を満足できるような目的関数を考えます。\n",
    "\n",
    "### 目的関数\n",
    "\n",
    "- 利用者がなるべく無駄な移動をしない  \n",
    "  $\\text{minimize}\\quad\\sum_{i,k}d_{ik}q_{ik}$\n",
    "- 車の使用台数をなるべく少なく抑えたい$\\space\\Rightarrow\\space$一台あたりの乗車率を最大化する  \n",
    "     $\\text{maximize}\\quad\\sum_{k}\\left(\\sum_i\\frac{q_{ik}}{C}\\right)^2$\n",
    "\n",
    "これら二項目を考慮すると、以下の目的関数が考えられます。\n",
    "\n",
    "$$\\sum_{i,k}d_{ik}q_{ik}-\\alpha\\sum_{k}\\left(\\sum_i\\frac{q_{ik}}{C}\\right)^2$$\n",
    "\n",
    "#### Note\n",
    "$\\alpha$は車の使用台数をどのくらい重視するかを決定するパラメーターで、$\\alpha>0$を満たすとします。  \n",
    "$\\alpha$が0に近いほど移動距離を小さくするように最適化が行われ、$\\alpha$の値が大きいほど車の使用台数を小さくするように最適化が行われます。  \n",
    "$\\alpha$が大きい場合には移動距離に関する項が軽視されることにもなるため、可視化結果は$\\alpha$が小さい方が綺麗なものになります。\n",
    "\n",
    "### まとめ\n",
    "\n",
    "以上から、集合型ライドシェア問題は以下のようなQUBOとして定式化することができます。\n",
    "\n",
    "$$\n",
    "\\begin{align}\n",
    "H&=H_{\\rm cost}+H_{\\rm costraint}\\\\\n",
    "H_{\\rm cost}&= \\sum_{i,k}d_{ik}q_{ik}-\\alpha\\sum_{k}\\left(\\sum_i\\frac{q_{ik}}{C}\\right)^2\\\\\n",
    "H_{\\rm constraint} &= k_1\\sum_{i=1}^N\\left(\\sum_{k=1}^Mq_{ik}-1\\right)^2+k_2\\sum_{k=1}^M\\left(\\sum_{i=1}^Nq_{ik}-\\sum_{l=0}^Cy_{lk}\\right)^2\n",
    "\\end{align}\n",
    "$$\n",
    "\n",
    "\n",
    "ここで、$k_1, k_2$は制約の強さを決定する定数です。  \n",
    "解の実行可能性を担保するために、制約を破ることによって目的関数が改善しないように定数の大きさを設定する必要があります。  \n",
    "今回は少なくとも以下の不等式が成り立てば良いです。導出の詳細については省略します。\n",
    "\n",
    "$$\n",
    "\\begin{align}\n",
    "k_1&>{\\rm max}\\left(− {\\rm min\\space}d_{ik}+\n",
    "\\frac{2C − 1}{C^2}\\alpha,\\space\n",
    "{\\rm max\\space}d_{ik}−\\frac{2C − 1}{C^2}\\alpha\n",
    "\\right)\\\\\n",
    "k_2&>\\frac{2C − 1}{C^2}\\alpha\n",
    "\\end{align}\n",
    "$$"
   ]
  },
  {
   "cell_type": "markdown",
   "metadata": {},
   "source": [
    "## 問題の実装\n",
    "車と利用者の位置が入力データとして必要なため、それぞれの位置(緯度、経度)をランダムに生成する関数を作ります。"
   ]
  },
  {
   "cell_type": "code",
   "execution_count": null,
   "metadata": {},
   "outputs": [],
   "source": [
    "import numpy as np\n",
    "from geopy.distance import geodesic\n",
    "\n",
    "\n",
    "def generate_problem(\n",
    "    lon_range,\n",
    "    lat_range,\n",
    "    parking,\n",
    "    ncars=None,\n",
    "    npeople=None,\n",
    "    C=None,\n",
    "    lb=1,\n",
    "    ub=160,\n",
    "    seed=1,\n",
    "):\n",
    "    \"\"\"\n",
    "    車の数、人の数、車の定員をランダムに決定した後、\n",
    "    車の数＋人の数の点の座標を生成し、座標を元に距離行列を生成する関数\n",
    "    Params\n",
    "    ------\n",
    "    lon_range : list\n",
    "        車と人の座標をサンプルする際の経度の範囲\n",
    "    lat_range : list\n",
    "        車と人の座標をサンプルする際の緯度の範囲\n",
    "    parking : list\n",
    "        使用可能な駐車場の座標が入ったリスト\n",
    "    ncars : int (default=None)\n",
    "        実際に使用する駐車場の数を指定する整数\n",
    "        ncars <= len(parking)を満たすように設定しなければならない\n",
    "    npeople : int (default=None)\n",
    "        ライドシェアの利用者数\n",
    "    C : int (default=None)\n",
    "        車の乗車可能人数の上限\n",
    "    lb : int (default=1)\n",
    "        ランダムな整数値を生成する時の下限\n",
    "    seed : int (default=None)\n",
    "        乱数のシード\n",
    "\n",
    "    Retuens\n",
    "    -------\n",
    "    ncars : int\n",
    "        実際に使用する駐車場の数を指定する整数\n",
    "        ncars <= len(parking)を満たすように設定しなければならない\n",
    "    npeople : int\n",
    "        ライドシェアの利用者数\n",
    "    D : np.ndarray\n",
    "        利用者、車の間の距離を成分に持つ行列\n",
    "    C : int\n",
    "        車の乗車可能人数の上限\n",
    "    ind2coord : dict\n",
    "        車(人)のインデックスと座標を紐づける辞書\n",
    "        key : int\n",
    "            車(人)のインデックス\n",
    "        value : list\n",
    "            座標を表すリスト\n",
    "    \"\"\"\n",
    "    np.random.seed(seed)\n",
    "    if ncars is None or (isinstance(ncars, int) and ncars > len(parking)):\n",
    "        if isinstance(ncars, int) and ncars > len(parking):\n",
    "            print(\n",
    "                f\"Maximum value of ncars is {len(parking)}.\\n ncars : {ncars} -> {len(parking)}.\"\n",
    "            )\n",
    "        ncars = len(parking)\n",
    "    if npeople is None:\n",
    "        npeople = np.random.randint(lb, ub)\n",
    "    if C is None:\n",
    "        C = np.random.randint(npeople // ncars + 1, npeople + 2)\n",
    "    if ncars * C < npeople:\n",
    "        print(\"Fail to create valid problem.\\nPlease retry after changing random seed.\")\n",
    "        return None, None, None, None, None\n",
    "    n = ncars + npeople\n",
    "    ind2coord = dict()\n",
    "    tmp = [\n",
    "        parking[i][::-1] for i in np.random.choice(len(parking), ncars, replace=False)\n",
    "    ]\n",
    "    for i in range(ncars):\n",
    "        ind2coord[i] = (tmp[i][0], tmp[i][1])\n",
    "    for i in range(ncars, n):\n",
    "        lon = np.random.uniform(lon_range[0], lon_range[1])\n",
    "        lat = np.random.uniform(lat_range[0], lat_range[1])\n",
    "        tmp.append((lon, lat))\n",
    "        ind2coord[i] = (lon, lat)\n",
    "\n",
    "    D = np.zeros((n, n))\n",
    "    for i in range(n):\n",
    "        for j in range(n):\n",
    "            D[i, j] = geodesic(tmp[i][::-1], tmp[j][::-1]).m\n",
    "    return ncars, npeople, D, C, ind2coord"
   ]
  },
  {
   "cell_type": "markdown",
   "metadata": {},
   "source": [
    "また可視化のため、車と利用者の座標を入力すると、それらを地図上にプロットする関数を作ります。"
   ]
  },
  {
   "cell_type": "code",
   "execution_count": null,
   "metadata": {},
   "outputs": [],
   "source": [
    "import folium\n",
    "\n",
    "_colors = [\n",
    "    \"green\",\n",
    "    \"orange\",\n",
    "    \"blue\",\n",
    "    \"pink\",\n",
    "    \"red\",\n",
    "    \"purple\",\n",
    "    \"darkblue\",\n",
    "    \"cadetblue\",\n",
    "    \"darkred\",\n",
    "    \"lightred\",\n",
    "    \"darkgreen\",\n",
    "    \"lightgreen\",\n",
    "    \"lightblue\",\n",
    "    \"gray\",\n",
    "    \"darkpurple\",\n",
    "]\n",
    "\n",
    "\n",
    "def simple_plot(coord, ncars):\n",
    "    m = folium.Map([sum(lat) / 2, sum(lon) / 2], tiles=\"Stamen Toner\", zoom_start=12)\n",
    "    tmp = list(coord.items())\n",
    "    for j, x in enumerate(tmp):\n",
    "        if j < ncars:\n",
    "            folium.Marker(\n",
    "                location=x[1][::-1],\n",
    "                icon=folium.Icon(icon=\"car\", prefix=\"fa\", color=_colors[0]),\n",
    "            ).add_to(m)\n",
    "        else:\n",
    "            folium.Marker(\n",
    "                location=x[1][::-1],\n",
    "                popup=\"person\",\n",
    "                icon=folium.Icon(icon=\"user\", prefix=\"fa\", color=_colors[1]),\n",
    "            ).add_to(m)\n",
    "    return m"
   ]
  },
  {
   "cell_type": "markdown",
   "metadata": {},
   "source": [
    "車の位置の候補を以下のように定め、先ほど定義した`generate_problem`関数で利用者数、利用人数、車の乗車可能人数、利用者と車の位置を生成します。`simple_plot`関数を用いてそれらを可視化します。"
   ]
  },
  {
   "cell_type": "code",
   "execution_count": null,
   "metadata": {},
   "outputs": [],
   "source": [
    "# 船橋駅周辺\n",
    "lon = (139.9, 140.08)\n",
    "lat = (35.675500, 35.76)\n",
    "# 9箇所\n",
    "parking = [\n",
    "    (35.67699938102926, 140.0434199237448),\n",
    "    (35.68494726920934, 139.99303731029542),\n",
    "    (35.68604762650153, 140.01831984588475),\n",
    "    (35.69720660219214, 139.98034538800417),\n",
    "    (35.6981824540223, 140.00360550271415),\n",
    "    (35.698774929464875, 139.9982410856558),\n",
    "    (35.700029569368, 139.98558105961536),\n",
    "    (35.70599837320516, 139.93269833544272),\n",
    "    (35.71199204224218, 140.0415316476293),\n",
    "]"
   ]
  },
  {
   "cell_type": "code",
   "execution_count": null,
   "metadata": {},
   "outputs": [],
   "source": [
    "ncars, npeople, D, C, index2coordinate = generate_problem(lon, lat, parking, seed=0)\n",
    "simple_plot(index2coordinate, ncars)"
   ]
  },
  {
   "cell_type": "code",
   "execution_count": null,
   "metadata": {},
   "outputs": [],
   "source": [
    "print(ncars, npeople, C)"
   ]
  },
  {
   "cell_type": "markdown",
   "metadata": {},
   "source": [
    "### 二次多項式モデルの構築\n",
    "\n",
    "次に必要なQUBO変数を定義します。$N$人の利用者に対して$M$台の車を用意するので、$N\\times M$の二次元配列としてQUBO変数を以下のように定義します。"
   ]
  },
  {
   "cell_type": "code",
   "execution_count": null,
   "metadata": {},
   "outputs": [],
   "source": [
    "from amplify import BinarySymbolGenerator\n",
    "\n",
    "gen = BinarySymbolGenerator()\n",
    "q = gen.array(npeople, ncars)"
   ]
  },
  {
   "cell_type": "markdown",
   "metadata": {},
   "source": [
    "続いて、目的関数、制約条件を定義していきます。  \n",
    "まず、目的関数の距離に関係する項と車の台数に関係する項のオーダーを揃えるため、以下の関数を用いて距離行列の要素の平均を0、分散を1に直します。  この操作を行うことで、$\\alpha$の値を問題に依存せずに決定することができるようになります。"
   ]
  },
  {
   "cell_type": "code",
   "execution_count": null,
   "metadata": {},
   "outputs": [],
   "source": [
    "from math import sqrt\n",
    "\n",
    "\n",
    "def regularizeDistance(D):\n",
    "    average = D.mean(axis=0, keepdims=True)\n",
    "    std = D.std(axis=0, keepdims=True, ddof=0)\n",
    "    return (D - average) / std"
   ]
  },
  {
   "cell_type": "code",
   "execution_count": null,
   "metadata": {},
   "outputs": [],
   "source": [
    "D = regularizeDistance(D)"
   ]
  },
  {
   "cell_type": "markdown",
   "metadata": {},
   "source": [
    "次に目的関数を定義します。  \n",
    "`sum_poly`関数を用いてQUBO変数を含む多項式を表現します。  \n",
    "目的関数は\n",
    "$$\\sum_{i,k}d_{ik}q_{ik}-\\alpha\\sum_{k}\\left(\\sum_i\\frac{q_{ik}}{C}\\right)^2$$\n",
    "です。前半が移動距離に関係する項、後半が乗車率に関係する項です。"
   ]
  },
  {
   "cell_type": "code",
   "execution_count": null,
   "metadata": {},
   "outputs": [],
   "source": [
    "from amplify import sum_poly, einsum\n",
    "\n",
    "\n",
    "def setObjective(q, ncars, npeople, D, C, alpha=1):\n",
    "    \"\"\"目的関数\"\"\"\n",
    "    # 各利用者の移動距離に関係する項\n",
    "    distance_cost = sum_poly(D[ncars:, :ncars] * q)\n",
    "\n",
    "    # 各車の乗車率に関係する項\n",
    "    ride_rate_cost = ((q.sum(axis=0) / C) ** 2).sum()\n",
    "\n",
    "    cost = distance_cost - alpha * ride_rate_cost\n",
    "    return cost"
   ]
  },
  {
   "cell_type": "markdown",
   "metadata": {},
   "source": [
    "また、制約式は以下のように表現できます。  \n",
    "`one_hot`関数を用いて制約(1)$\\sum_{k=1}^Mq_{ik}=1(\\forall i\\in\\{1,\\dots,N\\})$を、  \n",
    "`less_equal`関数を用いて制約(2)$\\sum_{i=1}^Nq_{ik}\\leq C(\\forall k\\in\\{1,\\dots,M\\})$を表現しています。  \n",
    "各制約項の強さの目安として、\n",
    "$$\n",
    "\\begin{align}\n",
    "k_1&>{\\rm max}\\left(− {\\rm min\\space}d_{ik}+\n",
    "\\frac{2C − 1}{C^2}\\alpha,\\space\n",
    "{\\rm max\\space}d_{ik}−\\frac{2C − 1}{C^2}\\alpha\n",
    "\\right)\\\\\n",
    "k_2&>\\frac{2C − 1}{C^2}\\alpha\n",
    "\\end{align}\n",
    "$$\n",
    "と冒頭で記載しました。  \n",
    "今回はこれを満たす係数として、\n",
    "$$\n",
    "\\begin{align}\n",
    "k_1&=2+\\frac{2\\alpha}{C}+1\\\\\n",
    "k_2&=\\frac{2}{C}\\alpha+1\n",
    "\\end{align}\n",
    "$$\n",
    "を選択しました。  \n",
    "\n",
    "これらが冒頭の説明で与えた条件を満たしていることは、以下のようにして確認できます。  \n",
    "まず、距離行列は正規化されているため、$\\max|d_ik|\\leq 1$が成り立ちます。従って、\n",
    "$$\n",
    "\\max\\left(− \\min d_{ik}+\n",
    "\\frac{2C − 1}{C^2}\\alpha,\\space\n",
    "\\max d_{ik}−\\frac{2C − 1}{C^2}\\alpha\n",
    "\\right) < 2 + \\frac{2C − 1}{C^2}\\alpha\n",
    "$$\n",
    "となります。  \n",
    "また、$C\\geq 1$を仮定しているため、$\\frac{2C-1}{C^2} < \\frac{2C}{C^2} = \\frac{2}{C}$が成り立ちます。  \n",
    "以上から、上のように定めた$k_1,k_2$が条件を満たしていることがわかりました。"
   ]
  },
  {
   "cell_type": "code",
   "execution_count": null,
   "metadata": {},
   "outputs": [],
   "source": [
    "from amplify.constraint import one_hot, less_equal\n",
    "\n",
    "\n",
    "def setConstraints(q, ncars, npeople, C, k1=None, k2=None, alpha=1):\n",
    "    \"\"\"小規模問題の制約式を設定する関数\"\"\"\n",
    "    if k2 is None:\n",
    "        k2 = 2 * alpha / C + 1\n",
    "    if k1 is None:\n",
    "        k1 = (2 + 2 * alpha / C) + 1\n",
    "\n",
    "    # 一人一台の車に乗車するという制約(1)\n",
    "    allocate_constraints = [one_hot(q[i]) for i in range(npeople)]\n",
    "    # 一台の車に乗れるのはC人以下だという制約(2)\n",
    "    capacity_constraints = [less_equal(sum_poly(q[:, j]), C) for j in range(ncars)]\n",
    "\n",
    "    constraints = k1 * sum(allocate_constraints) + k2 * sum(capacity_constraints)\n",
    "    return constraints"
   ]
  },
  {
   "cell_type": "markdown",
   "metadata": {},
   "source": [
    "上記目的関数と制約条件を足し合わせることによって最終的なQUBOを得ます。"
   ]
  },
  {
   "cell_type": "code",
   "execution_count": null,
   "metadata": {},
   "outputs": [],
   "source": [
    "cost = setObjective(q, ncars, npeople, D, C)\n",
    "constraints = setConstraints(q, ncars, npeople, C)\n",
    "\n",
    "model1 = cost + constraints"
   ]
  },
  {
   "cell_type": "markdown",
   "metadata": {},
   "source": [
    "### イジングマシンの実行\n",
    "イジングマシンのクライアントを`FixstarsClient`に設定、ソルバーを作成して以下のように問題を解きます。"
   ]
  },
  {
   "cell_type": "code",
   "execution_count": null,
   "metadata": {},
   "outputs": [],
   "source": [
    "from amplify import Solver\n",
    "from amplify.client import FixstarsClient\n",
    "\n",
    "client = FixstarsClient()\n",
    "client.parameters.timeout = 2000  # 制限時間\n",
    "# client.token = \"xxxxxxxxxxxxxxxxxxxxxxxxxxxxxxxx\"  # ローカル環境で使用する場合は、Amplify AEのアクセストークンを入力してください\n",
    "\n",
    "solver = Solver(client)\n",
    "\n",
    "result = solver.solve(model1)"
   ]
  },
  {
   "cell_type": "markdown",
   "metadata": {},
   "source": [
    "続いて、得られた解を確認していきます。  \n",
    "`q.decode()`を用いてもとの変数に代入することができます。"
   ]
  },
  {
   "cell_type": "code",
   "execution_count": null,
   "metadata": {},
   "outputs": [],
   "source": [
    "if len(result) == 0:\n",
    "    # 実行可能解が見つかっていなければ例外を投げる\n",
    "    raise RuntimeError(\"No feasible solution was found.\")\n",
    "\n",
    "q_values = q.decode(result[0].values)"
   ]
  },
  {
   "cell_type": "markdown",
   "metadata": {},
   "source": [
    "最後に、以下の関数を用いて得られた割り当てを可視化します。"
   ]
  },
  {
   "cell_type": "code",
   "execution_count": null,
   "metadata": {},
   "outputs": [],
   "source": [
    "def plot_result(coord, q_values):\n",
    "    m = folium.Map([sum(lat) / 2, sum(lon) / 2], tiles=\"Stamen Toner\", zoom_start=12)\n",
    "    npeople = len(q_values)\n",
    "    ncars = len(q_values[0])\n",
    "    columns = [\"latitude\", \"longitude\", \"size\", \"name\"]\n",
    "    data = {label: list() for label in columns}\n",
    "    answer = dict()\n",
    "    for i in range(npeople):\n",
    "        car = np.where(np.array(q_values[i]) == 1)[0][-1]\n",
    "        if car not in answer:\n",
    "            answer[car] = []\n",
    "        answer[car].append(i + ncars)\n",
    "\n",
    "    for k in range(ncars):\n",
    "        status = \"active\"\n",
    "        car_loc = coord[k]\n",
    "        if k in answer:\n",
    "            tmp = answer[k]\n",
    "            x = [coord[p][0] for p in tmp] + [car_loc[0]]\n",
    "            y = [coord[p][1] for p in tmp] + [car_loc[1]]\n",
    "        else:\n",
    "            x = car_loc[:1]\n",
    "            y = car_loc[1:]\n",
    "            status = \"empty\"\n",
    "        folium.Marker(\n",
    "            location=[y[-1], x[-1]],\n",
    "            popup=f\"cluster{k}\",\n",
    "            icon=folium.Icon(icon=\"car\", prefix=\"fa\", color=_colors[k % len(_colors)]),\n",
    "        ).add_to(m)\n",
    "        for a, b in zip(y[:-1], x[:-1]):\n",
    "            folium.Marker(\n",
    "                location=[a, b],\n",
    "                popup=f\"person{k}\",\n",
    "                icon=folium.Icon(\n",
    "                    icon=\"user\",\n",
    "                    prefix=\"fa\",\n",
    "                    color=\"white\",\n",
    "                    icon_color=_colors[k % len(_colors)],\n",
    "                ),\n",
    "            ).add_to(m)\n",
    "    return m"
   ]
  },
  {
   "cell_type": "code",
   "execution_count": null,
   "metadata": {},
   "outputs": [],
   "source": [
    "plot_result(index2coordinate, q_values)"
   ]
  },
  {
   "attachments": {},
   "cell_type": "markdown",
   "metadata": {},
   "source": [
    "## 発展的な話題（問題の分割）\n",
    "現在、アニーリングマシンで解ける問題のサイズは限られているため、2クラスのクラスタリングによって問題を分割することを考えます。  \n",
    "問題のビット数が設定した値を下回るまでクラスタリングを繰り返し、得られた各クラスタについて冒頭の問題を解くことで、  \n",
    "計算時間の削減やビット数の問題を解決することを狙っています。\n",
    "\n",
    "### やりたいこと\n",
    "\n",
    "以下のフローチャートに沿った最適化が最終的な目的です。\n",
    "\n",
    "![フローチャート](../figures/ride-share_clustering.png)\n",
    "\n",
    "### 定式化\n",
    "\n",
    "定式化は以下の通りです。\n",
    "\n",
    "#### 定数\n",
    "\n",
    "* $N$：ライドシェア利用者数  \n",
    "* $M$：使用可能な車の台数  \n",
    "* $D$：$ik$成分$(d_{ik})$が利用者（車）$i$と利用者（車）$k$の間の距離となるような行列\n",
    "\n",
    "#### 変数\n",
    "\n",
    "$q_{k}\\in\\{0,1\\}\\quad(k\\in\\{1,\\dots,M,\\dots,M+N\\})$  \n",
    "人（or 車）$k$がどのクラスタに属するかを表すバイナリ変数  \n",
    "（$q_{k}=1\\Leftrightarrow$人（or 車）$k$はクラスタ1に属する）\n",
    "\n",
    "#### 制約\n",
    "\n",
    "- なるべく均等に分けたい  \n",
    "  $\\sum_{k=1}^Mq_k=\\frac{M}{2}$  \n",
    "  $\\sum_{k=M+1}^{M+N}q_k=\\frac{N}{2}$\n",
    "\n",
    "#### 目的関数\n",
    "\n",
    "- 互いに近くにいる（ある）人・車は同じクラスタに属する  \n",
    "  互いに遠くにいる（ある）人・車は異なるクラスタに属する\n",
    "\n",
    "  $\\text{minimize}\\quad\\sum_{i,j}d_{ij}(2q_i-1)(2q_j-1)$\n",
    "\n",
    "以上から、2クラスのクラスタリングは以下のようなQUBOとして定式化することができます。\n",
    "\n",
    "$$\n",
    "\\begin{align}\n",
    "H&=H_{\\rm cost}+H_{\\rm constraint}\\\\\n",
    "H_{\\rm cost}&=\\sum_{i,j}d_{ij}(2q_i-1)(2q_j-1)\\\\\n",
    "H_{\\rm constraint}&=k_1\\left(\\sum_{k=1}^Mq_k-\\frac{M}{2}\\right)^2+k_1\\left(\\sum_{k=M+1}^{M+N}q_k-\\frac{N}{2}\\right)^2\n",
    "\\end{align}\n",
    "$$\n",
    "解の実行可能性を保証するために、定数$k_1$は不等式$k_1>2{\\space\\rm max}\\sum_jd_{ij}$を満たす必要があります。\n",
    "### 実装\n",
    "以上の定式化を元に、amplifyを用いて実装していきます。  \n",
    "まずは変数を定義します。"
   ]
  },
  {
   "cell_type": "code",
   "execution_count": null,
   "metadata": {},
   "outputs": [],
   "source": [
    "n = ncars + npeople\n",
    "\n",
    "q = BinarySymbolGenerator().array(n)\n",
    "\n",
    "print(D.shape)\n",
    "print(q.shape)"
   ]
  },
  {
   "cell_type": "markdown",
   "metadata": {},
   "source": [
    "続いて目的関数を用意します。"
   ]
  },
  {
   "cell_type": "code",
   "execution_count": null,
   "metadata": {},
   "outputs": [],
   "source": [
    "from amplify import einsum\n",
    "\n",
    "cost = einsum(\"ij,i,j->\", D, (2 * q - 1), (2 * q - 1))"
   ]
  },
  {
   "cell_type": "markdown",
   "metadata": {},
   "source": [
    "制約条件は以下の通りです。"
   ]
  },
  {
   "cell_type": "code",
   "execution_count": null,
   "metadata": {},
   "outputs": [],
   "source": [
    "from amplify.constraint import equal_to\n",
    "\n",
    "\n",
    "# 分割後の台数が元の台数の半分になるための制約\n",
    "car_constraints = equal_to(sum_poly(q[:ncars]), ncars // 2)\n",
    "\n",
    "# 分割後の人数が元の台数の半分になるための制約\n",
    "people_constraints = equal_to(sum_poly(q[ncars:n]), npeople // 2)\n",
    "\n",
    "# 制約の強さを設定\n",
    "k1 = 2 * int(D.sum(axis=1).max()) + 3\n",
    "\n",
    "constraints = car_constraints + people_constraints\n",
    "constraints *= k1"
   ]
  },
  {
   "cell_type": "markdown",
   "metadata": {},
   "source": [
    "最終的なモデルは以下のようになります。"
   ]
  },
  {
   "cell_type": "code",
   "execution_count": null,
   "metadata": {},
   "outputs": [],
   "source": [
    "model_split = cost + constraints"
   ]
  },
  {
   "cell_type": "markdown",
   "metadata": {},
   "source": [
    "### イジングマシンの実行\n",
    "これまでと同様に、イジングマシンを実行して問題を解いていきます。"
   ]
  },
  {
   "cell_type": "code",
   "execution_count": null,
   "metadata": {},
   "outputs": [],
   "source": [
    "result = solver.solve(model_split)\n",
    "\n",
    "if len(result) == 0:\n",
    "    # 実行可能解が見つからなければ例外を投げる\n",
    "    raise RuntimeError(\"No feasible solution was found.\")\n",
    "else:\n",
    "    # 実行可能解が見つかればそれらの目的関数値を順番に表示する\n",
    "    for solution in result:\n",
    "        energy = solution.energy\n",
    "        values = solution.values\n",
    "        print(f\"energy = {energy}\")"
   ]
  },
  {
   "cell_type": "markdown",
   "metadata": {},
   "source": [
    "続いて、解を元にして距離行列と座標を分割するための関数を定義します。"
   ]
  },
  {
   "cell_type": "code",
   "execution_count": null,
   "metadata": {},
   "outputs": [],
   "source": [
    "def devide(q, D, coord, result):\n",
    "    \"\"\"クラスタリングの結果を分割する関数\"\"\"\n",
    "    energy, values = result[0].energy, result[0].values\n",
    "    q_values = q.decode(values)\n",
    "    cluster1 = np.where(np.array(q_values) == 1)[0]\n",
    "    cluster2 = np.where(np.array(q_values) == 0)[0]\n",
    "    nc1 = len(cluster1)\n",
    "    nc2 = len(cluster2)\n",
    "    D1 = np.zeros((nc1, nc1))\n",
    "    D2 = np.zeros((nc2, nc2))\n",
    "\n",
    "    C1 = dict()\n",
    "    C2 = dict()\n",
    "    for i in range(nc1):\n",
    "        C1[i] = coord[cluster1[i]]\n",
    "        for j in range(nc1):\n",
    "            D1[i][j] = D[cluster1[i]][cluster1[j]]\n",
    "    for i in range(nc2):\n",
    "        C2[i] = coord[cluster2[i]]\n",
    "        for j in range(nc2):\n",
    "            D2[i][j] = D[cluster2[i]][cluster2[j]]\n",
    "    return D1, D2, C1, C2"
   ]
  },
  {
   "cell_type": "markdown",
   "metadata": {},
   "source": [
    "次に分割結果を地図上に描写する関数を定義します"
   ]
  },
  {
   "cell_type": "code",
   "execution_count": null,
   "metadata": {},
   "outputs": [],
   "source": [
    "def plot_splited_problem(coord: list, ncars: list):\n",
    "    m = folium.Map([sum(lat) / 2, sum(lon) / 2], tiles=\"Stamen Toner\", zoom_start=12)\n",
    "\n",
    "    for i in range(len(ncars)):\n",
    "        tmp = list(coord[i].items())\n",
    "        for j, x in enumerate(tmp):\n",
    "            if j < ncars[i]:\n",
    "                folium.Marker(\n",
    "                    location=x[1][::-1],\n",
    "                    popup=f\"cluster{i}\",\n",
    "                    icon=folium.Icon(icon=\"car\", prefix=\"fa\", color=_colors[i]),\n",
    "                ).add_to(m)\n",
    "            else:\n",
    "                folium.Marker(\n",
    "                    location=x[1][::-1],\n",
    "                    popup=f\"person{i}\",\n",
    "                    icon=folium.Icon(\n",
    "                        icon=\"user\", prefix=\"fa\", color=\"white\", icon_color=_colors[i]\n",
    "                    ),\n",
    "                ).add_to(m)\n",
    "\n",
    "    return m"
   ]
  },
  {
   "cell_type": "markdown",
   "metadata": {},
   "source": [
    "`plot_splited_problem`関数を用いて、分割後の座標をプロットします。"
   ]
  },
  {
   "cell_type": "code",
   "execution_count": null,
   "metadata": {},
   "outputs": [],
   "source": [
    "D1, D2, cluster1, cluster2 = devide(q, D, index2coordinate, result)\n",
    "plot_splited_problem([cluster1, cluster2], [ncars // 2, ncars - ncars // 2])"
   ]
  },
  {
   "cell_type": "markdown",
   "metadata": {},
   "source": [
    "## まとめ\n",
    "最後に、以下のフローチャート（再掲）に沿って問題を分割$\\Rightarrow$分割後の問題を解くという一連の流れを実装していきます。\n",
    "![フローチャート](../figures/ride-share_clustering.png)\n",
    "まずは問題を分割するためのモデルを作成する関数を定義します。"
   ]
  },
  {
   "cell_type": "code",
   "execution_count": null,
   "metadata": {},
   "outputs": [],
   "source": [
    "def splitProblem(q, ncars, npeople, D, k1=None):\n",
    "    \"\"\"問題を分割するためのモデルを作成する関数\"\"\"\n",
    "    n = ncars + npeople\n",
    "    if k1 is None:  # 係数が大きすぎると逆に問題がありそうなので、なるべく小さく設定\n",
    "        k1 = 2 * int(max([sum(D[i]) for i in range(n)])) + 3\n",
    "    half_cars = ncars // 2\n",
    "    half_emp = npeople // 2\n",
    "    cost = einsum(\"ij,i,j->\", D, (2 * q - 1), (2 * q - 1))\n",
    "    constraints = equal_to(sum_poly(q[:ncars]), half_cars) + equal_to(\n",
    "        sum_poly(q[ncars:n]), half_emp\n",
    "    )\n",
    "    model = cost + k1 * constraints\n",
    "    return model, half_cars, half_emp"
   ]
  },
  {
   "cell_type": "markdown",
   "metadata": {},
   "source": [
    "続いて、生成された各子問題をモデル化するための関数を定義します。"
   ]
  },
  {
   "cell_type": "code",
   "execution_count": null,
   "metadata": {},
   "outputs": [],
   "source": [
    "def construct(ncars, npeople, D, C, k1=None, k2=None, alpha=1):\n",
    "    \"\"\"分割後の小規模な問題のためのモデルを作成する関数\"\"\"\n",
    "    D = regularizeDistance(D)\n",
    "    q = BinarySymbolGenerator().array(npeople, ncars)\n",
    "    cost = setObjective(q, ncars, npeople, D, C, alpha=alpha)\n",
    "    constraints = setConstraints(q, ncars, npeople, C, k1=k1, k2=k2, alpha=alpha)\n",
    "    model = cost + constraints\n",
    "    return model, q"
   ]
  },
  {
   "cell_type": "markdown",
   "metadata": {},
   "source": [
    "次に、子問題の最適化結果を統合するための関数を定義します。"
   ]
  },
  {
   "cell_type": "code",
   "execution_count": null,
   "metadata": {},
   "outputs": [],
   "source": [
    "def make_data(coord, q_values, C, last=0, data=None, nframe=1):\n",
    "    if data is None:\n",
    "        columns = [\"latitude\", \"longitude\", \"size\", \"name\", \"time\", \"color\"]\n",
    "        data = {label: list() for label in columns}\n",
    "    npeople = len(q_values)\n",
    "    ncars = len(q_values[0])\n",
    "    answer = dict()\n",
    "    for i in range(npeople):\n",
    "        car = np.where(np.array(q_values[i]) == 1)[0][-1]\n",
    "        if car not in answer:\n",
    "            answer[car] = []\n",
    "        answer[car].append(i + ncars)\n",
    "\n",
    "    loc = [[], []]\n",
    "    for k in range(ncars):\n",
    "        status = \"active\"\n",
    "        car_loc = coord[k]\n",
    "        if k in answer:\n",
    "            tmp = answer[k]\n",
    "            x = [coord[p][0] for p in tmp] + [car_loc[0]]\n",
    "            y = [coord[p][1] for p in tmp] + [car_loc[1]]\n",
    "        else:\n",
    "            x = car_loc[:1]\n",
    "            y = car_loc[1:]\n",
    "            status = \"empty\"\n",
    "        loc[0] += y\n",
    "        loc[1] += x\n",
    "        for i in range(nframe):\n",
    "            data[\"latitude\"] += list(\n",
    "                map(lambda a: ((nframe - i) * a + y[-1] * i) / nframe, y)\n",
    "            )\n",
    "            data[\"longitude\"] += list(\n",
    "                map(lambda a: ((nframe - i) * a + x[-1] * i) / nframe, x)\n",
    "            )\n",
    "            data[\"size\"] += [0.5] * (len(x) - 1) + [3]\n",
    "            data[\"name\"] += [f\"group{k+last}({status})\"] * len(x)\n",
    "            data[\"time\"] += [i] * len(x)\n",
    "            data[\"color\"] += [_colors[k + last]] * len(x)\n",
    "    return data"
   ]
  },
  {
   "cell_type": "code",
   "execution_count": null,
   "metadata": {},
   "outputs": [],
   "source": [
    "def plot_final_result(data):\n",
    "    m = folium.Map([sum(lat) / 2, sum(lon) / 2], tiles=\"Stamen Toner\", zoom_start=12)\n",
    "    df = pd.DataFrame(data)\n",
    "    for _name in data[\"name\"]:\n",
    "        tmp = df[df[\"name\"] == _name]\n",
    "        x = list(tmp[\"longitude\"])\n",
    "        y = list(tmp[\"latitude\"])\n",
    "        folium.Marker(\n",
    "            location=[y[-1], x[-1]],\n",
    "            popup=f\"cluster_{_name}\",\n",
    "            icon=folium.Icon(icon=\"car\", prefix=\"fa\", color=list(tmp[\"color\"])[-1]),\n",
    "        ).add_to(m)\n",
    "        for a, b, c in zip(y[:-1], x[:-1], list(tmp[\"color\"])[:-1]):\n",
    "            folium.Marker(\n",
    "                location=[a, b],\n",
    "                popup=f\"person_{_name}\",\n",
    "                icon=folium.Icon(icon=\"user\", prefix=\"fa\", color=\"white\", icon_color=c),\n",
    "            ).add_to(m)\n",
    "    return m"
   ]
  },
  {
   "cell_type": "markdown",
   "metadata": {},
   "source": [
    "続いて、分割後の問題の大きさを制御するパラメータ、$\\alpha$（車の台数に関する項の強さを設定）を管理する`namedtuple`を作成します。  \n",
    "今回は、問題を50ビットまで分割することにします。"
   ]
  },
  {
   "cell_type": "code",
   "execution_count": null,
   "metadata": {},
   "outputs": [],
   "source": [
    "from collections import namedtuple\n",
    "\n",
    "Parameter = namedtuple(\"Config\", (\"bit_size\", \"alpha\"))\n",
    "\n",
    "param = Parameter(bit_size=50, alpha=10)"
   ]
  },
  {
   "cell_type": "markdown",
   "metadata": {},
   "source": [
    "以下の`solve`関数を使って問題を解きます。  \n",
    "\n",
    "まず問題サイズがある程度小さくなるまで問題の分割を行い、次に分割後の問題を解いていく流れです。  \n",
    "小規模問題に必要なビット数は、(車の台数) * (利用者数 + 乗車可能人数)のため、  \n",
    "この値が事前に設定した値(今回は50)を上回っている限り2クラスのクラスタリングを行います。"
   ]
  },
  {
   "cell_type": "code",
   "execution_count": null,
   "metadata": {},
   "outputs": [],
   "source": [
    "from collections import deque\n",
    "from IPython.display import display\n",
    "import pandas as pd\n",
    "\n",
    "\n",
    "def solve(ncars, npeople, D, C, coord, param, debug=False):\n",
    "    print(\"問題設定\")\n",
    "    display(simple_plot(coord, ncars))\n",
    "    client = FixstarsClient()\n",
    "    client.parameters.timeout = 200  # 制限時間\n",
    "    solver = Solver(client)\n",
    "    print(\"問題を分割しています...\", end=\"\")\n",
    "    queue = deque([(ncars, npeople, D, coord)])\n",
    "    while (queue[0][1] + C) * queue[0][0] > param.bit_size:\n",
    "        (ncars, npeople, D, coord) = queue.popleft()\n",
    "\n",
    "        q = BinarySymbolGenerator().array(ncars + npeople)\n",
    "\n",
    "        model, ncars1, npeople1 = splitProblem(q, ncars, npeople, D)\n",
    "        result = solver.solve(model)\n",
    "        if len(result) == 0:\n",
    "            raise RuntimeError(\"No feasible solution was found.\")\n",
    "        D1, D2, C1, C2 = devide(q, D, coord, result)\n",
    "        queue.append((ncars1, npeople1, D1, C1))\n",
    "        queue.append((ncars - ncars1, npeople - npeople1, D2, C2))\n",
    "    print(\"完了\")\n",
    "    print(\"結果を描写しています...\", end=\"\")\n",
    "    m = plot_splited_problem([x[-1] for x in queue], [x[0] for x in queue])\n",
    "    display(m)\n",
    "    print(\"完了\")\n",
    "\n",
    "    print(\"分割後の問題を解いています...\")\n",
    "    client = FixstarsClient()\n",
    "    client.parameters.timeout = 1000  # 制限時間\n",
    "    solver = Solver(client)\n",
    "    index = 0\n",
    "    last = 0\n",
    "    data = None\n",
    "    while queue:\n",
    "        index += 1\n",
    "        (ncars, npeople, D, coord) = queue.pop()\n",
    "        model, q = construct(ncars, npeople, D, C, alpha=param.alpha)\n",
    "        result = solver.solve(model)\n",
    "        if len(result) == 0:\n",
    "            raise RuntimeError(\"No feasible solution was found.\")\n",
    "        print(f\"子問題{index}が解けました\")\n",
    "        q_values = q.decode(result[0].values)\n",
    "        data = make_data(coord, q_values, C, data=data, last=last)\n",
    "        last += ncars\n",
    "    print(\"結果を描写しています...\")\n",
    "    m = plot_final_result(data)\n",
    "    display(m)"
   ]
  },
  {
   "cell_type": "markdown",
   "metadata": {},
   "source": [
    "実際に解いてみましょう。"
   ]
  },
  {
   "cell_type": "code",
   "execution_count": null,
   "metadata": {},
   "outputs": [],
   "source": [
    "problem = generate_problem(lon, lat, parking, C=12, seed=0)"
   ]
  },
  {
   "cell_type": "code",
   "execution_count": null,
   "metadata": {},
   "outputs": [],
   "source": [
    "solve(*problem, param)"
   ]
  },
  {
   "cell_type": "code",
   "execution_count": null,
   "metadata": {},
   "outputs": [],
   "source": []
  }
 ],
 "metadata": {
  "language_info": {
   "name": "python",
   "pygments_lexer": "ipython3"
  }
 },
 "nbformat": 4,
 "nbformat_minor": 4
}
