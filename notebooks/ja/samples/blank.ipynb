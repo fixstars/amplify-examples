{
 "cells": [
  {
   "cell_type": "code",
   "execution_count": 2,
   "metadata": {},
   "outputs": [],
   "source": [
    "from amplify import *\n",
    "from amplify.constraint import *"
   ]
  },
  {
   "cell_type": "markdown",
   "metadata": {},
   "source": [
    "## クライアントの設定\n",
    "\n",
    "### Amplify Annealing Engine を使用する場合"
   ]
  },
  {
   "cell_type": "code",
   "execution_count": 8,
   "metadata": {},
   "outputs": [],
   "source": [
    "from amplify.client import FixstarsClient\n",
    "\n",
    "client = FixstarsClient()\n",
    "client.token = \"トークンを入力してください\"\n",
    "client.parameters.timeout = 1000  # タイムアウト1秒"
   ]
  },
  {
   "attachments": {},
   "cell_type": "markdown",
   "metadata": {},
   "source": [
    "### D-Wave 2000Q / Advantage を使用する場合"
   ]
  },
  {
   "cell_type": "code",
   "execution_count": null,
   "metadata": {},
   "outputs": [],
   "source": [
    "from amplify.client import DWaveSamplerClient\n",
    "\n",
    "client = DWaveSamplerClient()\n",
    "client.token = \"トークンを入力してください\"\n",
    "client.solver = \"DW_2000Q_VFYC_6\"\n",
    "client.parameters.num_reads = 100  # 実行回数 100\n",
    "\n",
    "client.solver = \"Advantage_system1.1\"\n",
    "client.parameters.num_reads = 100  # 実行回数 100"
   ]
  },
  {
   "cell_type": "markdown",
   "metadata": {},
   "source": [
    "### D-Wave Leap Hybrid を使用する場合"
   ]
  },
  {
   "cell_type": "code",
   "execution_count": null,
   "metadata": {},
   "outputs": [],
   "source": [
    "from amplify.client.ocean import LeapHybridSamplerClient\n",
    "\n",
    "client = LeapHybridSamplerClient()\n",
    "client.token = \"トークンを入力してください\"\n",
    "client.solver = \"hybrid_binary_quadratic_model_version2\"\n",
    "client.parameters.time_limit = 3  # タイムリミット3秒"
   ]
  },
  {
   "attachments": {},
   "cell_type": "markdown",
   "metadata": {},
   "source": [
    "### Fujitsu DA4 ソルバーを使用する場合"
   ]
  },
  {
   "cell_type": "code",
   "execution_count": null,
   "metadata": {},
   "outputs": [],
   "source": [
    "from amplify.client import FujitsuDA4SolverClient\n",
    "\n",
    "client = FujitsuDA4SolverClient()\n",
    "client.token = \"トークンを入力してください\"\n",
    "client.parameters.time_limit_sec = 3  # タイムリミット3秒"
   ]
  },
  {
   "cell_type": "markdown",
   "metadata": {},
   "source": [
    "### Toshiba SBM を使用する場合"
   ]
  },
  {
   "cell_type": "code",
   "execution_count": null,
   "metadata": {},
   "outputs": [],
   "source": [
    "from amplify.client import ToshibaClient\n",
    "\n",
    "client = ToshibaClient()\n",
    "client.url = \"http://xxx.xxx.xxx.xxx\"\n",
    "client.parameters.timeout = 1  # タイムアウト1秒"
   ]
  },
  {
   "cell_type": "markdown",
   "metadata": {},
   "source": [
    "### Hitachi CMOS アニーリングマシンを使用する場合"
   ]
  },
  {
   "cell_type": "code",
   "execution_count": null,
   "metadata": {},
   "outputs": [],
   "source": [
    "from amplify.client import HitachiClient\n",
    "\n",
    "client = HitachiClient()\n",
    "client.token = \"トークンを入力してください\"\n",
    "client.parameters.temperature_num_steps = 10\n",
    "client.parameters.temperature_step_length = 100\n",
    "client.parameters.temperature_initial = 100.0\n",
    "client.parameters.temperature_target = 0.02"
   ]
  },
  {
   "cell_type": "markdown",
   "metadata": {},
   "source": [
    "## 問題の定式化"
   ]
  },
  {
   "cell_type": "code",
   "execution_count": 4,
   "metadata": {},
   "outputs": [
    {
     "data": {
      "text/plain": [
       "- 2 q_0 q_1 + q_0 - q_1 + 1"
      ]
     },
     "execution_count": 4,
     "metadata": {},
     "output_type": "execute_result"
    }
   ],
   "source": [
    "# コスト関数の定式化例\n",
    "gen = BinarySymbolGenerator()\n",
    "q = gen.array(2)\n",
    "cost_func = -2 * q[0] * q[1] + q[0] - q[1] + 1\n",
    "cost_func"
   ]
  },
  {
   "cell_type": "code",
   "execution_count": 5,
   "metadata": {},
   "outputs": [
    {
     "data": {
      "text/plain": [
       "(q_0 + q_1 == 1, 2)"
      ]
     },
     "execution_count": 5,
     "metadata": {},
     "output_type": "execute_result"
    }
   ],
   "source": [
    "# 制約条件の定式化例\n",
    "constraint = 2 * equal_to(q[0] + q[1], 1)\n",
    "constraint"
   ]
  },
  {
   "cell_type": "code",
   "execution_count": 6,
   "metadata": {},
   "outputs": [],
   "source": [
    "# モデルの構築\n",
    "model = cost_func + constraint"
   ]
  },
  {
   "cell_type": "markdown",
   "metadata": {},
   "source": [
    "## マシンの実行"
   ]
  },
  {
   "cell_type": "code",
   "execution_count": 9,
   "metadata": {},
   "outputs": [],
   "source": [
    "# ソルバーの構築\n",
    "solver = Solver(client)\n",
    "\n",
    "# マシンの実行\n",
    "result = solver.solve(model)"
   ]
  },
  {
   "cell_type": "markdown",
   "metadata": {},
   "source": [
    "## 実行結果の取得"
   ]
  },
  {
   "cell_type": "code",
   "execution_count": 10,
   "metadata": {},
   "outputs": [
    {
     "name": "stdout",
     "output_type": "stream",
     "text": [
      "q = [0. 1.]\n",
      "energy = 0.0\n"
     ]
    }
   ],
   "source": [
    "for s in result:\n",
    "    print(f\"q = {q.decode(s.values)}\")\n",
    "    print(f\"energy = {s.energy}\")"
   ]
  },
  {
   "cell_type": "code",
   "execution_count": null,
   "metadata": {},
   "outputs": [],
   "source": []
  }
 ],
 "metadata": {
  "kernelspec": {
   "display_name": ".venv",
   "language": "python",
   "name": "python3"
  },
  "language_info": {
   "codemirror_mode": {
    "name": "ipython",
    "version": 3
   },
   "file_extension": ".py",
   "mimetype": "text/x-python",
   "name": "python",
   "nbconvert_exporter": "python",
   "pygments_lexer": "ipython3",
   "version": "3.10.6"
  }
 },
 "nbformat": 4,
 "nbformat_minor": 2
}
