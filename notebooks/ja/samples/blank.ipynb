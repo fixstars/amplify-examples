{
 "cells": [
  {
   "attachments": {},
   "cell_type": "markdown",
   "metadata": {},
   "source": [
    "# 様々なマシンを使う\n",
    "\n",
    "本チュートリアルでは、Fixstars Amplify で対応しているマシンの一部を利用する際のクライアントの設定例を紹介します。より包括的で詳細な説明は、[クライアントクラスに関するドキュメント](https://amplify.fixstars.com/ja/docs/client.html)をご覧ください。"
   ]
  },
  {
   "cell_type": "code",
   "execution_count": null,
   "metadata": {},
   "outputs": [],
   "source": [
    "from amplify import *\n",
    "from amplify.constraint import *"
   ]
  },
  {
   "attachments": {},
   "cell_type": "markdown",
   "metadata": {},
   "source": [
    "## クライアントの設定\n",
    "\n",
    "### Fixstars Amplify Annealing Engine (AE) を使用する場合"
   ]
  },
  {
   "cell_type": "code",
   "execution_count": null,
   "metadata": {},
   "outputs": [],
   "source": [
    "from amplify.client import FixstarsClient\n",
    "\n",
    "client = FixstarsClient()\n",
    "client.parameters.timeout = 1000  # タイムアウト1秒\n",
    "# client.token = \"xxxxxxxxxxxxxxxxxxxxxxxxxxxxxxxx\"  # ローカル環境等で使用する場合は、こちらのコメントアウトを外し、Fixstars Amplify AEのアクセストークンを入力してください。"
   ]
  },
  {
   "attachments": {},
   "cell_type": "markdown",
   "metadata": {},
   "source": [
    "### D-Wave 2000Q / Advantage を使用する場合"
   ]
  },
  {
   "cell_type": "code",
   "execution_count": null,
   "metadata": {},
   "outputs": [],
   "source": [
    "from amplify.client.ocean import DWaveSamplerClient\n",
    "\n",
    "client_dwave = DWaveSamplerClient()\n",
    "client_dwave.token = \"トークンを入力してください\"\n",
    "\n",
    "# D-Wave 2000Q\n",
    "client_dwave.solver = \"DW_2000Q_VFYC_6\"\n",
    "client_dwave.parameters.num_reads = 100  # 実行回数 100\n",
    "\n",
    "# D-Wave Advantage\n",
    "client_dwave.solver = \"Advantage_system1.1\"\n",
    "client_dwave.parameters.num_reads = 100  # 実行回数 100"
   ]
  },
  {
   "attachments": {},
   "cell_type": "markdown",
   "metadata": {},
   "source": [
    "### D-Wave Leap Hybrid を使用する場合"
   ]
  },
  {
   "cell_type": "code",
   "execution_count": null,
   "metadata": {},
   "outputs": [],
   "source": [
    "from amplify.client.ocean import LeapHybridSamplerClient\n",
    "\n",
    "client_leap_hybrid = LeapHybridSamplerClient()\n",
    "client_leap_hybrid.token = \"トークンを入力してください\"\n",
    "client_leap_hybrid.solver = \"hybrid_binary_quadratic_model_version2\"\n",
    "client_leap_hybrid.parameters.time_limit = 3  # タイムリミット3秒"
   ]
  },
  {
   "attachments": {},
   "cell_type": "markdown",
   "metadata": {},
   "source": [
    "### Fujitsu DA4 ソルバーを使用する場合"
   ]
  },
  {
   "cell_type": "code",
   "execution_count": null,
   "metadata": {},
   "outputs": [],
   "source": [
    "from amplify.client import FujitsuDA4SolverClient\n",
    "\n",
    "client_fujitsu_da4 = FujitsuDA4SolverClient()\n",
    "client_fujitsu_da4.token = \"トークンを入力してください\"\n",
    "client_fujitsu_da4.parameters.time_limit_sec = 3  # タイムリミット3秒"
   ]
  },
  {
   "attachments": {},
   "cell_type": "markdown",
   "metadata": {},
   "source": [
    "### Toshiba SBM を使用する場合"
   ]
  },
  {
   "cell_type": "code",
   "execution_count": null,
   "metadata": {},
   "outputs": [],
   "source": [
    "from amplify.client import ToshibaClient\n",
    "\n",
    "client_toshiba_sbm = ToshibaClient()\n",
    "client_toshiba_sbm.url = \"http://xxx.xxx.xxx.xxx\"  # API URL\n",
    "client_toshiba_sbm.parameters.timeout = 1  # タイムアウト1秒"
   ]
  },
  {
   "attachments": {},
   "cell_type": "markdown",
   "metadata": {},
   "source": [
    "### Hitachi CMOS アニーリングマシンを使用する場合"
   ]
  },
  {
   "cell_type": "code",
   "execution_count": null,
   "metadata": {},
   "outputs": [],
   "source": [
    "from amplify.client import HitachiClient\n",
    "\n",
    "client_hitachi = HitachiClient()\n",
    "client_hitachi.token = \"トークンを入力してください\"\n",
    "client_hitachi.parameters.temperature_num_steps = 10\n",
    "client_hitachi.parameters.temperature_step_length = 100\n",
    "client_hitachi.parameters.temperature_initial = 100.0\n",
    "client_hitachi.parameters.temperature_target = 0.02"
   ]
  },
  {
   "attachments": {},
   "cell_type": "markdown",
   "metadata": {},
   "source": [
    "## 問題の定式化"
   ]
  },
  {
   "cell_type": "code",
   "execution_count": null,
   "metadata": {},
   "outputs": [],
   "source": [
    "# コスト関数の定式化例\n",
    "gen = BinarySymbolGenerator()\n",
    "q = gen.array(2)\n",
    "cost_func = -2 * q[0] * q[1] + q[0] - q[1] + 1\n",
    "cost_func"
   ]
  },
  {
   "cell_type": "code",
   "execution_count": null,
   "metadata": {},
   "outputs": [],
   "source": [
    "# 制約条件の定式化例\n",
    "constraint = 2 * equal_to(q[0] + q[1], 1)\n",
    "constraint"
   ]
  },
  {
   "cell_type": "code",
   "execution_count": null,
   "metadata": {},
   "outputs": [],
   "source": [
    "# モデルの構築\n",
    "model = cost_func + constraint"
   ]
  },
  {
   "attachments": {},
   "cell_type": "markdown",
   "metadata": {},
   "source": [
    "## マシンの実行"
   ]
  },
  {
   "cell_type": "code",
   "execution_count": null,
   "metadata": {},
   "outputs": [],
   "source": [
    "# ソルバーの構築\n",
    "solver = Solver(client)\n",
    "\n",
    "# マシンの実行\n",
    "result = solver.solve(model)"
   ]
  },
  {
   "attachments": {},
   "cell_type": "markdown",
   "metadata": {},
   "source": [
    "## 実行結果の取得"
   ]
  },
  {
   "cell_type": "code",
   "execution_count": null,
   "metadata": {},
   "outputs": [],
   "source": [
    "for s in result:\n",
    "    print(f\"q = {q.decode(s.values)}\")\n",
    "    print(f\"energy = {s.energy}\")"
   ]
  }
 ],
 "metadata": {
  "language_info": {
   "name": "python",
   "pygments_lexer": "ipython3"
  }
 },
 "nbformat": 4,
 "nbformat_minor": 2
}
