{
 "cells": [
  {
   "cell_type": "markdown",
   "source": [
    "# 飲食店のタスク割当問題\n",
    "\n",
    "多くの従業員を擁する小売業やサービス業では、日々変動する多種多様な作業に対して、各従業員の役職やスキルを考慮して業務(タスク)を割り当てることが重要です。\n",
    "\n",
    "ここでは、飲食チェーン店を例として、従業員を店舗に割り当てる組合せ最適化問題に取り組みます。  \n",
    "適切な割り当てを行う事により、各店舗の業務に滞り無いように、業務の全体的な効率化と業務量の平準化を目指します。\n",
    "\n",
    "各従業員には次のような属性を持つこととします。\n",
    "\n",
    "*   (役職) 店長・副店長・食品衛生管理者・なし\n",
    "*   (役割) 調理担当・ホール担当\n",
    "*   (スキル) 調理スキル (複数)\n",
    "*   (店舗) 勤務可能場所\n",
    "\n",
    "また、各店舗には下記の要求(制約条件)が課せられているとします。\n",
    "\n",
    "*   役職、役割ごとの必要人数\n",
    "*   必要な調理スキル量\n",
    "\n",
    "以上を考慮した上で、各店舗、各役割に対する要求従業員数の充足率の最大化と分散の最小化を設定し、店舗毎の従業員割り当ての効率化と偏りの平準化を狙います。\n",
    "\n",
    "一度に全ての条件を考慮するのは複雑なので、少しずつ条件を増やしながら定式化を行います。"
   ],
   "metadata": {}
  },
  {
   "cell_type": "markdown",
   "source": [
    "## ステップ1: 勤務店舗の割当\n",
    "\n",
    "まずは、役職や役割を考慮せずに、従業員の店舗への割り当てのみを考えます。  \n",
    "各店舗には必要な従業員の人数が設定されており、一方で各従業員には\n",
    "\n",
    "*   0: 勤務不可能\n",
    "*   1: 勤務可能\n",
    "*   2: 勤務希望\n",
    "\n",
    "という値が店舗毎に設定されていることにします。  \n",
    "そこで、店舗の要求人数満たしつつ、従業員の希望度に剃った沿った勤務地の割当を考えます。\n",
    "\n",
    "### 定式化\n",
    "\n",
    "最初に定式化で用いる変数と記号を定義します。\n",
    "\n",
    "#### 集合\n",
    "\n",
    "*   $W$: 従業員集合 (記号 $i$ を用いて従業員を表す)\n",
    "*   $S$: 店舗集合 (記号 $l$ を用いて店舗を表す)\n",
    "\n",
    "#### 定数\n",
    "\n",
    "*   $r_{l}$: 店舗 $l \\in S$ の要求従業員数\n",
    "*   $c_{i,l}$: 従業員 $i \\in W$ が店舗 $l \\in S$ で勤務する場合の希望度\n",
    "\n",
    "#### 決定変数\n",
    "\n",
    "*   $L_{i,l}\\in \\{0,1\\}$: 従業員 $i\\in W$ を店舗  $l\\in S$ に割当てるか\n",
    "\n",
    "最適化の結果として出力される情報はどの従業員がどの店舗に割り当てられるのかを表します。したがって、従業員数 × 店舗数の変数 $L$ を $\\{0,1\\}$ 変数として宣言します。 \n",
    "\n",
    "例えば、従業員数が5名で、店舗として「博多店」と「天神店」がある場合、2 x 5 の10変数で表現されます。\n",
    "\n",
    "---\n",
    "| 従業員id|$博多$|$天神$|\n",
    "|:---:|:---:|:---:|\n",
    "| $0$|$L_{0,0}$|$L_{0,1}$\n",
    "| $1$|$L_{1,0}$|$L_{1,1}$\n",
    "| $2$|$L_{2,0}$|$L_{2,1}$\n",
    "| $3$|$L_{3,0}$|$L_{3,1}$\n",
    "| $4$|$L_{4,0}$|$L_{4,1}$\n",
    "---\n",
    "\n",
    "#### 目的関数\n",
    "\n",
    "店舗に従業員の偏りが起こることは望ましくありません。そこで、各店舗の要求従業員数に対する割当従業員の充足率を定義し下記を目的関数とします。\n",
    "\n",
    "* 充足率の平均最大化\n",
    "* 充足率の分散最小化\n",
    "* 従業員の勤務希望地の最大化\n",
    "\n",
    "**充足率の定義**\n",
    "\n",
    "店舗$l$における要求人数に対する従業員数の充足率$w_l$\n",
    "\n",
    "$$\n",
    "\\begin{align*}\n",
    "    w_l := \\frac{1}{r_l} \\displaystyle\\sum_{i\\in W} L_{i,l}\n",
    "\\end{align*}\n",
    "$$\n",
    "    \n",
    "**充足率の平均の最大化**\n",
    "\n",
    "$$\n",
    "\\begin{matrix}\n",
    "    {\\rm maximize} & \\left< w_l \\right>\n",
    "\\end{matrix}\n",
    "$$\n",
    "\n",
    "\n",
    "\n",
    "**充足率の分散の最小化**\n",
    "\n",
    "$$\n",
    "\\begin{matrix}\n",
    "    {\\rm minimize} & \\left< w_l^2 \\right> - \\left< w_l \\right>^2\n",
    "\\end{matrix}\n",
    "$$\n",
    "\n",
    "**従業員の希望度の最大化**\n",
    "\n",
    "$$\n",
    "\\begin{matrix}\n",
    "    {\\rm maximize}& \\displaystyle \\sum_{i\\in W}\\sum_{l\\in S}c_{i,l}L_{i,l}\n",
    "\\end{matrix}\n",
    "$$\n",
    "    \n",
    "#### 制約条件\n",
    "\n",
    "先ほどの決定変数の定義では、同じ従業員が同時に複数の店舗に勤務するような状況が発生するため、それを明示的に禁止するような制約を与えます。また、店舗毎に要求人数が定数として設定されています。\n",
    "\n",
    "**従業員$i$は同時に1店舗のみ勤務する**\n",
    "\n",
    "$$\n",
    "\\begin{align*}\n",
    "    \\forall i\\in W, \\sum_{l \\in S}L_{i,l} = 1\n",
    "\\end{align*}\n",
    "$$\n",
    "\n",
    "**各店舗の要求人数以上の人員を配置する**\n",
    "\n",
    "$$\n",
    "\\begin{align*}\n",
    "    \\forall l \\in S, \\sum_{i\\in W}L_{i,l} \\geq r_{l}\n",
    "\\end{align*}\n",
    "$$\n",
    "\n",
    "### データの作成\n",
    "\n",
    "上記の定式化において、各店舗の要求人数の情報と各従業員の勤務希望情報が入力として与えられます。例として、従業員数5名、店舗数2のデータを下記の様に作成します。  \n",
    "データの格納には`pandas.DataFrame`を使用します。\n"
   ],
   "metadata": {}
  },
  {
   "cell_type": "code",
   "execution_count": null,
   "source": [
    "import pandas as pd\n",
    "\n",
    "# 各店舗の要求人数情報の読み込み\n",
    "dict_req = dict(location=[\"tenjin\", \"hakata\"], employee=[2, 3])\n",
    "\n",
    "# 各従業員の勤務希望情報の読み込み\n",
    "dict_worker_loc = dict(\n",
    "    worker_id=[0, 1, 2, 3, 4], tenjin=[2, 2, 1, 0, 1], hakata=[1, 1, 1, 1, 0]\n",
    ")\n",
    "\n",
    "df_req = pd.DataFrame.from_dict(dict_req, orient=\"index\").T\n",
    "print(\"各店舗の従業員要求人数\")\n",
    "display(df_req.style.hide_index())\n",
    "df_worker_loc = pd.DataFrame.from_dict(dict_worker_loc, orient=\"index\").T\n",
    "print(\"\\n各従業員の勤務希望情報\")\n",
    "display(df_worker_loc.style.hide_index())\n",
    "\n",
    "## 店舗名の取得\n",
    "workers = df_worker_loc[\"worker_id\"].values\n",
    "locations = df_req[\"location\"].values\n",
    "\n",
    "## 各データ長を取得\n",
    "num_workers = len(workers)\n",
    "num_locations = len(locations)"
   ],
   "outputs": [],
   "metadata": {}
  },
  {
   "cell_type": "markdown",
   "source": [
    "店舗名と変数のインデックスをそれぞれkeyとvalueとする辞書を作成しておきます。"
   ],
   "metadata": {}
  },
  {
   "cell_type": "code",
   "execution_count": null,
   "source": [
    "# dictの作成\n",
    "idx2loc = dict((i, v) for i, v in enumerate(df_req[\"location\"].values))\n",
    "loc2idx = dict((v, i) for i, v in enumerate(df_req[\"location\"].values))"
   ],
   "outputs": [],
   "metadata": {}
  },
  {
   "cell_type": "markdown",
   "source": [
    "### Amplify による定式化\n",
    "\n",
    "それでは Amplify を用いて定式化します。最初に変数 $L$ を表す変数 `location_variables` を `BinarySymbolGenerator` クラスで作成します。"
   ],
   "metadata": {}
  },
  {
   "cell_type": "code",
   "execution_count": null,
   "source": [
    "# 従業員iが勤務地lで勤務することを表す変数\n",
    "from amplify import BinarySymbolGenerator\n",
    "\n",
    "gen = BinarySymbolGenerator()\n",
    "location_variables = gen.array(num_workers, num_locations)"
   ],
   "outputs": [],
   "metadata": {}
  },
  {
   "cell_type": "markdown",
   "source": [
    "勤務不可能店舗に関しては勤務しないことがわかっているため、`location_variables` に先に定数を与えます。これは問題の簡略化に役立ちます。変数を定数化する場合は `BinaryPoly` クラスの定数として与えます。"
   ],
   "metadata": {}
  },
  {
   "cell_type": "code",
   "execution_count": null,
   "source": [
    "## 勤務不可能地域に関しては変数を定数化\n",
    "from itertools import product\n",
    "\n",
    "for i, l in product(range(num_workers), locations):\n",
    "    worker_req = df_worker_loc.iloc[i][l]\n",
    "    if worker_req == 0:\n",
    "        # 勤務不可\n",
    "        location_variables[i, loc2idx[l]] = 0\n",
    "\n",
    "## 勤務不可能地域に関する変数が0に固定されている\n",
    "print(location_variables)"
   ],
   "outputs": [],
   "metadata": {}
  },
  {
   "cell_type": "markdown",
   "source": [
    "次に各店舗の要求人数に対する充足率 `w` を計算します。\n",
    "\n",
    "$$\n",
    "\\begin{align*}\n",
    "    w_l := \\frac{1}{r_l} \\displaystyle\\sum_{i\\in W} L_{i,l}\n",
    "\\end{align*}\n",
    "$$"
   ],
   "metadata": {}
  },
  {
   "cell_type": "code",
   "execution_count": null,
   "source": [
    "## 充足率の計算\n",
    "from amplify import sum_poly, BinaryPolyArray\n",
    "\n",
    "w = location_variables.sum(axis=0) / df_req[\"employee\"].values"
   ],
   "outputs": [],
   "metadata": {}
  },
  {
   "cell_type": "markdown",
   "source": [
    "そして目的関数の各項目を計算します。最大化する目的についてはマイナスを付けることで最小化問題に変換します。\n",
    "\n",
    "**充足率の平均の最大化**\n",
    "\n",
    "$$\n",
    "\\begin{matrix}\n",
    "    {\\rm minimize} & -\\left< w_l \\right>\n",
    "\\end{matrix}\n",
    "$$\n",
    "\n",
    "**充足率の分散の最小化**\n",
    "\n",
    "$$\n",
    "\\begin{matrix}\n",
    "    {\\rm minimize} & \\left< w_l^2 \\right> - \\left< w_l \\right>^2\n",
    "\\end{matrix}\n",
    "$$\n",
    "\n",
    "**従業員の希望度の最大化**\n",
    "\n",
    "$$\n",
    "\\begin{matrix}\n",
    "    {\\rm minimize}& \\displaystyle -\\sum_{i\\in W}\\sum_{l\\in S}c_{i,l}L_{i,l}\n",
    "\\end{matrix}\n",
    "$$"
   ],
   "metadata": {}
  },
  {
   "cell_type": "code",
   "execution_count": null,
   "source": [
    "# 充足率の平均の最大化\n",
    "average_fill_rate_cost = -((w.sum() / w.size) ** 2)\n",
    "\n",
    "# 充足率の分散の最小化\n",
    "variance_fill_rate_cost = (w * w).sum() / w.size - (w.sum() / w.size) ** 2\n",
    "\n",
    "# 従業員の希望度最大化\n",
    "location_cost = -sum_poly(\n",
    "    num_workers,\n",
    "    lambda i: sum_poly(\n",
    "        num_locations,\n",
    "        lambda l: df_worker_loc.loc[i][idx2loc[l]] * location_variables[i, l],\n",
    "    ),\n",
    ")"
   ],
   "outputs": [],
   "metadata": {}
  },
  {
   "cell_type": "markdown",
   "source": [
    "最後に制約条件を与えます。\n",
    "\n",
    "**従業員$i$は同時に1店舗のみ勤務する**\n",
    "\n",
    "$$\n",
    "\\begin{align*}\n",
    "    \\forall i\\in W, \\sum_{l \\in S}L_{i,l} = 1\n",
    "\\end{align*}\n",
    "$$\n",
    "\n",
    "**各店舗要求人数以上の人員を配置する**\n",
    "\n",
    "$$\n",
    "\\begin{align*}\n",
    "    \\forall l \\in S, \\sum_{i\\in W}L_{i,l} \\geq r_{l}\n",
    "\\end{align*}\n",
    "$$\n",
    "\n",
    "一つ目の制約条件はOne-hot制約なので、`one_hot` を用いて記述します。(あるいは等式制約なので `equal_to` を用いて記述することもできます。)\n",
    "二つ目の制約式は不等式制約なので `greater_equal` を用いて記述します。"
   ],
   "metadata": {}
  },
  {
   "cell_type": "code",
   "execution_count": null,
   "source": [
    "from amplify.constraint import equal_to, greater_equal, one_hot\n",
    "\n",
    "# 従業員iは同時に1店舗のみ勤務できる\n",
    "location_constarints = sum(one_hot(location_variables[i]) for i in range(num_workers))\n",
    "\n",
    "# 店舗の合計人数は要求人数以上\n",
    "require_constraints = sum(\n",
    "    greater_equal(location_variables[:, l], df_req[\"employee\"][l])\n",
    "    for l in range(num_locations)\n",
    ")\n",
    "# require_constraints = greater_equal(location_variables.sum(axis=0), df_req[\"employee\"].values).sum()"
   ],
   "outputs": [],
   "metadata": {}
  },
  {
   "cell_type": "markdown",
   "source": [
    "以上の目的関数と制約式から最適化モデルを作成します。  \n",
    "\n",
    "目的関数はそれぞれの項目に係数をかけて優先順位を設定します。下記の `loc_priority`, `ave_fill_priority`, `var_fill_priority` はそれぞれ、勤務地希望度、充足率平均、充足率分散に対応する係数です。この時、それぞれの目的関数がどの程度の値になるのかを考慮して係数を決定します。例えば分散は正の小さい値になるので、目的関数として考慮させるには大きな係数を与える必要があるでしょう。"
   ],
   "metadata": {}
  },
  {
   "cell_type": "code",
   "execution_count": null,
   "source": [
    "# それぞれの目的関数の係数\n",
    "loc_priority = 1\n",
    "ave_fill_priority = 1\n",
    "var_fill_priority = 10\n",
    "\n",
    "# 目的関数\n",
    "cost_func = (\n",
    "    loc_priority * location_cost\n",
    "    + ave_fill_priority * average_fill_rate_cost\n",
    "    + var_fill_priority * variance_fill_rate_cost\n",
    ")"
   ],
   "outputs": [],
   "metadata": {}
  },
  {
   "cell_type": "markdown",
   "source": [
    "制約条件についても適切に強さを設定する必要があります。制約条件は目的関数に対するペナルティ関数としてイジングマシンに与えられるため、目的関数の取り得る値より大きめの値を推定して決定します。ここでは $10$ 程度の値を与えておけば十分でしょう。"
   ],
   "metadata": {}
  },
  {
   "cell_type": "code",
   "execution_count": null,
   "source": [
    "# 制約条件を表すペナルティ関数の重み\n",
    "constraint_weight = 10\n",
    "\n",
    "# 制約条件\n",
    "constraints = constraint_weight * (location_constarints + require_constraints)"
   ],
   "outputs": [],
   "metadata": {}
  },
  {
   "cell_type": "markdown",
   "source": [
    "以上で定式化は完了です。次に使用するイジングマシンのクライアントを設定します。"
   ],
   "metadata": {}
  },
  {
   "cell_type": "code",
   "execution_count": null,
   "source": [
    "from amplify.client import FixstarsClient\n",
    "\n",
    "# クライアントの設定\n",
    "client = FixstarsClient()\n",
    "# client.token = \"xxxxxxxxxxxxxxxxxxxxxxxxxxxxxxxx\"  # ローカル環境では Amplify AEのアクセストークンを入力してください\n",
    "client.parameters.timeout = 1000  #  タイムアウト１秒"
   ],
   "outputs": [],
   "metadata": {}
  },
  {
   "cell_type": "markdown",
   "source": [
    "クライアントからソルバーを作成し、定式化したモデルを最適化します。"
   ],
   "metadata": {}
  },
  {
   "cell_type": "code",
   "execution_count": null,
   "source": [
    "from amplify import Solver\n",
    "\n",
    "# 最適化モデル\n",
    "model = cost_func + constraints\n",
    "\n",
    "# ソルバーを定義して実行\n",
    "solver = Solver(client)\n",
    "result = solver.solve(model)"
   ],
   "outputs": [],
   "metadata": {}
  },
  {
   "cell_type": "markdown",
   "source": [
    "変数 `location_variables` に対応した解を取得するために `decode` メソッドを用いて解を取り出します。取得した解を `location_solutions` とします。"
   ],
   "metadata": {}
  },
  {
   "cell_type": "code",
   "execution_count": null,
   "source": [
    "# 制約条件チェック\n",
    "if len(result) == 0:\n",
    "    raise RuntimeError(\"The given constraints are not satisfied\")\n",
    "values = result[0].values\n",
    "energy = result[0].energy\n",
    "\n",
    "# 勤務地に関する変数の解\n",
    "location_solutions = location_variables.decode(values, 0)"
   ],
   "outputs": [],
   "metadata": {}
  },
  {
   "cell_type": "markdown",
   "source": [
    "### 結果の解析\n",
    "\n",
    "結果から従業員がそれぞれがどこの店舗で勤務を行うのか出力します。 変数 `location_solutions`において、`location_solutions[i][l]` が $1$ であれば従業員 $i$ は店舗 $l$ で勤務することを表します。したがって、解が$1$であるインデックスを取り出すことで、どの従業員がどの店舗で勤務するのかを取得できます。\n",
    "\n",
    "表データで出力するために、`pandas.DataFrame`に結果を格納します。"
   ],
   "metadata": {}
  },
  {
   "cell_type": "code",
   "execution_count": null,
   "source": [
    "import numpy as np\n",
    "from collections import defaultdict\n",
    "\n",
    "location_index_list = np.where(np.array(location_solutions) == 1)[1]\n",
    "dict_df = defaultdict(list)\n",
    "\n",
    "for i, loc_ind in enumerate(location_index_list):\n",
    "    ## 配属勤務地\n",
    "    worker_id = df_worker_loc.loc[i][\"worker_id\"]\n",
    "    loc = locations[loc_ind]\n",
    "    dict_df[\"worker_id\"].append(worker_id)\n",
    "    dict_df[\"location\"].append(loc)\n",
    "\n",
    "df_result = pd.DataFrame.from_dict(dict_df, orient=\"index\").T\n",
    "display(df_result.style.hide_index())"
   ],
   "outputs": [],
   "metadata": {}
  },
  {
   "cell_type": "markdown",
   "source": [
    "最後にどの程度店舗の要求人数を満たしているか確認します。次のようにして、店舗の割り当て要求人数を合計人数で割ることで得られます。"
   ],
   "metadata": {}
  },
  {
   "cell_type": "code",
   "execution_count": null,
   "source": [
    "num_member = df_result[\"location\"].value_counts()\n",
    "fill_rate = df_req.copy()\n",
    "fill_rate[\"fill_rate\"] = [\n",
    "    df_req.loc[l][\"employee\"] / num_member[idx2loc[l]] for l in range(num_locations)\n",
    "]\n",
    "display(fill_rate.style.hide_index())"
   ],
   "outputs": [],
   "metadata": {}
  },
  {
   "cell_type": "markdown",
   "source": [
    "以上より、従業員割り当てが上手く行われたことが確認できました。"
   ],
   "metadata": {}
  },
  {
   "cell_type": "markdown",
   "source": [
    "## ステップ2: 店舗と役職の割当\n",
    "\n",
    "ステップ1の設定条件に加えて、各店舗の**役職毎**の要求人数を満たすような従業員割り当てを行います。具体的には、ある店舗Aでは店長が1人、一般従業員３人が必要なので、それを満たすように人員を配置するといった問題です。例として、「店長・副店長・一般従業員」という役職を用意します。ただし、店長と副店長は兼任できないものとします。各従業員には先ほどの勤務希望地に加えて、それぞれの役職が担当可能かどうかを表す属性を持つことにします。\n",
    "\n",
    "\n",
    "![img](../figures/employee_step2.png \"ex: コンビニの従業員割り当て\")\n",
    "\n",
    "### 定式化\n",
    "\n",
    "定式化に用いる変数と記号を定義し直します。\n",
    "\n",
    "#### 集合\n",
    "\n",
    "*   $W$: 従業員集合 (記号 $i$ を用いて従業員を表す)\n",
    "*   $S$: 店舗集合 (記号 $l$ を用いて店舗を表す)\n",
    "*   $R$: 役職集合 (記号 $j$ を用いて役職を表す)\n",
    "    *   $j=0$: 店長\n",
    "    *   $j=1$: 副店長\n",
    "    *   $j=2$: なし \n",
    "\n",
    "#### 定数\n",
    "\n",
    "*   $r_{j,l}$: 店舗 $l \\in S$ の役職 $j \\in R$ の要求従業員数\n",
    "*   $c_{i,l}$: 従業員 $i \\in W$ が店舗 $l \\in S$ で勤務する場合の希望度\n",
    "*   $m_{i,j}$: 従業員 $i \\in W$ が役職 $j \\in R$ に割当て可能か (0:不可能, 1:可能)\n",
    "\n",
    "#### 決定変数\n",
    "\n",
    "*   $M_{i,j,l}\\in \\{0,1\\}$: 従業員 $i\\in W$ を店舗 $l\\in S$ で役職 $j\\in R$ へ割当てるか\n",
    "*   $L_{i,l}\\in \\{0,1\\}$: 従業員 $i\\in W$ を店舗  $l\\in S$ に割当てるか\n",
    "    *   $L_{i,l} = \\sum_{j \\in R} M_{i,j,l}$ の関係がある\n",
    "\n",
    "#### 目的関数\n",
    "\n",
    "ステップ1と同様に、各店舗の役職に対する要求従業員数に対する割当従業員の充足率を定義し、下記を目的関数とします。\n",
    "\n",
    "* 充足率の平均最大化\n",
    "* 充足率の分散最小化\n",
    "* 従業員の勤務希望地の最大化\n",
    "\n",
    "**充足率の定義**\n",
    "\n",
    "店舗$l$における要求人数に対する従業員数の充足率$w_l$\n",
    "\n",
    "$$\n",
    "\\begin{align*}\n",
    "    w_l := \\frac{\\displaystyle \\sum_{i\\in W} L_{i,l}}{\\displaystyle \\sum_{j\\in R} r_{j,l}}  \n",
    "\\end{align*}\n",
    "$$\n",
    "    \n",
    "**充足率の平均の最大化**\n",
    "\n",
    "$$\n",
    "\\begin{matrix}\n",
    "    {\\rm maximize} & \\left< w_l \\right>\n",
    "\\end{matrix}\n",
    "$$\n",
    "\n",
    "**充足率の分散の最小化**\n",
    "\n",
    "$$\n",
    "\\begin{matrix}\n",
    "    {\\rm minimize} & \\left< w_l^2 \\right> - \\left< w_l \\right>^2\n",
    "\\end{matrix}\n",
    "$$\n",
    "\n",
    "**従業員の希望度の最大化**\n",
    "\n",
    "$$\n",
    "\\begin{matrix}\n",
    "    {\\rm maximize}& \\displaystyle \\sum_{i\\in W}\\sum_{l\\in S}c_{i,l}L_{i,l}\n",
    "\\end{matrix}\n",
    "$$\n",
    "    \n",
    "#### 制約条件\n",
    "\n",
    "ステップ1に役職に関する制約を加えます。\n",
    "\n",
    "**従業員$i$は同時に1店舗のみ勤務する**\n",
    "\n",
    "$$\n",
    "\\begin{align*}\n",
    "    \\forall i\\in W, \\sum_{l \\in S}L_{i,l} = 1\n",
    "\\end{align*}\n",
    "$$\n",
    "\n",
    "**各店舗の要求人数に等しい管理職を配置する**\n",
    "\n",
    "$$\n",
    "    \\forall l \\in S, \\forall j \\in \\left\\{0, 1 \\right\\}, \\sum_{i\\in W}M_{i,j,l} = r_{j,l}\n",
    "$$\n",
    "\n",
    "**各店舗の要求人数以上の従業員を配置する**\n",
    "\n",
    "$$\n",
    "\\begin{align*}\n",
    "    \\forall l \\in S, \\sum_{i\\in W} L_{i,l} \\geq \\sum_{j\\in R}r_{j,l}\n",
    "\\end{align*}\n",
    "$$"
   ],
   "metadata": {}
  },
  {
   "cell_type": "markdown",
   "source": [
    "### データの作成\n",
    "\n",
    "上記の定式化において、各店舗の要求人数の情報と各従業員の勤務希望とスキル情報が入力として与えられます。例として、従業員数9名、店舗数4のデータを下記に作成します。  "
   ],
   "metadata": {}
  },
  {
   "cell_type": "code",
   "execution_count": null,
   "source": [
    "import pandas as pd\n",
    "\n",
    "# 各店舗の要求役割情報\n",
    "dict_req = dict(\n",
    "    location=[\"tenjin\", \"hakata\", \"akasaka\", \"gakken\"],\n",
    "    manager=[1, 1, 1, 1],\n",
    "    submanager=[1, 0, 1, 1],\n",
    "    employee=[2, 2, 2, 2],\n",
    ")\n",
    "df_req = pd.DataFrame.from_dict(dict_req, orient=\"index\").T\n",
    "\n",
    "# 各従業員の勤務希望情報\n",
    "dict_worker_loc = dict(\n",
    "    worker_id=[0, 1, 2, 3, 4, 5, 6, 7, 8],\n",
    "    tenjin=[2, 0, 0, 0, 1, 1, 2, 1, 1],\n",
    "    hakata=[1, 0, 0, 2, 2, 2, 1, 2, 1],\n",
    "    akasaka=[1, 0, 0, 1, 0, 1, 1, 1, 2],\n",
    "    gakken=[1, 2, 2, 0, 0, 0, 0, 0, 0],\n",
    ")\n",
    "df_worker_loc = pd.DataFrame.from_dict(dict_worker_loc, orient=\"index\").T\n",
    "\n",
    "# 各従業員のスキル情報の読み込み\n",
    "dict_worker_skill = dict(\n",
    "    worker_id=[0, 1, 2, 3, 4, 5, 6, 7, 8],\n",
    "    manager=[1, 1, 0, 0, 1, 1, 1, 0, 1],\n",
    "    submanager=[1, 1, 1, 0, 1, 1, 1, 0, 1],\n",
    "    employee=[1, 1, 1, 1, 1, 1, 1, 1, 1],\n",
    ")\n",
    "df_worker_skill = pd.DataFrame.from_dict(dict_worker_skill, orient=\"index\").T"
   ],
   "outputs": [],
   "metadata": {}
  },
  {
   "cell_type": "markdown",
   "source": [
    "各店舗の manager(店長), submanager(副店長), employee(全従業員)に関する要求人数が `df_req` に格納されています。簡単のために、`df_req[\"employee\"]` には $\\sum_{j\\in R} r_{j,l}$ を与えます。"
   ],
   "metadata": {}
  },
  {
   "cell_type": "code",
   "execution_count": null,
   "source": [
    "display(df_req.style.hide_index())"
   ],
   "outputs": [],
   "metadata": {}
  },
  {
   "cell_type": "markdown",
   "source": [
    "各従業員の各店舗に対する勤務希望度は `df_worker_loc` に格納されています。"
   ],
   "metadata": {}
  },
  {
   "cell_type": "code",
   "execution_count": null,
   "source": [
    "display(df_worker_loc.style.hide_index())"
   ],
   "outputs": [],
   "metadata": {}
  },
  {
   "cell_type": "markdown",
   "source": [
    "`df_worker_skill` には、各従業員の役職情報を格納しています。もし値が $1$ ならその役職が担当可能であることを表します。\n",
    "例えば、`worker_id = 1` の従業員は店長と副店長が担当可能であることがわかります。一方 `worker_id = 7` の従業員は管理職を担当することができません。"
   ],
   "metadata": {}
  },
  {
   "cell_type": "code",
   "execution_count": null,
   "source": [
    "display(df_worker_skill.style.hide_index())"
   ],
   "outputs": [],
   "metadata": {}
  },
  {
   "cell_type": "markdown",
   "source": [
    "次のように従業員id、店舗名、役職名とインデックスの対応関係を調べておきます。"
   ],
   "metadata": {}
  },
  {
   "cell_type": "code",
   "execution_count": null,
   "source": [
    "# 従業員id\n",
    "workers = df_worker_loc[\"worker_id\"].values\n",
    "# 店舗名\n",
    "locations = df_req[\"location\"].values\n",
    "# 役職名\n",
    "roles = [\"manager\", \"submanager\", \"employee\"]\n",
    "\n",
    "# dictの作成\n",
    "idx2loc = dict((i, v) for i, v in enumerate(locations))\n",
    "loc2idx = dict((v, i) for i, v in enumerate(locations))\n",
    "idx2role = dict((i, v) for i, v in enumerate(roles))\n",
    "role2idx = dict((v, i) for i, v in enumerate(roles))\n",
    "\n",
    "# 各データ長を取得\n",
    "num_workers = len(workers)\n",
    "num_locations = len(locations)\n",
    "num_roles = len(roles)"
   ],
   "outputs": [],
   "metadata": {}
  },
  {
   "cell_type": "markdown",
   "source": [
    "### Amplify による定式化\n",
    "\n",
    "それでは Amplify を用いて定式化します。最初に変数 $M$ を表す変数 `role_variables` を `BinarySymbolGenerator` で作成します。従業員、役職、店舗の3次元配列であることに注意してください。"
   ],
   "metadata": {}
  },
  {
   "cell_type": "code",
   "execution_count": null,
   "source": [
    "# 従業員iが役職jで店舗lに勤務することを表す変数\n",
    "role_variables = BinarySymbolGenerator().array(num_workers, num_roles, num_locations)"
   ],
   "outputs": [],
   "metadata": {}
  },
  {
   "cell_type": "markdown",
   "source": [
    "ステップ1と同様に勤務できない店舗や役職に関しては事前に変数の値を代入しておきます。"
   ],
   "metadata": {}
  },
  {
   "cell_type": "code",
   "execution_count": null,
   "source": [
    "for i, l in product(range(num_workers), locations):\n",
    "    worker_req = df_worker_loc.iloc[i][l]\n",
    "    if worker_req == 0:\n",
    "        # 全ての役職で店舗割当が不可\n",
    "        role_variables[i, :, loc2idx[l]] = 0\n",
    "\n",
    "for i, j in product(range(num_workers), roles):\n",
    "    worker_skill = df_worker_skill.iloc[i][j]\n",
    "    if worker_skill == 0:\n",
    "        # 全ての店舗で役職が不可\n",
    "        role_variables[i, role2idx[j], :] = 0\n",
    "\n",
    "## 勤務不可能店舗・役職に関する変数が0に固定されている\n",
    "print(role_variables)"
   ],
   "outputs": [],
   "metadata": {}
  },
  {
   "cell_type": "markdown",
   "source": [
    "変数 $L$ を表す `location_variables` については、変数 $M$ から次のようにして得られます。"
   ],
   "metadata": {}
  },
  {
   "cell_type": "code",
   "execution_count": null,
   "source": [
    "from amplify import BinaryPolyArray\n",
    "\n",
    "location_variables = role_variables.sum(axis=1)\n",
    "display(location_variables)"
   ],
   "outputs": [],
   "metadata": {}
  },
  {
   "cell_type": "markdown",
   "source": [
    "次に各店舗の要求人数に対する充足率 $w$ を計算します。これはステップ1と同様です。\n",
    "\n",
    "$$\n",
    "\\begin{align*}\n",
    "    w_l := \\frac{\\displaystyle \\sum_{i\\in W} L_{i,l}}{\\displaystyle \\sum_{j\\in R} r_{j,l}}  \n",
    "\\end{align*}\n",
    "$$\n",
    "\n",
    "分母の $\\sum_{j\\in R} r_{j,l}$ は計算済みで `df_req[\"employee\"]` で与えられることに注意してください。"
   ],
   "metadata": {}
  },
  {
   "cell_type": "code",
   "execution_count": null,
   "source": [
    "# 充足率の計算\n",
    "w = location_variables.sum(axis=0) / df_req[\"employee\"].values\n",
    "display(w)"
   ],
   "outputs": [],
   "metadata": {}
  },
  {
   "cell_type": "markdown",
   "source": [
    "目的関数の各項目を計算します。最大化する目的についてはマイナスを付けることで最小化問題に変換します。\n",
    "\n",
    "**充足率の平均の最大化**\n",
    "\n",
    "$$\n",
    "\\begin{matrix}\n",
    "    {\\rm minimize} & -\\left< w_l \\right>\n",
    "\\end{matrix}\n",
    "$$\n",
    "\n",
    "**充足率の分散の最小化**\n",
    "\n",
    "$$\n",
    "\\begin{matrix}\n",
    "    {\\rm minimize} & \\left< w_l^2 \\right> - \\left< w_l \\right>^2\n",
    "\\end{matrix}\n",
    "$$\n",
    "\n",
    "**従業員の希望度の最大化**\n",
    "\n",
    "$$\n",
    "\\begin{matrix}\n",
    "    {\\rm minimize}& \\displaystyle -\\sum_{i\\in W}\\sum_{l\\in S}c_{i,l}L_{i,l}\n",
    "\\end{matrix}\n",
    "$$"
   ],
   "metadata": {}
  },
  {
   "cell_type": "code",
   "execution_count": null,
   "source": [
    "# 充足率の平均の最大化\n",
    "average_fill_rate_cost = -((w.sum() / w.size) ** 2)\n",
    "\n",
    "# 充足率の分散の最小化\n",
    "variance_fill_rate_cost = (w * w).sum() / w.size - (w.sum() / w.size) ** 2\n",
    "\n",
    "# 従業員の希望度最大化\n",
    "location_cost = -sum_poly(\n",
    "    num_workers,\n",
    "    lambda i: sum_poly(\n",
    "        num_locations,\n",
    "        lambda l: df_worker_loc.loc[i][idx2loc[l]] * location_variables[i][l],\n",
    "    ),\n",
    ")"
   ],
   "outputs": [],
   "metadata": {}
  },
  {
   "cell_type": "code",
   "execution_count": null,
   "source": [
    "df_worker_loc"
   ],
   "outputs": [],
   "metadata": {}
  },
  {
   "cell_type": "markdown",
   "source": [
    "最後に制約条件を与えます。\n",
    "\n",
    "**従業員$i$は同時に1店舗のみ勤務する**\n",
    "\n",
    "$$\n",
    "\\begin{align*}\n",
    "    \\forall i\\in W, \\sum_{l \\in S}L_{i,l} = 1\n",
    "\\end{align*}\n",
    "$$\n",
    "\n",
    "**各店舗の要求人数に等しい管理職を配置する**\n",
    "\n",
    "$$\n",
    "    \\forall l \\in S, \\forall j \\in \\left\\{0, 1 \\right\\}, \\sum_{i\\in W}M_{i,j,l} = r_{j,l}\n",
    "$$\n",
    "\n",
    "**各店舗の要求人数以上の従業員を配置する**\n",
    "\n",
    "$$\n",
    "\\begin{align*}\n",
    "    \\forall l \\in S, \\sum_{i\\in W} L_{i,l} \\geq \\sum_{j\\in R} r_{j,l}\n",
    "\\end{align*}\n",
    "$$\n",
    "\n",
    "一つ目と二つ目の制約条件は、等式制約なので `equal_to` を用いて記述します。三つ目の制約式は不等式制約なので `greater_equal` を用いて記述します。\n"
   ],
   "metadata": {}
  },
  {
   "cell_type": "code",
   "execution_count": null,
   "source": [
    "# 従業員iは同時に1店舗のみ勤務できる\n",
    "location_constarints = sum(one_hot(location_variables[i]) for i in range(num_workers))\n",
    "\n",
    "# 各店舗の要求人数に等しい管理職を配置する\n",
    "req_manager_constraints = sum(\n",
    "    equal_to(role_variables[:, 0, l], df_req[\"manager\"][l])\n",
    "    for l in range(num_locations)\n",
    ")\n",
    "req_submanager_constraints = sum(\n",
    "    equal_to(role_variables[:, 1, l], df_req[\"submanager\"][l])\n",
    "    for l in range(num_locations)\n",
    ")\n",
    "\n",
    "# 各店舗の要求人数以上の従業員を配置する\n",
    "req_employee_constraints = sum(\n",
    "    greater_equal(location_variables[:, l], df_req[\"employee\"][l])\n",
    "    for l in range(num_locations)\n",
    ")"
   ],
   "outputs": [],
   "metadata": {}
  },
  {
   "cell_type": "markdown",
   "source": [
    "目的関数と制約式から最適化モデルを作成します。ステップ1と同様に適切な重みを与えます。制約条件の重みは目的関数の取り得る値より大きめの値を推定して決定します。ここでは $20$ 程度の値を与えておけば十分でしょう"
   ],
   "metadata": {}
  },
  {
   "cell_type": "code",
   "execution_count": null,
   "source": [
    "# それぞれの目的関数の係数\n",
    "loc_priority = 1\n",
    "ave_fill_priority = 1\n",
    "var_fill_priority = 10\n",
    "\n",
    "# 目的関数\n",
    "cost_func = (\n",
    "    loc_priority * location_cost\n",
    "    + ave_fill_priority * average_fill_rate_cost\n",
    "    + var_fill_priority * variance_fill_rate_cost\n",
    ")\n",
    "\n",
    "# 制約条件を表すペナルティ関数の重み\n",
    "constraint_weight = 20\n",
    "\n",
    "# 制約条件\n",
    "constraints = constraint_weight * (\n",
    "    location_constarints\n",
    "    + req_manager_constraints\n",
    "    + req_submanager_constraints\n",
    "    + req_employee_constraints\n",
    ")\n",
    "\n",
    "# 最適化モデル\n",
    "model = cost_func + constraints"
   ],
   "outputs": [],
   "metadata": {}
  },
  {
   "cell_type": "markdown",
   "source": [
    "イジングマシンを実行します"
   ],
   "metadata": {}
  },
  {
   "cell_type": "code",
   "execution_count": null,
   "source": [
    "# 最適化の実行\n",
    "result = solver.solve(model)\n",
    "\n",
    "# 制約条件チェック\n",
    "if len(result) == 0:\n",
    "    raise RuntimeError(\"The given constraints are not satisfied\")\n",
    "values = result[0].values\n",
    "energy = result[0].energy"
   ],
   "outputs": [],
   "metadata": {}
  },
  {
   "cell_type": "markdown",
   "source": [
    "`decode` メソッドを用いて、変数 `location_varibales`, `role_variables` の解として取り出します。取得した解をそれぞれ `location_solutions`, `role_solutions` とします。"
   ],
   "metadata": {}
  },
  {
   "cell_type": "code",
   "execution_count": null,
   "source": [
    "# 割当店舗に関する変数の解\n",
    "location_solutions = location_variables.decode(values)\n",
    "\n",
    "# 割当店舗と役職に関する変数の解\n",
    "role_solutions = role_variables.decode(values)"
   ],
   "outputs": [],
   "metadata": {}
  },
  {
   "cell_type": "markdown",
   "source": [
    "### 結果の解析\n",
    "\n",
    "結果から従業員がそれぞれがどこの店舗で勤務を行うのかを出力します。 変数 `role_solutions` において、`role_solutions[i][j][l] = 1` であれば、従業員 $i$ は役職 $j$ として店舗 $l$ で勤務することを表します。したがって、解が$1$であるインデックスを取り出すことで、どの従業員がどの役職、店舗で勤務するのかを取得できます。\n",
    "\n"
   ],
   "metadata": {}
  },
  {
   "cell_type": "code",
   "execution_count": null,
   "source": [
    "import numpy as np\n",
    "from collections import defaultdict\n",
    "\n",
    "(role_index_list, loc_index_list) = np.where(np.array(role_solutions) == 1)[1:]\n",
    "dict_df = defaultdict(list)\n",
    "\n",
    "for i, (j, l) in enumerate(zip(role_index_list, loc_index_list)):\n",
    "    ## 配属勤務地\n",
    "    worker_id = df_worker_loc.loc[i][\"worker_id\"]\n",
    "    role = roles[j]\n",
    "    loc = locations[l]\n",
    "    dict_df[\"worker_id\"].append(worker_id)\n",
    "    dict_df[\"role\"].append(role)\n",
    "    dict_df[\"location\"].append(loc)\n",
    "\n",
    "df_result = pd.DataFrame.from_dict(dict_df, orient=\"index\").T\n",
    "display(df_result.style.hide_index())"
   ],
   "outputs": [],
   "metadata": {}
  },
  {
   "cell_type": "markdown",
   "source": [
    "つぎに、各店舗の役割毎に、要求人数を満たしているか確認します。各役割に対する充足率 (fill rate) を出力します。ここで、表のセルの成分が`None`となっている箇所は、その役割の要求人数が0人であることを表します。"
   ],
   "metadata": {}
  },
  {
   "cell_type": "code",
   "execution_count": null,
   "source": [
    "dict_result_loc = defaultdict(lambda: defaultdict(int))\n",
    "for loc, role in product(locations, roles):\n",
    "    dict_result_loc[loc][role] = 0\n",
    "\n",
    "for i in range(len(df_result)):\n",
    "    data = df_result.loc[i]\n",
    "    role = data[\"role\"]\n",
    "    location = data[\"location\"]\n",
    "    dict_result_loc[location][role] += 1\n",
    "\n",
    "    if role != \"employee\":\n",
    "        dict_result_loc[location][\"employee\"] += 1\n",
    "\n",
    "df_result_loc = pd.DataFrame.from_dict(dict_result_loc, orient=\"index\")\n",
    "dict_result_loc = defaultdict(defaultdict)\n",
    "for i in range(len(df_result_loc)):\n",
    "    data = df_result_loc.iloc[i]\n",
    "    loc = data.name\n",
    "    for role in roles:\n",
    "        num_req = df_req[df_req[\"location\"] == loc][role].item()\n",
    "        num_wariate = data[role].item()\n",
    "        dict_result_loc[loc][\n",
    "            f\"{role}_fillrate\"\n",
    "        ] = f\"{num_wariate/num_req if num_req > 0 else None}\"\n",
    "\n",
    "df_result_loc = pd.DataFrame.from_dict(dict_result_loc, orient=\"index\")\n",
    "display(df_result_loc.style)"
   ],
   "outputs": [],
   "metadata": {}
  },
  {
   "cell_type": "markdown",
   "source": [
    "各店舗要求役割人数を満たしており、博多のみ employee が１人多く割り当てられていることがわかります。"
   ],
   "metadata": {}
  },
  {
   "cell_type": "markdown",
   "source": [
    "## ステップ3: 店舗と役職と役割の割当\n",
    "\n",
    "ステップ2の設定条件に加えて、各従業員が担当する役割を細分化します。寿司チェーン店を想定して、各従業員は「捌き・握り・汁物・一品」といった調理スキルを持つことを想定し、各店舗の要求するスキル量を満たすように従業員を配置します。例えばある調理スキル値の要求量が10である店舗では、割り当て後の従業員の調理スキルの総和が10以上である必要があります。ステップ2までは店舗割当人数の割合を充足率としていましたが、ステップ3では各調理スキル要求に対する充足率を最適化します。\n",
    "\n",
    "さらに、従業員には「ホール担当」「キッチン担当」のどちらかの役割を持たせます。ホールに割り当てる人数は与えられるものとして、調理スキル値が0の従業員はホール専任とします。\n",
    "\n",
    "<img src=\"../figures/employee_step3_1.png\">\n",
    "\n",
    "|<img src=\"../figures/employee_step3_2.png\">|<img src=\"../figures/employee_step3_3.png\">|<img src=\"../figures/employee_step3_4.png\">| <img src=\"../figures/employee_step3_5.png\">|\n",
    "| :---: | :---: | :---: | :---: |\n",
    "| **捌き担当** | **握り担当** | **汁物担当** | **一品担当** | \n",
    "\n",
    "### 定式化\n",
    "\n",
    "定式化に用いる変数と記号を定義し直します。\n",
    "\n",
    "#### 集合\n",
    "\n",
    "*   $W$: 従業員集合 (記号 $i$ を用いて従業員を表す)\n",
    "*   $S$: 店舗集合 (記号 $l$ を用いて店舗を表す)\n",
    "*   $R$: 役職集合 (記号 $j$ を用いて役職を表す)\n",
    "    *   $j=0$: 店長\n",
    "    *   $j=1$: 副店長\n",
    "    *   $j=2$: なし\n",
    "*   $K$: 調理スキル集合 (記号 $k$ を用いてスキルを表す)\n",
    "    *   $k=0$: 捌き\n",
    "    *   $k=1$: 握り\n",
    "    *   $k=2$: 汁物\n",
    "    *   $k=3$: 一品\n",
    "*   $A$: 役割集合 (記号 $h$ を用いて役割を表す)\n",
    "    *   $h=0$: ホール担当\n",
    "    *   $h=1$: キッチン担当\n",
    "\n",
    "#### 定数\n",
    "\n",
    "*   $t_{k,l}$: 店舗 $l \\in S$ の調理スキル $k \\in K$ の要求スキル量\n",
    "*   $r_{l}$: 店舗 $l \\in S$ のホール担当の要求人数\n",
    "*   $c_{i,l}$: 従業員 $i \\in W$ が店舗 $l \\in S$ で勤務する場合の希望度\n",
    "*   $m_{i,j}$: 従業員 $i \\in W$ が役職 $j \\in R$ に割当て可能か (0:不可能, 1:可能)\n",
    "*   $s_{i,k}$: 従業員 $i$ が役割 $k\\in A$ を担当する場合のスキル量\n",
    "\n",
    "#### 決定変数\n",
    "\n",
    "*   $M_{i,j,l}\\in \\{0,1\\}$: 従業員 $i\\in W$ を店舗 $l\\in S$ で役職 $j\\in R$ へ割当てるか\n",
    "*   $P_{i,h,l}\\in \\{0,1\\}$: 従業員 $i\\in W$ を店舗 $l\\in S$ で役割 $h\\in A$ へ割当てるか\n",
    "*   $L_{i,l}\\in \\{0,1\\}$: 従業員 $i\\in W$ を店舗  $l\\in S$ に割当てるか\n",
    "    *   $L_{i,l} = \\sum_{j \\in R} M_{i,j,l}$ の関係がある\n",
    "    *   $L_{i,l} = \\sum_{h \\in A} P_{i,h,l}$ の関係がある\n",
    "\n",
    "#### 目的関数\n",
    "\n",
    "ステップ1と同様に、各店舗の役職に対する要求従業員数に対する割当従業員の充足率を定義し、下記を目的関数とします。\n",
    "\n",
    "* 充足率の平均最大化\n",
    "* 充足率の分散最小化\n",
    "* 従業員の勤務希望地の最大化\n",
    "\n",
    "**充足率の定義**\n",
    "\n",
    "店舗 $l$ における要求調理スキル $k$ に対する従業員数の充足率 $w_{k,l}$\n",
    "\n",
    "$$\n",
    "\\begin{align*}\n",
    "    w_{k,l} := \\frac{1}{t_{k,l}}  \\displaystyle \\sum_{i\\in W} s_{i,k} P_{i,1,l}\n",
    "\\end{align*}\n",
    "$$\n",
    "    \n",
    "**充足率の平均の最大化**\n",
    "\n",
    "$$\n",
    "\\begin{matrix}\n",
    "    {\\rm maximize} & \\left< w_{k,l} \\right>\n",
    "\\end{matrix}\n",
    "$$\n",
    "\n",
    "**充足率の分散の最小化**\n",
    "\n",
    "$$\n",
    "\\begin{matrix}\n",
    "    {\\rm minimize} & \\left< w_{k,l}^2 \\right> - \\left< w_{k,l} \\right>^2\n",
    "\\end{matrix}\n",
    "$$\n",
    "\n",
    "**従業員の希望度の最大化**\n",
    "\n",
    "$$\n",
    "\\begin{matrix}\n",
    "    {\\rm maximize}& \\displaystyle \\sum_{i\\in W}\\sum_{l\\in S}c_{i,l}L_{i,l}\n",
    "\\end{matrix}\n",
    "$$\n",
    "    \n",
    "#### 制約条件\n",
    "\n",
    "基本的な考え方はステップ2と同様ですが、新しく定義した役割に関する変数 $P$ に関して $M$ との関係を制約する記述が必要です。\n",
    "\n",
    "**従業員$i$は同時に1店舗のみ勤務する**\n",
    "\n",
    "$$\n",
    "\\begin{align*}\n",
    "    \\forall i\\in W, \\sum_{l \\in S}L_{i,l} = 1\n",
    "\\end{align*}\n",
    "$$\n",
    "\n",
    "**各店舗の要求人数に等しい管理職を配置する**\n",
    "\n",
    "$$\n",
    "    \\forall l \\in S, \\forall j \\in \\left\\{0, 1 \\right\\}, \\sum_{i\\in W}M_{i,j,l} = r_{j,l}\n",
    "$$\n",
    "\n",
    "**各店舗の要求人数に等しいホール担当を配置する**\n",
    "\n",
    "$$\n",
    "\\begin{align*}\n",
    "    \\forall l \\in S, \\sum_{i\\in W} P_{i,0,l} = r_{l}\n",
    "\\end{align*}\n",
    "$$\n",
    "\n",
    "**ある店舗で役職を持つ(持たない)ならその店舗で役割を持つ(持たない)**\n",
    "\n",
    "$$\n",
    "    \\forall i\\in W, \\forall l \\in S, \\sum_{j \\in R} M_{i,j,l} = \\sum_{h \\in A} P_{i,h,l}\n",
    "$$"
   ],
   "metadata": {}
  },
  {
   "cell_type": "markdown",
   "source": [
    "### データの作成\n",
    "\n",
    "上記の定式化において、各店舗の要求スキル量・人数の情報と各従業員の勤務希望とスキル情報が入力として与えられます。例として、従業員数5名、店舗数2のデータを下記に作成します。  "
   ],
   "metadata": {}
  },
  {
   "cell_type": "code",
   "execution_count": null,
   "source": [
    "# 各店舗の要求スキル情報の読み込み\n",
    "## store_require.csv\n",
    "dict_req = dict(\n",
    "    location=[\"tenjin\", \"hakata\"],\n",
    "    manager=[1, 1],\n",
    "    submanager=[0, 1],\n",
    "    sabaki=[1, 1],  # 捌き\n",
    "    nigiri=[1, 2],  # 握り\n",
    "    soup=[2, 2],  # 汁物\n",
    "    ippin=[2, 2],  # 一品\n",
    "    hall=[1, 1],  # ホール\n",
    ")\n",
    "df_req = pd.DataFrame.from_dict(dict_req, orient=\"index\").T\n",
    "\n",
    "# 各従業員の勤務希望情報の読み込み\n",
    "dict_worker_loc = dict(\n",
    "    worker_id=[0, 1, 2, 50, 43], tenjin=[2, 1, 1, 1, 1], hakata=[1, 2, 1, 1, 1]\n",
    ")\n",
    "df_worker_loc = pd.DataFrame.from_dict(dict_worker_loc, orient=\"index\").T\n",
    "\n",
    "# 各従業員のスキル情報の読み込み\n",
    "dict_worker_skill = dict(\n",
    "    worker_id=[0, 1, 2, 50, 43],\n",
    "    manager=[1, 1, 0, 0, 0],\n",
    "    submanager=[1, 1, 0, 1, 1],\n",
    "    employee=[1, 1, 1, 1, 1],\n",
    "    sabaki=[2, 2, 0, 1, 1],  # 捌き\n",
    "    nigiri=[2, 2, 0, 2, 2],  # 握り\n",
    "    soup=[2, 2, 0, 0, 0],  # 汁物\n",
    "    ippin=[2, 2, 0, 1, 1],  # 一品\n",
    ")\n",
    "df_worker_skill = pd.DataFrame.from_dict(dict_worker_skill, orient=\"index\").T"
   ],
   "outputs": [],
   "metadata": {}
  },
  {
   "cell_type": "markdown",
   "source": [
    "各店舗の manager(店長), submanager(副店長) に関する要求人数と、要求調理スキル量、ホール担当人数が `df_req` に格納されています。"
   ],
   "metadata": {}
  },
  {
   "cell_type": "code",
   "execution_count": null,
   "source": [
    "display(df_req.style.hide_index())"
   ],
   "outputs": [],
   "metadata": {}
  },
  {
   "cell_type": "markdown",
   "source": [
    "各従業員の各店舗に対する勤務希望度は df_worker_loc に格納されています。"
   ],
   "metadata": {}
  },
  {
   "cell_type": "code",
   "execution_count": null,
   "source": [
    "display(df_worker_loc.style.hide_index())"
   ],
   "outputs": [],
   "metadata": {}
  },
  {
   "cell_type": "markdown",
   "source": [
    "`df_worker_skill` には、各従業員のスキル情報を格納しています。`manager` と `submanager` については、もし値が $1$ ならその役職が担当可能であることを表します。一方、`sabaki`, `nigiri`, `soup`, `ippin` についてはそれぞれの調理スキルレベルを表します。$0$ の場合はキッチン担当ができない (ホール専任) ということを表します。"
   ],
   "metadata": {}
  },
  {
   "cell_type": "code",
   "execution_count": null,
   "source": [
    "display(df_worker_skill.style.hide_index())"
   ],
   "outputs": [],
   "metadata": {}
  },
  {
   "cell_type": "markdown",
   "source": [
    "次のように従業員id、店舗名、役職名とインデックスの対応関係を調べておきます。"
   ],
   "metadata": {}
  },
  {
   "cell_type": "code",
   "execution_count": null,
   "source": [
    "# 従業員id\n",
    "workers = df_worker_loc[\"worker_id\"].values\n",
    "# 店舗名\n",
    "locations = df_req[\"location\"].values\n",
    "# 役職名\n",
    "roles = [\"manager\", \"submanager\", \"employee\"]\n",
    "# 役割名\n",
    "assigns = [\"hall\", \"kitchen\"]\n",
    "# 調理スキル名\n",
    "skills = [\"sabaki\", \"nigiri\", \"soup\", \"ippin\"]\n",
    "\n",
    "# dictの作成\n",
    "idx2loc = dict((i, v) for i, v in enumerate(locations))\n",
    "loc2idx = dict((v, i) for i, v in enumerate(locations))\n",
    "idx2role = dict((i, v) for i, v in enumerate(roles))\n",
    "role2idx = dict((v, i) for i, v in enumerate(roles))\n",
    "idx2skill = dict((i, v) for i, v in enumerate(skills))\n",
    "skill2idx = dict((v, i) for i, v in enumerate(skills))\n",
    "\n",
    "# 各データ長を取得\n",
    "num_workers = len(workers)\n",
    "num_locations = len(locations)\n",
    "num_roles = len(roles)\n",
    "num_assigns = len(assigns)\n",
    "num_skills = len(skills)"
   ],
   "outputs": [],
   "metadata": {}
  },
  {
   "cell_type": "markdown",
   "source": [
    "### Amplify による定式化\n",
    "\n",
    "それでは Amplify を用いて定式化します。最初に変数 $M$ を表す `role_variables` と変数 $P$ を表す `assign_variables` を `gen_symbols` 関数で作成します。二つの変数テーブルを構築するため、`gen_symbols` 関数の生成する変数のインデックスの開始番号を与えて重複しないようにします。"
   ],
   "metadata": {}
  },
  {
   "cell_type": "code",
   "execution_count": null,
   "source": [
    "# 従業員iが役職jで店舗lに勤務することを表す変数\n",
    "gen = BinarySymbolGenerator()\n",
    "role_variables = gen.array(num_workers, num_roles, num_locations)\n",
    "\n",
    "# 従業員iが役職hで店舗lに勤務することを表す変数\n",
    "assign_variables = gen.array(num_workers, num_assigns, num_locations)"
   ],
   "outputs": [],
   "metadata": {}
  },
  {
   "cell_type": "markdown",
   "source": [
    "これまでと同様に、勤務できない店舗や役職に関しては事前に変数の値を代入しておきます。"
   ],
   "metadata": {}
  },
  {
   "cell_type": "code",
   "execution_count": null,
   "source": [
    "for i, l in product(range(num_workers), locations):\n",
    "    worker_req = df_worker_loc.iloc[i][l]\n",
    "    if worker_req == 0:\n",
    "        # 全ての役職で店舗割当が不可\n",
    "        role_variables[i, :, loc2idx[l]] = 0\n",
    "        # 全ての役割で店舗割当が不可\n",
    "        assign_variables[i, :, loc2idx[l]] = 0\n",
    "\n",
    "for i, j in product(range(num_workers), roles):\n",
    "    worker_skill = df_worker_skill.iloc[i][j]\n",
    "    if worker_skill == 0:\n",
    "        # 全ての店舗で役職が不可\n",
    "        role_variables[i, role2idx[j], :] = 0\n",
    "\n",
    "for i in range(num_workers):\n",
    "    if all(df_worker_skill.iloc[i][k] == 0 for k in skills):\n",
    "        # 全ての店舗で役割(キッチン担当)が不可\n",
    "        assign_variables[i, 1, :] = 0\n",
    "\n",
    "\n",
    "# 勤務不可店舗・役職に関する変数が0に固定されている\n",
    "print(role_variables)\n",
    "# 担当不可役店舗・役割に関する変数が0に固定されている\n",
    "print(assign_variables)"
   ],
   "outputs": [],
   "metadata": {}
  },
  {
   "cell_type": "markdown",
   "source": [
    "変数 $L$ を表す `location_variables` については、変数 $P$ から次のようにして得られます (変数 $M$ からも作成できます)。"
   ],
   "metadata": {}
  },
  {
   "cell_type": "code",
   "execution_count": null,
   "source": [
    "location_variables = assign_variables.sum(axis=1)"
   ],
   "outputs": [],
   "metadata": {}
  },
  {
   "cell_type": "markdown",
   "source": [
    "次に、各店舗、各調理スキルに対する充足率 $w$ を計算します。\n",
    "\n",
    "$$\n",
    "\\begin{align*}\n",
    "    w_{k,l} := \\frac{1}{t_{k,l}}  \\displaystyle \\sum_{i\\in W} s_{i,k} P_{i,1,l}\n",
    "\\end{align*}\n",
    "$$"
   ],
   "metadata": {}
  },
  {
   "cell_type": "code",
   "execution_count": null,
   "source": [
    "# 充足率の計算\n",
    "w = BinaryPolyArray(\n",
    "    [\n",
    "        sum_poly(\n",
    "            df_worker_skill[idx2skill[k]] * assign_variables[:, 1, l],\n",
    "        )\n",
    "        / df_req[idx2skill[k]][l]\n",
    "        for k in range(num_skills)\n",
    "        for l in range(num_locations)\n",
    "    ]\n",
    ")"
   ],
   "outputs": [],
   "metadata": {}
  },
  {
   "cell_type": "markdown",
   "source": [
    "目的関数の各項目を計算します。最大化する目的についてはマイナスを付けることで最小化問題に変換します。\n",
    "\n",
    "**充足率の平均の最大化**\n",
    "\n",
    "$$\n",
    "\\begin{matrix}\n",
    "    {\\rm minimize} & -\\left< w_{k,l} \\right>\n",
    "\\end{matrix}\n",
    "$$\n",
    "\n",
    "**充足率の分散の最小化**\n",
    "\n",
    "$$\n",
    "\\begin{matrix}\n",
    "    {\\rm minimize} & \\left< w_{k,l}^2 \\right> - \\left< w_{k,l} \\right>^2\n",
    "\\end{matrix}\n",
    "$$\n",
    "\n",
    "**従業員の希望度の最大化**\n",
    "\n",
    "$$\n",
    "\\begin{matrix}\n",
    "    {\\rm minimize}& \\displaystyle -\\sum_{i\\in W}\\sum_{l\\in S}c_{i,l}L_{i,l}\n",
    "\\end{matrix}\n",
    "$$"
   ],
   "metadata": {}
  },
  {
   "cell_type": "code",
   "execution_count": null,
   "source": [
    "# 充足率の平均の最大化\n",
    "average_fill_rate_cost = -((w.sum() / w.size) ** 2)\n",
    "\n",
    "# 充足率の分散の最小化\n",
    "variance_fill_rate_cost = (w * w).sum() / w.size - (w.sum() / w.size) ** 2\n",
    "\n",
    "# 従業員の希望度最大化\n",
    "location_cost = -sum_poly(\n",
    "    num_workers,\n",
    "    lambda i: sum_poly(\n",
    "        num_locations,\n",
    "        lambda l: df_worker_loc.loc[i][idx2loc[l]] * location_variables[i, l],\n",
    "    ),\n",
    ")"
   ],
   "outputs": [],
   "metadata": {}
  },
  {
   "cell_type": "markdown",
   "source": [
    "最後に制約条件を与えます。\n",
    "\n",
    "**従業員$i$は同時に1店舗のみ勤務する**\n",
    "\n",
    "$$\n",
    "\\begin{align*}\n",
    "    \\forall i\\in W, \\sum_{l \\in S}L_{i,l} = 1\n",
    "\\end{align*}\n",
    "$$\n",
    "\n",
    "**各店舗の要求人数に等しい管理職を配置する**\n",
    "\n",
    "$$\n",
    "    \\forall l \\in S, \\forall j \\in \\left\\{0, 1 \\right\\}, \\sum_{i\\in W}M_{i,j,l} = r_{j,l}\n",
    "$$\n",
    "\n",
    "**各店舗の要求人数以上のホール担当を配置する**\n",
    "\n",
    "$$\n",
    "\\begin{align*}\n",
    "    \\forall l \\in S, \\sum_{i\\in W} P_{i,0,l} = r_{l}\n",
    "\\end{align*}\n",
    "$$\n",
    "\n",
    "**ある店舗で役職を持つ(持たない)ならその店舗で役割を持つ(持たない)**\n",
    "\n",
    "$$\n",
    "    \\forall i\\in W, \\forall l \\in S, \\sum_{j \\in R} M_{i,j,l} = \\sum_{h \\in A} P_{i,h,l}\n",
    "$$\n",
    "\n",
    "全ての制約は等式制約なので `equal_to` を用います。"
   ],
   "metadata": {}
  },
  {
   "cell_type": "code",
   "execution_count": null,
   "source": [
    "# 従業員iは同時に1店舗のみ勤務できる\n",
    "location_constarints = sum(one_hot(location_variables[i]) for i in range(num_workers))\n",
    "\n",
    "# 各店舗の要求人数に等しい管理職を配置する\n",
    "req_manager_constraints = sum(\n",
    "    equal_to(role_variables[:, 0, l], df_req[\"manager\"][l])\n",
    "    for l in range(num_locations)\n",
    ")\n",
    "req_submanager_constraints = sum(\n",
    "    equal_to(role_variables[:, 1, l], df_req[\"submanager\"][l])\n",
    "    for l in range(num_locations)\n",
    ")\n",
    "\n",
    "# 各店舗の要求人数以上のホール担当を配置する\n",
    "req_hall_constraints = sum(\n",
    "    equal_to(assign_variables[:, 0, l], df_req[\"hall\"][l]) for l in range(num_locations)\n",
    ")\n",
    "\n",
    "# 変数Mと変数Pの関係\n",
    "role_assign_constraints = sum(\n",
    "    equal_to(\n",
    "        (role_variables.sum(axis=1))[i, l] - (assign_variables.sum(axis=1))[i, l], 0\n",
    "    )\n",
    "    for i in range(num_workers)\n",
    "    for l in range(num_locations)\n",
    ")"
   ],
   "outputs": [],
   "metadata": {}
  },
  {
   "cell_type": "markdown",
   "source": [
    "目的関数と制約式から最適化モデルを作成します。これまでと同様に適切な重みを与えます。制約条件の重みは目的関数の取り得る値より大きめの値を推定して決定します。ここでは $10$ 程度の値を与えておけば十分です"
   ],
   "metadata": {}
  },
  {
   "cell_type": "code",
   "execution_count": null,
   "source": [
    "# それぞれの目的関数の係数\n",
    "loc_priority = 1\n",
    "ave_fill_priority = 1\n",
    "var_fill_priority = 10\n",
    "\n",
    "# 目的関数\n",
    "cost_func = (\n",
    "    loc_priority * location_cost\n",
    "    + ave_fill_priority * average_fill_rate_cost\n",
    "    + var_fill_priority * variance_fill_rate_cost\n",
    ")\n",
    "\n",
    "# 制約条件を表すペナルティ関数の重み\n",
    "constraint_weight = 10\n",
    "\n",
    "# 制約条件\n",
    "constraints = constraint_weight * (\n",
    "    location_constarints\n",
    "    + req_manager_constraints\n",
    "    + req_submanager_constraints\n",
    "    + req_hall_constraints\n",
    "    + role_assign_constraints\n",
    ")\n",
    "\n",
    "# 最適化モデル\n",
    "model = cost_func + constraints"
   ],
   "outputs": [],
   "metadata": {}
  },
  {
   "cell_type": "markdown",
   "source": [
    "イジングマシンを実行します"
   ],
   "metadata": {}
  },
  {
   "cell_type": "code",
   "execution_count": null,
   "source": [
    "# 最適化の実行\n",
    "result = solver.solve(model)\n",
    "\n",
    "# 制約条件チェック\n",
    "if len(result) == 0:\n",
    "    raise RuntimeError(\"The given constraints are not satisfied\")\n",
    "values = result[0].values\n",
    "energy = result[0].energy"
   ],
   "outputs": [],
   "metadata": {}
  },
  {
   "cell_type": "markdown",
   "source": [
    "`decode` メソッドを用いて、変数 `location_varibales`, `role_variables`, `assign_variables` の解として取り出します。取得した解をそれぞれ `location_solutions`, `role_solutions`, `assign_solutions` とします。"
   ],
   "metadata": {}
  },
  {
   "cell_type": "code",
   "execution_count": null,
   "source": [
    "# 割当店舗に関する変数の解\n",
    "location_solutions = location_variables.decode(values)\n",
    "\n",
    "# 割当店舗と役割に関する変数の解\n",
    "role_solutions = role_variables.decode(values)\n",
    "\n",
    "# 割当店舗と役職に関する変数の解\n",
    "assign_solutions = assign_variables.decode(values)"
   ],
   "outputs": [],
   "metadata": {}
  },
  {
   "cell_type": "markdown",
   "source": [
    "### 結果の解析\n",
    "\n",
    "結果から従業員がそれぞれがどこの店舗で勤務を行うのかを出力します。 変数 `role_solutions` において、`role_solutions[i][j][l] = 1` であれば、従業員 $i$ は役職 $j$ として店舗 $l$ で勤務することを表します。したがって、解が$1$であるインデックスを取り出すことで、どの従業員がどの役職、店舗で勤務するのかを取得できます。"
   ],
   "metadata": {}
  },
  {
   "cell_type": "code",
   "execution_count": null,
   "source": [
    "import numpy as np\n",
    "from collections import defaultdict\n",
    "\n",
    "(role_index_list, loc_index_list) = np.where(np.array(role_solutions) == 1)[1:]\n",
    "dict_df = defaultdict(list)\n",
    "\n",
    "for i, (j, l) in enumerate(zip(role_index_list, loc_index_list)):\n",
    "    ## 配属勤務地\n",
    "    worker_id = df_worker_loc.loc[i][\"worker_id\"]\n",
    "    role = roles[j]\n",
    "    loc = locations[l]\n",
    "    dict_df[\"worker_id\"].append(worker_id)\n",
    "    dict_df[\"role\"].append(role)\n",
    "    dict_df[\"location\"].append(loc)\n",
    "\n",
    "df_result = pd.DataFrame.from_dict(dict_df, orient=\"index\").T\n",
    "display(df_result.style.hide_index())"
   ],
   "outputs": [],
   "metadata": {}
  },
  {
   "cell_type": "markdown",
   "source": [
    "次に、店舗ごとに要求スキル量がどの程度満たされているかを出力します。`hall`または`kitchen`のどちらに割り当てられたのかを`assign_solutions`の結果から取り出し、`kitchen`の場合には、その従業員が割り当てられている店舗の調理スキル量に従業員の調理スキル量それぞれを加算していきます。\n",
    "表の各セルにおいて、**(合計スキル量)/(要求スキル量)**で算出した充足率 (fill rate) を出力しています。"
   ],
   "metadata": {}
  },
  {
   "cell_type": "code",
   "execution_count": null,
   "source": [
    "(assign_list, loc_index_list) = np.where(np.array(assign_solutions) == 1)[1:]\n",
    "\n",
    "dict_result_loc = defaultdict(lambda: defaultdict(int))\n",
    "\n",
    "for i, (j, l) in enumerate(zip(assign_list, loc_index_list)):\n",
    "    # kitchenならば\n",
    "    assign = assigns[j]\n",
    "    worker_id = df_worker_loc.loc[i][\"worker_id\"]\n",
    "    loc = locations[l]\n",
    "\n",
    "    if assign == \"kitchen\":\n",
    "        # すべての調理スキルの足し算を行う。\n",
    "        for skill in skills:\n",
    "            dict_result_loc[loc][skill] += df_worker_skill.loc[i][skill]\n",
    "\n",
    "    else:\n",
    "        dict_result_loc[loc][\"hall\"] += 1\n",
    "\n",
    "df_result_loc = pd.DataFrame.from_dict(dict_result_loc, orient=\"index\")\n",
    "\n",
    "dict_result = defaultdict(defaultdict)\n",
    "\n",
    "for i in range(len(df_result_loc)):\n",
    "    loc = df_result_loc.iloc[i].name\n",
    "    for skill in skills:\n",
    "        require_num_skill = df_req[df_req[\"location\"] == loc][skill].item()\n",
    "        satisfy_num_skill = df_result_loc.iloc[i][skill].item()\n",
    "        dict_result[loc][f\"{skill}_fillrate\"] = f\"{satisfy_num_skill/require_num_skill}\"\n",
    "\n",
    "df_result = pd.DataFrame.from_dict(dict_result, orient=\"index\")\n",
    "display(df_result.style)"
   ],
   "outputs": [],
   "metadata": {}
  },
  {
   "cell_type": "markdown",
   "source": [
    "各店舗の要求スキル量が満たされていることがわかります。"
   ],
   "metadata": {}
  },
  {
   "cell_type": "code",
   "execution_count": null,
   "source": [],
   "outputs": [],
   "metadata": {}
  }
 ],
 "metadata": {
  "language_info": {
   "name": "python",
   "pygments_lexer": "ipython3"
  }
 },
 "nbformat": 4,
 "nbformat_minor": 2
}
