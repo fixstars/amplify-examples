{
 "cells": [
  {
   "attachments": {
    "3d4196f6-b79c-4fc1-b924-1668e1f7f543.png": {
     "image/png": "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"
    }
   },
   "cell_type": "markdown",
   "metadata": {},
   "source": [
    "# Travelling Salesman Problem\n",
    "\n",
    "Amplify を用いた巡回セールスマン問題の解法について解説します。\n",
    "\n",
    "## 巡回セールスマン問題の定式化\n",
    "\n",
    "[巡回セールスマン問題](https://en.wikipedia.org/wiki/Travelling_salesman_problem) とは、都市の集合とそれぞれの都市間の距離が与えられたときに、全ての都市を通る巡回路において移動距離の合計が最小となる経路を求める組合せ最適化問題です。\n",
    "\n",
    "\n",
    "![240px-GLPK_solution_of_a_travelling_salesman_problem.svg.png](attachment:3d4196f6-b79c-4fc1-b924-1668e1f7f543.png)\n",
    "\n",
    "イジングマシンを用いるためには巡回路の組合せを二値多変数多項式で表す必要があります。全ての経路の組合せは、どの都市を何番目に通ったかを表す変数テーブルによって表現することが出来ます。例えば4都市について次のような表を用意することで、経路 $A→C→B→D$ が表現されます。\n",
    "\n",
    "| turn| A | B | C | D |\n",
    "|-----|---|---|---|---|\n",
    "| 1st | 1 | 0 | 0 | 0 |\n",
    "| 2nd | 0 | 0 | 1 | 0 |\n",
    "| 3rd | 0 | 1 | 0 | 0 |\n",
    "| 4th | 0 | 0 | 0 | 1 |\n",
    "\n",
    "表の各要素に変数 ${0,1}$ を割り当て、ある経路の順番について $1$ となる変数に対応する都市を通ると解釈します。すなわち、$N$ 都市の巡回セールスマン問題については $N^2$ の変数を用意すれば良いです。\n",
    "\n",
    "上記の表における各変数を経路の順番 $n$ と都市のインデックス $i$ を用いて、$q_{n,i}$ と表すことにします。すると全移動経路は、\n",
    "\n",
    "$$\n",
    " \\sum_{n=0}^{N-1}{\\sum_{i=0}^{N-1}{\\sum_{j=0}^{N-1}{ d_{ij} q_{n, i} q_{n+1, j} }}}\n",
    "$$\n",
    "\n",
    "で表されます。ここで $d_{ij}$ は都市 $i$ と都市 $j$ の間の移動距離です。\n",
    "\n",
    "$d_{ij} q_{n, i} q_{n+1, j}$ は両方の変数が $1$ になる時に $d_{ij}$ を加算するので、移動距離の合計を最小化する問題になっています。後でプログラムコード化する都合により、インデックスは $0$ からスタートしていることに注意してください。また、$n+1$ の最後 ( $N$ ) は始点に戻るため $N$ で剰余を取る事にします。\n",
    "\n",
    "しかしこれだけでは定式化として不十分です。なぜなら、上記の変数テーブルは「全ての都市を通る」という制約と「同時に一つだけ通る」という制約が考慮されていないためです。極端な例として、最初の都市から動かないという組合せも許されています。そこで変数テーブルの全ての行と列に対して次のような制約を課します。\n",
    "\n",
    "$$\n",
    "    \\sum_{i=0}^{N-1}{q_{n, i}} = 1 \\quad n \\in \\left\\{0, 1, \\cdots, N - 1 \\right\\}\n",
    "$$\n",
    "$$\n",
    "    \\sum_{n=0}^{N-1}{q_{n, i}} = 1 \\quad i \\in \\left\\{0, 1, \\cdots, N - 1 \\right\\}\n",
    "$$\n",
    "\n",
    "これは変数テーブルの取り得る値のうち、各行と各列に $1$ が一回しか現れない制約を意味します。\n",
    "\n",
    "上記をまとめると、次の二値多変数多項式の最小値を求めれば良いことがわかりました。\n",
    "\n",
    "- コスト関数\n",
    "$$\n",
    "\\sum_{n=0}^{N-1}{\\sum_{i=0}^{N-1}{\\sum_{j=0}^{N-1}{ d_{ij} q_{n, i} q_{n+1, j} }}}\n",
    "$$\n",
    "\n",
    "- 制約条件\n",
    "$$\n",
    "    \\sum_{i=0}^{N-1}{q_{n, i}} = 1 \\quad n \\in \\left\\{0, 1, \\cdots, N - 1 \\right\\}\n",
    "$$\n",
    "$$\n",
    "    \\sum_{n=0}^{N-1}{q_{n, i}} = 1 \\quad i \\in \\left\\{0, 1, \\cdots, N - 1 \\right\\}\n",
    "$$\n"
   ]
  },
  {
   "cell_type": "markdown",
   "metadata": {},
   "source": [
    "## 問題の生成\n",
    "\n",
    "まず巡回セールスマン問題の入力となる、各都市間の距離を作成します。ここでは `numpy` を用いて、二次元平面上のランダムな位置に都市を配置して距離行列を生成します。次のように、都市数を与えることでランダムな巡回セールスマン問題を生成する関数を作成しました。"
   ]
  },
  {
   "cell_type": "code",
   "execution_count": null,
   "metadata": {},
   "outputs": [],
   "source": [
    "import numpy as np\n",
    "\n",
    "\n",
    "def gen_random_tsp(ncity: int):\n",
    "    # 座標\n",
    "    locations = np.random.uniform(size=(ncity, 2))\n",
    "\n",
    "    # 距離行列\n",
    "    all_diffs = np.expand_dims(locations, axis=1) - np.expand_dims(locations, axis=0)\n",
    "    distances = np.sqrt(np.sum(all_diffs**2, axis=-1))\n",
    "\n",
    "    return locations, distances"
   ]
  },
  {
   "cell_type": "markdown",
   "metadata": {},
   "source": [
    "`gen_random_tsp` 関数の二つ目の返値である、`distances` は上記定式化における $d$ に相当します。\n",
    "\n",
    "次のようにして $32$ 都市について各都市の座標がプロットされます。"
   ]
  },
  {
   "cell_type": "code",
   "execution_count": null,
   "metadata": {},
   "outputs": [],
   "source": [
    "import matplotlib.pyplot as plt\n",
    "\n",
    "\n",
    "def show_plot(locs: np.ndarray):\n",
    "    plt.figure(figsize=(7, 7))\n",
    "    plt.xlabel(\"x\")\n",
    "    plt.ylabel(\"y\")\n",
    "    plt.scatter(*zip(*locations))\n",
    "    plt.show()\n",
    "\n",
    "\n",
    "ncity = 32\n",
    "locations, distances = gen_random_tsp(ncity)"
   ]
  },
  {
   "cell_type": "code",
   "execution_count": null,
   "metadata": {},
   "outputs": [],
   "source": [
    "show_plot(locations)"
   ]
  },
  {
   "cell_type": "markdown",
   "metadata": {},
   "source": [
    "## 二値多項式模型の構築\n",
    "\n",
    "次に変数テーブルを作成します。これが巡回路における訪問順と訪問先を表します。"
   ]
  },
  {
   "cell_type": "code",
   "execution_count": null,
   "metadata": {},
   "outputs": [],
   "source": [
    "from amplify import BinarySymbolGenerator\n",
    "\n",
    "gen = BinarySymbolGenerator()\n",
    "q = gen.array(ncity, ncity)"
   ]
  },
  {
   "cell_type": "markdown",
   "metadata": {},
   "source": [
    "変数テーブルは次のように二値変数を各要素に持つサイズ $N×N$ の二次元配列です。"
   ]
  },
  {
   "cell_type": "code",
   "execution_count": null,
   "metadata": {},
   "outputs": [],
   "source": [
    "q_4city = BinarySymbolGenerator().array(4, 4)\n",
    "q_4city  # 4都市の場合の実行例"
   ]
  },
  {
   "cell_type": "markdown",
   "metadata": {},
   "source": [
    "これを用いてコスト関数を作成します。"
   ]
  },
  {
   "cell_type": "code",
   "execution_count": null,
   "metadata": {},
   "outputs": [],
   "source": [
    "from amplify import einsum\n",
    "\n",
    "cost = einsum(\"ij,ni,nj->\", distances, q, q.roll(-1, axis=0))"
   ]
  },
  {
   "cell_type": "markdown",
   "metadata": {},
   "source": [
    "コスト関数における和の演算に対して補助関数の `einsum` 関数を用いています。`einsum(\"ij,ni,nj->\", d, q, q.roll(-1, axis=0))` は $\\sum_{n = 0}^{N - 1}{d_{ij}q_{n,i} q_{n+1,j}}$ に対応します。`q.roll(-1, axis=0)` で `n` のインデックスをずらしていることに注意してください。"
   ]
  },
  {
   "cell_type": "markdown",
   "metadata": {},
   "source": [
    "### Note\n",
    "\n",
    "和の演算を表す `sum_poly` 関数を用いると、次のように書くことも可能です。\n",
    "\n",
    "```python\n",
    "cost = sum_poly(\n",
    "    ncity,\n",
    "    lambda n: sum_poly(\n",
    "        ncity,\n",
    "        lambda i: sum_poly(\n",
    "            ncity, lambda j: distances[i, j] * q[n, i] * q[(n + 1) % ncity, j]\n",
    "        ),\n",
    "    ),\n",
    ")\n",
    "```"
   ]
  },
  {
   "cell_type": "markdown",
   "metadata": {},
   "source": [
    "次に制約条件を構築します。One-hot 制約は `one_hot()` 関数で作成されます。`sum()` 関数で全ての制約条件を足し合わせます。"
   ]
  },
  {
   "cell_type": "code",
   "execution_count": null,
   "metadata": {},
   "outputs": [],
   "source": [
    "from amplify.constraint import one_hot\n",
    "from amplify import sum_poly\n",
    "\n",
    "# 行に対する制約\n",
    "row_constraints = [one_hot(q[n]) for n in range(ncity)]\n",
    "\n",
    "# 列に対する制約\n",
    "col_constraints = [one_hot(q[:, i]) for i in range(ncity)]\n",
    "\n",
    "constraints = sum(row_constraints) + sum(col_constraints)"
   ]
  },
  {
   "cell_type": "markdown",
   "metadata": {},
   "source": [
    "最後にコスト関数と全ての制約条件を足し合わせて論理模型オブジェクトを作成します。ここで制約条件の強さに注意を要する必要があります。適切な制約条件の強さはコスト関数に依存し、十分に大きな値にする必要があるからです。しかし一方で、制約の強さを可能な限り小さくすることで、イジングマシンが出力する結果が改善する傾向にもあります。\n",
    "\n",
    "巡回セールスマン問題における制約条件の強さに関する議論はリファレンス [1] を参照してください。ここでは、十分な大きな値として距離行列の最大値を設定します。この値を用いて次のように論理模型オブジェクトを作成します。"
   ]
  },
  {
   "cell_type": "code",
   "execution_count": null,
   "metadata": {},
   "outputs": [],
   "source": [
    "constraints *= np.amax(distances)  # 制約条件の強さを設定\n",
    "model = cost + constraints"
   ]
  },
  {
   "cell_type": "markdown",
   "metadata": {},
   "source": [
    "\n",
    "[1]: [K. Takehara, D. Oku, Y. Matsuda, S. Tanaka and N. Togawa, \"A Multiple Coefficients Trial Method to Solve Combinatorial Optimization Problems for Simulated-annealing-based Ising Machines,\" 2019 IEEE 9th International Conference on Consumer Electronics (ICCE-Berlin), Berlin, Germany, 2019, pp. 64-69, doi: 10.1109/ICCE-Berlin47944.2019.8966167.](https://ieeexplore.ieee.org/abstract/document/8966167)\n"
   ]
  },
  {
   "cell_type": "markdown",
   "metadata": {},
   "source": [
    "## イジングマシンの実行\n",
    "\n",
    "イジングマシンのクライアントを作成しパラメータを設定します。その後ソルバーを作成しクライアントを設定します。"
   ]
  },
  {
   "cell_type": "code",
   "execution_count": null,
   "metadata": {},
   "outputs": [],
   "source": [
    "from amplify import Solver\n",
    "from amplify.client import FixstarsClient\n",
    "\n",
    "client = FixstarsClient()\n",
    "client.parameters.timeout = 5000  # タイムアウト5秒\n",
    "\n",
    "solver = Solver(client)"
   ]
  },
  {
   "cell_type": "markdown",
   "metadata": {},
   "source": [
    "次のようにしてイジングマシンを実行し結果を取得します。"
   ]
  },
  {
   "cell_type": "code",
   "execution_count": null,
   "metadata": {},
   "outputs": [],
   "source": [
    "result = solver.solve(model)\n",
    "if len(result) == 0:\n",
    "    raise RuntimeError(\"Any one of constraints is not satisfied.\")\n",
    "\n",
    "energy, values = result[0].energy, result[0].values"
   ]
  },
  {
   "cell_type": "markdown",
   "metadata": {},
   "source": [
    "### Note\n",
    "\n",
    "もし `result` オブジェクトが空の場合、制約条件を満たす解が得られなかったことを意味します。\n",
    "この場合はイジングマシンのパラメータや制約の強さの変更が必要です。"
   ]
  },
  {
   "cell_type": "markdown",
   "metadata": {},
   "source": [
    "## 結果の解析\n",
    "\n",
    "`energy` はコスト関数の評価値を表します。今回の定式化では移動距離の合計に相当します。"
   ]
  },
  {
   "cell_type": "code",
   "execution_count": null,
   "metadata": {},
   "outputs": [],
   "source": [
    "energy"
   ]
  },
  {
   "cell_type": "markdown",
   "metadata": {},
   "source": [
    "`values` は入力変数と解の値のマッピングを表す辞書です。そのままでは評価しづらいので、次のようにデコードメソッドを用いて変数テーブル `q` と同一の形式にデコードします。"
   ]
  },
  {
   "cell_type": "code",
   "execution_count": null,
   "metadata": {},
   "outputs": [],
   "source": [
    "q_values = q.decode(values)"
   ]
  },
  {
   "cell_type": "markdown",
   "metadata": {},
   "source": [
    "```python\n",
    ">>> q_values # 4都市の場合の実行例\n",
    "[[1, 0, 0, 0],\n",
    " [0, 0, 0, 1],\n",
    " [0, 0, 1, 0],\n",
    " [0, 1, 0, 0]]\n",
    "```"
   ]
  },
  {
   "cell_type": "markdown",
   "metadata": {},
   "source": [
    "これを見ると、各行・各列に $1$ が一回ずつしか現れていないため、確かに制約条件を満たしていることがわかります。 $1$ が現れる列インデックスを取得すれば経路がわかるので、次のように `numpy` 関数を用いて調べます (`numpy` の関数を使用するために配列 `numpy.ndarray` に変換しています)。"
   ]
  },
  {
   "cell_type": "code",
   "execution_count": null,
   "metadata": {},
   "outputs": [],
   "source": [
    "route = np.where(np.array(q_values) == 1)[1]\n",
    "print(route)"
   ]
  },
  {
   "cell_type": "markdown",
   "metadata": {},
   "source": [
    "最後に得られた経路を表示します。次の関数でプロットできます。"
   ]
  },
  {
   "cell_type": "code",
   "execution_count": null,
   "metadata": {},
   "outputs": [],
   "source": [
    "def show_route(route: list, distances: np.ndarray, locations: np.ndarray):\n",
    "    ncity = len(route)\n",
    "    path_length = sum(\n",
    "        [distances[route[i]][route[(i + 1) % ncity]] for i in range(ncity)]\n",
    "    )\n",
    "\n",
    "    x = [i[0] for i in locations]\n",
    "    y = [i[1] for i in locations]\n",
    "    plt.figure(figsize=(7, 7))\n",
    "    plt.title(f\"path length: {path_length}\")\n",
    "    plt.xlabel(\"x\")\n",
    "    plt.ylabel(\"y\")\n",
    "\n",
    "    for i in range(ncity):\n",
    "        r = route[i]\n",
    "        n = route[(i + 1) % ncity]\n",
    "        plt.plot([x[r], x[n]], [y[r], y[n]], \"b-\")\n",
    "    plt.plot(x, y, \"ro\")\n",
    "    plt.show()\n",
    "\n",
    "    return path_length"
   ]
  },
  {
   "cell_type": "code",
   "execution_count": null,
   "metadata": {},
   "outputs": [],
   "source": [
    "show_route(route, distances, locations)"
   ]
  },
  {
   "cell_type": "markdown",
   "metadata": {},
   "source": [
    "## 高度なチューニング\n",
    "\n",
    "巡回セールスマン問題をイジングマシンで解く場合のテクニックをいくつか紹介します。"
   ]
  },
  {
   "cell_type": "markdown",
   "metadata": {},
   "source": [
    "### 制約の強さの調整\n",
    "\n",
    "一般にイジングマシンにおいて、制約の強さは小さい方が良い解が出る傾向にあります。定性的には、これは最小化したいコスト関数に対し、制約項を弱くした方が相対的にコスト項が重視されると説明されます。\n",
    "\n",
    "リファレンス [1] によると制約の強さの下限値は、最適解の経路に含まれる都市間の最長距離という事がわかっていますが、一般にこれは事前に最適解がわからないため非自明です。そこで制約の強さの調整が必要になります。\n",
    "\n",
    "よりよい解を求めるためには、上記のコードにおいてパラメータ $k \\left( 0 < k \\le 1 \\right)$ を導入し、適切な下限値を見つけることが有効です。\n"
   ]
  },
  {
   "cell_type": "code",
   "execution_count": null,
   "metadata": {},
   "outputs": [],
   "source": [
    "k = 0.5\n",
    "model = cost + constraints * k * np.amax(distances)"
   ]
  },
  {
   "cell_type": "markdown",
   "metadata": {},
   "source": [
    "アニーリング実行時間等を長くするよりも、複数の $k$ で実行する方が、同じ解の品質で比較した場合に、総合的には効率が良い場合もあります [1]。\n",
    "\n",
    "次の実行例は $k=0.3$ から $k = 1.0$ まで $0.1$ 刻みで変化させた場合の解の様子です。$k$ が小さい方が品質の高い解が得られている傾向がわかります。\n"
   ]
  },
  {
   "cell_type": "code",
   "execution_count": null,
   "metadata": {},
   "outputs": [],
   "source": [
    "client.parameters.timeout = 1000  # タイムアウト1秒\n",
    "solver = Solver(client)\n",
    "\n",
    "for i in range(2, 10):\n",
    "    k = 0.1 * (i + 1)\n",
    "    model = cost + constraints * k * np.amax(distances)\n",
    "    result = solver.solve(model)\n",
    "\n",
    "    print(f\"k={k}\")\n",
    "    if len(result) == 0:\n",
    "        print(f\"Any one of constraints is not satisfied.\")\n",
    "        continue\n",
    "\n",
    "    energy, values = result[0].energy, result[0].values\n",
    "\n",
    "    q_values = q.decode(values)\n",
    "    route = np.where(np.array(q_values) == 1)[1]\n",
    "    show_route(route, distances, locations)"
   ]
  },
  {
   "cell_type": "markdown",
   "metadata": {},
   "source": [
    "### Note\n",
    "\n",
    "問題によっては、$k=1.0$でも十分品質の良い解が得られる場合もあります。"
   ]
  },
  {
   "cell_type": "markdown",
   "metadata": {},
   "source": [
    "### コスト関数の縮小\n",
    "\n",
    "制約項の強さの下限値はコスト関数項に依存し、その値は最適解の経路に含まれる都市間の最長距離が対応します。これはコスト関数における係数 $d_{ij}$ の大きさに依存していると解釈することも出来ます。もし、$d_{ij}$ の大きさを縮小することが出来れば、相対的に制約項をさらに小さくすることが可能になり、より品質の高い解が得られることを期待できます。\n",
    "\n",
    "そこで都市 $i$ と 都市 $j$ の距離の定義を改変します。\n",
    "\n",
    "$$\n",
    "d_{ij}' = d_{ij} - \\min_{j \\ne i} d_{ij}\n",
    "$$\n",
    "\n",
    "\n",
    "都市 $i$ に着目したときに、最も近い別の都市の距離だけ縮めています。これにより $d_{ij}$ を全体的に縮小できます。距離行列の非対角項は $d_{ij} \\ne d_{ji}$ となるため非対称巡回セールスマン問題となっています。\n",
    "\n",
    "よってコスト関数は次のように変更されます。\n",
    "\n",
    "$$\n",
    "\\sum_{n=0}^{N-1}{\\sum_{i=0}^{N-1}{\\sum_{j=0}^{N-1}{ d_{ij}' q_{n, i} q_{n+1, j} }}} + \\sum_{i=0}^{N-1}{\\min_{j \\ne i} d_{ij}}\n",
    "$$\n",
    "\n",
    "定数項を追加し各都市において差し引いた分を全て足しています。経路は必ず1カ所を1回だけ通るので、これにより元のコスト関数と同一の値を取ります。\n",
    "\n",
    "コードは次のように改変されます。"
   ]
  },
  {
   "cell_type": "code",
   "execution_count": null,
   "metadata": {},
   "outputs": [],
   "source": [
    "# 各行の非ゼロ最小値をリストで取得\n",
    "d_min = np.array(\n",
    "    [(distances[n][distances[n].nonzero()]).min() for n in range(ncity)]\n",
    ").reshape(ncity, 1)\n",
    "\n",
    "# コスト関数の係数を改変し定数項を加算\n",
    "new_cost = einsum(\"ij,ni,nj->\", (distances - d_min), q, q.roll(-1, axis=0)) + sum(d_min)\n",
    "\n",
    "# 各行の最小値を引いた上で全要素の最大値を取得\n",
    "new_model = new_cost + constraints * np.amax(distances - d_min)"
   ]
  },
  {
   "cell_type": "markdown",
   "metadata": {},
   "source": [
    "次の実行例はマシンパラメータを同一の条件に固定し、制約を満たす最小の $k$ における解の比較を行ったものです。左図はコスト関数変更する前で右図はコスト関数を変更した後です。解の品質が改善していることがわかります。"
   ]
  },
  {
   "cell_type": "code",
   "execution_count": null,
   "metadata": {},
   "outputs": [],
   "source": [
    "# コスト関数変更前\n",
    "for i in range(10):\n",
    "    k = 0.05 * (i + 1)\n",
    "    model = cost + constraints * k * np.amax(distances)\n",
    "    result = solver.solve(model)\n",
    "\n",
    "    print(f\"k={k}\")\n",
    "    if len(result) == 0:\n",
    "        print(f\"Any one of constraints is not satisfied.\")\n",
    "        continue\n",
    "    else:  # 制約を満たす解を得られたら終了\n",
    "        q_values = q.decode(result[0].values)\n",
    "        route = np.where(np.array(q_values) == 1)[1]\n",
    "        show_route(route, distances, locations)\n",
    "        break"
   ]
  },
  {
   "cell_type": "code",
   "execution_count": null,
   "metadata": {},
   "outputs": [],
   "source": [
    "# コスト関数変更後\n",
    "for i in range(10):\n",
    "    k = 0.05 * (i + 1)\n",
    "    new_model = new_cost + constraints * k * np.amax(distances - d_min)\n",
    "    result = solver.solve(new_model)\n",
    "\n",
    "    print(f\"k={k}\")\n",
    "    if len(result) == 0:\n",
    "        print(f\"Any one of constraints is not satisfied.\")\n",
    "        continue\n",
    "    else:  # 制約を満たす解を得られたら終了\n",
    "        q_values = q.decode(result[0].values)\n",
    "        route = np.where(np.array(q_values) == 1)[1]\n",
    "        show_route(route, distances, locations)\n",
    "        break"
   ]
  },
  {
   "cell_type": "markdown",
   "metadata": {},
   "source": [
    "### 回転対称性の除去\n",
    "\n",
    "このセクションで紹介した定式化は解空間において冗長な部分があります。つまり同一の経路に対して複数の解の状態を持ちます。\n",
    "\n",
    "具体的にはある経路に対して始点を定めていないために回転対称性を持ちます。また後述する右回り・左回り経路の反転対称性も持ちます。結果として、同一の経路に対し $2N$ 通りの解の状態が存在します。まずは始点を固定することで問題を縮約化し必要となる変数の数が少なくなるように試みます。\n",
    "\n",
    "始点を固定化するには、あらかじめそのような状況を考慮して定式化することも出来ますが、事前に変数に値を入れておくことで、これまでの定式化から最小限の変更で行う事が可能です。\n",
    "\n",
    "変数テーブルには値を代入することが可能なので、例えば最初に訪れる都市を $i=0$ に固定化します。つまり、\n",
    "\n",
    "$$\n",
    "    q_{0, 0} = 1 \\\\\n",
    "    q_{0, i} = 0 \\quad \\left( i \\ne 0 \\right) \\\\\n",
    "    q_{n, 0} = 0 \\quad \\left( n \\ne 0 \\right)\n",
    "$$\n",
    "\n",
    "を設定すれば良いです。これは次のようにします。"
   ]
  },
  {
   "cell_type": "code",
   "execution_count": null,
   "metadata": {},
   "outputs": [],
   "source": [
    "# 変数テーブルの作成\n",
    "gen = BinarySymbolGenerator()\n",
    "q = gen.array(ncity, ncity)\n",
    "\n",
    "# 変数テーブルの要素に値を設定\n",
    "q[0, 0] = 1\n",
    "for i in range(1, ncity):\n",
    "    q[0, i] = 0\n",
    "    q[i, 0] = 0"
   ]
  },
  {
   "cell_type": "code",
   "execution_count": null,
   "metadata": {},
   "outputs": [],
   "source": [
    "q"
   ]
  },
  {
   "cell_type": "markdown",
   "metadata": {},
   "source": [
    "以降は変更の必要はなくコスト関数と制約項の構築をこれまで通り進めてください。\n",
    "\n",
    "これにより $N^2$ 変数の問題を $\\left( N - 1 \\right)^2$ 変数に縮小することが出来ました。\n",
    "\n",
    "変数の数を減少させることで多少ながら解の品質の向上が期待できます。"
   ]
  },
  {
   "cell_type": "markdown",
   "metadata": {},
   "source": [
    "### 反転対称性の除去\n",
    "\n",
    "反転対称性については新たに制約を加えることで実現されます。制約の追加は問題の複雑化に繋がるため、必ずしも解の品質の向上に繋がるわけではないですが、参考のため解説します。\n",
    "\n",
    "始点を $i = 0$ に固定化した上で、例えば経路 ``[0 2 4 3 6 5 1 7]`` が得られたとします。現在の定式化では、これを反転した ``[0 7 1 5 6 3 4 2]`` もまた同一の解です。この対称性を破るには、始点の次と前の都市のインデックスに着目します。前者の解では、$i = 2 \\left(n=1 \\right) < 7 \\left(n=7 \\right)$  ですが、後者では $i = 7 \\left(n=1 \\right) > 2 \\left(n=7 \\right)$ と不等号が反転しています。\n",
    "\n",
    "この不等号を固定化すれば反転対称性を破ることが出来ます。前者のように $n = 1, N - 1$ で昇順になるようにするには、次の制約条件を追加します。\n",
    "\n",
    "**制約条件 (追加)**\n",
    "\n",
    "$$\n",
    "q_{N-1,i} q_{1,j} = 0 \\quad \\left( i < j \\right)\n",
    "$$\n",
    "\n",
    "この式は $i < j$ において $q_{N-1,i}, q_{1,j}$ が共に $1$ となることを禁止しています。このように最小値0をとる制約については、 `amplify.constraint.penalty` 関数を用いて次のように書けます。\n"
   ]
  },
  {
   "cell_type": "code",
   "execution_count": null,
   "metadata": {},
   "outputs": [],
   "source": [
    "from amplify.constraint import penalty\n",
    "\n",
    "# 順序に対する制約\n",
    "pem_constraint = [\n",
    "    penalty(q[ncity - 1, i] * q[1, j])\n",
    "    for i in range(ncity)\n",
    "    for j in range(i + 1, ncity)\n",
    "]\n",
    "\n",
    "# 行に対する制約\n",
    "row_constraints = [one_hot(q[n]) for n in range(ncity)]\n",
    "\n",
    "# 列に対する制約\n",
    "col_constraints = [one_hot(q[:, i]) for i in range(ncity)]\n",
    "\n",
    "constraints = sum(row_constraints) + sum(col_constraints) + sum(pem_constraint)"
   ]
  },
  {
   "cell_type": "markdown",
   "metadata": {},
   "source": [
    "### Note\n",
    "\n",
    "最小値0をとる制約条件については、先に全ての条件の和を取ってから単一の制約条件オブジェクトを作成しても等価です。この場合、ペアの組合せの和を表す `pair_sum` 関数を用いると次のように書けます。\n",
    "\n",
    "```python\n",
    "from amplify import pair_sum\n",
    "\n",
    "# 順序に対する制約\n",
    "pem_constraint = penalty(pair_sum(ncity, lambda i, j: q[ncity - 1, i] * q[1, j]))\n",
    "\n",
    "constraints = sum(row_constraints) + sum(col_constraints) + pem_constraint\n",
    "```\n",
    "\n",
    "\n",
    "`amplify.pair_sum` 関数は $i<j$ について和を取るため `for` ループが不要になります。\n",
    "\n",
    "行と列に対する制約条件と同様に、順序制約についても和を取り、最後に全ての制約条件を足し合わせます。以降はこれまでと同様に解を取得することで、$n = 1, N - 1$ で経路インデックスが昇順になっていることが確認できます。"
   ]
  },
  {
   "cell_type": "code",
   "execution_count": null,
   "metadata": {},
   "outputs": [],
   "source": [
    "k = 1.0\n",
    "\n",
    "# 各行の非ゼロ最小値をリストで取得\n",
    "d_min = np.array(\n",
    "    [(distances[n][distances[n].nonzero()]).min() for n in range(ncity)]\n",
    ").reshape(ncity, 1)\n",
    "\n",
    "# コスト関数の係数を改変し定数項を加算\n",
    "cost = einsum(\"ij,ni,nj->\", (distances - d_min), q, q.roll(-1, axis=0)) + sum(d_min)\n",
    "\n",
    "model = cost + constraints * k * np.amax(distances - d_min)\n",
    "result = solver.solve(model)\n",
    "\n",
    "q_values = q.decode(result[0].values)\n",
    "route = np.where(np.array(q_values) == 1)[1]\n",
    "print(route)\n",
    "show_route(route, distances, locations)"
   ]
  }
 ],
 "metadata": {
  "language_info": {
   "name": "python",
   "pygments_lexer": "ipython3"
  }
 }
}
