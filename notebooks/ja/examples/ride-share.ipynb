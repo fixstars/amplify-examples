{
 "cells": [
  {
   "attachments": {},
   "cell_type": "markdown",
   "metadata": {},
   "source": [
    "# ライドシェア\n",
    "\n",
    "このチュートリアルでは、ライドシェアにおける利用者と車のマッチングの最適化を取り扱います。\n",
    "\n",
    "## 問題設定\n",
    "\n",
    "このサンプルコードでは、同じ目的地を持つ複数の利用者が出発地点に集合し、車に相乗りして目的地を目指す形式のライドシェアについて考えます。利用可能な車は複数台あり、それぞれが別の場所にあるとします。たとえば、同じオフィスで働いている人々が、そのうちの誰かの車に乗って一緒に通勤するという状況です。\n",
    "\n",
    "各利用者の出発地点までの移動距離と使用する車の台数をなるべく小さくすることを目的として、最適な利用者への車の割り当てを求めます。\n",
    "\n",
    "![](../figures/ride-share_abstract.drawio.svg)\n",
    "\n",
    "### データ\n",
    "\n",
    "データとしては、以下のような情報が必要です。これらは定数として与えられているとします。\n",
    "\n",
    "* $N$：ライドシェア利用者数\n",
    "* $M$：使用可能な車の台数\n",
    "* $C$：車一台あたりの乗車可能人数\n",
    "* $D$：利用者 $i$ と車 $k$ の間の距離を成分 $d_{ik}$ で表される距離行列\n",
    "\n",
    "## 定式化\n",
    "\n",
    "どのような定式化により利用者に車を割り当てる最適な方法が得られるのかを考えます。このチュートリアルにおける目的は以下のような割り当て方を得ることです。\n",
    "\n",
    "* 各利用者と車の間の移動距離ができるだけ小さい\n",
    "* 使用する車の台数ができるだけ少ない\n",
    "\n",
    "### 変数\n",
    "\n",
    "各利用者にどの車を割り当てるかをバイナリ変数を用いて表します。(利用者数) $\\times$ (車の数) 個の変数からなる二次元配列 $q$ を用意し、変数 $q_{ik}$ は人 $i$ が車 $k$ に乗るかどうかを表すこととします。\n",
    "\n",
    "たとえば、以下は $N=4$, $M=3$ で利用者 $0$ と利用者 $1$ が車 $0$ に、利用者 $2$ と利用者 $3$ は車 $2$ に乗ることを表します。\n",
    "\n",
    "|          | 車 0 | 車 1 | 車 2 |\n",
    "| -------- | ---- | ---- | ---- |\n",
    "| 利用者 0 |    1 |    0 |    0 |\n",
    "| 利用者 1 |    1 |    0 |    0 |\n",
    "| 利用者 2 |    0 |    0 |    1 |\n",
    "| 利用者 3 |    0 |    0 |    1 |\n",
    "\n",
    "### 制約条件\n",
    "\n",
    "続いて、変数が満たすべき制約を考えます。\n",
    "\n",
    "まず、各利用者は必ずいずれか一台の車に乗ります。これは変数配列において各行の和が $1$ であることを意味します。以下の数式で表されます。\n",
    "\n",
    "$$\n",
    "\\sum_{k=0}^{M-1}q_{ik}=1\\ (\\forall i\\in\\{0,\\ldots,N-1\\})\n",
    "$$\n",
    "\n",
    "次に、実際の乗車人数が乗車可能人数を上回らないことも必要です。これは変数配列において各列の和が $C$ 以下であることを意味します。以下の数式で表されます。\n",
    "\n",
    "$$\n",
    "\\sum_{i=0}^{N-1}q_{ik}\\leq C\\ (\\forall k\\in\\{0,\\ldots,M-1\\})\n",
    "$$\n",
    "\n",
    "### 目的関数\n",
    "\n",
    "最後に、今回の目的である、\n",
    "\n",
    "1. 各利用者と車の間の移動距離ができるだけ小さい\n",
    "2. 使用する車の台数ができるだけ小さい\n",
    "\n",
    "を表すための目的関数を考えます。\n",
    "\n",
    "まず、「各利用者と車の間の移動距離ができるだけ小さい」を達成するためには、各利用者と、利用者に割り当てられた車との距離の総和を最小化すれば良いです。これは\n",
    "\n",
    "$$\n",
    "\\text{minimize}\\quad\\sum_{i,k}d_{ik}q_{ik}\n",
    "$$\n",
    "\n",
    "と表すことができます。$\\sum_{i,k}d_{ik}q_{ik}$ は、利用者 $i$ が車 $k$ への移動を行う場合に $d_{ik}$ を加算するので、各利用者と利用者に割り当てられた車との距離の総和を表します。\n",
    "\n",
    "次に、「使用する車の台数ができるだけ小さい」を表す目的関数を考えます。使用する車の台数を直接 $q$ で表すのは難しいので、満員に近い人数が乗っている車の数を増やすことで、使用する車の台数を間接的に削減します。\n",
    "\n",
    "$$\n",
    "\\text{maximize}\\quad\\sum_{k}\\left(\\sum_i\\frac{q_{ik}}{C}\\right)^2\n",
    "$$\n",
    "\n",
    "$\\sum_i q_{ik}$ は $k$ 列目の和であり、車 $k$ に乗っている人数と一致します。したがって $\\displaystyle\\sum_i\\frac{q_{ik}}{C}$ は車 $k$ の乗車率を表します。乗車率の二乗和 $\\displaystyle\\sum_{k}\\left(\\sum_i\\frac{q_{ik}}{C}\\right)^2$ は満員に近い車の数が大きければ大きいほど大きくなります。\n",
    "\n",
    "これら二つの目的関数を足し合わせることで、二つの目的をどちらもできるだけ達成するような目的関数を作成することができます。ただし、「使用する車の台数ができるだけ小さい」ことを表す方の目的関数は最大化問題であるため、-1 を乗じて最小化問題に変換してから足し合わせます。\n",
    "\n",
    "$$\n",
    "\\text{minimize} \\quad \\sum_{i,k}d_{ik}q_{ik}-\\alpha\\sum_{k}\\left(\\sum_i\\frac{q_{ik}}{C}\\right)^2\n",
    "$$\n",
    "\n",
    "#### Note\n",
    "\n",
    "$\\alpha > 0$ は車の使用台数をどのくらい重視するかを決定するパラメータです。$\\alpha$ が0に近いほど移動距離を小さくするように最適化が行われ、$\\alpha$ の値が大きいほど車の使用台数を小さくするように最適化が行われます。\n"
   ]
  },
  {
   "attachments": {},
   "cell_type": "markdown",
   "metadata": {},
   "source": [
    "## 問題の作成\n",
    "\n",
    "まず、問題となるデータを作成します。はじめに、定数を以下のように定めます。\n",
    "\n",
    "* 利用者の数 $N$: 30 人\n",
    "* 車の数 $M$: 10 台\n",
    "* 車の定員 $C$: 6 人 / 台"
   ]
  },
  {
   "cell_type": "code",
   "execution_count": null,
   "metadata": {},
   "outputs": [],
   "source": [
    "num_people = 30\n",
    "num_cars = 10\n",
    "car_capacity = 6"
   ]
  },
  {
   "cell_type": "markdown",
   "metadata": {},
   "source": [
    "次に、利用者と車の初期位置を定め、各利用者と各車の距離を表す行列を作成します。以下の `generate_problem` 関数は利用者および車の初期位置 (緯度と経度) をランダムに生成し、距離行列を計算します。緯度と経度の情報から 2 点間の距離を計算するのに、`geopy` ライブラリを用いています。\n"
   ]
  },
  {
   "cell_type": "code",
   "execution_count": null,
   "metadata": {},
   "outputs": [],
   "source": [
    "import numpy as np\n",
    "from geopy.distance import geodesic\n",
    "\n",
    "\n",
    "def generate_problem(\n",
    "    num_people: int,\n",
    "    num_cars: int,\n",
    "    latitude_range: tuple[float, float],\n",
    "    longitude_range: tuple[float, float],\n",
    "    seed=999,\n",
    ") -> tuple[np.ndarray, np.ndarray, np.ndarray]:\n",
    "    rng = np.random.default_rng(seed)\n",
    "\n",
    "    # 利用者と車の座標を生成\n",
    "    people_coords = rng.uniform(\n",
    "        low=np.array([latitude_range[0], longitude_range[0]]),\n",
    "        high=np.array([latitude_range[1], longitude_range[1]]),\n",
    "        size=(num_people, 2),\n",
    "    )\n",
    "    car_coords = rng.uniform(\n",
    "        low=np.array([latitude_range[0], longitude_range[0]]),\n",
    "        high=np.array([latitude_range[1], longitude_range[1]]),\n",
    "        size=(num_cars, 2),\n",
    "    )\n",
    "\n",
    "    # 距離行列 d を作成 (d[i, k] が利用者 i と車 k の距離)\n",
    "    distances = np.zeros((num_people, num_cars))\n",
    "    for i in range(num_people):\n",
    "        for k in range(num_cars):\n",
    "            distances[i, k] = geodesic(people_coords[i], car_coords[k]).m  # 単位はメートル\n",
    "\n",
    "    return people_coords, car_coords, distances"
   ]
  },
  {
   "cell_type": "markdown",
   "metadata": {},
   "source": [
    "`generate_problem` 関数を用いて、座標を生成します。"
   ]
  },
  {
   "cell_type": "code",
   "execution_count": null,
   "metadata": {},
   "outputs": [],
   "source": [
    "# 船橋駅周辺\n",
    "latitude_range = (35.675500, 35.76)\n",
    "longitude_range = (139.9, 140.08)\n",
    "\n",
    "people_coords, car_coords, distances = generate_problem(\n",
    "    num_people, num_cars, latitude_range, longitude_range\n",
    ")"
   ]
  },
  {
   "attachments": {},
   "cell_type": "markdown",
   "metadata": {},
   "source": [
    "次に、生成した車と利用者の座標を地図上に可視化します。"
   ]
  },
  {
   "cell_type": "code",
   "execution_count": null,
   "metadata": {},
   "outputs": [],
   "source": [
    "import folium\n",
    "\n",
    "\n",
    "def plot_people_and_cars(\n",
    "    people_coords: np.ndarray,\n",
    "    car_coords: np.ndarray,\n",
    "    latitude_range: tuple[float, float],  # 描画範囲 (緯度)\n",
    "    longitude_range: tuple[float, float],  # 描画範囲 (経度)\n",
    "):\n",
    "    m = folium.Map(\n",
    "        [sum(latitude_range) / 2, sum(longitude_range) / 2],\n",
    "        tiles=\"OpenStreetMap\",\n",
    "        zoom_start=12,\n",
    "    )\n",
    "\n",
    "    for latitude, longitude in people_coords:\n",
    "        folium.Marker(\n",
    "            location=(latitude, longitude),\n",
    "            icon=folium.Icon(icon=\"user\", prefix=\"fa\", color=\"orange\"),\n",
    "        ).add_to(m)\n",
    "\n",
    "    for latitude, longitude in car_coords:\n",
    "        folium.Marker(\n",
    "            location=(latitude, longitude),\n",
    "            icon=folium.Icon(icon=\"car\", prefix=\"fa\", color=\"green\"),\n",
    "        ).add_to(m)\n",
    "\n",
    "    return m"
   ]
  },
  {
   "cell_type": "code",
   "execution_count": null,
   "metadata": {},
   "outputs": [],
   "source": [
    "plot_people_and_cars(people_coords, car_coords, latitude_range, longitude_range)"
   ]
  },
  {
   "cell_type": "markdown",
   "metadata": {},
   "source": [
    "以上で問題が作成できました。以下では、この利用者と車の位置を示すマップに対して、\n",
    "\n",
    "* 各利用者の車までの移動距離が小さい\n",
    "* 利用する車の台数が少ない\n",
    "\n",
    "ような車の割り当て方法を求めることになります。"
   ]
  },
  {
   "attachments": {},
   "cell_type": "markdown",
   "metadata": {},
   "source": [
    "## 組合せ最適化の実行\n",
    "\n",
    "Amplify を用いて、ライドシェアにおける車の割り当て最適化問題を実装します。\n",
    "\n",
    "### 問題の正規化\n",
    "\n",
    "最初に、目的関数の距離に関係する項と車の台数に関係する項のオーダーを揃えるため、以下の関数を用いて距離行列 `distances` の要素の平均を0、分散を1に直しておきます。この操作を行うことで、2 つの目的関数の重みを表すパラメータ $\\alpha$ の値を問題に依存せずに決定することができるようになります。"
   ]
  },
  {
   "cell_type": "code",
   "execution_count": null,
   "metadata": {},
   "outputs": [],
   "source": [
    "average = distances.mean()\n",
    "std = distances.std()\n",
    "distances: np.ndarray = (distances - average) / std"
   ]
  },
  {
   "cell_type": "markdown",
   "metadata": {},
   "source": [
    "### 変数\n",
    "\n",
    "次に、必要な QUBO 変数を定義します。[定式化](#定式化) で説明した通り、(利用者の数) × (車の数) の二次元配列の形でバイナリ変数を発行します。\n"
   ]
  },
  {
   "cell_type": "code",
   "execution_count": null,
   "metadata": {},
   "outputs": [],
   "source": [
    "from amplify import VariableGenerator\n",
    "\n",
    "gen = VariableGenerator()\n",
    "q = gen.array(\"Binary\", num_people, num_cars)"
   ]
  },
  {
   "attachments": {},
   "cell_type": "markdown",
   "metadata": {},
   "source": [
    "### 目的関数\n",
    "\n",
    "次に目的関数を定義します。目的関数は\n",
    "\n",
    "$$\\sum_{i,k}d_{ik}q_{ik}-\\alpha\\sum_{k}\\left(\\sum_i\\frac{q_{ik}}{C}\\right)^2$$\n",
    "\n",
    "で表されます。この式の第一項は各利用者の移動距離を短くするように働き、第二項は乗車率の二乗和をできるだけ大きくすることで使用する車の台数を少なくするように働きます。\n",
    "\n",
    "今回は、目的関数の重みパラメータ $\\alpha$ を 1 とします。$\\alpha$ を小さくすると各利用者の移動距離がより短くなり、大きくすると使用する車の台数がより少なくなります。\n",
    "\n",
    "目的関数の第一項は、距離行列 `distances` と変数配列 `q` の要素ごとの積の総和を取ることで実装できます。第二項の計算のためには、まず各車ごとの乗車率 $\\sum_i\\frac{q_{ik}}{C}$ を計算します。これは変数配列 `q` の列ごとの和を取ったあと車の定員数で割ったものであり、二次元配列の列ごとの和は `sum` メソッドの `axis` パラメータに 0 を与えることで計算できます。その後乗車率を 2 乗して和を取れば第二項が計算できます。"
   ]
  },
  {
   "cell_type": "code",
   "execution_count": null,
   "metadata": {},
   "outputs": [],
   "source": [
    "from amplify import sum\n",
    "\n",
    "alpha = 1.0\n",
    "\n",
    "# 第一項: 利用者の移動距離を短くする\n",
    "distance_objective = (distances * q).sum()\n",
    "\n",
    "# 第二項: 乗車率の二乗和を大きくする\n",
    "occupancies = q.sum(axis=0) / car_capacity  # 乗車率\n",
    "occupancy_objective = (occupancies**2).sum()\n",
    "\n",
    "objective = distance_objective - alpha * occupancy_objective"
   ]
  },
  {
   "cell_type": "markdown",
   "metadata": {},
   "source": [
    "### 制約条件\n",
    "\n",
    "制約条件を作成します。必要な制約は、\n",
    "\n",
    "* 各利用者には 1 台の車を割り当てる必要がある制約 $\\displaystyle \\sum_k q_{ik} = 1$\n",
    "* 各車に乗る人数は、車の定員を超えないという制約 $\\displaystyle \\sum_i q_{ik} \\leq C$\n",
    "\n",
    "の 2 種類です。\n",
    "\n",
    "まず、各利用者には 1 台の車を割り当てる必要がある制約 $\\displaystyle \\sum_k q_{ik} = 1$ は、変数配列 `q` の各行に 1 つだけ 1 があるという制約です。これは `one_hot` 関数を用いて書くことができ、$k$ に関する和を取るために `axis` パラメータに 1 を与えることで、二次元配列 `q` の各行に対する one-hot 制約を一括で生成できます。"
   ]
  },
  {
   "cell_type": "code",
   "execution_count": null,
   "metadata": {},
   "outputs": [],
   "source": [
    "from amplify import one_hot\n",
    "\n",
    "one_person_one_car_constraints = one_hot(q, axis=1)"
   ]
  },
  {
   "cell_type": "markdown",
   "metadata": {},
   "source": [
    "また、各車の定員を超えないという制約 $\\displaystyle \\sum_i q_{ik} \\leq C$ は、変数配列 `q` の各列の和が `car_capacity` を超えことを意味します。これは `less_equal` 関数を用いて書くことができ、$i$ に関する和を取るため `axis` パラメータに 0 を与えることで、二次元配列 `q` の各列に対する不等式制約を一括で生成できます。"
   ]
  },
  {
   "cell_type": "code",
   "execution_count": null,
   "metadata": {},
   "outputs": [],
   "source": [
    "from amplify import less_equal\n",
    "\n",
    "car_capacity_constraints = less_equal(q, car_capacity, axis=0)"
   ]
  },
  {
   "cell_type": "markdown",
   "metadata": {},
   "source": [
    "次に、制約条件に対して重みを掛けます。今回使用する組合せ最適化ソルバーである Amplify AE では、制約条件を破った場合に目的関数にペナルティ項を足すことで制約条件を守らせようとします。このペナルティ項が小さすぎると制約条件が守られていな解が出力されるため、制約条件の重みとして適切な値を設定する必要があります。\n",
    "\n",
    "2 種類の制約条件に対して、それぞれ以下のように適切な重みを見積もります。少し込み入っているため読み飛ばしても構いません。\n",
    "\n",
    "#### 1 台の車を割り当てる制約の重み\n",
    "\n",
    "各利用者には 1 台の車を割り当てる必要がある制約 `one_person_one_car_constraints` に対して、このうち 1 つの制約条件が 1 だけ破られた場合の目的関数の利得を考えてみます。\n",
    "\n",
    "まず、目的関数の第一項 (利用者の総移動距離) については、1 人の利用者に車を割り当てないことによってその利用者の移動距離の分だけ得をします。また、目的関数の第二項 (乗車率の二乗和) については、1 人の利用者に 2 台の車を割り当てることによって、本来は載せることの出来ないにも関わらず乗車率を上げることができます。乗車率は 0 以上 1 以下なので、第二項で得られる利得は最大でも 1 となります。したがって、目的関数全体として得られる利得は、最大でも (距離行列の最大値) + $\\alpha \\times 1$ となります。この値を制約条件 `one_person_one_car_constraints` の重みとします。\n",
    "\n",
    "#### 車の定員を超えない制約の重み\n",
    "\n",
    "各車に乗る人数は、車の定員を超えないという制約 `car_capacity_constraints` に対して、このうち 1 つの制約条件が 1 だけ破られた (一人多く乗車してしまった) 場合の目的関数の利得を考えてみます。\n",
    "\n",
    "まず、目的関数の第一項 (利用者の総移動距離) については、1 台の車に $C+1$ 人を乗せることによって、1 人の利用者の移動距離が本来よりも少し短くなる可能性があります。この差分は最大でも (距離行列の最大値) です。次に、目的関数の第二項 (乗車率の二乗和) については、1 台の車に $C+1$ 人を乗せることによって、乗車率の 2 乗和が少し増える可能性があります。乗車率の 2 乗和が最も増えるのは、本来 1 人乗っている車と $C$ 人乗っている車が制約条件を破ることによって 0 人の車と $C+1$ 人の車になる場合で、この場合の差分は $\\frac{2}{C}$ です。したがって、目的関数全体として得られる利得は、最大でも (距離行列の最大値) + $\\alpha \\times \\frac{2}{C}$ となります。この値を制約条件 `car_capacity_constraints` の重みとします。\n",
    "\n",
    "以上の議論により、次のように制約条件に重み掛けて設定を行います。"
   ]
  },
  {
   "cell_type": "code",
   "execution_count": null,
   "metadata": {},
   "outputs": [],
   "source": [
    "one_person_one_car_constraints *= np.max(distances) + alpha * 1\n",
    "car_capacity_constraints *= np.max(distances) + alpha * 2 / car_capacity"
   ]
  },
  {
   "attachments": {},
   "cell_type": "markdown",
   "metadata": {},
   "source": [
    "### 組合せ最適化モデルの構築\n",
    "\n",
    "上記目的関数と制約条件を足し合わせることによって最終的な組合せ最適化モデルを構築できます。"
   ]
  },
  {
   "cell_type": "code",
   "execution_count": null,
   "metadata": {},
   "outputs": [],
   "source": [
    "from amplify import Model\n",
    "\n",
    "model = objective + one_person_one_car_constraints + car_capacity_constraints"
   ]
  },
  {
   "attachments": {},
   "cell_type": "markdown",
   "metadata": {},
   "source": [
    "### 組合せ最適化ソルバーの実行\n",
    "\n",
    "今回使用する組合せ最適化ソルバーは Amplify AE です。Amplify AE に対応するソルバークライアントである `FixstarsClient` を作成し、タイムアウトを設定します。\n",
    "\n",
    "上記で作成した組合せ最適化モデルとソルバークライアントを使用して、求解を実行します。"
   ]
  },
  {
   "cell_type": "code",
   "execution_count": null,
   "metadata": {},
   "outputs": [],
   "source": [
    "from amplify import FixstarsClient, solve\n",
    "from datetime import timedelta\n",
    "\n",
    "client = FixstarsClient()\n",
    "client.parameters.timeout = timedelta(milliseconds=2000)  # タイムアウトは 2000 ms\n",
    "# client.token = \"xxxxxxxxxxxxxxxxxxxxxxxxxxxxxxxx\"  # ローカル環境等で使用する場合は、Fixstars Amplify AE のアクセストークンを入力してください。\n",
    "\n",
    "result = solve(model, client)\n",
    "if len(result) == 0:\n",
    "    # 実行可能解が見つかっていなければ例外を投げる\n",
    "    raise RuntimeError(\"No feasible solution was found.\")"
   ]
  },
  {
   "attachments": {},
   "cell_type": "markdown",
   "metadata": {},
   "source": [
    "続いて、得られた解を確認します。解における変数配列の値を取得するには、 `q.evaluate()` を用います。"
   ]
  },
  {
   "cell_type": "code",
   "execution_count": null,
   "metadata": {},
   "outputs": [],
   "source": [
    "q_values = q.evaluate(result.best.values)"
   ]
  },
  {
   "cell_type": "markdown",
   "metadata": {},
   "source": [
    "変数配列の各行にある `num_cars` 個の変数は、各利用者がどの車を使用するのかを表すものです。したがって、その行と、1 次元配列 `[0, 1,..., num_cars - 1]` との内積を取れば、その行に対応する利用者に割り当てられた車のインデックスを取得することができます。\n",
    "\n",
    "したがって、変数配列と 1 次元配列 `[0, 1,..., num_cars - 1]` との行列積は、利用者 0, 利用者 1, $\\ldots$, 利用者 $N-1$ にそれぞれ割り当てられた車のインデックスを表す長さ $N$ の一次元配列となります。"
   ]
  },
  {
   "cell_type": "code",
   "execution_count": null,
   "metadata": {},
   "outputs": [],
   "source": [
    "# 車インデックスのリスト (利用者インデックス順)\n",
    "car_indices = (q_values @ np.arange(num_cars)).astype(int)\n",
    "# (利用者インデックス, 車インデックス) のタプルのリスト\n",
    "car_assignment = list(enumerate(car_indices))\n",
    "\n",
    "for person_index, car_index in car_assignment:\n",
    "    print(f\"利用者 {person_index}: 車 {car_index}\")"
   ]
  },
  {
   "attachments": {},
   "cell_type": "markdown",
   "metadata": {},
   "source": [
    "最後に、以下の関数を用いて、変数配列の値から得られた割り当てを可視化します。車と利用者を、割り当てられた車ごとに異なる色で塗り分けます。"
   ]
  },
  {
   "cell_type": "code",
   "execution_count": null,
   "metadata": {},
   "outputs": [],
   "source": [
    "import branca.colormap as cm\n",
    "\n",
    "\n",
    "def plot_result(\n",
    "    car_assignment: list[tuple[int, int]],\n",
    "    people_coords: np.ndarray,\n",
    "    car_coords: np.ndarray,\n",
    "    latitude_range: tuple[float, float],  # 描画範囲 (緯度)\n",
    "    longitude_range: tuple[float, float],  # 描画範囲 (経度)\n",
    "):\n",
    "    # マップを用意\n",
    "    m = folium.Map(\n",
    "        [sum(latitude_range) / 2, sum(longitude_range) / 2],\n",
    "        tiles=\"OpenStreetMap\",\n",
    "        zoom_start=12,\n",
    "    )\n",
    "\n",
    "    # 色の用意\n",
    "    colormap = cm.linear.Set1_09.scale(0, len(car_coords)).to_step(len(car_coords))  # type: ignore\n",
    "\n",
    "    # 車のプロット (k 番目の車を色 k で塗る)\n",
    "    for car_index, (latitude, longitude) in enumerate(car_coords):\n",
    "        folium.Marker(\n",
    "            location=(latitude, longitude),\n",
    "            popup=f\"car {car_index}\",\n",
    "            icon=folium.Icon(\n",
    "                icon=\"car\", prefix=\"fa\", color=\"white\", icon_color=colormap(car_index)\n",
    "            ),\n",
    "        ).add_to(m)\n",
    "\n",
    "    # 利用者のプロット (車 k に乗る利用者を色 k で塗る)\n",
    "    for person_index, car_index in car_assignment:\n",
    "        latitude, longitude = people_coords[person_index]\n",
    "        folium.Marker(\n",
    "            location=(latitude, longitude),\n",
    "            popup=f\"car {car_index}\",\n",
    "            icon=folium.Icon(\n",
    "                icon=\"user\",\n",
    "                prefix=\"fa\",\n",
    "                color=\"white\",\n",
    "                icon_color=colormap(car_index),\n",
    "            ),\n",
    "        ).add_to(m)\n",
    "\n",
    "    return m"
   ]
  },
  {
   "cell_type": "code",
   "execution_count": null,
   "metadata": {},
   "outputs": [],
   "source": [
    "plot_result(car_assignment, people_coords, car_coords, latitude_range, longitude_range)"
   ]
  },
  {
   "attachments": {},
   "cell_type": "markdown",
   "metadata": {},
   "source": [
    "## 発展的な話題（問題の分割）\n",
    "\n",
    "上では比較的小さな問題を取り扱いました。使用する変数の数は高々数百でしたが、たとえば利用者と車が 100 人 (台) ずつある場合、10000 個のバイナリ変数が必要となり、Amplify AE で解いた場合、解を得るまでに大きな時間がかかったり、解の精度も悪くなることになります。そこで、クラスタリングにより、利用者と車をいくつかのクラスタに分割し、その後クラスタ内で先ほどの割り当て問題を解くという方針が考えられます。$K$ 個のクラスタに分割した場合、割り当て問題を解く際に使用する変数の数はおおよそ $K^2$ 分の 1 になることが見込まれます。\n",
    "\n",
    "ここでは、利用者と車のクラスタリングを Amplify を用いて行い、その後それぞれのクラスタに対して割り当て問題を解く方法を紹介します。\n",
    "\n",
    "### 問題設定\n",
    "\n",
    "先ほどと同様に、以下のようなデータが与えられているとします。ただし、車一台あたりの乗車可能人数 $C$ はクラスタリングでは使用しません。\n",
    "\n",
    "* $N$：ライドシェア利用者数\n",
    "* $M$：使用可能な車の台数\n",
    "* $C$：車一台あたりの乗車可能人数\n",
    "* $D$：利用者 $i$ と車 $k$ の間の距離を成分 $d_{ik}$ で表される距離行列\n",
    "\n",
    "これらのデータをもとに、まずクラスタリングを行い、その後それぞれのクラスタに対して割り当て問題の解を求めます。クラスタリングにおいては、各クラスタができるだけひとまとまりの位置に固まるように、利用者と車を均等に $K$ 個に分けることを目標とします。\n",
    "\n",
    "### 定式化\n",
    "\n",
    "クラスタリングの定式化方法について説明します。割り当て問題の定式化については既に説明した通りです。添え字に使っているアルファベットが割り当て問題のときと変わっているので注意してください。\n",
    "\n",
    "#### 変数\n",
    "\n",
    "クラスタ数 $K$ に対して、$N \\times K$ 個のバイナリ変数 $x$ と $M \\times K$ 個のバイナリ変数 $y$ を用意します。\n",
    "\n",
    "$x$ は各利用者がどのクラスタに所属するのかを表す変数であり、利用者 $i$ がクラスタ $k$ に所属するとき、$x_{i, k}$ が 1 となります。\n",
    "$y$ は各車がどのクラスタに所属するのかを表す変数であり、車 $j$ がクラスタ $k$ に所属するとき、$x_{i, k}$ が 1 となります。\n",
    "\n",
    "#### 制約\n",
    "\n",
    "各利用者および各車はいずれか 1 つのクラスタに所属する必要があるので、$x$ と $y$ の各行の和はすべて 1 である必要があります。\n",
    "\n",
    "$$\n",
    "\\begin{align*}\n",
    "\\sum_{k=0}^{K-1} x_{ik} &= 1 \\\\\n",
    "\\sum_{k=0}^{K-1} y_{jk} &= 1\n",
    "\\end{align*}\n",
    "$$\n",
    "\n",
    "各クラスタに所属する利用者と車の数がなるべく均等になるようにしたいので、以下の制約を課します。これは、$x$ の各列の和が N / K に等しく、$y$ の各列の和は M / K に等しいことを意味します。ただし、利用者数 $N$ と車の数 $M$ がクラスタ数 $K$ の倍数でない場合は均等に分けられないため、端数の処理が必要になります。今回の実装においては、$N$ と $M$ が $K$ の倍数であると仮定して、端数の処理は行わないことにします。\n",
    "\n",
    "$$\n",
    "\\begin{align*}\n",
    "\\sum_{i=0}^{N-1} x_{ik} &= \\frac{N}{K} \\\\\n",
    "\\sum_{i=0}^{M-1} y_{jk} &= \\frac{M}{K}\n",
    "\\end{align*}\n",
    "$$\n",
    "\n",
    "#### 目的関数\n",
    "\n",
    "次に、目的関数を考えます。各クラスタができるだけひとまとまりの位置に固まるという条件を表現したいです。「同じクラスタに所属する人と車のペア」それぞれの距離の総和を取ったものを最小化することにより、各クラスタに所属する人と車を近づけることができそうです。\n",
    "\n",
    "同じクラスタに所属する人と車の距離の総和は、距離行列 $D$ を用いて以下の式で表すことができます。$x_{i, k}y_{j, k}$ は利用者 $i$ と車 $j$ がともにクラスタ $k$ に所属する場合に 1、そうでない場合に 0 となるためです。\n",
    "\n",
    "$$\n",
    "\\sum_{i, j} D_{i, j} \\sum_k x_{i, k} y_{j, k}\n",
    "$$\n",
    "\n",
    "### 実装\n",
    "\n",
    "以上の定式化を元に、Amplifyを用いて実装していきます。まず、見栄えを良くするために、問題を少し大きく作り直しておきます。利用者の数 $N$ を 60 人、車の数 $M$ を 18 台とします。"
   ]
  },
  {
   "cell_type": "code",
   "execution_count": null,
   "metadata": {},
   "outputs": [],
   "source": [
    "num_people = 60\n",
    "num_cars = 18\n",
    "\n",
    "people_coords, car_coords, distances = generate_problem(\n",
    "    num_people, num_cars, latitude_range, longitude_range\n",
    ")\n",
    "\n",
    "plot_people_and_cars(people_coords, car_coords, latitude_range, longitude_range)"
   ]
  },
  {
   "cell_type": "markdown",
   "metadata": {},
   "source": [
    "クラスタリングの定式化を行います。クラスタリングの数 $K$ は 3 とします。\n"
   ]
  },
  {
   "cell_type": "code",
   "execution_count": null,
   "metadata": {},
   "outputs": [],
   "source": [
    "num_clusters = 3"
   ]
  },
  {
   "cell_type": "markdown",
   "metadata": {},
   "source": [
    "変数 $x$ と $y$ を定義します。それぞれ、各利用者および車がどのクラスタに所属するかを表す変数であり、サイズは (利用者あるいは車の数) × (クラスタの数) です。"
   ]
  },
  {
   "cell_type": "code",
   "execution_count": null,
   "metadata": {},
   "outputs": [],
   "source": [
    "gen = VariableGenerator()\n",
    "x = gen.array(\"Binary\", num_people, num_clusters)\n",
    "y = gen.array(\"Binary\", num_cars, num_clusters)"
   ]
  },
  {
   "attachments": {},
   "cell_type": "markdown",
   "metadata": {},
   "source": [
    "続いて目的関数を計算します。目的関数は同じクラスタに属する人と車の距離の総和を表し、\n",
    "\n",
    "$$\n",
    "\\sum_{i, j} D_{i, j} \\sum_k x_{i, k} y_{j, k}\n",
    "$$\n",
    "\n",
    "で表されます。これは、\n",
    "\n",
    "$$\n",
    "\\sum_{i, j, k} D_{i, j} x_{i, k} y_{j, k}\n",
    "$$\n",
    "\n",
    "と変形できるため、`einsum` 関数を用いて書くことができます。"
   ]
  },
  {
   "cell_type": "code",
   "execution_count": null,
   "metadata": {},
   "outputs": [],
   "source": [
    "from amplify import einsum, Poly\n",
    "\n",
    "objective: Poly = einsum(\"ij,ik,jk->\", distances, x, y)  # type: ignore"
   ]
  },
  {
   "attachments": {},
   "cell_type": "markdown",
   "metadata": {},
   "source": [
    "制約条件は以下の 4 種類です。最初の 2 つは $x$ と $y$ の各行についての one-hot 制約であり、残りの 2 つは $x$ と $y$ の各列についての等式制約となっています。\n",
    "\n",
    "$$\n",
    "\\begin{align*}\n",
    "\\sum_{k=0}^{K-1} x_{ik} &= 1 \\\\\n",
    "\\sum_{k=0}^{K-1} y_{jk} &= 1 \\\\\n",
    "\\sum_{i=0}^{N-1} x_{ik} &= \\frac{N}{K} \\\\\n",
    "\\sum_{i=0}^{M-1} y_{jk} &= \\frac{M}{K}\n",
    "\\end{align*}\n",
    "$$\n",
    "\n",
    "制約には十分な重みを与えておきます。"
   ]
  },
  {
   "cell_type": "code",
   "execution_count": null,
   "metadata": {},
   "outputs": [],
   "source": [
    "from amplify import one_hot, equal_to\n",
    "\n",
    "# x の各行に対する one-hot 制約\n",
    "people_row_constraints = one_hot(x, axis=1)\n",
    "\n",
    "# y の各行に対する one-hot 制約\n",
    "car_row_constraints = one_hot(y, axis=1)\n",
    "\n",
    "# x の各列の和が N/K に等しい\n",
    "people_col_constraints = equal_to(x, num_people // num_clusters, axis=0)\n",
    "\n",
    "# y の各列の和が M/K に等しい\n",
    "car_col_constraints = equal_to(y, num_cars // num_clusters, axis=0)\n",
    "\n",
    "constraints = (\n",
    "    np.max(distances)\n",
    "    * (num_people // num_clusters)\n",
    "    * (\n",
    "        people_row_constraints\n",
    "        + people_col_constraints\n",
    "        + car_row_constraints\n",
    "        + car_col_constraints\n",
    "    )\n",
    ")"
   ]
  },
  {
   "attachments": {},
   "cell_type": "markdown",
   "metadata": {},
   "source": [
    "目的関数と制約条件を合わせて、組合せ最適化モデルを作成します。"
   ]
  },
  {
   "cell_type": "code",
   "execution_count": null,
   "metadata": {},
   "outputs": [],
   "source": [
    "clustering_model = Model(objective, constraints)"
   ]
  },
  {
   "attachments": {},
   "cell_type": "markdown",
   "metadata": {},
   "source": [
    "### イジングマシンの実行\n",
    "\n",
    "これまでと同様に、Amplify AE を実行して求解を行います。"
   ]
  },
  {
   "cell_type": "code",
   "execution_count": null,
   "metadata": {},
   "outputs": [],
   "source": [
    "client = FixstarsClient()\n",
    "# client.token = \"xxxxxxxxxxxxxxxxxxxxxxxxxxxxxxxx\"\n",
    "client.parameters.timeout = timedelta(milliseconds=1000)  # タイムアウト 1 秒\n",
    "\n",
    "result = solve(clustering_model, client)\n",
    "\n",
    "if len(result) == 0:\n",
    "    # 実行可能解が見つからなければ例外を投げる\n",
    "    raise RuntimeError(\"No feasible solution was found.\")"
   ]
  },
  {
   "cell_type": "markdown",
   "metadata": {},
   "source": [
    "各利用者 / 車がどのクラスターに振り分けられたかは、以下のようにして取得できます。"
   ]
  },
  {
   "cell_type": "code",
   "execution_count": null,
   "metadata": {},
   "outputs": [],
   "source": [
    "x_values = x.evaluate(result.best.values)\n",
    "y_values = y.evaluate(result.best.values)\n",
    "\n",
    "people_cluster_indices = (x_values @ np.arange(num_clusters)).astype(int)\n",
    "car_cluster_indices = (y_values @ np.arange(num_clusters)).astype(int)\n",
    "\n",
    "for person_index, cluster_index in enumerate(people_cluster_indices[:5]):\n",
    "    # 長いので最初の 5 個だけ表示\n",
    "    print(f\"利用者{person_index}: クラスター{cluster_index}\")\n",
    "\n",
    "for person_index, cluster_index in enumerate(people_cluster_indices[:5]):\n",
    "    # 長いので最初の 5 個だけ表示\n",
    "    print(f\"車{person_index}: クラスター{cluster_index}\")"
   ]
  },
  {
   "cell_type": "markdown",
   "metadata": {},
   "source": [
    "結果を可視化します。利用者と車をクラスターごとに異なる色で塗り分けます。"
   ]
  },
  {
   "cell_type": "code",
   "execution_count": null,
   "metadata": {},
   "outputs": [],
   "source": [
    "def plot_clusters(\n",
    "    people_coords,\n",
    "    car_coords,\n",
    "    people_cluster_indices,\n",
    "    car_cluster_indices,\n",
    "    latitude_range,\n",
    "    longitude_range,\n",
    "):\n",
    "    m = folium.Map(\n",
    "        [sum(latitude_range) / 2, sum(longitude_range) / 2],\n",
    "        tiles=\"OpenStreetMap\",\n",
    "        zoom_start=12,\n",
    "    )\n",
    "\n",
    "    colors = [\"red\", \"blue\", \"lightgray\"]\n",
    "    assert len(colors) == num_clusters\n",
    "\n",
    "    for person_index, cluster_index in enumerate(people_cluster_indices):\n",
    "        latitude, longitude = people_coords[person_index]\n",
    "        folium.Marker(\n",
    "            location=(latitude, longitude),\n",
    "            popup=f\"cluster{cluster_index}\",\n",
    "            icon=folium.Icon(icon=\"user\", prefix=\"fa\", color=colors[cluster_index]),\n",
    "        ).add_to(m)\n",
    "\n",
    "    for car_index, cluster_index in enumerate(car_cluster_indices):\n",
    "        latitude, longitude = car_coords[car_index]\n",
    "        folium.Marker(\n",
    "            location=(latitude, longitude),\n",
    "            popup=f\"cluster{cluster_index}\",\n",
    "            icon=folium.Icon(icon=\"car\", prefix=\"fa\", color=colors[cluster_index]),\n",
    "        ).add_to(m)\n",
    "\n",
    "    return m\n",
    "\n",
    "\n",
    "plot_clusters(\n",
    "    people_coords,\n",
    "    car_coords,\n",
    "    people_cluster_indices,\n",
    "    car_cluster_indices,\n",
    "    latitude_range,\n",
    "    longitude_range,\n",
    ")"
   ]
  },
  {
   "cell_type": "markdown",
   "metadata": {},
   "source": [
    "これで、利用者と車を均等に 3 つのクラスターに分けることができました。続いて、これらのクラスターごとに、利用者に最適に車を割り当てる方法を求めます。\n",
    "\n",
    "まず、利用者と車のインデックスと距離行列をクラスターごとに分割します。"
   ]
  },
  {
   "cell_type": "code",
   "execution_count": null,
   "metadata": {},
   "outputs": [],
   "source": [
    "# 各クラスターに所属する利用者のインデックスのリストを作成\n",
    "clustered_people_indices = [[] for k in range(num_clusters)]\n",
    "for person_index, cluster_index in enumerate(people_cluster_indices):\n",
    "    clustered_people_indices[cluster_index].append(person_index)\n",
    "\n",
    "# 各クラスターに所属する車のインデックスのリストを作成\n",
    "clustered_car_indices = [[] for k in range(num_clusters)]\n",
    "for car_index, cluster_index in enumerate(car_cluster_indices):\n",
    "    clustered_car_indices[cluster_index].append(car_index)\n",
    "\n",
    "# 距離行列を分割\n",
    "clustered_distances = [\n",
    "    distances[clustered_people_indices[k]][:, clustered_car_indices[k]]\n",
    "    for k in range(num_clusters)\n",
    "]"
   ]
  },
  {
   "cell_type": "markdown",
   "metadata": {},
   "source": [
    "クラスター 0 に所属する利用者のインデックスは `clustered_people_indices[0]` で取得でき、クラスター 0 に所属する利用者のうち $i$ 番目の利用者とクラスター 0 に所属する車のうち $j$ 番目の車との距離は `clustered_distances[0][i, j]` により取得できます。これらを用いて、分割問題の求解を行います。手順はこのサンプルコードの前半で解説したのと同じです。\n",
    "\n",
    "以下の関数は、距離行列を受け取って割り当て問題の求解を行い、利用者のインデックスと車のインデックスのタプルからなるリストを返します。ただし、利用者と車のインデックスは、各クラスター内におけるインデックスであり、利用者や車全体におけるインデックスとは異なることに注意してください。"
   ]
  },
  {
   "cell_type": "code",
   "execution_count": null,
   "metadata": {},
   "outputs": [],
   "source": [
    "def assign_cars(distances):\n",
    "    num_people = distances.shape[0]\n",
    "    num_cars = distances.shape[1]\n",
    "\n",
    "    # 問題の正規化\n",
    "    average = distances.mean()\n",
    "    std = distances.std()\n",
    "    distances = (distances - average) / std\n",
    "\n",
    "    #  変数配列の作成\n",
    "    gen = VariableGenerator()\n",
    "    q = gen.array(\"Binary\", num_people, num_cars)\n",
    "\n",
    "    # 目的関数の構築\n",
    "    alpha = 1.0  # 目的関数の重みパラメータ\n",
    "    distance_objective = (distances * q).sum()  # 目的関数第一項\n",
    "    occupancies = q.sum(axis=0) / car_capacity  # 乗車率\n",
    "    occupancy_objective = (occupancies**2).sum()  # 目的関数第二項\n",
    "    objective = distance_objective - alpha * occupancy_objective\n",
    "\n",
    "    # 制約条件の構築\n",
    "    one_person_one_car_constraints = one_hot(q, axis=1)\n",
    "    car_capacity_constraints = less_equal(q, car_capacity, axis=0)\n",
    "    # 制約重みを設定\n",
    "    one_person_one_car_constraints *= np.max(distances) + alpha * 1\n",
    "    car_capacity_constraints *= np.max(distances) + alpha * 2 / car_capacity\n",
    "\n",
    "    # モデルの構築\n",
    "    model = objective + one_person_one_car_constraints + car_capacity_constraints\n",
    "\n",
    "    # ソルバークライアントの設定\n",
    "    client = FixstarsClient()\n",
    "    client.parameters.timeout = timedelta(milliseconds=2000)  # タイムアウトは 2000 ms\n",
    "    # client.token = \"xxxxxxxxxxxxxxxxxxxxxxxxxxxxxxxx\"  # ローカル環境等で使用する場合は、Fixstars Amplify AE のアクセストークンを入力してください。\n",
    "\n",
    "    # 求解\n",
    "    result = solve(model, client)\n",
    "    q_values = q.evaluate(result.best.values)\n",
    "    car_indices = (q_values @ np.arange(num_cars)).astype(int)\n",
    "\n",
    "    # (利用者のインデックス, 車のインデックス) からなるリストを返却\n",
    "    return list(enumerate(car_indices))"
   ]
  },
  {
   "cell_type": "markdown",
   "metadata": {},
   "source": [
    "上記で定義した関数を用いて、クラスターごとに割り当て問題の求解を実行します。"
   ]
  },
  {
   "cell_type": "code",
   "execution_count": null,
   "metadata": {},
   "outputs": [],
   "source": [
    "index_pairs_list = []\n",
    "\n",
    "for d in clustered_distances:\n",
    "    index_pairs_list.append(assign_cars(d))\n",
    "\n",
    "for k, index_pairs in enumerate(index_pairs_list):\n",
    "    print(f\"クラスター {k}: \")\n",
    "    for person_index, car_index in index_pairs:\n",
    "        print(f\"  利用者{person_index}: 車{car_index}\")"
   ]
  },
  {
   "cell_type": "markdown",
   "metadata": {},
   "source": [
    "求解を行って得られた `index_pairs_list` は利用者のインデックスと車のインデックスを対応させるものですが、このインデックスは各クラスター内でのインデックスとなっています。`clustered_people_indices` と `clustered_car_indices` を用いて、全体でのインデックスに復元します。"
   ]
  },
  {
   "cell_type": "code",
   "execution_count": null,
   "metadata": {},
   "outputs": [],
   "source": [
    "car_assignment = [\n",
    "    (clustered_people_indices[k][person_index], clustered_car_indices[k][car_index])\n",
    "    for k, index_pairs in enumerate(index_pairs_list)\n",
    "    for person_index, car_index in index_pairs\n",
    "]\n",
    "\n",
    "for person_index, car_index in car_assignment:\n",
    "    print(f\"利用者{person_index}: 車{car_index}\")"
   ]
  },
  {
   "cell_type": "markdown",
   "metadata": {},
   "source": [
    "最後に、結果を可視化します。"
   ]
  },
  {
   "cell_type": "code",
   "execution_count": null,
   "metadata": {},
   "outputs": [],
   "source": [
    "plot_result(car_assignment, people_coords, car_coords, latitude_range, longitude_range)"
   ]
  }
 ],
 "metadata": {
  "language_info": {
   "name": "python",
   "pygments_lexer": "ipython3"
  }
 },
 "nbformat": 4,
 "nbformat_minor": 4
}
