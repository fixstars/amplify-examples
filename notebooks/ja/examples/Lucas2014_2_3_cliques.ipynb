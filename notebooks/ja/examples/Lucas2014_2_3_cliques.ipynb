{
 "cells": [
  {
   "cell_type": "markdown",
   "id": "e5cd26f9",
   "metadata": {},
   "source": [
    "# A. Lucas, Front. Phys. (2014) 掲載例題の実装と解説 ー 最大クリーク問題\n",
    "\n",
    "本サンプルコードでは、論文 [A. Lucas, Front. Phys. (2014)](https://www.frontiersin.org/articles/10.3389/fphy.2014.00005/full) で紹介されている『最大クリーク問題』に Fixstars Amplify を用いて取り組みます。同論文に紹介されている他の NP 完全・NP 困難な問題も以下で解説しています（カッコ内は論文内で問題に対応する節番号）。\n",
    "\n",
    "- [グラフの分割問題](https://amplify.fixstars.com/ja/demo/Lucas2014_2_2_graph_partitioning)（2.2節）\n",
    "- 最大クリーク問題（2.3節）\n",
    "- [厳密被覆問題](https://amplify.fixstars.com/ja/demo/Lucas2014_4_1_exact_cover)（4.1節）\n",
    "- [集合パッキング問題](https://amplify.fixstars.com/ja/demo/Lucas2014_4_2_set_packing)（4.2節）\n",
    "- [頂点被覆問題](https://amplify.fixstars.com/ja/demo/Lucas2014_4_3_vertex_cover)（4.3節）\n",
    "- [充足可能性問題（SAT）](https://amplify.fixstars.com/ja/demo/Lucas2014_4_4_satisfiability)（4.4節）\n",
    "- [最小極大マッチング問題](https://amplify.fixstars.com/ja/demo/Lucas2014_4_5_minimal_maximal_matching)（4.5節）\n",
    "- [グラフ彩色問題](https://amplify.fixstars.com/ja/demo/Lucas2014_6_1_graph_coloring)（6.1節）\n",
    "- [クリーク被覆問題](https://amplify.fixstars.com/ja/demo/Lucas2014_6_2_clique_cover)（6.2節）\n",
    "- [整数長ジョブスケジューリング問題](https://amplify.fixstars.com/ja/demo/Lucas2014_6_3_job_sequencing_with_integer_lengths)（6.3節）\n",
    "- [ハミルトン閉路問題](https://amplify.fixstars.com/ja/demo/Lucas2014_7_1_hamiltonian_cycles_and_paths)（7.1節）\n",
    "- [有向帰還頂点集合問題](https://amplify.fixstars.com/ja/demo/Lucas2014_8_3_directed_feedback_vertex_set)（8.3節）\n",
    "- [最小帰還辺集合問題](https://amplify.fixstars.com/ja/demo/Lucas2014_8_5_feedback_edge_set)（8.5節）\n",
    "- [グラフ同型性判定問題](https://amplify.fixstars.com/ja/demo/Lucas2014_9_graph_isomorphisms)（9節）\n"
   ]
  },
  {
   "cell_type": "markdown",
   "id": "44dda3e7",
   "metadata": {},
   "source": [
    "## 最大クリーク問題とは\n",
    "\n",
    "グラフ $G$ に対して、$G$ の頂点の部分集合であって、それに含まれるどの $2$ 頂点も辺で結ばれているもの (クリークといいます) のうち、要素数が最も大きいものを求める問題を **最大クリーク問題** といいます。\n",
    "\n",
    "たとえば、以下のグラフのオレンジ色の頂点同士はすべて辺で結ばれているので、オレンジ色の 4 頂点はクリークをなします。\n",
    "また、次数（頂点から出ている辺の数）が 4 以上の頂点が 3 つしかないことから、 5 点からなるクリークが存在しないことも分かります。\n",
    "\n",
    "![グラフ](../figures/Lucas2014/clique0.png)\n",
    "\n",
    "最大クリーク問題のより詳細な解説は[こちら](https://amplify.fixstars.com/ja/techresources/research/ising-model-formulation/clique-judgment/)をご覧ください。\n",
    "\n",
    "本サンプルプログラムでは、Fixstars Amplify を用いて最大クリークを探索するプログラムを作成します。定式化は [A. Lucas, Front. Phys. (2014)](https://www.frontiersin.org/articles/10.3389/fphy.2014.00005/full) の 2.3 節のものに沿って行います。"
   ]
  },
  {
   "cell_type": "markdown",
   "id": "02e03ed2",
   "metadata": {},
   "source": [
    "## 問題の作成\n",
    "\n",
    "最大クリーク問題を解くための準備として、NetworkX を用いて適当なグラフ $G$ を作成します。"
   ]
  },
  {
   "cell_type": "code",
   "execution_count": null,
   "id": "8c58b9c6",
   "metadata": {},
   "outputs": [],
   "source": [
    "from matplotlib import pyplot as plt\n",
    "import networkx as nx\n",
    "import numpy as np\n",
    "\n",
    "N = 7  # グラフの頂点数\n",
    "G = nx.Graph()\n",
    "G.add_nodes_from(range(N))\n",
    "# 2つの頂点をつなぐ辺を定義\n",
    "elist = [\n",
    "    (0, 1),\n",
    "    (0, 6),\n",
    "    (1, 2),\n",
    "    (1, 3),\n",
    "    (1, 4),\n",
    "    (1, 6),\n",
    "    (2, 3),\n",
    "    (3, 4),\n",
    "    (3, 5),\n",
    "    (3, 6),\n",
    "    (4, 6),\n",
    "    (5, 6),\n",
    "]\n",
    "G.add_edges_from(elist)\n",
    "\n",
    "pos = nx.circular_layout(G)\n",
    "\n",
    "nx.draw_networkx(G, node_size=600, font_color=\"w\", pos=pos)"
   ]
  },
  {
   "cell_type": "markdown",
   "id": "a533b3a8",
   "metadata": {},
   "source": [
    "作成したグラフは、最初に例として挙げたグラフと同じものなので、前述の通りクリークの最大の要素数は 4 となります。"
   ]
  },
  {
   "cell_type": "markdown",
   "id": "96b0bcd4",
   "metadata": {},
   "source": [
    "## 定式化\n",
    "\n",
    "以下、$G$ の頂点の数を $N$ とします。\n",
    "\n",
    "### 決定変数\n",
    "\n",
    "グラフ $G$ の頂点数に等しい $N$ 個のバイナリ変数 $q$ をそれぞれの頂点に対応させて、クリークに含まれるかどうかを表すことにします。頂点 $i$ がクリークに含まれるならば $q_i$ は $1$ で、含まれないならば $0$ です。\n",
    "\n",
    "たとえば、以下の図のように頂点 1、頂点 3、頂点 4、頂点 6 からなるクリークは、下の表のように表されます。\n",
    "\n",
    "![図](../figures/Lucas2014/clique1.png)\n",
    "\n",
    "| 頂点インデックス | 0   | 1   | 2   | 3   | 4   | 5   | 6   |\n",
    "| ----- | --- | --- | --- | --- | --- | --- | --- |\n",
    "| $q$     | 0   | 1   | 0   | 1   | 1   | 0   | 1   |\n",
    "\n",
    "### 目的関数\n",
    "\n",
    "クリークのサイズができるだけ大きければよいので、目的関数は\n",
    "\n",
    "$$\n",
    "-\\sum_{i = 0}^{N - 1} q_i\n",
    "$$\n",
    "\n",
    "となります。マイナスがついているのは、最大化問題を最小化問題にするためです。\n",
    "\n",
    "### 制約条件\n",
    "\n",
    "バイナリ変数 $q$ がクリークに対応するためには、「クリークに含まれる各頂点はすべて辺で結ばれている」という制約を課す必要があります。この対偶をとると「頂点 $u$, $v$ が辺で結ばれていないとき、$u$ と $v$ の少なくともどちらかはクリークに含まれない」という条件に言い換えられます。この条件は\n",
    "\n",
    "$$\n",
    "q_uq_v = 0 \\quad\\text{for}\\quad (u, v) \\notin E\n",
    "$$\n",
    "\n",
    "で表すことができます。ここで、$E$ は $G$ の辺集合です。"
   ]
  },
  {
   "cell_type": "markdown",
   "id": "b2262913",
   "metadata": {},
   "source": [
    "## 実装\n",
    "\n",
    "上で作成した問題と定式化を使って、実際に問題を解いてみましょう。まず、Fixstars Amplify SDK の `BinarySymbolGenerator` を使ってバイナリ変数 $q$ を作成します。"
   ]
  },
  {
   "cell_type": "code",
   "execution_count": null,
   "id": "bf16cf91",
   "metadata": {},
   "outputs": [],
   "source": [
    "from amplify import BinarySymbolGenerator\n",
    "\n",
    "gen = BinarySymbolGenerator()\n",
    "q = gen.array(N)"
   ]
  },
  {
   "cell_type": "markdown",
   "id": "b637f2c6",
   "metadata": {},
   "source": [
    "目的関数を作成します。先に紹介した通り、目的関数はクリークに含まれる頂点の数の $-1$ 倍と等しく、$-\\sum_{i=0}^{N-1}q_i$ で表されます。"
   ]
  },
  {
   "cell_type": "code",
   "execution_count": null,
   "id": "c495fc17",
   "metadata": {},
   "outputs": [],
   "source": [
    "cost = -q.sum()"
   ]
  },
  {
   "cell_type": "markdown",
   "id": "b15dbde3",
   "metadata": {},
   "source": [
    "次に、制約条件を作成します。前述の通り、制約条件は、クリークに含まれる頂点はすべて辺で結ばれているという条件と等価であり、その対偶 $q_uq_v = 0 \\ \\left( (u, v) \\notin E\\right)$ で表すことができます。\n"
   ]
  },
  {
   "cell_type": "code",
   "execution_count": null,
   "id": "933a3dc9",
   "metadata": {},
   "outputs": [],
   "source": [
    "from amplify.constraint import equal_to\n",
    "\n",
    "constraints = [equal_to(q[u] * q[v], 0) for u, v in nx.non_edges(G)]"
   ]
  },
  {
   "cell_type": "markdown",
   "id": "dd57dc95",
   "metadata": {},
   "source": [
    "目的関数と制約条件をまとめて論理模型に変換します。"
   ]
  },
  {
   "cell_type": "code",
   "execution_count": null,
   "id": "7a622ce9",
   "metadata": {},
   "outputs": [],
   "source": [
    "model = cost + sum(constraints)"
   ]
  },
  {
   "cell_type": "markdown",
   "id": "4e803d21",
   "metadata": {},
   "source": [
    "クライアントを設定して、Fixstars Amplify Annealing Engine (AE) で実行します。`result` が空でなければ、制約条件をみたす解が見つかったと分かります。"
   ]
  },
  {
   "cell_type": "code",
   "execution_count": null,
   "id": "9119d352",
   "metadata": {},
   "outputs": [],
   "source": [
    "from amplify.client import FixstarsClient\n",
    "from amplify import Solver\n",
    "\n",
    "client = FixstarsClient()\n",
    "# client.token = \"xxxxxxxxxxxxxxxxxxxxxxxxxxxxxxxx\"  # ローカル環境等で使用する場合は、Fixstars Amplify AE のアクセストークンを入力してください。\n",
    "client.parameters.timeout = 1000\n",
    "\n",
    "# ソルバーを定義して実行\n",
    "solver = Solver(client)\n",
    "result = solver.solve(model)\n",
    "\n",
    "if len(result) == 0:\n",
    "    print(\"解が見つかりませんでした\")\n",
    "else:\n",
    "    print(\"解が見つかりました\")"
   ]
  },
  {
   "cell_type": "markdown",
   "id": "452c5365",
   "metadata": {},
   "source": [
    "最後に、結果を可視化します。上記で示したグラフと同様な問題設定ですので、得られる最大クリークも同じものが求解されています。余裕があれば、グラフの形状や辺の数を変更して、最大クリークが求まるか試してみましょう。"
   ]
  },
  {
   "cell_type": "code",
   "execution_count": null,
   "id": "5cb10c8e",
   "metadata": {},
   "outputs": [],
   "source": [
    "values = q.decode(result[0].values)\n",
    "colors = [\"C1\" if value == 1 else \"C0\" for value in values]\n",
    "nx.draw_networkx(G, node_size=600, node_color=colors, font_color=\"w\", pos=pos)"
   ]
  },
  {
   "cell_type": "markdown",
   "id": "af28ea65",
   "metadata": {},
   "source": [
    "## 参考文献\n",
    "\n",
    "[\\[1\\] A. Lucas, “Ising formulations of many NP problems” (open access)](https://www.frontiersin.org/articles/10.3389/fphy.2014.00005/full#h3)\n"
   ]
  }
 ],
 "metadata": {
  "language_info": {
   "name": "python",
   "pygments_lexer": "ipython3"
  }
 },
 "nbformat": 4,
 "nbformat_minor": 5
}
