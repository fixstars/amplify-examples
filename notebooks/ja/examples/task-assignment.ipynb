{
 "cells": [
  {
   "attachments": {},
   "cell_type": "markdown",
   "metadata": {},
   "source": [
    "# 飲食店の従業員割り当て問題\n",
    "\n",
    "多くの従業員を擁する小売業やサービス業では、各従業員の役職やスキル、希望勤務地と、日々変動する多種多様な業務を考慮して、各店舗に適切に従業員を割り当てる必要があります。\n",
    "\n",
    "ここでは、飲食チェーン店を例として、従業員を店舗に割り当てる組合せ最適化問題に取り組みます。特に、役職やスキルの種類やレベル、役割や希望勤務地に応じた適切な割り当てを行い、各店舗における業務の効率化と店舗間・従業員間の業務量の平準化を目指します。\n",
    "\n",
    "例えば、従業員は次のような属性を持つ場合があります。\n",
    "\n",
    "**役職**\n",
    "- 店長\n",
    "- 副店長\n",
    "- 役職なし\n",
    "\n",
    "**役割**\n",
    "- 調理担当\n",
    "- ホール担当\n",
    "\n",
    "**スキル量**\n",
    "- 調理スキル（複数）  \n",
    "  例：[ステップ3](#step3) で取り扱うすしチェーン店の場合\n",
    "  - 捌き\n",
    "  - 握り\n",
    "  - 汁物\n",
    "  - 一品\n",
    "\n",
    "**勤務先店舗の希望度**\n",
    "- 勤務不可\n",
    "- 勤務可能\n",
    "- 勤務希望\n",
    "\n",
    "また、各店舗には下記の要求（制約条件）が課せられているとします。\n",
    "\n",
    "- **各店舗の要求**\n",
    "  - 役職、役割ごとの必要人数\n",
    "  - 必要な調理スキルの種類やそのレベル\n",
    "\n",
    "以上を考慮した上で、各店舗、各役割に対する要求従業員数の充足率の最大化と分散の最小化を設定し、さらに、従業員割り当ての効率化と店舗間の偏りの平準化を狙います。\n",
    "\n",
    "一度に全ての条件を考慮するのは複雑なので、次のステップごとに、少しずつ条件を増やしながら定式化を行います。\n",
    "\n",
    "- [**ステップ1**](#step1)  \n",
    "  役職や役割、スキル量を考慮せずに、各従業員の勤務先店舗の希望度及び各店舗の要求従業員数のみを考慮して、割り当てを実施します。  \n",
    "  - [1.1\\. 定式化](#1-formulation) → [1.2\\. データ作成](#1-data) → [1.3\\. Amplify による実装](#1-implementation) → [1.4\\. 求解](#1-solve)  \n",
    "- [**ステップ2**](#step2)  \n",
    "  ステップ1 の設定条件に加え、各店舗の役職毎の要求人数を満たすような従業員割り当てを実施します。  \n",
    "  - [2.1\\. 定式化](#2-formulation) → [2.2\\. データ作成](#2-data) → [2.3\\. Amplify による実装](#2-implementation) → [2.4\\. 求解](#2-solve)  \n",
    "- <a href=\"#step3\">**ステップ3**</a>  \n",
    "  ステップ2 の設定条件に加え、各従業員の役割及びスキル量、各店舗の各調理スキル要求を満たすように割り当てを実施します。  \n",
    "  - [3.1\\. 定式化](#3-formulation) → [3.2\\. データ作成](#3-data) → [3.3\\. Amplify による実装](#3-implementation) → [3.4\\. 求解](#3-solve)  \n",
    "\n",
    "それでは上記のステップに沿って、定式化及び実装を行います。"
   ]
  },
  {
   "attachments": {},
   "cell_type": "markdown",
   "metadata": {},
   "source": [
    "<a id=\"step1\"></a>\n",
    "## **ステップ1**\n",
    "\n",
    "ここでは、各従業員の勤務先店舗の希望度及び各店舗の要求従業員数のみを考慮して、各店舗へ従業員を割り当てます。\n",
    "\n",
    "各店舗には必要な従業員の人数が設定されており、一方で各従業員は、各店舗ごとに勤務希望度を持っているとします。希望度は次のように0～2の整数で表現され、勤務不可・勤務可能・勤務希望と対応します。\n",
    "\n",
    "- 勤務不可 → 希望度：0\n",
    "- 勤務可能 → 希望度：1\n",
    "- 勤務希望 → 希望度：2\n",
    "\n",
    "そこで、店舗の要求人数満たしつつ、従業員の希望度に沿った店舗への割当を考えます。"
   ]
  },
  {
   "attachments": {},
   "cell_type": "markdown",
   "metadata": {},
   "source": [
    "\n",
    "<a id=\"1-formulation\"></a>\n",
    "### **1.1\\. 定式化**\n",
    "\n",
    "定式化で用いる集合、定数及び決定変数を定義します。\n",
    "\n",
    "#### **集合**\n",
    "\n",
    "- $W$：従業員集合 (記号 $i \\in W$ を用いて従業員を表す)\n",
    "- $S$：店舗集合 (記号 $l \\in S$ を用いて店舗を表す)\n",
    "\n",
    "#### **定数**\n",
    "\n",
    "- $r_{l}$：店舗 $l$ の要求従業員数（$l \\in S$）\n",
    "- $c_{i,l}$：従業員 $i$ が店舗 $l$ で勤務する場合の希望度（$i \\in W$ 及び $l \\in S$）\n",
    "\n",
    "#### **決定変数**\n",
    "\n",
    "- $L_{i,l}\\in \\{0,1\\}$：従業員 $i$ を店舗  $l$ に割当てる場合に `1` となり割り当てない場合に `0` となる（$i\\in W$ 及び $l\\in S$）\n",
    "\n",
    "従業員に対してどの店舗に割り当てるのかを最適化します。したがって、決定変数 $L$ は従業員数×店舗数のサイズを有するバイナリ変数として宣言します。 \n",
    "\n",
    "例えば、従業員数が5名で、店舗として「博多店」と「天神店」がある場合、2 x 5 の10バイナリ変数の集合で表現されます。\n",
    "\n",
    "| 従業員 $i$ | 博多店 ($l=0$) | 天神店 ($l=1$) |\n",
    "| :--------: | ------------ | ------------ |\n",
    "|    $0$     |   $L_{0,0}$    |   $L_{0,1}$    |\n",
    "|    $1$     |   $L_{1,0}$    |   $L_{1,1}$    |\n",
    "|    $2$     |   $L_{2,0}$    |   $L_{2,1}$    |\n",
    "|    $3$     |   $L_{3,0}$    |   $L_{3,1}$    |\n",
    "|    $4$     |   $L_{4,0}$    |   $L_{4,1}$    |"
   ]
  },
  {
   "attachments": {},
   "cell_type": "markdown",
   "metadata": {},
   "source": [
    "\n",
    "#### **目的関数**\n",
    "\n",
    "割り当ての際に、各店舗が要求する従業員数に対して、割り当てた従業員の充足率を考慮することは重要です。店舗 $l$ の充足率 $w_l$ とは、『店舗 $l$ の要求する従業員数 $r_l$』に対して『店舗 $l$ に割り当てられた従業員数』の比であり、次のように定義できます。\n",
    "\n",
    "$$\n",
    "w_l = \\frac{1}{r_l} \\displaystyle\\sum_{i\\in W} L_{i,l}\n",
    "$$\n",
    "\n",
    "つまり、充足率が1以上であれば、要求は満たされており、1未満であれば要求が満たされていない、ということになります。\n",
    "\n",
    "一般的に、店舗間で従業員数の充足率に偏りが起こることは望ましくありません。そこで次の3つを考慮します。以下で $\\langle \\cdot \\rangle$ は平均操作を示します。\n",
    "\n",
    "- **充足率 $w_l$ 平均の最大化**  \n",
    "  $$\n",
    "  \\begin{matrix}\n",
    "      {\\rm maximize} & \\langle w_l \\rangle\n",
    "  \\end{matrix}\n",
    "  $$\n",
    "\n",
    "- **充足率 $w_l$ 分散の最小化**  \n",
    "  $$\n",
    "  \\begin{matrix}\n",
    "      {\\rm minimize} & \\langle w_l^2 \\rangle - \\langle w_l \\rangle^2\n",
    "  \\end{matrix}\n",
    "  $$\n",
    "\n",
    "- **割当先店舗 $l$ に対する全従業員の勤務希望度 $c_{i,l}$ の最大化**  \n",
    "\n",
    "  $$\n",
    "  \\begin{matrix}\n",
    "      {\\rm maximize}& \\displaystyle \\sum_{i\\in W}\\sum_{l\\in S}c_{i,l}L_{i,l}\n",
    "  \\end{matrix}\n",
    "  $$\n",
    "\n",
    "  ここで、割り当てられていない（$L_{i,l}=0$）店舗に対する従業員 $i$ の勤務希望度は、$c_{i,l}L_{i,l}=0$ のため、自然と総和に影響しないことに注意してください。"
   ]
  },
  {
   "attachments": {},
   "cell_type": "markdown",
   "metadata": {},
   "source": [
    "#### **制約条件**\n",
    "\n",
    "\n",
    "先ほどの決定変数の定義では、ある従業員が同時に複数の店舗に割り当てられる状況が発生し得ます。このような割り当てを回避するために、同じ従業員の複数店舗への割り当てを禁止する、次のような制約を与えます。\n",
    "\n",
    "- **従業員 $i$ は同時に1店舗にのみ割り当てられる**  \n",
    "  $$\n",
    "  \\sum_{l \\in S}L_{i,l} = 1 \\:\\: (\\forall i\\in W)\n",
    "  $$\n",
    "\n",
    "\n",
    "また、店舗毎に要求従業員数 $r_l$ が設定されており、各店舗に割り当てられる従業員の総数はこれ以上でなければいけないため、さらに次の制約を与えます。\n",
    "\n",
    "- **各店舗 $l$ には、その店舗の要求従業員数 $r_l$ 以上の従業員を割り当てる**\n",
    "\n",
    "  $$\n",
    "  \\sum_{i\\in W}L_{i,l} \\geq r_{l} \\:\\: (\\forall l \\in S)\n",
    "  $$"
   ]
  },
  {
   "attachments": {},
   "cell_type": "markdown",
   "metadata": {},
   "source": [
    "<a id=\"1-data\"></a>\n",
    "### **1.2\\. データ作成**\n",
    "\n",
    "それでは、実際に割り当て問題を実行するための条件設定を行います。例として、従業員数5名、店舗数2のデータを次のように作成します。  \n",
    "\n",
    "データの格納には `pandas.DataFrame` を使用します。"
   ]
  },
  {
   "cell_type": "code",
   "execution_count": null,
   "metadata": {},
   "outputs": [],
   "source": [
    "import pandas as pd\n",
    "\n",
    "# 各店舗の名前と要求人数情報の設定\n",
    "dict_req = {\"location\": [\"tenjin\", \"hakata\"], \"num_employees\": [2, 3]}\n",
    "\n",
    "# 各従業員の勤務先希望情報の設定\n",
    "dict_worker_loc = {\n",
    "    \"worker_id\": [0, 1, 2, 3, 4],  # 従業員の ID\n",
    "    \"tenjin\": [2, 2, 1, 0, 1],  # 各従業員の tenjin 店舗で働きたい希望度\n",
    "    \"hakata\": [1, 1, 1, 1, 0],  # 各従業員の hakata 店舗で働きたい希望度\n",
    "}\n",
    "\n",
    "df_req = pd.DataFrame.from_dict(dict_req, orient=\"index\").T\n",
    "print(\"各店舗の要求従業員数\")\n",
    "display(df_req)\n",
    "df_worker_loc = pd.DataFrame.from_dict(dict_worker_loc, orient=\"index\").T\n",
    "print(\"\\n各従業員の勤務希望度\")\n",
    "display(df_worker_loc)\n",
    "\n",
    "workers = df_worker_loc[\"worker_id\"].values\n",
    "locations = df_req[\"location\"].values\n",
    "\n",
    "# 各データのサイズを取得\n",
    "num_workers = len(workers)\n",
    "num_locations = len(locations)\n",
    "\n",
    "# 店舗名とそのインデックスをそれぞれkeyとvalueとする辞書の作成\n",
    "loc2idx = dict((v, i) for i, v in enumerate(df_req[\"location\"].values))\n",
    "# 店舗インデックスと店舗名をそれぞれkeyとvalueとする辞書の作成\n",
    "idx2loc = dict((i, v) for i, v in enumerate(df_req[\"location\"].values))"
   ]
  },
  {
   "attachments": {},
   "cell_type": "markdown",
   "metadata": {},
   "source": [
    "<a id=\"1-implementation\"></a>\n",
    "### **1.3\\. Amplify による実装**\n",
    "\n",
    "それでは Amplify を用いて実装します。\n",
    "\n",
    "最初に決定変数 $L$ を表すバイナリ変数 `location_variables` を `VariableGenerator` クラスで作成します。"
   ]
  },
  {
   "cell_type": "code",
   "execution_count": null,
   "metadata": {},
   "outputs": [],
   "source": [
    "from amplify import VariableGenerator\n",
    "\n",
    "gen = VariableGenerator()\n",
    "# 従業員 i が店舗 l に割り当てられるか否かを表すバイナリ変数\n",
    "location_variables = gen.array(\"Binary\", num_workers, num_locations)\n",
    "\n",
    "# 決定変数は5x2の行列となっている。\n",
    "print(location_variables)"
   ]
  },
  {
   "attachments": {},
   "cell_type": "markdown",
   "metadata": {},
   "source": [
    "希望度に示される勤務不可店舗に関しては勤務しないことが予め分かっている為、`location_variables` の当該の要素に定数 0 を与えます。これにより最終的に求解の対象となる問題サイズの削減が可能です。"
   ]
  },
  {
   "cell_type": "code",
   "execution_count": null,
   "metadata": {},
   "outputs": [],
   "source": [
    "from itertools import product\n",
    "\n",
    "# 勤務不可店舗に関しては、0を予め代入\n",
    "for i, l in product(range(num_workers), locations):\n",
    "    worker_req = df_worker_loc.iloc[i][l]\n",
    "    # 希望度から勤務不可\n",
    "    if worker_req == 0:\n",
    "        location_variables[i, loc2idx[l]] = 0\n",
    "\n",
    "## 決定変数の中で、勤務不可店舗に関する要素が0に固定されている\n",
    "print(location_variables)"
   ]
  },
  {
   "attachments": {},
   "cell_type": "markdown",
   "metadata": {},
   "source": [
    "次に各店舗 $l$ の要求人数に対する充足率 $w_l$ の計算を実装します。充足率 $w_l$ は、[1.1\\. 定式化](#1-formulation) での説明の通り、次のように表されます。\n",
    "\n",
    "$$\n",
    "\\begin{align*}\n",
    "    w_l = \\frac{1}{r_l} \\displaystyle\\sum_{i\\in W} L_{i,l}\n",
    "\\end{align*}\n",
    "$$"
   ]
  },
  {
   "cell_type": "code",
   "execution_count": null,
   "metadata": {},
   "outputs": [],
   "source": [
    "w_l = location_variables.sum(axis=0) / df_req[\"num_employees\"].values"
   ]
  },
  {
   "attachments": {},
   "cell_type": "markdown",
   "metadata": {},
   "source": [
    "また、[1.1\\. 定式化](#1-formulation) での導入した目的関数の各項目を計算します。最大化する関数についてはその負値を考慮することで最小化問題に変換します。\n",
    "\n",
    "- **充足率 $w_l$ 平均の最大化**\n",
    "\n",
    "  → 充足率 $w_l$ 平均の負値の最小化に変換\n",
    "\n",
    "  $$\n",
    "  \\begin{matrix}\n",
    "      {\\rm minimize} & -\\langle w_l \\rangle\n",
    "  \\end{matrix}\n",
    "  $$\n",
    "\n",
    "- **充足率 $w_l$ 分散の最小化**\n",
    "\n",
    "  $$\n",
    "  \\begin{matrix}\n",
    "      {\\rm minimize} & \\langle w_l^2 \\rangle - \\langle w_l \\rangle^2\n",
    "  \\end{matrix}\n",
    "  $$\n",
    "\n",
    "- **割当先店舗 $l$ に対する全従業員の勤務希望度 $c_{i,l}$ の最大化**  \n",
    "\n",
    "  → 割当先店舗 $l$ に対する全従業員の勤務希望度 $c_{i,l}$ の負値の最小化に変換\n",
    "\n",
    "  $$\n",
    "  \\begin{matrix}\n",
    "      {\\rm minimize}& \\displaystyle -\\sum_{i\\in W}\\sum_{l\\in S}c_{i,l}L_{i,l}\n",
    "  \\end{matrix}\n",
    "  $$"
   ]
  },
  {
   "cell_type": "code",
   "execution_count": null,
   "metadata": {},
   "outputs": [],
   "source": [
    "from amplify import sum\n",
    "\n",
    "# 充足率の平均の最大化（充足率の負値を最小化）\n",
    "average_fill_rate_cost = -((w_l.sum() / w_l.size) ** 2)\n",
    "\n",
    "# 充足率分散の最小化\n",
    "variance_fill_rate_cost = (w_l * w_l).sum() / w_l.size - (w_l.sum() / w_l.size) ** 2\n",
    "\n",
    "# 従業員の希望度最大化（従業員の希望度の負値を最小化）\n",
    "location_cost = -sum(\n",
    "    num_workers,\n",
    "    lambda i: sum(\n",
    "        num_locations,\n",
    "        lambda l: df_worker_loc.loc[i][idx2loc[l]] * location_variables[i, l],\n",
    "    ),\n",
    ")"
   ]
  },
  {
   "attachments": {},
   "cell_type": "markdown",
   "metadata": {},
   "source": [
    "最後に、[1.1\\. 定式化](#1-formulation) で紹介した制約条件を実装します。\n",
    "\n",
    "> - **ある従業員 $i$ は、同時に1店舗にのみ割り当てられる**  \n",
    "> \n",
    ">   $$\n",
    ">   \\begin{align*}\n",
    ">       \\forall i\\in W, \\sum_{l \\in S}L_{i,l} = 1\n",
    ">   \\end{align*}\n",
    ">   $$\n",
    "> \n",
    "> - **ある店舗 $l$ には、その店舗の要求従業員数 $r_l$ 以上の従業員を割り当てる**\n",
    "> \n",
    ">   $$\n",
    ">   \\begin{align*}\n",
    ">       \\forall l \\in S, \\sum_{i\\in W}L_{i,l} \\geq r_{l}\n",
    ">   \\end{align*}\n",
    ">   $$\n",
    "\n",
    "一つ目の制約条件は `one_hot` を用いて記述します (等式制約なので `equal_to` を用いて記述することもできます)。二つ目の制約式は不等式制約なので `greater_equal` を用いて記述します。"
   ]
  },
  {
   "cell_type": "code",
   "execution_count": null,
   "metadata": {},
   "outputs": [],
   "source": [
    "from amplify import equal_to, greater_equal, one_hot\n",
    "\n",
    "# ある従業員 i は、同時に1店舗にのみ割り当てられる\n",
    "location_constarints = sum(one_hot(location_variables[i]) for i in range(num_workers))\n",
    "\n",
    "# ある店舗 l には、その店舗の要求従業員数 r_l 以上の従業員を割り当てる\n",
    "require_constraints = sum(\n",
    "    greater_equal(location_variables[:, l], df_req[\"num_employees\"][l])\n",
    "    for l in range(num_locations)\n",
    ")"
   ]
  },
  {
   "attachments": {},
   "cell_type": "markdown",
   "metadata": {},
   "source": [
    "先ほど実装した3つの目的関数と2つの制約式を足し合わせ、最適化対象のモデルを作成します。  \n",
    "\n",
    "ここで、注意点として、これらの目的関数、制約式は取りうる値の範囲が異なります。この時、そのまま足し合わせたモデルに対し最適化を行うと、取りうる値が比較的小さな目的関数・制約式が最適化においてあまり考慮されず、結果として、取りうる値が大きな目的関数・制約式のみ満足するような求解が行われる可能性があります。言い換えると、優先度の高い目的関数に対し、意図的に大きな値を取る様にすれば、その目的関数に対して最適化される可能性が高くなります。\n",
    "\n",
    "従って、全ての目的関数、制約式の取りうる値の範囲がおよそ同じになる様に、または、優先的に最適化させたい目的関数が相対的に大きくなるように、それぞれに係数（重み）を乗ずる必要があります。下記の `loc_priority`、`ave_fill_priority`、`var_fill_priority` はそれぞれ、勤務地希望度、充足率平均、充足率分散に対応する係数です。また、`constraint_weight` は制約式に対する重みです。\n",
    "\n",
    "この時、それぞれの目的関数がどの程度の値になるのかを考慮して係数を決定します。例えば分散は正の小さい値になるので、目的関数として考慮させるには大きな係数を与える必要があるでしょう。"
   ]
  },
  {
   "cell_type": "code",
   "execution_count": null,
   "metadata": {},
   "outputs": [],
   "source": [
    "# それぞれの目的関数の係数\n",
    "loc_priority = 1\n",
    "ave_fill_priority = 1\n",
    "var_fill_priority = 10\n",
    "\n",
    "# 目的関数\n",
    "cost_func = (\n",
    "    loc_priority * location_cost\n",
    "    + ave_fill_priority * average_fill_rate_cost\n",
    "    + var_fill_priority * variance_fill_rate_cost\n",
    ")"
   ]
  },
  {
   "attachments": {},
   "cell_type": "markdown",
   "metadata": {},
   "source": [
    "制約条件についても適切に強さを設定する必要があります。制約条件は目的関数に対するペナルティ関数としてイジングマシンに与えられるため、目的関数の取り得る値より少々大きめの値を推定して決定します。ここでは $10$ 程度の値を与えます。求解の結果、制約条件を満たす解が見つからなければ、制約条件に対する重みを少し大きくして、再度求解を試みます。逆に、制約条件に対する重みを極端に大きくした場合、最適化過程において、目的関数が相対的に考慮されなくなりますので、注意が必要です。"
   ]
  },
  {
   "cell_type": "code",
   "execution_count": null,
   "metadata": {},
   "outputs": [],
   "source": [
    "# 制約条件を表すペナルティ関数の重み\n",
    "constraint_weight = 10\n",
    "\n",
    "# 制約条件\n",
    "constraints = constraint_weight * (location_constarints + require_constraints)\n",
    "\n",
    "# 目的関数と制約条件を足し合わせ、最適化対象のモデルを作成\n",
    "model = cost_func + constraints"
   ]
  },
  {
   "attachments": {},
   "cell_type": "markdown",
   "metadata": {},
   "source": [
    "以上で定式化は完了です。"
   ]
  },
  {
   "attachments": {},
   "cell_type": "markdown",
   "metadata": {},
   "source": [
    "<a id=\"1-solve\"></a>\n",
    "### **1.4\\. 求解** \n",
    "\n",
    "まずは使用する量子アニーリング・イジングマシンのクライアントを設定します。今回はイジングマシンであるAmplify AE (`FixstarsClient`) を選択します。"
   ]
  },
  {
   "cell_type": "code",
   "execution_count": null,
   "metadata": {},
   "outputs": [],
   "source": [
    "from amplify import FixstarsClient\n",
    "from datetime import timedelta\n",
    "\n",
    "# クライアントの設定\n",
    "client = FixstarsClient()\n",
    "client.parameters.timeout = timedelta(milliseconds=1000)  # タイムアウトは 1000 ms\n",
    "# client.token = \"xxxxxxxxxxxxxxxxxxxxxxxxxxxxxxxx\"  # ローカル環境等で使用する場合は、Fixstars Amplify AE のアクセストークンを入力してください。"
   ]
  },
  {
   "attachments": {},
   "cell_type": "markdown",
   "metadata": {},
   "source": [
    "次に、設定したクライアントからソルバーを作成し、定式化したモデルを最適化します。求解後、決定変数行列 `location_variables` に対応した形式で解を取得するため、`evaluate` メソッドを用いて解を取り出します。取得した解を `location_solutions` とします。"
   ]
  },
  {
   "cell_type": "code",
   "execution_count": null,
   "metadata": {},
   "outputs": [],
   "source": [
    "from amplify import solve\n",
    "\n",
    "# 求解し、結果を取得\n",
    "result = solve(model, client)\n",
    "\n",
    "# 制約条件を満たす解が得られなかった場合は、RuntimeError を出す（重みなどを調整し、再求解）。\n",
    "if len(result) == 0:\n",
    "    raise RuntimeError(\"The given constraints are not satisfied\")\n",
    "values = result.best.values\n",
    "\n",
    "# 変数行列 `location_variables` に対応した形式で解を取り出し\n",
    "location_solutions = location_variables.evaluate(values)\n",
    "\n",
    "print(location_solutions)"
   ]
  },
  {
   "attachments": {},
   "cell_type": "markdown",
   "metadata": {},
   "source": [
    "### 結果の確認\n",
    "\n",
    "求解結果から従業員がそれぞれがどこの店舗で勤務を行うのか出力します。 求解結果 `location_solutions[i][l] = 1` であれば従業員 $i$ は店舗 $l$ 割り当てられたことを表します。したがって、解が$1$であるインデックスを取り出すことで、どの従業員がどの店舗で勤務するのかを取得できます。\n",
    "\n",
    "表データで出力するために、`pandas.DataFrame` に結果を格納します。"
   ]
  },
  {
   "cell_type": "code",
   "execution_count": null,
   "metadata": {},
   "outputs": [],
   "source": [
    "import numpy as np\n",
    "from collections import defaultdict\n",
    "\n",
    "location_index_list = np.where(np.array(location_solutions) == 1)[1]\n",
    "dict_df = defaultdict(list)\n",
    "\n",
    "for i, loc_ind in enumerate(location_index_list):\n",
    "    worker_id = df_worker_loc.loc[i][\"worker_id\"]\n",
    "    ## 割り当て先店舗\n",
    "    loc = locations[loc_ind]\n",
    "    dict_df[\"worker_id\"].append(worker_id)\n",
    "    dict_df[\"allocation\"].append(loc)\n",
    "\n",
    "df_result = pd.DataFrame.from_dict(dict_df, orient=\"index\").T\n",
    "\n",
    "print(\"従業員ごとの割り当て先店舗\")\n",
    "display(df_result)"
   ]
  },
  {
   "attachments": {},
   "cell_type": "markdown",
   "metadata": {},
   "source": [
    "最後にどの程度店舗の要求人数を満たしているか確認します。[1.1\\. 定式化](#1-formulation) での説明の通り、求解結果に基づき充足率を計算します。"
   ]
  },
  {
   "cell_type": "code",
   "execution_count": null,
   "metadata": {},
   "outputs": [],
   "source": [
    "# df_result 内の `allocation` リストにおいて、各店舗名が現れる回数をカウント = 各店舗に割り当てられた従業員数\n",
    "num_employees_allocated = df_result[\"allocation\"].value_counts()\n",
    "fill_rate = df_req.copy()\n",
    "fill_rate[\"fill rate\"] = [\n",
    "    df_req.loc[l][\"num_employees\"] / num_employees_allocated[idx2loc[l]]\n",
    "    for l in range(num_locations)\n",
    "]\n",
    "\n",
    "print(\"店舗ごとの充足率\")\n",
    "display(fill_rate)"
   ]
  },
  {
   "attachments": {},
   "cell_type": "markdown",
   "metadata": {},
   "source": [
    "全ての店舗において、充足率が1.0以上であるので、ステップ1において、従業員割り当てが上手く行われたことが確認できました。"
   ]
  },
  {
   "attachments": {},
   "cell_type": "markdown",
   "metadata": {},
   "source": [
    "<a id=\"step2\"></a>\n",
    "## **ステップ2**\n",
    "\n",
    "ステップ2では、[ステップ1](#step1)で考慮した、『各従業員の勤務先店舗の希望度』及び『各店舗の要求従業員数』に加え、各店舗の **役職毎** の要求人数を満たすような従業員割り当てを実施します。\n",
    "\n",
    "例えば、ある店舗Aでは店長1人、一般従業員3人必要なので、それを満たすように人員を配置します。ここでは「店長・副店長・一般従業員」という役職を用意します。ただし、店長と副店長は兼任できないものとします。各従業員は先ほどの勤務希望地に加え、それぞれの役職が担当可能かどうかを表す属性を持ちます。"
   ]
  },
  {
   "attachments": {},
   "cell_type": "markdown",
   "metadata": {},
   "source": [
    "<a id=\"2-formulation\"></a>\n",
    "### **2.1\\. 定式化**\n",
    "\n",
    "まず、定式化で用いる集合、定数及び決定変数を定義します。\n",
    "\n",
    "#### **集合**\n",
    "\n",
    "- $W$：従業員集合 (記号 $i \\in W$ を用いて従業員を表す)\n",
    "- $S$：店舗集合 (記号 $l \\in S$ を用いて店舗を表す)\n",
    "- $R$: 役職集合 (記号 $j \\in R$ を用いて役職を表す)\n",
    "  - $j=0$: 店長 (`manager`)\n",
    "  - $j=1$: 副店長 (`submanager`)\n",
    "  - $j=2$: 役職なし (`staff`)\n",
    "\n",
    "#### **定数**\n",
    "\n",
    "- $r_{j,l}$：店舗 $l$ における役職 $j$ の要求従業員数（$l \\in S$ 及び $j \\in R$）\n",
    "- $c_{i,l}$：従業員 $i$ が店舗 $l$ で勤務する場合の希望度（$i \\in W$ 及び $l \\in S$）\n",
    "- $m_{i,j}$: 従業員 $i$ を役職 $j$ に割り当て可能か、0:不可能, 1:可能（$i \\in W$ 及び $j \\in R$）\n",
    "\n",
    "#### **決定変数**\n",
    "\n",
    "- $M_{i,j,l}$：従業員 $i$ を役職 $j$ として、店舗 $l$ に割り当てる `1` か否 `0` か（$i\\in W$ 及び $j\\in R$、$l\\in S$\n",
    "- $L_{i,l}\\in \\{0,1\\}$：従業員 $i$ を店舗  $l$ に割当てる `1` か否 `0` か（$i\\in W$ 及び $l\\in S$）\n",
    "  - $L_{i,l} = \\sum_{j \\in R} M_{i,j,l}$ の関係がある"
   ]
  },
  {
   "attachments": {},
   "cell_type": "markdown",
   "metadata": {},
   "source": [
    "\n",
    "#### **目的関数**\n",
    "\n",
    "[ステップ1](#step1)と同様に、各店舗における役職を考慮しない場合の要求従業員数に対する割り当て従業員の充足率 $w_l$ を定義します。\n",
    "\n",
    "$$\n",
    "w_l = \\frac{\\displaystyle \\sum_{i\\in W} L_{i,l}}{\\displaystyle \\sum_{j\\in R} r_{j,l}}  \n",
    "$$\n",
    "\n",
    "[ステップ1](#step1)と同様に、下記の3つを目的関数とします。\n",
    "\n",
    "- **充足率 $w_l$ 平均の最大化**  \n",
    "  $$\n",
    "  \\begin{matrix}\n",
    "      {\\rm maximize} & \\langle w_l \\rangle\n",
    "  \\end{matrix}\n",
    "  $$\n",
    "\n",
    "- **充足率 $w_l$ 分散の最小化**  \n",
    "  $$\n",
    "  \\begin{matrix}\n",
    "      {\\rm minimize} & \\langle w_l^2 \\rangle - \\langle w_l \\rangle^2\n",
    "  \\end{matrix}\n",
    "  $$\n",
    "\n",
    "- **割当先店舗 $l$ に対する全従業員の勤務希望度 $c_{i,l}$ の最大化**  \n",
    "  $$\n",
    "  \\begin{matrix}\n",
    "      {\\rm maximize}& \\displaystyle \\sum_{i\\in W}\\sum_{l\\in S}c_{i,l}L_{i,l}\n",
    "  \\end{matrix}\n",
    "  $$"
   ]
  },
  {
   "attachments": {},
   "cell_type": "markdown",
   "metadata": {},
   "source": [
    "#### **制約条件**\n",
    "\n",
    "[ステップ1](#step1) と同様に、先ほどの決定変数の定義では、ある従業員が同時に複数の店舗に割り当てられる状況が発生し得ます。また、役職あり（店長・副店長）を適切に割り当てる必要もあります。従って、各店舗に要求される役職ありの従業員を適切に割り当て、さらに、役職有り無しに関わらず、同じ従業員の複数店舗への割り当てを禁止する、次のような制約を与えます。\n",
    "\n",
    "- **ある従業員 $i$ は、同時に1店舗にのみ割り当てられる**  \n",
    "\n",
    "$$\n",
    "\\sum_{l \\in S}L_{i,l} = 1 \\:\\:\\:\\: (\\forall i\\in W)\n",
    "$$\n",
    "\n",
    "- **各店舗 $l$ が要求する人数に等しい役職あり従業員 $j \\in \\left\\{0, 1 \\right\\}$ が割り当てられる**\n",
    "\n",
    "$$\n",
    "\\sum_{i\\in W}M_{i,j,l} = r_{j,l} \\:\\:\\:\\: (\\forall l \\in S, \\forall j \\in \\left\\{0, 1 \\right\\})\n",
    "$$\n",
    "\n",
    "- **各店舗 $l$ には、その店舗の要求従業員数 $r_l$ 以上の従業員を割り当てる**\n",
    "\n",
    "$$\n",
    "\\sum_{i\\in W} L_{i,l} \\geq \\sum_{j\\in R}r_{j,l} \\:\\:\\:\\: (\\forall l \\in S)\n",
    "$$"
   ]
  },
  {
   "attachments": {},
   "cell_type": "markdown",
   "metadata": {},
   "source": [
    "<a id=\"2-data\"></a>\n",
    "### **2.2\\. データ作成**\n",
    "\n",
    "それでは、実際に割り当て問題を実行するための条件設定を行います。例として、例として、従業員数9名、店舗数4のデータを下記に作成します。  "
   ]
  },
  {
   "cell_type": "code",
   "execution_count": null,
   "metadata": {},
   "outputs": [],
   "source": [
    "import pandas as pd\n",
    "\n",
    "# 各店舗の要求人数情報の設定\n",
    "dict_req = {\n",
    "    \"location\": [\"tenjin\", \"hakata\", \"akasaka\", \"gakken\"],  # 店舗名\n",
    "    \"num_managers\": [1, 1, 1, 1],  # 各店舗の店長役職を有する要求従業員数\n",
    "    \"num_submanagers\": [1, 0, 1, 1],  # 各店舗の副店長役職を有する要求従業員数\n",
    "    \"num_employees_any_role\": [\n",
    "        2,\n",
    "        2,\n",
    "        2,\n",
    "        2,\n",
    "    ],  # 各店舗の要求従業員数（役職有り無しを問わず全員）\n",
    "}\n",
    "df_req = pd.DataFrame.from_dict(dict_req, orient=\"index\").T\n",
    "\n",
    "# 各従業員の勤務店舗希望情報の設定\n",
    "dict_worker_loc = {\n",
    "    \"worker_id\": [0, 1, 2, 3, 4, 5, 6, 7, 8],  # 従業員の ID\n",
    "    \"tenjin\": [2, 0, 0, 0, 1, 1, 2, 1, 1],  # 各従業員の tenjin 店舗への配置の希望度\n",
    "    \"hakata\": [1, 0, 0, 2, 2, 2, 1, 2, 1],  # 各従業員の hakata 店舗への配置の希望度\n",
    "    \"akasaka\": [1, 0, 0, 1, 0, 1, 1, 1, 2],  # 各従業員の akasaka 店舗への配置の希望度\n",
    "    \"gakken\": [1, 2, 2, 0, 0, 0, 0, 0, 0],  # 各従業員の gakken 店舗への配置の希望度\n",
    "}\n",
    "df_worker_loc = pd.DataFrame.from_dict(dict_worker_loc, orient=\"index\").T\n",
    "\n",
    "# 各従業員の役職資格情報の設定\n",
    "dict_worker_skill = {\n",
    "    \"worker_id\": [0, 1, 2, 3, 4, 5, 6, 7, 8],  # 従業員の ID\n",
    "    \"manager\": [1, 1, 0, 0, 1, 1, 1, 0, 1],  # 店長の資格がある 1 か否 0 か\n",
    "    \"submanager\": [1, 1, 1, 0, 1, 1, 1, 0, 1],  # 副店長の資格がある 1 か否 0 か\n",
    "    \"staff\": [1, 1, 1, 1, 1, 1, 1, 1, 1],  # 役職無し従業員の資格がある 1 か否 0 か\n",
    "}\n",
    "df_worker_skill = pd.DataFrame.from_dict(dict_worker_skill, orient=\"index\").T"
   ]
  },
  {
   "attachments": {},
   "cell_type": "markdown",
   "metadata": {},
   "source": [
    "各店舗の店長 (manager)、副店長 (submanager)、全従業員 (manager + submanager + staff) に関する要求人数が `df_req` に格納されています。割り当てられる役職無し従業員 (staff) の数は、`num_employees_any_role - num_managers - num_submanagers` となります。"
   ]
  },
  {
   "cell_type": "code",
   "execution_count": null,
   "metadata": {},
   "outputs": [],
   "source": [
    "print(\"店舗ごとの役職別の要求人数\")\n",
    "display(df_req)"
   ]
  },
  {
   "attachments": {},
   "cell_type": "markdown",
   "metadata": {},
   "source": [
    "各従業員の各店舗に対する勤務希望度は `df_worker_loc` に格納されています。"
   ]
  },
  {
   "cell_type": "code",
   "execution_count": null,
   "metadata": {},
   "outputs": [],
   "source": [
    "print(\"従業員ごとの各店舗に対する勤務希望度\")\n",
    "display(df_worker_loc)"
   ]
  },
  {
   "attachments": {},
   "cell_type": "markdown",
   "metadata": {},
   "source": [
    "`df_worker_skill` には、各従業員の役職資格情報を格納しています。もし値が $1$ ならその役職が担当可能であることを表します。\n",
    "例えば、`worker_id = 1` の従業員は店長と副店長が担当可能であることがわかります。一方 `worker_id = 7` の従業員は管理職（店長又は副店長）を担当することができません。"
   ]
  },
  {
   "cell_type": "code",
   "execution_count": null,
   "metadata": {},
   "outputs": [],
   "source": [
    "print(\"従業員ごとの役職別の資格情報\")\n",
    "display(df_worker_skill)"
   ]
  },
  {
   "attachments": {},
   "cell_type": "markdown",
   "metadata": {},
   "source": [
    "次のように従業員 ID、店舗名、役職名とインデックスの対応関係を設定します。"
   ]
  },
  {
   "cell_type": "code",
   "execution_count": null,
   "metadata": {},
   "outputs": [],
   "source": [
    "# 従業員 ID、店舗名、役職名の取得\n",
    "workers = df_worker_loc[\"worker_id\"].values\n",
    "locations = df_req[\"location\"].values\n",
    "roles = [\"manager\", \"submanager\", \"staff\"]\n",
    "\n",
    "# 店舗インデックスと店舗名をそれぞれkeyとvalueとする辞書の作成\n",
    "idx2loc = {i: v for i, v in enumerate(locations)}\n",
    "# 店舗名とそのインデックスをそれぞれkeyとvalueとする辞書の作成\n",
    "loc2idx = {v: i for i, v in enumerate(locations)}\n",
    "# 役職インデックスと役職名をそれぞれkeyとvalueとする辞書の作成\n",
    "idx2role = {i: v for i, v in enumerate(roles)}\n",
    "# 役職名とそのインデックスをそれぞれkeyとvalueとする辞書の作成\n",
    "role2idx = {v: i for i, v in enumerate(roles)}\n",
    "\n",
    "# 各データサイズを取得\n",
    "num_workers = len(workers)\n",
    "num_locations = len(locations)\n",
    "num_roles = len(roles)"
   ]
  },
  {
   "attachments": {},
   "cell_type": "markdown",
   "metadata": {},
   "source": [
    "<a id=\"2-implementation\"></a>\n",
    "### **2.3\\. Amplify による実装**\n",
    "\n",
    "それでは Amplify を用いて実装します。\n",
    "\n",
    "最初に決定変数 $M$ を表す変数 `role_variables` を `VariableGenerator` で作成します。[ステップ1](#step1)とは異なり、従業員、役職、店舗の3次元配列であることに注意してください。"
   ]
  },
  {
   "cell_type": "code",
   "execution_count": null,
   "metadata": {},
   "outputs": [],
   "source": [
    "# 従業員 i が役職 j で店舗 l に割り当てられる 1 か否 0 かを表すバイナリ変数\n",
    "role_variables = VariableGenerator().array(\n",
    "    \"Binary\", num_workers, num_roles, num_locations\n",
    ")\n",
    "\n",
    "# 決定変数は9x3x4の行列となっている。\n",
    "print(role_variables)"
   ]
  },
  {
   "attachments": {},
   "cell_type": "markdown",
   "metadata": {},
   "source": [
    "[ステップ1](#step1) と同様に、希望度に示される勤務不可店舗に関しては勤務しないことが予め分かっている為、決定変数の当該要素をゼロ埋めします。また、役職的にも割り当て不可な要素にもゼロ埋めを行います。これにより最終的に求解の対象となる問題サイズの削減が可能です。"
   ]
  },
  {
   "cell_type": "code",
   "execution_count": null,
   "metadata": {},
   "outputs": [],
   "source": [
    "for i, l in product(range(num_workers), locations):\n",
    "    worker_req = df_worker_loc.iloc[i][l]\n",
    "    if worker_req == 0:\n",
    "        # 希望度から、該当する店舗 l において、全ての役職で割り当て不可\n",
    "        role_variables[i, :, loc2idx[l]] = 0\n",
    "\n",
    "for i, j in product(range(num_workers), roles):\n",
    "    worker_skill = df_worker_skill.iloc[i][j]\n",
    "    if worker_skill == 0:\n",
    "        # 従業員 i の役職資格情報から、全ての店舗で当該の役職に対する割り当て不可\n",
    "        role_variables[i, role2idx[j], :] = 0\n",
    "\n",
    "# 勤務不可能店舗・役職に関する決定変数要素が0に固定されていることを確認\n",
    "print(role_variables)"
   ]
  },
  {
   "attachments": {},
   "cell_type": "markdown",
   "metadata": {},
   "source": [
    "決定変数 $L$ を表す `location_variables` については、決定変数 $M$ と $L$ の関係から次のようにして得られます（[2.1\\. 定式化](#2-formulation) 参照）。"
   ]
  },
  {
   "cell_type": "code",
   "execution_count": null,
   "metadata": {},
   "outputs": [],
   "source": [
    "location_variables = role_variables.sum(axis=1)\n",
    "display(location_variables)"
   ]
  },
  {
   "attachments": {},
   "cell_type": "markdown",
   "metadata": {},
   "source": [
    "次に各店舗 $l$ の要求人数に対する充足率 $w_l$ の計算を実装します。充足率 $w_l$ は、[2.1\\. 定式化](#1-formulation) での説明の通り、次のように表されます。\n",
    "\n",
    "$$\n",
    "w_l = \\frac{\\displaystyle \\sum_{i\\in W} L_{i,l}}{\\displaystyle \\sum_{j\\in R} r_{j,l}}  \n",
    "$$\n",
    "\n",
    "ここで、分母の $\\sum_{j\\in R} r_{j,l}$ は、各店舗 $l$ における役職を問わない全従業員数であり、これは `df_req[\"num_employees_any_role\"]` です。"
   ]
  },
  {
   "cell_type": "code",
   "execution_count": null,
   "metadata": {},
   "outputs": [],
   "source": [
    "# 充足率の計算\n",
    "w_l = location_variables.sum(axis=0) / df_req[\"num_employees_any_role\"].values"
   ]
  },
  {
   "attachments": {},
   "cell_type": "markdown",
   "metadata": {},
   "source": [
    "次に、[2.1\\. 定式化](#2-formulation) での導入した目的関数の各項目を計算します。最大化する関数についてはその負値を考慮することで最小化問題に変換します。\n",
    "\n",
    "- **充足率 $w_l$ 平均の最大化**\n",
    "\n",
    "  → 充足率 $w_l$ 平均の負値の最小化に変換\n",
    "\n",
    "  $$\n",
    "  \\begin{matrix}\n",
    "      {\\rm minimize} & -\\langle w_l \\rangle\n",
    "  \\end{matrix}\n",
    "  $$\n",
    "\n",
    "- **充足率 $w_l$ 分散の最小化**\n",
    "\n",
    "  $$\n",
    "  \\begin{matrix}\n",
    "      {\\rm minimize} & \\langle w_l^2 \\rangle - \\langle w_l \\rangle^2\n",
    "  \\end{matrix}\n",
    "  $$\n",
    "\n",
    "- **割当先店舗 $l$ に対する全従業員の勤務希望度 $c_{i,l}$ の最大化**  \n",
    "\n",
    "  → 割当先店舗 $l$ に対する全従業員の勤務希望度 $c_{i,l}$ の負値の最小化に変換\n",
    "\n",
    "  $$\n",
    "  \\begin{matrix}\n",
    "      {\\rm minimize}& \\displaystyle -\\sum_{i\\in W}\\sum_{l\\in S}c_{i,l}L_{i,l}\n",
    "  \\end{matrix}\n",
    "  $$"
   ]
  },
  {
   "cell_type": "code",
   "execution_count": null,
   "metadata": {},
   "outputs": [],
   "source": [
    "# 充足率の平均の最大化（充足率の負値を最小化）\n",
    "average_fill_rate_cost = -((w_l.sum() / w_l.size) ** 2)\n",
    "\n",
    "# 充足率分散の最小化\n",
    "variance_fill_rate_cost = (w_l * w_l).sum() / w_l.size - (w_l.sum() / w_l.size) ** 2\n",
    "\n",
    "# 従業員の希望度最大化（従業員の希望度の負値を最小化）\n",
    "location_cost = -sum(\n",
    "    num_workers,\n",
    "    lambda i: sum(\n",
    "        num_locations,\n",
    "        lambda l: df_worker_loc.loc[i][idx2loc[l]] * location_variables[i][l],\n",
    "    ),\n",
    ")"
   ]
  },
  {
   "attachments": {},
   "cell_type": "markdown",
   "metadata": {},
   "source": [
    "最後に、[2.1\\. 定式化](#2-formulation) で定義した次の制約条件を実装します。\n",
    "\n",
    "> - **ある従業員 $i$ は、同時に1店舗にのみ割り当てられる**  \n",
    "> \n",
    "> $$\n",
    "> \\sum_{l \\in S}L_{i,l} = 1 \\:\\:\\:\\: (\\forall i\\in W)\n",
    "> $$\n",
    "> \n",
    "> - **各店舗 $l$ が要求する人数の役職あり従業員 $j \\in \\left\\{0, 1 \\right\\}$ を割り当てる**\n",
    "> \n",
    "> $$\n",
    "> \\sum_{i\\in W}M_{i,j,l} = r_{j,l} \\:\\:\\:\\: (\\forall l \\in S, \\forall j \\in \\left\\{0, 1 \\right\\})\n",
    "> $$\n",
    "> \n",
    "> - **各店舗 $l$ には、その店舗の要求従業員数 $r_l$ 以上の従業員（役職有り無しに関わらない全従業員の総数）を割り当てる**\n",
    "> \n",
    "> $$\n",
    "> \\sum_{i\\in W} L_{i,l} \\geq \\sum_{j\\in R}r_{j,l} \\:\\:\\:\\: (\\forall l \\in S)\n",
    "> $$\n",
    "\n",
    "一つ目と二つ目の制約条件は `one_hot` を用いて記述します（あるいは等式制約なので `equal_to` を用いて記述することもできます）。三つ目の制約式は不等式制約なので `greater_equal` を用いて記述します。\n"
   ]
  },
  {
   "cell_type": "code",
   "execution_count": null,
   "metadata": {},
   "outputs": [],
   "source": [
    "# ある従業員 i は、同時に1店舗にのみ割り当てられる\n",
    "location_constarints = sum(one_hot(location_variables[i]) for i in range(num_workers))\n",
    "\n",
    "# 各店舗 l が要求する人数の役職あり従業員 j を割り当てる\n",
    "req_manager_constraints = sum(\n",
    "    equal_to(role_variables[:, 0, l], df_req[\"num_managers\"][l])\n",
    "    for l in range(num_locations)\n",
    ")\n",
    "req_submanager_constraints = sum(\n",
    "    equal_to(role_variables[:, 1, l], df_req[\"num_submanagers\"][l])\n",
    "    for l in range(num_locations)\n",
    ")\n",
    "\n",
    "# 各店舗 l には、その店舗の要求従業員数 r_l 以上の従業員（役職有り無しに関わらない全従業員の総数）を割り当てる\n",
    "req_employee_constraints = sum(\n",
    "    greater_equal(location_variables[:, l], df_req[\"num_employees_any_role\"][l])\n",
    "    for l in range(num_locations)\n",
    ")"
   ]
  },
  {
   "attachments": {},
   "cell_type": "markdown",
   "metadata": {},
   "source": [
    "目的関数と制約式から最適化モデルを作成します。目的関数や制約条件に対して重みを設定する必要はありますが、基本的な考え方は、[1.3\\. Amplify による実装](#1-implementation) に説明した通りで、以下でも同様の重みを与えます。"
   ]
  },
  {
   "cell_type": "code",
   "execution_count": null,
   "metadata": {},
   "outputs": [],
   "source": [
    "# それぞれの目的関数の係数\n",
    "loc_priority = 1\n",
    "ave_fill_priority = 1\n",
    "var_fill_priority = 10\n",
    "\n",
    "# 目的関数\n",
    "cost_func = (\n",
    "    loc_priority * location_cost\n",
    "    + ave_fill_priority * average_fill_rate_cost\n",
    "    + var_fill_priority * variance_fill_rate_cost\n",
    ")\n",
    "\n",
    "# 制約条件を表すペナルティ関数の重み\n",
    "constraint_weight = 10\n",
    "\n",
    "# 制約条件\n",
    "constraints = constraint_weight * (\n",
    "    location_constarints\n",
    "    + req_manager_constraints\n",
    "    + req_submanager_constraints\n",
    "    + req_employee_constraints\n",
    ")\n",
    "\n",
    "# 目的関数と制約条件を足し合わせ、最適化対象のモデルを作成\n",
    "model = cost_func + constraints"
   ]
  },
  {
   "attachments": {},
   "cell_type": "markdown",
   "metadata": {},
   "source": [
    "以上でステップ2の定式化に関する実装は完了です。"
   ]
  },
  {
   "attachments": {},
   "cell_type": "markdown",
   "metadata": {},
   "source": [
    "<a id=\"2-solve\"></a>\n",
    "### **2.4\\. 求解** \n",
    "\n",
    "[ステップ1](#1-solve) で作成したソルバーに、最適化対象のモデルを渡し、求解します。求解後、決定変数行列 `location_variables` 及び `role_variables` に対応した形式で解を取得するため、`evaluate` メソッドを用いて解を取り出します。取得した解をそれぞれ `location_solutions` 及び `role_solutions` とします。"
   ]
  },
  {
   "cell_type": "code",
   "execution_count": null,
   "metadata": {},
   "outputs": [],
   "source": [
    "# モデルをソルバーに渡して求解し、結果を取得\n",
    "result = solve(model, client)\n",
    "\n",
    "# 制約条件を満たす解が得られなかった場合は、RuntimeError を出す（重みなどを調整し、再求解）。\n",
    "if len(result) == 0:\n",
    "    raise RuntimeError(\"The given constraints are not satisfied\")\n",
    "values = result.best.values\n",
    "\n",
    "# 変数行列 `location_variables` に対応した形式で解を取り出し\n",
    "location_solutions = location_variables.evaluate(values)\n",
    "\n",
    "# 変数行列 `role_variables` に対応した形式で解を取り出し\n",
    "role_solutions = role_variables.evaluate(values)"
   ]
  },
  {
   "attachments": {},
   "cell_type": "markdown",
   "metadata": {},
   "source": [
    "### 結果の確認\n",
    "\n",
    "結果から従業員がそれぞれがどこの店舗で勤務を行うのかを出力します。 変数 `role_solutions` において、`role_solutions[i][j][l] = 1` であれば、従業員 $i$ は役職 $j$ として店舗 $l$ で勤務することを表します。したがって、解が$1$であるインデックスを取り出すことで、どの従業員がどの店舗に、どの役職で割り当てられたのかを取得できます。"
   ]
  },
  {
   "cell_type": "code",
   "execution_count": null,
   "metadata": {},
   "outputs": [],
   "source": [
    "import numpy as np\n",
    "from collections import defaultdict\n",
    "\n",
    "# role_solutions=1 である、役職及び店舗のインデックスを取得\n",
    "(role_index_list, loc_index_list) = np.where(np.array(role_solutions) == 1)[1:]\n",
    "dict_df = defaultdict(list)\n",
    "for i, (j, l) in enumerate(zip(role_index_list, loc_index_list)):\n",
    "    worker_id = df_worker_loc.loc[i][\"worker_id\"]\n",
    "    ## 割り当てられた役職\n",
    "    role = roles[j]\n",
    "    ## 割り当て先店舗\n",
    "    loc = locations[l]\n",
    "    dict_df[\"worker_id\"].append(worker_id)\n",
    "    dict_df[\"role\"].append(role)\n",
    "    dict_df[\"location\"].append(loc)\n",
    "\n",
    "df_result = pd.DataFrame.from_dict(dict_df, orient=\"index\").T\n",
    "\n",
    "print(\"従業員ごとの店舗と役職の割当て\")\n",
    "display(df_result)"
   ]
  },
  {
   "attachments": {},
   "cell_type": "markdown",
   "metadata": {},
   "source": [
    "最後に、各役職に対する充足率 (fill rate) を出力することで、各店舗の役職毎に要求人数を満たしているかを確認します。ここで、表のセルの成分が `N/A` となっている箇所は、その店舗におけるその役職の要求人数が0人であることを表します。"
   ]
  },
  {
   "cell_type": "code",
   "execution_count": null,
   "metadata": {},
   "outputs": [],
   "source": [
    "dict_result_alloc = defaultdict(lambda: defaultdict(int))\n",
    "for loc, role in product(locations, roles):\n",
    "    dict_result_alloc[loc][role] = 0\n",
    "\n",
    "for i in range(len(df_result)):\n",
    "    data = df_result.loc[i]\n",
    "    role = data[\"role\"]\n",
    "    location = data[\"location\"]\n",
    "    dict_result_alloc[location][role] += 1\n",
    "\n",
    "df_result_alloc = pd.DataFrame.from_dict(dict_result_alloc, orient=\"index\")\n",
    "\n",
    "print(\"店舗ごとの役職別の割り当て人数\")\n",
    "display(df_result_alloc)"
   ]
  },
  {
   "cell_type": "code",
   "execution_count": null,
   "metadata": {},
   "outputs": [],
   "source": [
    "# 各店舗の要求人数情報のラベル ['num_managers' 'num_submanagers' 'num_employees_any_role']\n",
    "num_roles_labels = df_req.columns.values[1 : 1 + num_roles]\n",
    "\n",
    "dict_result_fill_rate = defaultdict(defaultdict)\n",
    "# 各店舗ごとに充足率を計算\n",
    "for l in range(len(df_result_alloc)):\n",
    "    data = df_result_alloc.iloc[l]  # 店舗 l の df_result_alloc\n",
    "    loc = data.name  # 店舗名\n",
    "    num_req_non_staff = 0  # 各店舗、役職有り従業員の要求数を格納する変数\n",
    "    # 各役職ごとに充足率を計算。\n",
    "    for j in range(len(roles)):\n",
    "        # 各店舗・各役職ごとの要求従業員数\n",
    "        num_required = df_req[df_req[\"location\"] == loc][num_roles_labels[j]].item()\n",
    "        # 各店舗の要求従業員数 df_req の最後の要素は、役職有り無しを問わず全ての従業員数なので、役職無し従業員数は、全ての従業員数から役職有り従業員数 num_req_non_staff を減算。\n",
    "        if j == len(roles) - 1:\n",
    "            num_required -= num_req_non_staff\n",
    "        else:\n",
    "            num_req_non_staff += num_required\n",
    "        # 各店舗・各役職ごとの割り当て従業員数\n",
    "        num_allocated = data[roles[j]].item()\n",
    "        # 充足率を計算。要求従業員数がゼロの場合、N/Aを代入\n",
    "        if num_required > 0:\n",
    "            dict_result_fill_rate[loc][f\"{roles[j]} (fill rate)\"] = (\n",
    "                num_allocated / num_required\n",
    "            )\n",
    "        else:\n",
    "            dict_result_fill_rate[loc][f\"{roles[j]} (fill rate)\"] = \"N/A\"\n",
    "\n",
    "df_result_fill_rate = pd.DataFrame.from_dict(dict_result_fill_rate, orient=\"index\")\n",
    "\n",
    "print(\"店舗ごとの役職別の充足率\")\n",
    "display(df_result_fill_rate)"
   ]
  },
  {
   "attachments": {},
   "cell_type": "markdown",
   "metadata": {},
   "source": [
    "全店舗において、各役職に対する要求従業員数を満たしいることがわかります。"
   ]
  },
  {
   "attachments": {},
   "cell_type": "markdown",
   "metadata": {},
   "source": [
    "<a id=\"step3\"></a>\n",
    "## **ステップ3**\n",
    "\n",
    "ステップ3では、[ステップ2](#step2)で考慮した、『各従業員の勤務先店舗の希望度』及び『各店舗の要求従業員数』、『各店舗の役職毎の要求人数』に加え、各従業員の役割及び各調理スキルに対するスキル量に基づき、各店舗の各調理スキル要求を満たすように割り当てを実施します。\n",
    "\n",
    "ここでは、寿司チェーン店を想定します。また、各従業員は「捌き・握り・汁物・一品」といった調理スキルを持ち、それぞれのスキルの高さをスキル量という指標で定量化されています。一方、各店舗にも要求されるスキル量があり、これを満たすように従業員の割り当てを行います。\n",
    "\n",
    "例えば、「捌き」スキル値の要求量が10である店舗では、その店舗に割り当てられた全従業員の「捌き」調理スキル量の総和が10以上である必要がある、という制約を考慮しなければなりません。\n",
    "\n",
    "ステップ2までは店舗割当人数の割合を充足率としていましたが、ステップ3では各調理スキル要求に対するスキル量に対する充足率を最適化します。\n",
    "\n",
    "さらに、従業員には「ホール担当」「キッチン担当」のどちらかの役割を持たせます。ホールに割り当てる人数は与えられるものとし、また、調理スキル値が0の従業員は自動的にホール専任とします。"
   ]
  },
  {
   "attachments": {},
   "cell_type": "markdown",
   "metadata": {},
   "source": [
    "<a id=\"3-formulation\"></a>\n",
    "### **3.1\\. 定式化**\n",
    "\n",
    "定式化に用いる変数と記号を定義し直します。\n",
    "\n",
    "#### **集合**\n",
    "\n",
    "- $W$：従業員集合 (記号 $i \\in W$ を用いて従業員を表す)\n",
    "- $S$：店舗集合 (記号 $l \\in S$ を用いて店舗を表す)\n",
    "- $R$：役職集合 (記号 $j \\in R$ を用いて役職を表す)\n",
    "  - $j=0$：店長 (`manager`)\n",
    "  - $j=1$：副店長 (`submanager`)\n",
    "  - $j=2$：なし (`staff`)\n",
    "- $K$：調理スキル集合 (記号 $k$ を用いてスキルを表す)\n",
    "  - $k=0$：捌き (`filleting`)\n",
    "  - $k=1$：握り (`nigiri`)\n",
    "  - $k=2$：汁物 (`soup`)\n",
    "  - $k=3$：一品 (`a_la_carte`)\n",
    "- $A$：役割集合 (記号 $h$ を用いて役割を表す)\n",
    "  - $h=0$：ホール担当 (`floor staff`)\n",
    "  - $h=1$：キッチン担当 (`kitchen staff`)\n",
    "\n",
    "#### **定数**\n",
    "\n",
    "- $t_{k,l}$：店舗 $l$ における調理スキル $k$ に対する要求スキル量（$l \\in S$ 及び $k\\in K$）\n",
    "- $r_{l}$：店舗 $l$ におけるホール担当の要求人数（$l \\in S$）\n",
    "- $c_{i,l}$：従業員 $i$ が店舗 $l$ での勤務に対する希望度（$i \\in W$ 及び $l \\in S$）\n",
    "- $m_{i,j}$：従業員 $i$ を役職 $j$ に割当て可能か、0：不可能、1：可能（$i \\in W$ 及び $j \\in R$）\n",
    "- $s_{i,k}$：従業員 $i$ の有する調理スキル $k$ に対するスキル量（$i \\in W$ 及び $k\\in K$）\n",
    "\n",
    "#### **決定変数**\n",
    "\n",
    "- $M_{i,j,l}$：従業員 $i$ を役職 $j$ として、店舗 $l$ へ割り当てる `1` か 否 `0` か（$i\\in W$、$j\\in R$ 及び $l\\in S$）\n",
    "- $P_{i,h,l}$：従業員 $i$ を役割 $h$ として、店舗 $l$ へ割り当てる `1` か否 `0` か（$i\\in W$、$h\\in A$ 及び $l\\in S$）\n",
    "- $L_{i,l}$：従業員 $i$ を店舗  $l$ へ割り当てる `1` か否 `0` か（$i\\in W$ 及び $l\\in S$）\n",
    "  - $L_{i,l} = \\sum_{j \\in R} M_{i,j,l}$ の関係がある\n",
    "  - $L_{i,l} = \\sum_{h \\in A} P_{i,h,l}$ の関係がある\n"
   ]
  },
  {
   "attachments": {},
   "cell_type": "markdown",
   "metadata": {},
   "source": [
    "\n",
    "#### **目的関数**\n",
    "\n",
    "まず、これまでのステップと同様に、目的関数の基礎となる充足率を定義します。ステップ3では、店舗 $l$ における調理スキル $k$ の総スキル量に対する充足率 $w_{k,l}$ を次のように考慮します。\n",
    "\n",
    "$$\n",
    "w_{k,l} = \\frac{1}{t_{k,l}}  \\displaystyle \\sum_{i\\in W} s_{i,k} P_{i,1,l}\n",
    "$$\n",
    "\n",
    "ここで、$s_{i,k} P_{i,1,l}$ は、店舗 $l$ にキッチン担当として割り当てられた全従業員の調理スキル $k$ のスキル量の総和を計算しており、$t_{k,l}$ はそのスキル量に関する要求量です。\n",
    "\n",
    "また、これまでのステップ同様に下記を目的関数とします。\n",
    "\n",
    "- **充足率 $w_{k,l}$ 平均の最大化**\n",
    "\n",
    "  $$\n",
    "  \\begin{matrix}\n",
    "    {\\rm maximize} & \\left< w_{k,l} \\right>\n",
    "  \\end{matrix}\n",
    "  $$\n",
    "\n",
    "- **充足率 $w_{k,l}$ 分散の最小化**\n",
    "\n",
    "  $$\n",
    "  \\begin{matrix}\n",
    "    {\\rm minimize} & \\left< w_{k,l}^2 \\right> - \\left< w_{k,l} \\right>^2\n",
    "  \\end{matrix}\n",
    "  $$\n",
    "\n",
    "- **割当先店舗 $l$ に対する全従業員の勤務希望度 $c_{i,l}$ の最大化**  \n",
    "\n",
    "  $$\n",
    "  \\begin{matrix}\n",
    "    {\\rm maximize}& \\displaystyle \\sum_{i\\in W}\\sum_{l\\in S}c_{i,l}L_{i,l}\n",
    "  \\end{matrix}\n",
    "  $$"
   ]
  },
  {
   "attachments": {},
   "cell_type": "markdown",
   "metadata": {},
   "source": [
    "#### **制約条件**\n",
    "\n",
    "基本的な考え方は [ステップ2](#step2) と同様ですが、役割に関する変数 $P$ と $M$ を関連付ける記述が必要です。\n",
    "\n",
    "- **ある従業員$i$は同時に1店舗にのみ割り当てられる**\n",
    "\n",
    "  $$\n",
    "  \\begin{align*}\n",
    "    \\sum_{l \\in S}L_{i,l} = 1 \\:\\:\\:\\:(\\forall i\\in W)\n",
    "  \\end{align*}\n",
    "  $$\n",
    "\n",
    "- **各店舗 $l$ が要求する人数に等しい役職有り従業員 $j \\in \\left\\{0, 1 \\right\\}$ が割り当てられる**\n",
    "\n",
    "  $$\n",
    "    \\forall l \\in S, \\forall j \\in \\left\\{0, 1 \\right\\}, \\sum_{i\\in W}M_{i,j,l} = r_{j,l}\n",
    "  $$\n",
    "\n",
    "- **各店舗 $l$ が要求する人数に等しいホール担当 $h=0$ の従業員が割り当てられる**\n",
    "\n",
    "  $$\n",
    "  \\begin{align*}\n",
    "    \\forall l \\in S, \\sum_{i\\in W} P_{i,0,l} = r_{l}\n",
    "  \\end{align*}\n",
    "  $$\n",
    "\n",
    "- **決定変数 $P$ と $M$ を関連付ける制約条件**\n",
    "  - $M_{i,j,l}$ から計算される、店舗 $l$ へ割り当てられた役職 $j$ を問わない従業員数：  \n",
    "    $$\n",
    "    \\sum_{j \\in R} M_{i,j,l}\n",
    "    $$\n",
    "\n",
    "  - $P_{i,h,l}$ から計算される、店舗 $l$ へ割り当てられた役割 $h$ を問わない従業員数：  \n",
    "    $$\n",
    "    \\sum_{h \\in A} P_{i,h,l}\n",
    "    $$\n",
    "\n",
    "  これらが等しくある必要があるので、\n",
    "  $$\n",
    "    \\sum_{j \\in R} M_{i,j,l} = \\sum_{h \\in A} P_{i,h,l} \\:\\:\\:\\:(\\forall i\\in W, \\forall l \\in S)\n",
    "  $$"
   ]
  },
  {
   "attachments": {},
   "cell_type": "markdown",
   "metadata": {},
   "source": [
    "<a id=\"3-data\"></a>\n",
    "### **3.2\\. データ作成**\n",
    "\n",
    "それでは、実際に割り当て問題を実行するための条件設定を行います。例として、従業員数5名、店舗数2のデータを下記に作成します。  "
   ]
  },
  {
   "cell_type": "code",
   "execution_count": null,
   "metadata": {},
   "outputs": [],
   "source": [
    "# 各店舗の要求人数情報の設定\n",
    "dict_req = dict(\n",
    "    location=[\"tenjin\", \"hakata\"],  # 店舗名\n",
    "    nun_managers=[1, 1],  # 各店舗の店長役職を有する要求従業員数\n",
    "    num_submanagers=[0, 1],  # 各店舗の副店長役職を有する要求従業員数\n",
    "    filleting=[1, 1],  # 「捌き」調理スキル量\n",
    "    nigiri=[1, 2],  # 「握り」調理スキル量\n",
    "    soup=[2, 2],  # 「汁物」調理スキル量\n",
    "    a_la_carte=[2, 2],  # 「一品」調理スキル量\n",
    "    num_floor_staffs=[1, 1],  # ホールスタッフ\n",
    ")\n",
    "df_req = pd.DataFrame.from_dict(dict_req, orient=\"index\").T\n",
    "\n",
    "# 各従業員の勤務店舗希望情報の設定\n",
    "dict_worker_loc = dict(\n",
    "    worker_id=[0, 1, 2, 50, 43],  # 従業員の ID\n",
    "    tenjin=[2, 1, 1, 1, 1],  # 各従業員の tenjin 店舗で働きたい希望度\n",
    "    hakata=[1, 2, 1, 1, 1],  # 各従業員の hakata 店舗で働きたい希望度\n",
    ")\n",
    "df_worker_loc = pd.DataFrame.from_dict(dict_worker_loc, orient=\"index\").T\n",
    "\n",
    "# 各従業員の役職資格、スキル情報の設定\n",
    "dict_worker_skill = dict(\n",
    "    worker_id=[0, 1, 2, 50, 43],  # 従業員の ID\n",
    "    manager=[1, 1, 0, 0, 0],  # 店長の資格がある 1 か否 0 か\n",
    "    submanager=[1, 1, 0, 1, 1],  # 副店長の資格がある 1 か否 0 か\n",
    "    staff=[1, 1, 1, 1, 1],  # 役職無し従業員の資格がある 1 か否 0 か\n",
    "    filleting=[2, 2, 0, 1, 1],  # 捌き調理スキルのスキル量\n",
    "    nigiri=[2, 2, 0, 2, 2],  # 握り調理スキルのスキル量\n",
    "    soup=[2, 2, 0, 0, 0],  # 汁物調理スキルのスキル量\n",
    "    a_la_carte=[2, 2, 0, 1, 1],  # 一品調理スキルのスキル量\n",
    ")\n",
    "df_worker_skill = pd.DataFrame.from_dict(dict_worker_skill, orient=\"index\").T"
   ]
  },
  {
   "attachments": {},
   "cell_type": "markdown",
   "metadata": {},
   "source": [
    "各店舗が要求する店長、副店長人数と、要求調理スキル量、ホール担当人数が `df_req` に格納されています。"
   ]
  },
  {
   "cell_type": "code",
   "execution_count": null,
   "metadata": {},
   "outputs": [],
   "source": [
    "print(\"店舗ごとの役職別の要求人数\")\n",
    "display(df_req)"
   ]
  },
  {
   "attachments": {},
   "cell_type": "markdown",
   "metadata": {},
   "source": [
    "各従業員の各店舗に対する勤務希望度は `df_worker_loc` に格納されています。"
   ]
  },
  {
   "cell_type": "code",
   "execution_count": null,
   "metadata": {},
   "outputs": [],
   "source": [
    "print(\"従業員ごとの各店舗に対する勤務希望度\")\n",
    "display(df_worker_loc)"
   ]
  },
  {
   "attachments": {},
   "cell_type": "markdown",
   "metadata": {},
   "source": [
    "`df_worker_skill` には、各従業員の役職資格及び調理スキル情報を格納しています。`manager` と `submanager` については、もし値が $1$ ならその役職が担当可能であることを表します。一方、`filleting`, `nigiri`, `soup`, `a_la_carte` についてはそれぞれの調理スキルレベルを表します。全ての調理スキル量が $0$ の場合はキッチン担当ができない（ホール専任）従業員であることを表します。"
   ]
  },
  {
   "cell_type": "code",
   "execution_count": null,
   "metadata": {},
   "outputs": [],
   "source": [
    "print(\"従業員ごとの役職別のスキル情報\")\n",
    "display(df_worker_skill)"
   ]
  },
  {
   "attachments": {},
   "cell_type": "markdown",
   "metadata": {},
   "source": [
    "次のように従業員 ID、店舗名、役職名、役割名、調理スキル名とインデックスの対応関係を設定します。"
   ]
  },
  {
   "cell_type": "code",
   "execution_count": null,
   "metadata": {},
   "outputs": [],
   "source": [
    "# 従業員 ID、店舗名、役職名、役割名、調理スキル名の取得\n",
    "workers = df_worker_loc[\"worker_id\"].values\n",
    "locations = df_req[\"location\"].values\n",
    "roles = [\"manager\", \"submanager\", \"staff\"]\n",
    "# 役割名\n",
    "assigns = [\"floor\", \"kitchen\"]\n",
    "# 調理スキル名\n",
    "skills = [\"filleting\", \"nigiri\", \"soup\", \"a_la_carte\"]\n",
    "\n",
    "# 店舗インデックスと店舗名をそれぞれkeyとvalueとする辞書の作成\n",
    "idx2loc = dict((i, v) for i, v in enumerate(locations))\n",
    "# 店舗名とそのインデックスをそれぞれkeyとvalueとする辞書の作成\n",
    "loc2idx = dict((v, i) for i, v in enumerate(locations))\n",
    "# 役職インデックスと役職名をそれぞれkeyとvalueとする辞書の作成\n",
    "idx2role = dict((i, v) for i, v in enumerate(roles))\n",
    "# 役職名とそのインデックスをそれぞれkeyとvalueとする辞書の作成\n",
    "role2idx = dict((v, i) for i, v in enumerate(roles))\n",
    "# 調理スキルインデックスと調理スキル名をそれぞれkeyとvalueとする辞書の作成\n",
    "idx2skill = dict((i, v) for i, v in enumerate(skills))\n",
    "# 調理スキル名とそのインデックスをそれぞれkeyとvalueとする辞書の作成\n",
    "skill2idx = dict((v, i) for i, v in enumerate(skills))\n",
    "\n",
    "# 各データサイズを取得\n",
    "num_workers = len(workers)\n",
    "num_locations = len(locations)\n",
    "num_roles = len(roles)\n",
    "num_assigns = len(assigns)\n",
    "num_skills = len(skills)"
   ]
  },
  {
   "attachments": {},
   "cell_type": "markdown",
   "metadata": {},
   "source": [
    "<a id=\"3-implementation\"></a>\n",
    "### **3.3\\. Amplify による実装**\n",
    "\n",
    "それでは Amplify を用いて実装します。\n",
    "\n",
    "最初に変数 $M$ を表す `role_variables` と変数 $P$ を表す `assign_variables` を `VariableGenerator` で作成します。それぞれ、「従業員数×役職数×店舗数」及び「従業員数×役割数×店舗数」、の3次元配列です。"
   ]
  },
  {
   "cell_type": "code",
   "execution_count": null,
   "metadata": {},
   "outputs": [],
   "source": [
    "# 従業員iが役職jで店舗lに勤務することを表す決定変数\n",
    "gen = VariableGenerator()\n",
    "role_variables = gen.array(\"Binary\", num_workers, num_roles, num_locations)\n",
    "\n",
    "# 従業員iが役割hで店舗lに勤務することを表す決定変数\n",
    "assign_variables = gen.array(\"Binary\", num_workers, num_assigns, num_locations)"
   ]
  },
  {
   "attachments": {},
   "cell_type": "markdown",
   "metadata": {},
   "source": [
    "これまでと同様に、勤務できない店舗や役職に関しては事前に変数の値を代入しておきます。"
   ]
  },
  {
   "cell_type": "code",
   "execution_count": null,
   "metadata": {},
   "outputs": [],
   "source": [
    "for i, l in product(range(num_workers), locations):\n",
    "    worker_req = df_worker_loc.iloc[i][l]\n",
    "    if worker_req == 0:\n",
    "        # 全ての役職で店舗割当が不可\n",
    "        role_variables[i, :, loc2idx[l]] = 0\n",
    "        # 全ての役割で店舗割当が不可\n",
    "        assign_variables[i, :, loc2idx[l]] = 0\n",
    "\n",
    "for i, j in product(range(num_workers), roles):\n",
    "    worker_skill = df_worker_skill.iloc[i][j]\n",
    "    if worker_skill == 0:\n",
    "        # 全ての店舗で役職が不可\n",
    "        role_variables[i, role2idx[j], :] = 0\n",
    "\n",
    "for i in range(num_workers):\n",
    "    if all(df_worker_skill.iloc[i][k] == 0 for k in skills):\n",
    "        # 全ての店舗で役割(キッチン担当)が不可\n",
    "        assign_variables[i, 1, :] = 0\n",
    "\n",
    "\n",
    "# 勤務不可店舗・役職に関する変数が0に固定されている\n",
    "print(role_variables)\n",
    "# 担当不可役店舗・役割に関する変数が0に固定されている\n",
    "print(assign_variables)"
   ]
  },
  {
   "attachments": {},
   "cell_type": "markdown",
   "metadata": {},
   "source": [
    "変数 $L$ を表す `location_variables` については、決定変数 $P$ と$L$ の関係から次のようにして得られます ([3.1\\. 定式化](#3-formulation) 参照)。"
   ]
  },
  {
   "cell_type": "code",
   "execution_count": null,
   "metadata": {},
   "outputs": [],
   "source": [
    "location_variables = assign_variables.sum(axis=1)\n",
    "display(location_variables)"
   ]
  },
  {
   "attachments": {},
   "cell_type": "markdown",
   "metadata": {},
   "source": [
    "次に、各店舗、各調理スキルに対する充足率 $w_{k,l}$ を計算します。充足率 $w_{k,l}$ は、[3.1\\. 定式化](#3-formulation) での説明の通り、次のように表されます。\n",
    "\n",
    "$$\n",
    "\\begin{align*}\n",
    "    w_{k,l} = \\frac{1}{t_{k,l}}  \\displaystyle \\sum_{i\\in W} s_{i,k} P_{i,1,l}\n",
    "\\end{align*}\n",
    "$$\n",
    "\n",
    "また、ここでリスト形式の `w_kl` を `amplify.PolyArray` にキャストしておくと、以降、`w_kl.sum()` や `w_kl.size`, `w_kl * w_kl` などが使えて便利です。"
   ]
  },
  {
   "cell_type": "code",
   "execution_count": null,
   "metadata": {},
   "outputs": [],
   "source": [
    "from amplify import PolyArray\n",
    "\n",
    "# 各店舗、各調理スキルに対する充足率 w_kl の計算\n",
    "w_kl = PolyArray(\n",
    "    [\n",
    "        sum(\n",
    "            df_worker_skill[idx2skill[k]] * assign_variables[:, 1, l],\n",
    "        )\n",
    "        / df_req[idx2skill[k]][l]\n",
    "        for k in range(num_skills)\n",
    "        for l in range(num_locations)\n",
    "    ]\n",
    ")"
   ]
  },
  {
   "attachments": {},
   "cell_type": "markdown",
   "metadata": {},
   "source": [
    "次に、[3.1\\. 定式化](#3-formulation) での導入した目的関数の各項目を計算します。最大化する関数についてはその負値を考慮することで最小化問題に変換します。\n",
    "\n",
    "- **充足率の平均の最大化**\n",
    "\n",
    "  → 充足率 $w_l$ 平均の負値の最小化に変換\n",
    "\n",
    "  $$\n",
    "  \\begin{matrix}\n",
    "    {\\rm minimize} & -\\langle w_{k,l} \\rangle\n",
    "  \\end{matrix}\n",
    "  $$\n",
    "\n",
    "- **充足率の分散の最小化**\n",
    "\n",
    "  $$\n",
    "  \\begin{matrix}\n",
    "    {\\rm minimize} & \\langle w_{k,l}^2 \\rangle - \\langle w_{k,l} \\rangle^2\n",
    "  \\end{matrix}\n",
    "  $$\n",
    "\n",
    "- **割当先店舗 $l$ に対する全従業員の勤務希望度 $c_{i,l}$ の最大化**  \n",
    "\n",
    "  → 割当先店舗 $l$ に対する全従業員の勤務希望度 $c_{i,l}$ の負値の最小化に変換\n",
    "\n",
    "  $$\n",
    "  \\begin{matrix}\n",
    "    {\\rm minimize}& \\displaystyle -\\sum_{i\\in W}\\sum_{l\\in S}c_{i,l}L_{i,l}\n",
    "  \\end{matrix}\n",
    "  $$"
   ]
  },
  {
   "cell_type": "code",
   "execution_count": null,
   "metadata": {},
   "outputs": [],
   "source": [
    "# 充足率の平均の最大化（充足率の負値を最小化）\n",
    "average_fill_rate_cost = -((w_kl.sum() / w_kl.size) ** 2)\n",
    "\n",
    "# 充足率分散の最小化\n",
    "variance_fill_rate_cost = (w_kl * w_kl).sum() / w_kl.size - (\n",
    "    w_kl.sum() / w_kl.size\n",
    ") ** 2\n",
    "\n",
    "# 従業員の希望度最大化（従業員の希望度の負値を最小化）\n",
    "location_cost = -sum(\n",
    "    num_workers,\n",
    "    lambda i: sum(\n",
    "        num_locations,\n",
    "        lambda l: df_worker_loc.loc[i][idx2loc[l]] * location_variables[i, l],\n",
    "    ),\n",
    ")"
   ]
  },
  {
   "attachments": {},
   "cell_type": "markdown",
   "metadata": {},
   "source": [
    "最後に、[3.1\\. 定式化](#3-formulation) で定義した次の制約条件を実装します。\n",
    "\n",
    "> - **ある従業員$i$は同時に1店舗にのみ割り当てられる**\n",
    "> \n",
    ">   $$\n",
    ">   \\begin{align*}\n",
    ">     \\forall i\\in W, \\sum_{l \\in S}L_{i,l} = 1\n",
    ">   \\end{align*}\n",
    ">   $$\n",
    "> \n",
    "> - **各店舗 $l$ が要求する人数に等しい役職有り従業員 $j \\in \\left\\{0, 1 \\right\\}$ が割り当てられる**\n",
    "> \n",
    ">   $$\n",
    ">     \\forall l \\in S, \\forall j \\in \\left\\{0, 1 \\right\\}, \\sum_{i\\in W}M_{i,j,l} = r_{j,l}\n",
    ">   $$\n",
    "> \n",
    "> - **各店舗 $l$ が要求する人数に等しいホール担当 $h=0$ の従業員が割り当てられる**\n",
    "> \n",
    ">   $$\n",
    ">   \\begin{align*}\n",
    ">     \\forall l \\in S, \\sum_{i\\in W} P_{i,0,l} = r_{l}\n",
    ">   \\end{align*}\n",
    ">   $$\n",
    "> \n",
    "> - **決定変数 $P$ と $M$ を関連付ける制約条件**\n",
    "> \n",
    ">   $$\n",
    ">     \\sum_{j \\in R} M_{i,j,l} = \\sum_{h \\in A} P_{i,h,l} \\:\\:\\:\\:(\\forall i\\in W, \\forall l \\in S)\n",
    ">   $$\n",
    "\n",
    "\n",
    "これらの制約は等式制約なので `one_hot` 又は `equal_to` を用います。"
   ]
  },
  {
   "cell_type": "code",
   "execution_count": null,
   "metadata": {},
   "outputs": [],
   "source": [
    "# ある従業員 i は同時に1店舗にのみ割り当てられる\n",
    "location_constarints = sum(one_hot(location_variables[i]) for i in range(num_workers))\n",
    "\n",
    "# 各店舗 l が要求する人数に等しい役職有り従業員 (j=0 or 1) が割り当てられる\n",
    "req_manager_constraints = sum(\n",
    "    equal_to(role_variables[:, 0, l], df_req[\"nun_managers\"][l])\n",
    "    for l in range(num_locations)\n",
    ")\n",
    "req_submanager_constraints = sum(\n",
    "    equal_to(role_variables[:, 1, l], df_req[\"num_submanagers\"][l])\n",
    "    for l in range(num_locations)\n",
    ")\n",
    "\n",
    "# 各店舗 l が要求する人数に等しいホール担当 (h=0) の従業員が割り当てられる\n",
    "req_hall_constraints = sum(\n",
    "    equal_to(assign_variables[:, 0, l], df_req[\"num_floor_staffs\"][l])\n",
    "    for l in range(num_locations)\n",
    ")\n",
    "\n",
    "# 決定変数 P と M を関連付ける制約条件\n",
    "role_assign_constraints = sum(\n",
    "    equal_to(\n",
    "        (role_variables.sum(axis=1))[i, l] - (assign_variables.sum(axis=1))[i, l], 0\n",
    "    )\n",
    "    for i in range(num_workers)\n",
    "    for l in range(num_locations)\n",
    ")"
   ]
  },
  {
   "attachments": {},
   "cell_type": "markdown",
   "metadata": {},
   "source": [
    "目的関数と制約式から最適化モデルを作成します。目的関数や制約条件に対して重みを設定する必要はありますが、基本的な考え方は、[1.3\\. Amplify による実装](#1-implementation) に説明した通りで、以下でも同様の重みを与えます。"
   ]
  },
  {
   "cell_type": "code",
   "execution_count": null,
   "metadata": {},
   "outputs": [],
   "source": [
    "# それぞれの目的関数の係数\n",
    "loc_priority = 1\n",
    "ave_fill_priority = 1\n",
    "var_fill_priority = 10\n",
    "\n",
    "# 目的関数\n",
    "cost_func = (\n",
    "    loc_priority * location_cost\n",
    "    + ave_fill_priority * average_fill_rate_cost\n",
    "    + var_fill_priority * variance_fill_rate_cost\n",
    ")\n",
    "\n",
    "# 制約条件を表すペナルティ関数の重み\n",
    "constraint_weight = 10\n",
    "\n",
    "# 制約条件\n",
    "constraints = constraint_weight * (\n",
    "    location_constarints\n",
    "    + req_manager_constraints\n",
    "    + req_submanager_constraints\n",
    "    + req_hall_constraints\n",
    "    + role_assign_constraints\n",
    ")\n",
    "\n",
    "# 目的関数と制約条件を足し合わせ、最適化対象のモデルを作成\n",
    "model = cost_func + constraints"
   ]
  },
  {
   "attachments": {},
   "cell_type": "markdown",
   "metadata": {},
   "source": [
    "以上で、ステップ3の定式化に関する実装は完了です。"
   ]
  },
  {
   "attachments": {},
   "cell_type": "markdown",
   "metadata": {},
   "source": [
    "<a id=\"3-solve\"></a>\n",
    "### **3.4\\. 求解** \n",
    "\n",
    "[ステップ1](#1-solve) で作成したソルバーに、最適化対象のモデルを渡し、求解します。求解後、決定変数行列 `location_variables`、`role_variables` 及び `assign_variables` に対応した形式で解を取得するため、`evaluate` メソッドを用いて解を取り出します。取得した解をそれぞれ `location_solutions`、`role_solutions` 及び `assign_solutions` とします。"
   ]
  },
  {
   "cell_type": "code",
   "execution_count": null,
   "metadata": {},
   "outputs": [],
   "source": [
    "# モデルをソルバーに渡して求解し、結果を取得\n",
    "result = solve(model, client)\n",
    "\n",
    "# 制約条件を満たす解が得られなかった場合は、RuntimeError を出す（重みなどを調整し、再求解）。\n",
    "if len(result) == 0:\n",
    "    raise RuntimeError(\"The given constraints are not satisfied\")\n",
    "values = result.best.values\n",
    "\n",
    "# 割り当て店舗に関する決定変数行列 `location_variables` に対応した形式で解を取り出し\n",
    "location_solutions = location_variables.evaluate(values)\n",
    "\n",
    "# 割当店舗と役職に関する決定変数行列 `role_variables` に対応した形式で解を取り出し\n",
    "role_solutions = role_variables.evaluate(values)\n",
    "\n",
    "# 割当店舗と役割に関する決定変数行列 `assign_variables` に対応した形式で解を取り出し\n",
    "assign_solutions = assign_variables.evaluate(values)"
   ]
  },
  {
   "attachments": {},
   "cell_type": "markdown",
   "metadata": {},
   "source": [
    "### 結果の確認\n",
    "\n",
    "結果から従業員がそれぞれがどこの店舗で勤務を行うのかを出力します。 変数 `role_solutions` において、`role_solutions[i][j][l] = 1` であれば、従業員 $i$ は役職 $j$ として店舗 $l$ で勤務することを表します。したがって、解が$1$であるインデックスを取り出すことで、どの従業員がどの役職、店舗で勤務するのかを取得できます。"
   ]
  },
  {
   "cell_type": "code",
   "execution_count": null,
   "metadata": {},
   "outputs": [],
   "source": [
    "import numpy as np\n",
    "from collections import defaultdict\n",
    "\n",
    "(role_index_list, loc_index_list) = np.where(np.array(role_solutions) == 1)[1:]\n",
    "dict_df = defaultdict(list)\n",
    "\n",
    "for i, (j, l) in enumerate(zip(role_index_list, loc_index_list)):\n",
    "    ## 配属勤務地\n",
    "    worker_id = df_worker_loc.loc[i][\"worker_id\"]\n",
    "    role = roles[j]\n",
    "    loc = locations[l]\n",
    "    dict_df[\"worker_id\"].append(worker_id)\n",
    "    dict_df[\"role\"].append(role)\n",
    "    dict_df[\"location\"].append(loc)\n",
    "\n",
    "df_result = pd.DataFrame.from_dict(dict_df, orient=\"index\").T\n",
    "\n",
    "print(\"従業員ごとの店舗と役職の割当て\")\n",
    "display(df_result)"
   ]
  },
  {
   "attachments": {},
   "cell_type": "markdown",
   "metadata": {},
   "source": [
    "次に、店舗ごとに要求スキル量がどの程度満たされているかを出力します。`hall` または `kitchen`のどちらに割り当てられたのかを`assign_solutions` の結果から取り出し、`kitchen` の場合には、その従業員が割り当てられている店舗の調理スキル量に従業員の調理スキル量それぞれを加算していきます。調理スキルに加えて、ホール担当の従業員数についても充足率計算のために加算します。\n",
    "\n",
    "表の各セルにおいて、**合計量 / 要求量** で算出した充足率 (fill rate) を出力しています。"
   ]
  },
  {
   "cell_type": "code",
   "execution_count": null,
   "metadata": {},
   "outputs": [],
   "source": [
    "(assign_list, loc_index_list) = np.where(np.array(assign_solutions) == 1)[1:]\n",
    "\n",
    "dict_result_loc = defaultdict(lambda: defaultdict(int))\n",
    "\n",
    "for i, (j, l) in enumerate(zip(assign_list, loc_index_list)):\n",
    "    assign = assigns[j]\n",
    "    worker_id = df_worker_loc.loc[i][\"worker_id\"]\n",
    "    loc = locations[l]\n",
    "    if assign == \"kitchen\":\n",
    "        # kitchenならば、すべての調理スキルの足し算を行う。\n",
    "        for skill in skills:\n",
    "            dict_result_loc[loc][skill] += df_worker_skill.loc[i][skill]\n",
    "    else:\n",
    "        # ホールスタッフとして割り当てられた従業員数もカウント\n",
    "        dict_result_loc[loc][\"floor\"] += 1\n",
    "\n",
    "df_result_loc = pd.DataFrame.from_dict(dict_result_loc, orient=\"index\")\n",
    "\n",
    "dict_result = defaultdict(defaultdict)\n",
    "\n",
    "for i in range(len(df_result_loc)):\n",
    "    loc = df_result_loc.iloc[i].name\n",
    "    # すべての調理スキルに対して充足率を計算\n",
    "    for skill in skills:\n",
    "        require_num_skill = df_req[df_req[\"location\"] == loc][skill].item()\n",
    "        satisfy_num_skill = df_result_loc.iloc[i][skill].item()\n",
    "        dict_result[loc][\n",
    "            f\"{skill} (fill rate)\"\n",
    "        ] = f\"{satisfy_num_skill/require_num_skill}\"\n",
    "    # ホールスタッフの従業員数の充足率を計算\n",
    "    require_num_skill = df_req[df_req[\"location\"] == loc][\"num_floor_staffs\"].item()\n",
    "    satisfy_num_skill = df_result_loc.iloc[i][\"floor\"].item()\n",
    "    dict_result[loc][\n",
    "        \"floor staffs (fill rate)\"\n",
    "    ] = f\"{satisfy_num_skill/require_num_skill}\"\n",
    "\n",
    "df_result_skills = pd.DataFrame.from_dict(dict_result, orient=\"index\")\n",
    "\n",
    "print(\"店舗ごとの要求スキル量に対する充足率\")\n",
    "display(df_result_skills)"
   ]
  },
  {
   "attachments": {},
   "cell_type": "markdown",
   "metadata": {},
   "source": [
    "各店舗で要求されたスキル量及びホール担当の従業員数が満たされていることがわかります。\n",
    "\n",
    "また、各店舗の役職毎に、要求人数を満たしているか確認します。各役職に対する充足率も計算します。ここで、表のセルの成分が `N/A` となっている箇所は、その店舗におけるその役職の要求人数が0人であることを表します。"
   ]
  },
  {
   "cell_type": "code",
   "execution_count": null,
   "metadata": {},
   "outputs": [],
   "source": [
    "dict_result_alloc = defaultdict(lambda: defaultdict(int))\n",
    "for loc, role in product(locations, roles):\n",
    "    dict_result_alloc[loc][role] = 0\n",
    "\n",
    "for i in range(len(df_result)):\n",
    "    data = df_result.loc[i]\n",
    "    role = data[\"role\"]\n",
    "    location = data[\"location\"]\n",
    "    dict_result_alloc[location][role] += 1\n",
    "\n",
    "df_result_alloc = pd.DataFrame.from_dict(dict_result_alloc, orient=\"index\")\n",
    "\n",
    "print(\"店舗ごとの役職別の割り当て人数\")\n",
    "display(df_result_alloc)"
   ]
  },
  {
   "cell_type": "code",
   "execution_count": null,
   "metadata": {},
   "outputs": [],
   "source": [
    "# 各店舗の要求人数情報のラベル ['num_managers' 'num_submanagers']\n",
    "num_roles_labels = df_req.columns.values[1:num_roles]\n",
    "\n",
    "dict_result_fill_rate = defaultdict(defaultdict)\n",
    "# 各店舗ごとに充足率を計算\n",
    "for l in range(len(df_result_alloc)):\n",
    "    data = df_result_alloc.iloc[l]  # 店舗 l の df_result_alloc\n",
    "    loc = data.name  # 店舗名\n",
    "    # 各役職ごとに充足率を計算。\n",
    "    for j in range(len(roles) - 1):\n",
    "        # 各店舗・各役職ごとの要求従業員数\n",
    "        num_required = df_req[df_req[\"location\"] == loc][num_roles_labels[j]].item()\n",
    "        # 各店舗・各役職ごとの割り当て従業員数\n",
    "        num_allocated = data[roles[j]].item()\n",
    "        # 充足率を計算。要求従業員数がゼロの場合、N/Aを代入\n",
    "        if num_required > 0:\n",
    "            dict_result_fill_rate[loc][f\"{roles[j]} (fill rate)\"] = (\n",
    "                num_allocated / num_required\n",
    "            )\n",
    "        else:\n",
    "            dict_result_fill_rate[loc][f\"{roles[j]} (fill rate)\"] = \"N/A\"\n",
    "\n",
    "df_result_fill_rate = pd.DataFrame.from_dict(dict_result_fill_rate, orient=\"index\")\n",
    "\n",
    "print(\"店舗ごとの役職別の充足率\")\n",
    "display(df_result_fill_rate)"
   ]
  },
  {
   "attachments": {},
   "cell_type": "markdown",
   "metadata": {},
   "source": [
    "全店舗において、要求された役職有り従業員が必要人数割り当てされたということが分かります。"
   ]
  }
 ],
 "metadata": {
  "language_info": {
   "name": "python",
   "pygments_lexer": "ipython3"
  }
 },
 "nbformat": 4,
 "nbformat_minor": 2
}
