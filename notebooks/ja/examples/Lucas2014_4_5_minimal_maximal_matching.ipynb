{
 "cells": [
  {
   "cell_type": "markdown",
   "id": "9bece066",
   "metadata": {},
   "source": [
    "# A. Lucas, Front. Phys. (2014) 掲載例題の実装と解説 ー 最小極大マッチング問題\n",
    "\n",
    "本サンプルコードでは、論文 [A. Lucas, Front. Phys. (2014)](https://www.frontiersin.org/articles/10.3389/fphy.2014.00005/full) で紹介されている『最小極大マッチング問題』に Fixstars Amplify を用いて取り組みます。同論文に紹介されている他の NP 完全・NP 困難な問題も以下で解説しています（カッコ内は論文内で問題に対応する節番号）。\n",
    "\n",
    "- [グラフの分割問題](https://amplify.fixstars.com/ja/demo/Lucas2014_2_2_graph_partitioning)（2.2節）\n",
    "- [最大クリーク問題](https://amplify.fixstars.com/ja/demo/Lucas2014_2_3_cliques)（2.3節）\n",
    "- [厳密被覆問題](https://amplify.fixstars.com/ja/demo/Lucas2014_4_1_exact_cover)（4.1節）\n",
    "- [集合パッキング問題](https://amplify.fixstars.com/ja/demo/Lucas2014_4_2_set_packing)（4.2節）\n",
    "- [頂点被覆問題](https://amplify.fixstars.com/ja/demo/Lucas2014_4_3_vertex_cover)（4.3節）\n",
    "- [充足可能性問題（SAT）](https://amplify.fixstars.com/ja/demo/Lucas2014_4_4_satisfiability)（4.4節）\n",
    "- 最小極大マッチング問題（4.5節）\n",
    "- [グラフ彩色問題](https://amplify.fixstars.com/ja/demo/Lucas2014_6_1_graph_coloring)（6.1節）\n",
    "- [クリーク被覆問題](https://amplify.fixstars.com/ja/demo/Lucas2014_6_2_clique_cover)（6.2節）\n",
    "- [整数長ジョブスケジューリング問題](https://amplify.fixstars.com/ja/demo/Lucas2014_6_3_job_sequencing_with_integer_lengths)（6.3節）\n",
    "- [ハミルトン閉路問題](https://amplify.fixstars.com/ja/demo/Lucas2014_7_1_hamiltonian_cycles_and_paths)（7.1節）\n",
    "- [有向帰還頂点集合問題](https://amplify.fixstars.com/ja/demo/Lucas2014_8_3_directed_feedback_vertex_set)（8.3節）\n",
    "- [最小帰還辺集合問題](https://amplify.fixstars.com/ja/demo/Lucas2014_8_5_feedback_edge_set)（8.5節）\n",
    "- [グラフ同型性判定問題](https://amplify.fixstars.com/ja/demo/Lucas2014_9_graph_isomorphisms)（9節）"
   ]
  },
  {
   "cell_type": "markdown",
   "id": "d39c51a2",
   "metadata": {},
   "source": [
    "## 最小極大マッチング問題\n",
    "\n",
    "グラフ $G$ に対して、$G$ の辺の部分集合 $D$ が以下をみたすとき、$D$ を **極大マッチング** といいます。\n",
    "\n",
    "* $D$ に含まれる辺同士は、隣接しない。\n",
    "* $D$ に含まれない辺は、 必ず $D$ のいずれかの辺と隣接している。\n",
    "\n",
    "たとえば、以下の図のオレンジ色の辺は、極大マッチングとなっています。オレンジ色の辺同士がつながっていないことと、黒い辺を 1 本でもオレンジ色に塗ったとするとオレンジ色の辺がつながってしまい、極大マッチングではなくなることを確認してください。\n",
    "\n",
    "![図](../figures/Lucas2014/maximal_matching0.png)\n",
    "\n",
    "最小極大マッチング問題は、与えられたグラフに対して、そのグラフの極大マッチングのうち要素数が最小となるものを求める問題です。\n",
    "\n",
    "本サンプルプログラムでは、Fixstars Amplify を用いて最小極大マッチングを求めるプログラムを作成します。定式化は [A. Lucas, Front. Phys. (2014)](https://www.frontiersin.org/articles/10.3389/fphy.2014.00005/full) の 4.5 節のものに沿って行います。"
   ]
  },
  {
   "cell_type": "markdown",
   "id": "31f28f5e",
   "metadata": {},
   "source": [
    "## 問題の作成\n",
    "\n",
    "まず、問題として、NetworkX を用いて適当なグラフ $G$ を作成します。"
   ]
  },
  {
   "cell_type": "code",
   "execution_count": null,
   "id": "ce4aeaec",
   "metadata": {},
   "outputs": [],
   "source": [
    "from matplotlib import pyplot as plt\n",
    "import networkx as nx\n",
    "import numpy as np\n",
    "\n",
    "N = 6  # グラフの頂点の数\n",
    "\n",
    "G = nx.Graph()\n",
    "G.add_nodes_from(range(N))\n",
    "elist = [(0, 1), (0, 5), (1, 2), (1, 5), (2, 3), (2, 4), (3, 4), (4, 5)]  # 頂点と頂点を結ぶ辺の定義\n",
    "G.add_edges_from(elist)\n",
    "\n",
    "pos = nx.circular_layout(G)\n",
    "\n",
    "nx.draw_networkx(G, node_size=600, font_color=\"w\", pos=pos)"
   ]
  },
  {
   "cell_type": "markdown",
   "id": "2da7c02d",
   "metadata": {},
   "source": [
    "## 定式化\n",
    "\n",
    "以下、$G$ の頂点の数を $N$、辺の数を $M$ とします。\n",
    "\n",
    "### 決定変数\n",
    "\n",
    "$M$ 個のバイナリ変数 $q$ を $G$ の各辺と対応付けて、それぞれの辺が極大マッチング $D$ に含まれるかどうかを表すことにします。\n",
    "$D$ に含まれるなら $1$, 含まれないなら $0$ です。\n",
    "\n",
    "たとえば、以下のような極大マッチングに対しては、バイナリ変数 $q$ は下の表のようになります。\n",
    "\n",
    "![図](../figures/Lucas2014/maximal_matching1.png)\n",
    "\n",
    "| 辺 $(u, v)$ | $(0, 1)$ | $(0, 5)$ | $(1, 2)$ | $(1, 5)$ | $(2, 3)$ | $(2, 4)$ | $(3, 4)$ | $(4, 5)$ |\n",
    "| ----- | ----- | ----- | ----- | ----- | ----- | ----- | ----- | ----- |\n",
    "| $q$ | 0 | 0 | 0 | 1 | 0| 1 | 0 | 0 |\n",
    "\n",
    "### 目的関数\n",
    "\n",
    "$D$ の要素数ができるだけ小さくなるようにすればよいので、$ \\displaystyle \\sum_{i = 0}^{M - 1} q_i$ を最小化します。\n",
    "\n",
    "### 制約条件\n",
    "\n",
    "先の説明の通り、$D$ が極大マッチングであるとは、以下が満たされている、ということです。\n",
    "\n",
    "* 条件 1 ： $D$ に含まれる辺同士は隣接しない。\n",
    "* 条件 2 ： $D$ に含まれない辺は、必ず $D$ のいずれかの辺と隣接している。\n",
    "\n",
    "これらの条件を言い換えて $q$ で表すことを考えます。\n",
    "\n",
    "まず、条件 1 は「隣接する $2$ 本の辺がともに $D$ に含まれることはない」と言い換えられます。これは、\n",
    "\n",
    "$$\n",
    "q_{v, u} q_{v, w} = 0 \\quad \\text{for} \\quad (v, u), (v, w) \\in E\n",
    "$$\n",
    "\n",
    "と表すことができます。ただし、辺 $(u, v)$ に対応するバイナリ変数配列 $q$ の要素を $q_{u, v}$ と書いています。また、$E$ は $G$ の辺集合を表します。\n",
    "\n",
    "次に、条件 2 は、「$G$ のすべての辺は、必ず $D$ のいずれかの辺と隣接している」と言い換えられます。これをさらに、「$G$ のどの辺 $(u, v)$ に対しても、$u$ と $v$ のどちらかは $D$ のいずれかの辺の端点となっている」と言い換えます。ある頂点 $v$ が $D$ のいずれかの辺の端点となっているかどうかは、$v$ から出るすべての辺について、対応するバイナリ変数の総和が $1$ であるか $0$ であるかを見れば判定できるので、条件 2 は \n",
    "\n",
    "$$\n",
    "(1 - \\sum_{(v, x) \\in E} q_{v, x}) (1 - \\sum_{(u, y) \\in E} q_{u, y}) = 0 \\quad \\text{for} \\quad (u, v)\\in E\n",
    "$$\n",
    "\n",
    "で表すことができます。"
   ]
  },
  {
   "cell_type": "markdown",
   "id": "1f9561cf",
   "metadata": {},
   "source": [
    "## 実装\n",
    "\n",
    "上で作成した問題と定式化を使って、実際に問題を解いてみましょう。最初に、Fixstars Amplify SDK の `BinarySymbolGenerator` を使って $M$ 個のバイナリ変数 $q$ を作成します。"
   ]
  },
  {
   "cell_type": "code",
   "execution_count": null,
   "id": "c0c68e8c",
   "metadata": {},
   "outputs": [],
   "source": [
    "from amplify import BinarySymbolGenerator\n",
    "\n",
    "M = len(G.edges)\n",
    "\n",
    "gen = BinarySymbolGenerator()\n",
    "q = gen.array(M)"
   ]
  },
  {
   "cell_type": "markdown",
   "id": "1b3a8152",
   "metadata": {},
   "source": [
    "目的関数を作成します。目的関数は、極大マッチング $D$ の要素数と等しく、$\\displaystyle \\sum_{i = 0}^{M - 1} q_i$ で表されるのでした。"
   ]
  },
  {
   "cell_type": "code",
   "execution_count": null,
   "id": "b2013791",
   "metadata": {},
   "outputs": [],
   "source": [
    "cost = q.sum()"
   ]
  },
  {
   "cell_type": "markdown",
   "id": "7130dca0",
   "metadata": {},
   "source": [
    "制約条件を作成する準備として、$G$ の各頂点 $v$ に対し、$v$ から出ている辺のインデックスのリストを返す関数を作っておきます。"
   ]
  },
  {
   "cell_type": "code",
   "execution_count": null,
   "id": "064d50dd",
   "metadata": {},
   "outputs": [],
   "source": [
    "def incident_edge_indices(v):\n",
    "    return [i for i, e in enumerate(G.edges) if v in e]"
   ]
  },
  {
   "cell_type": "markdown",
   "id": "dc6d5553",
   "metadata": {},
   "source": [
    "条件 1 に対応する制約条件を作成します。条件 1 は、極大マッチング $D$ に含まれる 2 辺が隣接しない、つまり、隣接する $2$ 本の辺がともに $D$ に含まれないことを意味し、$q_{v, u} q_{v, w} = 0 \\ \\bigl((v, u), (v, w) \\in E\\bigr)$ で表されます。"
   ]
  },
  {
   "cell_type": "code",
   "execution_count": null,
   "id": "de756b65",
   "metadata": {},
   "outputs": [],
   "source": [
    "from itertools import combinations\n",
    "from amplify.constraint import equal_to\n",
    "\n",
    "constraint1 = [\n",
    "    equal_to(q[i] * q[j], 0)\n",
    "    for v in G.nodes\n",
    "    for i, j in combinations(incident_edge_indices(v), 2)\n",
    "]"
   ]
  },
  {
   "cell_type": "markdown",
   "id": "7010621d",
   "metadata": {},
   "source": [
    "条件 2 に対応する制約条件を作成します。条件 2 は、すべての辺が $D$ のいずれかの辺と隣接していることを意味し、\n",
    "$\\displaystyle(1 - \\sum_{(v, x) \\in E} q_{v, x}) (1 - \\sum_{(u, y) \\in E} q_{u, y}) = 0 \\ \\bigl((u, v)\\in E\\bigr)$ で表されます。"
   ]
  },
  {
   "cell_type": "code",
   "execution_count": null,
   "id": "4128a776",
   "metadata": {},
   "outputs": [],
   "source": [
    "constraint2 = [\n",
    "    equal_to(\n",
    "        (1 - sum([q[i] for i in incident_edge_indices(u)]))\n",
    "        * (1 - sum([q[i] for i in incident_edge_indices(v)])),\n",
    "        0,\n",
    "    )\n",
    "    for (u, v) in G.edges\n",
    "]"
   ]
  },
  {
   "cell_type": "markdown",
   "id": "f72e668f",
   "metadata": {},
   "source": [
    "作成した目的関数と制約条件をまとめて、論理模型に変換します。\n",
    "\n",
    "今回は必要ありませんが、目的関数と制約条件の両方が存在する場合、通常、制約条件に重みを掛けた方がよい場合があります。これは、制約条件は目的関数に対するペナルティ関数としてイジングマシンに与えられるためです。基本的な考え方として、目的関数の取り得る値と同等の値またはそれより少々大きめの値を推定して決定します。"
   ]
  },
  {
   "cell_type": "code",
   "execution_count": null,
   "id": "e62be075",
   "metadata": {},
   "outputs": [],
   "source": [
    "from amplify import BinaryQuadraticModel\n",
    "\n",
    "model = BinaryQuadraticModel(cost + sum(constraint1) + sum(constraint2))"
   ]
  },
  {
   "cell_type": "markdown",
   "id": "2fb83b7e",
   "metadata": {},
   "source": [
    "クライアントを設定し、Fixstars Amplify Annealing Engine (AE) で実行します。`Solver` は制約条件をみたす解を自動でフィルターするので、`result` が空でなければ、制約条件をみたす解が見つかったと分かります。"
   ]
  },
  {
   "cell_type": "code",
   "execution_count": null,
   "id": "db24be79",
   "metadata": {},
   "outputs": [],
   "source": [
    "from amplify.client import FixstarsClient\n",
    "from amplify import Solver\n",
    "\n",
    "client = FixstarsClient()\n",
    "# client.token = \"xxxxxxxxxxxxxxxxxxxxxxxxxxxxxxxx\"  # ローカル環境等で使用する場合は、Fixstars Amplify AE のアクセストークンを入力してください。\n",
    "client.parameters.timeout = 1000\n",
    "\n",
    "# ソルバーを定義して実行\n",
    "solver = Solver(client)\n",
    "result = solver.solve(model)\n",
    "\n",
    "if len(result) == 0:\n",
    "    print(\"解が見つかりませんでした。\")\n",
    "else:\n",
    "    print(\"解が見つかりました。\")"
   ]
  },
  {
   "cell_type": "markdown",
   "id": "5d51e137",
   "metadata": {},
   "source": [
    "最後に、結果を可視化します。"
   ]
  },
  {
   "cell_type": "code",
   "execution_count": null,
   "id": "9c545f64",
   "metadata": {},
   "outputs": [],
   "source": [
    "values = q.decode(result[0].values)\n",
    "\n",
    "colors = [\"k\" if i == 0 else \"C1\" for i in values]\n",
    "width = [1.0 if i == 0 else 2.0 for i in values]\n",
    "\n",
    "nx.draw_networkx(\n",
    "    G, node_size=600, font_color=\"w\", edge_color=colors, width=width, pos=pos\n",
    ")"
   ]
  }
 ],
 "metadata": {
  "language_info": {
   "name": "python",
   "pygments_lexer": "ipython3"
  }
 },
 "nbformat": 4,
 "nbformat_minor": 5
}
