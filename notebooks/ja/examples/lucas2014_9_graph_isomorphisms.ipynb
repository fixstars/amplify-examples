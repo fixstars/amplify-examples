{
 "cells": [
  {
   "cell_type": "markdown",
   "id": "f134bea6",
   "metadata": {},
   "source": [
    "# A. Lucas, Front. Phys. (2014) 掲載例題の実装と解説 ー グラフ同型性判定問題\n",
    "\n",
    "本サンプルコードでは、論文 [A. Lucas, \"Ising formulations of many NP problems\", *Front. Phys.* (2014)](https://www.frontiersin.org/articles/10.3389/fphy.2014.00005/full) で紹介されている『グラフ同型性判定問題』に Fixstars Amplify を用いて取り組みます。同論文に紹介されている他の NP 完全・NP 困難な問題も以下で解説しています（カッコ内は論文内で問題に対応する節番号）。\n",
    "\n",
    "- [グラフの分割問題](https://amplify.fixstars.com/ja/demo/lucas2014_2_2_graph_partitioning)（2.2節）\n",
    "- [最大クリーク問題](https://amplify.fixstars.com/ja/demo/lucas2014_2_3_cliques)（2.3節）\n",
    "- [厳密被覆問題](https://amplify.fixstars.com/ja/demo/lucas2014_4_1_exact_cover)（4.1節）\n",
    "- [集合パッキング問題](https://amplify.fixstars.com/ja/demo/lucas2014_4_2_set_packing)（4.2節）\n",
    "- [頂点被覆問題](https://amplify.fixstars.com/ja/demo/lucas2014_4_3_vertex_cover)（4.3節）\n",
    "- [充足可能性問題（SAT）](https://amplify.fixstars.com/ja/demo/lucas2014_4_4_satisfiability)（4.4節）\n",
    "- [最小極大マッチング問題](https://amplify.fixstars.com/ja/demo/lucas2014_4_5_minimal_maximal_matching)（4.5節）\n",
    "- [グラフ彩色問題](https://amplify.fixstars.com/ja/demo/lucas2014_6_1_graph_coloring)（6.1節）\n",
    "- [クリーク被覆問題](https://amplify.fixstars.com/ja/demo/lucas2014_6_2_clique_cover)（6.2節）\n",
    "- [整数長ジョブスケジューリング問題](https://amplify.fixstars.com/ja/demo/lucas2014_6_3_job_sequencing_with_integer_lengths)（6.3節）\n",
    "- [ハミルトン閉路問題](https://amplify.fixstars.com/ja/demo/lucas2014_7_1_hamiltonian_cycles_and_paths)（7.1節）\n",
    "- [有向帰還頂点集合問題](https://amplify.fixstars.com/ja/demo/lucas2014_8_3_directed_feedback_vertex_set)（8.3節）\n",
    "- [最小帰還辺集合問題](https://amplify.fixstars.com/ja/demo/lucas2014_8_5_feedback_edge_set)（8.5節）\n",
    "- グラフ同型性判定問題（9節）"
   ]
  },
  {
   "cell_type": "markdown",
   "id": "49c39025",
   "metadata": {},
   "source": [
    "## グラフ同型性判定問題\n",
    "\n",
    "2 つの (単純) グラフが **同型** であるとは、それらの頂点同士の 1 対 1 対応 (同型写像) があって、片方のグラフの 2 つの頂点が辺で結ばれているならば、もう片方のグラフにおいてもそれらと対応する 2 つの頂点が辺で結ばれていることをいいます。\n",
    "別の言い方をすると、2 つのグラフを、それぞれ頂点をうまく並べて描画すると同じ絵になるとき、それらは同型となります。\n",
    "\n",
    "一般に、グラフのサイズが大きいとき、2 つのグラフが同型であるかどうかを現実的な時間で判定することは困難です。ここでは、Fixstars Amplify を用いて同型写像を探索するプログラムを作成します。本サンプルプログラムの定式化は [A. Lucas, Front. Phys. (2014)](https://www.frontiersin.org/articles/10.3389/fphy.2014.00005/full) の 9 節のものに沿って行います。"
   ]
  },
  {
   "cell_type": "markdown",
   "id": "3eab0fa2",
   "metadata": {},
   "source": [
    "## 問題の作成\n",
    "\n",
    "まず、NetworkX を用いて適当なグラフ $G_1$ と $G_2$ を作成します。このとき、 $G_1$ と $G_2$ が同型になるようにしておきます。"
   ]
  },
  {
   "cell_type": "code",
   "execution_count": null,
   "id": "d5e02c98",
   "metadata": {},
   "outputs": [],
   "source": [
    "import networkx as nx\n",
    "import numpy as np\n",
    "\n",
    "N = 5  # グラフの頂点の数\n",
    "\n",
    "G1 = nx.Graph()\n",
    "G1.add_nodes_from(range(N))\n",
    "elist1 = [(0, 1), (0, 4), (1, 2), (2, 3), (3, 4)]\n",
    "G1.add_edges_from(elist1)\n",
    "\n",
    "pos1 = nx.circular_layout(G1)\n",
    "\n",
    "nx.draw_networkx(G1, node_size=600, font_color=\"w\", pos=pos1)"
   ]
  },
  {
   "cell_type": "code",
   "execution_count": null,
   "id": "b3d2bca6",
   "metadata": {},
   "outputs": [],
   "source": [
    "G2 = nx.Graph()\n",
    "G2.add_nodes_from(range(N))\n",
    "elist2 = [(0, 2), (0, 3), (1, 3), (1, 4), (2, 4)]\n",
    "G2.add_edges_from(elist2)\n",
    "\n",
    "pos2 = nx.circular_layout(G2)\n",
    "\n",
    "nx.draw_networkx(G2, node_size=600, font_color=\"w\", pos=pos2)"
   ]
  },
  {
   "cell_type": "markdown",
   "id": "2eea7b7b",
   "metadata": {},
   "source": [
    "これらの 2 つのグラフをたとえば以下の図のように対応させると同型写像となります。片方のグラフにおいて、 色 A の頂点と色 B の頂点が辺で結ばれているとき、もう片方のグラフにおいても 色 A の頂点と色 B の頂点が辺で結ばれていることを確認してください（ここでは各頂点に記載の番号は無視してください）。\n",
    "\n",
    "![図](../figures/Lucas2014/graph_isomorphism0.png)"
   ]
  },
  {
   "cell_type": "markdown",
   "id": "059a6b2c",
   "metadata": {},
   "source": [
    "## 定式化\n",
    "\n",
    "$G_1$ と $G_2$ の頂点数が異なる場合は明らかに同型ではないので、以下 $G_1$ と $G_2$ の頂点数が同じ場合のみ考えます。$G_1$ の頂点数を $N$ とします。次のように定式化を行います。\n",
    "\n",
    "### 決定変数\n",
    "\n",
    "2 つのグラフの対応付けを表すために、$N\\times N$ のバイナリ変数テーブル $q$ を用意します。\n",
    "$G_1$ の $i$ 番目の頂点と $G_2$ の $j$ 番目の頂点が対応しているとき、$q$ の $i$ 行 $j$ 列が $1$ となるようにします。\n",
    "\n",
    "たとえば、上の図において、辺で結ばれている頂点の番号と色の対応を $G_1$, $G_2$ で比較すると、2 つのグラフは以下のように対応していました。\n",
    "\n",
    "| G1 の頂点 | G2 の頂点 |\n",
    "|:--------:|:--------:|\n",
    "| 0        | 0        |\n",
    "| 1        | 2        |\n",
    "| 2        | 4        |\n",
    "| 3        | 1        |\n",
    "| 4        | 3        |\n",
    "\n",
    "これをバイナリ変数 $q$ のテーブルで表すと、以下のようになります。\n",
    "\n",
    "| G1 \\ G2 | 0   | 1   | 2   | 3   | 4   |\n",
    "|:-------:| --- | --- | --- | --- | --- |\n",
    "| 0       | 1   | 0   | 0   | 0   | 0   |\n",
    "| 1       | 0   | 0   | 1   | 0   | 0   |\n",
    "| 2       | 0   | 0   | 0   | 0   | 1   |\n",
    "| 3       | 0   | 1   | 0   | 0   | 0   |\n",
    "| 4       | 0   | 0   | 0   | 1   | 0   |\n",
    "\n",
    "### 目的関数\n",
    "\n",
    "グラフ同型性判定問題は条件をみたすものを見つける問題なので、目的関数は $0$（無し）で良いです。\n",
    "\n",
    "### 制約条件\n",
    "\n",
    "$q$ が同型写像を表すためには、以下が必要です。\n",
    "\n",
    "* 条件 1： $G_1$ のそれぞれの頂点は、$G_2$ の頂点 $1$ つと対応している。つまり、$q$ の各行には $1$ つだけ $1$ がある。\n",
    "\n",
    "* 条件 2： $G_2$ のそれぞれの頂点は、$G_1$ の頂点 $1$ つと対応している。つまり、$q$ の各列には $1$ つだけ $1$ がある。\n",
    "\n",
    "* 条件 3： $G_1$ の頂点 $u$ と $v$ が辺で結ばれているならば、$u$, $v$ と対応する $G_2$ の $2$ つの頂点も辺で結ばれている。\n",
    "\n",
    "* 条件 4： $G_2$ の頂点 $s$ と $t$ が辺で結ばれているならば、$s$, $t$ と対応する $G_1$ の $2$ つの頂点も辺で結ばれている。\n",
    "\n",
    "条件 1 と条件 2 は、\n",
    "\n",
    "\\begin{align*}\n",
    "\\sum_{j = 0}^{N-1} q_{i, j} = 1 \\quad & \\text{for} \\quad i \\in \\{0, 1, \\ldots, N-1\\} \\\\\n",
    "\\sum_{i = 0}^{N-1} q_{i, j} = 1 \\quad & \\text{for} \\quad j \\in \\{0, 1, \\ldots, N-1\\}\n",
    "\\end{align*}\n",
    "\n",
    "で表せます。\n",
    "\n",
    "条件 3 は、「$G_1$ の頂点 $u$ と $v$ が辺で結ばれていて、$G_2$ の頂点 $s$ と $t$ が辺で結ばれていないとき、\n",
    "$u$ と $s$ 、$v$ と $t$ がそれぞれ対応していることがあってはならない」と言い換えられるので、\n",
    "\n",
    "$$\n",
    "q_{u, s} q_{v, t} = 0 \\quad \\text{for} \\quad (u\\rightarrow v) \\in E_1, (s\\rightarrow t) \\notin E_2\n",
    "$$\n",
    "\n",
    "で表すことができます。ここで、$E_1$, $E_2$ はそれぞれ $G_1$, $G_2$ の辺集合です。\n",
    "\n",
    "同様に、条件 4 は\n",
    "\n",
    "$$\n",
    "q_{u, s} q_{v, t} = 0 \\quad \\text{for} \\quad (u\\rightarrow v) \\notin E_1, (s\\rightarrow t) \\in E_2\n",
    "$$\n",
    "\n",
    "で表せます。\n",
    "\n",
    "逆に、条件 1-4 が成り立っていれば、グラフ $G_1$ と $G_2$ は同型となります。\n",
    "\n",
    "以上で、グラフ同型性判定問題の定式化ができました。"
   ]
  },
  {
   "cell_type": "markdown",
   "id": "ff0f3507",
   "metadata": {},
   "source": [
    "## 実装\n",
    "\n",
    "上で作成した問題と定式化を使って、実際に問題を解いてみましょう。まず、`BinarySymbolGenerator` によりバイナリ決定変数 $q$ を作成します。"
   ]
  },
  {
   "cell_type": "code",
   "execution_count": null,
   "id": "b1dc3d83",
   "metadata": {},
   "outputs": [],
   "source": [
    "from amplify import BinarySymbolGenerator\n",
    "\n",
    "gen = BinarySymbolGenerator()\n",
    "q = gen.array(N, N)"
   ]
  },
  {
   "cell_type": "markdown",
   "id": "b1fdf571",
   "metadata": {},
   "source": [
    "次に、条件 1 と 2 に対応する制約条件を作成します。これらは、$q$ のそれぞれの行と列にひとつだけ $1$ があるという条件でしたので、`one_hot` を使って書くことができます。"
   ]
  },
  {
   "cell_type": "code",
   "execution_count": null,
   "id": "6ab16a5a",
   "metadata": {},
   "outputs": [],
   "source": [
    "from amplify.constraint import one_hot\n",
    "\n",
    "constraint1 = [one_hot(q[i, :]) for i in range(N)]\n",
    "constraint2 = [one_hot(q[:, j]) for j in range(N)]"
   ]
  },
  {
   "cell_type": "markdown",
   "id": "4ffcac70",
   "metadata": {},
   "source": [
    "条件 3 と 4 に対応する制約条件を作成します。条件 3 は、$q_{u, s} q_{v, t} = 0 \\bigl((u\\rightarrow v) \\in E_1, (s\\rightarrow t) \\notin E_2 \\bigr)$ という制約で、条件 4 は条件 3 の $G_1$ と $G_2$ を入れ替えたものです。"
   ]
  },
  {
   "cell_type": "code",
   "execution_count": null,
   "id": "455e4e3c",
   "metadata": {},
   "outputs": [],
   "source": [
    "from amplify.constraint import equal_to\n",
    "\n",
    "G1_edges = list(G1.edges) + [(v, u) for (u, v) in G1.edges]  # u --> v に加え、v --> u の辺も考慮\n",
    "G1_not_edges = [(u, v) for u in range(N) for v in range(N) if (u, v) not in G1_edges]\n",
    "G2_edges = list(G2.edges) + [(t, s) for (s, t) in G2.edges]  # u --> v に加え、v --> u の辺も考慮\n",
    "G2_not_edges = [(s, t) for s in range(N) for t in range(N) if (s, t) not in G2_edges]\n",
    "\n",
    "constraint3 = [\n",
    "    equal_to(q[u, s] * q[v, t], 0) for (u, v) in G1_edges for (s, t) in G2_not_edges\n",
    "]\n",
    "constraint4 = [\n",
    "    equal_to(q[u, s] * q[v, t], 0) for (u, v) in G1_not_edges for (s, t) in G2_edges\n",
    "]"
   ]
  },
  {
   "cell_type": "markdown",
   "id": "7b90c6c1",
   "metadata": {},
   "source": [
    "作成した制約条件をまとめて、論理模型に変換します。`BinaryQuadraticModel` を用いて明示的に論理模型に変換しなくても、後述のソルバークラス `Solver` にて暗黙的に実施されますので、\n",
    "\n",
    "> ```python\n",
    "> model = sum(constraint1) + sum(constraint2) + sum(constraint3) + sum(constraint4)\n",
    "> ```\n",
    "\n",
    "としてもかまいません。ただし、明示的に論理模型に変換すると、求解前に論理模型の内部表現や内部状態の取得が可能です。"
   ]
  },
  {
   "cell_type": "code",
   "execution_count": null,
   "id": "4a828d5e",
   "metadata": {},
   "outputs": [],
   "source": [
    "from amplify import BinaryQuadraticModel\n",
    "\n",
    "model = BinaryQuadraticModel(\n",
    "    sum(constraint1) + sum(constraint2) + sum(constraint3) + sum(constraint4)\n",
    ")"
   ]
  },
  {
   "cell_type": "markdown",
   "id": "a4bd3bd3",
   "metadata": {},
   "source": [
    "クライアントを設定して、Amplify Annealing Engine で実行します。"
   ]
  },
  {
   "cell_type": "code",
   "execution_count": null,
   "id": "a5c916d3",
   "metadata": {},
   "outputs": [],
   "source": [
    "from amplify.client import FixstarsClient\n",
    "from amplify import Solver\n",
    "\n",
    "client = FixstarsClient()\n",
    "# client.token = \"xxxxxxxxxxxxxxxxxxxxxxxxxxxxxxxx\"  # ローカル環境等で使用する場合は、Fixstars Amplify AE のアクセストークンを入力してください。\n",
    "client.parameters.timeout = 1000\n",
    "\n",
    "# ソルバーを定義して実行\n",
    "solver = Solver(client)\n",
    "result = solver.solve(model)"
   ]
  },
  {
   "cell_type": "markdown",
   "id": "ec3dbb0a",
   "metadata": {},
   "source": [
    "同型写像が見つかったかどうかを確認します。Solver は制約条件をみたす解を自動でフィルターするので、`result` が空でなければ同型写像が見つかったと分かります。"
   ]
  },
  {
   "cell_type": "code",
   "execution_count": null,
   "id": "7f3d42cf",
   "metadata": {},
   "outputs": [],
   "source": [
    "if len(result) == 0:\n",
    "    print(\"同型写像が見つかりませんでした。\")\n",
    "else:\n",
    "    print(\"同型写像が見つかりました。\")"
   ]
  },
  {
   "cell_type": "markdown",
   "id": "0d2623c3",
   "metadata": {},
   "source": [
    "最後に、同型写像である 2 つのグラフの対応する頂点同士を同じ色で表示します。"
   ]
  },
  {
   "cell_type": "code",
   "execution_count": null,
   "id": "db79d372",
   "metadata": {},
   "outputs": [],
   "source": [
    "import matplotlib.pyplot as plt\n",
    "\n",
    "values = q.decode(result[0].values)\n",
    "\n",
    "# G1 の頂点 i と G2 の頂点 vertex_map[i] が対応する\n",
    "vertex_map = np.where(values == 1)[1]\n",
    "\n",
    "colors = np.array([f\"C{i}\" for i in range(N)])\n",
    "\n",
    "# G2 の i 番目の頂点を i 番目の色で塗ることにする\n",
    "colors2 = colors\n",
    "# G1 の i 番目の頂点は G2 の vertex_map[i] 番目の頂点と同じ色で塗る\n",
    "colors1 = colors[vertex_map]\n",
    "\n",
    "# 描画\n",
    "fig, ax = plt.subplots(nrows=1, ncols=2, figsize=(12, 4))\n",
    "\n",
    "nx.draw_networkx(\n",
    "    G1, node_size=600, node_color=colors1, font_color=\"w\", pos=pos1, ax=ax[0]\n",
    ")\n",
    "nx.draw_networkx(\n",
    "    G2, node_size=600, node_color=colors2, font_color=\"w\", pos=pos2, ax=ax[1]\n",
    ")"
   ]
  }
 ],
 "metadata": {
  "language_info": {
   "name": "python",
   "pygments_lexer": "ipython3"
  }
 },
 "nbformat": 4,
 "nbformat_minor": 5
}
