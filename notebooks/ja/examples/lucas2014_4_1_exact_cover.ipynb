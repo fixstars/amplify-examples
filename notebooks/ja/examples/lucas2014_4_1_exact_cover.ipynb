{
 "cells": [
  {
   "cell_type": "markdown",
   "id": "b279d3be",
   "metadata": {},
   "source": [
    "# A. Lucas, Front. Phys. (2014) 掲載例題の実装と解説 ー 厳密被覆問題\n",
    "\n",
    "本サンプルコードでは、論文 [A. Lucas, \"Ising formulations of many NP problems\", *Front. Phys.* (2014)](https://www.frontiersin.org/articles/10.3389/fphy.2014.00005/full) で紹介されている『厳密被覆問題』に Fixstars Amplify を用いて取り組みます。同論文に紹介されている他の NP 完全・NP 困難な問題も以下で解説しています（カッコ内は論文内で問題に対応する節番号）。\n",
    "\n",
    "- [グラフの分割問題](https://amplify.fixstars.com/ja/demo/lucas2014_2_2_graph_partitioning)（2.2節）\n",
    "- [最大クリーク問題](https://amplify.fixstars.com/ja/demo/lucas2014_2_3_cliques)（2.3節）\n",
    "- 厳密被覆問題（4.1節）\n",
    "- [集合パッキング問題](https://amplify.fixstars.com/ja/demo/lucas2014_4_2_set_packing)（4.2節）\n",
    "- [最小頂点被覆問題](https://amplify.fixstars.com/ja/demo/lucas2014_4_3_vertex_cover)（4.3節）\n",
    "- [充足可能性問題（SAT）](https://amplify.fixstars.com/ja/demo/lucas2014_4_4_satisfiability)（4.4節）\n",
    "- [最小極大マッチング問題](https://amplify.fixstars.com/ja/demo/lucas2014_4_5_minimal_maximal_matching)（4.5節）\n",
    "- [グラフ彩色問題](https://amplify.fixstars.com/ja/demo/lucas2014_6_1_graph_coloring)（6.1節）\n",
    "- [クリーク被覆問題](https://amplify.fixstars.com/ja/demo/lucas2014_6_2_clique_cover)（6.2節）\n",
    "- [整数長ジョブスケジューリング問題](https://amplify.fixstars.com/ja/demo/lucas2014_6_3_job_sequencing_with_integer_lengths)（6.3節）\n",
    "- [ハミルトン閉路問題](https://amplify.fixstars.com/ja/demo/lucas2014_7_1_hamiltonian_cycles_and_paths)（7.1節）\n",
    "- [有向帰還頂点集合問題](https://amplify.fixstars.com/ja/demo/lucas2014_8_3_directed_feedback_vertex_set)（8.3節）\n",
    "- [最小帰還辺集合問題](https://amplify.fixstars.com/ja/demo/lucas2014_8_5_feedback_edge_set)（8.5節）\n",
    "- [グラフ同型性判定問題](https://amplify.fixstars.com/ja/demo/lucas2014_9_graph_isomorphisms)（9節）\n"
   ]
  },
  {
   "cell_type": "markdown",
   "id": "54e336a6",
   "metadata": {},
   "source": [
    "## 厳密被覆問題とは\n",
    "\n",
    "集合 $S$ があり、$S$ の部分集合 $T_0, T_1, \\ldots, T_{N-1}$ が与えられているとします。\n",
    "$T_0, T_1, \\dots, T_{N-1}$ の中からいくつかを選び、選んだ複数の部分集合が $S$ の分割となるようにすることができるかどうか判定する問題を **厳密被覆問題** といいます。つまり、$S$ のどの要素も、選んだ部分集合のうちちょうど 1 つに含まれているようにできるかどうかを判定します。\n",
    "\n",
    "たとえば、下図のように $S = \\{1, 2, 3, 4, 5, 6, 7, 8, 9\\}$ のとき、部分集合として、$T_0 = \\{1, 2, 3, 6, 9\\}$、 $T_1 = \\{1, 2, 5, 8\\}$、 $T_2 = \\{4, 7\\}$、 $T_3 = \\{4, 5\\}$、 $T_4 = \\{6, 9\\}$、 $T_5 = \\{3\\}$ とすることを考えます。このとき、$T_1$、$T_2$、$T_4$、$T_5$ を選ぶとこれらは $S$ の分割となります。\n",
    "\n",
    "![図](../figures/Lucas2014/exact_cover0.png)\n",
    "\n",
    "ここでは、Fixstars Amplify を用いて厳密被覆問題を解くプログラムを作成します。定式化は [A. Lucas, Front. Phys. (2014)](https://www.frontiersin.org/articles/10.3389/fphy.2014.00005/full) の 4.1 節のものに沿って行います。"
   ]
  },
  {
   "cell_type": "markdown",
   "id": "54724fc4",
   "metadata": {},
   "source": [
    "## 問題の作成\n",
    "\n",
    "例題として、上に挙げた問題をコードで表現しておきます。"
   ]
  },
  {
   "cell_type": "code",
   "execution_count": null,
   "id": "76aadc41",
   "metadata": {},
   "outputs": [],
   "source": [
    "S = [1, 2, 3, 4, 5, 6, 7, 8, 9]  # 集合 S\n",
    "T = [[1, 2, 3, 6, 9], [1, 2, 5, 8], [4, 7], [4, 5], [6, 9], [3]]  # Sの複数の部分集合"
   ]
  },
  {
   "cell_type": "markdown",
   "id": "440c6f64",
   "metadata": {},
   "source": [
    "## 定式化\n",
    "\n",
    "### 決定変数\n",
    "\n",
    "$N$ 個のバイナリ変数 $q$ を $T_0, T_1, \\ldots, T_{N-1}$ と対応付けて、対応する部分集合 $T_i$ を選ぶかどうかを表すことにします。$T_i$ を選ぶ場合、$q_i$ は $1$ で、選ばない場合は $0$ です。\n",
    "\n",
    "たとえば、$T_1$, $T_2$, $T_4$, $T_5$ の 4 つの部分集合を選ぶときは、$q$ は以下のようになります。\n",
    "\n",
    "| 部分集合 | $$T_0$$ | $$T_1$$ | $$T_2$$ | $$T_3$$ | $$T_4$$ | $$T_5$$ |\n",
    "|:-------:| ------- | ------- | ------- | ------- | ------- | ------- |\n",
    "| $$q$$   | 0       | 1       | 1       | 0       | 1       | 1       |\n",
    "\n",
    "\n",
    "### 目的関数\n",
    "\n",
    "この問題は条件を満たす解を 1 つ見つける問題なので、目的関数は $0$（考慮しない）となります。今回は実装しませんが、この問題の発展バージョンとして、選ぶ部分集合の個数をできるだけ小さくしたい場合は、最適化問題となるため、目的関数として $\\displaystyle \\sum_{i = 0}^{N-1} q_i$ を設定する必要があります。\n",
    "\n",
    "### 制約条件\n",
    "\n",
    "「どの $S$ の要素も、選んだ部分集合のうちちょうど $1$ つに含まれる」という条件は、\n",
    "「どの $S$ の要素 $x$ に対しても、$x$ を含む部分集合 $T_i$ のうちちょうど $1$ つが選ばれる」\n",
    "と言い換えることができます。これは、\n",
    "\n",
    "$$\n",
    "\\sum_{T_i \\ni x} q_i = 1 \\quad \\text{for} \\quad x \\in S\n",
    "$$\n",
    "\n",
    "で表せます。"
   ]
  },
  {
   "cell_type": "markdown",
   "id": "7e28e4b4",
   "metadata": {},
   "source": [
    "## 実装\n",
    "\n",
    "上で作成した問題と定式化を使って、実際に問題を解いてみましょう。最初に、Fixstars Amplify SDK の `BinarySymbolGenerator` を使って部分集合の数だけバイナリ変数 $q$ を作成します。"
   ]
  },
  {
   "cell_type": "code",
   "execution_count": null,
   "id": "1aa2bd89",
   "metadata": {},
   "outputs": [],
   "source": [
    "from amplify import BinarySymbolGenerator\n",
    "\n",
    "N = len(T)  # 部分集合の数\n",
    "\n",
    "gen = BinarySymbolGenerator()\n",
    "q = gen.array(N)"
   ]
  },
  {
   "cell_type": "markdown",
   "id": "a17c879e",
   "metadata": {},
   "source": [
    "次に、制約条件を構築します。前述の通り、$S$ の各要素 $x$ に対して、$x$ を含む部分集合のうちちょうど 1 つが選ばれるという制約条件を満たす必要があります。"
   ]
  },
  {
   "cell_type": "code",
   "execution_count": null,
   "id": "35b871dd",
   "metadata": {},
   "outputs": [],
   "source": [
    "from amplify.constraint import one_hot\n",
    "\n",
    "constraint = [one_hot(sum([q[i] for i in range(N) if x in T[i]])) for x in S]"
   ]
  },
  {
   "cell_type": "markdown",
   "id": "41570915",
   "metadata": {},
   "source": [
    "作成した制約条件を論理模型に変換します。"
   ]
  },
  {
   "cell_type": "code",
   "execution_count": null,
   "id": "4dd8e603",
   "metadata": {},
   "outputs": [],
   "source": [
    "from amplify import BinaryQuadraticModel\n",
    "\n",
    "model = sum(constraint)"
   ]
  },
  {
   "cell_type": "markdown",
   "id": "06613f41",
   "metadata": {},
   "source": [
    "クライアントを設定して、Fixstars Amplify Annealing Engine (AE) で実行します。"
   ]
  },
  {
   "cell_type": "code",
   "execution_count": null,
   "id": "8381f752",
   "metadata": {},
   "outputs": [],
   "source": [
    "from amplify.client import FixstarsClient\n",
    "from amplify import Solver\n",
    "\n",
    "client = FixstarsClient()\n",
    "# client.token = \"xxxxxxxxxxxxxxxxxxxxxxxxxxxxxxxx\"  # ローカル環境等で使用する場合は、Fixstars Amplify AE のアクセストークンを入力してください。\n",
    "client.parameters.timeout = 1000\n",
    "\n",
    "# ソルバーを定義して実行\n",
    "solver = Solver(client)\n",
    "result = solver.solve(model)"
   ]
  },
  {
   "cell_type": "markdown",
   "id": "8db1f0a6",
   "metadata": {},
   "source": [
    "条件をみたす部分集合の選び方が見つかったかどうかを確認します。`Solver` は制約条件をみたす解を自動でフィルターするので、`result` が空でなければ、制約条件をみたす解が見つかったと分かります。"
   ]
  },
  {
   "cell_type": "code",
   "execution_count": null,
   "id": "4d2b6111",
   "metadata": {},
   "outputs": [],
   "source": [
    "if len(result) == 0:\n",
    "    print(\"解が見つかりませんでした\")\n",
    "else:\n",
    "    print(\"解が見つかりました\")"
   ]
  },
  {
   "cell_type": "markdown",
   "id": "10788917",
   "metadata": {},
   "source": [
    "最後に、結果を可視化します。余裕があれば、集合 $S$ やその部分集合 $T_i$ を変更して、厳密被覆が可能か試してみましょう。"
   ]
  },
  {
   "cell_type": "code",
   "execution_count": null,
   "id": "d296b17f",
   "metadata": {},
   "outputs": [],
   "source": [
    "import numpy as np\n",
    "\n",
    "values = q.decode(result[0].values)\n",
    "for i in np.where(values == 1)[0]:\n",
    "    print(f\"T{i} : {T[i]}\")"
   ]
  }
 ],
 "metadata": {
  "language_info": {
   "name": "python",
   "pygments_lexer": "ipython3"
  }
 },
 "nbformat": 4,
 "nbformat_minor": 5
}
