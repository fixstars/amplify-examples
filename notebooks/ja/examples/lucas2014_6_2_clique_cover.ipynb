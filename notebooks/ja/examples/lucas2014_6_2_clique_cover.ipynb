{
 "cells": [
  {
   "cell_type": "markdown",
   "id": "f745124f",
   "metadata": {},
   "source": [
    "# A. Lucas, Front. Phys. (2014) 掲載例題の実装と解説 ー クリーク被覆問題\n",
    "\n",
    "本サンプルコードでは、論文 [A. Lucas, \"Ising formulations of many NP problems\", *Front. Phys.* (2014)](https://www.frontiersin.org/articles/10.3389/fphy.2014.00005/full) で紹介されている『クリーク被覆問題』に Fixstars Amplify を用いて取り組みます。同論文に紹介されている他の NP 完全・NP 困難な問題も以下で解説しています（カッコ内は論文内で問題に対応する節番号）。\n",
    "\n",
    "- [グラフの分割問題](https://amplify.fixstars.com/ja/demo/lucas2014_2_2_graph_partitioning)（2.2節）\n",
    "- [最大クリーク問題](https://amplify.fixstars.com/ja/demo/lucas2014_2_3_cliques)（2.3節）\n",
    "- [厳密被覆問題](https://amplify.fixstars.com/ja/demo/lucas2014_4_1_exact_cover)（4.1節）\n",
    "- [集合パッキング問題](https://amplify.fixstars.com/ja/demo/lucas2014_4_2_set_packing)（4.2節）\n",
    "- [最小頂点被覆問題](https://amplify.fixstars.com/ja/demo/lucas2014_4_3_vertex_cover)（4.3節）\n",
    "- [充足可能性問題（SAT）](https://amplify.fixstars.com/ja/demo/lucas2014_4_4_satisfiability)（4.4節）\n",
    "- [最小極大マッチング問題](https://amplify.fixstars.com/ja/demo/lucas2014_4_5_minimal_maximal_matching)（4.5節）\n",
    "- [グラフ彩色問題](https://amplify.fixstars.com/ja/demo/lucas2014_6_1_graph_coloring)（6.1節）\n",
    "- クリーク被覆問題（6.2節）\n",
    "- [整数長ジョブスケジューリング問題](https://amplify.fixstars.com/ja/demo/lucas2014_6_3_job_sequencing_with_integer_lengths)（6.3節）\n",
    "- [ハミルトン閉路問題](https://amplify.fixstars.com/ja/demo/lucas2014_7_1_hamiltonian_cycles_and_paths)（7.1節）\n",
    "- [有向帰還頂点集合問題](https://amplify.fixstars.com/ja/demo/lucas2014_8_3_directed_feedback_vertex_set)（8.3節）\n",
    "- [最小帰還辺集合問題](https://amplify.fixstars.com/ja/demo/lucas2014_8_5_feedback_edge_set)（8.5節）\n",
    "- [グラフ同型性判定問題](https://amplify.fixstars.com/ja/demo/lucas2014_9_graph_isomorphisms)（9節）"
   ]
  },
  {
   "cell_type": "markdown",
   "id": "3b15cb14",
   "metadata": {},
   "source": [
    "## クリーク被覆問題\n",
    "\n",
    "グラフ $G$ と整数 $K$ が与えられたとき、$G$ の頂点を $K$ 色で塗り分けて、同じ色の頂点のペアがすべて辺で結ばれているようにできるかどうか判定する問題を **クリーク被覆問題** といいます。\n",
    "\n",
    "たとえば、以下のようなグラフは、3 つの青色の頂点はすべて辺で結ばれていて、3 つのオレンジ色の頂点もすべて辺で結ばれているので、$G$ を $2$ つのクリークで被覆することは可能だということになります。\n",
    "\n",
    "![画像0](../figures/Lucas2014/clique_cover0.png)\n",
    "\n",
    "ここでは、Fixstars Amplify を用いて、このような頂点の塗り分け方を探索するプログラムを作成します。定式化は [A. Lucas, Front. Phys. (2014)](https://www.frontiersin.org/articles/10.3389/fphy.2014.00005/full) の 6.2 節のものに沿って行います。"
   ]
  },
  {
   "cell_type": "markdown",
   "id": "f7a4b2b4",
   "metadata": {},
   "source": [
    "## 問題の作成\n",
    "\n",
    "まず、例題として、NetworkX を用いて適当なグラフ $G$ を作成します。また、今回は、色の数 $K$ を $2$ とします。"
   ]
  },
  {
   "cell_type": "code",
   "execution_count": null,
   "id": "c6515528",
   "metadata": {},
   "outputs": [],
   "source": [
    "import networkx as nx\n",
    "\n",
    "N = 6  # グラフの頂点数\n",
    "K = 2  # 色の数\n",
    "G = nx.Graph()\n",
    "G.add_nodes_from(range(N))\n",
    "edge_list = [\n",
    "    (0, 1),\n",
    "    (0, 2),\n",
    "    (1, 2),\n",
    "    (1, 3),\n",
    "    (1, 4),\n",
    "    (2, 3),\n",
    "    (2, 5),\n",
    "    (3, 4),\n",
    "    (3, 5),\n",
    "    (4, 5),\n",
    "]\n",
    "G.add_edges_from(edge_list)\n",
    "\n",
    "pos = nx.spring_layout(G, seed=0)\n",
    "\n",
    "nx.draw_networkx(G, node_size=600, font_color=\"w\", pos=pos)"
   ]
  },
  {
   "cell_type": "markdown",
   "id": "5923ae8b",
   "metadata": {},
   "source": [
    "作成したグラフは、最初に示したものと同じグラフとなっています。したがって、頂点 $0$, $1$, $2$ を片方の色で、頂点 $3$, $4$, $5$ をもう片方の色で塗れば条件をみたす塗り方となります。"
   ]
  },
  {
   "cell_type": "markdown",
   "id": "a659e097",
   "metadata": {},
   "source": [
    "## 定式化\n",
    "\n",
    "以下、$G$ の頂点の数を $N$ とします。\n",
    "\n",
    "### 決定変巣\n",
    "\n",
    "$N \\times K$ のバイナリ決定変数テーブル $q$ を作成し、それぞれの頂点をどの色で塗るかを表します。頂点 $i$ が $j$ 番目の色で塗られるとき、$q$ の $i$ 行 $j$ 列にあるバイナリ変数が $1$ となります。\n",
    "\n",
    "たとえば、頂点 $0$, $1$, $2$ を $0$ 番目の色で塗り、頂点 $3$, $4$, $5$ を $1$ 番目の色で塗るとき、変数テーブル $q$ は以下のようになります。\n",
    "\n",
    "| $q$ | 0 番目の色 | 1 番目の色  |\n",
    "|:---:|:---------:|:-----------:|\n",
    "| 頂点 0         | 1   | 0   |\n",
    "| 頂点 1         | 1   | 0   |\n",
    "| 頂点 2         | 1   | 0   |\n",
    "| 頂点 3         | 0   | 1   |\n",
    "| 頂点 4         | 0   | 1   |\n",
    "| 頂点 5         | 0   | 1   |\n",
    "\n",
    "### 目的関数\n",
    "\n",
    "クリーク被覆問題は条件を満たすものを 1 つ見つける問題なので、目的関数は $0$（無し）とします。\n",
    "\n",
    "### 制約条件\n",
    "\n",
    "$q$ と対応する塗り分け方によって、$G$ が $K$ 個のクリークで被覆されるためには、以下が必要です。\n",
    "\n",
    "* 条件 1 ： $G$ の各頂点は、ちょうど $1$ つの色で塗られている。\n",
    "* 条件 2 ： 同じ色の頂点は、必ず辺で結ばれている。\n",
    "\n",
    "条件 1 は、各行に $1$ つだけ $1$ があるという制約であり、数式で表すと\n",
    "\n",
    "$$\n",
    "\\sum_{j = 0}^{K-1} q_{i, j} = 1 \\quad \\text{for} \\quad i \\in \\{0, 1, \\ldots, N-1\\}\n",
    "$$ \n",
    "\n",
    "となります。\n",
    "\n",
    "また、条件 2 を、対偶をとって「辺で結ばれていない $2$ 頂点は、同じ色では塗られていない」と言い換えると、これは\n",
    "\n",
    "$$\n",
    "q_{u, j} q_{v, j} = 0 \\quad \\text{for} \\quad (u, v) \\notin E, \\ j \\in \\{0, 1, \\ldots, K - 1\\}\n",
    "$$\n",
    "\n",
    "で表せます。ただし、$E$ は $G$ の辺集合です。\n"
   ]
  },
  {
   "cell_type": "markdown",
   "id": "28a2161a",
   "metadata": {},
   "source": [
    "## 実装\n",
    "\n",
    "上で作成した問題と定式化を使って、実際に問題を解いてみましょう。最初に、Fixstars Amplify SDK の `BinarySymbolGenerator` を使って $N\\times K$ 個のバイナリ変数 $q$ を作成します。"
   ]
  },
  {
   "cell_type": "code",
   "execution_count": null,
   "id": "12a1e98f",
   "metadata": {},
   "outputs": [],
   "source": [
    "from amplify import VariableGenerator\n",
    "\n",
    "gen = VariableGenerator()\n",
    "q = gen.array(\"Binary\", shape=(N, K))"
   ]
  },
  {
   "cell_type": "markdown",
   "id": "03c676ec",
   "metadata": {},
   "source": [
    "次に、条件 1 に対応する制約条件を作成します。条件 1 は、$q$ の各行にひとつだけ 1 があるという条件でしたので、`one_hot` を使って書くことができます。二次元配列の各行に対する one-hot 制約を一度に生成するには、`axis` パラメータに 1 を指定すればよいです。"
   ]
  },
  {
   "cell_type": "code",
   "execution_count": null,
   "id": "a0f48a41",
   "metadata": {},
   "outputs": [],
   "source": [
    "from amplify import one_hot\n",
    "\n",
    "constraint1 = one_hot(q, axis=1)"
   ]
  },
  {
   "cell_type": "markdown",
   "id": "d627c1f5",
   "metadata": {},
   "source": [
    "条件 2 に対応する制約条件を作成します。条件 2 は、\n",
    "$q_{u, j} q_{v, j} = 0 \\ \\bigl((u, v) \\notin E, \\ j \\in \\{0, 1, \\ldots, K - 1\\}\\bigr)$ という条件でした。"
   ]
  },
  {
   "cell_type": "code",
   "execution_count": null,
   "id": "ded11ff4",
   "metadata": {},
   "outputs": [],
   "source": [
    "from amplify import equal_to, sum as amplify_sum\n",
    "\n",
    "constraint2 = amplify_sum(\n",
    "    equal_to(q[u, j] * q[v, j], 0) for (u, v) in nx.non_edges(G) for j in range(K)\n",
    ")"
   ]
  },
  {
   "cell_type": "markdown",
   "id": "511a8c6f",
   "metadata": {},
   "source": [
    "作成した制約条件をまとめて、組合せ最適化モデルを構築します。"
   ]
  },
  {
   "cell_type": "code",
   "execution_count": null,
   "id": "d5f5c3f9",
   "metadata": {},
   "outputs": [],
   "source": [
    "from amplify import Model\n",
    "\n",
    "model = Model(constraint1 + constraint2)"
   ]
  },
  {
   "cell_type": "markdown",
   "id": "8b0be3b6",
   "metadata": {},
   "source": [
    "クライアントを設定し、Fixstars Amplify Annealing Engine (AE) で実行します。"
   ]
  },
  {
   "cell_type": "code",
   "execution_count": null,
   "id": "636fc01d",
   "metadata": {},
   "outputs": [],
   "source": [
    "from amplify import FixstarsClient, solve\n",
    "from datetime import timedelta\n",
    "\n",
    "client = FixstarsClient()\n",
    "# client.token = \"xxxxxxxxxxxxxxxxxxxxxxxxxxxxxxxx\"  # ローカル環境等で使用する場合は、Fixstars Amplify AE のアクセストークンを入力してください。\n",
    "client.parameters.timeout = timedelta(milliseconds=1000)  # タイムアウトは 1000 ms\n",
    "\n",
    "# 求解を実行\n",
    "result = solve(model, client)"
   ]
  },
  {
   "cell_type": "markdown",
   "id": "9869c655",
   "metadata": {},
   "source": [
    "解が見つかったかどうかを確認します。Amplify SDK は制約条件をみたす解を自動でフィルターするので、`result` が空でなければ、制約条件をみたす解が見つかったと分かります。"
   ]
  },
  {
   "cell_type": "code",
   "execution_count": null,
   "id": "d21635e4",
   "metadata": {},
   "outputs": [],
   "source": [
    "if len(result) == 0:\n",
    "    print(\"解が見つかりませんでした。\")\n",
    "else:\n",
    "    print(\"解が見つかりました。\")"
   ]
  },
  {
   "cell_type": "markdown",
   "id": "5b09fdfe",
   "metadata": {},
   "source": [
    "最後に、結果を可視化します。"
   ]
  },
  {
   "cell_type": "code",
   "execution_count": null,
   "id": "1a3f4534",
   "metadata": {},
   "outputs": [],
   "source": [
    "import numpy as np\n",
    "\n",
    "values = q.evaluate(result.best.values)\n",
    "\n",
    "colors = [f\"C{i}\" for i in np.where(values == 1)[1]]\n",
    "nx.draw_networkx(G, node_size=600, node_color=colors, font_color=\"w\", pos=pos)"
   ]
  }
 ],
 "metadata": {
  "language_info": {
   "name": "python",
   "pygments_lexer": "ipython3"
  }
 },
 "nbformat": 4,
 "nbformat_minor": 5
}
