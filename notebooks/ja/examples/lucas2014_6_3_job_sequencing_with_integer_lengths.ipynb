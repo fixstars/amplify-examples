{
 "cells": [
  {
   "cell_type": "markdown",
   "id": "18d29b19",
   "metadata": {},
   "source": [
    "# A. Lucas, Front. Phys. (2014) 掲載例題の実装と解説 ー 整数長ジョブスケジューリング問題\n",
    "\n",
    "本サンプルコードでは、論文 [A. Lucas, \"Ising formulations of many NP problems\", *Front. Phys.* (2014)](https://www.frontiersin.org/articles/10.3389/fphy.2014.00005/full) で紹介されている『整数長ジョブスケジューリング問題』に Fixstars Amplify を用いて取り組みます。同論文に紹介されている他の NP 完全・NP 困難な問題も以下で解説しています（カッコ内は論文内で問題に対応する節番号）。\n",
    "\n",
    "- [グラフの分割問題](https://amplify.fixstars.com/ja/demo/lucas2014_2_2_graph_partitioning)（2.2節）\n",
    "- [最大クリーク問題](https://amplify.fixstars.com/ja/demo/lucas2014_2_3_cliques)（2.3節）\n",
    "- [厳密被覆問題](https://amplify.fixstars.com/ja/demo/lucas2014_4_1_exact_cover)（4.1節）\n",
    "- [集合パッキング問題](https://amplify.fixstars.com/ja/demo/lucas2014_4_2_set_packing)（4.2節）\n",
    "- [最小頂点被覆問題](https://amplify.fixstars.com/ja/demo/lucas2014_4_3_vertex_cover)（4.3節）\n",
    "- [充足可能性問題（SAT）](https://amplify.fixstars.com/ja/demo/lucas2014_4_4_satisfiability)（4.4節）\n",
    "- [最小極大マッチング問題](https://amplify.fixstars.com/ja/demo/lucas2014_4_5_minimal_maximal_matching)（4.5節）\n",
    "- [グラフ彩色問題](https://amplify.fixstars.com/ja/demo/lucas2014_6_1_graph_coloring)（6.1節）\n",
    "- [クリーク被覆問題](https://amplify.fixstars.com/ja/demo/lucas2014_6_2_clique_cover)（6.2節）\n",
    "- 整数長ジョブスケジューリング問題（6.3節）\n",
    "- [ハミルトン閉路問題](https://amplify.fixstars.com/ja/demo/lucas2014_7_1_hamiltonian_cycles_and_paths)（7.1節）\n",
    "- [有向帰還頂点集合問題](https://amplify.fixstars.com/ja/demo/lucas2014_8_3_directed_feedback_vertex_set)（8.3節）\n",
    "- [最小帰還辺集合問題](https://amplify.fixstars.com/ja/demo/lucas2014_8_5_feedback_edge_set)（8.5節）\n",
    "- [グラフ同型性判定問題](https://amplify.fixstars.com/ja/demo/lucas2014_9_graph_isomorphisms)（9節）"
   ]
  },
  {
   "cell_type": "markdown",
   "id": "b2b767d0",
   "metadata": {},
   "source": [
    "## ジョブ割り当て問題\n",
    "\n",
    "$N$ 個のジョブがあり、それぞれのジョブにかかる時間が分かっているとします。それらのジョブを実行できるマシンが $M$ 台あり、$N$ 個のジョブそれぞれをいずれかのマシンに割り当てます。すべてのジョブが完了するまでの時間が最も早くなる割り当て方を求めることを考えます。\n",
    "\n",
    "ただし、それぞれのマシンは割り当てられたジョブを直列に実行します。つまり、1 つのマシンが複数のジョブを同時に行うことはできません。また、それぞれのジョブにかかる時間は整数であるものとしておきます。\n",
    "\n",
    "たとえば、それぞれ 1 時間ずつかかるジョブが 3 つあり、マシンが 2 台のとき、2 つのジョブを片方のマシンに、 1 つのジョブをもう片方のマシンに割り当てると、すべてのジョブが完了するまで 2 時間かかります。また、2 時間未満ですべてのジョブを完了することはできないので、これが最適解となります。\n",
    "\n",
    "ここでは、Fixstars Amplify を用いてこのジョブ割り当て問題を解くプログラムを作成します。定式化は [A. Lucas, Front. Phys. (2014)](https://www.frontiersin.org/articles/10.3389/fphy.2014.00005/full) の 6.3 節のものに沿って行います。"
   ]
  },
  {
   "cell_type": "markdown",
   "id": "ba0333c8",
   "metadata": {},
   "source": [
    "## 問題の作成\n",
    "\n",
    "まず、例題として使用する問題を作成しておきます。ジョブの数とマシンの数、およびそれぞれのジョブにかかる時間を決定します。"
   ]
  },
  {
   "cell_type": "code",
   "execution_count": null,
   "id": "5729c9a1",
   "metadata": {},
   "outputs": [],
   "source": [
    "import numpy as np\n",
    "\n",
    "# マシンの数\n",
    "M = 3\n",
    "\n",
    "# ジョブの数\n",
    "N = 7\n",
    "\n",
    "# 各ジョブにかかる時間\n",
    "job_lengths = np.array([7, 5, 3, 2, 2, 2, 2])\n",
    "\n",
    "assert N == len(job_lengths)"
   ]
  },
  {
   "cell_type": "markdown",
   "id": "0f55eacb",
   "metadata": {},
   "source": [
    "## 定式化\n",
    "\n",
    "以下、$i$ 番目のジョブにかかる時間を $L_i$ とします。\n",
    "\n",
    "### 方針\n",
    "\n",
    "$N\\times M$ のバイナリ変数テーブル $q$ を用意し、各ジョブをどのマシンで実行するかを表すことにします。\n",
    "$i$ 番目のジョブを マシン $j$ で行うとき、$q$ の $i$ 行 $j$ 列が $1$ となるようにします。\n",
    "\n",
    "たとえば、以下のような割り当て方に対応する $q$ は下の表のようになります。\n",
    "\n",
    "| ジョブ   | マシン   |\n",
    "| -------- | -------- |\n",
    "| ジョブ 0 | マシン 0 |\n",
    "| ジョブ 1 | マシン 2 |\n",
    "| ジョブ 2 | マシン 2 |\n",
    "| ジョブ 3 | マシン 1 |\n",
    "| ジョブ 4 | マシン 1 |\n",
    "| ジョブ 5 | マシン 1 |\n",
    "| ジョブ 6 | マシン 1 |\n",
    "\n",
    "<br>\n",
    "\n",
    "| $q$      | マシン 0 | マシン 1 | マシン 2 |\n",
    "|:-------:|:--------:|:--------:|:--------:|\n",
    "| ジョブ 0 | 1        | 0        | 0        |\n",
    "| ジョブ 1 | 0        | 0        | 1        |\n",
    "| ジョブ 2 | 0        | 0        | 1        |\n",
    "| ジョブ 3 | 0        | 1        | 0        |\n",
    "| ジョブ 4 | 0        | 1        | 0        |\n",
    "| ジョブ 5 | 0        | 1        | 0        |\n",
    "| ジョブ 6 | 0        | 1        | 0        |\n",
    "\n",
    "また、マシンの実行時間の最大値が何であるかを分かりやすくするために、\n",
    "マシン $0$ の実行時間が最も長くなるようにジョブを割り当てることにします。\n",
    "\n",
    "### 目的関数\n",
    "\n",
    "マシン $0$ の実行時間が他のマシンの実行時間より長くなるようにジョブを割り当てるので、\n",
    "すべてのジョブを完了するまでにかかる時間はマシン $0$ の実行時間と等しくなります。\n",
    "したがって、目的関数はマシン $0$ の実行時間、つまりマシン $0$ に割り当てられたジョブにかかる時間の総和とすればよいです。\n",
    "これはジョブにかかる時間 $L$ を用いて\n",
    "\n",
    "$$\n",
    "\\sum_{i = 0}^{N - 1} L_i q_{i, 0}\n",
    "$$\n",
    "\n",
    "と書けます。\n",
    "\n",
    "### 制約条件\n",
    "\n",
    "$q$ は以下をみたしている必要があります。\n",
    "\n",
    "* 条件 1 ： 各ジョブはちょうど 1 つのマシンに割り当てられる。つまり、$q$ の各行には $1$ が $1$ つだけある。\n",
    "* 条件 2 ： それぞれのマシンについて、そのマシンの実行時間はマシン $0$ の実行時間よりも短い。\n",
    "\n",
    "条件 1 は、\n",
    "\n",
    "$$\n",
    "\\sum_{j = 0}^{M-1} q_{i, j} = 1 \\quad \\text{for} \\quad i \\in \\{0, 1, \\ldots, N-1\\} \n",
    "$$\n",
    "\n",
    "で表せます。\n",
    "\n",
    "また、マシン $j$ の実行時間は $\\sum_{i = 0}^{N - 1} L_i q_{i, j}$ で表せるので、条件 2 は\n",
    "\n",
    "$$\n",
    "\\sum_{i = 0}^{N - 1} L_i q_{i, j} \\leq \\sum_{i = 0}^{N - 1} L_i q_{i, 0} \\quad \\text{for} \\quad j \\in \\{1, 2, \\ldots, M - 1\\}\n",
    "$$\n",
    "\n",
    "と表現できます。\n",
    "\n",
    "逆に、条件 1 と条件 2 がみたされているとき、$q$ はジョブの割り当て方を表し、かつ目的関数はジョブが完了するまでの時間と等しくなります。"
   ]
  },
  {
   "cell_type": "markdown",
   "id": "7e3a34c4",
   "metadata": {},
   "source": [
    "## 実装\n",
    "\n",
    "上で作成した問題と定式化を使って、実際に問題を解いてみましょう。\n",
    "まず、Fixstars Amplify SDK の `BinarySymbolGenerator` を使って $N\\times M$ 個のバイナリ変数 $q$ を作成します。"
   ]
  },
  {
   "cell_type": "code",
   "execution_count": null,
   "id": "643ae476",
   "metadata": {},
   "outputs": [],
   "source": [
    "from amplify import BinarySymbolGenerator\n",
    "\n",
    "gen = BinarySymbolGenerator()\n",
    "q = gen.array(N, M)"
   ]
  },
  {
   "cell_type": "markdown",
   "id": "16780eb5",
   "metadata": {},
   "source": [
    "次に、各マシンの総実行時間を計算する関数を作っておきます。マシン $j$ の総実行時間は、$\\displaystyle \\sum_{i = 0}^{N - 1} L_i q_{i, j}$ で表されます。この式の $L$ は各ジョブにかかる時間を表す配列であり、コード上では `job_lengths` という名前の numpy 配列です。`job_lengths` と $q$ の $j$ 列目との内積をとることで、総実行時間を計算することができます。\n",
    "\n",
    "この関数は、あとで目的関数と条件 2 の作成のために使用されます。\n"
   ]
  },
  {
   "cell_type": "code",
   "execution_count": null,
   "id": "cc061c67",
   "metadata": {},
   "outputs": [],
   "source": [
    "def calc_execution_time(j):\n",
    "    return (job_lengths * q[:, j]).sum()"
   ]
  },
  {
   "cell_type": "markdown",
   "id": "22d338aa",
   "metadata": {},
   "source": [
    "次に、目的関数を作成します。先の説明の通り、目的関数はマシン $0$ の総実行時間です。"
   ]
  },
  {
   "cell_type": "code",
   "execution_count": null,
   "id": "91328d4d",
   "metadata": {},
   "outputs": [],
   "source": [
    "cost = calc_execution_time(0)"
   ]
  },
  {
   "cell_type": "markdown",
   "id": "35057f92",
   "metadata": {},
   "source": [
    "条件 1  に対応する制約条件を作成します。条件 1 は「それぞれのジョブはちょうど $1$ つのマシンに割り当てられる」ということを意味し、 $q$ の各行にひとつだけ $1$ があるという制約条件です。"
   ]
  },
  {
   "cell_type": "code",
   "execution_count": null,
   "id": "0ae2ff11",
   "metadata": {},
   "outputs": [],
   "source": [
    "from amplify.constraint import one_hot\n",
    "\n",
    "constraint1 = [one_hot(q[i, :]) for i in range(N)]"
   ]
  },
  {
   "cell_type": "markdown",
   "id": "f0b909de",
   "metadata": {},
   "source": [
    "条件 2 に対応する制約条件を作成します。条件 2 はマシン $0$ の実行時間は他のマシンの実行時間以上であるという条件でした。`less_equal` 等の不等式制約は、整数値をとる関数に対してしか使えないので注意してください。"
   ]
  },
  {
   "cell_type": "code",
   "execution_count": null,
   "id": "de7b47d4",
   "metadata": {},
   "outputs": [],
   "source": [
    "from amplify.constraint import less_equal\n",
    "\n",
    "constraint2 = [\n",
    "    less_equal(calc_execution_time(j) - calc_execution_time(0), 0) for j in range(1, M)\n",
    "]"
   ]
  },
  {
   "cell_type": "markdown",
   "id": "d777f299",
   "metadata": {},
   "source": [
    "作成した目的関数と制約条件をまとめて、論理模型に変換します。\n",
    "\n",
    "今回は、目的関数と制約条件を、`BinaryQuadraticModel` を使って明示的に論理模型に変換します。こうすることで、例えば、論理模型変換時に発行される補助変数を含めた論理変数の数を調べる、というような便利な機能を使うことが可能です。\n",
    "\n",
    "他のサンプルプログラムの多くでは、`BinaryQuadraticModel` を明示的に使わずに、目的関数と制約条件の和を次のように直接ソルバーに渡しています。ただし、この場合でも、ソルバーが内部的に `BinaryQuadraticModel` と同様の論理模型への変換を行っています。\n",
    "\n",
    "> ```python\n",
    "> model = cost + sum(constraint1) + sum(constraint2)\n",
    "> solver = Solver(client)\n",
    "> result = solver.solve(model) # ← 内部的に論理模型へ変換\n",
    "> ```"
   ]
  },
  {
   "cell_type": "code",
   "execution_count": null,
   "id": "73a5344f",
   "metadata": {},
   "outputs": [],
   "source": [
    "from amplify import BinaryQuadraticModel\n",
    "\n",
    "model = BinaryQuadraticModel(cost, sum(constraint1) + sum(constraint2))"
   ]
  },
  {
   "cell_type": "markdown",
   "id": "9ad2ce85",
   "metadata": {},
   "source": [
    "また、今回使用している入力変数の数は $N \\times M = 21$ ですが、作成した `model` には不等式制約が含まれるため、論理模型に変換される際に[補助変数が発行](https://amplify.fixstars.com/ja/docs/constraint.html#constraint-inequality-method)されます。その結果、論理変数の数は $q$ に含まれるバイナリ決定変数の数よりも多くなります。実際に考慮される論理変数の数を確認してみましょう。"
   ]
  },
  {
   "cell_type": "code",
   "execution_count": null,
   "id": "947f4279",
   "metadata": {},
   "outputs": [],
   "source": [
    "model.num_logical_vars"
   ]
  },
  {
   "cell_type": "markdown",
   "id": "4c3d8cfb",
   "metadata": {},
   "source": [
    "クライアントを設定し、Fixstars Amplify Annealing Engine (AE) で実行します。"
   ]
  },
  {
   "cell_type": "code",
   "execution_count": null,
   "id": "d6e91305",
   "metadata": {},
   "outputs": [],
   "source": [
    "from amplify.client import FixstarsClient\n",
    "from amplify import Solver\n",
    "\n",
    "client = FixstarsClient()\n",
    "# client.token = \"xxxxxxxxxxxxxxxxxxxxxxxxxxxxxxxx\"  # ローカル環境等で使用する場合は、Fixstars Amplify AE のアクセストークンを入力してください。\n",
    "client.parameters.timeout = 1000\n",
    "\n",
    "# ソルバーを定義して実行\n",
    "solver = Solver(client)\n",
    "result = solver.solve(model)"
   ]
  },
  {
   "cell_type": "markdown",
   "id": "9813d8f8",
   "metadata": {},
   "source": [
    "解が見つかったかどうかを確認します。`Solver` は制約条件をみたす解を自動でフィルターするので、`result` が空でなければ、制約条件をみたす解が見つかったと分かります。"
   ]
  },
  {
   "cell_type": "code",
   "execution_count": null,
   "id": "6005a9a7",
   "metadata": {},
   "outputs": [],
   "source": [
    "if len(result) == 0:\n",
    "    print(\"解が見つかりませんでした。\")\n",
    "else:\n",
    "    print(\"解が見つかりました。\")"
   ]
  },
  {
   "cell_type": "markdown",
   "id": "478eb657",
   "metadata": {},
   "source": [
    "すべてのジョブが完了するまでの時間は目的関数の値と等しいので、以下のようにして確認できます。"
   ]
  },
  {
   "cell_type": "code",
   "execution_count": null,
   "id": "39ade096",
   "metadata": {},
   "outputs": [],
   "source": [
    "result[0].energy"
   ]
  },
  {
   "cell_type": "markdown",
   "id": "29fb8873",
   "metadata": {},
   "source": [
    "最後に、結果を可視化します。"
   ]
  },
  {
   "cell_type": "code",
   "execution_count": null,
   "id": "0f15952a",
   "metadata": {},
   "outputs": [],
   "source": [
    "import matplotlib.pyplot as plt\n",
    "\n",
    "values = q.decode(result[0].values)\n",
    "assigned_machines = np.where(values == 1)[1]\n",
    "\n",
    "# x軸を描画\n",
    "plt.xticks(range(M), [f\"machine {i}\" for i in range(M)])\n",
    "\n",
    "# 描画\n",
    "bottom = np.zeros(M)  # 現在の棒グラフの上端\n",
    "for i, j in enumerate(assigned_machines):\n",
    "    bar = plt.bar(j, job_lengths[i], bottom=bottom[j])\n",
    "    plt.bar_label(bar, labels=[f\"job {i}\"], label_type=\"center\")\n",
    "    bottom[j] += job_lengths[i]"
   ]
  }
 ],
 "metadata": {
  "language_info": {
   "name": "python",
   "pygments_lexer": "ipython3"
  }
 },
 "nbformat": 4,
 "nbformat_minor": 5
}
