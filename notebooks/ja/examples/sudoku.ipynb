{
 "cells": [
  {
   "cell_type": "markdown",
   "metadata": {},
   "source": [
    " # 数独\n",
    "\n",
    " このチュートリアルでは、Amplifyを用いたイジングマシンによる数独の解法について解説します。"
   ]
  },
  {
   "cell_type": "markdown",
   "metadata": {},
   "source": [
    "## 数独の説明\n",
    "[数独（すうどく）](https://ja.wikipedia.org/wiki/%E6%95%B0%E7%8B%AC)は、以下の[ルール](https://www.nikoli.co.jp/ja/puzzles/sudoku/)に従って$9\\times9$のブロックに$1\\sim9$の数字を入れるパズルです。\n",
    "\n",
    "* 空いているマスに$1\\sim9$のいずれかの数字を入れる\n",
    "* 縦・横の各列、および$9\\times9$のブロックの中に9個ある$3\\times3$のブロックには重複した数字は入らない\n",
    "\n",
    "まず、ヒントとしていくつかの数字が埋められた初期配置が与えられます。上記のルールに従って、空いているマスに入る数字を確定していくことでゲームを進めることができます。ゲームの難易度が低い場合は、比較的簡単に次々と入り得る数字を確定できるマスを見つけることができますが、ゲームの難易度が上がると、そのような数字の確定が難しくなり、ある程度の経験を積まないとパズルを解き進めるのは難しくなります。\n",
    "\n",
    "<div align=\"center\">\n",
    "<img src=\"https://upload.wikimedia.org/wikipedia/commons/thumb/e/e0/Sudoku_Puzzle_by_L2G-20050714_standardized_layout.svg/361px-Sudoku_Puzzle_by_L2G-20050714_standardized_layout.svg.png\">\n",
    "</div>\n",
    "\n",
    "<center>引用元: https://en.wikipedia.org/wiki/Sudoku</center>\n",
    "\n",
    "\n",
    "コンピュータを使って数独を解く方法として、深さ優先探索、確率的な方法、制約充足問題、exact cover problemなど用いた[様々なアルゴリズム](https://en.wikipedia.org/wiki/Sudoku_solving_algorithms)が考案されています。これらのアルゴリズムに従って、機械的に数独を解くことができます。\n",
    "\n",
    "このチュートリアルでは、組み合わせ最適化問題に特化したイジングマシンを使って数独を解く方法を紹介します。上記の数独のルールを制約条件として解釈し、それに伴ったコスト関数を定義し、コストが最も低い数字の組み合わせを見つけることで数独の解を見つけることができる仕組みになっています。よって、ここで行うべきことは数独のルールをどのような制約条件によって表すことができるかを考えることです。そのような制約条件を見つけてコスト関数を定義することができれば、あとは初期配置を与えるだけで、複雑なアルゴリズムを用いることなく、イジングマシンによって解が見つけることができます。\n",
    "\n",
    "それでは次に、Amplifyを使って、数独を解くコードがどのように実装されるのか具体的に見てみましょう。"
   ]
  },
  {
   "cell_type": "markdown",
   "metadata": {},
   "source": [
    "## 制約条件の定式化\n",
    "\n",
    "### アニーリングマシンにおける数独の制約条件の表現方法\n",
    "次に、イジングマシンにおいて、数独のルールを表す制約条件を満たすコスト関数の作成方法を考えましょう。基本的には、二次二値多変数多項式を用いて制約条件を表現する方法を考えることとなります。ここでは、QUBO模型（各変数は0または1）を用いた一つの方法に着目して議論を進めます。\n",
    "\n",
    "表すべき数独のルールは以下の4つとなります。\n",
    "\n",
    "0. 各マスには $1\\sim9$ の数字のいずれかが入る\n",
    "1. 各行には $1\\sim9$ の数字が 1 つずつ重複することなく入る\n",
    "2. 各列には $1\\sim9$ の数字が 1 つずつ重複することなく入る\n",
    "3. 各 $3\\times3$ のブロックには$1\\sim9$の数字が 1 つずつ重複することなく入る\n",
    "\n",
    "まず、ルール 0 「各マスには $1\\sim9$ の数字のいずれかが入る」について、各マスに入っている数字をいくつかのバイナリ変数 ($0$ または $1$ の値を取る変数) を用いて表すことを考えます。\n",
    "\n",
    "ある 1 マスについて、バイナリ変数が $9$ 個あれば、そのマスに何の数字が入っているかを表すことができます。それぞれのバイナリ変数は、「そのマスに $1$ が入っているかどうか」「そのマスに $2$ が入っているかどうか」$\\cdots$「そのマスに $9$ が入っているかどうか」をそれぞれ表します。たとえば以下の表は、数字 $3$ が入っている場合の例です。\n",
    "\n",
    "| 変数名 | 変数 0 | 変数 1 | 変数 2 | 変数 3 | 変数 4 | 変数 5 | 変数 6 | 変数 7 | 変数 8 |\n",
    "| ------ | ------ | ------ | ------ | ------ | ------ | ------ | ------ | ------ | ------ |\n",
    "|   数字 |      1 |      2 |      3 |      4 |      5 |      6 |      7 |      8 |      9 |\n",
    "|変数の値|      0 |      0 |      1 |      0 |      0 |      0 |      0 |      0 |      0 |\n",
    "\n",
    "$9\\times9$ のマス目に対しても同様に考えて、$9\\times9=81$ 個の変数を $9$ セット、合計で $9\\times9\\times9=729$ 個の変数を用意します。これは、$9\\times9=81$ マスのレイヤを$9$枚重ねるようなイメージです。各レイヤは、「それぞれのマスに $1$ が入っているかどうか」「それぞれのマスに $2$ が入っているかどうか」$\\cdots$「それぞれのマスに $9$ が入っているかどうか」を表します。$i$ 行 $j$ 列かつ $k$ 番目のレイヤにある変数を $q_{i, j, k}$ と書くことにします。ただし、インデックスはそれぞれ 0 から始まる ($i,j,k=0, 1,\\ldots,8$) ものとします。\n",
    "\n",
    "例えば、$3$ 行 $5$ 列のマスに $7$ が入る状態は $q_{2,4,6}=1$、そうでない場合は $q_{2,4,6}=0$ と表現することができます。\n",
    "\n",
    "それぞれのマスについて、そのマスに対応する各レイヤの $9$ 個の変数のうちいずれかちょうど 1 つが $1$ である必要があることに注意してください。さもないとそのマスに入る数字が一意に定まらないためです。つまり、\n",
    "\n",
    "$$\n",
    "(a) \\quad \\sum_{k=0}^8 q_{i,j,k}=1\n",
    "$$\n",
    "\n",
    "が必要です。\n",
    "\n",
    "次に、ルール 1～3 を上記のバイナリ変数を用いて表します。それぞれ以下のone-hot制約 (a)、(b)、(c) として書き下すことができます。\n",
    "\n",
    "$$\n",
    "\\left\\{\n",
    "    \\begin{align*}\n",
    "            (b) \\quad &\\sum_{j=0}^8 q_{i,j,k}=1 \\\\\n",
    "            (c) \\quad &\\sum_{i=0}^8 q_{i,j,k}=1 \\\\\n",
    "            (d) \\quad &\\sum_{i,j\\in 3\\times3\\text{ブロック}}q_{i,j,k}=1 \\\\\n",
    "    \\end{align*}\n",
    "\\right.\n",
    "$$\n",
    "\n",
    "たとえばルール 1 である「各行には $1\\sim9$ の数字が 1 つずつ重複することなく入る」は、どの $1\\sim 9$ の数字についても「各行にはその数字がちょうど 1 つ入る」と言い換えられます。これは、どのレイヤに対しても、そのレイヤの各行には $1$ がちょうど 1 つあるということなので、ルール 1 は one-hot 制約 (a) として書けることが分かります。ルール 2, 3 についても同様です。\n"
   ]
  },
  {
   "cell_type": "markdown",
   "metadata": {},
   "source": [
    "## 初期配置\n",
    "\n",
    "数独ではいくつかのマスがすでに埋められた初期配置がヒントとして与えられます。ここでは、以下の初期配置を使います。以下では、数字が埋められていないマスは$0$としました。"
   ]
  },
  {
   "cell_type": "code",
   "execution_count": null,
   "metadata": {},
   "outputs": [],
   "source": [
    "import numpy as np\n",
    "\n",
    "# 初期配置をリストで表記\n",
    "initial = np.array(\n",
    "    [\n",
    "        [5, 3, 0, 0, 7, 0, 0, 0, 0],\n",
    "        [6, 0, 0, 1, 9, 5, 0, 0, 0],\n",
    "        [0, 9, 8, 0, 0, 0, 0, 6, 0],\n",
    "        [8, 0, 0, 0, 6, 0, 0, 0, 3],\n",
    "        [4, 0, 0, 8, 0, 3, 0, 0, 1],\n",
    "        [7, 0, 0, 0, 2, 0, 0, 0, 6],\n",
    "        [0, 6, 0, 0, 0, 0, 2, 8, 0],\n",
    "        [0, 0, 0, 4, 1, 9, 0, 0, 5],\n",
    "        [0, 0, 0, 0, 8, 0, 0, 7, 9],\n",
    "    ]\n",
    ")\n",
    "\n",
    "\n",
    "# 数独を成形して表示する\n",
    "def print_sudoku(sudoku):\n",
    "    for i in range(len(sudoku)):\n",
    "        line = \"\"\n",
    "        if i == 3 or i == 6:\n",
    "            print(\"---------------------\")\n",
    "        for j in range(len(sudoku[i])):\n",
    "            if j == 3 or j == 6:\n",
    "                line += \"| \"\n",
    "            line += str(sudoku[i][j]) + \" \"\n",
    "        print(line)\n",
    "\n",
    "\n",
    "print_sudoku(initial)"
   ]
  },
  {
   "cell_type": "markdown",
   "metadata": {},
   "source": [
    "## 制約条件の作成\n",
    "\n",
    "### 変数の定義と初期配置の反映\n",
    "まずは、Amplifyで提供されている `VariableGenerator` を用いて、変数を用意します。"
   ]
  },
  {
   "cell_type": "code",
   "execution_count": null,
   "metadata": {},
   "outputs": [],
   "source": [
    "from amplify import VariableGenerator\n",
    "\n",
    "gen = VariableGenerator()\n",
    "q = gen.array(\"Binary\", shape=(9, 9, 9))"
   ]
  },
  {
   "cell_type": "markdown",
   "metadata": {},
   "source": [
    " これによって、$9^3=729$ 個の変数が三次元配列として用意されました。`9, 9, 9` はそれぞれ、行・列・レイヤの要素数を表し、それらのインデックスを`i`、`j`、`k`として各要素には`q[i, j, k]`でアクセスできます。"
   ]
  },
  {
   "cell_type": "code",
   "execution_count": null,
   "metadata": {},
   "outputs": [],
   "source": [
    "# 行番号 $1$、列番号 $2$、レイヤ $3$ の変数\n",
    "print(q[1, 2, 3])\n",
    "\n",
    "# 行番号 $0$、列番号 $0$ の9変数\n",
    "print(q[0, 0])\n",
    "\n",
    "# 行番号 $2$、数値レイヤ $5$ の9変数\n",
    "print(q[2, :, 5])"
   ]
  },
  {
   "cell_type": "markdown",
   "metadata": {},
   "source": [
    "先ほど `initial` に格納された初期配置から、いくつかの変数をただちに確定することができます。例えば、`i=1`、`j=4` のマスにはすでに数字 `9` が入っているので (`initial[1, 4] == 9`)、対応する変数 `q[1, 4, 8]` は $1$ に確定できます。インデックスが 0 から始まる都合上、数字 `9` に対応するレイヤはレイヤ $8$ であることに注意してください。\n",
    "\n",
    "また、`i=1`、`j=4` のマスには数字 `9` 以外の数字は入らないので、`i=1` の行、`j=4` の列でレイヤ番号が $8$ 以外であるような変数 (たとえば `q[1, 4, 7]`) の値は $0$ に確定できます。\n",
    "\n",
    "さらに、ルール 1 により、`i=1` の行の `j=4` 以外のマスには数字 `9` 以外は入らないので、 `i=1` の行の `k=8` のレイヤで行番号 $j$ が $4$ 以外であるような変数 (たとえば `q[1, 5, 8]`) の値は $0$ に確定できます。\n",
    "\n",
    "同様に考えて、ルール 2、ルール 3 により、`k=8` のレイヤで `i=1`、`j=4` のマスと同じ列あるいは同じ $3\\times 3$ のブロックに所属するマスに対応する変数の値は $0$ に確定できます。たとえば `q[0, 4, 8]` や `q[2, 5, 8]` の値は $0$ です。\n"
   ]
  },
  {
   "cell_type": "code",
   "execution_count": null,
   "metadata": {},
   "outputs": [],
   "source": [
    "for i, j in zip(*np.where(initial != 0)):\n",
    "    # 初期配置の i 行 j 列には数字が既に入っている\n",
    "    k = initial[i, j] - 1\n",
    "\n",
    "    q[i, j, :] = 0  # i 行 j 列のマスには数字 k+1 以外は入らない\n",
    "    q[i, :, k] = 0  # 同じ行には数字 k+1 は入らない\n",
    "    q[:, j, k] = 0  # 同じ列には数字 k+1 は入らない\n",
    "    for m in range(9):\n",
    "        # 同じブロックには数字 k+1 は入らない\n",
    "        q[(3 * (i // 3) + m // 3), (3 * (j // 3) + m % 3), k] = 0\n",
    "\n",
    "    q[i, j, k] = 1  # i 行 j 列のマスには数字 k+1 が入る"
   ]
  },
  {
   "cell_type": "markdown",
   "metadata": {},
   "source": [
    " これで初期設定ができました。例として行番号 $0$、列番号 $0$ の 9 変数を表示すると5番目の要素が 1 に、それ以外が 0 に確定されていることが確認できます。これは左上のマスが 5 であることに対応します。"
   ]
  },
  {
   "cell_type": "code",
   "execution_count": null,
   "metadata": {},
   "outputs": [],
   "source": [
    "q[0, 0]"
   ]
  },
  {
   "cell_type": "markdown",
   "metadata": {},
   "source": [
    "同様に行番号 $0$、列番号 $2$ の9変数を表示すると、3 番目の変数と 5 番目以降の変数が 0 であることが分かります。つまり、一番上の行の左から 3 番目のマスには、1, 2, 4 のいずれかの数字が入ります。"
   ]
  },
  {
   "cell_type": "code",
   "execution_count": null,
   "metadata": {},
   "outputs": [],
   "source": [
    "q[0, 2]"
   ]
  },
  {
   "cell_type": "markdown",
   "metadata": {},
   "source": [
    "### 制約条件の設定\n",
    "\n",
    "次に、制約条件 $(a)\\sim(d)$ を定義します。これらはすべていくつかのバイナリ変数のうち 1 つだけが 1 である one-hot 制約条件となっています。\n",
    "\n",
    "まず、$(a)$ の一つのマスには一つの数字しか入らないという制約を表す制約条件を作成します。\n",
    "\n",
    "$$\n",
    "(a) \\quad \\sum_{k=0}^8 q_{i,j,k}=1\n",
    "$$\n",
    "\n",
    "変数配列 `q` の行 (`axis=0`) と列 (`axis=1`) が同じでレイヤ (`axis=2`) が異なる $9$ つの変数のうち $1$ つのみが $1$ である制約なので、`one_hot` 関数の `axis` パラメータに 2 を与えることで、$9\\times 9$ 個の制約条件を一気に作成することができます。\n"
   ]
  },
  {
   "cell_type": "code",
   "execution_count": null,
   "metadata": {},
   "outputs": [],
   "source": [
    "from amplify import one_hot\n",
    "\n",
    "# (a): 一つのマスには一つの数字しか入らない制約条件\n",
    "layer_constraints = one_hot(q, axis=2)\n",
    "\n",
    "print(len(layer_constraints))"
   ]
  },
  {
   "cell_type": "markdown",
   "metadata": {},
   "source": [
    "同様にして、$(b)$ の同じ行に同じ数字が入らない制約条件と、$(c)$ の同じ行に同じ数字が入らない制約条件は以下のように表されます。\n",
    "\n",
    "$(b)$ は列 (`axis=1`) とレイヤ (`axis=2`) が同じで行 (`axis=0`) が異なる $9$ つの変数のうち $1$ つのみが $1$ である制約であり、 $(c)$ は行 (`axis=0`) とレイヤ (`axis=2`) が同じで列 (`axis=1`) が異なる $9$ つの変数のうち $1$ つのみが $1$ である制約なので、`one-hot` 関数の `axis` パラメータにそれぞれ 1 と 0 を与えます。"
   ]
  },
  {
   "cell_type": "code",
   "execution_count": null,
   "metadata": {},
   "outputs": [],
   "source": [
    "# (b): 各行には同じ数字が入らない制約条件\n",
    "row_constraints = one_hot(q, axis=1)\n",
    "\n",
    "# (c): 各列には同じ数字が入らない制約条件\n",
    "col_constraints = one_hot(q, axis=0)"
   ]
  },
  {
   "cell_type": "markdown",
   "metadata": {},
   "source": [
    "最後に$(c)$ の $3\\times3$ の各ブロックには同じ数字が入らないという制約条件を表します。各レイヤごとに、各 $3\\times3$ ブロック内で変数の和を取り、以下のようにして one-hot 制約を課します。"
   ]
  },
  {
   "cell_type": "code",
   "execution_count": null,
   "metadata": {},
   "outputs": [],
   "source": [
    "from amplify import sum as amplify_sum\n",
    "\n",
    "# (c): 3x3ブロック内には同じ数字が入らない制約条件\n",
    "block_constraints = amplify_sum(\n",
    "    one_hot(amplify_sum([q[i + m // 3, j + m % 3, k] for m in range(9)]))\n",
    "    for i in range(0, 9, 3)\n",
    "    for j in range(0, 9, 3)\n",
    "    for k in range(9)\n",
    ")"
   ]
  },
  {
   "cell_type": "markdown",
   "metadata": {},
   "source": [
    "これで全ての制約条件が出そろったので、これらの制約条件を全て足し合わせます。"
   ]
  },
  {
   "cell_type": "code",
   "execution_count": null,
   "metadata": {},
   "outputs": [],
   "source": [
    "constraints = layer_constraints + row_constraints + col_constraints + block_constraints"
   ]
  },
  {
   "cell_type": "markdown",
   "metadata": {},
   "source": [
    "これで定式化に関する準備ができました。イジングマシンによって、全ての制約を満たす変数の組み合わせを見つけ出すことが出来れば、そのような変数の組み合わせは与えられた初期配置から導き出される数独の解となります。"
   ]
  },
  {
   "cell_type": "markdown",
   "metadata": {},
   "source": [
    "## イジングマシンの実行"
   ]
  },
  {
   "cell_type": "markdown",
   "metadata": {},
   "source": [
    "先ほど作成した `constraints` を用いてイジングマシンを実行する準備を行います。まずイジングマシンのクライアントを作成し、`timeout` などのパラメーターを設定します。その後、ソルバーを作成しクライアントを設定します。"
   ]
  },
  {
   "cell_type": "code",
   "execution_count": null,
   "metadata": {},
   "outputs": [],
   "source": [
    "from amplify import solve, FixstarsClient\n",
    "from datetime import timedelta\n",
    "\n",
    "client = FixstarsClient()\n",
    "client.parameters.timeout = timedelta(milliseconds=1000)  # タイムアウト 1000 ms\n",
    "# ローカル環境等で使用する場合は、コメントを外して Fixstars Amplify AE のアクセストークンを入力してください\n",
    "# client.token = \"xxxxxxxxxxxxxxxxxxxxxxxxxxxxxxxx\"\n",
    "\n",
    "# 求解の実行\n",
    "result = solve(constraints, client)\n",
    "\n",
    "if len(result) == 0:\n",
    "    raise RuntimeError(\"Some of the constraints are not satisfied.\")"
   ]
  },
  {
   "cell_type": "markdown",
   "metadata": {},
   "source": [
    "実行結果は `result` に格納されています。以下のようにすることで求解結果から変数配列 `q` の値が得られます。\n"
   ]
  },
  {
   "cell_type": "code",
   "execution_count": null,
   "metadata": {},
   "outputs": [],
   "source": [
    "q_values = q.evaluate(result.best.values).astype(int)\n",
    "\n",
    "print(q_values[0, 0, 4])  # 左上のマスが 5 であるか\n",
    "print(q_values[4, 4, 0])  # 5 行 5 列のマス (盤面のちょうど真ん中のマス) が 1 であるか"
   ]
  },
  {
   "cell_type": "markdown",
   "metadata": {},
   "source": [
    "解から盤面を復元します。あるマスに対応する 9 変数 について、各変数は「そのマスに $1$ が入っているかどうか」「そのマスに $2$ が入っているかどうか」$\\cdots$「そのマスに $9$ が入っているかどうか」を表すので、そのマスの値を知るためには 9 つの変数の値と長さ 9 の 1 次元ベクトル `[1, 2, 3, 4, 5, 6, 7, 8, 9]` との内積をとればよいです。\n",
    "\n",
    "つまり、盤面は以下の式で2次元配列として表されます。\n",
    "\n",
    "$$\n",
    "    \\text{answer}[i, j] = \\sum_{k=0}^{8} \\text{q\\_values}[i, j, k] \\cdot k\n",
    "$$"
   ]
  },
  {
   "cell_type": "code",
   "execution_count": null,
   "metadata": {},
   "outputs": [],
   "source": [
    "answer = q_values @ np.arange(1, 10)"
   ]
  },
  {
   "cell_type": "markdown",
   "metadata": {},
   "source": [
    "最後に `print_sudoku` 関数を用いて解答を出力します。正しい解が得られたことが分かります。"
   ]
  },
  {
   "cell_type": "code",
   "execution_count": null,
   "metadata": {},
   "outputs": [],
   "source": [
    "print_sudoku(answer)"
   ]
  }
 ],
 "metadata": {
  "language_info": {
   "name": "python",
   "pygments_lexer": "ipython3"
  }
 },
 "nbformat": 4,
 "nbformat_minor": 2
}
