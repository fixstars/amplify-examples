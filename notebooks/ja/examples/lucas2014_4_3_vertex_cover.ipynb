{
 "cells": [
  {
   "cell_type": "markdown",
   "id": "4b898407",
   "metadata": {},
   "source": [
    "# A. Lucas, Front. Phys. (2014) 掲載例題の実装と解説 ー 最小頂点被覆問題\n",
    "\n",
    "本サンプルコードでは、論文 [A. Lucas, \"Ising formulations of many NP problems\", *Front. Phys.* (2014)](https://www.frontiersin.org/articles/10.3389/fphy.2014.00005/full) で紹介されている『最小頂点被覆問題』に Fixstars Amplify を用いて取り組みます。同論文に紹介されている他の NP 完全・NP 困難な問題も以下で解説しています（カッコ内は論文内で問題に対応する節番号）。\n",
    "\n",
    "- [グラフの分割問題](https://amplify.fixstars.com/ja/demo/lucas2014_2_2_graph_partitioning)（2.2節）\n",
    "- [最大クリーク問題](https://amplify.fixstars.com/ja/demo/lucas2014_2_3_cliques)（2.3節）\n",
    "- [厳密被覆問題](https://amplify.fixstars.com/ja/demo/lucas2014_4_1_exact_cover)（4.1節）\n",
    "- [集合パッキング問題](https://amplify.fixstars.com/ja/demo/lucas2014_4_2_set_packing)（4.2節）\n",
    "- 頂点被覆問題（4.3節）\n",
    "- [充足可能性問題（SAT）](https://amplify.fixstars.com/ja/demo/lucas2014_4_4_satisfiability)（4.4節）\n",
    "- [最小極大マッチング問題](https://amplify.fixstars.com/ja/demo/lucas2014_4_5_minimal_maximal_matching)（4.5節）\n",
    "- [グラフ彩色問題](https://amplify.fixstars.com/ja/demo/lucas2014_6_1_graph_coloring)（6.1節）\n",
    "- [クリーク被覆問題](https://amplify.fixstars.com/ja/demo/lucas2014_6_2_clique_cover)（6.2節）\n",
    "- [整数長ジョブスケジューリング問題](https://amplify.fixstars.com/ja/demo/lucas2014_6_3_job_sequencing_with_integer_lengths)（6.3節）\n",
    "- [ハミルトン閉路問題](https://amplify.fixstars.com/ja/demo/lucas2014_7_1_hamiltonian_cycles_and_paths)（7.1節）\n",
    "- [有向帰還頂点集合問題](https://amplify.fixstars.com/ja/demo/lucas2014_8_3_directed_feedback_vertex_set)（8.3節）\n",
    "- [最小帰還辺集合問題](https://amplify.fixstars.com/ja/demo/lucas2014_8_5_feedback_edge_set)（8.5節）\n",
    "- [グラフ同型性判定問題](https://amplify.fixstars.com/ja/demo/lucas2014_9_graph_isomorphisms)（9節）"
   ]
  },
  {
   "cell_type": "markdown",
   "id": "1760d928",
   "metadata": {},
   "source": [
    "## 最小頂点被覆問題\n",
    "\n",
    "グラフ $G$ に対して、$G$ の頂点の部分集合 $R$ であって、$G$ のどの辺についても少なくともどちらかの端点が $R$ に含まれているようなものを $G$ の **頂点被覆** といいます。$G$ の頂点被覆のうち要素数が最小のものを求める問題を **最小頂点被覆問題** といいます。\n",
    "\n",
    "たとえば、以下のグラフにおいて、オレンジ色の頂点からなる集合は頂点被覆になっています。グラフ $G$ のどの辺も、オレンジ色の頂点に接続していることを確認してください。\n",
    "\n",
    "![図](../figures/Lucas2014/vertex_cover0.png)\n",
    "\n",
    "ここでは、Amplify SDK を用いて、$G$ の最小頂点被覆を求めるプログラムを作成します。定式化は [A. Lucas, Front. Phys. (2014)](https://www.frontiersin.org/articles/10.3389/fphy.2014.00005/full) の 4.3 節のものに沿って行います。"
   ]
  },
  {
   "cell_type": "markdown",
   "id": "4b2525fb",
   "metadata": {},
   "source": [
    "## 問題の作成\n",
    "\n",
    "最小頂点被覆問題を Fixstars Amplify を用いて解くために、例題として、NetworkX を使ってグラフ $G$ を作成します。"
   ]
  },
  {
   "cell_type": "code",
   "execution_count": null,
   "id": "a340ef47",
   "metadata": {},
   "outputs": [],
   "source": [
    "import networkx as nx\n",
    "import numpy as np\n",
    "\n",
    "N = 6  # グラフの頂点数\n",
    "G = nx.Graph()\n",
    "G.add_nodes_from(range(N))\n",
    "elist = [(0, 1), (0, 4), (0, 5), (1, 2), (1, 4), (2, 3), (2, 4), (2, 5), (3, 4), (4, 5)]\n",
    "\n",
    "G.add_edges_from(elist)\n",
    "\n",
    "pos = nx.circular_layout(G)\n",
    "\n",
    "# 作成したグラフの描画\n",
    "nx.draw_networkx(G, node_size=600, font_color=\"w\", pos=pos)"
   ]
  },
  {
   "cell_type": "markdown",
   "id": "b6baceb2",
   "metadata": {},
   "source": [
    "前述の通り、頂点 0, 頂点 2, 頂点 4 からなる集合は頂点被覆をなします。\n",
    "また、集合 $R$ が頂点被覆となるためには、頂点 0 と頂点 1 のどちらか、頂点 2 と頂点 3 のどちらか、および頂点 4 と頂点 5 のどちらかが $R$ に含まれていなければならないので、頂点被覆の要素数の最小値は $3$ であることが分かります。\n"
   ]
  },
  {
   "cell_type": "markdown",
   "id": "9a8eed5a",
   "metadata": {},
   "source": [
    "## 定式化\n",
    "\n",
    "以下、$G$ の頂点の数を $N$ とします。\n",
    "\n",
    "### 決定変数\n",
    "\n",
    "$N$ 個のバイナリ変数 $q$ を各頂点と対応付けて、それぞれの頂点が頂点被覆 $R$ に含まれるかどうかを表すことにします。$R$ に含まれるなら $1$ で含まれないなら $0$ です。\n",
    "\n",
    "たとえば、以下の図において、$R$ がオレンジ色の頂点の集合のとき、決定変数 $q$ は下の表のようになります。\n",
    "\n",
    "![図](../figures/Lucas2014/vertex_cover1.png)\n",
    "\n",
    "| 頂点 | 0 | 1 | 2 | 3 | 4 | 5 |\n",
    "| ---- | - | - | - | - | - | - |\n",
    "| $q$  | 1 | 0 | 1 | 0 | 1 | 0 |\n",
    "\n",
    "### 目的関数\n",
    "\n",
    "$R$ の要素数をできるだけ少なくすれば良いので、目的関数は $\\displaystyle \\sum_{v = 0}^{N - 1}q_v$ となります。\n",
    "\n",
    "<a id=\"constraint\"></a>\n",
    "### 制約条件\n",
    "\n",
    "$q$ が頂点被覆を表すためには、以下が必要です。\n",
    "\n",
    "* 条件 1：$G$ の各辺 $(u, v)$ について、$u$ または $v$ のどちらかが $R$ に含まれる。\n",
    "\n",
    "これは、$u$ に対応するバイナリ変数と $v$ に対応するバイナリ変数のどちらかが $1$ であるという条件なので、\n",
    "\n",
    "$$\n",
    "(1 - q_u) (1 - q_v) = 0 \\quad \\text{for} \\quad (u, v) \\in E\n",
    "$$\n",
    "\n",
    "で表せます。ただし、$E$ は $G$ の辺集合です。\n",
    "\n",
    "逆に、条件 1 が成り立つとき、明らかに $R$ は $G$ の頂点被覆となります。"
   ]
  },
  {
   "cell_type": "markdown",
   "id": "163dd7d7",
   "metadata": {},
   "source": [
    "## 実装\n",
    "\n",
    "上で作成した問題と定式化を使って、実際に問題を解いてみましょう。最初に、Fixstars Amplify SDK の `BinarySymbolGenerator` を使って部分集合の数だけバイナリ変数 $q$ を作成します。"
   ]
  },
  {
   "cell_type": "code",
   "execution_count": null,
   "id": "4f1506f4",
   "metadata": {},
   "outputs": [],
   "source": [
    "from amplify import BinarySymbolGenerator\n",
    "\n",
    "gen = BinarySymbolGenerator()\n",
    "q = gen.array(N)"
   ]
  },
  {
   "cell_type": "markdown",
   "id": "009bf506",
   "metadata": {},
   "source": [
    "目的関数を作成します。前述の通り、目的関数は、$R$ の要素数であり、$q$ の総和をとることで計算できます。"
   ]
  },
  {
   "cell_type": "code",
   "execution_count": null,
   "id": "0dd37f11",
   "metadata": {},
   "outputs": [],
   "source": [
    "cost = q.sum()"
   ]
  },
  {
   "cell_type": "markdown",
   "id": "ad0e49a9",
   "metadata": {},
   "source": [
    "[条件 1](#constraint) に対応する制約条件を作成します。条件 1 は、$G$ の各辺について、2 つの端点のどちらかが $R$ に含まれることを意味し、$(1 - q_u) (1 - q_v) = 0 ,\\:\\: (u, v) \\in E$ で表されます。"
   ]
  },
  {
   "cell_type": "code",
   "execution_count": null,
   "id": "3df17c30",
   "metadata": {},
   "outputs": [],
   "source": [
    "from amplify.constraint import equal_to\n",
    "\n",
    "constraint = [equal_to((1 - q[u]) * (1 - q[v]), 0) for u, v in G.edges]"
   ]
  },
  {
   "cell_type": "markdown",
   "id": "18291942",
   "metadata": {},
   "source": [
    "作成した目的関数と制約条件をまとめて、論理模型に変換します。今回は必要ありませんが、問題設定次第では、制約条件に重みを掛ける必要がある場合があります。基本的な考え方として、目的関数の取り得る値と同等の値またはそれより少々大きめの値を推定して決定します。"
   ]
  },
  {
   "cell_type": "code",
   "execution_count": null,
   "id": "a7b135e6",
   "metadata": {},
   "outputs": [],
   "source": [
    "from amplify import BinaryQuadraticModel\n",
    "\n",
    "model = BinaryQuadraticModel(cost + sum(constraint))"
   ]
  },
  {
   "cell_type": "markdown",
   "id": "4c74bc21",
   "metadata": {},
   "source": [
    "クライアントを設定して、Fixstars Amplify Annealing Engine (AE) で実行します。`Solver` は制約条件をみたす解を自動でフィルターするので、`result` が空でなければ、制約条件をみたす解が見つかったと分かります。"
   ]
  },
  {
   "cell_type": "code",
   "execution_count": null,
   "id": "b3d83338",
   "metadata": {},
   "outputs": [],
   "source": [
    "from amplify.client import FixstarsClient\n",
    "from amplify import Solver\n",
    "\n",
    "client = FixstarsClient()\n",
    "# client.token = \"xxxxxxxxxxxxxxxxxxxxxxxxxxxxxxxx\"  # ローカル環境等で使用する場合は、Fixstars Amplify AE のアクセストークンを入力してください。\n",
    "client.parameters.timeout = 1000\n",
    "\n",
    "# ソルバーを定義して実行\n",
    "solver = Solver(client)\n",
    "result = solver.solve(model)\n",
    "\n",
    "if len(result) == 0:\n",
    "    print(\"頂点被覆が見つかりませんでした。\")\n",
    "else:\n",
    "    print(\"頂点被覆が見つかりました。\")"
   ]
  },
  {
   "cell_type": "markdown",
   "id": "f7bc900c",
   "metadata": {},
   "source": [
    "最後に、結果を可視化します。正しく最小頂点被覆になっていることが確認できます。様々なグラフ形状でも同様に求解してみましょう。"
   ]
  },
  {
   "cell_type": "code",
   "execution_count": null,
   "id": "0588ac49",
   "metadata": {},
   "outputs": [],
   "source": [
    "import matplotlib.pyplot as plt\n",
    "\n",
    "values = q.decode(result[0].values)\n",
    "colors = [\"C1\" if value == 1 else \"C0\" for value in values]\n",
    "\n",
    "nx.draw_networkx(G, node_size=600, font_color=\"w\", node_color=colors, pos=pos)"
   ]
  }
 ],
 "metadata": {
  "language_info": {
   "name": "python",
   "pygments_lexer": "ipython3"
  }
 },
 "nbformat": 4,
 "nbformat_minor": 5
}
