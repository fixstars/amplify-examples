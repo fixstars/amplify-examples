{
 "cells": [
  {
   "cell_type": "markdown",
   "id": "e20e3b11",
   "metadata": {},
   "source": [
    "# A. Lucas, Front. Phys. (2014) 掲載例題の実装と解説 ー 充足可能性問題 (SAT)\n",
    "\n",
    "本サンプルコードでは、論文 [A. Lucas, \"Ising formulations of many NP problems\", *Front. Phys.* (2014)](https://www.frontiersin.org/articles/10.3389/fphy.2014.00005/full) で紹介されている『充足可能性問題 (SAT)』に Fixstars Amplify を用いて取り組みます。同論文に紹介されている他の NP 完全・NP 困難な問題も以下で解説しています（カッコ内は論文内で問題に対応する節番号）。\n",
    "\n",
    "- [グラフの分割問題](https://amplify.fixstars.com/ja/demo/lucas2014_2_2_graph_partitioning)（2.2節）\n",
    "- [最大クリーク問題](https://amplify.fixstars.com/ja/demo/lucas2014_2_3_cliques)（2.3節）\n",
    "- [厳密被覆問題](https://amplify.fixstars.com/ja/demo/lucas2014_4_1_exact_cover)（4.1節）\n",
    "- [集合パッキング問題](https://amplify.fixstars.com/ja/demo/lucas2014_4_2_set_packing)（4.2節）\n",
    "- [最小頂点被覆問題](https://amplify.fixstars.com/ja/demo/lucas2014_4_3_vertex_cover)（4.3節）\n",
    "- 充足可能性問題（SAT）（4.4節）\n",
    "- [最小極大マッチング問題](https://amplify.fixstars.com/ja/demo/lucas2014_4_5_minimal_maximal_matching)（4.5節）\n",
    "- [グラフ彩色問題](https://amplify.fixstars.com/ja/demo/lucas2014_6_1_graph_coloring)（6.1節）\n",
    "- [クリーク被覆問題](https://amplify.fixstars.com/ja/demo/lucas2014_6_2_clique_cover)（6.2節）\n",
    "- [整数長ジョブスケジューリング問題](https://amplify.fixstars.com/ja/demo/lucas2014_6_3_job_sequencing_with_integer_lengths)（6.3節）\n",
    "- [ハミルトン閉路問題](https://amplify.fixstars.com/ja/demo/lucas2014_7_1_hamiltonian_cycles_and_paths)（7.1節）\n",
    "- [有向帰還頂点集合問題](https://amplify.fixstars.com/ja/demo/lucas2014_8_3_directed_feedback_vertex_set)（8.3節）\n",
    "- [最小帰還辺集合問題](https://amplify.fixstars.com/ja/demo/lucas2014_8_5_feedback_edge_set)（8.5節）\n",
    "- [グラフ同型性判定問題](https://amplify.fixstars.com/ja/demo/lucas2014_9_graph_isomorphisms)（9節）"
   ]
  },
  {
   "cell_type": "markdown",
   "id": "a5b3cb8b",
   "metadata": {},
   "source": [
    "## 3-SAT 問題\n",
    "\n",
    "$N$ 個の論理変数 $x_1, x_2, \\ldots, x_N$ に対して、これらとその否定 $\\bar{x_1}, \\bar{x_2}, \\ldots, \\bar{x_N}$ のうちいくつかの論理和 (or) をとったものを **節** といいます。例えば、以下は節のひとつです。\n",
    "\n",
    "$$\n",
    "x_1 \\lor \\bar{x_2} \\lor x_3\n",
    "$$\n",
    "\n",
    "3-SAT 問題とは、3 つのリテラル（$x_i$ または $\\bar{x_i}$ のことです）からなる節がいくつかあるとき、$x_1, x_2, \\ldots, x_N$ のそれぞれに $0$ または $1$ を代入することで、すべての節の値が $1$ となるようにできるかどうかを判定する問題です。\n",
    "\n",
    "例えば、\n",
    "\n",
    "$$\n",
    "(x_1 \\lor \\bar{x_2} \\lor x_3) \\land (x_2 \\lor \\bar{x_3} \\lor x_4) \\land (\\bar{x_1} \\lor \\bar{x_2} \\lor \\bar{x_4}) \\land (x_2 \\lor x_3 \\lor x_4) \n",
    "$$\n",
    "\n",
    "は 3-SAT 問題であり、$x_1 = 1$, $x_2 = 1$, $x_3 = 1$, $x_4 = 0$ とすると 4 つの節がすべて $1$ となります。\n",
    "\n",
    "ここでは、Fixstars Amplify を用いて 3-SAT 問題の解を探索するプログラムを作成します。定式化は [A. Lucas, Front. Phys. (2014)](https://www.frontiersin.org/articles/10.3389/fphy.2014.00005/full) の 4.4 節のものに沿って行います。\n"
   ]
  },
  {
   "cell_type": "markdown",
   "id": "3ef0be97",
   "metadata": {},
   "source": [
    "## 問題の作成\n",
    "\n",
    "本サンプルプログラムでは、3-SAT 問題の例題として、\n",
    "\n",
    "$$\n",
    "(x_1 \\lor \\bar{x_2} \\lor x_3) \\land (x_2 \\lor \\bar{x_3} \\lor x_4) \\land (\\bar{x_1} \\lor \\bar{x_2} \\lor \\bar{x_4}) \\land (x_2 \\lor x_3 \\lor x_4) \n",
    "$$\n",
    "\n",
    "を扱います。\n",
    "\n",
    "コード中では、論理変数 $x_1, x_2, \\ldots, x_N$ はインデックス $1, 2, \\ldots, N$ で、それらの否定 $\\bar{x_1}, \\bar{x_2}, \\ldots, \\bar{x_N}$ は負の数 $-1, -2, \\ldots, -N$ で表現することにします。節はリテラルのタプルとして表現し、3-SAT 問題は節のリストで表します。"
   ]
  },
  {
   "cell_type": "code",
   "execution_count": null,
   "id": "63eb3387",
   "metadata": {},
   "outputs": [],
   "source": [
    "N = 4  # 論理変数の数\n",
    "problem = [(1, -2, 3), (2, -3, 4), (-1, -2, -4), (2, 3, 4)]"
   ]
  },
  {
   "cell_type": "markdown",
   "id": "1dd80122",
   "metadata": {},
   "source": [
    "## 定式化\n",
    "\n",
    "以下、論理変数の数を $N$、節の数を $M$ とします。上で実装した今回の問題設定では、$N=4$, $M=4$ となります。\n",
    "\n",
    "### 定式化の方針\n",
    "\n",
    "$3 \\times M$ 個のバイナリ変数 $q$ を用意し、それぞれの節に現れる各リテラルと対応させます。つまり、$q_{i, j}$ は、$i$ 番目の節に現れる $j$ 番目のリテラルに対応します。\n",
    "\n",
    "ここで、リテラルとバイナリ変数の値同士を対応させるのがすぐに思いつく方法ですが、この方法で定式化すると最終的に[不等式制約の導入により、補助変数が必要](https://amplify.fixstars.com/ja/docs/constraint.html#constraint-inequality-method)になります。補助変数の利用は必ずしも悪いことではありませんが、使わないに越したことはないため、今回は別の方法での定式化を考えます。\n",
    "\n",
    "以下の問題を考えます：\n",
    "\n",
    "---\n",
    "\n",
    "(問題☆) ： 3-SAT 問題のそれぞれの節について、その節に現れるリテラルのうち 1 つだけに印をつけます（↓参照）。印をつけた $M$ 個のリテラルの中に、ある論理変数 $x_i$ とその否定 $\\bar{x_i}$ が両方現れることがないようにできるでしょうか?\n",
    "\n",
    "$$\n",
    "\\text{印をつけた例：}\\:\\:(\\boxed{x_1} \\lor \\bar{x_2} \\lor x_3) \\land (\\boxed{x_2} \\lor \\bar{x_3} \\lor x_4) \\land (\\bar{x_1} \\lor \\bar{x_2} \\lor \\boxed{\\bar{x_4}}) \\land (\\boxed{x_2} \\lor x_3 \\lor x_4) \n",
    "$$\n",
    "\n",
    "--- \n",
    "\n",
    "実は、もしこの (問題☆) が解けるとすると、3-SAT 問題も解けることになります。というのも、以下のようにすれば、(問題☆) の解から 3-SAT 問題の解を導くことができるためです。\n",
    "\n",
    "- **3-SAT 問題の解の導出**  \n",
    "  $i = 1, 2, \\ldots, N$ それぞれについて、(問題☆) の解において印がついているリテラルの中から、$x_i$ または $\\bar{x_i}$ であるものを探します（そのようなものは複数あるかもしれませんが、(問題☆) の条件より、$x_i$ と $\\bar{x_i}$ の両方に印がついていることはありません）。$x_i$ に印がついているときは $x_i = 1$ とし、$\\bar{x_i}$ に印がついているときは $x_i = 0$ とします。どの $x_i$ または $\\bar{x_i}$ にも印がついていないときは、 $x_i$ は $0$ と $1$ のどちらにしても構いません。\n",
    "\n",
    "このようにして決めた論理変数 $x$ が 3-SAT 問題の解となっていることは簡単に分かります。\n",
    "また、3-SAT 問題に解が存在するならば、その解において $1$ と等しくなるリテラルを各節ごとに 1 つ選んで印をつけることで (問題☆) の解を構成できるので、3-SAT 問題に解が存在するにもかかわらず 問題 (☆) には解が存在しない、ということが起こりえないことも分かります。\n",
    "\n",
    "したがって、3-SAT 問題の代わりに (問題☆) を解けばよいです。\n",
    "\n",
    "(問題☆) を定式化します。 $3 \\times M$ 個のバイナリ変数 $q$ を各リテラルと対応させた上で、バイナリ変数は、対応するリテラルに印がついているかどうかを表すことにします。印がついていれば $1$ 、ついていなければ $0$ です。\n",
    "\n",
    "たとえば、以下の式で四角で囲ったリテラルに印がついているとき、$q$ は次の表のようになります。\n",
    "\n",
    "$$\n",
    "(\\boxed{x_1} \\lor \\bar{x_2} \\lor x_3) \\land (\\boxed{x_2} \\lor \\bar{x_3} \\lor x_4) \\land (\\bar{x_1} \\lor \\bar{x_2} \\lor \\boxed{\\bar{x_4}}) \\land (\\boxed{x_2} \\lor x_3 \\lor x_4) \n",
    "$$\n",
    "\n",
    "| $q$              | 1 番目のリテラル | 2 番目のリテラル | 3 番目のリテラル |\n",
    "|:----------------:|:----------------:|:----------------:|:----------------:|\n",
    "| 1 番目の節       | 1                | 0                | 0                |\n",
    "| 2 番目の節       | 1                | 0                | 0                |\n",
    "| 3 番目の節       | 0                | 0                | 1                |\n",
    "| 4 番目の節       | 1                | 0                | 0                |\n",
    "\n",
    "また、この $q$ から 3-SAT 問題の解を復元すると、$x_1 = 1$, $x_2 = 1$, $x_4 = 0$ となります。復元方法は、前述の通り、$x_i$ に印がついているときは $x_i = 1$、$\\bar{x_i}$ に印がついているときは $x_i = 0$、$x_i$ または $\\bar{x_i}$ にも印がついていないときは、 $x_i$ は $0$ と $1$ のどちらでも良い、です（つまり、$x_3$ は $0$ または $1$ のどちらでも構いません）。"
   ]
  },
  {
   "cell_type": "markdown",
   "id": "238c4c61",
   "metadata": {},
   "source": [
    "\n",
    "### 目的関数\n",
    "\n",
    "(問題☆) は、条件をみたす印のつけ方を 1 つ見つける問題なので、目的関数は $0$（無し）です。\n",
    "\n",
    "### 制約条件\n",
    "\n",
    "$q$ に対応する印の付け方が (問題☆) の解となるためには、以下がみたされる必要があります。\n",
    "\n",
    "* 条件 1：各節について、その節に現れる論理変数と対応するバイナリ変数のうち、ちょうど 1 つが $1$ である。\n",
    "* 条件 2：各 $i$ について、$x_i$ と対応するバイナリ変数と $\\bar{x_i}$ と対応するバイナリ変数がともに $1$ となっていることはない。\n",
    "\n",
    "条件 1 は、$q$ の各行に関する [one-hot](https://amplify.fixstars.com/ja/docs/constraint.html#constraint-tsp-formulation) 制約であり、以下のように表されます。\n",
    "\n",
    "$$\n",
    "\\sum_{k = 0}^{N-1} q_{i, k} = 1 \\quad  \\text{for} \\quad i \\in \\{0, 1, \\ldots, M-1\\}\n",
    "$$\n",
    "\n",
    "また、条件 2 は、以下のように表されます。\n",
    "\n",
    "$$\n",
    "q_{i, k} q_{j, l} = 0\n",
    "$$\n",
    "\n",
    "ここで、上式において、$(i, j, k, l)$ は、$q_{i, k}$ に対応するリテラルが $q_{j, l}$ に対応するリテラルの否定となるようなインデックスです。\n"
   ]
  },
  {
   "cell_type": "markdown",
   "id": "88f2c231",
   "metadata": {},
   "source": [
    "## 実装\n",
    "\n",
    "上で作成した問題と定式化を使って、実際に問題を解いてみましょう。最初に、Fixstars Amplify SDK の `BinarySymbolGenerator` を使って $3\\times M$ のバイナリ変数 $q$ を作成します。"
   ]
  },
  {
   "cell_type": "code",
   "execution_count": null,
   "id": "5fa8c13d",
   "metadata": {},
   "outputs": [],
   "source": [
    "from amplify import BinarySymbolGenerator\n",
    "\n",
    "M = len(problem)  # number of clauses\n",
    "\n",
    "gen = BinarySymbolGenerator()\n",
    "q = gen.array(M, 3)"
   ]
  },
  {
   "cell_type": "markdown",
   "id": "72f6b002",
   "metadata": {},
   "source": [
    "次に、条件 1 に対応する制約条件を作成します。前述の通り、条件 1 は、$q$ の各行についての one-hot 制約です。"
   ]
  },
  {
   "cell_type": "code",
   "execution_count": null,
   "id": "9701e0c8",
   "metadata": {},
   "outputs": [],
   "source": [
    "from amplify.constraint import one_hot\n",
    "\n",
    "constraint1 = [one_hot(q[i]) for i in range(M)]"
   ]
  },
  {
   "cell_type": "markdown",
   "id": "c9e667d7",
   "metadata": {},
   "source": [
    "条件 2 に対応する制約条件を作成します。条件 2 は、$x_i$ と対応する $q$ の要素と、$\\bar{x_i}$ と対応する $q$ の要素が両方 $1$ であってはならないという条件でした。$q_{i, k}$ に対応するリテラルは `problem[i][k]` で取得でき、その絶対値が論理変数のインデックスを表し、その符号が否定であるかどうかを表しています。したがって、ある 2 つのリテラルが互いに否定であるかどうかは、その 2 つの `problem` 同士を足して $0$ になるかどうか、と同一です。"
   ]
  },
  {
   "cell_type": "code",
   "execution_count": null,
   "id": "19700cb9",
   "metadata": {},
   "outputs": [],
   "source": [
    "from amplify.constraint import equal_to\n",
    "\n",
    "constraint2 = [\n",
    "    equal_to(q[i, k] * q[j, l], 0)\n",
    "    for i in range(M)\n",
    "    for k in range(3)\n",
    "    for j in range(M)\n",
    "    for l in range(3)\n",
    "    if problem[i][k] + problem[j][l] == 0\n",
    "]"
   ]
  },
  {
   "cell_type": "markdown",
   "id": "23ee8d72",
   "metadata": {},
   "source": [
    "作成した制約条件をまとめて、論理模型に変換します。"
   ]
  },
  {
   "cell_type": "code",
   "execution_count": null,
   "id": "bdf85930",
   "metadata": {},
   "outputs": [],
   "source": [
    "from amplify import BinaryQuadraticModel\n",
    "\n",
    "model = BinaryQuadraticModel(sum(constraint1) + sum(constraint2))"
   ]
  },
  {
   "cell_type": "markdown",
   "id": "296df15c",
   "metadata": {},
   "source": [
    "クライアントを設定して、Fixstars Amplify Annealing Engine (AE) で実行します。"
   ]
  },
  {
   "cell_type": "code",
   "execution_count": null,
   "id": "ab98e27c",
   "metadata": {},
   "outputs": [],
   "source": [
    "from amplify.client import FixstarsClient\n",
    "from amplify import Solver\n",
    "\n",
    "client = FixstarsClient()\n",
    "# client.token = \"xxxxxxxxxxxxxxxxxxxxxxxxxxxxxxxx\"  # ローカル環境等で使用する場合は、Fixstars Amplify AE のアクセストークンを入力してください。\n",
    "client.parameters.timeout = 1000\n",
    "\n",
    "# ソルバーを定義して実行\n",
    "solver = Solver(client)\n",
    "result = solver.solve(model)"
   ]
  },
  {
   "cell_type": "markdown",
   "id": "7160ddf3",
   "metadata": {},
   "source": [
    "解が見つかったかどうかを確認します。`Solver` は制約条件をみたす解を自動でフィルターするので、`result` が空でなければ、制約条件をみたす解が見つかったと分かります。"
   ]
  },
  {
   "cell_type": "code",
   "execution_count": null,
   "id": "894e549e",
   "metadata": {},
   "outputs": [],
   "source": [
    "if len(result) == 0:\n",
    "    print(\"解が見つかりませんでした。\")\n",
    "else:\n",
    "    print(\"解が見つかりました。\")"
   ]
  },
  {
   "cell_type": "markdown",
   "id": "4b3a10ac",
   "metadata": {},
   "source": [
    "最後に、マシンが出力した (問題☆) の解を 3-SAT 問題の解に変換します。"
   ]
  },
  {
   "cell_type": "code",
   "execution_count": null,
   "id": "307eb544",
   "metadata": {},
   "outputs": [],
   "source": [
    "import numpy as np\n",
    "\n",
    "x = np.zeros(N + 1)  # 3-SAT 問題の解のデフォルト値。x が 1-origin なので余分に1個作っておく\n",
    "values = q.decode(result[0].values)  # decode メソッドにより、決定変数と同じ形に解を整形\n",
    "ones = np.argwhere(values == 1)  # 1 となっている q の要素を検索\n",
    "for i, k in ones:\n",
    "    if problem[i][k] > 0:\n",
    "        x[problem[i][k]] = 1\n",
    "print(x[1:])"
   ]
  }
 ],
 "metadata": {
  "language_info": {
   "name": "python",
   "pygments_lexer": "ipython3"
  }
 },
 "nbformat": 4,
 "nbformat_minor": 5
}
