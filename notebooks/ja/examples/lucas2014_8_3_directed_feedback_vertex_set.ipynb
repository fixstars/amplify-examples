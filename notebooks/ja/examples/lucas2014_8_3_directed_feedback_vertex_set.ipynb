{
 "cells": [
  {
   "cell_type": "markdown",
   "id": "4c3cfa00",
   "metadata": {},
   "source": [
    "# A. Lucas, Front. Phys. (2014) 掲載例題の実装と解説 ー 有向帰還頂点集合問題\n",
    "\n",
    "本サンプルコードでは、論文 [A. Lucas, \"Ising formulations of many NP problems\", *Front. Phys.* (2014)](https://www.frontiersin.org/articles/10.3389/fphy.2014.00005/full) で紹介されている『有向帰還頂点集合問題』に Fixstars Amplify を用いて取り組みます。同論文に紹介されている他の NP 完全・NP 困難な問題も以下で解説しています（カッコ内は論文内で問題に対応する節番号）。\n",
    "\n",
    "- [グラフの分割問題](https://amplify.fixstars.com/ja/demo/lucas2014_2_2_graph_partitioning)（2.2節）\n",
    "- [最大クリーク問題](https://amplify.fixstars.com/ja/demo/lucas2014_2_3_cliques)（2.3節）\n",
    "- [厳密被覆問題](https://amplify.fixstars.com/ja/demo/lucas2014_4_1_exact_cover)（4.1節）\n",
    "- [集合パッキング問題](https://amplify.fixstars.com/ja/demo/lucas2014_4_2_set_packing)（4.2節）\n",
    "- [頂点被覆問題](https://amplify.fixstars.com/ja/demo/lucas2014_4_3_vertex_cover)（4.3節）\n",
    "- [充足可能性問題（SAT）](https://amplify.fixstars.com/ja/demo/lucas2014_4_4_satisfiability)（4.4節）\n",
    "- [最小極大マッチング問題](https://amplify.fixstars.com/ja/demo/lucas2014_4_5_minimal_maximal_matching)（4.5節）\n",
    "- [グラフ彩色問題](https://amplify.fixstars.com/ja/demo/lucas2014_6_1_graph_coloring)（6.1節）\n",
    "- [クリーク被覆問題](https://amplify.fixstars.com/ja/demo/lucas2014_6_2_clique_cover)（6.2節）\n",
    "- [整数長ジョブスケジューリング問題](https://amplify.fixstars.com/ja/demo/lucas2014_6_3_job_sequencing_with_integer_lengths)（6.3節）\n",
    "- [ハミルトン閉路問題](https://amplify.fixstars.com/ja/demo/lucas2014_7_1_hamiltonian_cycles_and_paths)（7.1節）\n",
    "- 有向帰還頂点集合問題（8.3節）\n",
    "- [最小帰還辺集合問題](https://amplify.fixstars.com/ja/demo/lucas2014_8_5_feedback_edge_set)（8.5節）\n",
    "- [グラフ同型性判定問題](https://amplify.fixstars.com/ja/demo/lucas2014_9_graph_isomorphisms)（9節）"
   ]
  },
  {
   "cell_type": "markdown",
   "id": "c612b47a",
   "metadata": {},
   "source": [
    "## 有向帰還頂点集合問題\n",
    "\n",
    "有向グラフ $G$ が与えられたとき、$G$ の頂点の部分集合 $F$ であって、どの $G$ の閉路も $F$ の頂点を $1$ つ以上通るものを **有向帰還頂点集合** といいます。\n",
    "言い換えると、$G$ の $F$ に含まれない頂点を出発して、$F$ に含まれない頂点のみを通ってもとの頂点に戻ってくることができないとき、$F$ は $G$ の有向帰還頂点集合になります。\n",
    "\n",
    "例えば、下図のグラフに対して、オレンジ色で示した頂点の部分集合は、有向帰還頂点集合の 1 つとなります。\n",
    "\n",
    "![有向罹患頂点集合の例](../figures/Lucas2014/feedback_vertex_ex.png)\n",
    "\n",
    "**有向帰還頂点集合問題** とは、有向グラフ $G$ に対して、$G$ の帰還頂点集合のうち最小の要素数のものを求める問題です。本サンプルプログラムの定式化は [A. Lucas, Front. Phys. (2014)](https://www.frontiersin.org/articles/10.3389/fphy.2014.00005/full) の 8.3 節のものに沿って行います。"
   ]
  },
  {
   "cell_type": "markdown",
   "id": "0b769d68",
   "metadata": {},
   "source": [
    "## 問題の作成\n",
    "\n",
    "本サンプルプログラムで取り組む帰還頂点集合問題として、NetworkX を用いて有向グラフ $G$ を作成します。"
   ]
  },
  {
   "cell_type": "code",
   "execution_count": null,
   "id": "994c52cf",
   "metadata": {},
   "outputs": [],
   "source": [
    "import networkx as nx\n",
    "import numpy as np\n",
    "\n",
    "N = 8  # グラフ頂点の数\n",
    "G = nx.DiGraph()\n",
    "G.add_nodes_from(range(N))\n",
    "\n",
    "elist = [\n",
    "    (0, 1),\n",
    "    (1, 2),\n",
    "    (2, 3),\n",
    "    (3, 4),\n",
    "    (4, 5),\n",
    "    (5, 6),\n",
    "    (6, 7),\n",
    "    (7, 0),\n",
    "    (4, 2),\n",
    "    (7, 1),\n",
    "    (7, 5),\n",
    "]\n",
    "G.add_edges_from(elist)\n",
    "\n",
    "node_labels = {\n",
    "    0: \"a\",\n",
    "    1: \"b\",\n",
    "    2: \"c\",\n",
    "    3: \"d\",\n",
    "    4: \"e\",\n",
    "    5: \"f\",\n",
    "    6: \"g\",\n",
    "    7: \"h\",\n",
    "}\n",
    "pos = nx.circular_layout(G)  # レイアウトを保存しておく\n",
    "\n",
    "nx.draw_networkx(G, node_size=600, font_color=\"w\", labels=node_labels, pos=pos)"
   ]
  },
  {
   "cell_type": "markdown",
   "id": "d3705e2d",
   "metadata": {},
   "source": [
    "作成したグラフ $G$ から頂点 $e$, $f$ を取り除いたグラフは閉路を持たないことは簡単に分かります。つまり、$\\{e, f\\}$ は $G$ の帰還頂点集合です。\n",
    "また、閉路 $c\\rightarrow d\\rightarrow e\\rightarrow c$ と閉路 $f\\rightarrow g\\rightarrow h\\rightarrow f$ は共通部分を持たないので、$G$ の帰還頂点集合の要素数は $2$ 以上です。\n",
    "したがって、この問題に関しては、$G$ の帰還頂点集合の要素数の最小値は $2$ となります。"
   ]
  },
  {
   "cell_type": "markdown",
   "id": "257c7297",
   "metadata": {},
   "source": [
    "## 定式化\n",
    "\n",
    "### 方針\n",
    "\n",
    "以下、$G$ の頂点の個数を $N$ とします。\n",
    "\n",
    "まず、$N$ 個のバイナリ変数 $y$ を各頂点と対応付けて、それぞれの頂点が帰還頂点集合 $F$ に含まれるかどうかを表すことにします。$F$ に含まれるなら $0$ で含まれないなら $1$ です。\n",
    "\n",
    "次に、本問題の言い換えである「$F$ に含まれない頂点からなる $G$ の部分グラフ $H$ が閉路を持たない」という条件は、さらに「$H$ の頂点に番号をうまく付けると、 $H$ のすべての辺が番号の小さな頂点から大きな頂点に向かって出ているようにできる」という条件に言い換えることができます（証明：$\\Rightarrow$ は簡単、$\\Leftarrow$ はトポロジカルソート）。\n",
    "この番号付けは $N\\times N$ のバイナリ変数テーブル $x$ を用いて、頂点 $v$ の番号が $i$ であるとき $v$ 行 $i$ 列のバイナリ変数を $1$ とすることで表現できます。\n",
    "\n",
    "たとえば、上で作成した問題は以下のようなグラフになっています。\n",
    "\n",
    "![問題のグラフ](../figures/Lucas2014/feedback_vertex_set0.png)\n",
    "\n",
    "このグラフの各頂点に以下のように色と番号を付けると、オレンジ色の2点 $e$, $f$ は帰還頂点集合となっていて、青い頂点同士を結ぶ辺は番号の小さな頂点から大きな頂点に向かって出ています。\n",
    "\n",
    "![色付けされたグラフ](../figures/Lucas2014/feedback_vertex_set1.png)\n",
    "\n",
    "このような帰還頂点集合の選び方および番号の付け方に対応するバイナリ変数 $y$, $x$ は以下の表のようになります。ただし、帰還頂点集合に含まれる頂点と対応する $x$ の行はすべて $0$ とすることにします。\n",
    "\n",
    "|     | a   | b   | c   | d   | e   | f   | g   | h   |\n",
    "| --- | --- | --- | --- | --- | --- | --- | --- | --- |\n",
    "| $y$ | 1   | 1   | 1   | 1   | 0   | 0   | 1   | 1   |\n",
    "\n",
    "<br/>\n",
    "\n",
    "| $$x$$ | 0   | 1   | 2   | 3   | 4   | 5   | 6   | 7   |\n",
    "| ----- | --- | --- | --- | --- | --- | --- | --- | --- |\n",
    "| a     | 0   | 0   | 1   | 0   | 0   | 0   | 0   | 0   |\n",
    "| b     | 0   | 0   | 0   | 1   | 0   | 0   | 0   | 0   |\n",
    "| c     | 0   | 0   | 0   | 0   | 1   | 0   | 0   | 0   |\n",
    "| d     | 0   | 0   | 0   | 0   | 0   | 1   | 0   | 0   |\n",
    "| e     | 0   | 0   | 0   | 0   | 0   | 0   | 0   | 0   |\n",
    "| f     | 0   | 0   | 0   | 0   | 0   | 0   | 0   | 0   |\n",
    "| g     | 1   | 0   | 0   | 0   | 0   | 0   | 0   | 0   |\n",
    "| h     | 0   | 1   | 0   | 0   | 0   | 0   | 0   | 0   |"
   ]
  },
  {
   "cell_type": "markdown",
   "id": "b03937e1",
   "metadata": {},
   "source": [
    "### 目的関数\n",
    "\n",
    "帰還頂点集合の要素数ができるだけ少なくなればよいので、目的関数は\n",
    "$\\displaystyle -\\sum_{v=0}^{N-1} y_v$\n",
    "となります。$y_v$ は 頂点 $v$ が帰還頂点集合に含まれるなら $0$、そうでないなら $1$ となることに注意してください。\n",
    "\n",
    "### 制約条件\n",
    "\n",
    "$y$ および $x$ が帰還頂点集合を表すためには、以下が必要です。\n",
    "\n",
    "* 条件1： $F$ に含まれない頂点には番号が $1$ つ付けられている。つまり、 $x$ の $v$ 行目は、$v$ が帰還頂点集合に含まれるならばすべて $0$ であり、そうでないならば $1$ つだけが $1$ である。\n",
    "* 条件2： $G$ の辺 $u\\rightarrow v$ について、$u$ と $v$ がともに帰還頂点集合に含まれないならば、$u$ の番号は $v$ の番号よりも小さい。つまり、このとき自然数 $i \\leq j$ に対して、$x_{u, j}$ と $x_{v, i}$ が両方 $1$ であってはならない（注意：$x_{u, \\underline{i}}$ と $x_{v, \\underline{j}}$ は両方 $1$ になり得る）。\n",
    "\n",
    "条件 1 は\n",
    "\n",
    "$$\n",
    "    \\sum_{i=0}^{N-1} x_{v, i} = y_v \\quad \\text{for} \\quad v \\in \\{0, 1, \\ldots, N-1\\}\n",
    "$$\n",
    "\n",
    "と表すことができます。\n",
    "\n",
    "また、条件 1 より、$u$, $v$ のどちらかが帰還頂点集合に含まれるならば $x_{u, j}$ と $x_{v, i}$ がともに $1$ になることはないので、条件 2 のうち「$u$ と $v$ がともに帰還頂点集合に含まれない」という条件は自然と考慮されます。したがって、条件 2 は\n",
    "\n",
    "$$\n",
    "    x_{u, j} x_{v, i} = 0 \\quad \\text{for} \\quad (u, v) \\in E, \\ 0 \\leq i \\leq j < N\n",
    "$$\n",
    "\n",
    "と表すことができます。\n",
    "\n",
    "逆に、バイナリ変数 $y$, $x$ が条件 1, 2 をみたしているとき、対応する $y$ が $y=1$ となっている頂点の集合は帰還頂点集合となるので、これらを制約条件として与えればよいです。"
   ]
  },
  {
   "cell_type": "markdown",
   "id": "f3c14d9d",
   "metadata": {},
   "source": [
    "## 実装\n",
    "\n",
    "上で作成した問題と定式化を使って、実際に問題を解いてみましょう。\n",
    "まず、Fixstars Amplify SDK の `BinarySymbolGenerator` を使い、バイナリ変数 $y$ と $x$ を作成します。"
   ]
  },
  {
   "cell_type": "code",
   "execution_count": null,
   "id": "d60424db",
   "metadata": {},
   "outputs": [],
   "source": [
    "from amplify import BinarySymbolGenerator\n",
    "\n",
    "gen = BinarySymbolGenerator()\n",
    "y = gen.array(N)\n",
    "x = gen.array(N, N)"
   ]
  },
  {
   "cell_type": "markdown",
   "id": "ab087728",
   "metadata": {},
   "source": [
    "次に、目的関数 $\\displaystyle -\\sum_v y_v$ を作成します。"
   ]
  },
  {
   "cell_type": "code",
   "execution_count": null,
   "id": "e173eb4e",
   "metadata": {},
   "outputs": [],
   "source": [
    "cost = -y.sum()"
   ]
  },
  {
   "cell_type": "markdown",
   "id": "ec996337",
   "metadata": {},
   "source": [
    "条件 1 に対応する制約条件を作成します。条件 1 は、$F$ に含まれない各頂点に番号が付けられていることを表し、これは、前述の通り、$x$ の各行の和が $y$ の各要素に等しいと言い換えることができます。"
   ]
  },
  {
   "cell_type": "code",
   "execution_count": null,
   "id": "a43360a9",
   "metadata": {},
   "outputs": [],
   "source": [
    "from amplify.constraint import equal_to\n",
    "\n",
    "constraint1 = [equal_to(x[v, :].sum() - y[v], 0) for v in range(N)]\n",
    "\n",
    "constraint1"
   ]
  },
  {
   "cell_type": "markdown",
   "id": "6dbf93d4",
   "metadata": {},
   "source": [
    "条件 2 に対応する制約条件を作成します。条件 2 は、$x_{u, j} x_{v, i} = 0 \\ \\bigl((u, v) \\in E, \\ 0 \\leq i \\leq j < N\\bigr)$ という制約です。"
   ]
  },
  {
   "cell_type": "code",
   "execution_count": null,
   "id": "1fa048c4",
   "metadata": {},
   "outputs": [],
   "source": [
    "constraint2 = [\n",
    "    equal_to(x[u, j] * x[v, i], 0)\n",
    "    for u, v in G.edges\n",
    "    for i in range(N)\n",
    "    for j in range(N)\n",
    "    if i <= j\n",
    "]"
   ]
  },
  {
   "cell_type": "markdown",
   "id": "5ae578b1",
   "metadata": {},
   "source": [
    "目的関数と制約条件を足し合わせて QUBO モデルを作成します。\n",
    "\n",
    "制約条件は目的関数に対するペナルティ関数としてイジングマシンに与えられるため、目的関数の取り得る値とおよそ同等の値またはそれより少々大きめの値を推定して決定します。今回は、制約の重みを $2$ とします。"
   ]
  },
  {
   "cell_type": "code",
   "execution_count": null,
   "id": "d972c831",
   "metadata": {},
   "outputs": [],
   "source": [
    "model = cost + (sum(constraint1) + sum(constraint2)) * 2"
   ]
  },
  {
   "cell_type": "markdown",
   "id": "6383de72",
   "metadata": {},
   "source": [
    "クライアントを設定し、Fixstars Amplify Annealing Engine (AE) で実行します。`Solver` は制約条件をみたす解を自動でフィルターするので、`result` が空でなければ解が見つかったと分かります。"
   ]
  },
  {
   "cell_type": "code",
   "execution_count": null,
   "id": "1d72d676",
   "metadata": {},
   "outputs": [],
   "source": [
    "from amplify.client import FixstarsClient\n",
    "from amplify import Solver\n",
    "\n",
    "client = FixstarsClient()\n",
    "# client.token = \"xxxxxxxxxxxxxxxxxxxxxxxxxxxxxxxx\"  # ローカル環境等で使用する場合は、Fixstars Amplify AE のアクセストークンを入力してください。\n",
    "client.parameters.timeout = 1000\n",
    "\n",
    "# ソルバーを定義して実行\n",
    "solver = Solver(client)\n",
    "result = solver.solve(model)\n",
    "\n",
    "if len(result) == 0:\n",
    "    print(\"解が見つかりませんでした\")\n",
    "else:\n",
    "    print(\"解が見つかりました\")"
   ]
  },
  {
   "cell_type": "markdown",
   "id": "2ae07dfd",
   "metadata": {},
   "source": [
    "最後に、結果を可視化します。"
   ]
  },
  {
   "cell_type": "code",
   "execution_count": null,
   "id": "441e64f4",
   "metadata": {},
   "outputs": [],
   "source": [
    "values = result[0].values\n",
    "y_values = y.decode(values)\n",
    "x_values = x.decode(values)\n",
    "\n",
    "numbering = {v: \"\" for v in G.nodes}\n",
    "numbering.update(dict(np.argwhere(x_values == 1)))\n",
    "\n",
    "colors = [\"C0\" if v == 1 else \"C1\" for v in y_values]\n",
    "\n",
    "nx.draw_networkx(\n",
    "    G, node_size=600, node_color=colors, font_color=\"w\", labels=numbering, pos=pos\n",
    ")"
   ]
  }
 ],
 "metadata": {
  "language_info": {
   "name": "python",
   "pygments_lexer": "ipython3"
  }
 },
 "nbformat": 4,
 "nbformat_minor": 5
}
