{
 "cells": [
  {
   "attachments": {
    "200px-Petersen_graph_3-coloring.svg.png": {
     "image/png": "[encoded data removed]"
    }
   },
   "cell_type": "markdown",
   "metadata": {},
   "source": [
    "# グラフ彩色問題\n",
    "\n",
    "Amplify を用いたグラフ彩色問題の解法について解説します。\n",
    "\n",
    "\n",
    "## グラフ彩色問題の定式化\n",
    "\n",
    "\n",
    "グラフ彩色問題とは、あるグラフが与えられたときに、与えられた制約条件の下でその頂点などに色を割り当てる問題です。最も典型的な問題は頂点に対して隣接する頂点同士別の色で塗り分ける問題です。\n",
    "\n",
    "![200px-Petersen_graph_3-coloring.svg.png](attachment:200px-Petersen_graph_3-coloring.svg.png)\n",
    "\n",
    "グラフ彩色問題にはいくつかの応用例が知られており、例えば、会議室・機械・タスクなどの割り当てに関するスケジューリング問題や、コンパイラによるレジスタ割り付け、携帯電話網における周波数割り当て等が挙げられます。今回は日本の都道府県に対して、4 色による塗り分けを行います。\n",
    "\n",
    "各都道府県につき 4 つのバイナリ変数を用意し、そのうち 1 つだけを 1、それ以外を 0 とすることで、4 色のうちどの色で塗られているかを表現します。\n",
    "\n",
    "| Region     | Red | Green | Blue | Yellow |\n",
    "|----------- |-----|-------|------|--------|\n",
    "| Hokkaido   | 0   | 0     | 1    | 0      |\n",
    "| Aomori     | 0   | 1     | 0    | 0      |\n",
    "| Akita      | 0   | 0     | 1    | 0      |\n",
    "| Iwate      | 1   | 0     | 0    | 0      |\n",
    "\n",
    "    \n",
    "上記の例では北海道に青、青森に緑、秋田に青、岩手に赤を割り当てることを意味しています。上記の表の $i$ 行 $c$ 列にある変数を $q_{i,c}$ と表すことにします。このとき $q_{i, c}$ は $i$ 番目の都道府県を $c$ 番目の色で塗るかどうかを表します。必要な変数の数は領域数 $N$、 色数 $C$ に対して $NC$ となります。\n",
    "\n",
    "塗り分け問題の定義から、以下が必要です。\n",
    "\n",
    "* 一つの領域を一つの色で塗る\n",
    "* 隣接する領域を同じ色で塗らない\n",
    "\n",
    "これらは、バイナリ変数の間の制約条件として、以下のように書くことができます。\n",
    "\n",
    "**制約条件**\n",
    "\n",
    "$$\n",
    "\\begin{align}\n",
    "    \\sum_{c = 0}^{C-1}{ q_{i,c} } = 1 & \\quad \\text{for all} \\; i \\\\\n",
    "    q_{i,c} q_{j,c} = 0 & \\quad \\text{if Region} \\; i \\; \\text{and Region} \\; j \\; \\text{are adjacent}\n",
    "\\end{align}\n",
    "$$\n",
    "\n",
    "後でプログラムコード化する都合により、変数のインデックスは $0$ からスタートしていることに注意してください。\n"
   ]
  },
  {
   "cell_type": "markdown",
   "metadata": {},
   "source": [
    "## 問題の作成\n",
    "\n",
    "日本地図を扱うために Python の [japanmap](https://pypi.org/project/japanmap/) モジュールを使用します。都道府県コード ($1 \\sim{} 47$) を用いて都道府県名や隣接情報などを取得できます。\n",
    "\n",
    "まずは色の定義を行い、変数テーブルを用意します。都道府県コードとプログラムコード上のインデックスを合わせるために、ダミーの都道府県を用意し、$(47 + 1) \\times 4$ 個のバイナリ変数を作成しておきます。"
   ]
  },
  {
   "cell_type": "code",
   "execution_count": null,
   "metadata": {},
   "outputs": [],
   "source": [
    "from amplify import VariableGenerator\n",
    "import japanmap as jm\n",
    "\n",
    "colors = [\"red\", \"green\", \"blue\", \"yellow\"]\n",
    "num_colors = len(colors)\n",
    "num_region = len(jm.pref_names)\n",
    "\n",
    "gen = VariableGenerator()\n",
    "q = gen.array(\"Binary\", shape=(num_region, num_colors))"
   ]
  },
  {
   "cell_type": "markdown",
   "metadata": {},
   "source": [
    "次に制約条件を作成します。One-hot 制約は `amplify.one_hot` 関数、最小値0をとる制約については、 `amplify.equal_to` 関数を用いて次のように書けます。\n"
   ]
  },
  {
   "cell_type": "code",
   "execution_count": null,
   "metadata": {},
   "outputs": [],
   "source": [
    "from amplify import sum as amplify_sum, one_hot, equal_to\n",
    "\n",
    "# 各領域に対する制約\n",
    "reg_constraints = one_hot(q[1:], axis=1)  # ダミー都道府県は定式化には含めない\n",
    "\n",
    "# 隣接する領域間の制約\n",
    "adj_constraints = amplify_sum(\n",
    "    equal_to(q[i, :] * q[j, :], 0, axis=())\n",
    "    for i in range(1, num_region)\n",
    "    for j in jm.adjacent(\n",
    "        i\n",
    "    )  # j: 都道府県コード i の都道府県と隣接している都道府県コード\n",
    "    if i < j  # type: ignore\n",
    ")\n",
    "\n",
    "model = reg_constraints + adj_constraints"
   ]
  },
  {
   "cell_type": "markdown",
   "metadata": {},
   "source": [
    "隣接情報は `japanmap.adjacent` 関数に都道府県コードを入力すると隣接する都道府県コードを取得できます。\n"
   ]
  },
  {
   "cell_type": "markdown",
   "metadata": {},
   "source": [
    "## イジングマシンの実行\n",
    "\n",
    "イジングマシンのクライアントを作成しパラメータを設定し、以下のように定式化した問題を解きます。"
   ]
  },
  {
   "cell_type": "code",
   "execution_count": null,
   "metadata": {},
   "outputs": [],
   "source": [
    "from amplify import FixstarsClient, solve\n",
    "from datetime import timedelta\n",
    "\n",
    "client = FixstarsClient()\n",
    "client.parameters.timeout = timedelta(milliseconds=5000)  # タイムアウト 5000 ms\n",
    "# client.token = \"xxxxxxxxxxxxxxxxxxxxxxxxxxxxxxxx\"  # ローカル環境で使用する場合は、Amplify AEのアクセストークンを入力してください\n",
    "\n",
    "# 求解と結果の取得\n",
    "result = solve(model, client)\n",
    "if len(result) == 0:\n",
    "    raise RuntimeError(\"Some constraints are unsatisfied.\")"
   ]
  },
  {
   "cell_type": "markdown",
   "metadata": {},
   "source": [
    "### Note\n",
    "\n",
    "もし ``result`` オブジェクトが空の場合、制約条件を満たす解が得られなかったことを意味します。この場合はイジングマシンのパラメータの変更が必要です。"
   ]
  },
  {
   "cell_type": "markdown",
   "metadata": {},
   "source": [
    "## 結果の解析\n",
    "\n",
    "以下のようにすることで、最良解における `q` の値を取得することができます。`q` の最初の列はダミー都道府県に関するバイナリ変数であり、定式化には含まれていなかったため、適当な値が入っています。"
   ]
  },
  {
   "cell_type": "code",
   "execution_count": null,
   "metadata": {},
   "outputs": [],
   "source": [
    "q_values = q.evaluate(result.best.values)\n",
    "\n",
    "q_values"
   ]
  },
  {
   "cell_type": "markdown",
   "metadata": {},
   "source": [
    "結果を ``{都道府県名: 色}`` の形式に変換します。まずは ``q_values`` の各行のうち値が1のインデックスを取得します。その後、`japanmap.pref_names` を用いて都道府県名に変換し、対応する色を格納した辞書を作成します。\n"
   ]
  },
  {
   "cell_type": "code",
   "execution_count": null,
   "metadata": {},
   "outputs": [],
   "source": [
    "import numpy as np\n",
    "\n",
    "color_indices = (q_values[1:] @ np.arange(num_colors)).astype(\n",
    "    int\n",
    ")  # q_values の最初の行はダミー都道府県のものなので捨てる\n",
    "color_map = {\n",
    "    jm.pref_names[region_idx]: colors[color_idx]\n",
    "    for region_idx, color_idx in enumerate(\n",
    "        color_indices, start=1\n",
    "    )  # region_idx は 1 スタートなことに注意\n",
    "}"
   ]
  },
  {
   "cell_type": "code",
   "execution_count": null,
   "metadata": {},
   "outputs": [],
   "source": [
    "color_map"
   ]
  },
  {
   "cell_type": "markdown",
   "metadata": {},
   "source": [
    "最後に得られた塗り分けを表示します。次のようにしてプロットされます。"
   ]
  },
  {
   "cell_type": "code",
   "execution_count": null,
   "metadata": {},
   "outputs": [],
   "source": [
    "%matplotlib inline\n",
    "import matplotlib.pyplot as plt\n",
    "\n",
    "plt.rcParams[\"figure.figsize\"] = 6, 6\n",
    "plt.imshow(jm.picture(color_map))\n",
    "plt.show()"
   ]
  },
  {
   "cell_type": "code",
   "execution_count": null,
   "metadata": {},
   "outputs": [],
   "source": []
  }
 ],
 "metadata": {
  "language_info": {
   "name": "python",
   "pygments_lexer": "ipython3"
  }
 },
 "nbformat": 4,
 "nbformat_minor": 4
}
