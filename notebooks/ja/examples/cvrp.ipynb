{
 "cells": [
  {
   "attachments": {},
   "cell_type": "markdown",
   "id": "linear-stanley",
   "metadata": {},
   "source": [
    "# 容量制約つき運搬経路問題(Capacitated Vehicle Routing Problem, CVRP)\n",
    "\n",
    "このチュートリアルでは、運搬経路問題 (VRP) の一種である容量制約つき運搬経路問題を扱います。  \n",
    "\n",
    "具体的な応用先として、\n",
    "- 郵便などの運送業における効率的な配送計画の策定\n",
    "- ごみ収集や道路清掃における訪問順序の決定\n",
    "\n",
    "などがあります。  \n",
    "\n",
    "運搬経路問題とは、配送拠点 (depot) から複数の都市への配送を効率的に行おうとする配送ルート決定問題です。より具体的には、配送車両の総移動距離や総コストなどが最小になるような配送車両と都市の割り当て、都市の訪問順序を決定します。運搬経路問題は[巡回セールスマン問題](https://amplify.fixstars.com/ja/demo/tsp)の一般化だと解釈することもできます。\n",
    "\n",
    "本チュートリアルで取り扱う容量制約付き運搬経路問題は、上記運搬経路問題に各車両の積載上限が追加された問題です。つまり、各配送車両は積載量制約を満たした上で配送を行う必要があります。この問題は「巡回セールスマン問題＋ナップサック問題」のように解釈することもできます。\n",
    "\n",
    "今回は配送拠点（デポ）が一つかつ、各都市の需要と車の容量が整数値のみを取るような場合を考えます。"
   ]
  },
  {
   "attachments": {},
   "cell_type": "markdown",
   "id": "dimensional-pottery",
   "metadata": {},
   "source": [
    "## 定式化"
   ]
  },
  {
   "attachments": {},
   "cell_type": "markdown",
   "id": "individual-promotion",
   "metadata": {},
   "source": [
    "まずは定式化に必要な定数・変数を定義します。\n",
    "\n",
    "### 定数\n",
    "\n",
    "- $N$：都市の数\n",
    "- $L$：積載可能量を超えない範囲で巡回可能な都市の最大数+2（出発点+到着点）\n",
    "- $K$：車両の数\n",
    "- $Q$：各車両の積載可能量、整数値\n",
    "- $w_i$：都市 $i$ に配送する荷物の重さを表す整数\n",
    "- $D_{i\\to j}$：都市 $i$ から都市 $j$ までの距離を表現する実数（都市 $0$ = デポ）($i, j \\in \\{0,1,\\dots,N \\}$)\n",
    "\n",
    "### 変数\n",
    "\n",
    "- $x_{i,j,k} \\in \\{0, 1\\} \\quad (i \\in \\{1, \\dots , L\\}, j \\in \\{0, \\dots, N\\}, k \\in \\{1, \\dots, K\\})$  \n",
    "   車両$k$が、$i$番目に訪れる都市として都市 $j$ を選択するかどうかを表すバイナリ変数（$x_{i,j,k}=1\\Leftrightarrow$ 車両 $k$ が、$i$ 番目に訪れる都市として都市 $j$ を選択する）\n",
    "\n",
    "続いて、変数が満たすべき制約を考えます。\n",
    "\n",
    "### 制約条件\n",
    "\n",
    "必要な制約は以下の4つです。\n",
    "\n",
    "1. 全ての車両はデポ（都市 $0$）から出発し、デポに到着する\n",
    "2. 車両 $k$ が $i$ 番目に訪問する場所は一箇所だけ\n",
    "3. 都市 $j$（デポを除く）はいずれかの車両によってちょうど一回だけ訪問される\n",
    "4. 車両 $k$ が運ぶ荷物の総重量は $Q$ 以下\n",
    "\n",
    "これらの条件を式にすると以下のようになります。\n",
    "\n",
    "1. 全ての車両はデポ（都市 $0$）から出発し、デポに到着する  \n",
    "   $\n",
    "   \\begin{align}\n",
    "      x_{1,j,k} = \n",
    "      \\begin{cases}\n",
    "         1 \\quad (j = 0) \\\\\n",
    "         0 \\quad (j \\neq 0)\n",
    "      \\end{cases} \\\\\n",
    "      x_{L,j,k} = \n",
    "      \\begin{cases}\n",
    "         1 \\quad (j = 0) \\\\\n",
    "         0 \\quad (j \\neq 0)\n",
    "      \\end{cases}\n",
    "   \\end{align}\n",
    "   $\n",
    "\n",
    "2. 車両 $k$ が $i$ 番目に訪問する場所は一箇所だけ  \n",
    "   $$\n",
    "   \\sum_{j=0}^N x_{i,j,k} = 1 \\quad (i \\in \\{1, \\dots, L\\}, k \\in \\{1, \\dots, K\\})\n",
    "   $$\n",
    "\n",
    "3. 都市 $j$（デポを除く）はいずれかの車両によってちょうど一回だけ訪問される  \n",
    "   $$\n",
    "   \\sum_{i=1}^L \\sum_{k=1}^K x_{i,j,k}=1 \\quad (j \\in \\{1, \\dots, N\\})\n",
    "   $$\n",
    "\n",
    "4. 車両 $k$ が運ぶ荷物の総重量は $Q$ 以下  \n",
    "   $$\n",
    "   \\sum_{i=1}^L \\sum_{j=1}^N w_j x_{i,j,k} \\leq Q \\quad (k \\in \\{1, \\dots, K\\})\n",
    "   $$\n",
    "\n",
    "### 目的関数\n",
    "\n",
    "今回は車両の総移動距離を最小化することを目指します。車両の総移動距離を数式で表現すると以下のようになります。\n",
    "$$\n",
    "\\sum_{k=1}^K\\sum_{i=1}^L\\sum_{j_1=0}^N\\sum_{j_2=0}^N D_{j_1\\to j_2}x_{i,j_1,k}x_{i+1,j_2,k}\n",
    "$$"
   ]
  },
  {
   "attachments": {},
   "cell_type": "markdown",
   "id": "manufactured-commander",
   "metadata": {},
   "source": [
    "### 具体例を使った制約式の説明\n",
    "\n",
    "ここでは具体例を使ってより感覚的な説明を行います。\n",
    "\n",
    "以下は、制約条件を満たす変数の割当ての一例を、車両ごとの表にまとめたものです。横軸はアルファベットの都市名（depot は出発地）、縦軸はその都市を何番目に訪問するか（0 は depot を出発、9 は depot に到着）を表します。表のマスが $1$ のとき、その車両は都市に訪れることを意味します。\n",
    "\n",
    "- **車両1** ($k=1$)\n",
    "\n",
    "<div align=\"center\">\n",
    "\n",
    "| $x_{i,j,1}$ | depot | A | B | C | D | E | F | G | H | I |\n",
    "|---|---|---|---|---|---|---|---|---|---|---|\n",
    "| **0(出発)** | 1 | 0 | 0 | 0 | 0 | 0 | 0 | 0 | 0 | 0 |\n",
    "| **1** | 0 | <font color=\"orange\">1</font> | 0 | 0 | 0 | 0 | 0 | 0 | 0 | 0 |\n",
    "| **2** | 0 | 0 | 0 | <font color=\"orange\">1</font> | 0 | 0 | 0 | 0 | 0 | 0 |\n",
    "| **3** | 0 | 0 | 0 | 0 | 0 | <font color=\"orange\">1</font> | 0 | 0 | 0 | 0 |\n",
    "| **4** | 0 | 0 | 0 | 0 | 0 | 0 | <font color=\"orange\">1</font> | 0 | 0 | 0 |\n",
    "| **5** | 1 | 0 | 0 | 0 | 0 | 0 | 0 | 0 | 0 | 0 |\n",
    "| **6** | 1 | 0 | 0 | 0 | 0 | 0 | 0 | 0 | 0 | 0 |\n",
    "| **7** | 1 | 0 | 0 | 0 | 0 | 0 | 0 | 0 | 0 | 0 |\n",
    "| **8** | 1 | 0 | 0 | 0 | 0 | 0 | 0 | 0 | 0 | 0 |\n",
    "| **9(到着)** | 1 | 0 | 0 | 0 | 0 | 0 | 0 | 0 | 0 | 0 |\n",
    "\n",
    "</div>\n",
    "\n",
    "- **車両2** ($k=2$)\n",
    "\n",
    "<div align=\"center\">\n",
    "\n",
    "| $x_{i,j,2}$ | depot | A | B | C | D | E | F | G | H | I |\n",
    "|---|---|---|---|---|---|---|---|---|---|---|\n",
    "| **0(出発)** | 1 | 0 | 0 | 0 | 0 | 0 | 0 | 0 | 0 | 0 |\n",
    "| **1** | 1 | 0 | 0 | 0 | 0 | 0 | 0 | 0 | 0 | 0 |\n",
    "| **2** | 1 | 0 | 0 | 0 | 0 | 0 | 0 | 0 | 0 | 0 |\n",
    "| **3** | 1 | 0 | 0 | 0 | 0 | 0 | 0 | 0 | 0 | 0 |\n",
    "| **4** | 0 | 0 | <font color=\"blue\">1</font> | 0 | 0 | 0 | 0 | 0 | 0 | 0 |\n",
    "| **5** | 0 | 0 | 0 | 0 | 0 | 0 | 0 | <font color=\"blue\">1</font> | 0 | 0 |\n",
    "| **6** | 0 | 0 | 0 | 0 | 0 | 0 | 0 | 0 | 0 | <font color=\"blue\">1</font> |\n",
    "| **7** | 1 | 0 | 0 | 0 | 0 | 0 | 0 | 0 | 0 | 0 |\n",
    "| **8** | 1 | 0 | 0 | 0 | 0 | 0 | 0 | 0 | 0 | 0 |\n",
    "| **9(到着)** | 1 | 0 | 0 | 0 | 0 | 0 | 0 | 0 | 0 | 0 |\n",
    "\n",
    "</div>\n",
    "\n",
    "- **車両3** ($k=3$)\n",
    "\n",
    "<div align=\"center\">\n",
    "\n",
    "| $x_{i,j,3}$ | depot | A | B | C | D | E | F | G | H | I |\n",
    "|---|---|---|---|---|---|---|---|---|---|---|\n",
    "| **0(出発)** | 1 | 0 | 0 | 0 | 0 | 0 | 0 | 0 | 0 | 0 |\n",
    "| **1** | 0 | 0 | 0 | 0 | <font color=\"green\">1</font> | 0 | 0 | 0 | 0 | 0 |\n",
    "| **2** | 0 | 0 | 0 | 0 | 0 | 0 | 0 | 0 | <font color=\"green\">1</font> | 0 |\n",
    "| **3** | 1 | 0 | 0 | 0 | 0 | 0 | 0 | 0 | 0 | 0 |\n",
    "| **4** | 1 | 0 | 0 | 0 | 0 | 0 | 0 | 0 | 0 | 0 |\n",
    "| **5** | 1 | 0 | 0 | 0 | 0 | 0 | 0 | 0 | 0 | 0 |\n",
    "| **6** | 1 | 0 | 0 | 0 | 0 | 0 | 0 | 0 | 0 | 0 |\n",
    "| **7** | 1 | 0 | 0 | 0 | 0 | 0 | 0 | 0 | 0 | 0 |\n",
    "| **8** | 1 | 0 | 0 | 0 | 0 | 0 | 0 | 0 | 0 | 0 |\n",
    "| **9(到着)** | 1 | 0 | 0 | 0 | 0 | 0 | 0 | 0 | 0 | 0 |\n",
    "\n",
    "</div>\n",
    "\n",
    "\n",
    "先の『制約条件2: 車両 $k$ が $i$ 番目に訪問する場所は一箇所だけ』は、各行（横のライン）に現れる $1$ が一つだけになることと対応しており、次式で表現することができます。\n",
    "\n",
    "$$\n",
    "\\sum_{j=0}^N x_{i,j,k} = 1 \\quad (i \\in \\{1, \\dots, L\\}, k \\in \\{1, \\dots, K\\})\n",
    "$$\n",
    "\n",
    "\n",
    "\n",
    "また、『制約条件3: 都市 $j$ はいずれかの車両によってちょうど一回だけ訪問される』は、全ての車両を合わせた、depot を除く各列（縦のライン）に現れる $1$ が一つだけになることと対応しており、次式で表現することができます。\n",
    "\n",
    "$$\n",
    "\\sum_{i=1}^L \\sum_{k=1}^K x_{i,j,k}=1 \\quad (j \\in \\{1, \\dots, N\\})\n",
    "$$\n",
    "\n",
    "<a id=\"post_process\"></a>\n",
    "これらの制約によって全ての都市がいずれかの車両によってちょうど一回だけ訪問されることが保証されますが、配送拠点 (depot) は何回でも訪問可能な定式化になっています。そのため、各車両が配送開始時と配送終了時の二回だけ配送拠点を訪問するように後処理を行います。具体的には、表中の0行目と9行目以外で depot の列に $1$ が立っている場合、それを無視する($0$ だとみなす)という操作です。この操作によって得られる運搬経路に対応する移動距離が操作前のものと同じ、もしくは短くなるということが三角不等式を用いて証明できます。"
   ]
  },
  {
   "attachments": {},
   "cell_type": "markdown",
   "id": "viral-medicare",
   "metadata": {},
   "source": [
    "## 実装\n",
    "\n",
    "それでは、前述の問題や定式を Fixstars Amplify を使って実装します。\n",
    "\n",
    "### 問題の作成・可視化\n",
    "\n",
    "まずは、最適化対象の問題を作成するのに必要な変数を定義します。車両数を 2、都市の数を 10 とし、各都市の需要はランダムに生成します。また、`capacity` は求解可能な条件となるように調整します。`dimension` は、[都市の数+デポの数=都市の数+1] です。"
   ]
  },
  {
   "cell_type": "code",
   "execution_count": null,
   "id": "theoretical-bronze",
   "metadata": {},
   "outputs": [],
   "source": [
    "import numpy as np\n",
    "from geopy.distance import geodesic\n",
    "\n",
    "# 車両数\n",
    "nvehicle = 2\n",
    "\n",
    "# 都市の数\n",
    "ncity = 10\n",
    "\n",
    "dimension = ncity + 1\n",
    "avg_cities_per_vehicle = dimension // nvehicle\n",
    "\n",
    "# 各都市における配送需要（重量）を乱数で決定\n",
    "demand = np.random.randint(1, 100, size=dimension)\n",
    "demand[0] = 0\n",
    "demand_max = max(demand)\n",
    "demand_mean = sum(demand) / len(demand)\n",
    "\n",
    "# 全体的な需要に合わせ、車両の積載可能量 Q を設定する。\n",
    "capacity = demand_max + int(demand_mean) * avg_cities_per_vehicle"
   ]
  },
  {
   "attachments": {},
   "cell_type": "markdown",
   "id": "a14b17be",
   "metadata": {},
   "source": [
    "次にそれぞれの都市の座標を乱数を使って生成します。全ての都市 $i,j$ 間の座標距離を計算することによって $D_{i \\to j}$ を生成します。"
   ]
  },
  {
   "cell_type": "code",
   "execution_count": null,
   "id": "1102ab88",
   "metadata": {},
   "outputs": [],
   "source": [
    "# 座標の取り得る範囲を設定\n",
    "lat_range = [35.7014, 35.968]\n",
    "lon_range = [139.34, 140.04]\n",
    "\n",
    "# 各都市の座標\n",
    "ind2coord = {\n",
    "    i: (\n",
    "        np.random.uniform(lon_range[0], lon_range[1]),\n",
    "        np.random.uniform(lat_range[0], lat_range[1]),\n",
    "    )\n",
    "    for i in range(dimension)\n",
    "}\n",
    "\n",
    "# 2都市間の座標距離行列 D\n",
    "distance_matrix = np.array(\n",
    "    [\n",
    "        [geodesic(coord_i[::-1], coord_j[::-1]).m for coord_j in ind2coord.values()]\n",
    "        for coord_i in ind2coord.values()\n",
    "    ]\n",
    ")"
   ]
  },
  {
   "attachments": {},
   "cell_type": "markdown",
   "id": "5b705237",
   "metadata": {},
   "source": [
    "問題のプロット時に使用する色のリストを作成します。"
   ]
  },
  {
   "cell_type": "code",
   "execution_count": null,
   "id": "ecf33fff",
   "metadata": {},
   "outputs": [],
   "source": [
    "_colors = [\n",
    "    \"green\",\n",
    "    \"orange\",\n",
    "    \"blue\",\n",
    "    \"red\",\n",
    "    \"purple\",\n",
    "    \"pink\",\n",
    "    \"darkblue\",\n",
    "    \"cadetblue\",\n",
    "    \"darkred\",\n",
    "    \"lightred\",\n",
    "    \"darkgreen\",\n",
    "    \"lightgreen\",\n",
    "    \"lightblue\",\n",
    "    \"darkpurple\",\n",
    "]"
   ]
  },
  {
   "attachments": {},
   "cell_type": "markdown",
   "id": "da494935",
   "metadata": {},
   "source": [
    "都市の座標をプロットする関数 `plot_solution` を定義します。"
   ]
  },
  {
   "cell_type": "code",
   "execution_count": null,
   "id": "included-activation",
   "metadata": {},
   "outputs": [],
   "source": [
    "import folium\n",
    "\n",
    "\n",
    "def plot_solution(coord: dict, title: str, best_tour: dict = dict()):\n",
    "    l = len(coord)\n",
    "    center = [\n",
    "        sum(lat for _, lat in coord.values()) / l,\n",
    "        sum(lon for lon, _ in coord.values()) / l,\n",
    "    ]\n",
    "    m = folium.Map(center, tiles=\"Stamen Toner\", zoom_start=10.5)\n",
    "    folium.Marker(\n",
    "        location=coord[0][::-1],\n",
    "        popup=f\"depot\",\n",
    "        icon=folium.Icon(icon=\"car\", prefix=\"fa\"),\n",
    "    ).add_to(m)\n",
    "\n",
    "    _color = _colors[1]\n",
    "    if best_tour:\n",
    "        for k, tour in best_tour.items():\n",
    "            _color = _colors[k % len(_colors)]\n",
    "            for city in tour:\n",
    "                if city == 0:\n",
    "                    continue\n",
    "\n",
    "                folium.Marker(\n",
    "                    location=coord[city][::-1],\n",
    "                    popup=f\"person{k}\",\n",
    "                    icon=folium.Icon(\n",
    "                        icon=\"user\", prefix=\"fa\", color=\"white\", icon_color=_color\n",
    "                    ),\n",
    "                ).add_to(m)\n",
    "            folium.vector_layers.PolyLine(\n",
    "                locations=[coord[city][::-1] for city in tour], color=_color, weight=3\n",
    "            ).add_to(m)\n",
    "    else:\n",
    "        for k, node in coord.items():\n",
    "            if k == 0:\n",
    "                continue\n",
    "            folium.Marker(\n",
    "                location=node[::-1],\n",
    "                popup=f\"customer{k}\",\n",
    "                icon=folium.Icon(\n",
    "                    icon=\"user\", prefix=\"fa\", color=\"white\", icon_color=_color\n",
    "                ),\n",
    "            ).add_to(m)\n",
    "\n",
    "    title = f\"<h4>{title}</h4>\"\n",
    "    m.get_root().html.add_child(folium.Element(title))\n",
    "\n",
    "    return m"
   ]
  },
  {
   "attachments": {},
   "cell_type": "markdown",
   "id": "34b925d8",
   "metadata": {},
   "source": [
    "作成した問題を `plot_solution` 関数で表示します。車型のピンは depot の位置（出発点＆到着点）、人型のピンは通るべき地点を表します。"
   ]
  },
  {
   "cell_type": "code",
   "execution_count": null,
   "id": "documented-destination",
   "metadata": {},
   "outputs": [],
   "source": [
    "# 埼玉・千葉・東京近辺\n",
    "title = f\"capacity={capacity}, ncity={ncity}, nvehicle={nvehicle}\"\n",
    "plot_solution(ind2coord, title)"
   ]
  },
  {
   "attachments": {},
   "cell_type": "markdown",
   "id": "afraid-halifax",
   "metadata": {},
   "source": [
    "### 訪問都市の上限の計算"
   ]
  },
  {
   "attachments": {},
   "cell_type": "markdown",
   "id": "83d4a4cb",
   "metadata": {},
   "source": [
    "決定変数のサイズを削減するための工夫として、一台の車が訪問できる都市の数の上限をあらかじめ計算しておきます。\n",
    "\n",
    "以下の `upperbound_of_tour` 関数は、積載可能量を超えない範囲で最大いくつの都市を巡回できるかを計算する関数です。具体的には次のステップ計算します。\n",
    "\n",
    "1. まだ選んでいない都市の中で最も配送需要（重量）が少ない都市を選び、最大積載量からその都市の需要を減算する\n",
    "2. 最大積載量が0未満になるまでステップを繰り返し、繰り返した回数を戻り値とする"
   ]
  },
  {
   "cell_type": "code",
   "execution_count": null,
   "id": "detailed-dynamics",
   "metadata": {},
   "outputs": [],
   "source": [
    "def upperbound_of_tour(capacity: int, demand: np.ndarray) -> int:\n",
    "    max_tourable_cities = 1\n",
    "    for w in sorted(demand):\n",
    "        capacity -= w\n",
    "        if capacity >= 0:\n",
    "            max_tourable_cities += 1\n",
    "        else:\n",
    "            return max_tourable_cities\n",
    "    return max_tourable_cities"
   ]
  },
  {
   "attachments": {},
   "cell_type": "markdown",
   "id": "c6cb0f88",
   "metadata": {},
   "source": [
    "### 二次多項式モデルの構築\n",
    "\n",
    "次に、必要な決定変数を定義します。Amplify の `BinarySymbolGenerator` を用います。合計$N+1$ 個の都市及びデポに対して、最大 $L$ 都市の訪問を、$K$ 台の車両で行うので、$L \\times (N+1) \\times K$ の三次元配列としてQUBO変数を次のように定義します。"
   ]
  },
  {
   "cell_type": "code",
   "execution_count": null,
   "id": "humanitarian-proceeding",
   "metadata": {},
   "outputs": [],
   "source": [
    "from amplify import BinaryPoly, BinarySymbolGenerator\n",
    "\n",
    "gen = BinarySymbolGenerator()\n",
    "\n",
    "# 積載可能量から1台の車両が訪問できる都市の最大数\n",
    "max_tourable_cities = upperbound_of_tour(capacity, demand)\n",
    "\n",
    "x = gen.array(max_tourable_cities, dimension, nvehicle)"
   ]
  },
  {
   "attachments": {},
   "cell_type": "markdown",
   "id": "tropical-plasma",
   "metadata": {},
   "source": [
    "前述の通り、制約条件は、\n",
    "\n",
    "1. 全ての車両はデポ（都市 $0$）から出発し、デポに到着する\n",
    "2. 車両 $k$ が $i$ 番目に訪問する場所は一箇所だけ\n",
    "3. 都市 $j$（デポを除く）はいずれかの車両によってちょうど一回だけ訪問される\n",
    "4. 車両 $k$ が運ぶ荷物の総重量は $Q$ 以下\n",
    "\n",
    "つまり、\n",
    "\n",
    "$$\n",
    "\\begin{align*}\n",
    "(1) \\quad &\n",
    "   x_{1,j,k} = \n",
    "   \\begin{cases}\n",
    "      1 \\quad (j = 0) \\\\\n",
    "      0 \\quad (j \\neq 0)\n",
    "   \\end{cases} \\\\\n",
    "   & x_{L,j,k} = \n",
    "   \\begin{cases}\n",
    "      1 \\quad (j = 0) \\\\\n",
    "      0 \\quad (j \\neq 0)\n",
    "   \\end{cases} \\\\\n",
    "(2)\\quad & \\sum_{j=0}^N x_{i,j,k} = 1 \\quad (i \\in \\{1, \\dots, L\\}, k \\in \\{1, \\dots, K\\})\\\\\n",
    "(3)\\quad & \\sum_{i=1}^L \\sum_{k=1}^K x_{i,j,k}=1 \\quad (j \\in \\{1, \\dots, N\\})\\\\\n",
    "(4)\\quad & \\sum_{i=1}^L \\sum_{j=1}^N w_j x_{i,j,k} \\leq Q \\quad (k \\in \\{1, \\dots, K\\})\\\\\n",
    "\\end{align*}\n",
    "$$\n",
    "です。\n",
    "\n",
    "今回は `less_equal` 関数を用いて不等式制約を表現し、 `equal_to` 関数で等式制約を表現します。また、制約項の強さを決定する係数は、$\\max d_{ij}$ として実装しています。これにより、少なくとも制約項より目的関数が優先される事態を避けることができます。"
   ]
  },
  {
   "attachments": {},
   "cell_type": "markdown",
   "id": "ecb3c1d9",
   "metadata": {},
   "source": [
    "#### **制約条件①：** 全ての車両はデポ（都市 0）から出発し、デポに到着する\n",
    "\n",
    "制約式は以下で表されます。\n",
    "\n",
    "$$\n",
    "\\begin{align*}\n",
    "    x_{1,j,k} = \n",
    "    \\begin{cases}\n",
    "        1 \\quad (j = 0) \\\\\n",
    "        0 \\quad (j \\neq 0)\n",
    "    \\end{cases} \\\\\n",
    "    x_{L,j,k} = \n",
    "    \\begin{cases}\n",
    "        1 \\quad (j = 0) \\\\\n",
    "        0 \\quad (j \\neq 0)\n",
    "    \\end{cases}\n",
    "\\end{align*}\n",
    "$$\n",
    "\n",
    "この制約については代入によって実現します。代入することで求解の対象となる変数を節約することが出来ます。次のように直接値を代入する関数を作成します。\n",
    "\n",
    "変数の値を事前に固定するには、`x[i][j][k] = 1` のようにします。決定変数への代入操作は目的関数や制約式を定義する前に行う必要があります。"
   ]
  },
  {
   "cell_type": "code",
   "execution_count": null,
   "id": "68d977a2",
   "metadata": {},
   "outputs": [],
   "source": [
    "x[0][1:][:] = 0\n",
    "x[-1][1:][:] = 0\n",
    "\n",
    "x[0][0][:] = 1\n",
    "x[-1][0][:] = 1"
   ]
  },
  {
   "attachments": {},
   "cell_type": "markdown",
   "id": "a8145f50",
   "metadata": {},
   "source": [
    "#### **制約条件②：** 車両$k$が$i$番目に訪問する場所は一箇所だけ\n",
    "\n",
    "本制約条件は、次式で表されます。\n",
    "\n",
    "$$ \\sum_{j=0}^N x_{i,j,k} = 1 \\quad (i \\in \\{1, \\dots, L\\}, k \\in \\{1, \\dots, K\\}) $$\n",
    "\n",
    "本制約式を次のように実装します。"
   ]
  },
  {
   "cell_type": "code",
   "execution_count": null,
   "id": "b5c64988",
   "metadata": {},
   "outputs": [],
   "source": [
    "from amplify.constraint import one_hot\n",
    "from amplify import sum_poly\n",
    "\n",
    "\n",
    "def make_onetrip_constraints(x) -> list:\n",
    "    max_tourable_cities = x.shape[0]\n",
    "    dimension = x.shape[1]\n",
    "    nvehicle = x.shape[2]\n",
    "\n",
    "    constraints = [\n",
    "        one_hot(sum_poly(dimension, lambda j: x[i][j][k]))\n",
    "        for i in range(max_tourable_cities)\n",
    "        for k in range(nvehicle)\n",
    "    ]\n",
    "    return constraints"
   ]
  },
  {
   "attachments": {},
   "cell_type": "markdown",
   "id": "7ea42aa4",
   "metadata": {},
   "source": [
    "#### **制約条件③：** 都市$j$はいずれかの車両によってちょうど一回だけ訪問される\n",
    "\n",
    "本制約条件は次式で表されます。\n",
    "\n",
    "$$ \\sum_{i=1}^L \\sum_{k=1}^K x_{i,j,k}=1 \\quad (j \\in \\{1, \\dots, N\\}) $$\n",
    "\n",
    "これを実装すると、次のようになります。"
   ]
  },
  {
   "cell_type": "code",
   "execution_count": null,
   "id": "40244e78",
   "metadata": {},
   "outputs": [],
   "source": [
    "def make_onevisit_constraints(x) -> list:\n",
    "    max_tourable_cities = x.shape[0]\n",
    "    dimension = x.shape[1]\n",
    "    nvehicle = x.shape[2]\n",
    "\n",
    "    constraints = [\n",
    "        one_hot(\n",
    "            sum_poly(\n",
    "                max_tourable_cities, lambda i: sum_poly(nvehicle, lambda k: x[i][j][k])\n",
    "            )\n",
    "        )\n",
    "        for j in range(1, dimension)\n",
    "    ]\n",
    "    return constraints"
   ]
  },
  {
   "attachments": {},
   "cell_type": "markdown",
   "id": "54cdac56",
   "metadata": {},
   "source": [
    "#### **制約条件④：** 車両 $k$ が運ぶ荷物の総重量は $Q$ 以下\n",
    "\n",
    "本制約条件は次式で表されます。\n",
    "\n",
    "$$ \\sum_{i=1}^L \\sum_{j=1}^N w_j x_{i,j,k} \\leq Q \\quad (k \\in \\{1, \\dots, K\\}) $$\n",
    "\n",
    "この制約式は、`less_equal` を使って実装することができます。また、今回の問題設定では必ずしも必要ではありませんが、`less_equal` の `method` 引数に `InequalityFormulation.RelaxationQuadra` を指定します。制約式に対する厳密なペナルティ関数ではなくなりますが、多くの補助変数を節約するとともに、実数係数にも対応でき、問題サイズが大きい条件における求解可能性を上げることができます。\n",
    "\n",
    "詳しくは https://amplify.fixstars.com/ja/docs/constraint.html#constraint-inequality-relaxation を参照してください。"
   ]
  },
  {
   "cell_type": "code",
   "execution_count": null,
   "id": "735a60e9",
   "metadata": {},
   "outputs": [],
   "source": [
    "from amplify.constraint import less_equal\n",
    "from amplify import InequalityFormulation\n",
    "\n",
    "\n",
    "def make_capacity_constraints(x, demand: np.ndarray, capacity: int) -> list:\n",
    "    max_tourable_cities = x.shape[0]\n",
    "    dimension = x.shape[1]\n",
    "    nvehicle = x.shape[2]\n",
    "\n",
    "    constraints = [\n",
    "        less_equal(\n",
    "            demand * x[:, :, k],\n",
    "            capacity,\n",
    "            method=InequalityFormulation.RelaxationQuadra,\n",
    "        )\n",
    "        / capacity\n",
    "        / capacity\n",
    "        for k in range(nvehicle)\n",
    "    ]\n",
    "\n",
    "    return constraints"
   ]
  },
  {
   "attachments": {},
   "cell_type": "markdown",
   "id": "5e49269f",
   "metadata": {},
   "source": [
    "#### **目的関数**\n",
    "\n",
    "今回の目的は車両の総移動距離の最小化であり、目的関数は\n",
    "\n",
    "$$\n",
    "\\sum_{k=1}^K\\sum_{i=1}^L\\sum_{j_1=0}^N\\sum_{j_2=0}^N D_{j_1\\to j_2}x_{i,j_1,k}x_{i+1,j_2,k}\n",
    "$$\n",
    "\n",
    "のように表現されます。目的関数の計算には `einsum` 関数を利用します。`einsum` 関数の詳細は、[こちら](https://amplify.fixstars.com/ja/docs/array.html#polynomial-array-einsum)をご覧ください。"
   ]
  },
  {
   "cell_type": "code",
   "execution_count": null,
   "id": "dcbf8a27",
   "metadata": {},
   "outputs": [],
   "source": [
    "from amplify import einsum\n",
    "\n",
    "max_tourable_cities = x.shape[0]\n",
    "dimension = x.shape[1]\n",
    "nvehicle = x.shape[2]\n",
    "\n",
    "xr = x.roll(-1, axis=0)\n",
    "# 経路の総距離\n",
    "objective = einsum(\"pq,ipk,iqk\", distance_matrix, x, xr)"
   ]
  },
  {
   "attachments": {},
   "cell_type": "markdown",
   "id": "dedicated-combat",
   "metadata": {},
   "source": [
    "ここまでに実装した代入に基づく1つの制約条件、制約式に基づく3つの制約条件及び目的関数に基づき、次のように CVRP の QUBO モデルを構築することができます。ここで、`np.max(distance_matrix)` 制約式に対する重みを設定しています。"
   ]
  },
  {
   "cell_type": "code",
   "execution_count": null,
   "id": "muslim-england",
   "metadata": {},
   "outputs": [],
   "source": [
    "constraints1 = make_onetrip_constraints(x)\n",
    "constraints2 = make_onevisit_constraints(x)\n",
    "constraints3 = make_capacity_constraints(x, demand, capacity)\n",
    "constraints = sum(constraints1) + sum(constraints2) + sum(constraints3)\n",
    "\n",
    "model = objective + constraints * np.max(distance_matrix)"
   ]
  },
  {
   "attachments": {},
   "cell_type": "markdown",
   "id": "6ad812e1",
   "metadata": {},
   "source": [
    "### Amplify クライアントの設定\n",
    "\n",
    "Amplify のイジングマシン・量子アニーリングのクライアントを作成します。"
   ]
  },
  {
   "cell_type": "code",
   "execution_count": null,
   "id": "8ee37586",
   "metadata": {},
   "outputs": [],
   "source": [
    "from amplify.client import FixstarsClient\n",
    "\n",
    "client = FixstarsClient()\n",
    "client.parameters.timeout = 2000  # タイムアウト2秒\n",
    "# client.token = \"API トークンを入力してください\""
   ]
  },
  {
   "attachments": {},
   "cell_type": "markdown",
   "id": "historic-ireland",
   "metadata": {},
   "source": [
    "作成したクライアントで `Solver` をインスタンス化し、QUBOモデルに基づき求解を行います。"
   ]
  },
  {
   "cell_type": "code",
   "execution_count": null,
   "id": "martial-cradle",
   "metadata": {},
   "outputs": [],
   "source": [
    "from amplify import Solver\n",
    "\n",
    "solver = Solver(client)\n",
    "\n",
    "result = solver.solve(model)\n",
    "if len(result.solutions) == 0:\n",
    "    raise RuntimeError(\"Some of the constraints are not satisfied.\")\n",
    "\n",
    "x_values = result.solutions[0].values  # 変数値の取り出し"
   ]
  },
  {
   "attachments": {},
   "cell_type": "markdown",
   "id": "relative-group",
   "metadata": {},
   "source": [
    "### 結果取得・可視化\n",
    "続いて結果の取り出し・可視化を行います。\n",
    "\n",
    "得られた解を整形する関数 `onehot2_sequence`、<a href=\"#post_process\">冒頭</a>で述べた後処理を行う関数 `process_sequence` を定義します。三角不等式を用いることで後処理後の移動距離が後処理前の距離以下になることが証明できます。`Solver` から返却された One-hot バイナリベクトルから、訪問順に番号が入ったリストを作成する `onehot2_sequence` 関数を次のように実装します。"
   ]
  },
  {
   "cell_type": "code",
   "execution_count": null,
   "id": "modified-showcase",
   "metadata": {},
   "outputs": [],
   "source": [
    "def onehot2_sequence(x_values) -> dict[int, list]:\n",
    "    nvehicle = x_values.shape[2]\n",
    "    sequence = dict()\n",
    "    for k in range(nvehicle):\n",
    "        sequence[k] = np.where(x_values[:, :, k])[1]\n",
    "    return sequence"
   ]
  },
  {
   "attachments": {},
   "cell_type": "markdown",
   "id": "8ab78729",
   "metadata": {},
   "source": [
    "`onehot2_sequence` 関数で作ったリストからデポへの余計な訪問を取り除いたリストを返す `process_sequence` 関数を作成します。"
   ]
  },
  {
   "cell_type": "code",
   "execution_count": null,
   "id": "powerful-laser",
   "metadata": {},
   "outputs": [],
   "source": [
    "def process_sequence(sequence: dict[int, list]) -> dict[int, list]:\n",
    "    new_seq = dict()\n",
    "    for k, v in sequence.items():\n",
    "        v = np.append(v, v[0])\n",
    "        mask = np.concatenate(([True], np.diff(v) != 0))\n",
    "        new_seq[k] = v[mask]\n",
    "    return new_seq"
   ]
  },
  {
   "attachments": {},
   "cell_type": "markdown",
   "id": "searching-georgia",
   "metadata": {},
   "source": [
    "それでは、実際に結果を取り出し、可視化してみましょう。\n",
    "\n",
    "変数配列 `x` の `decode` メンバ関数に解である `x_values` を与え、変数配列に結果を代入します。  \n",
    "その後、先程定義した関数 `onehot2_sequence`、`process_sequence` を使って後処理を行います。"
   ]
  },
  {
   "cell_type": "code",
   "execution_count": null,
   "id": "molecular-detroit",
   "metadata": {},
   "outputs": [],
   "source": [
    "solution = x.decode(x_values)\n",
    "sequence = onehot2_sequence(\n",
    "    solution\n",
    ")  # one-hot な変数テーブルを辞書に変換。key：車両インデックス, value：各車両が訪問した都市の順番が入ったリスト\n",
    "best_tour = process_sequence(sequence)  # 上の辞書からデポへの余計な訪問を取り除く\n",
    "print(result.solutions[0].energy)  # 目的関数値を表示\n",
    "print(*best_tour.items(), sep=\"\\n\")  # 求めた解を表示"
   ]
  },
  {
   "attachments": {},
   "cell_type": "markdown",
   "id": "3c1e6130",
   "metadata": {},
   "source": [
    "`plot_solution` 関数で結果の可視化を行います。地図上にそれぞれの車両が通るべき経路が表示されます。"
   ]
  },
  {
   "cell_type": "code",
   "execution_count": null,
   "id": "interracial-league",
   "metadata": {},
   "outputs": [],
   "source": [
    "title = f\"capacity={capacity}, ncity={ncity}, nvehicle={nvehicle}, cost={result.solutions[0].energy:.2f}\"\n",
    "plot_solution(ind2coord, title, best_tour)"
   ]
  }
 ],
 "metadata": {
  "language_info": {
   "name": "python",
   "pygments_lexer": "ipython3"
  }
 },
 "nbformat": 4,
 "nbformat_minor": 5
}
