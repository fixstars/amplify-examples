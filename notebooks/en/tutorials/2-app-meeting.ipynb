{
 "cells": [
  {
   "cell_type": "markdown",
   "metadata": {},
   "source": [
    "# Meeting Room Assignment Problem\n",
    "\n",
    "The meeting room assignment problem is a problem of assigning meeting rooms so that as many meetings as possible can be held, given multiple meeting schedules and multiple meeting rooms. In this task, we construct a QUBO model for this problem and try to solve the problem using an annealing machine.\n",
    "\n",
    "First, assume that the start and end times of each meeting are given as data. Here, the time is given as a string in the format `\"10:40\"`. In addition, we will have a dictionary of meeting schedule information with the meeting name as the key and the list of start and end times of the meeting as the value. We will also define the number of meetings and the number of available meeting rooms."
   ]
  },
  {
   "cell_type": "code",
   "execution_count": null,
   "metadata": {},
   "outputs": [],
   "source": [
    "# Meeting schedule\n",
    "schedules = {\n",
    "    \"meeting1\": [\"10:00\", \"13:00\"],\n",
    "    \"meeting2\": [\"10:00\", \"12:00\"],\n",
    "    \"meeting3\": [\"10:00\", \"11:00\"],\n",
    "    \"meeting4\": [\"11:00\", \"13:00\"],\n",
    "    \"meeting5\": [\"11:00\", \"12:00\"],\n",
    "    \"meeting6\": [\"11:00\", \"15:00\"],\n",
    "    \"meeting7\": [\"12:00\", \"16:00\"],\n",
    "    \"meeting8\": [\"12:00\", \"15:00\"],\n",
    "    \"meeting9\": [\"13:00\", \"15:00\"],\n",
    "    \"meeting10\": [\"13:00\", \"14:00\"],\n",
    "    \"meeting11\": [\"14:00\", \"17:00\"],\n",
    "    \"meeting12\": [\"15:00\", \"19:00\"],\n",
    "    \"meeting13\": [\"15:00\", \"17:00\"],\n",
    "    \"meeting14\": [\"15:00\", \"16:00\"],\n",
    "    \"meeting15\": [\"16:00\", \"18:00\"],\n",
    "    \"meeting16\": [\"16:00\", \"18:00\"],\n",
    "    \"meeting17\": [\"17:00\", \"19:00\"],\n",
    "    \"meeting18\": [\"17:00\", \"18:00\"],\n",
    "    \"meeting19\": [\"18:00\", \"19:00\"],\n",
    "}\n",
    "\n",
    "# Number of meetings\n",
    "Nm = len(schedules)\n",
    "\n",
    "# Number of meeting rooms\n",
    "Nr = 8"
   ]
  },
  {
   "cell_type": "markdown",
   "metadata": {},
   "source": [
    "Next, we prepare a function `time2num` to return the given time as a number to compare the meeting times, and a function `check_overlap` to check if the schedules of given two meetings overlap."
   ]
  },
  {
   "cell_type": "code",
   "execution_count": null,
   "metadata": {},
   "outputs": [],
   "source": [
    "# Convert time to numeric time units\n",
    "def time2num(time: str):\n",
    "    h, m = map(float, time.split(\":\"))\n",
    "    return h + m / 60\n",
    "\n",
    "\n",
    "# Check if there is any overlap between the two meeting times\n",
    "def check_overlap(time_slot1, time_slot2):\n",
    "    start1, end1 = map(time2num, time_slot1)\n",
    "    start2, end2 = map(time2num, time_slot2)\n",
    "\n",
    "    return start1 < end2 and start2 < end1"
   ]
  },
  {
   "cell_type": "markdown",
   "metadata": {},
   "source": [
    "Now we are ready to quantify the information from the given meetings. The next step is to figure out how to represent this problem as a combinatorial optimization problem.\n",
    "\n",
    "As the first step, we consider how to express variables to indicate in which meeting room each meeting will be held. However, binary variables such as QUBO variables and Ising variables cannot have an arbitrary number of states. So, we assign decision variables as many as the number of meeting rooms to each meeting.\n",
    "\n",
    "For example, let $q_{i, r}$ be the variable that represents that the meeting $i$ will be held in the meeting room $r$. We can think of it as assigning the meeting $i$ to the meeting room $r$ if $q_{i, r} = 1$, and not assigning it if $q_{i, r} = 0$.\n",
    "\n",
    "\n",
    "|Meeting \\ Meeting room| $0$ | $1$ | ... | $N_r-1$|  \n",
    "|:---:|:---:|:---:|:---:|:---:|\n",
    "|$0$| $q_{0,0}$ | $q_{0,1}$ | ... | $q_{0,N_r-1}$|\n",
    "|$1$| $q_{1,0}$ | $q_{1,1}$ | ... | $q_{1,N_r-1}$|\n",
    "|$\\vdots$| $\\vdots$ | $\\vdots$ | ... | $\\vdots$|\n",
    "|$N_m -1$| $q_{N_m-1,0}$ | $q_{N_m-1,1}$ | ... | $q_{N_m-1,N_r-1}$|\n",
    "\n",
    "Next, consider the restriction that multiple meetings cannot be assigned to the same meeting room on top of each other.\n",
    "\n",
    "We construct a list of meetings with overlapped schedules. For example, if there is a schedule overlap between meetings $i$ and $j$, we construct a tuple $(i, j)$ and store it in this list. \"The problem of assigning each meeting to a meeting room so that there is no schedule overlap\" becomes \"the problem of arranging meetings so that if two meetings $(i, j)$ are included in the above list, they are not assigned to the same meeting room\".\n",
    "\n",
    "In the following, we use the `check_overlap` function defined above to check for overlapped meeting schedules, and based on that, add two meetings $(i, j)$ that have overlapped schedules to the `overlaps` list."
   ]
  },
  {
   "cell_type": "code",
   "execution_count": null,
   "metadata": {},
   "outputs": [],
   "source": [
    "import itertools\n",
    "\n",
    "# Obtain a list of meeting names\n",
    "mtg_names = list(schedules.keys())\n",
    "\n",
    "# Create a dictionary of meeting room names and indexes\n",
    "mtg_name2idx = {mtg_names[i]: i for i in range(Nm)}\n",
    "\n",
    "# Store the index of meetings with overlapped schedules as a tuple\n",
    "overlaps = []\n",
    "for mtg1, mtg2 in itertools.combinations(mtg_names, 2):\n",
    "    if check_overlap(schedules[mtg1], schedules[mtg2]):\n",
    "        overlaps.append(tuple(sorted([mtg_name2idx[mtg1], mtg_name2idx[mtg2]])))"
   ]
  },
  {
   "cell_type": "markdown",
   "metadata": {},
   "source": [
    "Next, we define `Nm` × `Nr` QUBO variables, where `Nr` meeting rooms are associated with each of the `Nm` meetings. Let $q_{i, r}$ be the variable corresponding to the index $i$ of the meeting and $r$ of the meeting room."
   ]
  },
  {
   "cell_type": "code",
   "execution_count": null,
   "metadata": {},
   "outputs": [],
   "source": [
    "from amplify import gen_symbols, BinaryPoly\n",
    "\n",
    "# Define the decision variable in the form of an array of (Nm x Nr)\n",
    "q = gen_symbols(BinaryPoly, Nm, Nr)"
   ]
  },
  {
   "cell_type": "markdown",
   "metadata": {},
   "source": [
    "We create constraints using QUBO variables.\n",
    "\n",
    "First, since a meeting must be assigned to a single meeting room, we impose the following one-hot constraint:\n",
    "\n",
    "$\n",
    "\\displaystyle\\sum_{r=0}^{\\text{Nr} - 1}q_{i, r} = 1\n",
    "$\n",
    "\n"
   ]
  },
  {
   "cell_type": "code",
   "execution_count": null,
   "metadata": {},
   "outputs": [],
   "source": [
    "from amplify import sum_poly\n",
    "from amplify.constraint import equal_to\n",
    "\n",
    "# One-hot constraint to assign one meeting room for one meeting\n",
    "# It can be written using the equal_to function and the sum_poly function\n",
    "room_constraints = sum(\n",
    "    [equal_to(sum_poly(Nr, lambda r: q[i][r]), 1) for i in range(Nm)]\n",
    ")"
   ]
  },
  {
   "cell_type": "markdown",
   "metadata": {},
   "source": [
    "In addition, we need to give the constraints such that if the indices $(i, j)$ of two meetings are included in the overlap list `overlaps` of the meeting schedule defined earlier, they cannot be assigned the same meeting room.\n",
    "\n",
    "These constraints are that if $(i, j)\\in \\text{overlaps}$, then $q_{i, r}$ and $q_{j, r}$ will not be $1$ at the same time, which leads to the following constraint:\n",
    "\n",
    "$\n",
    "q_{i, r} q_{j, r} = 0 \\qquad \\text{for}\\quad (i, j) \\in \\text{overlaps}\\quad{and}\\quad  r \\in \\{0, \\cdots, N_r - 1\\}\n",
    "$\n",
    "\n"
   ]
  },
  {
   "cell_type": "code",
   "execution_count": null,
   "metadata": {},
   "outputs": [],
   "source": [
    "from amplify import sum_poly\n",
    "from amplify.constraint import penalty\n",
    "\n",
    "# Impose the constraint that q[i][r] * q[j][r] = 0 for all (i, j) in overlaps\n",
    "overlap_constraints = sum(\n",
    "    [penalty(q[i][r] * q[j][r]) for (i, j) in overlaps for r in range(Nr)]\n",
    ")"
   ]
  },
  {
   "cell_type": "markdown",
   "metadata": {},
   "source": [
    "The two constraint objects `room_constraints` and `overlap_constraints` generated above are combined into a logical model to be solved in the end. "
   ]
  },
  {
   "cell_type": "code",
   "execution_count": null,
   "metadata": {},
   "outputs": [],
   "source": [
    "model = room_constraints + overlap_constraints"
   ]
  },
  {
   "cell_type": "markdown",
   "metadata": {},
   "source": [
    "Next, we set up the client and solve the model we have defined."
   ]
  },
  {
   "cell_type": "code",
   "execution_count": null,
   "metadata": {},
   "outputs": [],
   "source": [
    "from amplify import Solver\n",
    "from amplify.client import FixstarsClient\n",
    "\n",
    "# Set up the client\n",
    "client = FixstarsClient()\n",
    "# client.token = \"xxxxxxxxxxxxxxxxxxxxxxxxxxxxxxxx\"  # If you are using it in a local environment, please enter the access token for Amplify AE\n",
    "client.parameters.timeout = 1000  # Timeout is 1 second\n",
    "\n",
    "# Set up a solver\n",
    "solver = Solver(client)\n",
    "# solve a problem\n",
    "result = solver.solve(model)\n",
    "\n",
    "# If result is empty, it means that no solution satisfying the constraints was obtained.\n",
    "if len(result) == 0:\n",
    "    raise RuntimeError(\"Given constraint conditions are not satisfied\")"
   ]
  },
  {
   "cell_type": "markdown",
   "metadata": {},
   "source": [
    "From the variable whose value is $1$ in the obtained solution, we can read which meeting room each meeting was assigned to."
   ]
  },
  {
   "cell_type": "code",
   "execution_count": null,
   "metadata": {},
   "outputs": [],
   "source": [
    "from amplify import decode_solution\n",
    "import numpy as np\n",
    "\n",
    "# Assign the obtained solution to the original variable\n",
    "values = result[0].values\n",
    "solution = np.array(decode_solution(q, values))\n",
    "\n",
    "# Read which meeting room each meeting will be assigned to\n",
    "room_assignment = list(zip(*np.where(solution == 1)))"
   ]
  },
  {
   "cell_type": "markdown",
   "metadata": {},
   "source": [
    "Finally, we visualize the results."
   ]
  },
  {
   "cell_type": "code",
   "execution_count": null,
   "metadata": {},
   "outputs": [],
   "source": [
    "#\n",
    "# Visualize meeting room assignments\n",
    "#\n",
    "%matplotlib inline\n",
    "\n",
    "\n",
    "def plot_mtg_schedule(num_rooms, room_assignment):\n",
    "    import matplotlib.pyplot as plt\n",
    "\n",
    "    room_names = [\"Room \" + chr(65 + i) for i in range(num_rooms)]\n",
    "\n",
    "    cmap = plt.get_cmap(\"coolwarm\", num_rooms)\n",
    "    colors = [cmap(i) for i in range(num_rooms)]\n",
    "\n",
    "    fig, ax1 = plt.subplots(nrows=1, ncols=1, figsize=(15, 10))\n",
    "    for mtg_idx, room in room_assignment:\n",
    "        mtg_name = mtg_names[mtg_idx]\n",
    "        start = time2num(schedules[mtg_name][0])\n",
    "        end = time2num(schedules[mtg_name][1])\n",
    "\n",
    "        plt.fill_between(\n",
    "            [room + 0.55, room + 1.45],\n",
    "            [start, start],\n",
    "            [end, end],\n",
    "            edgecolor=\"black\",\n",
    "            linewidth=3.0,\n",
    "            facecolor=colors[room],\n",
    "        )\n",
    "        plt.text(\n",
    "            room + 0.6, start + 0.1, f\"{schedules[mtg_name][0]}\", va=\"top\", fontsize=10\n",
    "        )\n",
    "        plt.text(\n",
    "            room + 1.0,\n",
    "            (start + end) * 0.5,\n",
    "            mtg_name,\n",
    "            ha=\"center\",\n",
    "            va=\"center\",\n",
    "            fontsize=15,\n",
    "        )\n",
    "\n",
    "    # Set First Axis\n",
    "    ax1.yaxis.grid()\n",
    "    ax1.set_xlim(0.5, len(room_names) + 0.5)\n",
    "    ax1.set_ylim(19.1, 7.9)\n",
    "    ax1.set_xticks(range(1, len(room_names) + 1))\n",
    "    ax1.set_xticklabels(room_names)\n",
    "    ax1.set_ylabel(\"Time\")\n",
    "\n",
    "    # Set Second Axis\n",
    "    ax2 = ax1.twiny().twinx()\n",
    "    ax2.set_xlim(ax1.get_xlim())\n",
    "    ax2.set_ylim(ax1.get_ylim())\n",
    "    ax2.set_xticks(ax1.get_xticks())\n",
    "    ax2.set_xticklabels(room_names)\n",
    "    ax2.set_ylabel(\"Time\")\n",
    "\n",
    "    plt.show()"
   ]
  },
  {
   "cell_type": "code",
   "execution_count": null,
   "metadata": {},
   "outputs": [],
   "source": [
    "plot_mtg_schedule(num_rooms=Nr, room_assignment=room_assignment)"
   ]
  },
  {
   "cell_type": "markdown",
   "metadata": {},
   "source": [
    "## Assigning Some Meetings Manually\n",
    "With Amplify, you can fix the value of a variable with a constant value. This feature can be used to manually assign meeting rooms.\n",
    "\n",
    "For example, if you want to fix the value of the binary variable `q[i][j]` to 1, set `q[i][j] = BinaryPoly(1)`. The right-hand side `BinaryPoly(1)` represents the constant 1 of BinaryPoly type.\n",
    "\n",
    "In this section, we consider solving the remaining meeting room assignment as an optimization problem after fixing the following in advance:\n",
    "\n",
    "* meeting1 -> Room B\n",
    "* meeting2 -> Room A\n",
    "* meeting6 -> Room C\n",
    "* meeting10 -> Room A\n",
    "* meeting12 -> Room C\n",
    "* meeting17 -> Room A\n",
    "\n"
   ]
  },
  {
   "cell_type": "code",
   "execution_count": null,
   "metadata": {},
   "outputs": [],
   "source": [
    "from amplify import gen_symbols, BinaryPoly\n",
    "from amplify import sum_poly\n",
    "from amplify.constraint import equal_to\n",
    "from amplify.constraint import penalty\n",
    "\n",
    "\"\"\"\n",
    "Name of the meeting room and corresponding index\n",
    "Room A -> 0, Room B -> 1, Room C -> 2, ...\n",
    "\"\"\"\n",
    "\n",
    "pre_assign = {\n",
    "    \"meeting1\": 1,\n",
    "    \"meeting2\": 0,\n",
    "    \"meeting6\": 2,\n",
    "    \"meeting10\": 0,\n",
    "    \"meeting12\": 1,\n",
    "    \"meeting17\": 0,\n",
    "}\n",
    "\n",
    "\n",
    "Nm = len(schedules)  # Number of meetings\n",
    "Nr = 6  # umber of meeting rooms\n",
    "\n",
    "q = gen_symbols(BinaryPoly, Nm, Nr)\n",
    "\n",
    "# Assign a constant to the combination of a meeting and a meeting room that has been assigned in advance.\n",
    "for mtg_name, room in pre_assign.items():\n",
    "    mtg_idx = mtg_name2idx[mtg_name]\n",
    "    for r in range(Nr):\n",
    "        q[mtg_idx][r] = BinaryPoly(1) if r == room else BinaryPoly(0)\n",
    "\n",
    "# One-hot constraint to assign one meeting room for one meeting\n",
    "room_constraints = sum(\n",
    "    [equal_to(sum_poly(Nr, lambda r: q[i][r]), 1) for i in range(Nm)]\n",
    ")\n",
    "\n",
    "# mpose the constraint that q[i][r] * q[j][r] = 0 for all (i, j) in overlaps\n",
    "overlap_constraints = sum(\n",
    "    [sum([penalty(q[i][r] * q[j][r]) for (i, j) in overlaps]) for r in range(Nr)]\n",
    ")\n",
    "\n",
    "model = room_constraints + overlap_constraints\n",
    "\n",
    "from amplify import Solver\n",
    "from amplify.client import FixstarsClient\n",
    "\n",
    "# Set up the client\n",
    "client = FixstarsClient()\n",
    "client.parameters.timeout = 1000  # Timeout is 1 second\n",
    "# client.token = \"xxxxxxxxxxxxxxxxxxxxxxxxxxxxxxxx\"  # If you are using it in a local environment, please enter the access token for Amplify AE\n",
    "\n",
    "\n",
    "solver = Solver(client)  # Set up a solver\n",
    "result = solver.solve(model)  # Solve a problem\n",
    "\n",
    "# If result is empty, the constraint condition is not satisfied and the solution cannot be found.\n",
    "if len(result) == 0:\n",
    "    raise RuntimeError(\"Given constraint conditions are not satisfied\")\n",
    "\n",
    "\n",
    "from amplify import decode_solution\n",
    "import numpy as np\n",
    "\n",
    "# Assign the obtained solution to the original variable\n",
    "values = result[0].values\n",
    "solution = np.array(decode_solution(q, values))\n",
    "\n",
    "# Read which meeting room each meeting will be assigned to\n",
    "room_assignment = list(zip(*np.where(solution == 1)))\n",
    "\n",
    "plot_mtg_schedule(num_rooms=Nr, room_assignment=room_assignment)"
   ]
  }
 ],
 "metadata": {
  "language_info": {
   "name": "python",
   "pygments_lexer": "ipython3"
  }
 }
}
