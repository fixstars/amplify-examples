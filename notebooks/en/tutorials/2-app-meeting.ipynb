{
 "cells": [
  {
   "cell_type": "markdown",
   "metadata": {},
   "source": [
    "# Meeting Room Assignment Problem\n",
    "\n",
    "The meeting room assignment problem is a problem of assigning meeting rooms so that as many meetings as possible can be held, given multiple meeting schedules and multiple meeting rooms. In this task, we construct a QUBO model for this problem and try to solve the problem using an annealing machine.\n",
    "\n",
    "First, assume that the start and end times of each meeting are given as data. Here, the time is given as a string in the format `\"10:40\"`. In addition, we will have a dictionary of meeting schedule information with the meeting name as the key and the list of start and end times of the meeting as the value. We will also define the number of meetings and the number of available meeting rooms."
   ]
  },
  {
   "cell_type": "code",
   "execution_count": null,
   "metadata": {},
   "outputs": [],
   "source": [
    "# Meeting schedule\n",
    "schedules = {\n",
    "    \"meeting1\": (\"10:00\", \"13:00\"),\n",
    "    \"meeting2\": (\"10:00\", \"12:00\"),\n",
    "    \"meeting3\": (\"10:00\", \"11:00\"),\n",
    "    \"meeting4\": (\"11:00\", \"13:00\"),\n",
    "    \"meeting5\": (\"11:00\", \"12:00\"),\n",
    "    \"meeting6\": (\"11:00\", \"15:00\"),\n",
    "    \"meeting7\": (\"12:00\", \"16:00\"),\n",
    "    \"meeting8\": (\"12:00\", \"15:00\"),\n",
    "    \"meeting9\": (\"13:00\", \"15:00\"),\n",
    "    \"meeting10\": (\"13:00\", \"14:00\"),\n",
    "    \"meeting11\": (\"14:00\", \"17:00\"),\n",
    "    \"meeting12\": (\"15:00\", \"19:00\"),\n",
    "    \"meeting13\": (\"15:00\", \"17:00\"),\n",
    "    \"meeting14\": (\"15:00\", \"16:00\"),\n",
    "    \"meeting15\": (\"16:00\", \"18:00\"),\n",
    "    \"meeting16\": (\"16:00\", \"18:00\"),\n",
    "    \"meeting17\": (\"17:00\", \"19:00\"),\n",
    "    \"meeting18\": (\"17:00\", \"18:00\"),\n",
    "    \"meeting19\": (\"18:00\", \"19:00\"),\n",
    "}\n",
    "\n",
    "# Number of meetings\n",
    "num_meetings = len(schedules)\n",
    "\n",
    "# Number of meeting rooms\n",
    "num_rooms = 8"
   ]
  },
  {
   "cell_type": "markdown",
   "metadata": {},
   "source": [
    "Next, we prepare a function `time2num` to return the given time as a number to compare the meeting times, and a function `check_overlap` to check if the schedules of given two meetings overlap."
   ]
  },
  {
   "cell_type": "code",
   "execution_count": null,
   "metadata": {},
   "outputs": [],
   "source": [
    "# Convert time to numeric time units\n",
    "def time2num(time: str):\n",
    "    h, m = map(float, time.split(\":\"))\n",
    "    return h + m / 60"
   ]
  },
  {
   "cell_type": "markdown",
   "metadata": {},
   "source": [
    "Now we are ready to quantify the information from the given meetings. The next step is to figure out how to represent this problem as a combinatorial optimization problem.\n",
    "\n",
    "As the first step, we consider how to express variables to indicate in which meeting room each meeting will be held. However, binary variables such as QUBO variables and Ising variables cannot have an arbitrary number of states. So, we assign decision variables as many as the number of meeting rooms to each meeting.\n",
    "\n",
    "For example, let $q_{i, r}$ be the variable that represents that the meeting $i$ will be held in the meeting room $r$. We can think of it as assigning the meeting $i$ to the meeting room $r$ if $q_{i, r} = 1$, and not assigning it if $q_{i, r} = 0$.\n",
    "\n",
    "| Meeting \\ Room |   Room A   |   Room B   | $\\cdots$ |   Room H   |\n",
    "| :------------: | :--------: | :--------: | :------: | :--------: |\n",
    "|  `meeting 1`   | $q_{0,0}$  | $q_{0,1}$  | $\\cdots$ | $q_{0,7}$  |\n",
    "|  `meeting 2`   | $q_{1,0}$  | $q_{1,1}$  | $\\cdots$ | $q_{1,7}$  |\n",
    "|    $\\vdots$    |  $\\vdots$  |  $\\vdots$  | $\\cdots$ |  $\\vdots$  |\n",
    "|  `meeting 19`  | $q_{19,0}$ | $q_{19,1}$ | $\\cdots$ | $q_{19,7}$ |\n",
    "\n",
    "\n",
    "Next, consider the restriction that multiple meetings cannot be assigned to the same meeting room on top of each other.\n",
    "\n",
    "We construct a list of meetings with overlapped schedules. For example, if there is a schedule overlap between meetings $i$ and $j$, we construct a tuple $(i, j)$ and store it in this list. \"The problem of assigning each meeting to a meeting room so that there is no schedule overlap\" becomes \"the problem of arranging meetings so that if two meetings $(i, j)$ are included in the above list, they are not assigned to the same meeting room\".\n",
    "\n",
    "In the following, we use the `check_overlap` function defined above to check for overlapped meeting schedules, and based on that, add two meetings $(i, j)$ that have overlapped schedules to the `overlaps` list."
   ]
  },
  {
   "cell_type": "code",
   "execution_count": null,
   "metadata": {},
   "outputs": [],
   "source": [
    "# Check if there is any overlap between the two meeting times\n",
    "def check_overlap(meeting_name1: str, meeting_name2: str) -> bool:\n",
    "    start1, end1 = map(time2num, schedules[meeting_name1])\n",
    "    start2, end2 = map(time2num, schedules[meeting_name2])\n",
    "\n",
    "    return start1 < end2 and start2 < end1"
   ]
  },
  {
   "cell_type": "code",
   "execution_count": null,
   "metadata": {},
   "outputs": [],
   "source": [
    "import itertools\n",
    "\n",
    "# Obtain a list of meeting names\n",
    "mtg_names = list(schedules.keys())\n",
    "\n",
    "# Store the index of meetings with overlapped schedules as a tuple\n",
    "overlaps = [\n",
    "    (idx1, idx2)\n",
    "    for idx1, idx2 in itertools.combinations(range(num_meetings), 2)\n",
    "    if check_overlap(mtg_names[idx1], mtg_names[idx2])\n",
    "]"
   ]
  },
  {
   "cell_type": "markdown",
   "metadata": {},
   "source": [
    "Next, we define `num_meetings` × `num_rooms` QUBO variables, where `num_rooms` meeting rooms are associated with each of the `num_meetings` meetings. Let $q_{i, r}$ be the variable corresponding to the index $i$ of the meeting and $r$ of the meeting room."
   ]
  },
  {
   "cell_type": "code",
   "execution_count": null,
   "metadata": {},
   "outputs": [],
   "source": [
    "from amplify import VariableGenerator\n",
    "\n",
    "gen = VariableGenerator()\n",
    "q = gen.array(\"Binary\", shape=(num_meetings, num_rooms))"
   ]
  },
  {
   "cell_type": "markdown",
   "metadata": {},
   "source": [
    "We create constraints using QUBO variables.\n",
    "\n",
    "First, since a meeting must be assigned to a single meeting room, we impose the following one-hot constraint:\n",
    "\n",
    "$\n",
    "\\displaystyle\\sum_{r=0}^{\\text{Nr} - 1}q_{i, r} = 1 \\quad \\text{for all} \\; i\n",
    "$\n",
    "\n"
   ]
  },
  {
   "cell_type": "code",
   "execution_count": null,
   "metadata": {},
   "outputs": [],
   "source": [
    "from amplify import one_hot\n",
    "\n",
    "room_constraints = one_hot(q, axis=1)"
   ]
  },
  {
   "cell_type": "markdown",
   "metadata": {},
   "source": [
    "In addition, we need to give the constraints such that if the indices $(i, j)$ of two meetings are included in the overlap list `overlaps` of the meeting schedule defined earlier, they cannot be assigned the same meeting room.\n",
    "\n",
    "These constraints are that if $(i, j)\\in \\text{overlaps}$, then $q_{i, r}$ and $q_{j, r}$ will not be $1$ at the same time, which leads to the following constraint:\n",
    "\n",
    "$\n",
    "q_{i, r} q_{j, r} = 0 \\qquad \\text{for}\\quad (i, j) \\in \\text{overlaps}\\quad{and}\\quad  r \\in \\{0, \\cdots, N_r - 1\\}\n",
    "$\n",
    "\n"
   ]
  },
  {
   "cell_type": "code",
   "execution_count": null,
   "metadata": {},
   "outputs": [],
   "source": [
    "from amplify import equal_to, sum as amplify_sum\n",
    "\n",
    "# Impose the constraint that q[i][r] * q[j][r] = 0 for all (i, j) in overlaps\n",
    "overlap_constraints = amplify_sum(\n",
    "    [equal_to(q[i, :] * q[j, :], 0, axis=()) for (i, j) in overlaps]\n",
    ")"
   ]
  },
  {
   "cell_type": "markdown",
   "metadata": {},
   "source": [
    "The two constraint objects `room_constraints` and `overlap_constraints` generated above are combined into a logical model to be solved in the end. "
   ]
  },
  {
   "cell_type": "code",
   "execution_count": null,
   "metadata": {},
   "outputs": [],
   "source": [
    "model = room_constraints + overlap_constraints"
   ]
  },
  {
   "cell_type": "markdown",
   "metadata": {},
   "source": [
    "Next, we set up the client and solve the model we have defined."
   ]
  },
  {
   "cell_type": "code",
   "execution_count": null,
   "metadata": {},
   "outputs": [],
   "source": [
    "from amplify import FixstarsClient, solve\n",
    "from datetime import timedelta\n",
    "\n",
    "# Set the client\n",
    "client = FixstarsClient()\n",
    "# client.token = \"xxxxxxxxxxxxxxxxxxxxxxxxxxxxxxxx\"  # If you are using it in a local environment, please enter the access token for Amplify AE\n",
    "client.parameters.timeout = timedelta(milliseconds=1000)  # timeout is 1000 ms\n",
    "\n",
    "# Solve the problem\n",
    "result = solve(model, client)\n",
    "\n",
    "# If result is empty, it means that no solution satisfying the constraints was obtained.\n",
    "if len(result) == 0:\n",
    "    raise RuntimeError(\"Given constraint conditions are not satisfied\")"
   ]
  },
  {
   "cell_type": "markdown",
   "metadata": {},
   "source": [
    "From the variable whose value is $1$ in the obtained solution, we can tell which meeting room each meeting was assigned to."
   ]
  },
  {
   "cell_type": "code",
   "execution_count": null,
   "metadata": {},
   "outputs": [],
   "source": [
    "# Assign solution in the form of the original decision variable\n",
    "solution = q.evaluate(result.best.values)\n",
    "\n",
    "solution"
   ]
  },
  {
   "cell_type": "markdown",
   "metadata": {},
   "source": [
    "Let us make the solution more readable. We can take the matrix product of the above `solution` and the one-dimensional array `[0, 1, 2, ...]` to obtain an array consisting of the indices of the meeting rooms assigned to each meeting."
   ]
  },
  {
   "cell_type": "code",
   "execution_count": null,
   "metadata": {},
   "outputs": [],
   "source": [
    "import numpy as np\n",
    "\n",
    "# room_list[i] is the index of the meeting room assigned to meeting i\n",
    "room_list = (solution @ np.arange(num_rooms)).astype(int)\n",
    "\n",
    "# Create a dictionary of meeting names and room indices\n",
    "room_assignment = {\n",
    "    meeting_name: room_idx for meeting_name, room_idx in zip(mtg_names, room_list)\n",
    "}\n",
    "\n",
    "room_assignment"
   ]
  },
  {
   "cell_type": "code",
   "execution_count": null,
   "metadata": {},
   "outputs": [],
   "source": [
    "#\n",
    "# Visualize meeting room assignment\n",
    "#\n",
    "%matplotlib inline\n",
    "\n",
    "import string\n",
    "import matplotlib\n",
    "import matplotlib.pyplot as plt\n",
    "\n",
    "\n",
    "def plot_mtg_schedule():\n",
    "    room_names = [f\"Room {c}\" for c in string.ascii_uppercase[:num_rooms]]\n",
    "\n",
    "    cmap = matplotlib.colormaps[\"coolwarm\"].resampled(num_rooms)\n",
    "\n",
    "    fig, ax = plt.subplots(nrows=1, ncols=1, figsize=(15, 10))\n",
    "    for mtg_name, room in room_assignment.items():\n",
    "        start = time2num(schedules[mtg_name][0])\n",
    "        end = time2num(schedules[mtg_name][1])\n",
    "\n",
    "        ax.fill_between(\n",
    "            [room + 0.55, room + 1.45],\n",
    "            start,\n",
    "            end,\n",
    "            edgecolor=\"black\",\n",
    "            linewidth=3.0,\n",
    "            facecolor=cmap(room),\n",
    "        )\n",
    "        ax.text(\n",
    "            room + 0.6, start + 0.1, f\"{schedules[mtg_name][0]}\", va=\"top\", fontsize=10\n",
    "        )\n",
    "        ax.text(\n",
    "            room + 1.0,\n",
    "            (start + end) * 0.5,\n",
    "            mtg_name,\n",
    "            ha=\"center\",\n",
    "            va=\"center\",\n",
    "            fontsize=15,\n",
    "        )\n",
    "\n",
    "    # Set First Axis\n",
    "    ax.yaxis.grid()\n",
    "    ax.set_xlim(0.5, len(room_names) + 0.5)\n",
    "    ax.set_ylim(19.1, 7.9)\n",
    "    ax.set_xticks(range(1, len(room_names) + 1))\n",
    "    ax.set_xticklabels(room_names)\n",
    "    ax.set_ylabel(\"Time\")\n",
    "\n",
    "    # Set Second Axis\n",
    "    axis_x = ax.secondary_xaxis(\"top\")\n",
    "    axis_y = ax.secondary_yaxis(\"right\")\n",
    "    axis_x.set_xticks(ax.get_xticks())\n",
    "    axis_x.set_xticklabels(ax.get_xticklabels())\n",
    "    axis_y.set_ylabel(\"Time\")\n",
    "\n",
    "    plt.show()\n",
    "\n",
    "\n",
    "plot_mtg_schedule()"
   ]
  }
 ],
 "metadata": {
  "language_info": {
   "name": "python",
   "pygments_lexer": "ipython3"
  }
 },
 "nbformat": 4,
 "nbformat_minor": 4
}
