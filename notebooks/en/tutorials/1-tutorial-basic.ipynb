{
 "cells": [
  {
   "source": [
    "# Amplify 101"
   ],
   "cell_type": "markdown",
   "metadata": {}
  },
  {
   "source": [
    "## Introduction\n",
    "\n",
    "Welcome to Fixstars Amplify tutorial.\n",
    "Amplify is a platform that makes it easy and efficient to use quantum annealing and ising machines.\n",
    "With Amplify, you can quickly create optimization applications for combinatorial optimization problems.\n",
    "In addition, because Amplify is compatible with a wide variety of Ising machines by making small changes, the effort of migrating between various Ising machines is greatly reduced.\n",
    "\n",
    "In this tutorial, you will learn how to use Amplify to solve combinatorial optimization problems quickly and efficiently.\n",
    "This tutorial includes the following contents:\n",
    "\n",
    "* How to formulate a combinatorial optimization problem as a minimization problem of binary variable polynomials\n",
    "* How to solve a minimization problem for a binary variable polynomial using Amplify\n",
    "* How to handle constraints with Amplify\n",
    "* Tips for using Amplify\n",
    "* Real-world examples of solving various combinatorial optimization problems with Amplify\n",
    "\n",
    "In this tutorial, you will learn how to use Amplify in an online environment.\n",
    "If you want Amplify to run on your computer, please follow the [Quick Start](https://amplify.fixstars.com/docs/quickstart.html) to install it."
   ],
   "cell_type": "markdown",
   "metadata": {}
  },
  {
   "source": [
    "## Quantum Annealing Machines and Ising Machines\n",
    "\n",
    "A quantum annealing machine and Ising machine are systems that solve optimization problems represented by Ising models or QUBO models.\n",
    "If we can formulate a combinatorial optimization problem using a Ising model or QUBO model, we can use quantum annealing machines or Ising machines to solve the combinatorial optimization problem.\n",
    "## About Combinatorial Optimization Problem\n",
    "\n",
    "A combinatorial optimization problem expresses a criterion for determining variables that represent discrete values such as integers and permutations.\n",
    "Most combinatorial optimization problems are expressed by the following three components: `decision variables`, `objective function`, and `constraints`.\n",
    "\n",
    "* Variables are elements that are subject to changes to improve objective functions or to satisfy constraints such as \"list of products to buy\", \"travel routes\", and so on.\n",
    "* An objective function quantitatively defines how good variables are, such as \"buying as cheap a product as possible\", \"going as short a distance as possible\", etc.\n",
    "* Constraints define the conditions that variables must meet, such as \"a product can be purchased only once\" or \"a place can be visited only once\".\n",
    "\n",
    "The followings show a few examples of optimization problems.\n",
    "\n",
    "### Travelling Salesman Problem\n",
    "\n",
    "The traveling salesman problem is to determine the order of the shortest travel route over cities by visiting them exactly only once.\n",
    "The expression for this combinatorial optimization problem is as follows.\n",
    "\n",
    "* Objective function: Sum of the distances traveled through all cities\n",
    "* Constraint: The salesman should not visit one city more than once\n",
    "* Variable: The order in which cities are visited\n",
    "\n",
    "### Graph Coloring Problem\n",
    "\n",
    "The graph coloring problem is to paint regions in such a way that no adjacent regions have the same color.\n",
    "The expression for this combinatorial optimization problem is as follows.\n",
    "\n",
    "* Objective function: None\n",
    "* Constraint: Adjacent regions do not have the same color\n",
    "* Variable: Color of each region\n",
    "\n",
    "## The Ising Model and QUBO Model\n",
    "\n",
    "The Ising model and the QUBO model are the types of problems that the quantum annealing machine and the Ising machine can handle.\n",
    "In order to solve various combinatorial optimization problems with quantum annealing machines and Ising machines, it is necessary to convert the combinatorial optimization problems into Ising and QUBO models.\n",
    "\n",
    "The QUBO model is represented by the following equation:\n",
    "\n",
    "$\n",
    "\\displaystyle H = \\sum_{i<j} J_{ij} q_i q_j + \\sum_i h_i q_i \\quad q_i\\in\\{0, +1 \\}\n",
    "$\n",
    "\n",
    "The Ising model can also be expressed by the following equation:\n",
    "\n",
    "$\n",
    "\\displaystyle H = \\sum_{i<j} J_{ij} s_i s_j + \\sum_i h_i s_i \\quad s_i\\in\\{+1, -1 \\}\n",
    "$\n",
    "\n",
    "The only difference between the Ising model and the QUBO model is the values of the variables to be handled. These models can be transformed from one to the other by appropriate equation transformations.\n",
    "\n",
    "## The Roles of Amplify\n",
    "\n",
    "In this way, Amplify plays two major roles in solving combinatorial optimization problems through Ising and QUBO models.\n",
    "\n",
    "### Formulation Support for the Ising Model and QUBO Model\n",
    "\n",
    "For example, in general combinatorial optimization problems, equality constraints and inequality constraints appear as the types of constraints. However, the Ising model and QUBO model cannot directly describe such constraints, and users need to devise their own methods.\n",
    "Furthermore, it is difficult to flexibly handle constraints, such as checking whether the optimization result satisfies the constraints of the original problem, or treating some variables as constants.\n",
    "Amplify provides a number of features that make the formulation of problems in the Ising and QUBO models intuitive.\n",
    "\n",
    "### Absorbing Differences Between Machines\n",
    "\n",
    "Currently, various quantum annealing and Ising machines are being researched and developed, and updates to the machines and associated performance improvements are being actively made.\n",
    "The cost of keeping up with such machines that are constantly being updated and using various machines with different specifications is high.\n",
    "\n",
    "An example of differences in the specifications of machines is that problem formats that can be directly run by each machine may be different, so a problem needs to be converted to an appropriate format.\n",
    "Each quantum annealing machine or Ising machine does not necessarily solve the Ising model or the QUBO model directly.\n",
    "Some machines require further transformations of the models into the ones that they can directly handle, before solving problems. Separate transformation processes are thus needed for the machines that require this type of transformation of models.\n",
    "In addition, each machine has different forms of requests for sending problems to be solved, so it needs to be implemented according to the specifications of each machine.\n",
    "\n",
    "Amplify absorbs these differences in machine specifications and makes it easy to run different machines with little code changes.\n",
    "\n",
    "In the next section, we will learn how to use Amplify to solve combinatorial optimization problems."
   ],
   "cell_type": "markdown",
   "metadata": {}
  },
  {
   "source": [
    "## Ising Model\n",
    "\n",
    "This section describes the \"Ising model\", a kind of \"binary variable quadratic polynomial\", which is the input form of the annealing machine.\n",
    "\n",
    "### Definition of Ising Model\n",
    "\n",
    "The Ising model is represented by a polynomial function of the Ising variables of the following form\n",
    "\n",
    "$\n",
    "\\displaystyle H = \\sum_{i<j} J_{ij} s_i s_j + \\sum_i h_i s_i \\quad s_i\\in\\{+1, -1 \\}\n",
    "$\n",
    "\n",
    "\n",
    "### Solving the Ising Model with Amplify\n",
    "\n",
    "As an example, we will take up the following minimization problem of a function (quadratic polynomial of binary variables) of the Ising variable {+1,-1}.\n",
    "\n",
    "$\n",
    "\\displaystyle f(s_0, s_1) = 1 - s_0 s_1\n",
    "$\n",
    "\n",
    "Since $s_0,s_1 \\in \\{+1, -1\\}$, $f(s_0=1,s_1=1)=0 $ is one of the optimal solutions.\n",
    "\n",
    "Let's try to express this using Amplify."
   ],
   "cell_type": "markdown",
   "metadata": {}
  },
  {
   "source": [
    "### Formulation using Amplify\n",
    "\n",
    "Amplify uses the `IsingPoly` class to represent polynomials in the Ising model.\n"
   ],
   "cell_type": "markdown",
   "metadata": {}
  },
  {
   "cell_type": "code",
   "execution_count": null,
   "metadata": {},
   "outputs": [],
   "source": [
    "from amplify import IsingPoly, gen_symbols\n",
    "\n",
    "# Define the Ising variables s_0 and s_1\n",
    "s = gen_symbols(IsingPoly, 2)\n",
    "\n",
    "# Define the objective function f = 1 - s_0 * s_1\n",
    "f = 1 - s[0] * s[1]\n",
    "\n",
    "print(f\"f = {f}\")"
   ]
  },
  {
   "source": [
    "Let's run the minimization problem of a quadratic polynomial of binary variables created in this way on an annealing machine to see if a solution can be obtained."
   ],
   "cell_type": "markdown",
   "metadata": {}
  },
  {
   "cell_type": "code",
   "execution_count": null,
   "metadata": {},
   "outputs": [],
   "source": [
    "from amplify import Solver\n",
    "from amplify.client import FixstarsClient\n",
    "\n",
    "# Set up the client\n",
    "client = FixstarsClient()  # Fixstars Optigan\n",
    "client.parameters.timeout = 1000  # Timeout is 1 second\n",
    "# client.token = \"xxxxxxxxxxxxxxxxxxxxxxxxxxxxxxxx\"  # If you are using it in a local environment, please enter the access token for Amplify AE\n",
    "\n",
    "# Building a solver\n",
    "solver = Solver(client)  # Set the client to be used for the solver\n",
    "\n",
    "# Enter the problem and run the machine\n",
    "result = solver.solve(f)  # Enter the problem and run the machine"
   ]
  },
  {
   "source": [
    "### Obtaining the Results\n",
    "\n",
    "In the above example, `result`, obtained by executing the machine with `solver.solve`, is an object with the following attributes.\n",
    "\n",
    "* `solutions`: A list of execution results. Each element has the following attributes.\n",
    "    * `energy`: Energy value (evaluation value of input model)\n",
    "    * `values`: A dictionary of input variables corresponding to the above `energy` (key is the index of the variable, value is the value of the variable)\n",
    "    * `frequency`: Number of identical solutions\n",
    "\n",
    "For example, the solution at the top of the list of results can be obtained with `result.solutions[0].values`.\n",
    "The same can be achieved with `result[0].values`.\n",
    "This is because the element access to `result` transparently becomes the access to the elements of `result.solutions`.\n",
    "\n",
    "If you want to get the value of the solution for each element of the variable array, the `decode_solution` function is useful."
   ],
   "cell_type": "markdown",
   "metadata": {}
  },
  {
   "cell_type": "code",
   "execution_count": null,
   "metadata": {},
   "outputs": [],
   "source": [
    "from amplify import decode_solution\n",
    "\n",
    "for sol in result:  # Iterate over multiple solutions\n",
    "\n",
    "    # sol.values: Value of the decision variable (dictionary with key as index and value as variable value)\n",
    "    # sol.energy: Value of the objective function (the value obtained by substituting the decision variable into the objective function)\n",
    "    solution = decode_solution(\n",
    "        s, sol.values\n",
    "    )  #  Decode variable array s with sol.values\n",
    "\n",
    "    print(f\"result: {s} = {solution} (f = {sol.energy})\")"
   ]
  },
  {
   "source": [
    "$s_0=1,s_1=1$ was obtained as the optimal solution."
   ],
   "cell_type": "markdown",
   "metadata": {}
  },
  {
   "source": [
    "## QUBO Model\n",
    "\n",
    "We explain another input format of the annealing machine, the QUBO model.\n",
    "\n",
    "### Definition of QUBO Model\n",
    "\n",
    "QUBO stands for Quadratic Unconstrained Binary Optimization, and it refers to an unconstrained 0-1 integer quadratic programming problem.\n",
    "\n",
    "The QUBO model is represented by a polynomial function of binary variables of the following form:\n",
    "\n",
    "$\n",
    "\\displaystyle H = \\sum_{i<j} J_{ij} q_i q_j + \\sum_i h_i q_i \\quad q_i\\in\\{0, +1 \\}\n",
    "$\n",
    "\n",
    "\n",
    "\n",
    "### Solving the QUBO model with Amplify\n",
    "\n",
    "Let's look at an example of a two-variable problem in the QUBO model.\n",
    "\n",
    "$\n",
    "\\displaystyle f(q_0, q_1) = 1 - q_0 q_1\n",
    "$\n",
    "\n",
    "$f(q_0=1,q_1=1)=0 $ is the optimal solution.\n",
    "\n",
    "Let's try to express this using Amplify.\n",
    "\n",
    "First, we define the objective function."
   ],
   "cell_type": "markdown",
   "metadata": {}
  },
  {
   "cell_type": "code",
   "execution_count": null,
   "metadata": {},
   "outputs": [],
   "source": [
    "from amplify import BinaryPoly, gen_symbols\n",
    "\n",
    "# Define the Ising variables q_0 and q_1\n",
    "q = gen_symbols(BinaryPoly, 2)\n",
    "\n",
    "# Define the objective function 1 - q_0 * q_1\n",
    "f = 1 - q[0] * q[1]\n",
    "\n",
    "print(f\"f = {f}\")"
   ]
  },
  {
   "source": [
    "As before, we will find the optimal solution for this objective function."
   ],
   "cell_type": "markdown",
   "metadata": {}
  },
  {
   "cell_type": "code",
   "execution_count": null,
   "metadata": {},
   "outputs": [],
   "source": [
    "from amplify import decode_solution, Solver\n",
    "from amplify.client import FixstarsClient\n",
    "\n",
    "# Set up the client\n",
    "client = FixstarsClient()  # Fixstars Optigan\n",
    "client.parameters.timeout = 1000  # Timeout is 1 second\n",
    "# client.token = \"xxxxxxxxxxxxxxxxxxxxxxxxxxxxxxxx\"  # If you are using it in a local environment, please enter the access token for Amplify AE\n",
    "\n",
    "# Building a solver\n",
    "solver = Solver(client)  # Set the client to be used for the solver\n",
    "\n",
    "# Enter the problem and run the machine\n",
    "result = solver.solve(f)  # Enter the problem and run the machine\n",
    "\n",
    "for sol in result:  # Iterate over multiple solutions\n",
    "\n",
    "    # sol.values: Value of the decision variable (dictionary with key as index and value as variable value)\n",
    "    # sol.energy: Value of the objective function (the value obtained by substituting the decision variable into the objective function)\n",
    "    solution = decode_solution(\n",
    "        q, sol.values\n",
    "    )  #  Decode variable array q with sol.values\n",
    "\n",
    "    print(f\"result: {q} = {solution} (f = {sol.energy})\")"
   ]
  },
  {
   "source": [
    "$q_0=1,q_1=1$ was obtained as the optimal solution."
   ],
   "cell_type": "markdown",
   "metadata": {}
  }
 ],
 "metadata": {
  "language_info": {
   "name": "python",
   "pygments_lexer": "ipython3"
  }
 },
 "nbformat": 4,
 "nbformat_minor": 4
}
