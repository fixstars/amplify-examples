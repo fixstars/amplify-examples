{
 "cells": [
  {
   "cell_type": "markdown",
   "metadata": {},
   "source": [
    "# Taxi Matching Problem\n",
    "Let's solve the taxi matching problem as an example of a problem that uses both an objective function and constraints.\n",
    "\n",
    "The taxi matching problem is the problem of minimizing the cost of dispatching a taxi given multiple customers and multiple taxi locations respectively.\n",
    "\n",
    "The cost of dispatching a taxi can be defined in various ways, but for simplicity, we will assume that it is the total distance between the taxi and the customer. By matching taxis and customers, we can decide where to dispatch the taxi so as to minimize the total distance between each taxi and the destination customer.\n",
    "\n",
    "## Formulation of the Problem\n",
    "\n",
    "First of all, the assumption of the problem here is that there are $N$ customers and the same number of $N$ taxis. Suppose that we are given the coordinates $(c_{i,x}, c_{i,y})$ of the customers and $(t_{j,x}, t_{j,y})$ of the taxis with indices $i, j = 0, 1, \\cdots, N -1$. From these coordinates, let the distance between customer $i$ and taxi $j$ be the following: \n",
    "\n",
    "$$\n",
    "d_{ij} = \\sqrt{(c_{i,x} - t_{j,x})^2 + (c_{i,y} - t_{j,y})^2}\n",
    "$$ \n",
    "\n",
    "### Decision Variable\n",
    "\n",
    "The relation between customer $i$ and taxi $j$ can be divided into the following two patterns:\n",
    "\n",
    "* Customer $i$ is assigned a taxi $j$\n",
    "* Taxi $j$ is not assigned to customer $i$\n",
    "\n",
    "We use the binary variable $q_{ij}$ to represent these two states.\n",
    "\n",
    "* When taxi $j$ is assigned to customer $i$, $q_{ij} = 1$\n",
    "* When no taxi $j$ is assigned to customer $i$, $q_{ij} = 0$\n",
    "\n",
    "|Customer \\ Taxi| $0$ | $1$ | ... | $N-1$|  \n",
    "|:---:|:---:|:---:|:---:|:---:|\n",
    "|$0$| $q_{0,0}$ | $q_{0,1}$ | ... | $q_{0,N-1}$|\n",
    "|$1$| $q_{1,0}$ | $q_{1,1}$ | ... | $q_{1,N-1}$|\n",
    "|$\\vdots$| $\\vdots$ | $\\vdots$ | ... | $\\vdots$|\n",
    "|$N -1$| $q_{N-1,0}$ | $q_{N-1,1}$ | ... | $q_{N-1,N-1}$|\n",
    "\n",
    "### Objective Function\n",
    "\n",
    "Using the above binary variables, the objective function, which is the total distance between the matched customer and the taxi, is given by following:  \n",
    "Since the variable $q_{ij}$ means that customer $i$ and taxi $j$ are matched when $1$, we only add up the distances that result in $q_{ij} = 1$.\n",
    "\n",
    "$$\n",
    "\\sum_{i, j=0}^{N-1}d_{ij}q_{ij}\n",
    "$$\n",
    "\n",
    "### Constraint\n",
    "\n",
    "The next step is to define the constraints.\n",
    "\n",
    "First, since we always assign one taxi to one customer, we need the following constraint for customer $i$.\n",
    "\n",
    "$$\n",
    "\\sum_{j=0}^{N -1}q_{ij} = 1 \n",
    "$$\n",
    "\n",
    "In addition, since one taxi is always assigned to one customer, we also need the following constraint for taxi $j$:\n",
    "\n",
    "$$\n",
    "\\sum_{i=0}^{N -1}q_{ij} = 1 \n",
    "$$\n",
    "\n",
    "\n",
    "## Implementing the Problem\n",
    "\n",
    "Since we need the coordinates of the customers and the taxies as input data, we will create a function that randomly generates the coordinates of the customers and the taxies and calculates the distances for all combinations of customers and taxies."
   ]
  },
  {
   "cell_type": "code",
   "execution_count": null,
   "metadata": {},
   "outputs": [],
   "source": [
    "import numpy as np\n",
    "\n",
    "# Randomly generate the coordinates of the customers and the taxies, and calculate the distances between the customers and the taxies\n",
    "def gen_random_locations(N_customers: int, N_taxies: int):\n",
    "    # Customer coordinates\n",
    "    loc_customers = np.random.uniform(size=(N_customers, 2))\n",
    "\n",
    "    # Taxi coordinates\n",
    "    loc_taxies = np.random.uniform(size=(N_taxies, 2))\n",
    "\n",
    "    # Calculate the distance between a customer and a taxi in matrix form\n",
    "    all_diffs = np.expand_dims(loc_customers, axis=1) - np.expand_dims(\n",
    "        loc_taxies, axis=0\n",
    "    )\n",
    "    distances = np.sqrt(np.sum(all_diffs ** 2, axis=-1))\n",
    "\n",
    "    return loc_customers, loc_taxies, distances"
   ]
  },
  {
   "cell_type": "markdown",
   "metadata": {},
   "source": [
    "For visualization purposes, we also create a function that, given the coordinates of a customer and a taxi, plot those coordinates."
   ]
  },
  {
   "cell_type": "code",
   "execution_count": null,
   "metadata": {},
   "outputs": [],
   "source": [
    "%matplotlib inline\n",
    "import matplotlib.pyplot as plt\n",
    "\n",
    "# Visualize the location of customers and taxis\n",
    "def show_plot(loc_customers: np.ndarray, loc_taxies: np.ndarray):\n",
    "    markersize = 100\n",
    "    plt.subplots(nrows=1, ncols=1, figsize=(10, 10))\n",
    "    plt.xlabel(\"x\")\n",
    "    plt.ylabel(\"y\")\n",
    "    plt.scatter(\n",
    "        *zip(*loc_customers), label=\"Customers\", marker=\"o\", color=\"red\", s=markersize\n",
    "    )\n",
    "    plt.scatter(\n",
    "        *zip(*loc_taxies), label=\"Taxies\", marker=\"^\", color=\"blue\", s=markersize\n",
    "    )\n",
    "\n",
    "    plt.legend(loc=\"upper right\")\n",
    "    plt.show()"
   ]
  },
  {
   "cell_type": "markdown",
   "metadata": {},
   "source": [
    "Determine `N` corresponding to the number of customers and the number of taxis, and generate their coordinates and distances with the `gen_random_locations` function we defined earlier. Plot the generated results to visualize the locations of customers and taxis."
   ]
  },
  {
   "cell_type": "code",
   "execution_count": null,
   "metadata": {},
   "outputs": [],
   "source": [
    "N = 5\n",
    "\n",
    "Lc, Lt, d = gen_random_locations(N_customers=N, N_taxies=N)\n",
    "\n",
    "show_plot(Lc, Lt)"
   ]
  },
  {
   "cell_type": "markdown",
   "metadata": {},
   "source": [
    "### Building a Binary Polynomial Model\n",
    "\n",
    "Next, we define the QUBO variables that we will need. Since we want to have $N$ taxis for each $N$ customer, we define the QUBO variable as a two-dimensional array of $N\\times N$ as follows:"
   ]
  },
  {
   "cell_type": "code",
   "execution_count": null,
   "metadata": {},
   "outputs": [],
   "source": [
    "from amplify import (\n",
    "    gen_symbols,\n",
    "    BinaryPoly,\n",
    ")\n",
    "\n",
    "# Create QUBO variables\n",
    "q = gen_symbols(BinaryPoly, N, N)"
   ]
  },
  {
   "cell_type": "markdown",
   "metadata": {},
   "source": [
    "Using these QUBO variables, the objective function is obtained as follows:"
   ]
  },
  {
   "cell_type": "code",
   "execution_count": null,
   "metadata": {},
   "outputs": [],
   "source": [
    "from amplify import sum_poly\n",
    "\n",
    "cost = sum_poly(N, lambda i: sum_poly(N, lambda j: d[i][j] * q[i][j]))"
   ]
  },
  {
   "cell_type": "markdown",
   "metadata": {},
   "source": [
    "The next step is to define the constraints.\n",
    "\n",
    "The two constraints described at the beginning are represented as follows using the `equal_to` function, and they are added up to construct a constraint object."
   ]
  },
  {
   "cell_type": "code",
   "execution_count": null,
   "metadata": {},
   "outputs": [],
   "source": [
    "from amplify import sum_poly, BinaryQuadraticModel\n",
    "from amplify.constraint import equal_to\n",
    "\n",
    "customer_has_one_taxi = sum(\n",
    "    [equal_to(sum_poly(N, lambda j: q[i][j]), 1) for i in range(N)]\n",
    ")\n",
    "\n",
    "taxi_has_one_customer = sum(\n",
    "    [equal_to(sum_poly(N, lambda i: q[i][j]), 1) for j in range(N)]\n",
    ")\n",
    "\n",
    "constraints = customer_has_one_taxi + taxi_has_one_customer"
   ]
  },
  {
   "cell_type": "markdown",
   "metadata": {},
   "source": [
    "By adding the objective function and constraints, the final binary polynomial model can be obtained as follows.\n",
    "\n",
    "Here, the strength of the constraints relative to the objective function is important.\n",
    "Just to conclude, it is enough to set the maximum value of $d_{ij}$, and we will not go into the discussion of how strong it should be."
   ]
  },
  {
   "cell_type": "code",
   "execution_count": null,
   "metadata": {},
   "outputs": [],
   "source": [
    "constraints *= np.amax(d)  # Set the intensity\n",
    "\n",
    "# Combine objective function and constraints\n",
    "model = cost + constraints"
   ]
  },
  {
   "cell_type": "markdown",
   "metadata": {},
   "source": [
    "### Running the Ising Machine\n",
    "\n",
    "Set the client of the Ising machine to `FixstarsClient`, and also create a solver to solve the problem as follows:"
   ]
  },
  {
   "cell_type": "code",
   "execution_count": null,
   "metadata": {},
   "outputs": [],
   "source": [
    "from amplify import Solver\n",
    "from amplify.client import FixstarsClient\n",
    "\n",
    "# Set up the client\n",
    "client = FixstarsClient()\n",
    "client.parameters.timeout = 1000  # Timeout is 1 second\n",
    "# client.token = \"xxxxxxxxxxxxxxxxxxxxxxxxxxxxxxxx\"  # If you are using it in a local environment, please enter the access token for Amplify AE\n",
    "\n",
    "# Set up a solver.\n",
    "solver = Solver(client)\n",
    "\n",
    "# solve a problem\n",
    "result = solver.solve(model)"
   ]
  },
  {
   "cell_type": "markdown",
   "metadata": {},
   "source": [
    "The obtained solution can be checked as follows.\n",
    "\n",
    "The final solution can be obtained by using the decode_solution function and assigning it to the variables defined in the beginning."
   ]
  },
  {
   "cell_type": "code",
   "execution_count": null,
   "metadata": {},
   "outputs": [],
   "source": [
    "from amplify import decode_solution\n",
    "\n",
    "# If result is empty, the constraint condition is not satisfied and the solution cannot be found.\n",
    "if len(result) == 0:\n",
    "    raise RuntimeError(\"Given constraint conditions are not satisfied\")\n",
    "\n",
    "for sol in result:\n",
    "    values = sol.values\n",
    "    energy = sol.energy\n",
    "    print(f\"energy = {energy}\")\n",
    "    print(f\"q = {decode_solution(q, values)}\")\n",
    "\n",
    "solution = np.array(decode_solution(q, result[0].values))"
   ]
  },
  {
   "cell_type": "markdown",
   "metadata": {},
   "source": [
    "The array of decision variables indicates that if there is $1$ in the $j$th column of the $i$th row, the taxi $j$ will be assigned to customer $i$. Thus, we can get the information about which taxi to match to which customer as follows:"
   ]
  },
  {
   "cell_type": "code",
   "execution_count": null,
   "metadata": {},
   "outputs": [],
   "source": [
    "customers = np.where(solution == 1)[0]\n",
    "taxies = np.where(solution == 1)[1]\n",
    "matches = list(zip(customers, taxies))"
   ]
  },
  {
   "cell_type": "markdown",
   "metadata": {},
   "source": [
    "Finally, we visualize the obtained data of matching customers and taxis."
   ]
  },
  {
   "cell_type": "code",
   "execution_count": null,
   "metadata": {},
   "outputs": [],
   "source": [
    "def plot_matching(loc_customers, loc_taxies, matches):\n",
    "    markersize = 100\n",
    "    plt.subplots(nrows=1, ncols=1, figsize=(10, 10))\n",
    "    plt.xlabel(\"x\")\n",
    "    plt.ylabel(\"y\")\n",
    "    plt.scatter(\n",
    "        *zip(*loc_customers), label=\"Customers\", marker=\"o\", color=\"red\", s=markersize\n",
    "    )\n",
    "    plt.scatter(\n",
    "        *zip(*loc_taxies), label=\"Taxies\", marker=\"^\", color=\"blue\", s=markersize\n",
    "    )\n",
    "\n",
    "    for i, j in matches:\n",
    "        xc, yc = loc_customers[i]\n",
    "        xt, yt = loc_taxies[j]\n",
    "        plt.plot([xc, xt], [yc, yt], color=\"green\", linestyle=\"--\")\n",
    "\n",
    "    plt.legend(loc=\"upper right\")\n",
    "\n",
    "    plt.show()\n",
    "\n",
    "\n",
    "plot_matching(loc_customers=Lc, loc_taxies=Lt, matches=matches)"
   ]
  },
  {
   "source": [
    "## The Case Where the Number of Customers is Less Than the Number of Taxis\n",
    "\n",
    "In this section, we consider the taxi matching problem when the number of customers is smaller than the number of taxis.\n",
    "In this case, we need to formulate constraints that take into account both the case where the number of customers assigned to each taxi is zero and the case where the number of customers assigned to each taxi is one.\n",
    "Such constraints can be formulated using inequality constraints.\n",
    "\n",
    "Given $N_c$ customers and $N_t$ taxis ($N_c < N_t$) and their coordinates, let $d_{ij}$ be the distance between customer $i$ and taxi $j$ as before.\n",
    "\n",
    "### Objective Function\n",
    "\n",
    "The objective function is the same as before, but we consider that $N_c$ and $N_t$ are different values.\n",
    "\n",
    "$$\n",
    "\\sum_{i=0}^{N_c-1}\\sum_{j=0}^{N_t - 1}d_{ij}q_{ij}\n",
    "$$\n",
    "\n",
    "\n",
    "### Constraint\n",
    "\n",
    "Since there are more taxis than customers, every customer can be matched with one taxi.\n",
    "Therefore, for customer $i$, the following holds.\n",
    "$$\n",
    "\\sum_{j=0}^{N_{\\rm t}-1}q_{ij} = 1 \n",
    "$$\n",
    "\n",
    "On the other hand, for a taxi, there may be no customers at all. Therefore, we impose a constraint by inequality, taking into account both the cases where the number of customers is zero and the case where the number of customers is one.\n",
    "The following holds for taxi $j$.\n",
    "$$\n",
    "\\sum_{i=0}^{N_{\\rm c} -1}q_{ij} \\le 1\n",
    "$$\n"
   ],
   "cell_type": "markdown",
   "metadata": {}
  },
  {
   "cell_type": "code",
   "execution_count": null,
   "metadata": {},
   "outputs": [],
   "source": [
    "import numpy as np\n",
    "from amplify import decode_solution, gen_symbols, BinaryPoly, sum_poly, Solver\n",
    "from amplify.constraint import less_equal, equal_to\n",
    "from amplify.client import FixstarsClient\n",
    "\n",
    "Nc = 5  # Number of customers\n",
    "Nt = 8  # Number of taxis\n",
    "\n",
    "# Generate customers' coordinates, taxis' coordinates, and distance matrix between customers and taxis\n",
    "Lc, Lt, d = gen_random_locations(Nc, Nt)\n",
    "\n",
    "# Create a QUBO variable\n",
    "q = gen_symbols(BinaryPoly, Nc, Nt)\n",
    "\n",
    "# Objective function\n",
    "cost = sum_poly(Nc, lambda i: sum_poly(Nt, lambda j: d[i][j] * q[i][j]))\n",
    "\n",
    "############################################################################################\n",
    "# Constraint\n",
    "# It is useful to use less_equal, equal_to, sum_poly\n",
    "############################################################################################\n",
    "\n",
    "customer_has_one_taxi = sum(\n",
    "    [equal_to(sum_poly(Nt, lambda j: q[i][j]), 1) for i in range(Nc)]\n",
    ")\n",
    "\n",
    "taxi_has_one_or_less_customer = sum(\n",
    "    [less_equal(sum_poly(Nc, lambda i: q[i][j]), 1) for j in range(Nt)]\n",
    ")\n",
    "\n",
    "constraints = customer_has_one_taxi + taxi_has_one_or_less_customer\n",
    "\n",
    "############################################################################################\n",
    "\n",
    "# Construct a logical model by adding the objective function and constraint objects\n",
    "constraints *= np.amax(d)  # Set the intensity\n",
    "model = cost + constraints\n",
    "\n",
    "# Set up the client\n",
    "client = FixstarsClient()\n",
    "client.parameters.timeout = 1000  # Timeout is 1 second\n",
    "# client.token = \"xxxxxxxxxxxxxxxxxxxxxxxxxxxxxxxx\"  # If you are using it in a local environment, please enter the access token for Amplify AE\n",
    "\n",
    "# Set up a solver.\n",
    "solver = Solver(client)\n",
    "\n",
    "# solve a problem\n",
    "result = solver.solve(model)\n",
    "\n",
    "# If result is empty, the constraint condition is not satisfied.\n",
    "if len(result) == 0:\n",
    "    raise RuntimeError(\"Given constraint conditions are not satisfied\")\n",
    "\n",
    "solution = np.array(decode_solution(q, result[0].values))\n",
    "\n",
    "customers = np.where(solution == 1)[0]  # List of customer indexes\n",
    "taxies = np.where(solution == 1)[1]  # Customer list\n",
    "matches = list(zip(customers, taxies))  # Index of customers and taxis to be matched\n",
    "\n",
    "# Plotting the matching of customers and taxis\n",
    "plot_matching(loc_customers=Lc, loc_taxies=Lt, matches=matches)"
   ]
  },
  {
   "cell_type": "code",
   "execution_count": null,
   "metadata": {},
   "outputs": [],
   "source": []
  }
 ],
 "metadata": {
  "language_info": {
   "name": "python",
   "pygments_lexer": "ipython3"
  }
 },
 "nbformat": 4,
 "nbformat_minor": 4
}
