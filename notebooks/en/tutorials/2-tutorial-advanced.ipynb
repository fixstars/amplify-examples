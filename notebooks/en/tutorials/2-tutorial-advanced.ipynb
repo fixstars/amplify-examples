{
 "cells": [
  {
   "cell_type": "markdown",
   "metadata": {},
   "source": [
    "# Constraint\n",
    "\n",
    "In the optimization problems that we have dealt with so far in this tutorial, there is no limit to the values that the decision variables can take, and we searched for the value that minimizes the objective function among all possible combinations of values that the decision variables can take.\n",
    "\n",
    "However, in a general optimization problem, there are cases where optimal solutions must be sought from the decision variables satisfying certain conditions.\n",
    "This kind of problem is called a constrained optimization problem.\n",
    "\n",
    "The following is an example of a constrained optimization problem:\n",
    "\n",
    "* Objective function $x_1 + x_2$\n",
    "* Constraint $x_1 + x_2 \\geq 1$\n",
    "\n",
    "In addition to the inequality constraints mentioned above, there are other examples such as the following:\n",
    "\n",
    "* Equality constraint ($x_1 + x_2 = 1$)\n",
    "* Boolean constraint \n",
    "  * NAND constraint (binary variables $x_1, x_2$ can never both be 1)\n",
    "  * OR constraint (at least one of the binary variables $x_1, x_2$ is 1)\n",
    "  * ...\n",
    "\n",
    "When constraints are imposed, it is necessary to find the optimal solution from the \"feasible solutions\" that satisfy the constraints.\n",
    "\n",
    "However, the QUBO and Ising models cannot handle constraints.\n",
    "Therefore, when solving constrained optimization problems by attributing them to QUBO, it is necessary to express the constraints as parts of the objective function.\n",
    "\n",
    "The basic approach is to add a penalty function $g$ to the original objective function $f$ with weights such that it takes the minimum value if the constraints are satisfied.\n",
    "By finding the optimal solution for $h = f + \\lambda g\\quad (\\lambda \\gt 0)$ instead of $f$, it is possible to obtain a feasible solution that minimizes the penalty function $g$, i.e., satisfies the constraints.\n",
    "In practice, the obtained solution is not necessarily the optimal solution, so we identify whether it is a feasible solution by checking if the solution of $h$ is the minimum value when evaluated with $g$.\n",
    "\n",
    "For example, this equality constraint can be expressed using the following penalty function\n",
    "\n",
    "$x_1 + x_2 = 1$\n",
    "\n",
    "$g(\\mathbf{x}) = (x_1 + x_2 - 1)^2$\n",
    "\n",
    "This function will only be $g(\\mathbf{x}) = 0$ if $x_1 + x_2 = 1$, otherwise it will take a positive value $g(\\mathbf{x}) > 0$.\n",
    "\n",
    "\n",
    "We need to consider such a penalty function for each constraint, and Amplify can automatically add the above constraints (inequality constraints, equality constraints, and logic equation constraints) as penalty functions to the objective function."
   ]
  },
  {
   "cell_type": "markdown",
   "metadata": {},
   "source": [
    "## Constraints in Amplify\n",
    "\n",
    "In Amplify, typical constraints are abstracted in the form of constraint objects, aside from objective functions.\n",
    "\n",
    "Using the constraint object provides the following advantages:\n",
    "\n",
    "* Constructing constrained optimization problems by combining objective functions and constraints\n",
    "* Setting Multiple Constraints\n",
    "* Formulation support for a typical penalty function\n",
    "* Constraint satisfaction check when evaluating solutions\n",
    "* Adjusting the Strength of the Penalty Function"
   ]
  },
  {
   "cell_type": "markdown",
   "metadata": {},
   "source": [
    "## Penalty Constraint\n",
    "The most primitive constraint object is the one created by the `penalty` function.\n",
    "\n",
    "The `penalty` function creates a constraint object $g$ that represents the constraint $f(\\mathbf x)=0$ on the variable $\\mathbf x$.\n",
    "However, the `penalty` function has an applicability condition.\n",
    "\n",
    "In order to use the `penalty` function, the following must be true:\n",
    "\n",
    "* If the target polynomial is $f(\\mathbf x)$, then for all assignments $\\mathbf x$, $f(\\mathbf x) \\geq 0$. \n",
    "* $\\min_{\\mathbf x} f(\\mathbf x)=0$\n",
    "\n",
    "We check the behavior of the penalty function representing the constraint.\n",
    "The constraints between the decision variables q can be expressed by setting the penalty function g(q) appropriately. g(q) is a function that takes the minimum value when q satisfying the constraint is input. When q that does not satisfy the constraints is input, a \"penalty\" is imposed such that the function takes a value larger than the minimum value, so $g(\\mathbf{q})$ is called a penalty function. Now, as an example of a penalty function using the QUBO variable $q_i = \\{0,1\\}$, we will show an example of designing a penalty function that makes a decision to satisfy each constraint condition in NAND and OR constraints.\n",
    "\n",
    "### NAND Constraint\n",
    "Given two binary variables $q_i, q_j \\in \\{0, 1\\}$, the condition that [both $q_i, q_j$ can never be 1] is called a NAND constraint.\n",
    "The penalty function $g_{\\mathrm{NAND}}$, which expresses the NAND constraint, must satisfy the following conditions:\n",
    "\n",
    "1. If the condition is satisfied, that is $(q_i, q_j)\\in\\{(0,0),(0,1),(1,0)\\}$, $g_{\\mathrm{NAND}}(q_i, q_j)$ takes the minimum value \n",
    "2. If the condition is not satisfied, that is $(q_i,q_j)\\in\\{(1,1)\\}$, $g_{\\mathrm{NAND}}(q_i, q_j)$ is greater than the minimum value \n",
    "\n",
    "Let's say that the value of $g_{\\mathrm{NAND}}$ is 0 when the condition is satisfied, and the value when the condition is not satisfied is 1. Then, the value of $g_{\\mathrm{NAND}}$ will be as shown in the following table.\n",
    "\n",
    "| q_i | q_j | g_NAND(q_i q_j) |\n",
    "|:-----:|:-----:|:-----------:|\n",
    "|   0   |   0   |     0       |\n",
    "|   0   |   1   |     0       |\n",
    "|   1   |   0   |     0       |\n",
    "|   1   |   1   |     1       |\n",
    "\n",
    "If we set $g_{\\rm NAND}(q_i, q_j) = q_i q_j$, we get a function that satisfies the above table.\n",
    "\n",
    "If $(q_i, q_j)$ satisfies the constraint, then $g_{\\rm NAND}(0, 0) = g_{\\rm NAND}(0, 1) = g_{\\rm NAND}(1, 0) = 0$, which is the minimum value, but if the constraint is not satisfied, then $g_{\rm NAND}(1, 1) = 1$. However, if the constraint is not satisfied, $g_{\\rm NAND}(1, 1) = 1$ and a penalty is imposed.\n",
    "\n",
    "Amplify allows you to do the following:"
   ]
  },
  {
   "cell_type": "code",
   "execution_count": null,
   "metadata": {},
   "outputs": [],
   "source": [
    "# Importing constraint related\n",
    "from amplify.constraint import clamp, equal_to, greater_equal, less_equal, penalty\n",
    "from amplify import (\n",
    "    gen_symbols,\n",
    "    BinaryPoly,\n",
    "    sum_poly,\n",
    "    Solver,\n",
    "    decode_solution,\n",
    ")\n",
    "from amplify.client import FixstarsClient\n",
    "\n",
    "# Set up the client\n",
    "client = FixstarsClient()  # Fistars Optigan\n",
    "client.url = \"http://optigan.fixstars.com\"\n",
    "client.parameters.timeout = 1000  # Timeout is 1 second\n",
    "# client.token = \"xxxxxxxxxxxxxxxxxxxxxxxxxxxxxxxx\"  # If you are using it in a local environment, please enter the access token for Amplify AE\n",
    "client.parameters.outputs.duplicate = (\n",
    "    True  # Output solutions with identical energy values\n",
    ")\n",
    "client.parameters.outputs.num_outputs = 0  # 0: Output all solutions found\n",
    "\n",
    "solver = Solver(client)  # Set up a solver"
   ]
  },
  {
   "cell_type": "code",
   "execution_count": null,
   "metadata": {},
   "outputs": [],
   "source": [
    "# Binary variable\n",
    "q = gen_symbols(BinaryPoly, 2)\n",
    "\n",
    "# Polynomials giving NAND constraints\n",
    "g_NAND = q[0] * q[1]\n",
    "\n",
    "# Convert polynomials to penalty constraints\n",
    "p_NAND = penalty(g_NAND)\n",
    "\n",
    "print(f\"p_NAND = {p_NAND}\")"
   ]
  },
  {
   "source": [
    "Let's try to find a solution that satisfies the NAND constraint."
   ],
   "cell_type": "markdown",
   "metadata": {}
  },
  {
   "cell_type": "code",
   "execution_count": null,
   "metadata": {},
   "outputs": [],
   "source": [
    "# Find a solution that satisfies the NAND constraint\n",
    "result = solver.solve(p_NAND)\n",
    "for sol in result:\n",
    "    energy = sol.energy\n",
    "    values = sol.values\n",
    "\n",
    "    print(f\"energy = {energy}, {q} = {decode_solution(q, values)}\")"
   ]
  },
  {
   "cell_type": "markdown",
   "metadata": {},
   "source": [
    "### OR Constraints\n",
    "\n",
    "Given two binary variables $q_i, q_j \\in \\{0, 1\\}$, the condition that [one of $q_i, q_j$ is 1] is called an OR constraint.\n",
    "The penalty function $g_{\\mathrm{OR}}$ expressing the OR constraint satisfies the following conditions:\n",
    "\n",
    "1. If the condition is satisfied, that is $(q_i, q_j)\\in\\{(1,1),(0,1),(1,0)\\}$, $g_{\\mathrm{OR}}(q_i, q_j)$ takes the minimum value\n",
    "2. If the condition is not satisfied, that is $(q_i,q_j)\\in\\{(0,0)\\}$, $g_{\\mathrm{OR}}(q_i, q_j)$ is greater than the minimum value\n",
    "\n",
    "Let's say that the value of $g_{\\mathrm{OR}}$ when the condition is satisfied is 0, and the value when the condition is not satisfied is 1. Then, the value of $g_{\\mathrm{OR}}$ will be as shown in the table below.\n",
    "\n",
    "| q_i | q_j | OR (q_i, q_j) |\n",
    "|:-----:|:-----:|:-------------------:|\n",
    "|   0   |   0   |          1          |\n",
    "|   0   |   1   |          0          |\n",
    "|   1   |   0   |          0          |\n",
    "|   1   |   1   |          0          |\n",
    "\n",
    "If we define $g_{\\rm OR}(q_i,q_j) = q_i q_j − q_i − q_j + 1$, we can get a function that satisfies the above table.\n",
    "\n",
    "If $(q_i, q_j)$ satisfies the constraint, then $g_{\\rm OR}(1, 1) = g_{\\rm OR}(0, 1) = g_{\\rm OR}(1, 0) = 0$, which is the minimum value, but if it does not, then $g_{\\rm OR} (0,0) = 1$, which imposes a penalty.\n",
    "\n",
    "Amplify allows you to do the following:"
   ]
  },
  {
   "cell_type": "code",
   "execution_count": null,
   "metadata": {},
   "outputs": [],
   "source": [
    "# Binary variable\n",
    "q = gen_symbols(BinaryPoly, 2)\n",
    "\n",
    "# Polynomial that gives OR constraint\n",
    "g_OR = q[0] * q[1] - q[0] - q[1] + 1\n",
    "p_OR = penalty(g_OR)\n",
    "\n",
    "print(f\"p_OR = {p_OR}\")"
   ]
  },
  {
   "source": [
    "Let's actually try to find a solution that satisfies the OR constraint."
   ],
   "cell_type": "markdown",
   "metadata": {}
  },
  {
   "cell_type": "code",
   "execution_count": null,
   "metadata": {},
   "outputs": [],
   "source": [
    "# Find a solution that satisfies the OR constraint\n",
    "result = solver.solve(p_OR)\n",
    "for sol in result:\n",
    "    energy = sol.energy\n",
    "    values = sol.values\n",
    "\n",
    "    print(f\"energy = {energy}, {q} = {decode_solution(q, values)}\")"
   ]
  },
  {
   "source": [
    "## Equality Constraint\n",
    "\n",
    "### Representing Equality Constraints with Penalty Functions \n",
    "\n",
    "In this section, we explain equality constraints.\n",
    "\n",
    "Given a function $k(\\mathbf{x})$ with variables $\\mathbf{x}=x_0, x_1,\\cdots$, it may be necessary to constrain the value of this function to a constant value $c$, as in $k(\\mathbf{x}) = c$.\n",
    "\n",
    "Such an equality constraint can be expressed by a penalty function $g$ as follows:\n",
    "\n",
    "$$\n",
    "g(\\mathbf{x}) = \\left(k(\\mathbf{x}) - c\\right)^2\n",
    "$$\n",
    "\n",
    "If $\\mathbf{x}$ satisfies the constraint, the penalty function is $g(\\mathbf{x})=0$ and takes the minimum value. If $\\mathbf{x}$ does not satisfy the constraint condition, the penalty function will be greater than $0$ and a penalty will be imposed. Therefore, if the penalty function has a minimum value of $0$, the equality constraint is satisfied, and if it takes other values, the constraint is not satisfied. \n",
    "\n",
    "\n",
    "### One-hot Constraints\n",
    "\n",
    "As an example of equality constraints, we introduce the one-hot constraint.\n",
    "\n",
    "Given $N$ binary variables $q_0, q_1, \\cdots, q_{N-1}$, we may want to impose a constraint such that only one of these variables will be $1$ and all others will be $0$.\n",
    "Such a constraint is called a one-hot constraint and can be expressed as the following equation:\n",
    "\n",
    "$$\n",
    "\\sum_{i=0}^{N-1}q_i = q_0 + q_1 + \\cdots + q_{N-1} = 1\n",
    "$$\n",
    "\n",
    "The penalty function for this constraint is the following, which takes a minimum value of $0$ if the constraint condition is satisfied, and a positive value otherwise.\n",
    "\n",
    "$$\n",
    "g(\\mathbf{q}) = \\left(\\sum_{i=0}^{N-1}q_i - 1\\right)^2\n",
    "$$\n",
    "\n",
    "In the following, we will show how to implement and check the penalty function for the one-hot constraint when there are three binary variables.\n",
    "\n",
    "By running a program that imposes the constraint $q_0 + q_1 + q_2 = 1$ on the three binary variables $q_0, q_1, q_2$, we can confirm the following:\n",
    "\n",
    "$$\n",
    "(q_0, q_1, q_2) = (0, 0, 1),\\, (0, 1, 0),\\, (1, 0, 0)\n",
    "$$\n",
    "\n"
   ],
   "cell_type": "markdown",
   "metadata": {}
  },
  {
   "cell_type": "code",
   "execution_count": null,
   "metadata": {},
   "outputs": [],
   "source": [
    "from amplify import (\n",
    "    gen_symbols,\n",
    "    BinaryPoly,\n",
    "    sum_poly,\n",
    "    Solver,\n",
    "    decode_solution,\n",
    ")\n",
    "from amplify.client import FixstarsClient\n",
    "\n",
    "q = gen_symbols(BinaryPoly, 3)  # Generate 4 binary variables\n",
    "g = (sum_poly(q) - 1) ** 2  # Penalty function for one-hot constraints\n",
    "\n",
    "solver = Solver(client)  # Set up a solver\n",
    "\n",
    "# Solve a problem and view the results\n",
    "result = solver.solve(g)\n",
    "for sol in result:\n",
    "    energy = sol.energy\n",
    "    values = sol.values\n",
    "\n",
    "    print(f\"energy = {energy}, {q} = {decode_solution(q, values)}\")"
   ]
  },
  {
   "source": [
    "### Handling Equality Constraints in Amplify\n",
    "\n",
    "Consider creating three binary variables $\\mathbf{q} = (q_0, q_1, q_2)$ and imposing the following equality constraint between these variables: \n",
    "\n",
    "$$\n",
    "q_0  q_1 + q_2 = 1\n",
    "$$\n",
    "\n",
    "Amplify can create objects for equality constraints using the `equal_to` function. Unlike `penalty`, the `equal_to` function has no restrictions on the range or minimum value of the function in question (we recommend using the `penalty` function when available, due to the complexity of the formulation).\n",
    "\n",
    "With this constraint, we can confirm that we get the following four solutions by running the following source code: \n",
    "\n",
    "$$\n",
    "(q_0, q_1, q_2) = (1, 1, 0),\\, (1, 0, 1),\\, (0, 0, 1),\\, (0, 1, 1)\n",
    "$$\n",
    "\n",
    "Here, it is useful to use the `sum_poly` function provided by Amplify to sum the variables."
   ],
   "cell_type": "markdown",
   "metadata": {}
  },
  {
   "cell_type": "code",
   "execution_count": null,
   "metadata": {},
   "outputs": [],
   "source": [
    "from amplify import (\n",
    "    gen_symbols,\n",
    "    BinaryPoly,\n",
    "    sum_poly,\n",
    "    Solver,\n",
    "    decode_solution,\n",
    ")\n",
    "from amplify.client import FixstarsClient\n",
    "from amplify.constraint import equal_to\n",
    "\n",
    "q = gen_symbols(BinaryPoly, 3)  # Generate three binary variables\n",
    "\n",
    "g = equal_to(q[0] * q[1] + q[2], 1)  # Equality constraint\n",
    "\n",
    "print(f\"g: {g}\")  # Show constraints\n",
    "\n",
    "# Set up the client\n",
    "client = FixstarsClient()  # Fistars Optigan\n",
    "client.url = \"http://optigan.fixstars.com\"\n",
    "client.parameters.timeout = 1000  # Timeout is 1 second\n",
    "# client.token = \"xxxxxxxxxxxxxxxxxxxxxxxxxxxxxxxx\"  # If you are using it in a local environment, please enter the access token for Amplify AE\n",
    "client.parameters.outputs.duplicate = (\n",
    "    True  # Output solutions with identical energy values\n",
    ")\n",
    "client.parameters.outputs.num_outputs = 0  # 0: Output all solutions found\n",
    "\n",
    "solver = Solver(client)  # Define a solver from a pre-configured client\n",
    "result = solver.solve(g)  # Solve for the given constraints\n",
    "\n",
    "# Show the results\n",
    "for sol in result:\n",
    "    print(f\"energy = {sol.energy}, {q} = {decode_solution(q, sol.values)}\")"
   ]
  },
  {
   "source": [
    "## Inequality Constraints\n",
    "\n",
    "With Amplify, you can set constraints on the size of integer-valued polynomials and integer constants.\n",
    "\n",
    "For integer-valued polynomials $f$ and integer constants $c$,$c_1$,$c_2$, the table below shows the inequality constraints that can be used with Amplify and the functions that generate the corresponding constraint objects.\n",
    "\n",
    "| Constraint | Function |\n",
    "| -------- | ------- |\n",
    "| f(q) ≦ c | `less_equal(f,c)` |\n",
    "| f(q) ≧ c | `greater_equal(f,c)` |\n",
    "| c_1 ≦ f(q) ≦ c_2 | `clamp(f, c_1, c_2)` |\n",
    "\n",
    "### Example of `less_equal`\n",
    "\n",
    "Consider generating three QUBO variables $\\mathbf{q} = (q_0, q_1, q_2)$ and imposing the following inequality constraints between these variables:\n",
    "\n",
    "$\n",
    "q_0 + q_1 + q_2 \\leq 1\n",
    "$\n",
    "\n",
    "The `less_equal` function can be used to create objects for inequality constraints.\n",
    "\n"
   ],
   "cell_type": "markdown",
   "metadata": {}
  },
  {
   "cell_type": "code",
   "execution_count": null,
   "metadata": {},
   "outputs": [],
   "source": [
    "from amplify import sum_poly, gen_symbols, BinaryPoly, decode_solution\n",
    "from amplify.constraint import less_equal\n",
    "\n",
    "q = gen_symbols(BinaryPoly, 3)  # Generate three QUBO variables\n",
    "\n",
    "g2 = less_equal(sum_poly(q), 1)  # Inequality constraints\n",
    "\n",
    "print(f\"g2: {g2}\")  # Show constraints\n",
    "\n",
    "solver = Solver(client)  # Define a solver from a pre-configured client\n",
    "result = solver.solve(g2)  # Solve for the given constraints\n",
    "\n",
    "for sol in result:\n",
    "    print(f\"energy = {sol.energy}, {q} = {decode_solution(q, sol.values)}\")"
   ]
  },
  {
   "source": [
    "\n",
    "With this constraint, we can confirm that we get the following four solutions by executing the above source code:\n",
    "\n",
    "$\n",
    "(q_0, q_1, q_2) = (0, 0, 0),\\,(0, 0, 1),\\, (0, 1, 0),\\, (1, 0, 0)\n",
    "$\n",
    "\n"
   ],
   "cell_type": "markdown",
   "metadata": {}
  },
  {
   "source": [
    "### Example of `greater_equal`\n",
    "\n",
    "Consider generating three QUBO variables $\\mathbf{q} = (q_0, q_1, q_2)$ and imposing the following inequality constraints between these variables. \n",
    "\n",
    "$\n",
    "q_0 + q_1 + q_2 \\ge 2\n",
    "$\n",
    "\n",
    "We can use the `greater_equal` function to generate objects for the inequality constraints."
   ],
   "cell_type": "markdown",
   "metadata": {}
  },
  {
   "cell_type": "code",
   "execution_count": null,
   "metadata": {},
   "outputs": [],
   "source": [
    "from amplify import sum_poly, gen_symbols, BinaryPoly, decode_solution\n",
    "from amplify.constraint import greater_equal\n",
    "\n",
    "q = gen_symbols(BinaryPoly, 3)  # Generate three QUBO variables\n",
    "\n",
    "g2 = greater_equal(sum_poly(q), 2)  # Inequality constraints\n",
    "\n",
    "print(f\"g2: {g2}\")  # Show constraints\n",
    "\n",
    "solver = Solver(client)  # Define a solver from a pre-configured client\n",
    "result = solver.solve(g2)  # Solve for the given constraints\n",
    "\n",
    "for sol in result:\n",
    "    print(f\"energy = {sol.energy}, {q} = {decode_solution(q, sol.values)}\")"
   ]
  },
  {
   "source": [
    "\n",
    "With this constraint, we can confirm that we get the following four solutions by executing the above source code:\n",
    "\n",
    "$\n",
    "(q_0, q_1, q_2) = (1, 1, 1),\\,(0, 1, 1),\\, (1, 1, 0),\\, (1, 0, 1)\n",
    "$\n",
    "\n"
   ],
   "cell_type": "markdown",
   "metadata": {}
  },
  {
   "source": [
    "### Example of `clamp`\n",
    "\n",
    "Consider generating three QUBO variables $\\mathbf{q} = (q_0, q_1, q_2)$ and imposing the following inequality constraints between these variables: \n",
    "\n",
    "$\n",
    "1 \\le q_0 + q_1 + q_2 \\le 2\n",
    "$\n",
    "\n",
    "The `clamp` function can be used to generate objects for the inequality constraints."
   ],
   "cell_type": "markdown",
   "metadata": {}
  },
  {
   "cell_type": "code",
   "execution_count": null,
   "metadata": {},
   "outputs": [],
   "source": [
    "from amplify import sum_poly, gen_symbols, BinaryPoly, decode_solution\n",
    "from amplify.constraint import clamp\n",
    "\n",
    "q = gen_symbols(BinaryPoly, 3)  # Generate three QUBO variables\n",
    "\n",
    "g2 = clamp(sum_poly(q), 1, 2)  # Inequality constraints\n",
    "\n",
    "print(f\"g2: {g2}\")  # Show constraints\n",
    "\n",
    "solver = Solver(client)  # Define a solver from a pre-configured client\n",
    "result = solver.solve(g2)  # Solve for the given constraints\n",
    "\n",
    "for sol in result:\n",
    "    print(f\"energy = {sol.energy}, {q} = {decode_solution(q, sol.values)}\")"
   ]
  },
  {
   "source": [
    "\n",
    "With this constraint, we can confirm that we get the following six solutions by executing the above source code:\n",
    "\n",
    "$\n",
    "(q_0, q_1, q_2) = (0, 0, 1),\\, (0, 1, 0),\\, (1, 0, 0),\\,(0, 1, 1),\\, (1, 1, 0),\\, (1, 0, 1)\n",
    "$\n",
    "\n"
   ],
   "cell_type": "markdown",
   "metadata": {}
  },
  {
   "source": [
    "## How to Use Constraint Objects\n",
    "### How to Give Multiple Constraints\n",
    "\n",
    "Multiple constraints can be imposed by adding constraints to each other. For example, given a constraint object `g1` and a constraint object `g2`, the constraint [g1 and g2] is obtained by `g1 + g2`."
   ],
   "cell_type": "markdown",
   "metadata": {}
  },
  {
   "cell_type": "code",
   "execution_count": null,
   "metadata": {},
   "outputs": [],
   "source": [
    "q = gen_symbols(BinaryPoly, 2)\n",
    "\n",
    "g1 = penalty(q[0])\n",
    "g2 = penalty(q[1])\n",
    "\n",
    "print(f\"g1 + g2 : {g1 + g2}\")"
   ]
  },
  {
   "source": [
    "### Setting Constraint Weights\n",
    "The size of the penalty value that a constraint object brings can be adjusted by multiplying it by a scalar."
   ],
   "cell_type": "markdown",
   "metadata": {}
  },
  {
   "cell_type": "code",
   "execution_count": null,
   "metadata": {},
   "outputs": [],
   "source": [
    "q = gen_symbols(BinaryPoly, 1)\n",
    "\n",
    "g = penalty(q[0])\n",
    "\n",
    "print(f\"g : {g}\")\n",
    "\n",
    "# Doubling the weight of constraints\n",
    "g_2 = 2 * g\n",
    "print(f\"g_2 : {g_2}\")"
   ]
  },
  {
   "source": [
    "In the above example, $g(q) = 1$ when $q_0 = 1$, and $g(q) = 0$ when $q_0 = 0$.\n",
    "\n",
    "By setting `g_2 = 2 * g`, we get $g_2(q) = 2$ when $q_0 = 1$ and $g_2(q) = 0$ when $q_0 = 0$."
   ],
   "cell_type": "markdown",
   "metadata": {}
  },
  {
   "source": [
    "### Combining Objective Functions and Constraints\n",
    "By adding constraints to the objective function, we can generate a model that represents a constrained optimization problem.\n",
    "\n",
    "As an example, let's consider the following constrained optimization problem.\n",
    "* Objective function : $2 q_0 + q_1$\n",
    "* Constraint : OR constraint on $q_0 and q_1$\n",
    "\n",
    "Without the constraint condition, $(q_0,q_1) = (0,0)$ is the optimal solution, but by adding the constraint condition, the solution changes to $(q_0,q_1) = (0,1)$."
   ],
   "cell_type": "markdown",
   "metadata": {}
  },
  {
   "cell_type": "code",
   "execution_count": null,
   "metadata": {},
   "outputs": [],
   "source": [
    "q = gen_symbols(\"Binary\", 2)\n",
    "\n",
    "# Objective function\n",
    "g = 2 * q[0] + q[1]\n",
    "\n",
    "# Constraint\n",
    "p = penalty(q[0] * q[1] - q[0] - q[1] + 1)\n",
    "\n",
    "# Constrained optimization problem\n",
    "model = g + p\n",
    "\n",
    "solver = Solver(client)  # Define a solver from a pre-configured client\n",
    "result_cost_only = solver.solve(g)  # Solve an unconstrained optimization problem\n",
    "\n",
    "print(\"Solution of an unconstrained optimization problem\")\n",
    "for sol in result_cost_only:\n",
    "    print(f\"energy = {sol.energy}, {q} = {decode_solution(q, sol.values)}\")\n",
    "\n",
    "result = solver.solve(model)  # Solve a constrained optimization problem\n",
    "print(\"Solution of a constrained optimization problem\")\n",
    "for sol in result:\n",
    "    print(f\"energy = {sol.energy}, {q} = {decode_solution(q, sol.values)}\")"
   ]
  }
 ],
 "metadata": {
  "language_info": {
   "name": "python",
   "pygments_lexer": "ipython3"
  }
 },
 "nbformat": 4,
 "nbformat_minor": 4
}
