{
 "cells": [
  {
   "cell_type": "markdown",
   "metadata": {},
   "source": [
    "# Amplify Features (Polynomial Generation)\n",
    "\n",
    "In this section, we introduce Amplify's features by programming an Ising machine using Amplify.\n",
    "For more information, see the [official documentation](https://amplify.fixstars.com/docs/polynomial.html).\n",
    "\n"
   ]
  },
  {
   "source": [
    "## Construction of Polynomials of Binary Variables\n",
    "\n",
    "A polynomial of $n$ number of binary variables, $f_n$, is expressed as follows:\n",
    "\n",
    "$\\displaystyle f_n(x_1, x_2, \\cdots, x_n) = \\sum_{\\{k_1,k_2, \\cdots, k_n\\}}a_{k_1k_2\\cdots k_n}x_1^{k_i}x_2^{k_2}\\cdots x_n^{k_n}\\,\\quad k_i\\in\\{0, 1\\}$\n",
    "\n",
    "The $x_i$ is a binary variable, either a binary variable $q_i\\in\\{0,1\\in\\}$ or an Ising variable $s_i\\in\\{-1, +1\\in\\}$. Also, $a_{k_1k_2\\cdots k_n}$ are the coefficients of the polynomial.\n",
    "\n",
    "Amplify provides the following polynomial classes to represent binary multivariate polynomials.\n",
    "\n",
    "* `BinaryPoly` (Polynomials with binary variables)\n",
    "* `IsingPoly` (Polynomials with Ising variables)\n",
    "\n",
    "Amplify can generate binary variables in the form of multi-dimensional arrays using `gen_symbols`. You can also generate polynomials by using operations of product `*` and sum `+` on the generated binary variables."
   ],
   "cell_type": "markdown",
   "metadata": {}
  },
  {
   "cell_type": "code",
   "execution_count": null,
   "metadata": {},
   "outputs": [],
   "source": [
    "from amplify import (\n",
    "    gen_symbols,\n",
    "    BinaryPoly,\n",
    ")\n",
    "\n",
    "# A one-dimensional array of four binary variables\n",
    "q_1d = gen_symbols(BinaryPoly, 4)\n",
    "\n",
    "# A 3x2 two-dimensional array of binary variables\n",
    "q_2d = gen_symbols(BinaryPoly, 3, 2)\n",
    "\n",
    "# A 3x2 two-dimensional array of binary variables with variable indices starting from 10\n",
    "q_2d_2 = gen_symbols(BinaryPoly, 10, (3, 2))\n",
    "\n",
    "\n",
    "print(f\"q_1d = {q_1d}\")\n",
    "print(f\"q_2d = {q_2d}\")\n",
    "print(f\"q_2d_2 = {q_2d_2}\")"
   ]
  },
  {
   "source": [
    "It is also possible to generate polynomials using the variables you have defined, and to perform operations using the polynomials.\n"
   ],
   "cell_type": "markdown",
   "metadata": {}
  },
  {
   "cell_type": "code",
   "execution_count": null,
   "metadata": {},
   "outputs": [],
   "source": [
    "q = gen_symbols(BinaryPoly, 4)\n",
    "\n",
    "# q_0 * q_1 + q_2\n",
    "f0 = q[0] * q[1] + q[2]\n",
    "\n",
    "# q_1 + q_3 + 1\n",
    "f1 = q[1] + q[3] + 1\n",
    "\n",
    "# (q_0 * q_1 + q_2) + (q_1 + q_3 + 1)\n",
    "f2 = f0 + f1\n",
    "\n",
    "# (q_1 + q_3 + 1) * (q_1 + q_3 + 1)\n",
    "f3 = f1 ** 2\n",
    "\n",
    "print(f\"f0 = {f0}\")\n",
    "print(f\"f1 = {f1}\")\n",
    "print(f\"f2 = {f2}\")\n",
    "print(f\"f3 = {f3}\")"
   ]
  },
  {
   "cell_type": "markdown",
   "metadata": {},
   "source": [
    "The `gen_symbols` function generates binary variables whose variable index starts at $0$ by default. You can change the leading variable index by giving an offset as the second argument."
   ]
  },
  {
   "cell_type": "code",
   "execution_count": null,
   "metadata": {},
   "outputs": [],
   "source": [
    "from amplify import (\n",
    "    gen_symbols,\n",
    "    BinaryPoly,\n",
    ")\n",
    "\n",
    "s1 = gen_symbols(BinaryPoly, 4)\n",
    "s2 = gen_symbols(BinaryPoly, 4)\n",
    "\n",
    "# If you don't shift the index, the same variables will be defined\n",
    "print(s1, s2)\n",
    "\n",
    "# Create variables by shifting the index by the length of s1\n",
    "s3 = gen_symbols(BinaryPoly, len(s1), (4,))\n",
    "\n",
    "# Different variables can be defined\n",
    "print(s1, s3)"
   ]
  },
  {
   "cell_type": "markdown",
   "metadata": {},
   "source": [
    "## Mathematical Function\n",
    "\n",
    "Amplify implements the following three functions as formulation aids for polynomial classes:\n",
    "\n",
    "* `sum_poly()` : Equivalent to all sums $\\sum_i$ \n",
    "* `pair_sum()` : Equivalent to the sum of all combinations of functions $\\sum_{i\\neq j}$ \n",
    "* `product()` : Equivalent to all products $\\prod_i$ \n",
    "\n",
    "We show a few examples of how to use these formulation aids.\n",
    "\n",
    "#### Example 1: Formulate $\\displaystyle f_0 = \\sum_{i = 0}^{n-1}q_i$ "
   ]
  },
  {
   "cell_type": "code",
   "execution_count": null,
   "metadata": {},
   "outputs": [],
   "source": [
    "from amplify import sum_poly\n",
    "\n",
    "# Generate 8 binary variables in 1D array format\n",
    "q = gen_symbols(BinaryPoly, 8)\n",
    "\n",
    "# Given a list of binary variables or polynomials, the sum of them can be calculated\n",
    "f0 = sum_poly(q)\n",
    "\n",
    "print(f\"f0 = {f0}\")"
   ]
  },
  {
   "cell_type": "markdown",
   "metadata": {},
   "source": [
    "#### Example 2: Formulate $\\displaystyle f_1 = \\sum_{i = 0}^{n-1}\\sum_{j = 0}^{n-1}q_iq_j$ "
   ]
  },
  {
   "cell_type": "code",
   "execution_count": null,
   "metadata": {},
   "outputs": [],
   "source": [
    "# Generate three binary variables\n",
    "q = gen_symbols(BinaryPoly, 3)\n",
    "\n",
    "# It is also possible to specify a function that takes an index and an upper limit for the index, and take the sum\n",
    "f1 = sum_poly(3, lambda i: sum_poly(3, lambda j: q[i] * q[j]))\n",
    "\n",
    "print(f\"f1 = {f1}\")"
   ]
  },
  {
   "cell_type": "markdown",
   "metadata": {},
   "source": [
    "#### Example 3: Formulate $\\displaystyle f_2 = \\sum_{i=0}^{n-1}\\left(\\sum_{j=0}^{n-1}q_{ij} - 1\\right)^2$ "
   ]
  },
  {
   "cell_type": "code",
   "execution_count": null,
   "metadata": {},
   "outputs": [],
   "source": [
    "# Generate a 2x2 binary variable array\n",
    "q = gen_symbols(BinaryPoly, 2, 2)\n",
    "\n",
    "# Double sum of formulas involving squaring and quadrature\n",
    "f2 = sum_poly(2, lambda i: (sum_poly(2, lambda j: q[i][j]) - 1) ** 2)\n",
    "\n",
    "print(f\"f2 = {f2}\")"
   ]
  },
  {
   "cell_type": "markdown",
   "metadata": {},
   "source": [
    "#### Example 4: Formulate $\\displaystyle f_3 = \\sum_{i \\neq j} q_iq_j$ "
   ]
  },
  {
   "cell_type": "code",
   "execution_count": null,
   "metadata": {},
   "outputs": [],
   "source": [
    "from amplify import pair_sum\n",
    "\n",
    "# Generate three binary variables\n",
    "q = gen_symbols(BinaryPoly, 3)\n",
    "\n",
    "f3 = pair_sum(q)\n",
    "\n",
    "print(f\"f3 = {f3}\")"
   ]
  },
  {
   "cell_type": "markdown",
   "metadata": {},
   "source": [
    "#### Example 5: Formulate $\\displaystyle f_4 = \\prod_{i = 0}^{n-1} q_i$ "
   ]
  },
  {
   "cell_type": "code",
   "execution_count": null,
   "metadata": {},
   "outputs": [],
   "source": [
    "from amplify import product\n",
    "\n",
    "# Generate three binary variables\n",
    "q = gen_symbols(BinaryPoly, 3)\n",
    "\n",
    "f4 = product(q)\n",
    "\n",
    "print(f\"f4 = {f4}\")"
   ]
  },
  {
   "source": [
    "## Constructing Binary Variable Polynomials Using Constructors\n",
    "\n",
    "It is also possible to construct polynomials directly from the `BinaryPoly` and `IsingPoly` polynomial constructors.\n",
    "\n",
    "To create any term of a binary multivariate polynomial, a dictionary of the following form is put into the argument of the constructor of the above class.\n",
    "\n",
    "$kx_{i}x_{j}\\cdots x_{m} \\rightarrow $ `{(i, j, ..., m): k}`\n",
    "\n",
    "Multiple terms can also be combined into a dictionary form.\n",
    "\n",
    "$k_2 x_ix_j + k_1 x_l + c \\rightarrow $ `{(i, j): k2, (l): k1, (): c)}`\n",
    "\n",
    "The following is a basic example:"
   ],
   "cell_type": "markdown",
   "metadata": {}
  },
  {
   "cell_type": "code",
   "execution_count": null,
   "metadata": {},
   "outputs": [],
   "source": [
    "from amplify import BinaryPoly\n",
    "\n",
    "# q_0\n",
    "f0 = BinaryPoly({(0): 1})\n",
    "\n",
    "# 2 * q_0 * q_1 + 1\n",
    "f1 = BinaryPoly({(0, 1): 2, (): 1})\n",
    "\n",
    "\n",
    "print(f\"f0 = {f0}\")\n",
    "print(f\"f1 = {f1}\")"
   ]
  },
  {
   "source": [
    "When dealing with Ising polynomials, `IsingPoly`."
   ],
   "cell_type": "markdown",
   "metadata": {}
  },
  {
   "cell_type": "code",
   "execution_count": null,
   "metadata": {},
   "outputs": [],
   "source": [
    "from amplify import IsingPoly\n",
    "\n",
    "# s_0\n",
    "f0 = IsingPoly({(0): 1})\n",
    "\n",
    "# 2 * s_0 * s_1 + 1\n",
    "f1 = IsingPoly({(0, 1): 2, (): 1})\n",
    "\n",
    "\n",
    "print(f\"f0 = {f0}\")\n",
    "print(f\"f1 = {f1}\")"
   ]
  }
 ],
 "metadata": {
  "language_info": {
   "name": "python",
   "pygments_lexer": "ipython3"
  }
 },
 "nbformat": 4,
 "nbformat_minor": 4
}
