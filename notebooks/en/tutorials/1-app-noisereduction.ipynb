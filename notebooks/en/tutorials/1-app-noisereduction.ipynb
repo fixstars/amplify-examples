{
 "cells": [
  {
   "cell_type": "markdown",
   "metadata": {},
   "source": [
    "# Image noise reduction"
   ]
  },
  {
   "cell_type": "markdown",
   "metadata": {},
   "source": [
    "## Problem Overview\n",
    "\n",
    "We use an annealing machine to restore the original image from an image with added noise.\n",
    "\n",
    "We attempt to reduce noise based on the following assumptions:\n",
    "\n",
    "*   The original image and the image with noise have relatively large overlaps.\n",
    "*   In the original image, neighboring pixels often have the same color.\n",
    "\n",
    "We use black and white images here as a simple example. \n",
    "Since the data of a pixel can be represented by a binary value of black and white, the value of each pixel can be expressed a binary variable.\n",
    "By formulating an objective function which represents the interaction between pixels expressing the above assumptions, the original image can be estimated by finding the optimal value of this function.\n",
    "\n",
    "## Constructing the Objective Function\n",
    "\n",
    "We let $V$ be the set of pixels, and let $i\\in V$ be the index representing each pixel.\n",
    "We then let the binary valued data representing the input pixels with noise be $y$, where the value of each pixel is expressed as follows:\n",
    "\n",
    "$$\n",
    "y_{i} = \\left\\{\n",
    "\\begin{align}\n",
    "&+1 \\quad\\text{(white)}\\\\\n",
    "&-1 \\quad \\text{(black)}\n",
    "\\end{align}\n",
    "\\right. \\quad\n",
    "i\\in V\\\\\n",
    "$$\n",
    "\n",
    "Also, the binary Ising variables corresponding to the output pixels are represented as follows:\n",
    "\n",
    "$$\n",
    "s_{i} = \\left\\{\n",
    "\\begin{align}\n",
    "&+1 \\quad\\text{(White)}\\\\\n",
    "&-1 \\quad \\text{(Black)}\n",
    "\\end{align}\n",
    "\\right. \\quad\n",
    "i\\in V\\\\\n",
    "$$\n",
    "\n",
    "Based on the assumption that the input and output images are are relatively close (i.e., there is not much noise), we need the effect that the input and output pixels have the same values. In other words, we introduce an objective function such that $s_i$ and $y_i$ become smaller when they have the same value. For example, it is given as follows:\n",
    "\n",
    "$$\n",
    "f_1 = - \\sum_{i\\in V} y_{i} s_{i}\n",
    "$$\n",
    "\n",
    "Since the value of the above objective function decreases when $y_{i}$ and $s_{i}$ have the same value and increases when they have different values, $f_1$ takes the minimum value when $y_{i} = s_{i}$ for all $i\\in V$. However, since the input image has noise on it, the noise cannot be reduced if the output image is the same as the input image.\n",
    "\n",
    "We thus consider the assumption that neighboring pixels tend to be the same color.\n",
    "In other words, we introduce an objective function that reduces the value when neighboring output pixels have the same value. For example, it is given as follows:\n",
    " \n",
    "$$\n",
    "f_2 = -\\sum_{(i,j)\\in E} s_i s_j\n",
    "$$\n",
    "\n",
    "Here, the set of adjacent pixel pairs is defined as $E$. If all the output pixels have the same value, $f_2$ takes the smallest value. However, if all pixels have the same value, every pixel will turn out to be white or black, and the information in the original image will be lost.\n",
    "\n",
    "Therefore, by appropriately adding $f_1$ and $f_2$ together, we try to remove the pixels that are considered to be noise while making the output image close to the input image.\n",
    "\n",
    "$$\n",
    "\\begin{align}\n",
    "f & = f_1 + \\eta f_2\\\\\n",
    "&=- \\sum_{i\\in V}y_is_i - \\eta \\sum_{(i,j)\\in E}s_i s_j\n",
    "\\end{align}\n",
    "$$\n",
    "\n",
    "Here, we have introduced the parameter $\\eta>0$. This allows us to adjust the relative strength of $f_1$ and $f_2$. The larger the value of $\\eta$ is, the stronger the effect of the noise reduction term is.\n",
    "\n",
    "By minimizing this objective function and interpreting the values of the Ising variables $s$ as the values of the pixels, we can obtain an image with reduced noise.\n",
    "\n",
    "\n",
    "## Reference\n",
    "* [Annealing Cloud Web: Demo App](https://annealing-cloud.com/ja/play/demoapp/noise.html)\n",
    "* [Annealing Cloud Web: Explanation of Image Noise Reduction](https://annealing-cloud.com/ja/tutorial/2.html)"
   ]
  },
  {
   "cell_type": "markdown",
   "metadata": {},
   "source": [
    "## Loading an Image\n",
    "\n",
    "First, we define a function to download an image data and a function to convert the downloaded image to an array of Ising variables."
   ]
  },
  {
   "cell_type": "code",
   "execution_count": null,
   "metadata": {},
   "outputs": [],
   "source": [
    "from PIL import Image\n",
    "import numpy as np\n",
    "\n",
    "%matplotlib inline\n",
    "import matplotlib.pyplot as plt\n",
    "\n",
    "# Create an Ising array of the original image\n",
    "img = Image.open(\"sample.png\")\n",
    "x = np.where(np.array(img) >= 128, 1, -1)\n",
    "plt.imshow(x, cmap=\"gray\")\n",
    "plt.show()\n",
    "print(x.shape)\n",
    "print(x)"
   ]
  },
  {
   "cell_type": "markdown",
   "metadata": {},
   "source": [
    "## Creating an Image with Noise\n",
    "\n",
    "Next, we define a function that represents noise by randomly selecting pixels and inverting their values."
   ]
  },
  {
   "cell_type": "code",
   "execution_count": null,
   "metadata": {},
   "outputs": [],
   "source": [
    "# Function to add noise to an image\n",
    "def get_noisy_img_array(img_array: np.ndarray, noise_ratio: float = 0.02) -> np.ndarray:\n",
    "    rng = np.random.default_rng()\n",
    "    # Select a pixel to add noise\n",
    "    invert_pixels = rng.choice(\n",
    "        [1, -1], size=img_array.shape, p=[1 - noise_ratio, noise_ratio]\n",
    "    )\n",
    "\n",
    "    return img_array * invert_pixels"
   ]
  },
  {
   "cell_type": "code",
   "execution_count": null,
   "metadata": {},
   "outputs": [],
   "source": [
    "# Create an Ising array of image with noise\n",
    "y = get_noisy_img_array(x)\n",
    "plt.imshow(y, cmap=\"gray\")\n",
    "plt.show()"
   ]
  },
  {
   "cell_type": "markdown",
   "metadata": {},
   "source": [
    "## Creating the Ising Variable Array\n",
    "\n",
    "Next, we create an array `s` of Ising variables. If the input image data `y` is a $h\\times w$ two-dimensional array, the Ising variable `s` corresponding to the output image is also a $h\\times w$ two-dimensional array.\n",
    "\n",
    "We use `gen_symbols` to generate the variables. We specify the type of the variable as `IsingPoly` here because the polynomial of the Ising variables will be the objective function in the end. Since `gen_symbols` can create an array of variables in the same form as the array of the input image data `y`, we use this feature as follows."
   ]
  },
  {
   "cell_type": "code",
   "execution_count": null,
   "metadata": {},
   "outputs": [],
   "source": [
    "from amplify import VariableGenerator\n",
    "\n",
    "gen = VariableGenerator()\n",
    "# Create an Ising variable in the shape of original image\n",
    "s = gen.array(\"Ising\", shape=y.shape)"
   ]
  },
  {
   "cell_type": "markdown",
   "metadata": {},
   "source": [
    "## Objective Function\n",
    "\n",
    "We construct the objective function using the array of the input image data $y$ and the Ising variable array $s$ corresponding to the output image.\n"
   ]
  },
  {
   "cell_type": "code",
   "execution_count": null,
   "metadata": {},
   "outputs": [],
   "source": [
    "# Strength parameter\n",
    "eta = 0.333\n",
    "\n",
    "# Calculate the objective function f\n",
    "\n",
    "# Image after noise removal often matches image before removal\n",
    "# -> - we want to reduce [\\sum_{i\\in V} y_{i} s_{i}]\n",
    "f1 = -(s * y).sum()\n",
    "\n",
    "# Neighboring pixels are often the same color in the image after noise removal\n",
    "# -> - we want to make [\\sum_{(i,j)\\in E} s_i s_j] smaller\n",
    "f2 = -((s[:, :-1] * s[:, 1:]).sum() + (s[:-1, :] * s[1:, :]).sum())\n",
    "\n",
    "# Set the objective function so that the values of the above two functions become small at the same time\n",
    "f = f1 + eta * f2"
   ]
  },
  {
   "cell_type": "markdown",
   "metadata": {},
   "source": [
    "## Setting Up the Client and Running the Machine\n",
    "\n",
    "Next, we set up the client and search for the solution corresponding to the minimum value of the objective function, by an Ising machine."
   ]
  },
  {
   "cell_type": "code",
   "execution_count": null,
   "metadata": {},
   "outputs": [],
   "source": [
    "from amplify import FixstarsClient, solve\n",
    "from datetime import timedelta\n",
    "\n",
    "# Setting Fixstars Amplify AE as a client\n",
    "client = FixstarsClient()\n",
    "client.parameters.timeout = timedelta(milliseconds=2000)  # Timeout is 2 second\n",
    "# client.token = \"xxxxxxxxxxxxxxxxxxxxxxxxxxxxxxxx\"  # If you use it in a local environment, please enter the access token for Amplify AE\n",
    "\n",
    "# Solve the problem\n",
    "result = solve(f, client)"
   ]
  },
  {
   "cell_type": "markdown",
   "metadata": {},
   "source": [
    "## Obtaining the Solutions and Displaying the Results\n",
    "\n",
    "Finally, we substitute the found solution to the Ising variable $s$ to obtain the data of the output image.\n",
    "\n",
    "Comparing with the input image, we can see that the noise has been reduced."
   ]
  },
  {
   "cell_type": "code",
   "execution_count": null,
   "metadata": {},
   "outputs": [],
   "source": [
    "# Assign the solution to the Ising variable array\n",
    "output = s.evaluate(result.best.values)\n",
    "\n",
    "plt.imshow(output, cmap=\"gray\")  # Restored image\n",
    "plt.show()\n",
    "\n",
    "plt.imshow(x, cmap=\"gray\")  # Original image\n",
    "plt.show()\n",
    "\n",
    "plt.imshow(y, cmap=\"gray\")  # Image with noise\n",
    "plt.show()"
   ]
  }
 ],
 "metadata": {
  "language_info": {
   "name": "python",
   "pygments_lexer": "ipython3"
  }
 },
 "nbformat": 4,
 "nbformat_minor": 4
}
