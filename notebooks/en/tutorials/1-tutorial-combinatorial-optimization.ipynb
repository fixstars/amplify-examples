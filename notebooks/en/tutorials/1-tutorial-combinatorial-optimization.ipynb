{
 "cells": [
  {
   "cell_type": "markdown",
   "metadata": {},
   "source": [
    "## Combinatorial Optimization Problem\n",
    "\n",
    "### About Combinatorial Optimization Problem\n",
    "\n",
    "An optimization problem refers to a problem that \"determines the optimal choice from among a number of alternatives under various constraints\". Some examples of optimization problems are as follows:\n",
    "* Higher product performance, more efficient manufacturing process, cost reduction, yield improvement\n",
    "* Planning of product orders, efficient distribution routes, management of financial assets\n",
    "* Disaster recovery schedule, layout of public facilities, energy supply and demand balance\n",
    "\n",
    "Describing such problems with mathematical formulas (mathematical models) and using mathematical calculation methods to find the best solution is called \"mathematical optimization\".\n",
    "\n",
    "### Components of a Mathematical Model\n",
    "\n",
    "* Objective function: A mathematical expression that expresses the degree to which an objective is achieved (minimized or maximized)\n",
    "* Decision variables: Variables that can represent choices\n",
    "* Constraint: Possible conditional expressions between decision variables (constraint functions)\n"
   ]
  },
  {
   "cell_type": "markdown",
   "metadata": {},
   "source": [
    "## Number Division Problem\n",
    "\n",
    "As a concrete example of a combinatorial optimization problem, let's consider the number partitioning problem.\n",
    "\n",
    "Suppose that the set of $n$ integers $A$ is given as follows.\n",
    "\n",
    "$$\n",
    "A = \\{a_0, a_1, \\cdots, a_{n-1} \\}\n",
    "$$\n",
    "\n",
    "Consider the division of $A$ into two sets $A_0$ and $A_1$. The following problems are considered to be the number division problem:\n",
    "\n",
    "* Decision problem: Determine if there exists a partition of a set such that the sum of the elements of $A_0$ is equal to the sum of the elements of $A_1$.\n",
    "* Optimization problem: Find the partition of the set that minimizes the difference between the sum of the elements of $A_0$ and the sum of the elements of $A_1$.\n",
    "\n",
    "### Example\n",
    "\n",
    "Consider the partition of the set of 10 integers $A=\\{2,10,3,8,5,7,9,5,3,2\\}$.\n",
    "\n",
    "For example, if we divide the set as $A_0=\\{2,3,5,7,10\\}, A_1=\\{2,3,5,8,9\\}$, we can check that the sum of the elements of each set is equal.\n",
    "Therefore, the answer is \"exists\" for a decision problem, and the above $A_0, A_1$ is the answer for an optimization problem.\n",
    "\n",
    "### Formulation by QUBO Model and Ising Model\n",
    "\n",
    "In this section, we solve an optimization problem on the number partitioning problem.\n",
    "#### Definition of the Decision Variable\n",
    "\n",
    "Let $n$ binary variables and Ising variables corresponding to each of the $n$ elements belonging to the set $A$ be the following\n",
    "$$\n",
    "\\begin{align}\n",
    "q_i &\\in\\{0, 1\\}\\quad (i=0, 1, \\cdots, n-1) \\quad \\text{(Binary)}\\\\\n",
    "s_i &\\in\\{-1, 1\\}\\quad (i=0, 1, \\cdots, n-1) \\quad \\text{(Ising)}\n",
    "\\end{align}\n",
    "$$\n",
    "These variables mean that if $q_i=0$ ($s_i=-1$), $a_i$ belongs to $A_0$, and if $q_i=1$ ($s_i=1$), $a_i$ belongs to $A_1$.\n",
    "Let the union of the elements of the set $A_0$ be $S_0$ and the union of the elements of the set $A_1$ be $S_1$.\n",
    "$$\n",
    "\\begin{align}\n",
    "S_0 &= \\sum_{a_i\\in A_0}a_i\\\\\n",
    "S_1 &= \\sum_{a_i\\in A_1}a_i\n",
    "\\end{align}\n",
    "$$\n",
    "\n",
    "#### Objective Function\n",
    "Next, we consider creating an objective function.\n",
    "The objective function is a function of the above binary or Ising variables, such that it takes the minimum value if the conditions to be sought are satisfied.\n",
    "Here, in order to find a partition that satisfies the condition $S_0 = S_1$, we set the objective function as $(S_1 - S_0)^2$. When this condition is satisfied, the objective function becomes $0$ and takes the minimum value.\n",
    "Thus, using binary or Ising variables, the objective function $f$ can be expressed as follows:\n",
    "\n",
    "$$\n",
    "\\begin{align}\n",
    "f &= \\left(S_1 - S_0\\right)^2\n",
    "= \\left(\\sum_{a_i\\in A_1}a_i - \\sum_{a_i\\in A_0}a_i\\right)^2\\\\\n",
    "&= \\left(\\sum_{i=0}^{n-1}(2q_i -1)a_i\\right)^2 \\quad \\text{(Binary)}\\\\\n",
    "&= \\left(\\sum_{i=0}^{n-1} a_i s_i \\right)^2\\quad \\text{(Ising)}\n",
    "\\end{align}\n",
    "$$\n",
    "\n",
    "The conversion from line 1 to line 2 (line 3) used the fact that $a_i$ is assigned to $A_0$ or $A_1$ when $q_i=1$ ($s_i=1$) or $q_i=0$ ($s_i=-1$), respectively.\n",
    "By checking whether the value of $f$ is $0$ or not, we can check whether the resulting partition satisfies the condition or not.\n"
   ]
  },
  {
   "cell_type": "markdown",
   "metadata": {},
   "source": [
    "## Implementation with Amplify\n",
    "\n",
    "### Implementation with Ising Variables\n",
    "\n",
    "Ising variables are binary variables in $s_i\\in\\{1, -1\\in\\}$. You can generate an array of Ising variables by giving `IsingPoly` as an argument to `gen_symbols`.\n",
    "\n",
    "The objective function using the Ising variable is given by:\n",
    "\n",
    "$$\n",
    "f = \\left(\\sum_{i=0}^{N-1}s_ia_i\\right)^2\n",
    "$$\n",
    "\n",
    "Let's implement this in Amplify.\n"
   ]
  },
  {
   "cell_type": "code",
   "execution_count": null,
   "metadata": {},
   "outputs": [],
   "source": [
    "from amplify import (\n",
    "    gen_symbols,\n",
    "    IsingPoly,\n",
    ")\n",
    "\n",
    "# List of numbers corresponding to a set of numbers A\n",
    "A = [2, 10, 3, 8, 5, 7, 9, 5, 3, 2]\n",
    "\n",
    "# len(A): Number of variables\n",
    "n = len(A)\n",
    "\n",
    "# Generate Ising variables\n",
    "s = gen_symbols(IsingPoly, n)\n",
    "\n",
    "# Check the variables\n",
    "print(s)"
   ]
  },
  {
   "cell_type": "markdown",
   "metadata": {},
   "source": [
    "#### Constructing the Objective Function\n",
    "\n",
    "We construct the objective function using the list of numbers $A$ and the Ising variables generated earlier."
   ]
  },
  {
   "cell_type": "code",
   "execution_count": null,
   "metadata": {},
   "outputs": [],
   "source": [
    "# Constructing the objective function: Ising\n",
    "f = IsingPoly()\n",
    "\n",
    "for i in range(n):\n",
    "    f += s[i] * A[i]\n",
    "\n",
    "f = f**2"
   ]
  },
  {
   "cell_type": "markdown",
   "metadata": {},
   "source": [
    "We run the problem on the Ising machine."
   ]
  },
  {
   "cell_type": "code",
   "execution_count": null,
   "metadata": {},
   "outputs": [],
   "source": [
    "from amplify.client import FixstarsClient\n",
    "from amplify import Solver\n",
    "from amplify import decode_solution\n",
    "\n",
    "# Set up the client\n",
    "client = FixstarsClient()\n",
    "client.parameters.timeout = 1000  # Timeout is 1 second\n",
    "# client.token = \"xxxxxxxxxxxxxxxxxxxxxxxxxxxxxxxx\"  # If you are using it in a local environment, please enter the access token for Amplify AE\n",
    "client.parameters.outputs.duplicate = (\n",
    "    True  # Enumerate solutions with the same energy value\n",
    ")\n",
    "\n",
    "solver = Solver(client)\n",
    "result = solver.solve(f)"
   ]
  },
  {
   "cell_type": "code",
   "execution_count": null,
   "metadata": {},
   "outputs": [],
   "source": [
    "# If no solution is found, len(result) == 0\n",
    "if len(result) == 0:\n",
    "    raise RuntimeError(\"No solution was found\")\n",
    "\n",
    "energy = result[0].energy\n",
    "values = result[0].values\n",
    "\n",
    "# Check the energy value (minimum value of f)\n",
    "print(f\"f = {energy}\")\n",
    "\n",
    "# Check the values\n",
    "# Variable s_i's i=0, 1, ..., N-1 , a dictionary containing the values of N-1\n",
    "print(f\"values = {values}\")"
   ]
  },
  {
   "cell_type": "markdown",
   "metadata": {},
   "source": [
    "Since the value of $f$ is $0$, we know that we have found a solution that satisfies the condition.\n",
    "\n",
    "You can use `decode_solution` to assign the found solution to the original variables in `s`."
   ]
  },
  {
   "cell_type": "code",
   "execution_count": null,
   "metadata": {},
   "outputs": [],
   "source": [
    "from amplify import decode_solution\n",
    "\n",
    "solution = decode_solution(s, values)\n",
    "\n",
    "print(solution)"
   ]
  },
  {
   "cell_type": "markdown",
   "metadata": {},
   "source": [
    "Finally, based on the obtained solution, the numbers in the set $A$ are divided into two groups.\n",
    "\n",
    "Prepare two lists $A_0$ and $A_1$, and assign the numbers whose solutions correspond to $0$ to $A_0$ and otherwise to $A_1$."
   ]
  },
  {
   "cell_type": "code",
   "execution_count": null,
   "metadata": {},
   "outputs": [],
   "source": [
    "A0 = sorted([A[idx] for idx, val in enumerate(solution) if val != 1])\n",
    "A1 = sorted([A[idx] for idx, val in enumerate(solution) if val == 1])\n",
    "\n",
    "print(f\"A0 = {A0}\")\n",
    "print(f\"A1 = {A1}\")"
   ]
  },
  {
   "cell_type": "markdown",
   "metadata": {},
   "source": [
    "Verify that the sums of the numbers in $A_0$ and $A_1$ are equal. We can confirm that the sum is 27."
   ]
  },
  {
   "cell_type": "code",
   "execution_count": null,
   "metadata": {},
   "outputs": [],
   "source": [
    "print(f\"{sum(A0) == sum(A1)}, {sum(A0)}\")"
   ]
  },
  {
   "cell_type": "markdown",
   "metadata": {},
   "source": [
    "### How to Obtain Multiple Solutions\n",
    "\n",
    "In the previous problem, we showed how to get only one solution. However, in this problem, we can find multiple solutions that satisfy the condition. In the setting of this partitioning problem, the condition is equivalent to the objective function being $0$. If there are multiple solutions that satisfy the condition, it means that there are multiple solutions with an energy value of $0.0$. Some machines can get more than one solutions with the same energy; in the case of Fixstars Optigan, you can set the parameter `client.parameters.outputs.duplicate` to `True` to get multiple solutions."
   ]
  },
  {
   "cell_type": "code",
   "execution_count": null,
   "metadata": {},
   "outputs": [],
   "source": [
    "from amplify.client import FixstarsClient\n",
    "from amplify import Solver\n",
    "\n",
    "client = FixstarsClient()\n",
    "client.parameters.timeout = 1000  # Timeout is 1 second\n",
    "# client.token = \"xxxxxxxxxxxxxxxxxxxxxxxxxxxxxxxx\"  # If you are using it in a local environment, please enter the access token for Amplify AE\n",
    "client.parameters.outputs.duplicate = True  # Option to list solutions with the same energy value (because there are multiple solutions)\n",
    "\n",
    "solver = Solver(client)\n",
    "result = solver.solve(f)"
   ]
  },
  {
   "cell_type": "markdown",
   "metadata": {},
   "source": [
    "The fact that there are multiple solutions can be verified as follows. 46 solutions should be found."
   ]
  },
  {
   "cell_type": "code",
   "execution_count": null,
   "metadata": {},
   "outputs": [],
   "source": [
    "len(result)"
   ]
  },
  {
   "cell_type": "markdown",
   "metadata": {},
   "source": [
    "Next, we substitute the multiple solutions we have found into the original variables to find all the partitions. Please note that we need to equate the combination of $(A_1, A_0)$ and $(A_0, A_1)$."
   ]
  },
  {
   "cell_type": "code",
   "execution_count": null,
   "metadata": {},
   "outputs": [],
   "source": [
    "from amplify import decode_solution\n",
    "\n",
    "partitions = set()\n",
    "\n",
    "for sol in result:\n",
    "    solution = decode_solution(s, sol.values)\n",
    "\n",
    "    A0 = tuple(sorted([A[idx] for idx, val in enumerate(solution) if val != 1]))\n",
    "    A1 = tuple(sorted([A[idx] for idx, val in enumerate(solution) if val == 1]))\n",
    "\n",
    "    # If the same division is not already included in the list\n",
    "    if (A1, A0) not in partitions:\n",
    "        partitions.add((A0, A1))\n",
    "\n",
    "for p in partitions:\n",
    "    print(f\"sum = {sum(p[0])}, {sum(p[1])}, partition: {p}\")"
   ]
  },
  {
   "cell_type": "markdown",
   "metadata": {},
   "source": [
    "### Implementation with Binary Variables\n",
    "\n",
    "Binary variables are binary variables of $q_i\\in\\{1, 0\\}$. You can generate an array of binary variables by giving `BinaryPoly` as an argument to `gen_symbols`.\n",
    "\n",
    "The objective function with binary variables is given as follows:\n",
    "\n",
    "$$\n",
    "f = \\left(\\sum_{i=0}^{N-1}(2q_i -1)a_i\\right)^2\n",
    "$$\n",
    "\n",
    "Let's implement this in Amplify."
   ]
  },
  {
   "cell_type": "code",
   "execution_count": null,
   "metadata": {},
   "outputs": [],
   "source": [
    "from amplify import (\n",
    "    gen_symbols,\n",
    "    BinaryPoly,\n",
    ")\n",
    "\n",
    "# List of numbers corresponding to a set of numbers A\n",
    "A = [2, 10, 3, 8, 5, 7, 9, 5, 3, 2]\n",
    "\n",
    "# Number of variables\n",
    "n = len(A)\n",
    "\n",
    "# Generate binary variables\n",
    "q = gen_symbols(BinaryPoly, n)\n",
    "\n",
    "# Objective function construction: binary\n",
    "f = BinaryPoly()\n",
    "\n",
    "for i in range(n):\n",
    "    f += (2 * q[i] - 1) * A[i]\n",
    "\n",
    "f = f**2"
   ]
  },
  {
   "cell_type": "markdown",
   "metadata": {},
   "source": [
    "Let's run it as we did for the Ising variable."
   ]
  },
  {
   "cell_type": "code",
   "execution_count": null,
   "metadata": {},
   "outputs": [],
   "source": [
    "from amplify.client import FixstarsClient\n",
    "from amplify import Solver\n",
    "\n",
    "client = FixstarsClient()\n",
    "client.parameters.timeout = 1000  # Timeout is 1 second\n",
    "# client.token = \"xxxxxxxxxxxxxxxxxxxxxxxxxxxxxxxx\"  # If you are using it in a local environment, please enter the access token for Amplify AE\n",
    "client.parameters.outputs.duplicate = True  # Option to list solutions with the same energy value (because there are multiple solutions)\n",
    "\n",
    "solver = Solver(client)\n",
    "result = solver.solve(f)\n",
    "\n",
    "from amplify import decode_solution\n",
    "\n",
    "partitions = set()\n",
    "\n",
    "for sol in result:\n",
    "    solution = decode_solution(q, sol.values)\n",
    "\n",
    "    A0 = tuple(sorted([A[idx] for idx, val in enumerate(solution) if val != 1]))\n",
    "    A1 = tuple(sorted([A[idx] for idx, val in enumerate(solution) if val == 1]))\n",
    "\n",
    "    # If the same division is not already included in the list\n",
    "    if (A1, A0) not in partitions:\n",
    "        partitions.add((A0, A1))\n",
    "\n",
    "for p in partitions:\n",
    "    print(f\"sum = {sum(p[0])}, {sum(p[1])}, partition: {p}\")"
   ]
  },
  {
   "cell_type": "markdown",
   "metadata": {},
   "source": [
    "We obtained the same solution as when we solved with the Ising variables."
   ]
  }
 ],
 "metadata": {
  "language_info": {
   "name": "python",
   "pygments_lexer": "ipython3"
  }
 },
 "nbformat": 4,
 "nbformat_minor": 4
}
