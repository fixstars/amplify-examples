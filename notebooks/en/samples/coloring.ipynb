{
 "cells": [
  {
   "attachments": {
    "200px-Petersen_graph_3-coloring.svg.png": {
     "image/png": "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"
    }
   },
   "cell_type": "markdown",
   "metadata": {},
   "source": [
    "# Graph Coloring\n",
    "\n",
    "This page explains how to solve the graph coloring problem using Amplify\n",
    "\n",
    "\n",
    "## Formulation of graph coloring problem\n",
    "\n",
    "\n",
    "The graph coloring problem is a problem of assigning colors to the vertices of a certain graph under given constraints. The most typical problem is to color a graph so that the adjacent vertices have different colors.\n",
    "\n",
    "![200px-Petersen_graph_3-coloring.svg.png](attachment:200px-Petersen_graph_3-coloring.svg.png)\n",
    "\n",
    "In a plane graph (map), the `four color theorem <https://en.wikipedia.org/wiki/Four_color_theorem>`_ states that four colors are enough to color any map so that all adjacent regions in the map have distinct colors. However, it is not obvious how to implement such coloring.\n",
    "\n",
    "Several application examples are known for the graph coloring problem, such as scheduling problems related to allocation of conference rooms, machines, tasks, etc., register allocation by a compiler, frequency allocation in a mobile phone network. Here, we demonstrate a way to solve a graph coloring problem using an Ising machine by coloring the prefectures in Japan.\n",
    "\n",
    "In order to use Ising machines, we consider how to express the states of the coloring of the graph in terms of binary variables. It can be expressed by assigning $0$ or $1$ to each region using four variables as follows:\n",
    "\n",
    "| Region | Red | Green | Blue | Yellow |\n",
    "|--------|-----|-------|------|--------|\n",
    "| 1      | 0   | 0     | 1    | 0      |\n",
    "| 2      | 0   | 1     | 0    | 0      |\n",
    "| 3      | 0   | 0     | 1    | 0      |\n",
    "| 4      | 1   | 0     | 0    | 0      |\n",
    "\n",
    "    \n",
    "This example means assigning blue to region $1$, green to region $2$, blue to region $3$, and red to region $4$. We will represent each variable in the above table as $q_{i,c}$ using the region index $i$ and the color index $c$. Therefore, the number of variables required is $NC$ for the number of regions $N$ and the number of colors $C$.\n",
    "\n",
    "The following constraints are imposed on the variables accordingly to the definition of the coloring problem.\n",
    "\n",
    "* Paint one region with one color\n",
    "* Adjacent regions must have distinct colors\n",
    "\n",
    "When these are formulated, they are expressed as follows:\n",
    "\n",
    "**Constraints**\n",
    "\n",
    "$$\n",
    "    \\sum_{c = 0}^{C-1}{ q_{i,c} } = 1 \\quad i \\in \\left\\{0, 1, \\cdots, N - 1 \\right\\} \\\\\n",
    "    \\sum_{\\left(i, j \\right) \\in E}{ q_{i,c} q_{j,c} } = 0\n",
    "$$\n",
    "\n",
    "Here, $E$ represents a set of pairs of adjacent regions on the graph. Please note that the variable index starts at $0$ for the convenience of later program coding.\n"
   ]
  },
  {
   "cell_type": "markdown",
   "metadata": {},
   "source": [
    "## Creating a Problem\n",
    "\n",
    "We use Python's [japanmap](https://pypi.org/project/japanmap/) module to work with maps of Japan. You can get the prefecture name, adjacency information, etc. using the prefecture code ($1$-$47$).\n",
    "\n",
    "First, we define the colors and prepare the variable table."
   ]
  },
  {
   "cell_type": "code",
   "execution_count": null,
   "metadata": {},
   "outputs": [],
   "source": [
    "from amplify import BinaryPoly, gen_symbols\n",
    "import japanmap as jm\n",
    "\n",
    "colors = [\"red\", \"green\", \"blue\", \"yellow\"]\n",
    "num_colors = len(colors)\n",
    "num_region = len(jm.pref_names) - 1  # Obtain the number of prefectures\n",
    "\n",
    "q = gen_symbols(BinaryPoly, num_region, num_colors)"
   ]
  },
  {
   "cell_type": "code",
   "execution_count": null,
   "metadata": {},
   "outputs": [],
   "source": [
    "q"
   ]
  },
  {
   "cell_type": "markdown",
   "metadata": {},
   "source": [
    "### Note\n",
    "\n",
    "Since all the coefficients appearing in the constraint polynomial are integers, it is possible to use `amplify.BinaryIntPoly` instead of `amplify.BinaryPoly`\n"
   ]
  },
  {
   "cell_type": "markdown",
   "metadata": {},
   "source": [
    "Next, we create constraint conditions. One-hot constraints can be written using the `amplify.constraint.equal_to` function, and constraints with a minimum value of 0 can be written using the `amplify.constraint.penalty` function as follows.\n"
   ]
  },
  {
   "cell_type": "code",
   "execution_count": null,
   "metadata": {},
   "outputs": [],
   "source": [
    "from amplify import sum_poly\n",
    "from amplify.constraint import equal_to, penalty\n",
    "\n",
    "# Constraints on each region\n",
    "reg_constraints = [\n",
    "    equal_to(sum_poly([q[i][c] for c in range(num_colors)]), 1)\n",
    "    for i in range(num_region)\n",
    "]\n",
    "\n",
    "# Constraints between adjacent regions\n",
    "adj_constraints = [\n",
    "    # Note that the prefecture code and the array index are off by one\n",
    "    penalty(q[i][c] * q[j - 1][c])\n",
    "    for i in range(num_region)\n",
    "    for j in jm.adjacent(i + 1)  # j: Adjacent prefecture code\n",
    "    if i + 1 < j\n",
    "    for c in range(num_colors)\n",
    "]\n",
    "\n",
    "constraints = sum(reg_constraints) + sum(adj_constraints)"
   ]
  },
  {
   "cell_type": "markdown",
   "metadata": {},
   "source": [
    "Adjacent information can be obtained by entering the state code in the `japanmap.adjacent` function. Note that the index for `q` and the state code differ by $1$.\n"
   ]
  },
  {
   "cell_type": "markdown",
   "metadata": {},
   "source": [
    "### Note\n",
    "\n",
    "For the constraints that take the minimum value $0$, it is equivalent to first summing all the conditions and then creating a single constraint object. You can also write the constraints between adjacent regions as follows:\n",
    "\n",
    "```python\n",
    "# Constraints between adjacent regions\n",
    "adj_constraints = [\n",
    "    # Note that the prefecture code and the array index are off by one\n",
    "    penalty(sum_poly(q[i][c] * q[j - 1][c]) for c in range(num_colors))\n",
    "    for i in range(num_region)\n",
    "    for j in jm.adjacent(i + 1)  # j: Adjacent prefecture code\n",
    "    if i + 1 < j\n",
    "]\n",
    "```\n",
    "\n",
    "Now we completed the preparation for the formulation."
   ]
  },
  {
   "cell_type": "markdown",
   "metadata": {},
   "source": [
    "## Ising machine execution\n",
    "\n",
    "We create a client for the Ising machine and set the parameters. We then create a solver by setting the configured client."
   ]
  },
  {
   "cell_type": "code",
   "execution_count": null,
   "metadata": {},
   "outputs": [],
   "source": [
    "from amplify import Solver\n",
    "from amplify.client import FixstarsClient\n",
    "\n",
    "client = FixstarsClient()\n",
    "client.parameters.timeout = 5000  # Timeout is 5 seconds\n",
    "\n",
    "solver = Solver(client)"
   ]
  },
  {
   "cell_type": "markdown",
   "metadata": {},
   "source": [
    "We create a logical model from the constraints, execute the Ising machine as follows, and obtain the result."
   ]
  },
  {
   "cell_type": "code",
   "execution_count": null,
   "metadata": {},
   "outputs": [],
   "source": [
    "from amplify import BinaryQuadraticModel\n",
    "\n",
    "model = BinaryQuadraticModel(constraints)\n",
    "result = solver.solve(model)\n",
    "if len(result) == 0:\n",
    "    raise RuntimeError(\"Any one of constraints is not satisfied.\")\n",
    "\n",
    "values = result[0].values"
   ]
  },
  {
   "cell_type": "markdown",
   "metadata": {},
   "source": [
    "### Note\n",
    "\n",
    "If the length of the ``result`` object is empty, it means that no solution that satisfies the constraint condition was obtained. In this case, it is necessary to change the parameters of the Ising machine."
   ]
  },
  {
   "cell_type": "markdown",
   "metadata": {},
   "source": [
    "## Analysis of results\n",
    "\n",
    "`values` is a dictionary that represents the mapping between input variables and solution values. Since it is difficult to handle it as it is, we decode it into the same format as the variable table `q` as follows."
   ]
  },
  {
   "cell_type": "code",
   "execution_count": null,
   "metadata": {},
   "outputs": [],
   "source": [
    "from amplify import decode_solution\n",
    "\n",
    "q_values = decode_solution(q, values, 1)"
   ]
  },
  {
   "cell_type": "markdown",
   "metadata": {},
   "source": [
    "We convert the result to a dictionary with ``{prefecture name: color}`` format. First, we obtain the index with the value of 1 in each row of ``q_values``, by using a numpy function as shown below. After that, `japanmap.pref_names` is used to convert the row indices to prefecture names, and we create the dictionary by pairing them with the corresponding colors."
   ]
  },
  {
   "cell_type": "code",
   "execution_count": null,
   "metadata": {},
   "outputs": [],
   "source": [
    "import numpy as np\n",
    "\n",
    "color_indices = np.where(np.array(q_values) == 1)[1]\n",
    "color_map = {\n",
    "    jm.pref_names[i + 1]: colors[color_indices[i]] for i in range(len(color_indices))\n",
    "}"
   ]
  },
  {
   "cell_type": "code",
   "execution_count": null,
   "metadata": {},
   "outputs": [],
   "source": [
    "color_map"
   ]
  },
  {
   "cell_type": "markdown",
   "metadata": {},
   "source": [
    "Lastly we display the colored map. It is plotted as follows:"
   ]
  },
  {
   "cell_type": "code",
   "execution_count": null,
   "metadata": {},
   "outputs": [],
   "source": [
    "%matplotlib inline\n",
    "import matplotlib.pyplot as plt\n",
    "\n",
    "plt.rcParams[\"figure.figsize\"] = 6, 6\n",
    "plt.imshow(jm.picture(color_map))\n",
    "plt.show()"
   ]
  }
 ],
 "metadata": {
  "language_info": {
   "name": "python",
   "pygments_lexer": "ipython3"
  }
 }
}
