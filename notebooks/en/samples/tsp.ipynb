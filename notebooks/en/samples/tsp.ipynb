{
 "metadata": {
  "language_info": {
   "name": "python",
   "pygments_lexer": "ipython3"
  }
 },
 "nbformat": 4,
 "nbformat_minor": 2,
 "cells": [
  {
   "source": [
    "# Travelling Salesman Problem\n",
    "\n",
    "This section describes how to solve the traveling salesman problem using Amplify.\n",
    "\n",
    "## Formulation of the Traveling Salesman Problem\n",
    "\n",
    "[The Traveling Salesman Problem](https://en.wikipedia.org/wiki/Travelling_salesman_problem) is a combinatorial optimization problem to find the shortest route that visits all cities exactly once, given a set of cities and the distances between each pair of cities.\n",
    "\n",
    "![240px-GLPK_solution_of_a_travelling_salesman_problem.svg.png](attachment:3d4196f6-b79c-4fc1-b924-1668e1f7f543.png)\n",
    "\n",
    "In order to use the Ising machine, the combinations of paths need to be represented by polynomials with respect to binary or Ising variables.\n",
    "Every combination of paths can be represented by a table of variables that shows which city is visited in which order.\n",
    "For example, the following table for four cities will represent the route $A \\rightarrow C \\rightarrow B \\rightarrow D$.\n",
    "\n",
    "| turn| A | B | C | D |\n",
    "|-----|---|---|---|---|\n",
    "| 1st | 1 | 0 | 0 | 0 |\n",
    "| 2nd | 0 | 0 | 1 | 0 |\n",
    "| 3rd | 0 | 1 | 0 | 0 |\n",
    "| 4th | 0 | 0 | 0 | 1 |\n",
    "\n",
    "We assign binary variables $\\left\\{0, 1\\right\\}$ to each element of the table.\n",
    "We interpret a path by following the cities where $1$ is assigned in the right order from 1st to 4th.\n",
    "That is, for a traveling salesman problem in $N$ cities, it suffices to have $N^2$ variables.\n",
    "\n",
    "We denote each variable in the above table as $q_{n,i}$ using the route order $n$ and the city index $i$. Then all the distances of the travel routes are represented as follows:\n",
    "\n",
    "$$\n",
    " \\sum_{n=0}^{N-1}{\\sum_{i=0}^{N-1}{\\sum_{j=0}^{N-1}{ d_{ij} q_{n, i} q_{n+1, j} }}}\n",
    "$$\n",
    "\n",
    "$d_{ij}$ is the distance traveled between cities labeled by $i$ and $j$. Since $d_{ij} q_{n, i} q_{n+1, j}$ adds $d_{ij}$ when both variables equal $1$, the problem is to minimize the total distance traveled. Note that the indices start at $0$ for convenience in later programmatic coding. Also, the end of $n+1$ ( $N$ ) returns to the starting point, so we will take the remainder in $N$.\n",
    "\n",
    "However, this is not a sufficient formulation. This is because the above variable table does not take into account the constraints of \"visiting all cities\" and \"visiting only one city at a time\". As an extreme example, the combination of not moving from the first city is allowed. We thus need to impose the following constraints on all the rows and columns of the variables table.\n",
    "\n",
    "$$\n",
    "    \\sum_{i=0}^{N-1}{q_{n, i}} = 1 \\quad n \\in \\left\\{0, 1, \\cdots, N - 1 \\right\\}\n",
    "$$\n",
    "$$\n",
    "    \\sum_{n=0}^{N-1}{q_{n, i}} = 1 \\quad i \\in \\left\\{0, 1, \\cdots, N - 1 \\right\\}\n",
    "$$\n",
    "\n",
    "These imply the constraints that $1$ can appear only once in each row and each column of the variable table.\n",
    "\n",
    "Summarizing the above, it turns out that we need to find the minimum value of the following polynomial:\n",
    "\n",
    "- Objective function\n",
    "$$\n",
    "\\sum_{n=0}^{N-1}{\\sum_{i=0}^{N-1}{\\sum_{j=0}^{N-1}{ d_{ij} q_{n, i} q_{n+1, j} }}}\n",
    "$$\n",
    "\n",
    "- Constraints\n",
    "$$\n",
    "    \\sum_{i=0}^{N-1}{q_{n, i}} = 1 \\quad n \\in \\left\\{0, 1, \\cdots, N - 1 \\right\\}\n",
    "$$\n",
    "$$\n",
    "    \\sum_{n=0}^{N-1}{q_{n, i}} = 1 \\quad i \\in \\left\\{0, 1, \\cdots, N - 1 \\right\\}\n",
    "$$\n",
    "\n",
    "\n",
    "##Creating a problem\n",
    "\n",
    "First, we create the distances between each city, which will be the input for the Traveling Salesman Problem. Here we use `numpy` to generate the distance matrix by placing the cities at random locations on a two-dimensional plane. The following function was created to generate a random Traveling Salesman Problem by giving the number of cities."
   ],
   "cell_type": "markdown",
   "metadata": {}
  },
  {
   "cell_type": "code",
   "execution_count": null,
   "metadata": {},
   "outputs": [],
   "source": [
    "import numpy as np\n",
    "\n",
    "\n",
    "def gen_random_tsp(ncity: int):\n",
    "    # Coordinate\n",
    "    locations = np.random.uniform(size=(ncity, 2))\n",
    "\n",
    "    # Distance matrix\n",
    "    all_diffs = np.expand_dims(locations, axis=1) - np.expand_dims(locations, axis=0)\n",
    "    distances = np.sqrt(np.sum(all_diffs**2, axis=-1))\n",
    "\n",
    "    return locations, distances"
   ]
  },
  {
   "source": [
    "The second return value of the `gen_random_tsp` function, `distances`, corresponds to $\\mathbf{d}$ in the above formulation.\n",
    "\n",
    "The following will plot the coordinates of each city for $32$ cities."
   ],
   "cell_type": "markdown",
   "metadata": {}
  },
  {
   "cell_type": "code",
   "execution_count": null,
   "metadata": {},
   "outputs": [],
   "source": [
    "import matplotlib.pyplot as plt\n",
    "\n",
    "\n",
    "def show_plot(locs: np.ndarray):\n",
    "    plt.figure(figsize=(7, 7))\n",
    "    plt.xlabel(\"x\")\n",
    "    plt.ylabel(\"y\")\n",
    "    plt.scatter(*zip(*locations))\n",
    "    plt.show()\n",
    "\n",
    "\n",
    "ncity = 32\n",
    "locations, distances = gen_random_tsp(ncity)"
   ]
  },
  {
   "cell_type": "code",
   "execution_count": null,
   "metadata": {},
   "outputs": [],
   "source": [
    "show_plot(locations)"
   ]
  },
  {
   "source": [
    "## Building an input model with polynomials\n",
    "\n",
    "Next, we create a table of variables. This will represent the order of visits and destinations in the circuit.\n"
   ],
   "cell_type": "markdown",
   "metadata": {}
  },
  {
   "cell_type": "code",
   "execution_count": null,
   "metadata": {},
   "outputs": [],
   "source": [
    "from amplify import BinaryPoly, BinaryPoly\n",
    "\n",
    "q = gen_symbols(BinaryPoly, ncity, ncity)"
   ]
  },
  {
   "source": [
    "The variables table is a two-dimensional array of size $N \\times N$ with a binary variable for each element as follows:"
   ],
   "cell_type": "markdown",
   "metadata": {}
  },
  {
   "cell_type": "code",
   "execution_count": null,
   "metadata": {},
   "outputs": [],
   "source": [
    "q_4city = gen_symbols(BinaryPoly, 4, 4)\n",
    "q_4city  # Example for four cities"
   ]
  },
  {
   "source": [
    "We use this to create the objective function."
   ],
   "cell_type": "markdown",
   "metadata": {}
  },
  {
   "cell_type": "code",
   "execution_count": null,
   "metadata": {},
   "outputs": [],
   "source": [
    "from amplify import sum_poly\n",
    "\n",
    "cost = sum_poly(\n",
    "    ncity,\n",
    "    lambda n: sum_poly(\n",
    "        ncity,\n",
    "        lambda i: sum_poly(\n",
    "            ncity, lambda j: distances[i][j] * q[n][i] * q[(n + 1) % ncity][j]\n",
    "        ),\n",
    "    ),\n",
    ")"
   ]
  },
  {
   "source": [
    "The `sum_poly` function is used as an auxiliary function for the sum operation in the objective function. Since `sum_poly(ncity, f(n))` corresponds to $\\sum_{n = 0}^{N - 1}{f\\left(n \\right)}$, we use a lambda expression to nest and call the `sum_poly` function."
   ],
   "cell_type": "markdown",
   "metadata": {}
  },
  {
   "source": [
    "### Note\n",
    "\n",
    "Using the `pair_sum` function for summing pairs of combinations, it can be written as below:\n",
    "\n",
    "```python\n",
    "from amplify import sum_poly, pair_sum\n",
    "\n",
    "cost = sum_poly(\n",
    "    ncity,\n",
    "    lambda n: pair_sum(\n",
    "        ncity,\n",
    "        lambda i, j: distances[i][j] * q[n][i] * q[(n + 1) % ncity][j]\n",
    "        + distances[j][i] * q[n][j] * q[(n + 1) % ncity][i],\n",
    "    ),\n",
    ")\n",
    "```\n",
    "\n",
    "Next, we construct the constraints. One-hot constraints are created with the `constraint.equal_to` function. We add up all the constraints with the `sum` function."
   ],
   "cell_type": "markdown",
   "metadata": {}
  },
  {
   "cell_type": "code",
   "execution_count": null,
   "metadata": {},
   "outputs": [],
   "source": [
    "from amplify.constraint import equal_to\n",
    "\n",
    "# Constraints on rows\n",
    "row_constraints = [\n",
    "    equal_to(sum_poly([q[n][i] for i in range(ncity)]), 1) for n in range(ncity)\n",
    "]\n",
    "\n",
    "# Constraints on columns\n",
    "col_constraints = [\n",
    "    equal_to(sum_poly([q[n][i] for n in range(ncity)]), 1) for i in range(ncity)\n",
    "]\n",
    "\n",
    "constraints = sum(row_constraints) + sum(col_constraints)"
   ]
  },
  {
   "source": [
    "Finally, the objective function and all the constraints are added together to create a logical model object.\n",
    "Here, we need to pay attention to the strength of the constraints.\n",
    "This is because the appropriate strength of the constraints depends on the objective function and needs to be sufficiently large.\n",
    "However, making the strength of the constraints as small as possible tends to improve the results output by the Ising machine.\n",
    "\n",
    "See reference [1] for a discussion on the strength of the constraints in the traveling salesman problem. Here, we set the maximum value of the distance matrix as a large enough value. Using this value, we create a logical model object as follows:"
   ],
   "cell_type": "markdown",
   "metadata": {}
  },
  {
   "cell_type": "code",
   "execution_count": null,
   "metadata": {},
   "outputs": [],
   "source": [
    "constraints *= np.amax(distances)  # Set the strength of the constraint\n",
    "model = cost + constraints"
   ]
  },
  {
   "source": [
    "This completes the preparation for the formulation.\n",
    "\n",
    "[1]: [K. Takehara, D. Oku, Y. Matsuda, S. Tanaka and N. Togawa, \"A Multiple Coefficients Trial Method to Solve Combinatorial Optimization Problems for Simulated-annealing-based Ising Machines,\" 2019 IEEE 9th International Conference on Consumer Electronics (ICCE-Berlin), Berlin, Germany, 2019, pp. 64-69, doi: 10.1109/ICCE-Berlin47944.2019.8966167.](https://ieeexplore.ieee.org/abstract/document/8966167)\n"
   ],
   "cell_type": "markdown",
   "metadata": {}
  },
  {
   "source": [
    "## Running the Ising machine\n",
    "\n",
    "We create a client for the Ising machine and set the parameters. We then create the solver with the configured client."
   ],
   "cell_type": "markdown",
   "metadata": {}
  },
  {
   "cell_type": "code",
   "execution_count": null,
   "metadata": {},
   "outputs": [],
   "source": [
    "from amplify import Solver\n",
    "from amplify.client import FixstarsClient\n",
    "\n",
    "client = FixstarsClient()\n",
    "client.token = \"xxxxxxxxxxxxxxxxxxxxxxxxxxxxxxxx\"\n",
    "client.parameters.timeout = 5000  # Timeout is 5 seconds\n",
    "\n",
    "solver = Solver(client)"
   ]
  },
  {
   "source": [
    "Run the Ising machine and obtain the results as follows:"
   ],
   "cell_type": "markdown",
   "metadata": {}
  },
  {
   "cell_type": "code",
   "execution_count": null,
   "metadata": {},
   "outputs": [],
   "source": [
    "result = solver.solve(model)\n",
    "if len(result) == 0:\n",
    "    raise RuntimeError(\"Any one of constraints is not satisfied.\")\n",
    "\n",
    "energy, values = result[0].energy, result[0].values"
   ]
  },
  {
   "source": [
    "\n",
    "\n",
    "### Note\n",
    "\n",
    "If the length of the `result` object is `0`, it means that no solution satisfying the constraint was found. In this case, you need to change the parameters of the Ising machine or the strength of the constraints."
   ],
   "cell_type": "markdown",
   "metadata": {}
  },
  {
   "source": [
    "## Analysis of results\n",
    "\n",
    "The `energy` represents the evaluation value of the objective function. In this formulation, it corresponds to the total distance traveled."
   ],
   "cell_type": "markdown",
   "metadata": {}
  },
  {
   "cell_type": "code",
   "execution_count": null,
   "metadata": {},
   "outputs": [],
   "source": [
    "energy"
   ]
  },
  {
   "source": [
    "The `values` is a dictionary which provides the mapping between input variables and solution values. It is hard to evaluate it as it is, so we decode it into the same format as the variables table `q` as follows:"
   ],
   "cell_type": "markdown",
   "metadata": {}
  },
  {
   "cell_type": "code",
   "execution_count": null,
   "metadata": {},
   "outputs": [],
   "source": [
    "from amplify import decode_solution\n",
    "\n",
    "q_values = decode_solution(q, values, 1)"
   ]
  },
  {
   "source": [
    "```python\n",
    ">>> q_values # Example for four cities\n",
    "[[1, 0, 0, 0],\n",
    " [0, 0, 0, 1],\n",
    " [0, 0, 1, 0],\n",
    " [0, 1, 0, 0]]\n",
    "```"
   ],
   "cell_type": "markdown",
   "metadata": {}
  },
  {
   "source": [
    "This shows that the constraint is indeed satisfied, since $1$ appears only once in each row and column. We can find the path by getting the column index where the $1$ appears, so we can use the `numpy` function to check it, as follows (converted to an array `numpy.ndarray` to use the `numpy` function)."
   ],
   "cell_type": "markdown",
   "metadata": {}
  },
  {
   "cell_type": "code",
   "execution_count": null,
   "metadata": {},
   "outputs": [],
   "source": [
    "route = np.where(np.array(q_values) == 1)[1]\n",
    "print(route)"
   ]
  },
  {
   "source": [
    "Finally we display the route found above. It can be plotted with the following function:"
   ],
   "cell_type": "markdown",
   "metadata": {}
  },
  {
   "cell_type": "code",
   "execution_count": null,
   "metadata": {},
   "outputs": [],
   "source": [
    "def show_route(route: list, distances: np.ndarray, locations: np.ndarray):\n",
    "    ncity = len(route)\n",
    "    path_length = sum(\n",
    "        [distances[route[i]][route[(i + 1) % ncity]] for i in range(ncity)]\n",
    "    )\n",
    "\n",
    "    x = [i[0] for i in locations]\n",
    "    y = [i[1] for i in locations]\n",
    "    plt.figure(figsize=(7, 7))\n",
    "    plt.title(f\"path length: {path_length}\")\n",
    "    plt.xlabel(\"x\")\n",
    "    plt.ylabel(\"y\")\n",
    "\n",
    "    for i in range(ncity):\n",
    "        r = route[i]\n",
    "        n = route[(i + 1) % ncity]\n",
    "        plt.plot([x[r], x[n]], [y[r], y[n]], \"b-\")\n",
    "    plt.plot(x, y, \"ro\")\n",
    "    plt.show()\n",
    "\n",
    "    return path_length"
   ]
  },
  {
   "cell_type": "code",
   "execution_count": null,
   "metadata": {},
   "outputs": [],
   "source": [
    "show_route(route, distances, locations)"
   ]
  },
  {
   "source": [
    "## Advanced tuning\n",
    "\n",
    "We show a few techniques for solving the Traveling Salesman Problem with Ising machines.\n"
   ],
   "cell_type": "markdown",
   "metadata": {}
  },
  {
   "source": [
    "### Adjusting the strength of constraints\n",
    "\n",
    "In general, in Ising machines, the smaller the strength of the constraints, the better the solution tends to be. Qualitatively, this can be explained by the fact that the weaker the constraint term is, the more dominant the character of the cost term becomes, in the objective function to be minimized.\n",
    "\n",
    "According to reference [1], the lower bound of the strength of the constraint is the longest distance between the cities included in the optimal path, but in general this is non-trivial because the optimal solution is not known in advance. Therefore, we need to adjust the strength of the constraint.\n",
    "\n",
    "To find a better solution, it is useful to introduce the parameter $k \\left( 0 < k \\le 1 \\right)$ in the above code to find a suitable lower bound."
   ],
   "cell_type": "markdown",
   "metadata": {}
  },
  {
   "cell_type": "code",
   "execution_count": null,
   "metadata": {},
   "outputs": [],
   "source": [
    "k = 0.5\n",
    "model = cost + constraints * k * np.amax(distances)"
   ]
  },
  {
   "source": [
    "Rather than increasing the annealing execution time, etc., it may be more efficient overall to run with multiple $k$ when compared with the same solution quality [1].\n",
    "\n",
    "The following example shows how the solution looks when varying $k=0.3$ to $k = 1.0$ in $0.1$ increments. We can see that the smaller the value of $k$ is, the higher the quality of the solution."
   ],
   "cell_type": "markdown",
   "metadata": {}
  },
  {
   "cell_type": "code",
   "execution_count": null,
   "metadata": {},
   "outputs": [],
   "source": [
    "client = FixstarsClient()\n",
    "client.token = \"xxxxxxxxxxxxxxxxxxxxxxxxxxxxxxxx\"\n",
    "client.parameters.timeout = 1000  # Timeout is 1 second\n",
    "\n",
    "for i in range(10):\n",
    "    k = 0.1 * (i + 1)\n",
    "    model = cost + constraints * k * np.amax(distances)\n",
    "    result = solver.solve(model)\n",
    "    if len(result) == 0:\n",
    "        continue\n",
    "\n",
    "    energy, values = result[0].energy, result[0].values\n",
    "    q_values = decode_solution(q, values)\n",
    "    route = np.where(np.array(q_values) == 1)[1]\n",
    "    show_route(route, distances, locations)"
   ]
  },
  {
   "source": [
    "### Note\n",
    "\n",
    "Depending on the problem, good solutions may be found even with $k=1.0$."
   ],
   "cell_type": "markdown",
   "metadata": {}
  },
  {
   "source": [
    "### Reducing the objective function\n",
    "\n",
    "The lower bound on the strength of the constraint term depends on the objective function term, whose value corresponds to the longest distance between cities in the optimal solution path. This can also be interpreted that this dependency is related to the size of the coefficient $d_{ij}$ in the objective function. If we can reduce the size of $d_{ij}$, we can further reduce the strength of the constraint term relatively to the cost terms, which may lead to a higher quality solution.\n",
    "\n",
    "We thus modify the distances for city $i$ and city $j$ by\n",
    "\n",
    "$$\n",
    "d_{ij}' = d_{ij} - \\min_{j \\ne i} d_{ij}\n",
    "$$\n",
    "\n",
    "When we look at the city $i$, we shrink all the distances from the city $i$ by the distance between the city $i$ and its closest city. This allows us to reduce $d_{ij}$ in its entirety. The off-diagonal terms in the distance matrix are $d_{ij}'\\ne d_{ji}'$, making it an asymmetric Traveling Salesman Problem.\n",
    "\n",
    "Therefore, the objective function is changed as follows:\n",
    "\n",
    "$$\n",
    "\\sum_{n=0}^{N-1}{\\sum_{i=0}^{N-1}{\\sum_{j=0}^{N-1}{ d_{ij}' q_{n, i} q_{n+1, j} }}} + \\sum_{i=0}^{N-1}{\\min_{j \\ne i} d_{ij}}\n",
    "$$\n",
    "\n",
    "We add a constant term which compensates for the modified distances for each city. Since the path always goes through one city only once, this gives the same value as the original objective function.\n",
    "\n",
    "The code will be modified as follows:"
   ],
   "cell_type": "markdown",
   "metadata": {}
  },
  {
   "cell_type": "code",
   "execution_count": null,
   "metadata": {},
   "outputs": [],
   "source": [
    "# Obtain a list of minimum non-zero values for each row\n",
    "d_min = [d[np.nonzero(d)].min() for d in distances]\n",
    "\n",
    "# Modify the coefficients of the objective function and add a constant term\n",
    "cost = sum_poly(\n",
    "    ncity,\n",
    "    lambda n: sum_poly(\n",
    "        ncity,\n",
    "        lambda i: sum_poly(\n",
    "            ncity,\n",
    "            lambda j: (distances[i][j] - d_min[i] if i != j else 0)\n",
    "            * q[n][i]\n",
    "            * q[(n + 1) % ncity][j],\n",
    "        ),\n",
    "    ),\n",
    ") + sum(d_min)\n",
    "\n",
    "# Subtract the minimum value of each row and then get the maximum value of all elements\n",
    "d_max_all = max(distances.max(axis=1) - d_min)\n",
    "\n",
    "model = cost + constraints * d_max_all\n",
    "result = solver.solve(model)"
   ]
  },
  {
   "source": [
    "The following example shows a comparison of solutions for the smallest $k$ that satisfies the constraints, with the machine parameters fixed to the same conditions. The left figure shows the results before changing the objective function, and the right figure shows the results after changing the objective function. It can be seen that the quality of the solutions has improved."
   ],
   "cell_type": "markdown",
   "metadata": {}
  },
  {
   "cell_type": "code",
   "execution_count": null,
   "metadata": {},
   "outputs": [],
   "source": [
    "# before modifying the cost function\n",
    "for i in range(10):\n",
    "    k = 0.05 * (i + 1)\n",
    "    model = cost + constraints * k * np.amax(distances)\n",
    "    result = solver.solve(model)\n",
    "\n",
    "    print(f\"k={k}\")\n",
    "    if len(result) == 0:\n",
    "        print(f\"Some of the constraints are not satisfied.\")\n",
    "        continue\n",
    "    else:  # stop if a feasible solution is found\n",
    "        values = result[0].values\n",
    "        q_values = decode_solution(q, result[0].values)\n",
    "        route = np.where(np.array(q_values) == 1)[1]\n",
    "        show_route(route, distances, locations)\n",
    "        break"
   ]
  },
  {
   "cell_type": "code",
   "execution_count": null,
   "metadata": {},
   "outputs": [],
   "source": [
    "# after modifying the cost function\n",
    "for i in range(10):\n",
    "    k = 0.05 * (i + 1)\n",
    "    new_model = new_cost + constraints * k * d_max_all\n",
    "    result = solver.solve(new_model)\n",
    "\n",
    "    print(f\"k={k}\")\n",
    "    if len(result) == 0:\n",
    "        print(f\"Any one of constraints is not satisfied.\")\n",
    "        continue\n",
    "    else:  # stop if a feasible solution is found\n",
    "        values = result[0].values\n",
    "        q_values = decode_solution(q, values)\n",
    "        route = np.where(np.array(q_values) == 1)[1]\n",
    "        show_route(route, distances, locations)\n",
    "        break"
   ]
  },
  {
   "source": [
    "### Removing rotational symmetry\n",
    "\n",
    "The formulation presented in this section has some redundancy in the solution space. That means that it has multiple solution states for the same path.\n",
    "\n",
    "More specifically, it has rotational symmetry because it does not define a starting point for a path. It also has inversion symmetry for rightward and leftward paths, which we will discuss later. As a result, there are $2 N$ possible solution states for the same path. First, we will try to reduce the number of variables required by fixing the starting point to contract the problem.\n",
    "\n",
    "To fix the starting point, we can put the appropriate values in the variables beforehand, which is the minimal change from the previous formulations.\n",
    "\n",
    "It is possible to assign values to the variable table. For example, we can fix the first city to visit to $i = 0$. In other words, we can make substitutions for some variables in the following way:\n",
    "\n",
    "$$\n",
    "q_{0, 0} &=& 1 \\\\\n",
    "q_{0, i} &=& 0 \\quad \\left( i \\ne 0 \\right) \\\\\n",
    "q_{n, 0} &=& 0 \\quad \\left( n \\ne 0 \\right) \\\\\n",
    "$$\n",
    "\n",
    "This can be done as follows:"
   ],
   "cell_type": "markdown",
   "metadata": {}
  },
  {
   "cell_type": "code",
   "execution_count": null,
   "metadata": {},
   "outputs": [],
   "source": [
    "# Creating a variable table\n",
    "q = gen_symbols(BinaryPoly, ncity, ncity)\n",
    "\n",
    "# Set values to elements in the variable table\n",
    "q[0][0] = BinaryPoly(1)\n",
    "for i in range(1, ncity):\n",
    "    q[0][i] = BinaryPoly(0)\n",
    "    q[i][0] = BinaryPoly(0)"
   ]
  },
  {
   "source": [
    "After that, there is no need to make any change and you can proceed with the construction of the objective function and constraint terms as before.\n",
    "\n",
    "This allowed us to reduce the $N^2$ variable problem to a $\\left( N - 1 \\right)^2$ variable.\n",
    "By reducing the number of variables, we can expect some improvement in the quality of the solution."
   ],
   "cell_type": "markdown",
   "metadata": {}
  },
  {
   "cell_type": "code",
   "execution_count": null,
   "metadata": {},
   "outputs": [],
   "source": [
    "# Create a cost function\n",
    "# Obtain the min of non-zero element in each row as a list\n",
    "d_min = [d[np.nonzero(d)].min() for d in distances]\n",
    "\n",
    "# Modify the coefficients of cost function and add constant part\n",
    "cost = sum_poly(\n",
    "    ncity,\n",
    "    lambda n: sum_poly(\n",
    "        ncity,\n",
    "        lambda i: sum_poly(\n",
    "            ncity,\n",
    "            lambda j: (distances[i][j] - d_min[i] if i != j else 0)\n",
    "            * q[n][i]\n",
    "            * q[(n + 1) % ncity][j],\n",
    "        ),\n",
    "    ),\n",
    ") + sum(d_min)\n",
    "\n",
    "# Obtain max of all elements after subtracting the min of each row\n",
    "d_max_all = max(distances.max(axis=1) - d_min)\n",
    "\n",
    "# Constraints for rows\n",
    "row_constraints = [\n",
    "    equal_to(sum_poly([q[n][i] for i in range(ncity)]), 1) for n in range(ncity)\n",
    "]\n",
    "\n",
    "# Constraints for columns\n",
    "col_constraints = [\n",
    "    equal_to(sum_poly([q[n][i] for n in range(ncity)]), 1) for i in range(ncity)\n",
    "]\n",
    "constraints = sum(row_constraints) + sum(col_constraints)"
   ]
  },
  {
   "source": [
    "### Removing inversion symmetry\n",
    "\n",
    "The inversion symmetry can be removed by adding new constraints. The addition of constraints does not necessarily lead to an improvement in the quality of the solution because it leads to an increase in the complexity of the problem. It is mentioned here for reference.\n",
    "\n",
    "Suppose we fix the starting point to $i = 0$ and obtain the path `[0 2 4 3 6 5 1 7]`. In the current formulation, its inversion `[0 7 1 5 6 3 4 2]` is also the same solution. To break this symmetry, we focus on the indices of the next and previous cities of the starting point. In the former solution, $i = 2 \\left(n=1 \\right) < 7 \\left(n=7 \\right)$, but in the latter, the inequality is inverted to $i = 7 \\left(n=1 \\right) > 2 \\left(n=7 \\right)$.\n",
    "\n",
    "If we fix this inequality, we can break the inversion symmetry. To make the former so that $n = 1, N - 1$ is in ascending order, add the following constraint:\n",
    "\n",
    "**Constraints (additional)**\n",
    "\n",
    "$$\n",
    "q_{N-1,i} q_{1,j} = 0 \\quad \\left( i < j \\right)\n",
    "$$\n",
    "\n",
    "This expression prohibits $q_{N-1,i}, q_{1,j}$ from both being $1$ for $i < j$. For such constraints with the minimum value of 0, we can use the `constraint.penalty` function and write as below:"
   ],
   "cell_type": "markdown",
   "metadata": {}
  },
  {
   "cell_type": "code",
   "execution_count": null,
   "metadata": {},
   "outputs": [],
   "source": [
    "from amplify.constraint import penalty\n",
    "\n",
    "# Constraints on ordering\n",
    "pem_constraint = [\n",
    "    penalty(q[ncity - 1][i] * q[1][j])\n",
    "    for i in range(ncity)\n",
    "    for j in range(i + 1, ncity)\n",
    "]\n",
    "\n",
    "constraints = sum(row_constraints) + sum(col_constraints) + sum(pem_constraint)"
   ]
  },
  {
   "source": [
    "### Note\n",
    "\n",
    "For constraints with the minimum value of 0, it is equivalent to sum all the conditions first and then create a single constraint object. In this case, the `pair_sum` function can be used to write the following:\n",
    "\n",
    "```python\n",
    "from amplify import pair_sum\n",
    "\n",
    "# Constraints on ordering\n",
    "pem_constraint = penalty(pair_sum(ncity, lambda i, j: q[ncity - 1][i] * q[1][j]))\n",
    "\n",
    "constraints = sum(row_constraints) + sum(col_constraints) + pem_constraint\n",
    "```\n",
    "\n",
    "The `pair_sum` function sums for $i < j$, eliminating the need for `for` loops.\n",
    "\n",
    "As with the constraints on rows and columns, we also sum the ordinal constraints and finally add up all the constraints. After that, we can get the solution as before, and check that the path index is in ascending order with $n = 1, N - 1$.\n"
   ],
   "cell_type": "markdown",
   "metadata": {}
  },
  {
   "cell_type": "code",
   "execution_count": null,
   "metadata": {},
   "outputs": [],
   "source": [
    "k = 1.0\n",
    "model = cost + constraints * k * d_max_all\n",
    "result = solver.solve(model)\n",
    "\n",
    "values = result[0].values\n",
    "q_values = decode_solution(q, values)\n",
    "route = np.where(np.array(q_values) == 1)[1]\n",
    "print(route)\n",
    "show_route(route, distances, locations)"
   ]
  }
 ]
}
