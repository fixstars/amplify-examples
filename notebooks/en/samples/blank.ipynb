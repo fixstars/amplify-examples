{
 "cells": [
  {
   "cell_type": "code",
   "execution_count": null,
   "metadata": {},
   "outputs": [],
   "source": [
    "from amplify import *\n",
    "from amplify.constraint import *"
   ]
  },
  {
   "cell_type": "markdown",
   "metadata": {},
   "source": [
    "## Client Settings\n",
    "\n",
    "### When using Amplify Annealing Engine"
   ]
  },
  {
   "cell_type": "code",
   "execution_count": null,
   "metadata": {},
   "outputs": [],
   "source": [
    "from amplify.client import FixstarsClient\n",
    "\n",
    "client = FixstarsClient()\n",
    "client.parameters.timeout = 1000  # Timeout is 1 second"
   ]
  },
  {
   "cell_type": "markdown",
   "metadata": {},
   "source": [
    "### When using D-Wave 2000Q"
   ]
  },
  {
   "cell_type": "code",
   "execution_count": null,
   "metadata": {},
   "outputs": [],
   "source": [
    "from amplify.client import DWaveClient\n",
    "\n",
    "client = DWaveClient()\n",
    "client.token = \"Please enter your token.\"\n",
    "client.solver = \"DW_2000Q_VFYC_6\"\n",
    "client.parameters.num_reads = 100  # Execution count 100"
   ]
  },
  {
   "source": [
    "### When using D-Wave Advantage"
   ],
   "cell_type": "markdown",
   "metadata": {}
  },
  {
   "cell_type": "code",
   "execution_count": null,
   "metadata": {},
   "outputs": [],
   "source": [
    "from amplify.client.ocean import DWaveSamplerClient\n",
    "\n",
    "client = DWaveSamplerClient()\n",
    "client.token = \"Please enter your token.\"\n",
    "client.solver = \"Advantage_system1.1\"\n",
    "client.parameters.num_reads = 100  # Execution count 100"
   ]
  },
  {
   "source": [
    "### When using D-Wave Leap Hybrid"
   ],
   "cell_type": "markdown",
   "metadata": {}
  },
  {
   "cell_type": "code",
   "execution_count": null,
   "metadata": {},
   "outputs": [],
   "source": [
    "from amplify.client.ocean import LeapHybridSamplerClient\n",
    "\n",
    "client = LeapHybridSamplerClient()\n",
    "client.token = \"Please enter your token.\"\n",
    "client.solver = \"hybrid_binary_quadratic_model_version2\"\n",
    "client.parameters.time_limit = 3  # Timeout is 3 seconds"
   ]
  },
  {
   "cell_type": "markdown",
   "metadata": {},
   "source": [
    "### When using Fujitsu DA2PT solver"
   ]
  },
  {
   "cell_type": "code",
   "execution_count": null,
   "metadata": {},
   "outputs": [],
   "source": [
    "from amplify.client import FujitsuDA2PTSolverClient\n",
    "\n",
    "client = FujitsuDA2PTSolverClient()\n",
    "client.token = \"Please enter your token.\"\n",
    "client.parameters.number_iterations = 1000"
   ]
  },
  {
   "cell_type": "markdown",
   "metadata": {},
   "source": [
    "### When using Toshiba SBM"
   ]
  },
  {
   "cell_type": "code",
   "execution_count": null,
   "metadata": {},
   "outputs": [],
   "source": [
    "from amplify.client import ToshibaClient\n",
    "\n",
    "client = ToshibaClient()\n",
    "client.url = \"http://xxx.xxx.xxx.xxx\"\n",
    "client.parameters.timeout = 1  # Timeout is 1 second"
   ]
  },
  {
   "cell_type": "markdown",
   "metadata": {},
   "source": [
    "### When using Hitachi CMOS Annealing Machine"
   ]
  },
  {
   "cell_type": "code",
   "execution_count": null,
   "metadata": {},
   "outputs": [],
   "source": [
    "from amplify.client import HitachiClient\n",
    "\n",
    "client = HitachiClient()\n",
    "client.token = \"Please enter your token.\"\n",
    "client.parameters.temperature_num_steps = 10\n",
    "client.parameters.temperature_step_length = 100\n",
    "client.parameters.temperature_initial = 100.0\n",
    "client.parameters.temperature_target = 0.02"
   ]
  },
  {
   "cell_type": "markdown",
   "metadata": {},
   "source": [
    "## Formulation of a problem"
   ]
  },
  {
   "cell_type": "code",
   "execution_count": null,
   "metadata": {},
   "outputs": [],
   "source": [
    "# Example of cost function formulation\n",
    "q = gen_symbols(BinaryPoly, 2)\n",
    "cost_func = -2 * q[0] * q[1] + q[0] - q[1] + 1\n",
    "cost_func"
   ]
  },
  {
   "cell_type": "code",
   "execution_count": null,
   "metadata": {},
   "outputs": [],
   "source": [
    "# Example of constraint formulation\n",
    "constraint = 2 * equal_to(q[0] + q[1], 1)\n",
    "constraint"
   ]
  },
  {
   "cell_type": "code",
   "execution_count": null,
   "metadata": {},
   "outputs": [],
   "source": [
    "# Building a model\n",
    "model = cost_func + constraint"
   ]
  },
  {
   "cell_type": "markdown",
   "metadata": {},
   "source": [
    "## Running a machine"
   ]
  },
  {
   "cell_type": "code",
   "execution_count": null,
   "metadata": {},
   "outputs": [],
   "source": [
    "# Building a solver\n",
    "solver = Solver(client)\n",
    "\n",
    "# Running the machine\n",
    "result = solver.solve(model)"
   ]
  },
  {
   "cell_type": "markdown",
   "metadata": {},
   "source": [
    "## Obtaining the execution result"
   ]
  },
  {
   "cell_type": "code",
   "execution_count": null,
   "metadata": {},
   "outputs": [],
   "source": [
    "for s in result:\n",
    "    print(f\"q = {decode_solution(q, s.values)}\")\n",
    "    print(f\"energy = {s.energy}\")"
   ]
  }
 ],
 "metadata": {
  "language_info": {
   "name": "python",
   "pygments_lexer": "ipython3"
  }
 }
}
