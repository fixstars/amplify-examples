{
 "cells": [
  {
   "attachments": {},
   "cell_type": "markdown",
   "metadata": {},
   "source": [
    "# Using Different Machines\n",
    "\n",
    "This tutorial explains sample client setup code for using some of the machines supported by Fixstars Amplify. For a more complete and detailed explanation, please refer to [Client Class Overviews](https://amplify.fixstars.com/en/docs/client.html)."
   ]
  },
  {
   "cell_type": "code",
   "execution_count": null,
   "metadata": {},
   "outputs": [],
   "source": [
    "from amplify import *\n",
    "from amplify.constraint import *"
   ]
  },
  {
   "attachments": {},
   "cell_type": "markdown",
   "metadata": {},
   "source": [
    "## Client Settings\n",
    "\n",
    "### Amplify Annealing Engine"
   ]
  },
  {
   "cell_type": "code",
   "execution_count": null,
   "metadata": {},
   "outputs": [],
   "source": [
    "from amplify.client import FixstarsClient\n",
    "\n",
    "client = FixstarsClient()\n",
    "client.parameters.timeout = 1000  # Timeout is 1 second\n",
    "# client.token = \"xxxxxxxxxxxxxxxxxxxxxxxxxxxxxxxx\"  # If you use Amplify in a local environment, enter the Amplify API token."
   ]
  },
  {
   "attachments": {},
   "cell_type": "markdown",
   "metadata": {},
   "source": [
    "### D-Wave 2000Q / Advantage"
   ]
  },
  {
   "cell_type": "code",
   "execution_count": null,
   "metadata": {},
   "outputs": [],
   "source": [
    "from amplify.client.ocean import DWaveSamplerClient\n",
    "\n",
    "client_dwave = DWaveSamplerClient()\n",
    "client_dwave.token = \"Please enter your token.\"\n",
    "\n",
    "# D-Wave 2000Q\n",
    "client_dwave.solver = \"DW_2000Q_VFYC_6\"\n",
    "client_dwave.parameters.num_reads = 100  # Execution count 100\n",
    "\n",
    "# D-Wave Advantage\n",
    "client_dwave.solver = \"Advantage_system1.1\"\n",
    "client_dwave.parameters.num_reads = 100  # Execution count 100"
   ]
  },
  {
   "attachments": {},
   "cell_type": "markdown",
   "metadata": {},
   "source": [
    "### D-Wave Leap Hybrid"
   ]
  },
  {
   "cell_type": "code",
   "execution_count": null,
   "metadata": {},
   "outputs": [],
   "source": [
    "from amplify.client.ocean import LeapHybridSamplerClient\n",
    "\n",
    "client_leap_hybrid = LeapHybridSamplerClient()\n",
    "client_leap_hybrid.token = \"Please enter your token.\"\n",
    "client_leap_hybrid.solver = \"hybrid_binary_quadratic_model_version2\"\n",
    "client_leap_hybrid.parameters.time_limit = 3  # Timeout is 3 seconds"
   ]
  },
  {
   "attachments": {},
   "cell_type": "markdown",
   "metadata": {},
   "source": [
    "### Fujitsu DA4 solver"
   ]
  },
  {
   "cell_type": "code",
   "execution_count": null,
   "metadata": {},
   "outputs": [],
   "source": [
    "from amplify.client import FujitsuDA4SolverClient\n",
    "\n",
    "client_fujitsu_da4 = FujitsuDA4SolverClient()\n",
    "client_fujitsu_da4.token = \"Please enter your token.\"\n",
    "client_fujitsu_da4.parameters.time_limit_sec = 3  # Timeout is 3 seconds"
   ]
  },
  {
   "attachments": {},
   "cell_type": "markdown",
   "metadata": {},
   "source": [
    "### Toshiba SBM"
   ]
  },
  {
   "cell_type": "code",
   "execution_count": null,
   "metadata": {},
   "outputs": [],
   "source": [
    "from amplify.client import ToshibaClient\n",
    "\n",
    "client_toshiba_sbm = ToshibaClient()\n",
    "client_toshiba_sbm.url = \"http://xxx.xxx.xxx.xxx\"  # API URL\n",
    "client_toshiba_sbm.parameters.timeout = 1  # Timeout is 1 second"
   ]
  },
  {
   "attachments": {},
   "cell_type": "markdown",
   "metadata": {},
   "source": [
    "### Hitachi CMOS Annealing Machine"
   ]
  },
  {
   "cell_type": "code",
   "execution_count": null,
   "metadata": {},
   "outputs": [],
   "source": [
    "from amplify.client import HitachiClient\n",
    "\n",
    "client_hitachi = HitachiClient()\n",
    "client_hitachi.token = \"Please enter your token.\"\n",
    "client_hitachi.parameters.temperature_num_steps = 10\n",
    "client_hitachi.parameters.temperature_step_length = 100\n",
    "client_hitachi.parameters.temperature_initial = 100.0\n",
    "client_hitachi.parameters.temperature_target = 0.02"
   ]
  },
  {
   "attachments": {},
   "cell_type": "markdown",
   "metadata": {},
   "source": [
    "## Formulation of an example problem"
   ]
  },
  {
   "cell_type": "code",
   "execution_count": null,
   "metadata": {},
   "outputs": [],
   "source": [
    "# コスト関数の定式化例\n",
    "gen = BinarySymbolGenerator()\n",
    "q = gen.array(2)\n",
    "cost_func = -2 * q[0] * q[1] + q[0] - q[1] + 1\n",
    "cost_func"
   ]
  },
  {
   "cell_type": "code",
   "execution_count": null,
   "metadata": {},
   "outputs": [],
   "source": [
    "# Example of constraint formulation\n",
    "constraint = 2 * equal_to(q[0] + q[1], 1)\n",
    "constraint"
   ]
  },
  {
   "cell_type": "code",
   "execution_count": null,
   "metadata": {},
   "outputs": [],
   "source": [
    "# Building a model\n",
    "model = cost_func + constraint"
   ]
  },
  {
   "attachments": {},
   "cell_type": "markdown",
   "metadata": {},
   "source": [
    "## Running a machine"
   ]
  },
  {
   "cell_type": "code",
   "execution_count": null,
   "metadata": {},
   "outputs": [],
   "source": [
    "# Building a solver\n",
    "solver = Solver(client)\n",
    "\n",
    "# Running the machine\n",
    "result = solver.solve(model)"
   ]
  },
  {
   "attachments": {},
   "cell_type": "markdown",
   "metadata": {},
   "source": [
    "## Obtaining the execution result"
   ]
  },
  {
   "cell_type": "code",
   "execution_count": null,
   "metadata": {},
   "outputs": [],
   "source": [
    "for s in result:\n",
    "    print(f\"q = {decode_solution(q, s.values)}\")\n",
    "    print(f\"energy = {s.energy}\")"
   ]
  }
 ],
 "metadata": {
  "language_info": {
   "name": "python",
   "pygments_lexer": "ipython3"
  }
 },
 "nbformat": 4,
 "nbformat_minor": 2
}
