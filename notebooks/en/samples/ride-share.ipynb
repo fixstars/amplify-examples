{
 "cells": [
  {
   "cell_type": "markdown",
   "metadata": {},
   "source": [
    "# Ride sharing\n",
    "\n",
    "The problem we are dealing with in this tutorial is called collective ridesharing.\n",
    "\n",
    "Collective ridesharing refers to a form of ridesharing in which multiple users gather at several large parking lots  \n",
    "and ride in the same car to the same destination.\n",
    "\n",
    "（There is another type of ridesharing called traveling ridesharing, but it will not be discussed here.）\n",
    "![picture](../figures/ride-share_abstract.png)\n",
    "\n",
    "\n",
    "Here, given multiple people with the same destination and available cars, we will find the allocation of people and cars such that the travel distance to the parking lot for each person and the number of cars to be used are as small as possible.   \n",
    "We formulate the problem as a model that can be run on an Ising machine, and find the allocation as a minimization problem.\n",
    "  \n",
    "\n",
    "## Formulation\n",
    "\n",
    "First, we define the constants and variables necessary for the formulation.\n",
    "\n",
    "#### Constant\n",
    "\n",
    "* $N$：Number of rideshare users\n",
    "* $M$：Number of available cars\n",
    "* $C$：Number of available seats per car\n",
    "* $D$：Matrix such that $ik$component$(d_{ik})$ is the distance between user $i$ and car $k$\n",
    "\n",
    "#### Variables\n",
    "\n",
    "- $q_{ik}\\in\\{0,1\\}\\quad(i\\in\\{1,\\dots,N\\}, k\\in\\{1,\\dots,M\\})$  \n",
    "  Binary variables representing whether or not person $i$ rides in car $k$ ($q_{ik}=1\\Leftrightarrow$ person $i$ rides in car $k$)\n",
    "- $y_{lk}\\in\\{0,1\\}\\quad(l\\in\\{0,\\dots,C\\},k\\in\\{1,\\dots,M\\})$  \n",
    "  Binary variables that satisfy $\\sum_ly_{lk}=\\sum_iq_{ik}$ (used to express constraints on the number of passengers)\n",
    "\n",
    "\n",
    "\n",
    "Then, we consider the constraints where the variables must satisfy.\n",
    "\n",
    "### Constraints\n",
    "\n",
    "- Each person always rides in one car.  \n",
    "  $\\sum_{k=1}^Mq_{ik}=1(\\forall i\\in\\{1,\\dots,N\\})$\n",
    "  \n",
    "- The actual number of passengers does not exceed the number of available seats.  \n",
    "  $\\sum_{i=1}^Nq_{ik}\\leq C(\\forall k\\in\\{1,\\dots,M\\})$\n",
    "\n",
    "Finally, we will consider an objective function that satisfies the followings:\n",
    "\n",
    "1. Users use a car that is as close as possible to their location.\n",
    "2. Users travel with as few cars as possible.\n",
    "\n",
    "### Objective function\n",
    "\n",
    "- Users should avoid unnecessary travel as much as possible. \n",
    "    $\\text{minimize}\\quad\\sum_{i,k}d_{ik}q_{ik}$     \n",
    "- We want to minimize the number of cars used as much as possible$\\space\\Rightarrow\\space$Maximize the number of passengers per car.\n",
    "    $\\text{maximize}\\quad\\sum_{k}\\left(\\sum_i\\frac{q_{ik}}{C}\\right)^2$\n",
    "\n",
    "Considering these two items, the following objective function can be set.\n",
    "\n",
    "$$\\sum_{i,k}d_{ik}q_{ik}-\\alpha\\sum_{k}\\left(\\sum_i\\frac{q_{ik}}{C}\\right)^2$$\n",
    "\n",
    "#### Note\n",
    "Let $\\alpha>0$ be the parameter that determines how much importance is placed on the number of cars in use. \n",
    "The closer the value of $\\alpha$ is to $0$, the more the optimization places emphasis on minimizing the distances traveled by users. The greater the value of $\\alpha$ is, the more the optimization places emphasis on minimizing the number of cars used.  \n",
    "If $\\alpha$ is large, the term regarding the distance traveled will be less important. The visualization result thus will be cleaner if $\\alpha$ is small.\n",
    "\n",
    "### Summary\n",
    "\n",
    "From the above, the collective ridesharing problem can be formulated as the following Ising model.\n",
    "\n",
    "$$\n",
    "\\begin{align}\n",
    "H&=H_{\\rm cost}+H_{\\rm constraint}\\\\\n",
    "H_{\\rm cost}&= \\sum_{i,k}d_{ik}q_{ik}-\\alpha\\sum_{k}\\left(\\sum_i\\frac{q_{ik}}{C}\\right)^2\\\\\n",
    "H_{\\rm constraint} &= k_1\\sum_{i=1}^N\\left(\\sum_{k=1}^Mq_{ik}-1\\right)^2+k_2\\sum_{k=1}^M\\left(\\sum_{i=1}^Nq_{ik}-\\sum_{l=0}^Cy_{lk}\\right)^2\n",
    "\\end{align}\n",
    "$$\n",
    "\n",
    "\n",
    "$k_1, k_2$ are constants that determine the strength of the constraints.  \n",
    "In order to ensure the feasibility of the solution, the size of the constant must be set so that the objective function is not improved by violating the constraint. \n",
    "In the present case, at least the following inequality should hold. The details of the derivation are omitted.\n",
    "\n",
    "$$\n",
    "\\begin{align}\n",
    "k_1&>{\\rm max}\\left(− {\\rm min\\space}d_{ik}+\n",
    "\\frac{2c − 1}{c^2}\\alpha,\\space\n",
    "{\\rm max\\space}d_{ik}−\\frac{2c − 1}{c^2}\\alpha\n",
    "\\right)\\\\\n",
    "k_2&>\\frac{2c − 1}{c^2}\\alpha\n",
    "\\end{align}\n",
    "$$"
   ]
  },
  {
   "cell_type": "markdown",
   "metadata": {},
   "source": [
    "## Implementing the problem\n",
    "Since we need the positions of the cars and the users as input data, we create a function to randomly generate their positions (latitude and longitude)."
   ]
  },
  {
   "cell_type": "code",
   "execution_count": null,
   "metadata": {},
   "outputs": [],
   "source": [
    "import numpy as np\n",
    "from geopy.distance import geodesic\n",
    "\n",
    "\n",
    "def generate_problem(\n",
    "    lon_range,\n",
    "    lat_range,\n",
    "    parking,\n",
    "    ncars=None,\n",
    "    npeople=None,\n",
    "    C=None,\n",
    "    lb=1,\n",
    "    ub=160,\n",
    "    seed=1,\n",
    "):\n",
    "    \"\"\"\n",
    "    A function that randomly determines the number of cars, the number of people, and the capacity of cars,\n",
    "    then generates the coordinates of the points of the number of cars + the number of people, and generates a distance matrix based on the coordinates.\n",
    "    \"\"\"\n",
    "    np.random.seed(seed)\n",
    "    if ncars is None:\n",
    "        ncars = len(parking)\n",
    "    if npeople is None:\n",
    "        npeople = np.random.randint(lb, ub)\n",
    "    if C is None:\n",
    "        # Limit capacity to ensure feasibility.\n",
    "        C = np.random.randint(npeople // ncars + 1, 20)\n",
    "    if ncars * C < npeople:\n",
    "        print(\"Fail to create valid problem.\\nPlease retry after changing random seed.\")\n",
    "        return None, None, None, None\n",
    "    n = ncars + npeople\n",
    "    ind2coord = dict()\n",
    "    tmp = [\n",
    "        parking[i][::-1] for i in np.random.choice(len(parking), ncars, replace=False)\n",
    "    ]\n",
    "    for i in range(ncars):\n",
    "        ind2coord[i] = (tmp[i][0], tmp[i][1])\n",
    "    for i in range(ncars, n):\n",
    "        lon = np.random.uniform(lon_range[0], lon_range[1])\n",
    "        lat = np.random.uniform(lat_range[0], lat_range[1])\n",
    "        tmp.append((lon, lat))\n",
    "        ind2coord[i] = (lon, lat)\n",
    "\n",
    "    D = [[0] * n for _ in range(n)]\n",
    "    for i in range(n):\n",
    "        for j in range(n):\n",
    "            D[i][j] = geodesic(tmp[i][::-1], tmp[j][::-1]).m\n",
    "    return ncars, npeople, D, C, ind2coord"
   ]
  },
  {
   "cell_type": "markdown",
   "metadata": {},
   "source": [
    "For visualization purposes, we also create a function that plots the coordinates of cars and users on a map when they are input."
   ]
  },
  {
   "cell_type": "code",
   "execution_count": null,
   "metadata": {},
   "outputs": [],
   "source": [
    "import folium\n",
    "\n",
    "_colors = [\n",
    "    \"green\",\n",
    "    \"orange\",\n",
    "    \"blue\",\n",
    "    \"pink\",\n",
    "    \"red\",\n",
    "    \"purple\",\n",
    "    \"darkblue\",\n",
    "    \"cadetblue\",\n",
    "    \"darkred\",\n",
    "    \"lightred\",\n",
    "    \"darkgreen\",\n",
    "    \"lightgreen\",\n",
    "    \"lightblue\",\n",
    "    \"gray\",\n",
    "    \"darkpurple\",\n",
    "]\n",
    "\n",
    "\n",
    "def simple_plot(coord, ncars):\n",
    "    m = folium.Map([sum(lat) / 2, sum(lon) / 2], tiles=\"Stamen Toner\", zoom_start=12)\n",
    "    tmp = list(coord.items())\n",
    "    for j, x in enumerate(tmp):\n",
    "        if j < ncars:\n",
    "            folium.Marker(\n",
    "                location=x[1][::-1],\n",
    "                icon=folium.Icon(icon=\"car\", prefix=\"fa\", color=_colors[0]),\n",
    "            ).add_to(m)\n",
    "        else:\n",
    "            folium.Marker(\n",
    "                location=x[1][::-1],\n",
    "                popup=\"person\",\n",
    "                icon=folium.Icon(icon=\"user\", prefix=\"fa\", color=_colors[1]),\n",
    "            ).add_to(m)\n",
    "    return m"
   ]
  },
  {
   "cell_type": "markdown",
   "metadata": {},
   "source": [
    "After we define the candidate locations of the cars as follows, we use `generate_problem` function defined earlier to generate the number of users, the number of people using the cars, the number of available seats in the cars, and the locations of the users and the cars. The `simple_plot` function is used to visualize them."
   ]
  },
  {
   "cell_type": "code",
   "execution_count": null,
   "metadata": {},
   "outputs": [],
   "source": [
    "# Near Funabashi Station\n",
    "lon = (139.9, 140.08)\n",
    "lat = (35.675500, 35.76)\n",
    "# 9 locations\n",
    "parking = [\n",
    "    (35.67699938102926, 140.0434199237448),\n",
    "    (35.68494726920934, 139.99303731029542),\n",
    "    (35.68604762650153, 140.01831984588475),\n",
    "    (35.69720660219214, 139.98034538800417),\n",
    "    (35.6981824540223, 140.00360550271415),\n",
    "    (35.698774929464875, 139.9982410856558),\n",
    "    (35.700029569368, 139.98558105961536),\n",
    "    (35.70599837320516, 139.93269833544272),\n",
    "    (35.71199204224218, 140.0415316476293),\n",
    "]"
   ]
  },
  {
   "cell_type": "code",
   "execution_count": null,
   "metadata": {},
   "outputs": [],
   "source": [
    "ncars, npeople, D, C, index2coordinate = generate_problem(lon, lat, parking, seed=0)\n",
    "simple_plot(index2coordinate, ncars)"
   ]
  },
  {
   "cell_type": "code",
   "execution_count": null,
   "metadata": {},
   "outputs": [],
   "source": [
    "print(ncars, npeople, C)"
   ]
  },
  {
   "cell_type": "markdown",
   "metadata": {},
   "source": [
    "### Building a quadratic polynomial model\n",
    "\n",
    "Next, we define the necessary QUBO variables. Since we will have $M$ cars for $N$ users, we will define the QUBO variables as a $M\\times N$ two-dimensional array as follows:"
   ]
  },
  {
   "cell_type": "code",
   "execution_count": null,
   "metadata": {},
   "outputs": [],
   "source": [
    "from amplify import BinaryPoly, gen_symbols\n",
    "\n",
    "\n",
    "class SymbolGenerator:\n",
    "    def __init__(self, c):\n",
    "        self.VariableConstructor = c\n",
    "        self.LastIndex = 0\n",
    "\n",
    "    def gen_symbols(self, *shape):\n",
    "        symbol = gen_symbols(self.VariableConstructor, self.LastIndex, shape)\n",
    "        self.LastIndex += int(np.prod(shape))\n",
    "        return symbol"
   ]
  },
  {
   "cell_type": "code",
   "execution_count": null,
   "metadata": {},
   "outputs": [],
   "source": [
    "GenSymbol = SymbolGenerator(BinaryPoly)\n",
    "q = GenSymbol.gen_symbols(npeople, ncars)"
   ]
  },
  {
   "cell_type": "markdown",
   "metadata": {},
   "source": [
    "Then, we define the objective function and constraints. \n",
    "First, in order to align the order of the terms related to the distance and the number of cars in the objective function, we use the following function to adjust the mean of the elements of the distance matrix to 0 and the variance to 1."
   ]
  },
  {
   "cell_type": "code",
   "execution_count": null,
   "metadata": {},
   "outputs": [],
   "source": [
    "from math import sqrt\n",
    "\n",
    "\n",
    "def regularizeDistance(D):\n",
    "    ncar, npeople = len(D[0]), len(D)\n",
    "\n",
    "    for k in range(ncar):\n",
    "        # Adjust the mean and variance of the distance when the position of the car is fixed\n",
    "        average = sum(D[i][k] for i in range(npeople)) / npeople\n",
    "        variance = sqrt(sum((D[i][k] - average) ** 2 for i in range(npeople)) / npeople)\n",
    "        for i in range(npeople):\n",
    "            D[i][k] = (D[i][k] - average) / variance\n",
    "    return D"
   ]
  },
  {
   "cell_type": "code",
   "execution_count": null,
   "metadata": {},
   "outputs": [],
   "source": [
    "D = regularizeDistance(D)"
   ]
  },
  {
   "cell_type": "markdown",
   "metadata": {},
   "source": [
    "The next step is to define the objective function.  \n",
    "The `sum_poly` function is used to represent polynomials containing QUBO variables.  \n",
    "The objective function is as follows:\n",
    "$$\\sum_{i,k}d_{ik}q_{ik}-\\alpha\\sum_{k}\\left(\\sum_i\\frac{q_{ik}}{C}\\right)^2$$\n",
    "The first half of the term is related to the distance traveled and the second half is related to the occupancy rate of each car."
   ]
  },
  {
   "cell_type": "code",
   "execution_count": null,
   "metadata": {},
   "outputs": [],
   "source": [
    "from amplify import sum_poly\n",
    "\n",
    "\n",
    "def setObjective(q, ncars, npeople, D, C, alpha=1):\n",
    "    \"\"\"Objective function\"\"\"\n",
    "    distance_cost = sum_poly(\n",
    "        [D[i + ncars][j] * q[i][j] for i in range(npeople) for j in range(ncars)]\n",
    "    )  # Term related to the distance traveled by each user\n",
    "    ride_rate_cost = sum_poly(\n",
    "        [sum_poly([q[i][j] / C for i in range(npeople)]) ** 2 for j in range(ncars)]\n",
    "    )  # Term related to the occupancy rate of each vehicle\n",
    "    cost = distance_cost - alpha * ride_rate_cost\n",
    "    return cost"
   ]
  },
  {
   "cell_type": "markdown",
   "metadata": {},
   "source": [
    "The constraint equation can be expressed as follows  \n",
    "The `equal_to` function is used to express constraint(1) $\\sum_{k=1}^Mq_{ik}=1(\\forall i\\in\\{1,\\dots,N\\})$  \n",
    "and the `less_equal` function is used to express constraint(2) $\\sum_{i=1}^Nq_{ik}\\leq C(\\forall k\\in\\{1,\\dots,M\\})$."
   ]
  },
  {
   "cell_type": "code",
   "execution_count": null,
   "metadata": {},
   "outputs": [],
   "source": [
    "from amplify.constraint import equal_to, less_equal\n",
    "\n",
    "\n",
    "def setConstraints(q, ncars, npeople, C, k1=None, k2=None, alpha=1):\n",
    "    \"\"\"Functions to set constraint equations for small-scale problems\"\"\"\n",
    "    if k2 is None:\n",
    "        k2 = max(2 * alpha / C, C * alpha) + 1\n",
    "    if k1 is None:\n",
    "        k1 = max(2 + alpha, 2 + 2 * alpha / C) + 1\n",
    "    # Constraint(1) that each person rides in one car\n",
    "    allocate_constraints = [\n",
    "        equal_to(sum_poly([q[i][j] for j in range(ncars)]), 1) for i in range(npeople)\n",
    "    ]\n",
    "    # Constraint(2) that no more than C people can fit in one car\n",
    "    capacity_constraints = [\n",
    "        less_equal(sum_poly([q[i][j] for i in range(npeople)]), C) for j in range(ncars)\n",
    "    ]\n",
    "\n",
    "    constraints = k1 * sum(allocate_constraints) + k2 * sum(capacity_constraints)\n",
    "    return constraints"
   ]
  },
  {
   "cell_type": "markdown",
   "metadata": {},
   "source": [
    "The final Ising model is obtained by adding up the above objective function and constraints."
   ]
  },
  {
   "cell_type": "code",
   "execution_count": null,
   "metadata": {},
   "outputs": [],
   "source": [
    "cost = setObjective(q, ncars, npeople, D, C)\n",
    "constraints = setConstraints(q, ncars, npeople, C)\n",
    "\n",
    "model1 = cost + constraints"
   ]
  },
  {
   "cell_type": "markdown",
   "metadata": {},
   "source": [
    "### Running the Ising machine\n",
    "Set the Ising machine client to `FixstarsClient`, create a solver, and solve the problem as follows:"
   ]
  },
  {
   "cell_type": "code",
   "execution_count": null,
   "metadata": {},
   "outputs": [],
   "source": [
    "# Use in the solving part\n",
    "from amplify import Solver\n",
    "from amplify.client import FixstarsClient\n",
    "\n",
    "client = FixstarsClient()\n",
    "client.parameters.timeout = 2000  # Time limit\n",
    "# client.token = \"xxxxxxxxxxxxxxxxxxxxxxxxxxxxxxxx\"  # If you use it in a local environment, please enter the access token for Amplify AE\n",
    "\n",
    "solver = Solver(client)\n",
    "\n",
    "result = solver.solve(model1)"
   ]
  },
  {
   "cell_type": "markdown",
   "metadata": {},
   "source": [
    "Then, we will check the obtained solutions.  \n",
    "You can use `decode_solution` to substitute them to the original variables."
   ]
  },
  {
   "cell_type": "code",
   "execution_count": null,
   "metadata": {},
   "outputs": [],
   "source": [
    "from amplify import decode_solution\n",
    "\n",
    "if len(result) == 0:\n",
    "    # Throw an exception if no viable solution is found\n",
    "    raise RuntimeError(\"No feasible solution was found.\")\n",
    "else:\n",
    "    # If viable solutions are found, display their objective function values in order.\n",
    "    for solution in result:\n",
    "        energy = solution.energy\n",
    "        values = solution.values\n",
    "        print(f\"energy = {energy}\")\n",
    "        # print(f\"q = {decode_solution(q, values)}\")\n",
    "q_values = decode_solution(q, result[0].values, 1)"
   ]
  },
  {
   "cell_type": "markdown",
   "metadata": {},
   "source": [
    "Finally, we visualize the resulting assignments using the following function:"
   ]
  },
  {
   "cell_type": "code",
   "execution_count": null,
   "metadata": {},
   "outputs": [],
   "source": [
    "def plot_result(coord, q_values):\n",
    "    m = folium.Map([sum(lat) / 2, sum(lon) / 2], tiles=\"Stamen Toner\", zoom_start=12)\n",
    "    npeople = len(q_values)\n",
    "    ncars = len(q_values[0])\n",
    "    columns = [\"latitude\", \"longitude\", \"size\", \"name\"]\n",
    "    data = {label: list() for label in columns}\n",
    "    answer = dict()\n",
    "    for i in range(npeople):\n",
    "        car = np.where(np.array(q_values[i]) == 1)[0][-1]\n",
    "        if car not in answer:\n",
    "            answer[car] = []\n",
    "        answer[car].append(i + ncars)\n",
    "\n",
    "    for k in range(ncars):\n",
    "        status = \"active\"\n",
    "        car_loc = coord[k]\n",
    "        if k in answer:\n",
    "            tmp = answer[k]\n",
    "            x = [coord[p][0] for p in tmp] + [car_loc[0]]\n",
    "            y = [coord[p][1] for p in tmp] + [car_loc[1]]\n",
    "        else:\n",
    "            x = car_loc[:1]\n",
    "            y = car_loc[1:]\n",
    "            status = \"empty\"\n",
    "        folium.Marker(\n",
    "            location=[y[-1], x[-1]],\n",
    "            popup=f\"cluster{k}\",\n",
    "            icon=folium.Icon(icon=\"car\", prefix=\"fa\", color=_colors[k % len(_colors)]),\n",
    "        ).add_to(m)\n",
    "        for a, b in zip(y[:-1], x[:-1]):\n",
    "            folium.Marker(\n",
    "                location=[a, b],\n",
    "                popup=f\"person{k}\",\n",
    "                icon=folium.Icon(\n",
    "                    icon=\"user\",\n",
    "                    prefix=\"fa\",\n",
    "                    color=\"white\",\n",
    "                    icon_color=_colors[k % len(_colors)],\n",
    "                ),\n",
    "            ).add_to(m)\n",
    "    return m"
   ]
  },
  {
   "cell_type": "code",
   "execution_count": null,
   "metadata": {},
   "outputs": [],
   "source": [
    "plot_result(index2coordinate, q_values)"
   ]
  },
  {
   "attachments": {},
   "cell_type": "markdown",
   "metadata": {},
   "source": [
    "## Developmental topics (Splitting the problem)\n",
    "Currently, the size of the problem that can be solved by an annealing machine is limited, so we consider dividing the problem by two classes of clustering.  \n",
    "By repeating the clustering process until the number of bits in the problem is below a set value, and solving the problem at the beginning for each cluster obtained, \n",
    "we aim to reduce the computation time and solve the problem of the number of bits. \n",
    "\n",
    "### Purpose\n",
    "\n",
    "The ultimate goal is to optimize according to the following flow chart.\n",
    "\n",
    "![Flow chart](../figures/ride-share_clustering.png)\n",
    "\n",
    "### Formulation\n",
    "\n",
    "The formulation is as follows:\n",
    "\n",
    "#### Constant\n",
    "\n",
    "* $N$：Number of rideshare users  \n",
    "* $M$：Number of available cars  \n",
    "* $D$：matrix that the $ik$ component $(d_{ik})$ is the distance between user (car) $i$ and user (car) $k$ \n",
    "\n",
    "#### Variables\n",
    "\n",
    "$q_{k}\\in\\{0,1\\}\\quad(k\\in\\{1,\\dots,M,\\dots,M+N\\})$  \n",
    "Binary variable representing which cluster a person (or car) $k$ belongs to  \n",
    "($q_{k}=1\\,\\Leftrightarrow$ people (or cars) $k$ belong to cluster 1)\n",
    "\n",
    "#### Constraints\n",
    "\n",
    "- Divide it as evenly as possible \n",
    "\n",
    "  $\\sum_{k=1}^Mq_k=\\frac{M}{2}$  \n",
    "  $\\sum_{k=M+1}^{M+N}q_k=\\frac{N}{2}$\n",
    "\n",
    "#### Objective function\n",
    "\n",
    "- People/cars that are (are) near each other belong to the same cluster  \n",
    "- People/cars that are (are) far away from each other belong to different clusters\n",
    "\n",
    "  $\\text{minimize}\\quad\\sum_{i,j}d_{ij}(2q_i-1)(2q_j-1)$\n",
    "\n",
    "From the above, the clustering of the two classes can be formulated as the following Ising model.\n",
    "\n",
    "$$\n",
    "\\begin{align}\n",
    "H&=H_{\\rm cost}+H_{\\rm constraint}\\\\\n",
    "H_{\\rm cost}&=\\sum_{i,j}d_{ij}(2q_i-1)(2q_j-1)\\\\\n",
    "H_{\\rm constraint}&=k_1\\left(\\sum_{k=1}^Mq_k-\\frac{M}{2}\\right)^2+k_1\\left(\\sum_{k=M+1}^{M+N}q_k-\\frac{N}{2}\\right)^2\n",
    "\\end{align}\n",
    "$$\n",
    "To guarantee the feasibility of the solution, the constant $k_1$ must satisfy the inequality $k_1>2{\\space\\rm max}\\sum_jd_{ij}$.\n",
    "### Implementation\n",
    "Based on the above formulation, we implement it using AMPLIFY.  \n",
    "The first step is to define the variables."
   ]
  },
  {
   "cell_type": "code",
   "execution_count": null,
   "metadata": {},
   "outputs": [],
   "source": [
    "n = ncars + npeople\n",
    "\n",
    "GenSymbol = SymbolGenerator(BinaryPoly)\n",
    "q = GenSymbol.gen_symbols(n)"
   ]
  },
  {
   "cell_type": "markdown",
   "metadata": {},
   "source": [
    "Then, prepare the objective function."
   ]
  },
  {
   "cell_type": "code",
   "execution_count": null,
   "metadata": {},
   "outputs": [],
   "source": [
    "cost = sum_poly(\n",
    "    [D[i][j] * (2 * q[i] - 1) * (2 * q[j] - 1) for i in range(n) for j in range(n)]\n",
    ")"
   ]
  },
  {
   "cell_type": "markdown",
   "metadata": {},
   "source": [
    "The constraints are as follows:"
   ]
  },
  {
   "cell_type": "code",
   "execution_count": null,
   "metadata": {},
   "outputs": [],
   "source": [
    "car_constraints = equal_to(\n",
    "    sum_poly([q[i] for i in range(ncars)]), ncars // 2\n",
    ")  # Constraint for the number of cars after the split to be half of the original number\n",
    "people_constraints = equal_to(\n",
    "    sum_poly([q[i] for i in range(ncars, n)]), npeople // 2\n",
    ")  # Constraint for the number of people after the split to be half of the original number.\n",
    "\n",
    "# Set the strength of the constraint\n",
    "k1 = 2 * int(max([sum(D[i]) for i in range(n)])) + 3\n",
    "\n",
    "constraints = car_constraints + people_constraints\n",
    "constraints *= k1"
   ]
  },
  {
   "cell_type": "markdown",
   "metadata": {},
   "source": [
    "The final model will look like this."
   ]
  },
  {
   "cell_type": "code",
   "execution_count": null,
   "metadata": {},
   "outputs": [],
   "source": [
    "model_split = cost + constraints"
   ]
  },
  {
   "cell_type": "markdown",
   "metadata": {},
   "source": [
    "### Running the Ising machine\n",
    "As before, we run the Ising machine to solve the problem."
   ]
  },
  {
   "cell_type": "code",
   "execution_count": null,
   "metadata": {},
   "outputs": [],
   "source": [
    "result = solver.solve(model_split)\n",
    "\n",
    "if len(result) == 0:\n",
    "    # Throw an exception if no viable solution is found\n",
    "    raise RuntimeError(\"No feasible solution was found.\")\n",
    "else:\n",
    "    # If viable solutions are found, display their objective function values in order\n",
    "    for solution in result:\n",
    "        energy = solution.energy\n",
    "        values = solution.values\n",
    "        print(f\"energy = {energy}\")\n",
    "        # print(f\"q = {decode_solution(q, values)}\")"
   ]
  },
  {
   "cell_type": "markdown",
   "metadata": {},
   "source": [
    "Then we define a function to divide the distance matrix and coordinates based on the solution."
   ]
  },
  {
   "cell_type": "code",
   "execution_count": null,
   "metadata": {},
   "outputs": [],
   "source": [
    "def divide(q, D, coord, result):\n",
    "    \"\"\"Function to split the result of clustering\"\"\"\n",
    "    energy, values = result[0].energy, result[0].values\n",
    "    q_values = decode_solution(q, values, 1)\n",
    "    cluster1 = np.where(np.array(q_values) == 1)[0]\n",
    "    cluster2 = np.where(np.array(q_values) == 0)[0]\n",
    "    nc1 = len(cluster1)\n",
    "    nc2 = len(cluster2)\n",
    "    D1 = [[0] * nc1 for _ in range(nc1)]\n",
    "    D2 = [[0] * nc2 for _ in range(nc2)]\n",
    "    C1 = dict()\n",
    "    C2 = dict()\n",
    "    for i in range(nc1):\n",
    "        C1[i] = coord[cluster1[i]]\n",
    "        for j in range(nc1):\n",
    "            D1[i][j] = D[cluster1[i]][cluster1[j]]\n",
    "    for i in range(nc2):\n",
    "        C2[i] = coord[cluster2[i]]\n",
    "        for j in range(nc2):\n",
    "            D2[i][j] = D[cluster2[i]][cluster2[j]]\n",
    "    return D1, D2, C1, C2"
   ]
  },
  {
   "cell_type": "markdown",
   "metadata": {},
   "source": [
    "Next, we define a function that will draw the result of the segmentation on the map"
   ]
  },
  {
   "cell_type": "code",
   "execution_count": null,
   "metadata": {},
   "outputs": [],
   "source": [
    "def plot_split_problem(coord: list, ncars: list):\n",
    "    m = folium.Map([sum(lat) / 2, sum(lon) / 2], tiles=\"Stamen Toner\", zoom_start=12)\n",
    "\n",
    "    for i in range(len(ncars)):\n",
    "        tmp = list(coord[i].items())\n",
    "        for j, x in enumerate(tmp):\n",
    "            if j < ncars[i]:\n",
    "                folium.Marker(\n",
    "                    location=x[1][::-1],\n",
    "                    popup=f\"cluster{i}\",\n",
    "                    icon=folium.Icon(icon=\"car\", prefix=\"fa\", color=_colors[i]),\n",
    "                ).add_to(m)\n",
    "            else:\n",
    "                folium.Marker(\n",
    "                    location=x[1][::-1],\n",
    "                    popup=f\"person{i}\",\n",
    "                    icon=folium.Icon(\n",
    "                        icon=\"user\", prefix=\"fa\", color=\"white\", icon_color=_colors[i]\n",
    "                    ),\n",
    "                ).add_to(m)\n",
    "\n",
    "    return m"
   ]
  },
  {
   "cell_type": "markdown",
   "metadata": {},
   "source": [
    "Use the `plot_split_problem` function to plot the coordinates after splitting."
   ]
  },
  {
   "cell_type": "code",
   "execution_count": null,
   "metadata": {},
   "outputs": [],
   "source": [
    "D1, D2, cluster1, cluster2 = divide(q, D, index2coordinate, result)\n",
    "plot_split_problem([cluster1, cluster2], [ncars // 2, ncars - ncars // 2])"
   ]
  },
  {
   "attachments": {},
   "cell_type": "markdown",
   "metadata": {},
   "source": [
    "## Summary\n",
    "Finally, we implement the sequence of splitting the problem according to the following flow chart (again) $\\Rightarrow$ Solve the problem after splitting.\n",
    "\n",
    "![Flow chart](../figures/ride-share_clustering.png)\n",
    "\n",
    "The first step is to define a function to create a model for splitting the problem."
   ]
  },
  {
   "cell_type": "code",
   "execution_count": null,
   "metadata": {},
   "outputs": [],
   "source": [
    "def splitProblem(q, ncars, npeople, D, k1=None):\n",
    "    \"\"\"Function to create a model to partition the problem\"\"\"\n",
    "    n = ncars + npeople\n",
    "    if (\n",
    "        k1 is None\n",
    "    ):  # Set the coefficient as small as possible, since large coefficients may cause a problem\n",
    "        k1 = 2 * int(max([sum(D[i]) for i in range(n)])) + 3\n",
    "    half_cars = ncars // 2\n",
    "    half_emp = npeople // 2\n",
    "    cost = sum_poly(\n",
    "        [D[i][j] * (2 * q[i] - 1) * (2 * q[j] - 1) for i in range(n) for j in range(n)]\n",
    "    )\n",
    "    constraints = equal_to(\n",
    "        sum_poly([q[i] for i in range(ncars)]), half_cars\n",
    "    ) + equal_to(sum_poly([q[i] for i in range(ncars, n)]), half_emp)\n",
    "    model = cost + k1 * constraints\n",
    "    return model, half_cars, half_emp"
   ]
  },
  {
   "cell_type": "markdown",
   "metadata": {},
   "source": [
    "Then, define a function to model each small-scale problem generated."
   ]
  },
  {
   "cell_type": "code",
   "execution_count": null,
   "metadata": {},
   "outputs": [],
   "source": [
    "def construct(ncars, npeople, D, C, k1=None, k2=None, alpha=1):\n",
    "    \"\"\"Function to create a model for a small-scale problem after partitioning\"\"\"\n",
    "    GenSymbol = SymbolGenerator(BinaryPoly)\n",
    "    D = regularizeDistance(D)\n",
    "    q = GenSymbol.gen_symbols(npeople, ncars)\n",
    "    cost = setObjective(q, ncars, npeople, D, C, alpha=alpha)\n",
    "    constraints = setConstraints(q, ncars, npeople, C, k1=k1, k2=k2, alpha=alpha)\n",
    "    model = cost + constraints\n",
    "    return model, q"
   ]
  },
  {
   "cell_type": "markdown",
   "metadata": {},
   "source": [
    "Next, we define a function to integrate the optimization results of the small-scale problem."
   ]
  },
  {
   "cell_type": "code",
   "execution_count": null,
   "metadata": {},
   "outputs": [],
   "source": [
    "def make_data(coord, q_values, C, last=0, data=None, nframe=1):\n",
    "    if data is None:\n",
    "        columns = [\"latitude\", \"longitude\", \"size\", \"name\", \"time\", \"color\"]\n",
    "        data = {label: list() for label in columns}\n",
    "    npeople = len(q_values)\n",
    "    ncars = len(q_values[0])\n",
    "    answer = dict()\n",
    "    for i in range(npeople):\n",
    "        car = np.where(np.array(q_values[i]) == 1)[0][-1]\n",
    "        if car not in answer:\n",
    "            answer[car] = []\n",
    "        answer[car].append(i + ncars)\n",
    "\n",
    "    loc = [[], []]\n",
    "    for k in range(ncars):\n",
    "        status = \"active\"\n",
    "        car_loc = coord[k]\n",
    "        if k in answer:\n",
    "            tmp = answer[k]\n",
    "            x = [coord[p][0] for p in tmp] + [car_loc[0]]\n",
    "            y = [coord[p][1] for p in tmp] + [car_loc[1]]\n",
    "        else:\n",
    "            x = car_loc[:1]\n",
    "            y = car_loc[1:]\n",
    "            status = \"empty\"\n",
    "        loc[0] += y\n",
    "        loc[1] += x\n",
    "        for i in range(nframe):\n",
    "            data[\"latitude\"] += list(\n",
    "                map(lambda a: ((nframe - i) * a + y[-1] * i) / nframe, y)\n",
    "            )\n",
    "            data[\"longitude\"] += list(\n",
    "                map(lambda a: ((nframe - i) * a + x[-1] * i) / nframe, x)\n",
    "            )\n",
    "            data[\"size\"] += [0.5] * (len(x) - 1) + [3]\n",
    "            data[\"name\"] += [f\"group{k+last}({status})\"] * len(x)\n",
    "            data[\"time\"] += [i] * len(x)\n",
    "            data[\"color\"] += [_colors[k + last]] * len(x)\n",
    "    return data"
   ]
  },
  {
   "cell_type": "code",
   "execution_count": null,
   "metadata": {},
   "outputs": [],
   "source": [
    "def plot_final_result(data):\n",
    "    m = folium.Map([sum(lat) / 2, sum(lon) / 2], tiles=\"Stamen Toner\", zoom_start=12)\n",
    "    df = pd.DataFrame(data)\n",
    "    for _name in data[\"name\"]:\n",
    "        tmp = df[df[\"name\"] == _name]\n",
    "        x = list(tmp[\"longitude\"])\n",
    "        y = list(tmp[\"latitude\"])\n",
    "        folium.Marker(\n",
    "            location=[y[-1], x[-1]],\n",
    "            popup=f\"cluster_{_name}\",\n",
    "            icon=folium.Icon(icon=\"car\", prefix=\"fa\", color=list(tmp[\"color\"])[-1]),\n",
    "        ).add_to(m)\n",
    "        for a, b, c in zip(y[:-1], x[:-1], list(tmp[\"color\"])[:-1]):\n",
    "            folium.Marker(\n",
    "                location=[a, b],\n",
    "                popup=f\"person_{_name}\",\n",
    "                icon=folium.Icon(icon=\"user\", prefix=\"fa\", color=\"white\", icon_color=c),\n",
    "            ).add_to(m)\n",
    "    return m"
   ]
  },
  {
   "cell_type": "markdown",
   "metadata": {},
   "source": [
    "Then, we create a `namedtuple` that manages the parameter $\\alpha$ (which sets the strength of the term regarding the number of cars) that controls the size of the problem after splitting.  \n",
    "Here, we divide the problem up to 50 bits."
   ]
  },
  {
   "cell_type": "code",
   "execution_count": null,
   "metadata": {},
   "outputs": [],
   "source": [
    "from collections import namedtuple\n",
    "\n",
    "Parameter = namedtuple(\"Config\", (\"bit_size\", \"alpha\"))\n",
    "\n",
    "param = Parameter(bit_size=50, alpha=10)"
   ]
  },
  {
   "cell_type": "markdown",
   "metadata": {},
   "source": [
    "We solve the problem by using the `solve` function defined below.  \n",
    "\n",
    "The first step is to divide the problem into parts until the size of the problem becomes small enough, and then solve the divided problem.  \n",
    "The number of bits required for the small-scale problem is (number of cars) * (number of users + number of possible passengers),   \n",
    "so as long as this value is greater than a predetermined value (50 in this case), two classes will be clustered."
   ]
  },
  {
   "cell_type": "code",
   "execution_count": null,
   "metadata": {},
   "outputs": [],
   "source": [
    "from collections import deque\n",
    "from IPython.display import display\n",
    "import pandas as pd\n",
    "\n",
    "\n",
    "def solve(ncars, npeople, D, C, coord, param, debug=False):\n",
    "    print(\"Problem setting\")\n",
    "    display(simple_plot(coord, ncars))\n",
    "    client = FixstarsClient()\n",
    "    client.parameters.timeout = 200  # Time limit\n",
    "    solver = Solver(client)\n",
    "    print(\"Splitting the problem...\", end=\"\")\n",
    "    queue = deque([(ncars, npeople, D, coord)])\n",
    "    while (queue[0][1] + C) * queue[0][0] > param.bit_size:\n",
    "        (ncars, npeople, D, coord) = queue.popleft()\n",
    "\n",
    "        GenSymbol = SymbolGenerator(BinaryPoly)\n",
    "        q = GenSymbol.gen_symbols(ncars + npeople)\n",
    "\n",
    "        model, ncars1, npeople1 = splitProblem(q, ncars, npeople, D)\n",
    "        result = solver.solve(model)\n",
    "        if len(result) == 0:\n",
    "            raise RuntimeError(\"No feasible solution was found.\")\n",
    "        D1, D2, C1, C2 = divide(q, D, coord, result)\n",
    "        queue.append((ncars1, npeople1, D1, C1))\n",
    "        queue.append((ncars - ncars1, npeople - npeople1, D2, C2))\n",
    "    print(\"Completed\")\n",
    "    print(\"Describing the results...\", end=\"\")\n",
    "    m = plot_split_problem([x[-1] for x in queue], [x[0] for x in queue])\n",
    "    display(m)\n",
    "    print(\"Completed\")\n",
    "\n",
    "    print(\"Solving the problem after the split...\")\n",
    "    client = FixstarsClient()\n",
    "    client.parameters.timeout = 1000  # Time limit\n",
    "    solver = Solver(client)\n",
    "    index = 0\n",
    "    last = 0\n",
    "    data = None\n",
    "    while queue:\n",
    "        index += 1\n",
    "        (ncars, npeople, D, coord) = queue.pop()\n",
    "        model, q = construct(ncars, npeople, D, C, alpha=param.alpha)\n",
    "        result = solver.solve(model)\n",
    "        if len(result) == 0:\n",
    "            raise RuntimeError(\"No feasible solution was found.\")\n",
    "        print(f\"The small-scale problem {index} was solved\")\n",
    "        energy, values = result[0].energy, result[0].values\n",
    "        q_values = decode_solution(q, values, 1)\n",
    "        data = make_data(coord, q_values, C, data=data, last=last)\n",
    "        last += ncars\n",
    "    print(\"Describing the results...\")\n",
    "    m = plot_final_result(data)\n",
    "    display(m)"
   ]
  },
  {
   "cell_type": "markdown",
   "metadata": {},
   "source": [
    "Let's solve it."
   ]
  },
  {
   "cell_type": "code",
   "execution_count": null,
   "metadata": {},
   "outputs": [],
   "source": [
    "problem = generate_problem(lon, lat, parking, C=12, seed=0)"
   ]
  },
  {
   "cell_type": "code",
   "execution_count": null,
   "metadata": {},
   "outputs": [],
   "source": [
    "solve(*problem, param)"
   ]
  },
  {
   "cell_type": "code",
   "execution_count": null,
   "metadata": {},
   "outputs": [],
   "source": []
  }
 ],
 "metadata": {
  "language_info": {
   "name": "python",
   "pygments_lexer": "ipython3"
  }
 }
}
