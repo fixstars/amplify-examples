{
 "cells": [
  {
   "cell_type": "markdown",
   "id": "18d29b19",
   "metadata": {},
   "source": [
    "# Example NP problems published in A. Lucas, *Front. Phys.* (2014) - Job sequencing problem with integer lengths\n",
    "\n",
    "This example code implements the **job sequencing problem with integer lengths** introduced in the paper [A. Lucas, \"Ising formulations of many NP problems\", *Front. Phys.* (2014)](https://www.frontiersin.org/articles/10.3389/fphy.2014.00005/full) using Fixstars Amplify. Other NP-complete and NP-hard problems introduced in the same paper are also discussed below (the corresponding sections in the paper are shown in the brackets).\n",
    "\n",
    "- [Graph partitioning problem](https://amplify.fixstars.com/en/demo/lucas2014_2_2_graph_partitioning) (Sec. 2.2).\n",
    "- [Maximum clique problem](https://amplify.fixstars.com/en/demo/lucas2014_2_3_cliques) (Sec. 2.3)\n",
    "- [Exact cover problem](https://amplify.fixstars.com/en/demo/lucas2014_4_1_exact_cover) (Sec. 4.1)\n",
    "- [Set packing problem](https://amplify.fixstars.com/en/demo/lucas2014_4_2_set_packing) (Sec. 4.2)\n",
    "- [Minimum vertex cover problem](https://amplify.fixstars.com/en/demo/lucas2014_4_3_vertex_cover) (Sec. 4.3)\n",
    "- [Satisfiability problem (SAT)](https://amplify.fixstars.com/en/demo/lucas2014_4_4_satisfiability) (Sec. 4.4)\n",
    "- [Minimum maximum matching problem](https://amplify.fixstars.com/en/demo/lucas2014_4_5_minimal_maximal_matching) (Sec. 4.5)\n",
    "- [Graph coloring problem](https://amplify.fixstars.com/en/demo/lucas2014_6_1_graph_coloring) (Sec. 6.1)\n",
    "- [Clique cover problem](https://amplify.fixstars.com/en/demo/lucas2014_6_2_clique_cover) (Sec. 6.2)\n",
    "- **Job sequencing problem with integer lengths** (Sec. 6.3)\n",
    "- [Hamiltonian cycle problem](https://amplify.fixstars.com/en/demo/lucas2014_7_1_hamiltonian_cycles_and_paths) (Sec. 7.1)\n",
    "- [Directed feedback vertex set problem](https://amplify.fixstars.com/en/demo/lucas2014_8_3_directed_feedback_vertex_set) (Sec. 8.3)\n",
    "- [Minimum feedback edge set problem](https://amplify.fixstars.com/en/demo/lucas2014_8_5_feedback_edge_set) (Sec. 8.5)\n",
    "- [Graph isomorphism problem](https://amplify.fixstars.com/en/demo/lucas2014_9_graph_isomorphisms) (Sec. 9)"
   ]
  },
  {
   "cell_type": "markdown",
   "id": "b2b767d0",
   "metadata": {},
   "source": [
    "## Job sequencing problem\n",
    "\n",
    "Suppose you have $N$ jobs, and you know how long each job will take. There are $M$ machines that can run those jobs, and we assign each of the $N$ jobs to one of the machines. The idea is to find the allocation that gives the fastest time for all jobs to complete.\n",
    "\n",
    "However, each machine executes its assigned jobs serially. That is, a machine cannot have multiple jobs running simultaneously. We also assume that the time taken for each job is an integer.\n",
    "\n",
    "For example, if you have three jobs that take one hour each, and you have two machines, and you assign two jobs to one machine and one job to the other, it will take two hours for all jobs to complete. And since it is impossible to complete all jobs in less than two hours, this is the optimal solution.\n",
    "\n",
    "Here, we create a program that solves this job sequencing problem using Fixstars Amplify. The formulation follows the one in section 6.3 of [A. Lucas, Front. Phys. (2014)](https://www.frontiersin.org/articles/10.3389/fphy.2014.00005/full)."
   ]
  },
  {
   "cell_type": "markdown",
   "id": "ba0333c8",
   "metadata": {},
   "source": [
    "## Problem definition\n",
    "\n",
    "First, we create an example problem. Let us determine the number of jobs, the number of machines, and the time each job will take."
   ]
  },
  {
   "cell_type": "code",
   "execution_count": null,
   "id": "5729c9a1",
   "metadata": {},
   "outputs": [],
   "source": [
    "import numpy as np\n",
    "\n",
    "# Number of machines\n",
    "M = 3\n",
    "\n",
    "# Number of jobs\n",
    "N = 7\n",
    "\n",
    "# Times each job will take\n",
    "job_lengths = np.array([7, 5, 3, 2, 2, 2, 2])\n",
    "\n",
    "assert N == len(job_lengths)"
   ]
  },
  {
   "cell_type": "markdown",
   "id": "0f55eacb",
   "metadata": {},
   "source": [
    "## Formulation\n",
    "\n",
    "Hereafter, let $L_i$ be the time to complete the $i$-th job.\n",
    "\n",
    "\n",
    "### Formulation guidelines\n",
    "\n",
    "Prepare a binary variable table $q$ of $N\\times M$ to represent which machine to run each job on.\n",
    "When machine $j$ deals with the $i$-th job, the $i$ row $j$ column of $q$ should be $1$.\n",
    "\n",
    "For example, suppose we have the following job schedule.\n",
    "\n",
    "\n",
    "| Job   | Machine   |\n",
    "| ----- | --------- |\n",
    "| Job 0 | Machine 0 |\n",
    "| Job 1 | Machine 2 |\n",
    "| Job 2 | Machine 2 |\n",
    "| Job 3 | Machine 1 |\n",
    "| Job 4 | Machine 1 |\n",
    "| Job 5 | Machine 1 |\n",
    "| Job 6 | Machine 1 |\n",
    "\n",
    "The above job schedule can be represented by the variable table $q$ below.\n",
    "\n",
    "|  $q$  | Machine 0 | Machine 1 | Machine 2 |\n",
    "| :---: | :-------: | :-------: | :-------: |\n",
    "| Job 0 |     1     |     0     |     0     |\n",
    "| Job 1 |     0     |     0     |     1     |\n",
    "| Job 2 |     0     |     0     |     1     |\n",
    "| Job 3 |     0     |     1     |     0     |\n",
    "| Job 4 |     0     |     1     |     0     |\n",
    "| Job 5 |     0     |     1     |     0     |\n",
    "| Job 6 |     0     |     1     |     0     |\n",
    "\n",
    "\n",
    "Also, to make it easier to understand what the maximum execution time to minimize is, we will assign jobs so that machine $0$ always has the longest execution time.\n",
    "\n",
    "### Objective function\n",
    "\n",
    "Since we assign jobs so that the runtime of machine $0$ is longer than the runtimes of the other machines,\n",
    "the time it takes to complete all jobs is equal to the execution time of machine $0$. Therefore, the objective function should be the execution time of machine $0$, i.e., the sum of the time taken by the jobs assigned to machine $0$. This can be done using the time $L_i$ taken for the job $i$:\n",
    "\n",
    "$$\n",
    "\\sum_{i = 0}^{N - 1} q_{i, 0} L_i.\n",
    "$$\n",
    "\n",
    "### Constraints\n",
    "\n",
    "$q$ must satisfy the following.\n",
    "\n",
    "* Condition 1: Each job is assigned to one machine. That is, each row of $q$ has precisely $1$.\n",
    "* Condition 2: For each machine, its execution time is less than machine $0$.\n",
    "\n",
    "We can express condition 1 as: \n",
    "\n",
    "$$\n",
    "\\sum_{j = 0}^{M-1} q_{i, j} = 1 \\quad \\text{for} \\quad i \\in \\{0, 1, \\ldots, N-1\\}.\n",
    "$$\n",
    "\n",
    "Also, since the runtime of machine $j$ can be expressed as $\\sum_{i = 0}^{N - 1} q_{i, j} L_i$, the condition 2 is\n",
    "\n",
    "$$\n",
    "\\sum_{i = 0}^{N - 1} L_i q_{i, j} \\leq \\sum_{i = 0}^{N - 1} q_{i, 0} L_i \\quad \\text{for} \\quad j \\in \\{1, 2, \\ldots, M - 1\\}.\n",
    "$$\n",
    "\n",
    "Conversely, when conditions 1 and 2 are satisfied, $q$ represents the job assignment, and the objective function is equal to the time until all jobs are completed."
   ]
  },
  {
   "cell_type": "markdown",
   "id": "7e3a34c4",
   "metadata": {},
   "source": [
    "## Implementation\n",
    "\n",
    "Using the problem and formulation described above, let us implement and solve the problem.\n",
    "First, we create a $N\\times M$ binary variables array $q$ using `BinarySymbolGenerator` in Fixstars Amplify SDK."
   ]
  },
  {
   "cell_type": "code",
   "execution_count": null,
   "id": "643ae476",
   "metadata": {},
   "outputs": [],
   "source": [
    "from amplify import VariableGenerator\n",
    "\n",
    "gen = VariableGenerator()\n",
    "q = gen.array(\"Binary\", shape=(N, M))"
   ]
  },
  {
   "cell_type": "markdown",
   "id": "16780eb5",
   "metadata": {},
   "source": [
    "Next, a list of the total execution time for each machine, expressed by the above `q` is created. The total execution time for machine $j$ is represented by $\\displaystyle \\sum_{i = 0}^{N - 1} q_{i, j} L_i$. The $L$ in this expression is an array representing the time spent on each job, which in code is a NumPy array named `job_lengths`.\n"
   ]
  },
  {
   "cell_type": "code",
   "execution_count": null,
   "id": "cc061c67",
   "metadata": {},
   "outputs": [],
   "source": [
    "from amplify import PolyArray, einsum\n",
    "\n",
    "execution_times: PolyArray = einsum(\"i,ij->j\", job_lengths, q)  # type:ignore"
   ]
  },
  {
   "cell_type": "markdown",
   "id": "22d338aa",
   "metadata": {},
   "source": [
    "Next, we construct the objective function. As explained earlier, the objective function equals the total run time of machine $0$."
   ]
  },
  {
   "cell_type": "code",
   "execution_count": null,
   "id": "91328d4d",
   "metadata": {},
   "outputs": [],
   "source": [
    "cost = execution_times[0]"
   ]
  },
  {
   "cell_type": "markdown",
   "id": "35057f92",
   "metadata": {},
   "source": [
    "Now, we create a constraint condition corresponding to condition 1. Condition 1 is a constraint that is \"each job is assigned to exactly $1$ machines\", meaning that there is only one $1$ in each row of $q$."
   ]
  },
  {
   "cell_type": "code",
   "execution_count": null,
   "id": "0ae2ff11",
   "metadata": {},
   "outputs": [],
   "source": [
    "from amplify import one_hot\n",
    "\n",
    "constraint1 = one_hot(q, axis=1)"
   ]
  },
  {
   "cell_type": "markdown",
   "id": "f0b909de",
   "metadata": {},
   "source": [
    "Let us construct a constraint condition corresponding to condition 2. Condition 2 is the condition that the execution time of machine $0$ is greater than or equal to the execution time of the other machines. Note that passing an empty tuple to the `axis` parameter of the `less_equal` function will create constraints for each element of the PolyArray at once."
   ]
  },
  {
   "cell_type": "code",
   "execution_count": null,
   "id": "de7b47d4",
   "metadata": {},
   "outputs": [],
   "source": [
    "from amplify import less_equal\n",
    "\n",
    "constraint2 = less_equal(execution_times[1:] - execution_times[0], 0, axis=())"
   ]
  },
  {
   "cell_type": "markdown",
   "id": "d777f299",
   "metadata": {},
   "source": [
    "Now, we convert the created objective function and constraints together into an optimization model."
   ]
  },
  {
   "cell_type": "code",
   "execution_count": null,
   "id": "73a5344f",
   "metadata": {},
   "outputs": [],
   "source": [
    "model = cost + constraint1 + constraint2"
   ]
  },
  {
   "cell_type": "markdown",
   "id": "9ad2ce85",
   "metadata": {},
   "source": [
    "The number of input variables used in the present problem is $N \\times M = 21$, but the `model` created above contains inequality constraints, so when it is converted to a logical model [auxiliary variables are added](https://amplify.fixstars.com/ja/docs/amplify/v1/penalty.html#ineq-penalty). As a result, the number of logical variables is more significant than the number of binary decision variables included in $q$.\n"
   ]
  },
  {
   "cell_type": "markdown",
   "id": "4c3d8cfb",
   "metadata": {},
   "source": [
    "Let us set the client and execute the solver with Fixstars Amplify Annealing Engine (AE). "
   ]
  },
  {
   "cell_type": "code",
   "execution_count": null,
   "id": "d6e91305",
   "metadata": {},
   "outputs": [],
   "source": [
    "from amplify import FixstarsClient, solve\n",
    "from datetime import timedelta\n",
    "\n",
    "client = FixstarsClient()\n",
    "# client.token = \"xxxxxxxxxxxxxxxxxxxxxxxxxxxxxxxx\"  # If you use Amplify in a local environment or Google Colaboratory, enter your Amplify API token.\n",
    "client.parameters.timeout = timedelta(milliseconds=1000)  # timeout is 1000 ms\n",
    "\n",
    "# Solve the problem\n",
    "result = solve(model, client)"
   ]
  },
  {
   "cell_type": "markdown",
   "id": "9813d8f8",
   "metadata": {},
   "source": [
    "Since Amplify SDK automatically filters the solutions that satisfy the constraints, if the `result` is not empty, you know that there is a solution that satisfies the constraints."
   ]
  },
  {
   "cell_type": "code",
   "execution_count": null,
   "id": "6005a9a7",
   "metadata": {},
   "outputs": [],
   "source": [
    "if len(result) == 0:\n",
    "    print(\"No solution has been found.\")\n",
    "else:\n",
    "    print(\"A solution has been found.\")"
   ]
  },
  {
   "cell_type": "markdown",
   "id": "478eb657",
   "metadata": {},
   "source": [
    "Since the time for all jobs to complete is equal to the value of the objective function, it can be checked as follows."
   ]
  },
  {
   "cell_type": "code",
   "execution_count": null,
   "id": "39ade096",
   "metadata": {},
   "outputs": [],
   "source": [
    "result.best.objective"
   ]
  },
  {
   "cell_type": "markdown",
   "id": "29fb8873",
   "metadata": {},
   "source": [
    "Lastly, we will visualize the solution."
   ]
  },
  {
   "cell_type": "code",
   "execution_count": null,
   "id": "0f15952a",
   "metadata": {},
   "outputs": [],
   "source": [
    "import matplotlib.pyplot as plt\n",
    "\n",
    "values = q.evaluate(result.best.values)\n",
    "assigned_machines = np.where(values == 1)[1]\n",
    "\n",
    "# Draw x-axis\n",
    "plt.xticks(range(M), [f\"machine {i}\" for i in range(M)])\n",
    "\n",
    "# Vizualize the solution\n",
    "bottom = np.zeros(M)\n",
    "for i, j in enumerate(assigned_machines):\n",
    "    bar = plt.bar(j, job_lengths[i], bottom=bottom[j])\n",
    "    plt.bar_label(bar, labels=[f\"job {i}\"], label_type=\"center\")\n",
    "    bottom[j] += job_lengths[i]"
   ]
  }
 ],
 "metadata": {
  "language_info": {
   "name": "python",
   "pygments_lexer": "ipython3"
  }
 },
 "nbformat": 4,
 "nbformat_minor": 5
}
