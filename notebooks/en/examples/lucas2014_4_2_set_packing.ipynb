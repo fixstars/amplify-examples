{
 "cells": [
  {
   "cell_type": "markdown",
   "id": "cb5d7215",
   "metadata": {},
   "source": [
    "# Example NP problems published in A. Lucas, *Front. Phys.* (2014) - Set packing problem\n",
    "\n",
    "This example code implements the **set packing problem** introduced in the paper [A. Lucas, \"Ising formulations of many NP problems\", *Front. Phys.* (2014)](https://www.frontiersin.org/articles/10.3389/fphy.2014.00005/full) using Fixstars Amplify. Other NP-complete and NP-hard problems introduced in the same paper are also discussed below (the corresponding sections in the paper are shown in the brackets).\n",
    "\n",
    "- [Graph partitioning problem](https://amplify.fixstars.com/en/demo/lucas2014_2_2_graph_partitioning) (Sec. 2.2).\n",
    "- [Maximum clique problem](https://amplify.fixstars.com/en/demo/lucas2014_2_3_cliques) (Sec. 2.3)\n",
    "- [Exact cover problem](https://amplify.fixstars.com/en/demo/lucas2014_4_1_exact_cover) (Sec. 4.1)\n",
    "- **Set packing problem** (Sec. 4.2)\n",
    "- [Minimum vertex cover problem](https://amplify.fixstars.com/en/demo/lucas2014_4_3_vertex_cover) (Sec. 4.3)\n",
    "- [Satisfiability problem (SAT)](https://amplify.fixstars.com/en/demo/lucas2014_4_4_satisfiability) (Sec. 4.4)\n",
    "- [Minimal maximal matching problem](https://amplify.fixstars.com/en/demo/lucas2014_4_5_minimal_maximal_matching) (Sec. 4.5)\n",
    "- [Graph coloring problem](https://amplify.fixstars.com/en/demo/lucas2014_6_1_graph_coloring) (Sec. 6.1)\n",
    "- [Clique cover problem](https://amplify.fixstars.com/en/demo/lucas2014_6_2_clique_cover) (Sec. 6.2)\n",
    "- [Job sequencing problem with integer lengths](https://amplify.fixstars.com/en/demo/lucas2014_6_3_job_sequencing_with_integer_lengths) (Sec. 6.3)\n",
    "- [Hamiltonian cycle problem](https://amplify.fixstars.com/en/demo/lucas2014_7_1_hamiltonian_cycles_and_paths) (Sec. 7.1)\n",
    "- [Directed feedback vertex set problem](https://amplify.fixstars.com/en/demo/lucas2014_8_3_directed_feedback_vertex_set) (Sec. 8.3)\n",
    "- [Minimum feedback edge set problem](https://amplify.fixstars.com/en/demo/lucas2014_8_5_feedback_edge_set) (Sec. 8.5)\n",
    "- [Graph isomorphism problem](https://amplify.fixstars.com/en/demo/lucas2014_9_graph_isomorphisms) (Sec. 9)\n"
   ]
  },
  {
   "cell_type": "markdown",
   "id": "de9d2840",
   "metadata": {},
   "source": [
    "## Set packing problem\n",
    "\n",
    "Suppose there is a set $S$ and given subsets $T_0, T_1, \\ldots, T_{N-1}$ of $S$. The problem of selecting some of $T_0, T_1, \\dots, T_{N-1}$ so that they have no common parts and making the sum of the number of elements of the selected subsets as large as possible is called the **set packing problem**.\n",
    "\n",
    "For example, consider the case shown in the figure below where $S = \\{1, 2, 3, 4, 5, 6, 7, 8, 9\\}$ and $T_0 = \\{1, 2, 3, 6, 9\\}$, $T_1 = \\{1, 2, 5, 8\\}$, $T_2 = \\{4, 7\\}$, $T_3 = \\{4, 5\\}$ and $T_4 = \\{6, 9\\}$ as the subsets. In this case, if $T_1$, $T_2$, and $T_4$ are chosen, the sum of the number of elements is $8$, which is the maximum. On the other hand, since $T_0$ and $T_1$, for example, have a common part, they cannot be chosen at the same time.\n",
    "\n",
    "![Figure](../figures/Lucas2014/set_packing0.png)\n",
    "\n",
    "This example program uses Fixstars Amplify to solve the set packing problem. The formulation follows that of Sec. 4.2 of [A. Lucas, Front. Phys. (2014)](https://www.frontiersin.org/articles/10.3389/fphy.2014.00005/full)."
   ]
  },
  {
   "cell_type": "markdown",
   "id": "001d5374",
   "metadata": {},
   "source": [
    "## Problem definition\n",
    "\n",
    "As an example, we implement the above problem setting as follows."
   ]
  },
  {
   "cell_type": "code",
   "execution_count": null,
   "id": "46ff9185",
   "metadata": {},
   "outputs": [],
   "source": [
    "S = [1, 2, 3, 4, 5, 6, 7, 8, 9]  # Set S\n",
    "T = [[1, 2, 3, 6, 9], [1, 2, 5, 8], [4, 7], [4, 5], [6, 9]]  # Subsets of S"
   ]
  },
  {
   "cell_type": "markdown",
   "id": "f3d81db3",
   "metadata": {},
   "source": [
    "## Formulation\n",
    "\n",
    "### Decision variables\n",
    "\n",
    "Let $N$ binary variables $q$ correspond to $T_0, T_1, \\ldots, T_{N-1}$ to indicate whether to select the corresponding subset $T_i$. If we choose $T_i$, $q_i$ is $1$; if not, $0$.\n",
    "\n",
    "For example, when choosing three subsets of $T_1$, $T_2$, and $T_4$, the decision variable $q$ is as follows\n",
    "\n",
    "| Subset | $$T_0$$ | $$T_1$$ | $$T_2$$ | $$T_3$$ | $$T_4$$ |\n",
    "| :----: | ------- | ------- | ------- | ------- | ------- |\n",
    "| $$q$$  | 0       | 1       | 1       | 0       | 1       |\n",
    "\n",
    "### Objective function\n",
    "\n",
    "Since we want the sum of the number of elements in the chosen subsets to be as large as possible, the objective function is:\n",
    "\n",
    "$$\n",
    "-\\sum_{i = 0}^{N - 1} q_i \\cdot (\\# T_i).\n",
    "$$\n",
    "\n",
    "Here, $\\# T_i$ is the number of elements in $T_i$. The minus sign is to convert the maximization problem into a minimization problem.\n",
    "\n",
    "### Constraints\n",
    "\n",
    "We need to impose the condition that \"the chosen subsets have no overlap\" on $q$:\n",
    "\n",
    "$$\n",
    "q_i q_j = 0 \\quad \\text{if} \\quad T_i\\ \\text{and} \\ T_j \\  \\text{overlap}.\n",
    "$$"
   ]
  },
  {
   "cell_type": "markdown",
   "id": "f12f2fb5",
   "metadata": {},
   "source": [
    "## Implementation\n",
    "\n",
    "Using the problem and formulation described above, let us implement and solve the problem. First, create as many binary variables $q$ as there are subsets using the `BinarySymbolGenerator` in the Fixstars Amplify SDK."
   ]
  },
  {
   "cell_type": "code",
   "execution_count": null,
   "id": "640e2c31",
   "metadata": {},
   "outputs": [],
   "source": [
    "from amplify import BinarySymbolGenerator\n",
    "\n",
    "N = len(T)\n",
    "\n",
    "gen = BinarySymbolGenerator()\n",
    "q = gen.array(N)"
   ]
  },
  {
   "cell_type": "markdown",
   "id": "5f30ff61",
   "metadata": {},
   "source": [
    "Next, we implement the objective function. As mentioned above, the objective function is written as $-\\sum_{i = 0}^{N - 1} q_i \\cdot (\\# T_i)$, which can be implemented as follows."
   ]
  },
  {
   "cell_type": "code",
   "execution_count": null,
   "id": "c603d302",
   "metadata": {},
   "outputs": [],
   "source": [
    "import numpy as np\n",
    "\n",
    "subset_lengths = np.array([len(t) for t in T])  # Array of (#T_i)\n",
    "cost = -(q * subset_lengths).sum()"
   ]
  },
  {
   "cell_type": "markdown",
   "id": "d80d0a9e",
   "metadata": {},
   "source": [
    "The next step is to implement the constraints. We can write the constraints follows:\n",
    "\n",
    "$$\n",
    "q_i q_j = 0 \\ \\bigl(\\text{if} \\:\\: T_i \\:\\: \\text{and} \\:\\: T_j \\:\\: \\text{overlap}\\bigr).\n",
    "$$"
   ]
  },
  {
   "cell_type": "code",
   "execution_count": null,
   "id": "a0935527",
   "metadata": {},
   "outputs": [],
   "source": [
    "from amplify.constraint import equal_to\n",
    "import itertools\n",
    "\n",
    "\n",
    "def overlap(t_i, t_j):\n",
    "    return len(set(t_i) & set(t_j)) > 0\n",
    "\n",
    "\n",
    "constraint = [\n",
    "    equal_to(q[i] * q[j], 0)\n",
    "    for i, j in itertools.combinations(range(N), 2)\n",
    "    if overlap(T[i], T[j])\n",
    "]"
   ]
  },
  {
   "cell_type": "markdown",
   "id": "848366c7",
   "metadata": {},
   "source": [
    "Now, we combine the created objective function and constraints into a logical model.\n",
    "\n",
    "The constraints are given to the Ising machine as penalty functions for the objective function. Thus, we need to appropriately set a weight for the constraints, which can be determined by estimating values equivalent to or slightly larger than the possible values of the objective function. In this case, the weights for the constraints are $\\max(\\#T_i)$."
   ]
  },
  {
   "cell_type": "code",
   "execution_count": null,
   "id": "e0e2013c",
   "metadata": {},
   "outputs": [],
   "source": [
    "model = cost + np.max(subset_lengths) * sum(constraint)"
   ]
  },
  {
   "cell_type": "markdown",
   "id": "f91a455b",
   "metadata": {},
   "source": [
    "Let us set the client and execute the solver with Fixstars Amplify Annealing Engine (AE). Since `Solver` automatically filters the solutions that satisfy the constraints, if the `result` is not empty, you know that there is a solution that satisfies the constraints."
   ]
  },
  {
   "cell_type": "code",
   "execution_count": null,
   "id": "06643430",
   "metadata": {},
   "outputs": [],
   "source": [
    "from amplify.client import FixstarsClient\n",
    "from amplify import Solver\n",
    "\n",
    "client = FixstarsClient()\n",
    "# client.token = \"xxxxxxxxxxxxxxxxxxxxxxxxxxxxxxxx\"  # If you use Amplify in a local environment or Google Colaboratory, enter your Amplify API token.\n",
    "client.parameters.timeout = 1000\n",
    "\n",
    "# Define and execute the solver\n",
    "solver = Solver(client)\n",
    "result = solver.solve(model)\n",
    "\n",
    "if len(result) == 0:\n",
    "    print(\"No solution has been found.\")\n",
    "else:\n",
    "    print(\"A solution has been found.\")"
   ]
  },
  {
   "cell_type": "markdown",
   "id": "6d950e5d",
   "metadata": {},
   "source": [
    "Finally, let us visualize the results. You can also try different sets $S$ or its subsets $T_i$."
   ]
  },
  {
   "cell_type": "code",
   "execution_count": null,
   "id": "17f526d6",
   "metadata": {},
   "outputs": [],
   "source": [
    "print(f\"Sum of the element: {int(-result[0].energy)}\")\n",
    "values = q.decode(result[0].values)\n",
    "for i in np.where(values == 1)[0]:\n",
    "    print(f\"T{i} : {T[i]}\")"
   ]
  }
 ],
 "metadata": {
  "language_info": {
   "name": "python",
   "pygments_lexer": "ipython3"
  }
 },
 "nbformat": 4,
 "nbformat_minor": 5
}
