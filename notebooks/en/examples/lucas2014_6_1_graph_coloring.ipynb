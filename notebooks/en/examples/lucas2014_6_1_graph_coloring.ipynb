{
 "cells": [
  {
   "cell_type": "markdown",
   "id": "9ea00b6d",
   "metadata": {},
   "source": [
    "# Example NP problems published in A. Lucas, *Front. Phys.* (2014) - Graph coloring problem\n",
    "\n",
    "This example code implements the **graph coloring problem** introduced in the paper [A. Lucas, \"Ising formulations of many NP problems\", *Front. Phys.* (2014)](https://www.frontiersin.org/articles/10.3389/fphy.2014.00005/full) using Fixstars Amplify. Other NP-complete and NP-hard problems introduced in the same paper are also discussed below (the corresponding sections in the paper are shown in the brackets).\n",
    "\n",
    "- [Graph partitioning problem](https://amplify.fixstars.com/en/demo/lucas2014_2_2_graph_partitioning) (Sec. 2.2).\n",
    "- [Maximum clique problem](https://amplify.fixstars.com/en/demo/lucas2014_2_3_cliques) (Sec. 2.3)\n",
    "- [Exact cover problem](https://amplify.fixstars.com/en/demo/lucas2014_4_1_exact_cover) (Sec. 4.1)\n",
    "- [Set packing problem](https://amplify.fixstars.com/en/demo/lucas2014_4_2_set_packing) (Sec. 4.2)\n",
    "- [Minimum vertex cover problem](https://amplify.fixstars.com/en/demo/lucas2014_4_3_vertex_cover) (Sec. 4.3)\n",
    "- [Satisfiability problem (SAT)](https://amplify.fixstars.com/en/demo/lucas2014_4_4_satisfiability) (Sec. 4.4)\n",
    "- [Minimal maximal matching problem](https://amplify.fixstars.com/en/demo/lucas2014_4_5_minimal_maximal_matching) (Sec. 4.5)\n",
    "- **Graph coloring problem** (Sec. 6.1)\n",
    "- [Clique cover problem](https://amplify.fixstars.com/en/demo/lucas2014_6_2_clique_cover) (Sec. 6.2)\n",
    "- [Job sequencing problem with integer lengths](https://amplify.fixstars.com/en/demo/lucas2014_6_3_job_sequencing_with_integer_lengths) (Sec. 6.3)\n",
    "- [Hamiltonian cycle problem](https://amplify.fixstars.com/en/demo/lucas2014_7_1_hamiltonian_cycles_and_paths) (Sec. 7.1)\n",
    "- [Directed feedback vertex set problem](https://amplify.fixstars.com/en/demo/lucas2014_8_3_directed_feedback_vertex_set) (Sec. 8.3)\n",
    "- [Minimum feedback edge set problem](https://amplify.fixstars.com/en/demo/lucas2014_8_5_feedback_edge_set) (Sec. 8.5)\n",
    "- [Graph isomorphism problem](https://amplify.fixstars.com/en/demo/lucas2014_9_graph_isomorphisms) (Sec. 9)"
   ]
  },
  {
   "cell_type": "markdown",
   "id": "5e786346",
   "metadata": {},
   "source": [
    "## Graph coloring problem\n",
    "\n",
    "For a graph $G$ and a natural number $K$, the problem of determining whether the vertices of $G$ can be painted with $K$ colors so that two vertices connected by an edge do not have the same color is called the **graph coloring problem**.\n",
    "\n",
    "For example, in the following diagram, the vertices of $G$ are painted with either blue, orange, or gray, and for any edge, the two endpoints are different colors.\n",
    "\n",
    "![Figure](../figures/Lucas2014/graph_coloring0.png)\n",
    "\n",
    "In this example program, we will solve the graph coloring problem using Fixstars Amplify. The formulation follows the one in Sec. 6.1 of [A. Lucas, Front. Phys. (2014)](https://www.frontiersin.org/articles/10.3389/fphy.2014.00005/full)."
   ]
  },
  {
   "cell_type": "markdown",
   "id": "c836337f",
   "metadata": {},
   "source": [
    "## Problem definition\n",
    "\n",
    "First, as an example, we will create a graph $G$ using NetworkX. Also, let $K$, the number of colors, be $3$."
   ]
  },
  {
   "cell_type": "code",
   "execution_count": null,
   "id": "436476c7",
   "metadata": {},
   "outputs": [],
   "source": [
    "import networkx as nx\n",
    "\n",
    "K = 3  # Number of colors\n",
    "N = 6  # Number of vertices of the graph\n",
    "G = nx.Graph()\n",
    "G.add_nodes_from(range(N))\n",
    "edge_list = [(0, 1), (0, 2), (0, 4), (0, 5), (1, 2), (1, 5), (2, 3), (3, 4), (4, 5)]\n",
    "G.add_edges_from(edge_list)\n",
    "\n",
    "pos = nx.circular_layout(G)\n",
    "\n",
    "nx.draw_networkx(G, node_size=600, font_color=\"w\", pos=pos)"
   ]
  },
  {
   "cell_type": "markdown",
   "id": "5598118c",
   "metadata": {},
   "source": [
    "## Formulation\n",
    "\n",
    "Below, let $N$ be the number of vertices in the graph $G$. Also, recall that the number of colors was $K$.\n",
    "\n",
    "### Decision variables\n",
    "\n",
    "Let us use a $N \\times K$ binary decision variable table $q$, where 0 and 1 denote which color to paint each vertex with. That is, $q_{v, k} = 1$ when vertex $v$ is painted with color $k$.\n",
    "\n",
    "For example, when painting a vertex as follows, the corresponding binary variable table $q$ will look like the table below.\n",
    "\n",
    "| Index of vertex | 0   | 1   | 2   | 3   | 4   | 5   |\n",
    "| --------------- | --- | --- | --- | --- | --- | --- |\n",
    "| Index of color  | 0   | 1   | 2   | 0   | 1   | 2   |\n",
    "\n",
    "<br/>\n",
    "\n",
    "|   $q$    | Color 0 | Color 1 | Color 2 |\n",
    "| :------: | :-----: | :-----: | :-----: |\n",
    "| Vertex 0 |    1    |    0    |    0    |\n",
    "| Vertex 1 |    0    |    1    |    0    |\n",
    "| Vertex 2 |    0    |    0    |    1    |\n",
    "| Vertex 3 |    1    |    0    |    0    |\n",
    "| Vertex 4 |    0    |    1    |    0    |\n",
    "| Vertex 5 |    0    |    0    |    1    |\n",
    "\n",
    "### Objective function\n",
    "\n",
    "In this problem, we only need one solution that satisfies the condition, so we do not consider objective function.\n",
    "\n",
    "### Constraints\n",
    "\n",
    "For $q$ to correspond to painting colors that satisfy the painting rule, the following conditions must be satisfied.\n",
    "\n",
    "* Condition 1: Each vertex is painted with exactly one color. That is, each row of $q$ has exactly one $1$.\n",
    "* Condition 2: Two vertices connected by an edge are not painted with the same color.\n",
    "\n",
    "Condition 1 is a one-hot constraint on each row of $q$, so,\n",
    "\n",
    "$$\n",
    "\\sum_{k = 0}^{K - 1} q_{v, k} = 1 \\quad\\text{for}\\quad v \\in V.\n",
    "$$\n",
    "\n",
    "Here, $V$ is the vertex set of $G$.\n",
    "\n",
    "The condition 2 is that the two vertices $(u, v)$ comprising the edge $E$ of $G$ have different colors, and written as\n",
    "\n",
    "$$\n",
    "q_{u, k} q_{v, k} = 0 \\quad\\text{for}\\quad (u, v) \\in E, \\ k \\in \\{0, 1, \\ldots, K-1\\}.\n",
    "$$\n",
    "\n",
    "Here, $E$ is the edge set of $G$.\n",
    "\n",
    "If $q$ satisfies conditions 1 and 2, then $q$ corresponds to how to color the graph that satisfies the conditions.\n"
   ]
  },
  {
   "cell_type": "markdown",
   "id": "c1ebb853",
   "metadata": {},
   "source": [
    "## Implementation\n",
    "\n",
    "Using the problem and formulation described above, let us implement and solve the problem. First, we create $N\\times K$ binary variables $q$ using `BinarySymbolGenerator` in Fixstars Amplify SDK."
   ]
  },
  {
   "cell_type": "code",
   "execution_count": null,
   "id": "a3115198",
   "metadata": {},
   "outputs": [],
   "source": [
    "from amplify import VariableGenerator\n",
    "\n",
    "gen = VariableGenerator()\n",
    "q = gen.array(\"Binary\", shape=(N, K))"
   ]
  },
  {
   "cell_type": "markdown",
   "id": "bffa72c9",
   "metadata": {},
   "source": [
    "Now, let us create a constraint corresponding to the condition 1. We will implement the one-hot constraint for each $q$ row as follows."
   ]
  },
  {
   "cell_type": "code",
   "execution_count": null,
   "id": "d3a92128",
   "metadata": {},
   "outputs": [],
   "source": [
    "from amplify import one_hot\n",
    "\n",
    "constraint1 = one_hot(q, axis=1)"
   ]
  },
  {
   "cell_type": "markdown",
   "id": "74401c62",
   "metadata": {},
   "source": [
    "Then, we create a constraint condition corresponding to the condition 2. Condition 2 is that the two vertices connected by an edge are painted in different colors and\n",
    "\n",
    "$q_{u, k} q_{v, k} = 0 \\bigr((u, v) \\in E, \\ k \\in \\{0, 1, \\ldots, K-1\\}\\bigl)$.\n",
    "\n",
    "The above equation can be implemented as follows."
   ]
  },
  {
   "cell_type": "code",
   "execution_count": null,
   "id": "b2bb4b73",
   "metadata": {},
   "outputs": [],
   "source": [
    "from amplify import equal_to, sum as amplify_sum\n",
    "\n",
    "constraint2 = amplify_sum(\n",
    "    equal_to(q[u, k] * q[v, k], 0) for (u, v) in G.edges for k in range(K)\n",
    ")"
   ]
  },
  {
   "cell_type": "markdown",
   "id": "59f6a2fd",
   "metadata": {},
   "source": [
    "Now, we will convert the constructed constraints into an optimization model."
   ]
  },
  {
   "cell_type": "code",
   "execution_count": null,
   "id": "79cf4f4b",
   "metadata": {},
   "outputs": [],
   "source": [
    "from amplify import Model\n",
    "\n",
    "model = Model(constraint1 + constraint2)"
   ]
  },
  {
   "cell_type": "markdown",
   "id": "49f6eda1",
   "metadata": {},
   "source": [
    "Let us set the client and execute the solver with Fixstars Amplify Annealing Engine (AE). "
   ]
  },
  {
   "cell_type": "code",
   "execution_count": null,
   "id": "29be266c",
   "metadata": {},
   "outputs": [],
   "source": [
    "from amplify import FixstarsClient, solve\n",
    "from datetime import timedelta\n",
    "\n",
    "client = FixstarsClient()\n",
    "# client.token = \"xxxxxxxxxxxxxxxxxxxxxxxxxxxxxxxx\"  # If you use Amplify in a local environment or Google Colaboratory, enter your Amplify API token.\n",
    "client.parameters.timeout = timedelta(milliseconds=1000)  # timeout is 1000 ms\n",
    "\n",
    "# Solve the problem\n",
    "result = solve(model, client)"
   ]
  },
  {
   "cell_type": "markdown",
   "id": "ea7310b1",
   "metadata": {},
   "source": [
    "Since Amplify SDK automatically filters the solutions that satisfy the constraints, if the `result` is not empty, you know that there is a solution that satisfies the constraints."
   ]
  },
  {
   "cell_type": "code",
   "execution_count": null,
   "id": "3e9956c5",
   "metadata": {},
   "outputs": [],
   "source": [
    "if len(result) == 0:\n",
    "    print(\"No solution has been found.\")\n",
    "else:\n",
    "    print(\"A solution has been found.\")"
   ]
  },
  {
   "cell_type": "markdown",
   "id": "2e0eab40",
   "metadata": {},
   "source": [
    "Finally, let us visualize the solution."
   ]
  },
  {
   "cell_type": "code",
   "execution_count": null,
   "id": "5e88eead",
   "metadata": {},
   "outputs": [],
   "source": [
    "import numpy as np\n",
    "\n",
    "color_list = [\"C0\", \"C1\", \"C7\"]\n",
    "\n",
    "values = q.evaluate(result.best.values)\n",
    "colors = [color_list[k] for k in np.where(values == 1)[1]]\n",
    "\n",
    "nx.draw_networkx(G, node_size=600, font_color=\"w\", node_color=colors, pos=pos)"
   ]
  }
 ],
 "metadata": {
  "language_info": {
   "name": "python",
   "pygments_lexer": "ipython3"
  }
 },
 "nbformat": 4,
 "nbformat_minor": 5
}
