{
 "cells": [
  {
   "attachments": {},
   "cell_type": "markdown",
   "metadata": {},
   "source": [
    "# Tutorial\n",
    "\n",
    "## Introduction\n",
    "\n",
    "Amplify SDK is a middleware library that makes it easy to work with Ising machines. Ising machines are dedicated hardware for minimizing polynomial problems of binary variables, called \n",
    "Ising models](https://en.wikipedia.org/wiki/Ising_model) or [QUBO models](https://en.wikipedia.org/wiki/Quadratic_unconstrained_ binary_optimization). The following is an example of an expression by QUBO.\n",
    "\n",
    "$$\n",
    "f = \\sum_{i < j}{Q_{i,j} q_i q_j} + \\sum_{i}{Q_{i,i} q_i} \\quad \\left(q_i \\in \\left\\{ 0, 1\\right\\} \\right)\n",
    "$$\n",
    "\n",
    "Normally, in order to run an Ising machine, the \"target optimization problem\" needs to be converted into a format that can be input to the Ising machine to be run.\n",
    "This is because many Ising machines only accept quadratic polynomials in the binary variable $\\left\\{0, 1\\right\\}$ or Ising variable $\\left\\{-1, 1\\right\\}$ as input (logical model).\n",
    "For some Ising machines, quadratic polynomials must follow a certain form that is consistent with the graph structure between variables originating from the hardware specification (physical model).\n",
    "\n",
    "When an optimization problem (input model) is run on an Ising machine, we first need to transform the input model to a logical model, and then we further need to transform the logical model to a physical model specific to the Ising machine.\n",
    "On the other hand, in order to interpret the output values of the Ising machine, the inverse transformation of this procedure is applied to each step.\n",
    "In this transformation and inversion process, it is also important to handle \"pre-processing\", such as constraint conditions for the transformation, and \"post-processing\", such as constraint satisfaction checks for the output values of the inverse transformation.\n",
    "\n",
    "The Amplify SDK provides an integrated interface for running optimization problems on Ising machines.\n",
    "This interface can hide the transformations, inverse transformations, preprocessing, and postprocessing that depend on the input models and the specifications of each Ising machine, and it also provides support for creating input models and interpreting results.\n",
    "See reference [1] for the Amplify SDK architecture.\n",
    "The following diagram illustrates the flow of the Amplify SDK from input to the Ising machine to execution and interpretation of results.\n",
    "\n",
    "![architecture.png](https://amplify.fixstars.com/docs/_images/architecture.png)\n",
    "\n",
    "[1]: [Yoshiki Matsuda \"Research and Development of Common Software Platform for Ising Machines\" 2020 IEICE General Conference](https://amplify.fixstars.com/docs/_static/paper.pdf)\n",
    "\n",
    "\n",
    "We summarize the layers of the flow and the classes provided by the Amplify SDK to support each layer.\n",
    "\n",
    "## Input Layer\n",
    "\n",
    "This is the layer where users operate directly by handling \"input models\" to Ising machines. The following expressions can be handled:\n",
    "\n",
    "- Polynomial: `BinaryPoly`, `IsingPoly`, `BinaryIntPoly`, `IsingIntPoly`\n",
    "- Matrix: `BinaryMatrix`, `IsingMatrix`, `BinaryIntMatrix`, `IsingIntMatrix`\n",
    "- Logical expression: `LogicPoly`\n",
    "- Constraint equation: `BinaryConstraint`, `IsingConstraint`, `BinaryIntConstraint`, `IsingIntConstraint`\n",
    "\n",
    "### Logical layer\n",
    "\n",
    "This layer abstracts the constructed input models to \"logical models\" that can be handled by Ising machines.\n",
    "\n",
    "- Secondary polynomial model: `BinaryQuadraticModel`, `IsingQuadraticModel`, `BinaryIntQuadraticModel`, `IsingIntQuadraticModel`\n",
    "\n",
    "### Physical machine layer\n",
    "\n",
    "This layer provides the optimization solver that converts the logical models into \"physical models\" based on each hardware specification.\n",
    "Users only need to manipulate the execution parameters of each machine, so there is no need for writing conversion codes directly.\n",
    "\n",
    "- Optimization solver: `Solver`\n",
    "- Machine client:\n",
    "    - Fixstars: `FixstarsClient`\n",
    "    - D-Wave: `DWaveClient` (will be deprecated), `DWaveSamplerClient`, `LeapHybridSamplerClient`\n",
    "    - Fujitsu: `FujitsuDASolverClient`, `FujitsuDAPTSolverClient`, `FujitsuDAMixedModeSolverClient`, `FujitsuDA2SolverClient`, `FujitsuDA2PTSolverClient`, `FujitsuDA2MixedModeSolverClient`\n",
    "    - Toshiba: `ToshibaClient`\n",
    "\n"
   ]
  },
  {
   "attachments": {},
   "cell_type": "markdown",
   "metadata": {},
   "source": [
    "### Programming flow with Amplify SDK\n",
    "\n",
    "The flow for using the Ising machine with Amplify SDK is as follows:\n",
    "\n",
    "1. Formulate the target optimization problem and create an input model (Input layer).\n",
    "1. Transform the input model into a quadratic polynomial model (Logic layer).\n",
    "1. Declare the machine to be used and set the parameters (Physical machine layer).\n",
    "1. Feed the logical model to the optimization solver and obtain the results of the inverse transformation to the input layer.\n",
    "\n",
    "The actual procedure for using Amplify in each layer described above is as follows.\n",
    "\n",
    "First, we explain how to handle the \"input model\". As the simplest example, we focus on the following minimization problem of a function of the binary variables $\\left\\{0, 1\\right\\}$ (a polynomial with binary variables).\n",
    "\n",
    "$$\n",
    "f\\left( q_0, q_1 \\right) = 1 - q_0 q_1\n",
    "$$\n",
    "\n",
    "Since $q_0, q_1 \\in \\left\\{ 0, 1 \\right\\}$, it is obvious that $f \\left( q_0 = 1, q_1 = 1 \\right) = 0$ is the optimal value. Here, we will actually input this problem into the Ising machine to see if it outputs the optimal solution.\n",
    "\n",
    "`BinaryPoly` class is provided to represent polynomials of binary variables in program code.\n",
    "\n"
   ]
  },
  {
   "cell_type": "code",
   "execution_count": null,
   "metadata": {},
   "outputs": [],
   "source": [
    "from amplify import BinaryPoly\n",
    "\n",
    "f = BinaryPoly(1, {(0, 1): -1})\n",
    "print(f\"f = {f}\")"
   ]
  },
  {
   "attachments": {},
   "cell_type": "markdown",
   "metadata": {},
   "source": [
    "There are several ways to construct `BinaryPoly`. One of the easiest ways is to prepare a set of variables as an array $\\mathbf{q} = \\left\\{q_0, q_1, ... \\right\\}$ and then construct the polynomial.\n",
    "\n",
    "First, an array of variables can be created with the `gen_symbols()` function."
   ]
  },
  {
   "cell_type": "code",
   "execution_count": null,
   "metadata": {},
   "outputs": [],
   "source": [
    "from amplify import BinaryPoly, gen_symbols\n",
    "\n",
    "q = gen_symbols(BinaryPoly, 2)\n",
    "q"
   ]
  },
  {
   "attachments": {},
   "cell_type": "markdown",
   "metadata": {},
   "source": [
    "In `gen_symbols(BinaryPoly, 2)`, we created a one-dimensional array of binary variables (`BinaryPoly`) whose length is $2$ and the variable index starting from $0$. Using this, we can construct a polynomial as follows:"
   ]
  },
  {
   "cell_type": "code",
   "execution_count": null,
   "metadata": {},
   "outputs": [],
   "source": [
    "from amplify import BinaryPoly, BinaryQuadraticModel, gen_symbols\n",
    "\n",
    "q = gen_symbols(BinaryPoly, 2)\n",
    "f = 1 - q[0] * q[1]\n",
    "f"
   ]
  },
  {
   "attachments": {},
   "cell_type": "markdown",
   "metadata": {},
   "source": [
    "\n",
    "In this way, you can systematically construct polynomials in your program code. You can also use arrays of two or more dimensions, and start indexing from a specified value. Please see [Construction using variable arrays](https://amplify.fixstars.com/docs/polynomial.html#polynomial-gen-symbols) for details."
   ]
  },
  {
   "attachments": {},
   "cell_type": "markdown",
   "metadata": {},
   "source": [
    "### admonition:: Exercise\n",
    "\n",
    "Change the degree and terms of the polynomial to make sure it is constructed as intended (tertiary and higher degrees are also possible).\n",
    "\n"
   ]
  },
  {
   "attachments": {},
   "cell_type": "markdown",
   "metadata": {},
   "source": [
    "## Conversion to logical model\n",
    "\n",
    "The next step is to build a logical model from the input model. Since we have `BinaryPoly` as an input, we convert it to `BinaryQuadraticModel` as a logical model. This conversion can be done implicitly with the optimization solver class `Solver` described below, but here we make it explicit with the `model` variable as shown below."
   ]
  },
  {
   "cell_type": "code",
   "execution_count": null,
   "metadata": {},
   "outputs": [],
   "source": [
    "from amplify import BinaryPoly, BinaryQuadraticModel, gen_symbols\n",
    "\n",
    "q = gen_symbols(BinaryPoly, 2)\n",
    "f = 1 - q[0] * q[1]\n",
    "model = BinaryQuadraticModel(f)"
   ]
  },
  {
   "attachments": {},
   "cell_type": "markdown",
   "metadata": {},
   "source": [
    "In addition to polynomials, matrices and constraint equations can be used to construct this logical model. It can also be given as a combination of polynomials and constraint equations, or matrices and constraint equations. The internal representation and internal state of the logical model can be obtained by several methods, but we will not discuss them in this tutorial."
   ]
  },
  {
   "attachments": {},
   "cell_type": "markdown",
   "metadata": {},
   "source": [
    "### Note\n",
    "\n",
    "For polynomials and combinations of matrices and constraints, please see [Constructing a Logical Model Object](https://amplify.fixstars.com/docs/model.html#model-init).\n"
   ]
  },
  {
   "attachments": {},
   "cell_type": "markdown",
   "metadata": {},
   "source": [
    "### Note\n",
    "\n",
    "For an example of using constraint expressions, please see [EXAMPLES](https://amplify.fixstars.com/docs/tsp.html).\n",
    "\n"
   ]
  },
  {
   "attachments": {},
   "cell_type": "markdown",
   "metadata": {},
   "source": [
    "## Settings for the Ising machine to run\n",
    "\n",
    "Here, we declare the Ising machine to use and set the machine parameters. We use Amplify Annealing Engine (`FixstarsClient`) as an example."
   ]
  },
  {
   "cell_type": "code",
   "execution_count": null,
   "metadata": {},
   "outputs": [],
   "source": [
    "from amplify import BinaryPoly, BinaryQuadraticModel, gen_symbols\n",
    "from amplify.client import FixstarsClient\n",
    "\n",
    "q = gen_symbols(BinaryPoly, 2)\n",
    "f = 1 - q[0] * q[1]\n",
    "model = BinaryQuadraticModel(f)\n",
    "\n",
    "client = FixstarsClient()\n",
    "# client.token = \"xxxxxxxxxxxxxxxxxxxxxxxxxxxxxxxx\"  # If you use Amplify in a local environment, enter the Amplify API token.\n",
    "client.parameters.timeout = 1000  # Timeout is 1 second"
   ]
  },
  {
   "attachments": {},
   "cell_type": "markdown",
   "metadata": {},
   "source": [
    "### Note::\n",
    "\n",
    "Please enter your Amplify Annealing Engine access token in the `xxxxxxxxxxxxxxxxxxxxxxxxxxxxxxxxxx` field. You can get an access token by [registering as a free user](https://amplify.fixstars.com/register)."
   ]
  },
  {
   "attachments": {},
   "cell_type": "markdown",
   "metadata": {},
   "source": [
    "### Note\n",
    "\n",
    "Please see the respective client references in [Client](https://amplify.fixstars.com/docs/client.html) for parameters when using other clients."
   ]
  },
  {
   "attachments": {},
   "cell_type": "markdown",
   "metadata": {},
   "source": [
    "## Performing combinatorial optimization\n",
    "\n",
    "This completes the preparation. By setting the client to the optimization solver `Solver` and calling the `solve()` method, we can run an Ising machine. Since the Ising machine may output multiple solutions, we will extract them from the top as follows. In this case, we used a simple polynomial equation with binary variables as the input model, but if a constraint equation is given, the solutions are filtered so that only the ones that satisfy the constraint will be output."
   ]
  },
  {
   "cell_type": "code",
   "execution_count": null,
   "metadata": {},
   "outputs": [],
   "source": [
    "from amplify import BinaryPoly, BinaryQuadraticModel, gen_symbols, Solver\n",
    "from amplify.client import FixstarsClient\n",
    "\n",
    "q = gen_symbols(BinaryPoly, 2)\n",
    "f = 1 - q[0] * q[1]\n",
    "model = BinaryQuadraticModel(f)\n",
    "\n",
    "client = FixstarsClient()\n",
    "# client.token = \"xxxxxxxxxxxxxxxxxxxxxxxxxxxxxxxx\"  # If you use Amplify in a local environment, enter the Amplify API token.\n",
    "client.parameters.timeout = 1000  # Timeout is 1 second\n",
    "\n",
    "solver = Solver(client)\n",
    "result = solver.solve(model)\n",
    "for solution in result:\n",
    "    print(f\"energy = {solution.energy}\\nvalues = {solution.values}\")"
   ]
  },
  {
   "attachments": {},
   "cell_type": "markdown",
   "metadata": {},
   "source": [
    "In the displayed values, `energy` represents the $f$ value of the input model, and `values` represents a dictionary of input indices and variable values. So the solution shown here means $f\\left( q_0 = 1, q_1 = 1 \\right) = 0$. This is consistent with the optimal solution and the optimal value we initially assumed.\n",
    "\n",
    "To relate input variables to output variables, it is useful to use the `decode_solution()` function. This function decodes the array of variables used in the construction of the input model and converts it to an array of output values.\n"
   ]
  },
  {
   "cell_type": "code",
   "execution_count": null,
   "metadata": {},
   "outputs": [],
   "source": [
    "from amplify import (\n",
    "    BinaryPoly,\n",
    "    BinaryQuadraticModel,\n",
    "    gen_symbols,\n",
    "    Solver,\n",
    "    decode_solution,\n",
    ")\n",
    "from amplify.client import FixstarsClient\n",
    "\n",
    "q = gen_symbols(BinaryPoly, 2)\n",
    "f = 1 - q[0] * q[1]\n",
    "model = BinaryQuadraticModel(f)\n",
    "\n",
    "client = FixstarsClient()\n",
    "# client.token = \"xxxxxxxxxxxxxxxxxxxxxxxxxxxxxxxx\"  # If you use Amplify in a local environment, enter the Amplify API token.\n",
    "client.parameters.timeout = 1000  # Timeout is 1 second\n",
    "\n",
    "solver = Solver(client)\n",
    "result = solver.solve(model)\n",
    "values = result[0].values\n",
    "print(f\"q = {decode_solution(q, values)}\")"
   ]
  },
  {
   "attachments": {},
   "cell_type": "markdown",
   "metadata": {},
   "source": [
    "`decode_solution(q, values)` applies a dictionary of input indices and variable values `values` to an array of variables `q`. This allows the solution to be interpreted efficiently just as building the input models."
   ]
  },
  {
   "attachments": {},
   "cell_type": "markdown",
   "metadata": {},
   "source": [
    "### Note::\n",
    "\n",
    "If the variable values do not exist for some of the indices of a variable array, no value will be applied to the array elements (variables) of those indices. If the third argument of `decode_solution()` is set to a default value, the default value will be applied in such elements. Please see [Obtaining the solution using an array of variables](https://amplify.fixstars.com/docs/polynomial.html#polynomial-decode-solution) for details."
   ]
  },
  {
   "attachments": {},
   "cell_type": "markdown",
   "metadata": {},
   "source": [
    "## Next step\n",
    "\n",
    "This is the basic flow of programming with the Amplify SDK.\n",
    "Please see the next section for more advanced methods of use, [EXAMPLES](https://amplify.fixstars.com/docs/tsp.html) for examples for specific problems, and [Reference](https://amplify.fixstars.com/docs/reference/index.html) for class and function references."
   ]
  }
 ],
 "metadata": {
  "language_info": {
   "name": "python",
   "pygments_lexer": "ipython3"
  }
 },
 "nbformat": 4,
 "nbformat_minor": 2
}
