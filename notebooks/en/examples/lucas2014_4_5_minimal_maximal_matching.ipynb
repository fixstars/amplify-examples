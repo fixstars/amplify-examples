{
 "cells": [
  {
   "cell_type": "markdown",
   "id": "9bece066",
   "metadata": {},
   "source": [
    "# Example NP problems published in A. Lucas, *Front. Phys.* (2014) - Minimal maximal matching problem\n",
    "\n",
    "This example code implements the **minimal maximal matching problem** introduced in the paper [A. Lucas, \"Ising formulations of many NP problems\", *Front. Phys.* (2014)](https://www.frontiersin.org/articles/10.3389/fphy.2014.00005/full) using Fixstars Amplify. Other NP-complete and NP-hard problems introduced in the same paper are also discussed below (the corresponding sections in the paper are shown in the brackets).\n",
    "\n",
    "- [Graph partitioning problem](https://amplify.fixstars.com/en/demo/lucas2014_2_2_graph_partitioning) (Sec. 2.2).\n",
    "- [Maximum clique problem](https://amplify.fixstars.com/en/demo/lucas2014_2_3_cliques) (Sec. 2.3)\n",
    "- [Exact cover problem](https://amplify.fixstars.com/en/demo/lucas2014_4_1_exact_cover) (Sec. 4.1)\n",
    "- [Set packing problem](https://amplify.fixstars.com/en/demo/lucas2014_4_2_set_packing) (Sec. 4.2)\n",
    "- [Minimum vertex cover problem](https://amplify.fixstars.com/en/demo/lucas2014_4_3_vertex_cover) (Sec. 4.3)\n",
    "- [Satisfiability problem (SAT)](https://amplify.fixstars.com/en/demo/lucas2014_4_4_satisfiability) (Sec. 4.4)\n",
    "- **Minimal maximal matching problem** (Sec. 4.5)\n",
    "- [Graph coloring problem](https://amplify.fixstars.com/en/demo/lucas2014_6_1_graph_coloring) (Sec. 6.1)\n",
    "- [Clique cover problem](https://amplify.fixstars.com/en/demo/lucas2014_6_2_clique_cover) (Sec. 6.2)\n",
    "- [Job sequencing problem with integer lengths](https://amplify.fixstars.com/en/demo/lucas2014_6_3_job_sequencing_with_integer_lengths) (Sec. 6.3)\n",
    "- [Hamiltonian cycle problem](https://amplify.fixstars.com/en/demo/lucas2014_7_1_hamiltonian_cycles_and_paths) (Sec. 7.1)\n",
    "- [Directed feedback vertex set problem](https://amplify.fixstars.com/en/demo/lucas2014_8_3_directed_feedback_vertex_set) (Sec. 8.3)\n",
    "- [Minimum feedback edge set problem](https://amplify.fixstars.com/en/demo/lucas2014_8_5_feedback_edge_set) (Sec. 8.5)\n",
    "- [Graph isomorphism problem](https://amplify.fixstars.com/en/demo/lucas2014_9_graph_isomorphisms) (Sec. 9)"
   ]
  },
  {
   "cell_type": "markdown",
   "id": "d39c51a2",
   "metadata": {},
   "source": [
    "## Minimal maximal matching problem\n",
    "\n",
    "For a graph $G$, $D$ is called a **maximal matching** if the subset $D$ of edges in $G$ satisfies the following.\n",
    "\n",
    "* Edges contained in $D$ are not adjacent to each other.\n",
    "* Edges not included in $D$ are always adjacent to one of the edges in $D$.\n",
    "\n",
    "For example, the orange edges in the figure below are maximal matching. Note that the orange edges are not connected and that if even one of the black edges were painted orange, the orange edges would be connected and would not be a maximal matching.\n",
    "\n",
    "![Figure](../figures/Lucas2014/maximal_matching0.png)\n",
    "\n",
    "The minimal maximal matching problem is the problem of finding, for a given graph, the maximal matching of that graph that has the smallest number of elements.\n",
    "\n",
    "This example program uses Fixstars Amplify to find the minimum maximal matching. The formulation follows that of Sec. 4.5 of [A. Lucas, Front. Phys. (2014)](https://www.frontiersin.org/articles/10.3389/fphy.2014.00005/full)."
   ]
  },
  {
   "cell_type": "markdown",
   "id": "31f28f5e",
   "metadata": {},
   "source": [
    "## Problem definition\n",
    "\n",
    "First, as a problem, create the following graph $G$ using NetworkX."
   ]
  },
  {
   "cell_type": "code",
   "execution_count": null,
   "id": "ce4aeaec",
   "metadata": {},
   "outputs": [],
   "source": [
    "import networkx as nx\n",
    "\n",
    "N = 6  # Number of vertices of the graph\n",
    "\n",
    "G = nx.Graph()\n",
    "G.add_nodes_from(range(N))\n",
    "edge_list = [\n",
    "    (0, 1),\n",
    "    (0, 5),\n",
    "    (1, 2),\n",
    "    (1, 5),\n",
    "    (2, 3),\n",
    "    (2, 4),\n",
    "    (3, 4),\n",
    "    (4, 5),\n",
    "]  # Edges connecting two vertices\n",
    "G.add_edges_from(edge_list)\n",
    "\n",
    "pos = nx.circular_layout(G)\n",
    "\n",
    "nx.draw_networkx(G, node_size=600, font_color=\"w\", pos=pos)"
   ]
  },
  {
   "cell_type": "markdown",
   "id": "2da7c02d",
   "metadata": {},
   "source": [
    "## Formulation\n",
    "\n",
    "Let $N$ be the number of vertices and $M$ the number of edges in $G$.\n",
    "\n",
    "### Decision variables\n",
    "\n",
    "Let each of $M$ binary variables $q$ correspond to each edge of $G$ to indicate whether the maximal matching $D$ contains the edge. $q=1$ if included in $D$, $0$ if not.\n",
    "\n",
    "For example, for the following maximal matching, the binary variable $q$ would be as in the table below.\n",
    "\n",
    "![Figure](../figures/Lucas2014/maximal_matching1.png)\n",
    "\n",
    "| Edge $(u, v)$ | $$(0, 1)$$ | $$(0, 5)$$ | $$(1, 2)$$ | $$(1, 5)$$ | $$(2, 3)$$ | $$(2, 4)$$ | $$(3, 4)$$ | $$(4, 5)$$ |\n",
    "| :-----------: | :--------: | :--------: | :--------: | :--------: | :--------: | :--------: | :--------: | :--------: |\n",
    "|     $$q$$     |     0      |     0      |     0      |     1      |     0      |     1      |     0      |     0      |\n",
    "\n",
    "### Objective function\n",
    "\n",
    "Since the number of elements in $D$ should be as small as possible, we minimize $ \\displaystyle \\sum_{i = 0}^{M - 1} q_i$.\n",
    "\n",
    "### Constraints\n",
    "\n",
    "As explained earlier, $D$ being a maximal matching means that the following constraints are satisfied ($D$ is the subset of edges in $G$).\n",
    "\n",
    "* Condition 1: Edges contained in $D$ are not adjacent to each other.\n",
    "* Condition 2: Edges not included in $D$ are always adjacent to one of the edges in $D$.\n",
    "\n",
    "Let us rephrase these conditions and express them in terms of $q$.\n",
    "\n",
    "First, we can rephrase condition 1 as \"no two adjacent edges are both contained in $D$\":\n",
    "\n",
    "$$\n",
    "q_{v, u} q_{v, w} = 0 \\quad \\text{for} \\quad (v, u), (v, w) \\in E\n",
    "$$\n",
    "\n",
    "Here, the element of the binary variable array $q$ corresponding to the edge $(u, v)$ is written as $q_{u, v}$. Also, $E$ denotes the edge set of $G$.\n",
    "\n",
    "Next, we can rephrase condition 2 as \"every edge of $G$ is necessarily adjacent to one of the edges of $D$\". We can further rephrase this as \"for any edge $(u, v)$ of $G$, either $u$ or $v$ is an endpoint of one of the edges of $D$\". We can determine whether a vertex $v$ is an endpoint of any edge of $D$ by whether the sum of the corresponding binary variables is $1$ or $0$ for all edges out of $v$. So the condition 2 is:\n",
    "\n",
    "$$\n",
    "(1 - \\sum_{(v, x) \\in E} q_{v, x}) (1 - \\sum_{(u, y) \\in E} q_{u, y}) = 0 \\quad \\text{for} \\quad (u, v)\\in E.\n",
    "$$\n"
   ]
  },
  {
   "cell_type": "markdown",
   "id": "1f9561cf",
   "metadata": {},
   "source": [
    "## Implementation\n",
    "\n",
    "Based on the problem and formulation described above, let us implement and solve the problem. First, create $M$ binary variables $q$ using `BinarySymbolGenerator` in Fixstars Amplify SDK."
   ]
  },
  {
   "cell_type": "code",
   "execution_count": null,
   "id": "c0c68e8c",
   "metadata": {},
   "outputs": [],
   "source": [
    "from amplify import VariableGenerator\n",
    "\n",
    "M = len(G.edges)\n",
    "\n",
    "gen = VariableGenerator()\n",
    "q = gen.array(\"Binary\", M)"
   ]
  },
  {
   "cell_type": "markdown",
   "id": "1b3a8152",
   "metadata": {},
   "source": [
    "We can create the objective function according to the previous formulation. The objective function equals the number of elements in the maximal matching $D$ and is written as $\\displaystyle \\sum_{i = 0}^{M - 1} q_i$."
   ]
  },
  {
   "cell_type": "code",
   "execution_count": null,
   "id": "b2013791",
   "metadata": {},
   "outputs": [],
   "source": [
    "cost = q.sum()"
   ]
  },
  {
   "cell_type": "markdown",
   "id": "7130dca0",
   "metadata": {},
   "source": [
    "In preparation for constructing the constraints, for each vertex $v$ of $G$, we create a function that returns a list of the indices of the edges coming out of $v$."
   ]
  },
  {
   "cell_type": "code",
   "execution_count": null,
   "id": "064d50dd",
   "metadata": {},
   "outputs": [],
   "source": [
    "edge_indices_list = [[] for _ in range(N)]\n",
    "for i, (u, v) in enumerate(G.edges):\n",
    "    edge_indices_list[u].append(i)\n",
    "    edge_indices_list[v].append(i)"
   ]
  },
  {
   "cell_type": "markdown",
   "id": "dc6d5553",
   "metadata": {},
   "source": [
    "Now, let us construct the constraint corresponding to condition 1. Condition 1 is that no two edges contained in the maximal matching $D$ are adjacent, i.e., both adjacent $2$ edges are not included in $D$ together, and is written as $q_{v, u} q_{v, w} = 0 \\bigl((v, u), (v, w) \\in E\\bigr)$."
   ]
  },
  {
   "cell_type": "code",
   "execution_count": null,
   "id": "de756b65",
   "metadata": {},
   "outputs": [],
   "source": [
    "from itertools import combinations\n",
    "from amplify import equal_to, sum as amplify_sum\n",
    "\n",
    "constraint1 = amplify_sum(\n",
    "    equal_to(q[i] * q[j], 0)\n",
    "    for v in G.nodes\n",
    "    for i, j in combinations(edge_indices_list[v], 2)\n",
    ")"
   ]
  },
  {
   "cell_type": "markdown",
   "id": "7010621d",
   "metadata": {},
   "source": [
    "Then, we construct the constraint corresponding to condition 2. Condition 2 is that all edges are adjacent to one of the edges of $D$ and written as:\n",
    "\n",
    "$$\n",
    "\\displaystyle(1 - \\sum_{(v, x) \\in E} q_{v, x}) (1 - \\sum_{(u, y) \\in E} q_{u, y}) = 0 \\bigl((u, v)\\in E\\bigr).\n",
    "$$"
   ]
  },
  {
   "cell_type": "code",
   "execution_count": null,
   "id": "4128a776",
   "metadata": {},
   "outputs": [],
   "source": [
    "constraint2 = amplify_sum(\n",
    "    equal_to(\n",
    "        (1 - amplify_sum([q[i] for i in edge_indices_list[u]]))\n",
    "        * (1 - amplify_sum([q[i] for i in edge_indices_list[v]])),\n",
    "        0,\n",
    "    )\n",
    "    for (u, v) in G.edges\n",
    ")"
   ]
  },
  {
   "cell_type": "markdown",
   "id": "f72e668f",
   "metadata": {},
   "source": [
    "The objective function and constraints constructed above are then combined and converted to an optimization model.\n",
    "\n",
    "Although not necessary in this case, when both the objective function and the constraints are present, it is usually a good idea to multiply some weights by the constraints because the constraints are given to the Ising machine as a penalty function for the objective function. The basic idea is to estimate and determine a weight value equal to or slightly larger than the possible values of the objective function."
   ]
  },
  {
   "cell_type": "code",
   "execution_count": null,
   "id": "e62be075",
   "metadata": {},
   "outputs": [],
   "source": [
    "model = cost + constraint1 + constraint2"
   ]
  },
  {
   "cell_type": "markdown",
   "id": "2fb83b7e",
   "metadata": {},
   "source": [
    "Let us set the client and solve the logical model with Fixstars Amplify Annealing Engine (AE). Since Amplify SDK automatically filters the solutions that satisfy the constraints, if the `result` is not empty, you know that there is a solution that satisfies the constraints."
   ]
  },
  {
   "cell_type": "code",
   "execution_count": null,
   "id": "db24be79",
   "metadata": {},
   "outputs": [],
   "source": [
    "from amplify import FixstarsClient, solve\n",
    "from datetime import timedelta\n",
    "\n",
    "client = FixstarsClient()\n",
    "# client.token = \"xxxxxxxxxxxxxxxxxxxxxxxxxxxxxxxx\"  # If you use Amplify in a local environment or Google Colaboratory, enter your Amplify API token.\n",
    "client.parameters.timeout = timedelta(milliseconds=1000)  # timeout is 1000 ms\n",
    "\n",
    "# Solve the problem\n",
    "result = solve(model, client)\n",
    "\n",
    "if len(result) == 0:\n",
    "    print(\"No solution has been found.\")\n",
    "else:\n",
    "    print(\"A solution has been found.\")"
   ]
  },
  {
   "cell_type": "markdown",
   "id": "5d51e137",
   "metadata": {},
   "source": [
    "Finally, let us visualize the result. You can try to solve the same problem for different graph shapes."
   ]
  },
  {
   "cell_type": "code",
   "execution_count": null,
   "id": "9c545f64",
   "metadata": {},
   "outputs": [],
   "source": [
    "values = q.evaluate(result.best.values)\n",
    "\n",
    "colors = [\"k\" if i == 0 else \"C1\" for i in values]\n",
    "width = [1.0 if i == 0 else 2.0 for i in values]\n",
    "\n",
    "nx.draw_networkx(\n",
    "    G, node_size=600, font_color=\"w\", edge_color=colors, width=width, pos=pos\n",
    ")"
   ]
  }
 ],
 "metadata": {
  "language_info": {
   "name": "python",
   "pygments_lexer": "ipython3"
  }
 },
 "nbformat": 4,
 "nbformat_minor": 5
}
