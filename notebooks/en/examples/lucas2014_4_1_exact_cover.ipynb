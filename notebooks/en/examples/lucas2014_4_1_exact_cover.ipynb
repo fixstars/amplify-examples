{
 "cells": [
  {
   "cell_type": "markdown",
   "id": "b279d3be",
   "metadata": {},
   "source": [
    "# Example NP problems published in A. Lucas, *Front. Phys.* (2014) - Exact cover problem\n",
    "\n",
    "This example code implements the **exact cover problem** introduced in the paper [A. Lucas, \"Ising formulations of many NP problems\", *Front. Phys.* (2014)](https://www.frontiersin.org/articles/10.3389/fphy.2014.00005/full) using Fixstars Amplify. Other NP-complete and NP-hard problems introduced in the same paper are also discussed below (the corresponding sections in the paper are shown in the brackets).\n",
    "\n",
    "- [Graph partitioning problem](https://amplify.fixstars.com/en/demo/lucas2014_2_2_graph_partitioning) (Sec. 2.2).\n",
    "- [Maximum clique problem](https://amplify.fixstars.com/en/demo/lucas2014_2_3_cliques) (Sec. 2.3)\n",
    "- **Exact cover problem** (Sec. 4.1)\n",
    "- [Set packing problem](https://amplify.fixstars.com/en/demo/lucas2014_4_2_set_packing) (Sec. 4.2)\n",
    "- [Minimum vertex cover problem](https://amplify.fixstars.com/en/demo/lucas2014_4_3_vertex_cover) (Sec. 4.3)\n",
    "- [Satisfiability problem (SAT)](https://amplify.fixstars.com/en/demo/lucas2014_4_4_satisfiability) (Sec. 4.4)\n",
    "- [Minimal maximal matching problem](https://amplify.fixstars.com/en/demo/lucas2014_4_5_minimal_maximal_matching) (Sec. 4.5)\n",
    "- [Graph coloring problem](https://amplify.fixstars.com/en/demo/lucas2014_6_1_graph_coloring) (Sec. 6.1)\n",
    "- [Clique cover problem](https://amplify.fixstars.com/en/demo/lucas2014_6_2_clique_cover) (Sec. 6.2)\n",
    "- [Job sequencing problem with integer lengths](https://amplify.fixstars.com/en/demo/lucas2014_6_3_job_sequencing_with_integer_lengths) (Sec. 6.3)\n",
    "- [Hamiltonian cycle problem](https://amplify.fixstars.com/en/demo/lucas2014_7_1_hamiltonian_cycles_and_paths) (Sec. 7.1)\n",
    "- [Directed feedback vertex set problem](https://amplify.fixstars.com/en/demo/lucas2014_8_3_directed_feedback_vertex_set) (Sec. 8.3)\n",
    "- [Minimum feedback edge set problem](https://amplify.fixstars.com/en/demo/lucas2014_8_5_feedback_edge_set) (Sec. 8.5)\n",
    "- [Graph isomorphism problem](https://amplify.fixstars.com/en/demo/lucas2014_9_graph_isomorphisms) (Sec. 9)"
   ]
  },
  {
   "cell_type": "markdown",
   "id": "54e336a6",
   "metadata": {},
   "source": [
    "## Exact cover problem\n",
    "\n",
    "Suppose we have a set $S$ and are given subsets $T_0, T_1, \\ldots, T_{N-1}$ of $S$.\n",
    "\n",
    "The problem of choosing some of $T_0, T_1, \\dots, T_{N-1}$ and determining whether the chosen multiple subsets can be partitions of $S$ is called the **exact covering problem**. That is, determine whether any element of $S$ can be contained in exactly one of the chosen subsets.\n",
    "\n",
    "For example, if $S = \\{1, 2, 3, 4, 5, 6, 7, 8, 9\\}$, as shown in the figure below, then $T_0 = \\{1, 2, 3, 6, 9\\}$, $T_1 = \\{1, 2, 5, 8\\}$, $T_2 = \\{4, 7\\}$, $T_3 = \\{4, 5\\}$, $T_4 = \\{6, 9\\}$, $T _5 = \\{3\\}$. If we choose $T_1$, $T_2$, $T_4$, and $T_5$, these are the partitions of $S$.\n",
    "\n",
    "![Figure](../figures/Lucas2014/exact_cover0.png)\n",
    "\n",
    "This example program uses Fixstars Amplify to solve the exact cover problem. The formulation follows that of Sec. 4.1 of [A. Lucas, Front. Phys. (2014)](https://www.frontiersin.org/articles/10.3389/fphy.2014.00005/full)."
   ]
  },
  {
   "cell_type": "markdown",
   "id": "54724fc4",
   "metadata": {},
   "source": [
    "## Problem definition\n",
    "\n",
    "As an example, we define the problem mentioned above as follows."
   ]
  },
  {
   "cell_type": "code",
   "execution_count": null,
   "id": "76aadc41",
   "metadata": {},
   "outputs": [],
   "source": [
    "S = [1, 2, 3, 4, 5, 6, 7, 8, 9]  # set S\n",
    "T = [[1, 2, 3, 6, 9], [1, 2, 5, 8], [4, 7], [4, 5], [6, 9], [3]]  # subsets of S"
   ]
  },
  {
   "cell_type": "markdown",
   "id": "440c6f64",
   "metadata": {},
   "source": [
    "## Formulation\n",
    "\n",
    "### Decision variables\n",
    "\n",
    "Let $N$ binary variables $q$ be mapped to $T_0, T_1, \\ldots, T_{N-1}$ to indicate whether to choose the corresponding subset $T_i$. If $T_i$ is chosen, $q_i$ is $1$; if not, $0$.\n",
    "\n",
    "For example, when choosing four subsets $T_1$, $T_2$, $T_4$, and $T_5$, $q$ is as follows.\n",
    "\n",
    "| Subset | $$T_0$$ | $$T_1$$ | $$T_2$$ | $$T_3$$ | $$T_4$$ | $$T_5$$ |\n",
    "| :----: | ------- | ------- | ------- | ------- | ------- | ------- |\n",
    "| $$q$$  | 0       | 1       | 1       | 0       | 1       | 1       |\n",
    "\n",
    "\n",
    "### Objective function\n",
    "\n",
    "Since this problem is to find one solution that satisfies the condition, the objective function is $0$ (not considered). \n",
    "\n",
    "Note that if you want to make the number of subsets you choose as small as possible, which is an advanced version of the present problem, you need to set $\\displaystyle \\sum_{i = 0}^{N-1} q_i$ as the objective function since this is an optimization problem.\n",
    "\n",
    "### Constraints\n",
    "\n",
    "The condition \"every $S$ element is contained in exactly $1 of the chosen subset\" can be reworded as \"for any element $x$ of $S$, exactly $1$ of the subset $T_i$ containing $x$ is chosen\":\n",
    "\n",
    "$$\n",
    "\\sum_{T_i \\ni x} q_i = 1 \\quad \\text{for} \\quad x \\in S.\n",
    "$$\n"
   ]
  },
  {
   "cell_type": "markdown",
   "id": "7e28e4b4",
   "metadata": {},
   "source": [
    "## Implementation\n",
    "\n",
    "Using the problem and formulation created above, let us implement and solve the problem. First, create as many binary variables $q$ as there are subsets using the `BinarySymbolGenerator` in the Fixstars Amplify SDK."
   ]
  },
  {
   "cell_type": "code",
   "execution_count": null,
   "id": "1aa2bd89",
   "metadata": {},
   "outputs": [],
   "source": [
    "from amplify import VariableGenerator\n",
    "\n",
    "N = len(T)  # The number of subsets\n",
    "\n",
    "gen = VariableGenerator()\n",
    "q = gen.array(\"Binary\", N)"
   ]
  },
  {
   "cell_type": "markdown",
   "id": "a17c879e",
   "metadata": {},
   "source": [
    "Next, we construct the constraints. As mentioned earlier, for each element $x$ of $S$, we need to satisfy the constraints that precisely one of the subsets containing $x$ is chosen."
   ]
  },
  {
   "cell_type": "code",
   "execution_count": null,
   "id": "35b871dd",
   "metadata": {},
   "outputs": [],
   "source": [
    "from amplify import one_hot, sum as amplify_sum\n",
    "\n",
    "constraints = amplify_sum(\n",
    "    one_hot(amplify_sum(q[i] for i in range(N) if x in T[i])) for x in S\n",
    ")"
   ]
  },
  {
   "cell_type": "markdown",
   "id": "41570915",
   "metadata": {},
   "source": [
    "Now, let us convert the created constraints into an optimization model."
   ]
  },
  {
   "cell_type": "code",
   "execution_count": null,
   "id": "4dd8e603",
   "metadata": {},
   "outputs": [],
   "source": [
    "from amplify import Model\n",
    "\n",
    "model = Model(constraints)"
   ]
  },
  {
   "cell_type": "markdown",
   "id": "06613f41",
   "metadata": {},
   "source": [
    "Let us set the client and execute the solver with Fixstars Amplify Annealing Engine (AE). "
   ]
  },
  {
   "cell_type": "code",
   "execution_count": null,
   "id": "8381f752",
   "metadata": {},
   "outputs": [],
   "source": [
    "from amplify import FixstarsClient, solve\n",
    "from datetime import timedelta\n",
    "\n",
    "client = FixstarsClient()\n",
    "# client.token = \"xxxxxxxxxxxxxxxxxxxxxxxxxxxxxxxx\"  # If you use Amplify in a local environment or Google Colaboratory, enter your Amplify API token.\n",
    "client.parameters.timeout = timedelta(milliseconds=1000)  # timeout is 1000 ms\n",
    "\n",
    "# Solve the problem\n",
    "result = solve(model, client)"
   ]
  },
  {
   "cell_type": "markdown",
   "id": "8db1f0a6",
   "metadata": {},
   "source": [
    "Now, we check to see if we found a subset selection satisfying the constraints. Since Amplify SDK automatically filters the solutions that satisfy the constraints, if the `result` is not empty, you know that there is a solution that satisfies the constraints."
   ]
  },
  {
   "cell_type": "code",
   "execution_count": null,
   "id": "4d2b6111",
   "metadata": {},
   "outputs": [],
   "source": [
    "if len(result) == 0:\n",
    "    print(\"No solution has been found.\")\n",
    "else:\n",
    "    print(\"A solution has been found.\")"
   ]
  },
  {
   "cell_type": "markdown",
   "id": "10788917",
   "metadata": {},
   "source": [
    "Finally, let us visualize the results. Also, you can try changing the set $S$ or its subset $T_i$ to see if the exact covering is possible."
   ]
  },
  {
   "cell_type": "code",
   "execution_count": null,
   "id": "d296b17f",
   "metadata": {},
   "outputs": [],
   "source": [
    "import numpy as np\n",
    "\n",
    "values = q.evaluate(result.best.values)\n",
    "for i in np.where(values == 1)[0]:\n",
    "    print(f\"T{i} : {T[i]}\")"
   ]
  }
 ],
 "metadata": {
  "language_info": {
   "name": "python",
   "pygments_lexer": "ipython3"
  }
 },
 "nbformat": 4,
 "nbformat_minor": 5
}
