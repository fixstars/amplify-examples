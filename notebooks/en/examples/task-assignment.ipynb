{
 "cells": [
  {
   "attachments": {},
   "cell_type": "markdown",
   "metadata": {},
   "source": [
    "# Employee Assignment Problem\n",
    "\n",
    "Optimal assignment of employees to stores is an important task for retail and service industries with a large number of employees. Typically, such assignment processes must take into account each employee's position, skills, and preferred work location, as well as a variety of daily-changing tasks in each store.\n",
    "\n",
    "Here, we address the combinatorial optimization problem of employee assignment, using a restaurant chain as an example. In particular, we aim to assign employees appropriately according to position, skill type and level, position, and desired work location.\n",
    "\n",
    "For example, an employee may have the following attributes:\n",
    "\n",
    "**Position**\n",
    "- Store manager\n",
    "- Assistant manager\n",
    "- Staff (no position)\n",
    "\n",
    "**Role**\n",
    "- Kitchen staff\n",
    "- Floor staff\n",
    "\n",
    "**Skill level**\n",
    "- Cooking Skills  \n",
    "  For a sushi chain restaurant considered in [Step 3](#step3):\n",
    "  - Filleting skill\n",
    "  - *Nigiri* (hand role) skill\n",
    "  - Soup cooking skill\n",
    "  - A la carte dish preparation skill\n",
    "\n",
    "**Work location preference**\n",
    "- For each work location, an employee has one of the following preference:\n",
    "  - Unavailable\n",
    "  - Available\n",
    "  - Preferred\n",
    "\n",
    "In addition, suppose that the following requirements must be met at each store.\n",
    "\n",
    "- **Requirements**\n",
    "  - Number of people required for each position and role\n",
    "  - Type and level of culinary skills required\n",
    "\n",
    "Here, we attempt to assign all employees to stores based on the above requirements and attributes. In addition, employee assignments are made to minimize the variation in fill rate among the stores.\n",
    "\n",
    "Since it is complex to consider all the requirements at once, we implement the solver following the steps below.\n",
    "\n",
    "- [**Step 1**](#step1)  \n",
    "  Employees are assigned to each store based on their work location preferences and the number of employees needed for each store, regardless of each employee's position, role, or skill level.  \n",
    "  - [1.1\\. Formulation](#1-formulation) → [1.2\\. Data creation](#1-data) → [1.3\\. Implementation by Amplify](#1-implementation) → [1.4\\. Solve](#1-solve).  \n",
    "\n",
    "- [**Step 2**](#step2)  \n",
    "  In addition to the requirements addressed in Step 1, we consider the position requirements so that the required number of employees for each position is appropriately assigned to each store.  \n",
    "  - [2.1\\. Formulation](#2-formulation) → [2.2\\. Data creation](#2-data) → [2.3\\. Implementation by Amplify](#2-implementation) → [2.4\\. Solve](#2-solve).  \n",
    "\n",
    "- [**Step 3**](#step3)  \n",
    "  Finally, we will look at the remaining requirements, which are the role and skill level of the employees, as well as the cooking skill requirements in each store.  \n",
    "  - [3.1\\. Formulation](#3-formulation) → [3.2\\. Data creation](#3-data) → [3.3\\. Implementation by Amplify](#3-implementation) → [3.4\\. Solve](#3-solve).  \n",
    "\n",
    "Now, we follow the above steps to formulate the problem and implement the formulation."
   ]
  },
  {
   "attachments": {},
   "cell_type": "markdown",
   "metadata": {},
   "source": [
    "<a id=\"step1\"></a>\n",
    "## **Step 1**\n",
    "\n",
    "In this step, employees are assigned to each store, based on each employee's work location preference and the number of employees required for each store.\n",
    "\n",
    "Suppose each store requires several employees, while each employee has a work preference for each store. Their preference levels are expressed as integers between 0 and 2 for each store, corresponding to the following: unavailable, available, and preferred.\n",
    "\n",
    "- Unavailable → Preference level: 0\n",
    "- Available → Preference level: 1\n",
    "- Preferred → Preference level: 2\n",
    "\n",
    "Our goal is to assign employees to stores in a way that matches the number of employees to the needs of the stores, while satisfying employees' location preferences as much as possible."
   ]
  },
  {
   "attachments": {},
   "cell_type": "markdown",
   "metadata": {},
   "source": [
    "\n",
    "<a id=\"1-formulation\"></a>\n",
    "### **1.1\\. Formulation**\n",
    "\n",
    "First, we define sets, constants, and decision variables used in the formulation.\n",
    "\n",
    "#### **Sets**\n",
    "\n",
    "- $W$: the set of employees (the symbol $i \\in W$ is used to denote employees)\n",
    "- $S$: the set of stores (the symbol $l \\in S$ is used to denote stores)\n",
    "\n",
    "#### **Constants**\n",
    "\n",
    "- $r_{l}$: the number of employees needed for store $l$ ($l \\in S$)\n",
    "- $c_{i,l}$: preference of employee $i$ to work in store $l$ ($i \\in W$ and $l \\in S$)\n",
    "\n",
    "\n",
    "#### **Decision variables**\n",
    "\n",
    "- $L_{i,l}\\in \\{0,1\\}$: `1` if employee $i$ is assigned to store $l$ and `0` if not ($i\\in W$ and $l\\in S$)\n",
    "\n",
    "We optimize which store to assign to an employee. Therefore, the decision variable $L$ is declared as a binary variable matrix of size `[number of employees] x [number of stores]`. \n",
    "\n",
    "For example, if the number of employees is 5 and there are two stores, \"Hakata Store\" and \"Tenjin Store\", it is represented by a `2 x 5` binary variable matrix as follows.\n",
    "\n",
    "| Employee $i$ | Hakata ($l=0$) | Tenjin ($l=1$) |\n",
    "| ------------ | -------------- | -------------- |\n",
    "| $0$          | $L_{0,0}$      | $L_{0,1}$      |\n",
    "| $1$          | $L_{1,0}$      | $L_{1,1}$      |\n",
    "| $2$          | $L_{2,0}$      | $L_{2,1}$      |\n",
    "| $3$          | $L_{3,0}$      | $L_{3,1}$      |\n",
    "| $4$          | $L_{4,0}$      | $L_{4,1}$      |"
   ]
  },
  {
   "attachments": {},
   "cell_type": "markdown",
   "metadata": {},
   "source": [
    "#### **Objective function**\n",
    "\n",
    " When making assignments, it is important to consider the fill rate of the assigned employees with respect to the number of employees required by each store. The fill rate $w_l$ of store $l$ is the ratio of \"*the number of employees assigned to store $l$*\" to \"*the number of employees required by the store $r_l$*\", and can be defined as follows:\n",
    "\n",
    "$$\n",
    "w_l = \\frac{1}{r_l} \\displaystyle\\sum_{i\\in W} L_{i,l}.\n",
    "$$\n",
    "\n",
    "In other words, if the fill rate is greater than or equal to 1, the requirement $r_l$ is satisfied; if it is less than 1, the requirement is not satisfied.\n",
    "\n",
    "In general, it is undesirable for the fill rate to vary from store to store. Therefore, we consider the following three factors. Here, $\\langle \\cdot \\rangle$ denotes the average operation.\n",
    "\n",
    "- **Maximize the average of the fill rate $w_l$**  \n",
    "  $$\n",
    "  \\begin{matrix}\n",
    "      {\\rm maximize} & \\langle w_l \\rangle\n",
    "  \\end{matrix}\n",
    "  $$\n",
    "\n",
    "- **Minimize the variance of the fill rate  $w_l$**  \n",
    "  $$\n",
    "  \\begin{matrix}\n",
    "      {\\rm minimize} & \\langle w_l^2 \\rangle - \\langle w_l \\rangle^2\n",
    "  \\end{matrix}\n",
    "  $$\n",
    "\n",
    "- **Maximize all employees' preferences of work location $c_{i,l}$ for allocated store $l$**  \n",
    "\n",
    "  $$\n",
    "  \\begin{matrix}\n",
    "      {\\rm maximize}& \\displaystyle \\sum_{i\\in W}\\sum_{l\\in S}c_{i,l}L_{i,l}\n",
    "  \\end{matrix}\n",
    "  $$\n",
    "\n",
    "Note that the work preference of employee $i$ for stores that are unassigned ($L_{i,l}=0$) is naturally irrelevant to the sum because $c_{i,l}L_{i,l}=0$."
   ]
  },
  {
   "attachments": {},
   "cell_type": "markdown",
   "metadata": {},
   "source": [
    "#### **Constraints**\n",
    "\n",
    "In the definition of the decision variable, the situation may arise where an employee can be assigned to more than one store at the same time. To avoid such assignments, we impose the following constraint that prohibits the same employee from being assigned to more than one store.\n",
    "\n",
    "- **Employee $i$ can only be assigned to one store at a time**  \n",
    "  $$\n",
    "  \\sum_{l \\in S}L_{i,l} = 1 \\:\\: (\\forall i\\in W)\n",
    "  $$\n",
    "\n",
    "Since the required number of employees $r_l$ is set for each store, and the total number of employees assigned to each store must be greater than or equal to $r_l$, the following constraint is given.\n",
    "\n",
    "- **Each store $l$ is assigned a number of employees equal to or greater than its required number of employees $r_l$**\n",
    "\n",
    "  $$\n",
    "  \\sum_{i\\in W}L_{i,l} \\geq r_{l} \\:\\: (\\forall l \\in S)\n",
    "  $$"
   ]
  },
  {
   "attachments": {},
   "cell_type": "markdown",
   "metadata": {},
   "source": [
    "<a id=\"1-data\"></a>\n",
    "### **1.2\\. Data Creation**\n",
    "\n",
    "We now define the problem setting for the employee assignment problem. As an example, we consider the following problem setting with 5 employees and 2 stores.  \n",
    "\n",
    "We use `pandas.DataFrame` to store the data."
   ]
  },
  {
   "cell_type": "code",
   "execution_count": null,
   "metadata": {},
   "outputs": [],
   "source": [
    "import pandas as pd\n",
    "\n",
    "# Set the name of each store and the number of employees required\n",
    "dict_req = {\"location\": [\"tenjin\", \"hakata\"], \"num_employees\": [2, 3]}\n",
    "\n",
    "# Set the work location preference for each employee\n",
    "dict_worker_loc = {\n",
    "    \"worker_id\": [0, 1, 2, 3, 4],  # ID of the employee\n",
    "    \"tenjin\": [2, 2, 1, 0, 1],  # Each employee's preference to work at tenjin store\n",
    "    \"hakata\": [1, 1, 1, 1, 0],  # Each employee's desire to work at hakata stores\n",
    "}\n",
    "\n",
    "df_req = pd.DataFrame.from_dict(dict_req, orient=\"index\").T\n",
    "print(\"Number of employees requested for each store\")\n",
    "display(df_req)\n",
    "df_worker_loc = pd.DataFrame.from_dict(dict_worker_loc, orient=\"index\").T\n",
    "print(\"\\nEach employee's work location preference\")\n",
    "display(df_worker_loc)\n",
    "\n",
    "workers = df_worker_loc[\"worker_id\"].values\n",
    "locations = df_req[\"location\"].values\n",
    "\n",
    "# Get the size of each data\n",
    "num_workers = len(workers)\n",
    "num_locations = len(locations)\n",
    "\n",
    "# Create a dictionary with store names and their indices as keys and values, respectively\n",
    "loc2idx = dict((v, i) for i, v in enumerate(df_req[\"location\"].values))\n",
    "# Create a dictionary with store indices and their names as keys and values, respectively\n",
    "idx2loc = dict((i, v) for i, v in enumerate(df_req[\"location\"].values))"
   ]
  },
  {
   "attachments": {},
   "cell_type": "markdown",
   "metadata": {},
   "source": [
    "<a id=\"1-implementation\"></a>\n",
    "### **1.3\\. Implementation with Amplify**\n",
    "\n",
    "Now we implement the formulations using Amplify.\n",
    "\n",
    "First, create a binary variable matrix, `location_variables`, representing the decision variable $L$ using the `BinarySymbolGenerator` class."
   ]
  },
  {
   "cell_type": "code",
   "execution_count": null,
   "metadata": {},
   "outputs": [],
   "source": [
    "from amplify import BinarySymbolGenerator\n",
    "\n",
    "gen = BinarySymbolGenerator()\n",
    "# Binary variable indicating whether employee i is assigned to store l or not\n",
    "location_variables = gen.array(num_workers, num_locations)\n",
    "\n",
    "# The decision variables are a 5x2 matrix.\n",
    "print(location_variables)"
   ]
  },
  {
   "attachments": {},
   "cell_type": "markdown",
   "metadata": {},
   "source": [
    "If the work location preference of employee $i$ for store $l$ is \"unavailable\", we know in advance that they will not work at that store, so we can assign a constant 0 to the corresponding element of the `location_variables`. This reduces the size of the final problem to be solved by annealing."
   ]
  },
  {
   "cell_type": "code",
   "execution_count": null,
   "metadata": {},
   "outputs": [],
   "source": [
    "from itertools import product\n",
    "\n",
    "# Assign 0 for locations where employee i is unable to work\n",
    "for i, l in product(range(num_workers), locations):\n",
    "    worker_req = df_worker_loc.iloc[i][l]\n",
    "    # Unable to work based on work location preference\n",
    "    if worker_req == 0:\n",
    "        location_variables[i, loc2idx[l]] = 0\n",
    "\n",
    "# In the decision variables, the element related to the store where the worker cannot work is zero-padded.\n",
    "print(location_variables)"
   ]
  },
  {
   "attachments": {},
   "cell_type": "markdown",
   "metadata": {},
   "source": [
    "Next, we implement the formulation of the fill rate $w_l$ defined for the required number of employees in each store $l$. The fill rate $w_l$ is expressed as follows, as described in [1.1\\. Formulation](#1-formulation):\n",
    "\n",
    "$$\n",
    "\\begin{align*}\n",
    "    w_l = \\frac{1}{r_l} \\displaystyle\\sum_{i\\in W} L_{i,l}\n",
    "\\end{align*}\n",
    "$$"
   ]
  },
  {
   "cell_type": "code",
   "execution_count": null,
   "metadata": {},
   "outputs": [],
   "source": [
    "from amplify import sum_poly\n",
    "\n",
    "w_l = location_variables.sum(axis=0) / df_req[\"num_employees\"].values"
   ]
  },
  {
   "attachments": {},
   "cell_type": "markdown",
   "metadata": {},
   "source": [
    "Based on the fill rate defined above, we can now calculate each element of the objective function introduced in [1.1\\. Formulation](#1-formulation). To maximize the function, we transform it into a minimization problem by considering its negative value.\n",
    "\n",
    "- **Maximize the average of the fill rate $w_l$**\n",
    "\n",
    "  (Convert to minimizing its negative value)\n",
    "\n",
    "  $$\n",
    "  \\begin{matrix}\n",
    "      {\\rm minimize} & -\\langle w_l \\rangle\n",
    "  \\end{matrix}\n",
    "  $$\n",
    "\n",
    "- **Minimize the variance of the fill rate  $w_l$**  \n",
    "\n",
    "  $$\n",
    "  \\begin{matrix}\n",
    "      {\\rm minimize} & \\langle w_l^2 \\rangle - \\langle w_l \\rangle^2\n",
    "  \\end{matrix}\n",
    "  $$\n",
    "\n",
    "- **Maximize all employees' preferences of work location $c_{i,l}$ for assigned store $l$**  \n",
    "\n",
    "  (Convert to minimizing its negative value)\n",
    "\n",
    "  $$\n",
    "  \\begin{matrix}\n",
    "      {\\rm minimize}& \\displaystyle -\\sum_{i\\in W}\\sum_{l\\in S}c_{i,l}L_{i,l}\n",
    "  \\end{matrix}\n",
    "  $$"
   ]
  },
  {
   "cell_type": "code",
   "execution_count": null,
   "metadata": {},
   "outputs": [],
   "source": [
    "# Maximize average fill rate (minimize its negative values)\n",
    "average_fill_rate_cost = -((w_l.sum() / w_l.size) ** 2)\n",
    "\n",
    "# Minimize the fill rate variance\n",
    "variance_fill_rate_cost = (w_l * w_l).sum() / w_l.size - (w_l.sum() / w_l.size) ** 2\n",
    "\n",
    "# Maximize the employees' work location preference for the assigned store (minimize its negative values)\n",
    "location_cost = -sum_poly(\n",
    "    num_workers,\n",
    "    lambda i: sum_poly(\n",
    "        num_locations,\n",
    "        lambda l: df_worker_loc.loc[i][idx2loc[l]] * location_variables[i, l],\n",
    "    ),\n",
    ")"
   ]
  },
  {
   "attachments": {},
   "cell_type": "markdown",
   "metadata": {},
   "source": [
    "Finally, we will implement the constraints introduced in [1.1\\. Formulation](#1-formulation).\n",
    "\n",
    "> - **Employee $i$ can only be assigned to one store at a time**  \n",
    "> \n",
    ">   $$\n",
    ">   \\sum_{l \\in S}L_{i,l} = 1 \\:\\: (\\forall i\\in W)\n",
    ">   $$\n",
    "> \n",
    "> - **Each store $l$ is assigned a number of employees equal to or greater than its required number of employees $r_l$**\n",
    "> \n",
    ">   $$\n",
    ">   \\sum_{i\\in W}L_{i,l} \\geq r_{l} \\:\\: (\\forall l \\in S)\n",
    ">   $$\n",
    "\n",
    "The first constraint is implemented using `one_hot` (or `equal_to` since it is an equality constraint). The second constraint expression is an inequality constraint, so we use `greater_equal`."
   ]
  },
  {
   "cell_type": "code",
   "execution_count": null,
   "metadata": {},
   "outputs": [],
   "source": [
    "from amplify.constraint import equal_to, greater_equal, one_hot\n",
    "\n",
    "# An employee i can be assigned to only one store at a time\n",
    "location_constarints = sum(one_hot(location_variables[i]) for i in range(num_workers))\n",
    "\n",
    "# In a store l, assign a number of employees greater than or equal to the store's required number of employees r_l\n",
    "require_constraints = sum(\n",
    "    greater_equal(location_variables[:, l], df_req[\"num_employees\"][l])\n",
    "    for l in range(num_locations)\n",
    ")"
   ]
  },
  {
   "attachments": {},
   "cell_type": "markdown",
   "metadata": {},
   "source": [
    "The three objective functions and two constraint formulas implemented earlier are added together to create the model to be optimized.  \n",
    "\n",
    "Note that these objective functions and constraint expressions have different ranges of possible values. If optimization is performed on the combined model as it is, the objective or constraint equations with relatively small possible values will not be properly considered in the optimization. As a result, there is a possibility that only the objective or constraint equations with large possible values may be satisfied in the solution. In other words, if a high-priority objective function is intentionally given a large value, there is a high probability that this objective function will be optimized.\n",
    "\n",
    "Therefore, it is sometimes necessary to multiply each objective and/or constraint function by one or more coefficients (weights) so that the range of possible values of all objective and constraint expressions is approximately the same, or so that the objective function is prioritized  is relatively large. The following `loc_priority`, `ave_fill_priority`, and `var_fill_priority` are the coefficients corresponding to the location preference, the average fill rate, and the variance of fill rate, respectively. Also, `constraint_weight` is the weight for the constraint equations.\n",
    "\n",
    "Here, the coefficients are determined by considering the possible values of each objective function. For example, since the variance will be positive and small, you will need to give it a relatively large coefficient to be considered as an objective function."
   ]
  },
  {
   "cell_type": "code",
   "execution_count": null,
   "metadata": {},
   "outputs": [],
   "source": [
    "# Coefficients of the respective objective function\n",
    "loc_priority = 1\n",
    "ave_fill_priority = 1\n",
    "var_fill_priority = 10\n",
    "\n",
    "# Objective function\n",
    "cost_func = (\n",
    "    loc_priority * location_cost\n",
    "    + ave_fill_priority * average_fill_rate_cost\n",
    "    + var_fill_priority * variance_fill_rate_cost\n",
    ")"
   ]
  },
  {
   "attachments": {},
   "cell_type": "markdown",
   "metadata": {},
   "source": [
    "The strength of the constraints must also be set appropriately. Since the constraint is given to the Ising machine as a penalty function for the objective function, it is determined by estimating a value slightly larger than the possible values of the objective function. \n",
    "\n",
    "Here, we take $10$ as the weight. If no solution is found that satisfies the constraints, the weight of the constraints must be increased slightly and another attempt must be made. \n",
    "\n",
    "On the other hand, if the used constraint weights are extremely high, the objective function will not be considered relatively in the optimization process, so care must be taken."
   ]
  },
  {
   "cell_type": "code",
   "execution_count": null,
   "metadata": {},
   "outputs": [],
   "source": [
    "# Penalty function weights for constraint conditions\n",
    "constraint_weight = 10\n",
    "\n",
    "# Constraint\n",
    "constraints = constraint_weight * (location_constarints + require_constraints)\n",
    "\n",
    "# Add together the objective function and constraints to create the model to be optimized\n",
    "model = cost_func + constraints"
   ]
  },
  {
   "attachments": {},
   "cell_type": "markdown",
   "metadata": {},
   "source": [
    "Formulation implementation is now complete."
   ]
  },
  {
   "attachments": {},
   "cell_type": "markdown",
   "metadata": {},
   "source": [
    "<a id=\"1-solve\"></a>\n",
    "### **1.4\\. Solution** \n",
    "\n",
    "First, set up the client for the Ising or quantum annealing machine to be used. This time, choose an Ising machine, *Fixstars Amplify AE* (`FixstarsClient`)."
   ]
  },
  {
   "cell_type": "code",
   "execution_count": null,
   "metadata": {},
   "outputs": [],
   "source": [
    "from amplify.client import FixstarsClient\n",
    "\n",
    "# Setup the client\n",
    "client = FixstarsClient()\n",
    "# client.token = \"xxxxxxxxxxxxxxxxxxxxxxxxxxxxxxxx\"  # Enter Amplify AE access token for your environment\n",
    "client.parameters.timeout = 1000  #  Timeout 1 second"
   ]
  },
  {
   "attachments": {},
   "cell_type": "markdown",
   "metadata": {},
   "source": [
    "Next, a solver is created from the configured client to optimize the formulated model. After solving, the solution is retrieved using the `decode` method to obtain the solution in the form corresponding to the decision variable matrix `location_variables`. The obtained solution is stored in `location_solutions`."
   ]
  },
  {
   "cell_type": "code",
   "execution_count": null,
   "metadata": {},
   "outputs": [],
   "source": [
    "from amplify import Solver\n",
    "\n",
    "# Instantiate the solver class\n",
    "solver = Solver(client)\n",
    "\n",
    "# Pass the model to the solver to solve and obtain the result\n",
    "result = solver.solve(model)\n",
    "\n",
    "# If a solution that satisfies the constraints is not obtained, RuntimeError is issued (adjust weights, etc., and re-run)\n",
    "if len(result) == 0:\n",
    "    raise RuntimeError(\"The given constraints are not satisfied\")\n",
    "values = result[0].values\n",
    "\n",
    "# Retrieve the solution in the form corresponding to the `location_variables` variable matrix\n",
    "location_solutions = location_variables.decode(values, 0)\n",
    "\n",
    "print(location_solutions)"
   ]
  },
  {
   "attachments": {},
   "cell_type": "markdown",
   "metadata": {},
   "source": [
    "### Results\n",
    "\n",
    "From the obtained solution, we can extract the information about which store each employee is assigned to. If the result of the solution `location_solutions[i][l] = 1`, it means that employee $i$ is assigned to store $l$. Therefore, by retrieving the index whose solution is $1$, we can know the assigned store for the employee $i$.\n",
    "\n",
    "Store the result in a `pandas.DataFrame` for tabular output."
   ]
  },
  {
   "cell_type": "code",
   "execution_count": null,
   "metadata": {},
   "outputs": [],
   "source": [
    "import numpy as np\n",
    "from collections import defaultdict\n",
    "\n",
    "location_index_list = np.where(np.array(location_solutions) == 1)[1]\n",
    "dict_df = defaultdict(list)\n",
    "\n",
    "for i, loc_ind in enumerate(location_index_list):\n",
    "    worker_id = df_worker_loc.loc[i][\"worker_id\"]\n",
    "    # Store to be assigned to\n",
    "    loc = locations[loc_ind]\n",
    "    dict_df[\"worker_id\"].append(worker_id)\n",
    "    dict_df[\"allocation\"].append(loc)\n",
    "\n",
    "df_result = pd.DataFrame.from_dict(dict_df, orient=\"index\").T\n",
    "\n",
    "print(\"Assigned store for each employee\")\n",
    "display(df_result)"
   ]
  },
  {
   "attachments": {},
   "cell_type": "markdown",
   "metadata": {},
   "source": [
    "Finally, check to what extent the solution meets the number of people required at each store. To do this, we can calculate the fill rate at each store by using the formulation defined in [1.1\\. Formulation](#1-formulation)."
   ]
  },
  {
   "cell_type": "code",
   "execution_count": null,
   "metadata": {},
   "outputs": [],
   "source": [
    "# Count the number of times each store name appears in the `allocation` list in df_result = number of employees assigned to each store\n",
    "num_employees_allocated = df_result[\"allocation\"].value_counts()\n",
    "fill_rate = df_req.copy()\n",
    "fill_rate[\"fill rate\"] = [\n",
    "    df_req.loc[l][\"num_employees\"] / num_employees_allocated[idx2loc[l]]\n",
    "    for l in range(num_locations)\n",
    "]\n",
    "\n",
    "print(\"Fill rate for each store\")\n",
    "display(fill_rate)"
   ]
  },
  {
   "attachments": {},
   "cell_type": "markdown",
   "metadata": {},
   "source": [
    "This confirms that the employee assignments were successfully optimized in Step 1 since the fill rate is greater than or equal to 1.0 in all stores."
   ]
  },
  {
   "attachments": {},
   "cell_type": "markdown",
   "metadata": {},
   "source": [
    "<a id=\"step2\"></a>\n",
    "## **Step 2**\n",
    "\n",
    "In Step 2, in addition to \"*each employee's preference for work location*\" and \"*the number of employees required for each store*\" considered in [Step 1](#step1), we will assign employees to satisfy the number of employees for each **position** required at each store.\n",
    "\n",
    "For example, there may be a store that requires one manager and three staff members.\n",
    "\n",
    "We consider three positions which are *store manager*, *assistant manager*, and *staff*. Each employee has an attribute that indicates whether they can be assigned to each position, in addition to the work location preference mentioned above."
   ]
  },
  {
   "attachments": {},
   "cell_type": "markdown",
   "metadata": {},
   "source": [
    "<a id=\"2-formulation\"></a>\n",
    "### **2.1\\. Formulation**\n",
    "\n",
    "First, we define the sets, constants, and decision variables to be used in the formulation.\n",
    "\n",
    "#### **Sets**\n",
    "\n",
    "- $W$: the set of employees (the symbol $i \\in W$ is used to denote employees)\n",
    "- $S$: the set of stores (the symbol $l \\in S$ is used to denote stores)\n",
    "- $R$: the set of positions (the symbol $j \\in R$ is used to denote positions)\n",
    "  - $j=0$: manager (`manager`)\n",
    "  - $j=1$: assistant manager (`submanager`)\n",
    "  - $j=2$: staff (no position) (`staff`)\n",
    "\n",
    "#### **Constants**\n",
    "\n",
    "- $r_{j,l}$: the number of required employees needed for position $j$ in store $l$ ($l \\in S$ and $j \\in R$)\n",
    "- $c_{i,l}$: preference of work location $l$ for employee $i$ ($i \\in W$ and $l \\in S$)\n",
    "- $m_{i,j}$: whether employee $i$ can be assigned to position $j$, 0: impossible, 1: possible ($i \\in W$ and $j \\in R$)\n",
    "\n",
    "#### **Decision variables**\n",
    "\n",
    "- $M_{i,j,l}$: whether assigning employee $i$ to store $l$ as position $j$ `1` or not `0` ($i\\in W$ and $j\\in R$, $l\\in S$)\n",
    "- $L_{i,l}\\in \\{0,1\\}$: whether assigning employee $i$ to store $l$ `1` or not `0` ($i\\in W$ and $l\\in S$)\n",
    "  - There is a relation $L_{i,l} = \\sum_{j \\in R} M_{i,j,l}$."
   ]
  },
  {
   "attachments": {},
   "cell_type": "markdown",
   "metadata": {},
   "source": [
    "#### **Objective function**\n",
    "\n",
    "As in [Step 1](#step1), we define the fill rate $w_l$ of assigned employees to the required number of employees in each store regardless of the positions.\n",
    "\n",
    "$$\n",
    "w_l = \\frac{\\displaystyle \\sum_{i\\in W} L_{i,l}}{\\displaystyle \\sum_{j\\in R} r_{j,l}}  \n",
    "$$\n",
    "\n",
    "As in [Step 1](#step1), the following three objective functions are used.\n",
    "\n",
    "\n",
    "- **Maximize the average of the fill rate $w_l$**  \n",
    "\n",
    "  $$\n",
    "  \\begin{matrix}\n",
    "      {\\rm maximize} & \\langle w_l \\rangle\n",
    "  \\end{matrix}\n",
    "  $$\n",
    "\n",
    "- **Minimize the variance of the fill rate  $w_l$**  \n",
    "\n",
    "  $$\n",
    "  \\begin{matrix}\n",
    "      {\\rm minimize} & \\langle w_l^2 \\rangle - \\langle w_l \\rangle^2\n",
    "  \\end{matrix}\n",
    "  $$\n",
    "\n",
    "- **Maximize all employee preferences for work location $c_{i,l}$ for assigned store $l$**  \n",
    "\n",
    "  $$\n",
    "  \\begin{matrix}\n",
    "      {\\rm maximize}& \\displaystyle \\sum_{i\\in W}\\sum_{l\\in S}c_{i,l}L_{i,l}\n",
    "  \\end{matrix}\n",
    "  $$"
   ]
  },
  {
   "attachments": {},
   "cell_type": "markdown",
   "metadata": {},
   "source": [
    "#### **Constraints**\n",
    "\n",
    "Similar to [Step 1](#step1), when we define decision variables, a situation may arise where an employee can be assigned to more than one store at the same time. In addition, the required number of employees who can be a manager(s)/assistant manager(s) must be appropriately assigned to each store. \n",
    "\n",
    "Therefore, the following constraints are imposed to properly assign the required number of employees with a managerial position to each store and to prohibit the same employee from being assigned to more than one store, regardless of whether the employee has a position or not.\n",
    "\n",
    "- **Employee $i$ can only be assigned to one store at a time**.  \n",
    "\n",
    "  $$\n",
    "  \\sum_{l \\in S}L_{i,l} = 1 \\:\\:\\:\\: (\\forall i\\in W)\n",
    "  $$\n",
    "\n",
    "- **Each store $l$ is assigned a number of managerial employees $j \\in \\left\\{0, 1 \\right\\}$ equal to its required number of managerial employees at each store**.\n",
    "\n",
    "  $$\n",
    "  \\sum_{i\\in W}M_{i,j,l} = r_{j,l} \\:\\:\\:\\: (\\forall l \\in S, \\forall j \\in \\left\\{0, 1 \\right\\})\n",
    "  $$\n",
    "\n",
    "- **Each store $l$ is assigned a number of employees equal to or greater than its required number of employees $r_l$**\n",
    "\n",
    "  $$\n",
    "  \\sum_{i\\in W} L_{i,l} \\geq \\sum_{j\\in R}r_{j,l} \\:\\:\\:\\: (\\forall l \\in S)\n",
    "  $$"
   ]
  },
  {
   "attachments": {},
   "cell_type": "markdown",
   "metadata": {},
   "source": [
    "<a id=\"2-data\"></a>\n",
    "### **2.2\\. Data creation**\n",
    "\n",
    "Now we define the problem set to demonstrate the assignment problem. As an example, we will create the following data with 9 employees and 4 stores as an example."
   ]
  },
  {
   "cell_type": "code",
   "execution_count": null,
   "metadata": {},
   "outputs": [],
   "source": [
    "import pandas as pd\n",
    "\n",
    "# Set up information on the number of people requested for each store\n",
    "dict_req = {\n",
    "    \"location\": [\"tenjin\", \"hakata\", \"akasaka\", \"gakken\"],  # Store name\n",
    "    \"num_managers\": [\n",
    "        1,\n",
    "        1,\n",
    "        1,\n",
    "        1,\n",
    "    ],  # Number of required employees with manager position at each store\n",
    "    \"num_submanagers\": [\n",
    "        1,\n",
    "        0,\n",
    "        1,\n",
    "        1,\n",
    "    ],  # Number of requested employees with assistant manager position at each store\n",
    "    \"num_employees_any_position\": [\n",
    "        2,\n",
    "        2,\n",
    "        2,\n",
    "        2,\n",
    "    ],  # Number of employees requested for each store (all employees with or without managerial position)\n",
    "}\n",
    "df_req = pd.DataFrame.from_dict(dict_req, orient=\"index\").T\n",
    "\n",
    "# Set each employee's work location preference\n",
    "dict_worker_loc = {\n",
    "    # ID of the employee\n",
    "    \"worker_id\": [0, 1, 2, 3, 4, 5, 6, 7, 8],\n",
    "    # Employee's work location preference for tenjin store\n",
    "    \"tenjin\": [2, 0, 0, 0, 1, 1, 2, 1, 1],\n",
    "    # Employee's work location preference for hakata store\n",
    "    \"hakata\": [1, 0, 0, 2, 2, 2, 1, 2, 1],\n",
    "    # Employee's work location preference for akasaka store\n",
    "    \"akasaka\": [1, 0, 0, 1, 0, 1, 1, 1, 2],\n",
    "    # Employee's work location preference for gakken store\n",
    "    \"gakken\": [1, 2, 2, 0, 0, 0, 0, 0, 0],\n",
    "}\n",
    "df_worker_loc = pd.DataFrame.from_dict(dict_worker_loc, orient=\"index\").T\n",
    "\n",
    "# Set each employee's position qualifications\n",
    "dict_worker_skill = {\n",
    "    # ID of the employee\n",
    "    \"worker_id\": [0, 1, 2, 3, 4, 5, 6, 7, 8],\n",
    "    # Qualified as a manager 1 or not 0\n",
    "    \"manager\": [1, 1, 0, 0, 1, 1, 1, 0, 1],\n",
    "    # Qualified as an assistant manager 1 or not 0\n",
    "    \"submanager\": [1, 1, 1, 0, 1, 1, 1, 0, 1],\n",
    "    # Qualified as non-managerial position 1 or not 0\n",
    "    \"staff\": [1, 1, 1, 1, 1, 1, 1, 1, 1],\n",
    "}\n",
    "df_worker_skill = pd.DataFrame.from_dict(dict_worker_skill, orient=\"index\").T"
   ]
  },
  {
   "attachments": {},
   "cell_type": "markdown",
   "metadata": {},
   "source": [
    "The number of required employees for the manager (`manager`), assistant manager (`submanager`), and all employees (`manager` + `submanager` + `staff`) for each store is stored in `df_req`. The number of non-managerial employees (`staff`) to be assigned is `num_employees_any_position - num_managers - num_submanagers`."
   ]
  },
  {
   "cell_type": "code",
   "execution_count": null,
   "metadata": {},
   "outputs": [],
   "source": [
    "print(\"Number of people requested by position per store\")\n",
    "display(df_req)"
   ]
  },
  {
   "attachments": {},
   "cell_type": "markdown",
   "metadata": {},
   "source": [
    "Each employee's work location preference for each store is stored in `df_worker_loc`."
   ]
  },
  {
   "cell_type": "code",
   "execution_count": null,
   "metadata": {},
   "outputs": [],
   "source": [
    "print(\"Work location preference for each store\")\n",
    "display(df_worker_loc)"
   ]
  },
  {
   "attachments": {},
   "cell_type": "markdown",
   "metadata": {},
   "source": [
    "The DataFrame `df_worker_skill` contains the position qualification information for each employee. If the value is $1$, it means that the employee can hold that position.\n",
    "For example, an employee with `worker_id = 1` can be a manager and an assistant manager. On the other hand, an employee with `worker_id = 7` cannot be a store manager or assistant manager."
   ]
  },
  {
   "cell_type": "code",
   "execution_count": null,
   "metadata": {},
   "outputs": [],
   "source": [
    "print(\"Qualification by position for each employee\")\n",
    "display(df_worker_skill)"
   ]
  },
  {
   "attachments": {},
   "cell_type": "markdown",
   "metadata": {},
   "source": [
    "Now we set up the correspondence between employee IDs, store names, and position titles and indices as follows."
   ]
  },
  {
   "cell_type": "code",
   "execution_count": null,
   "metadata": {},
   "outputs": [],
   "source": [
    "# Get employee ID, store name, and title\n",
    "workers = df_worker_loc[\"worker_id\"].values\n",
    "locations = df_req[\"location\"].values\n",
    "positions = [\"manager\", \"submanager\", \"staff\"]\n",
    "\n",
    "# Create a dictionary with a store index and its name as key and value, respectively\n",
    "idx2loc = {i: v for i, v in enumerate(locations)}\n",
    "# Create a dictionary with the store name and its index as key and value, respectively\n",
    "loc2idx = {v: i for i, v in enumerate(locations)}\n",
    "# Create a dictionary with the job title index and job title name as key and value, respectively\n",
    "idx2position = {i: v for i, v in enumerate(positions)}\n",
    "# Create a dictionary with the job title and its index as keys and values, respectively\n",
    "position2idx = {v: i for i, v in enumerate(positions)}\n",
    "\n",
    "# Get the size of each data\n",
    "num_workers = len(workers)\n",
    "num_locations = len(locations)\n",
    "num_positions = len(positions)"
   ]
  },
  {
   "attachments": {},
   "cell_type": "markdown",
   "metadata": {},
   "source": [
    "<a id=\"2-implementation\"></a>\n",
    "### **2.3\\. Implementation with Amplify**\n",
    "\n",
    "Now we will implement the formulations using Amplify.\n",
    "\n",
    "First, create the variable `position_variables` representing the decision variable $M$ using `BinarySymbolGenerator`. Note that unlike [Step 1](#step1), this is a three-dimensional array of employees, positions, and stores."
   ]
  },
  {
   "cell_type": "code",
   "execution_count": null,
   "metadata": {},
   "outputs": [],
   "source": [
    "# Binary variable indicating whether employee i is assigned 1 or not 0 to store l with position j\n",
    "position_variables = BinarySymbolGenerator().array(\n",
    "    num_workers, num_positions, num_locations\n",
    ")\n",
    "\n",
    "# The decision variables are a 9x3x4 matrix.\n",
    "print(position_variables)"
   ]
  },
  {
   "attachments": {},
   "cell_type": "markdown",
   "metadata": {},
   "source": [
    "Similar to [Step 1](#step1), the decision variable for the store $l$ will be zero-padded if employee $i$ is \"unavailable\" in the work location preference attribute.\n",
    "\n",
    "In addition, the elements that are not assignable in terms of \"position\" are also zero-padded. This reduces the size of the final problem to be solved."
   ]
  },
  {
   "cell_type": "code",
   "execution_count": null,
   "metadata": {},
   "outputs": [],
   "source": [
    "for i, l in product(range(num_workers), locations):\n",
    "    worker_req = df_worker_loc.iloc[i][l]\n",
    "    if worker_req == 0:\n",
    "        # Employee i cannot be assigned at the store l based on their work location preference\n",
    "        position_variables[i, :, loc2idx[l]] = 0\n",
    "\n",
    "for i, j in product(range(num_workers), positions):\n",
    "    worker_skill = df_worker_skill.iloc[i][j]\n",
    "    if worker_skill == 0:\n",
    "        # Employee i cannot be assigned to any store based on employee i's qualification for managerial positions\n",
    "        position_variables[i, position2idx[j], :] = 0\n",
    "\n",
    "# Confirm that the decision variable elements for non-working stores and positions are fixed at 0\n",
    "print(position_variables)"
   ]
  },
  {
   "attachments": {},
   "cell_type": "markdown",
   "metadata": {},
   "source": [
    "For the `location_variables` representing the decision variables $L$, the relation between the decision variables $M$ and $L$ can be used as follows (see [2.1 Formulation](#2-formulation)):"
   ]
  },
  {
   "cell_type": "code",
   "execution_count": null,
   "metadata": {},
   "outputs": [],
   "source": [
    "location_variables = position_variables.sum(axis=1)\n",
    "display(location_variables)"
   ]
  },
  {
   "attachments": {},
   "cell_type": "markdown",
   "metadata": {},
   "source": [
    "Next, we implement the formulation of the fill rate $w_l$ for the required number of people in each store $l$. The fill rate $w_l$ is expressed as follows, as described in [2.1\\. Formulation](#1-formulation):\n",
    "\n",
    "$$\n",
    "w_l = \\frac{\\displaystyle \\sum_{i\\in W} L_{i,l}}{\\displaystyle \\sum_{j\\in R} r_{j,l}}  \n",
    "$$\n",
    "\n",
    "Here, the denominator $\\sum_{j\\in R} r_{j,l}$ is the number of all employees, regardless of position, in each store $l$, which corresponds to `df_req[\"num_employees_any_position\"]`."
   ]
  },
  {
   "cell_type": "code",
   "execution_count": null,
   "metadata": {},
   "outputs": [],
   "source": [
    "# Calculation of the fill rate\n",
    "w_l = location_variables.sum(axis=0) / df_req[\"num_employees_any_position\"].values"
   ]
  },
  {
   "attachments": {},
   "cell_type": "markdown",
   "metadata": {},
   "source": [
    "With the fill rate defined above, we can now calculate each element of the objective function introduced in [2.1\\. Formulation](#2-formulation). To maximize the function, we transform it into a minimization problem by considering its negative value.\n",
    "\n",
    "- **Maximize the average of the fill rate $w_l$**  \n",
    "\n",
    "  (Convert to minimizing its negative value)\n",
    "\n",
    "  $$\n",
    "  \\begin{matrix}\n",
    "      {\\rm minimize} & -\\langle w_l \\rangle\n",
    "  \\end{matrix}\n",
    "  $$\n",
    "\n",
    "- **Minimize the variance of the fill rate $w_l$**  \n",
    "\n",
    "  $$\n",
    "  \\begin{matrix}\n",
    "      {\\rm minimize} & \\langle w_l^2 \\rangle - \\langle w_l \\rangle^2\n",
    "  \\end{matrix}\n",
    "  $$\n",
    "\n",
    "- **Maximize all employees' preferences of work location $c_{i,l}$ for assigned store $l$**  \n",
    "\n",
    "  (Convert to minimizing its negative value)\n",
    "\n",
    "  $$\n",
    "  \\begin{matrix}\n",
    "      {\\rm minimize}& \\displaystyle -\\sum_{i\\in W}\\sum_{l\\in S}c_{i,l}L_{i,l}\n",
    "  \\end{matrix}\n",
    "  $$"
   ]
  },
  {
   "cell_type": "code",
   "execution_count": null,
   "metadata": {},
   "outputs": [],
   "source": [
    "# Maximize average fill rate (minimize negative values of fill rate)\n",
    "average_fill_rate_cost = -((w_l.sum() / w_l.size) ** 2)\n",
    "\n",
    "# Minimize fill rate variance\n",
    "variance_fill_rate_cost = (w_l * w_l).sum() / w_l.size - (w_l.sum() / w_l.size) ** 2\n",
    "\n",
    "# Maximize all employees' preferences of work location for assigned store\n",
    "location_cost = -sum_poly(\n",
    "    num_workers,\n",
    "    lambda i: sum_poly(\n",
    "        num_locations,\n",
    "        lambda l: df_worker_loc.loc[i][idx2loc[l]] * location_variables[i][l],\n",
    "    ),\n",
    ")"
   ]
  },
  {
   "attachments": {},
   "cell_type": "markdown",
   "metadata": {},
   "source": [
    "Finally, we will implement the constraints introduced in [2.1\\. Formulation](#2-formulation).\n",
    "\n",
    "> - **Employee $i$ can only be assigned to one store at a time**.  \n",
    "> \n",
    ">   $$\n",
    ">   \\sum_{l \\in S}L_{i,l} = 1 \\:\\:\\:\\: (\\forall i\\in W)\n",
    ">   $$\n",
    "> \n",
    "> - **Each store $l$ is assigned a number of managerial employees $j \\in \\left\\{0, 1 \\right\\}$ equal to its required number of managerial employees at each store**.\n",
    "> \n",
    ">   $$\n",
    ">   \\sum_{i\\in W}M_{i,j,l} = r_{j,l} \\:\\:\\:\\: (\\forall l \\in S, \\forall j \\in \\left\\{0, 1 \\right\\})\n",
    ">   $$\n",
    "> \n",
    "> - **Each store $l$ is assigned a number of employees equal to or greater than its required number of employees $r_l$**\n",
    "> \n",
    ">   $$\n",
    ">   \\sum_{i\\in W} L_{i,l} \\geq \\sum_{j\\in R}r_{j,l} \\:\\:\\:\\: (\\forall l \\in S)\n",
    ">   $$\n",
    "\n",
    "The first and second constraints are implemented using `one_hot` (or `equal_to` since they are equality constraints). The third constraint is an inequality constraint, so we use `greater_equal`."
   ]
  },
  {
   "cell_type": "code",
   "execution_count": null,
   "metadata": {},
   "outputs": [],
   "source": [
    "# Employee i can be assigned to only one store at a time\n",
    "location_constarints = sum(one_hot(location_variables[i]) for i in range(num_workers))\n",
    "\n",
    "# Assign the number of employees with position j required by each store l\n",
    "req_manager_constraints = sum(\n",
    "    equal_to(position_variables[:, 0, l], df_req[\"num_managers\"][l])\n",
    "    for l in range(num_locations)\n",
    ")\n",
    "req_submanager_constraints = sum(\n",
    "    equal_to(position_variables[:, 1, l], df_req[\"num_submanagers\"][l])\n",
    "    for l in range(num_locations)\n",
    ")\n",
    "\n",
    "# Assign to each store l the number of employees (total number of all employees regardless of position) that is greater than or equal to the store's required number of employees r_l\n",
    "req_employee_constraints = sum(\n",
    "    greater_equal(location_variables[:, l], df_req[\"num_employees_any_position\"][l])\n",
    "    for l in range(num_locations)\n",
    ")"
   ]
  },
  {
   "attachments": {},
   "cell_type": "markdown",
   "metadata": {},
   "source": [
    "The optimization model is created based on the objective function and constraint equations implemented above. Although it is necessary to set appropriate weights for the objective function and constraints for step 2 as well, the basic idea is as described in [1.3\\. Implementation by Amplify](#1-implementation), and the same weights are given below."
   ]
  },
  {
   "cell_type": "code",
   "execution_count": null,
   "metadata": {},
   "outputs": [],
   "source": [
    "# Coefficients of the objective function\n",
    "loc_priority = 1\n",
    "ave_fill_priority = 1\n",
    "var_fill_priority = 10\n",
    "\n",
    "# Objective function\n",
    "cost_func = (\n",
    "    loc_priority * location_cost\n",
    "    + ave_fill_priority * average_fill_rate_cost\n",
    "    + var_fill_priority * variance_fill_rate_cost\n",
    ")\n",
    "\n",
    "# Weights of the penalty function representing the constraint\n",
    "constraint_weight = 10\n",
    "\n",
    "# Constraint\n",
    "constraints = constraint_weight * (\n",
    "    location_constarints\n",
    "    + req_manager_constraints\n",
    "    + req_submanager_constraints\n",
    "    + req_employee_constraints\n",
    ")\n",
    "\n",
    "# Add together the objective function and constraints to create the model to be optimized\n",
    "model = cost_func + constraints"
   ]
  },
  {
   "attachments": {},
   "cell_type": "markdown",
   "metadata": {},
   "source": [
    "We have completed the implementation of the Step 2 formulation."
   ]
  },
  {
   "attachments": {},
   "cell_type": "markdown",
   "metadata": {},
   "source": [
    "<a id=\"2-solve\"></a>\n",
    "### **2.4\\. Solution** \n",
    "\n",
    "The model to be optimized is passed to the solver created in [Step 1](#1-solve). After solving, the solution is extracted using the `decode` method to obtain the solution in the form corresponding to the decision variable matrices `location_variables` and `position_variables`. Let `location_solutions` and `position_solutions` be the obtained solutions, respectively."
   ]
  },
  {
   "cell_type": "code",
   "execution_count": null,
   "metadata": {},
   "outputs": [],
   "source": [
    "# Pass model to the solver to solve and obtain the result\n",
    "result = solver.solve(model)\n",
    "\n",
    "# If a solution that satisfies the constraints is not obtained, RuntimeError is issued (adjust weights, etc., and re-run the solver)\n",
    "if len(result) == 0:\n",
    "    raise RuntimeError(\"The given constraints are not satisfied\")\n",
    "values = result[0].values\n",
    "\n",
    "# Retrieve the solution in the form corresponding to the `location_variables` matrix\n",
    "location_solutions = location_variables.decode(values)\n",
    "\n",
    "# Retrieve the solution in the form corresponding to the `position_variables` matrix\n",
    "position_solutions = position_variables.decode(values)"
   ]
  },
  {
   "attachments": {},
   "cell_type": "markdown",
   "metadata": {},
   "source": [
    "### Results\n",
    "\n",
    "In the obtained optimal solution `position_solutions`, if `position_solutions[i][j][l] = 1`, then employee $i$ works in store $l$ as position $j$. Therefore, by retrieving the index of the matrix whose value is $1$, we can find out which employee is assigned to which store and with which position."
   ]
  },
  {
   "cell_type": "code",
   "execution_count": null,
   "metadata": {},
   "outputs": [],
   "source": [
    "import numpy as np\n",
    "from collections import defaultdict\n",
    "\n",
    "# Get the indices of positions and stores with position_solutions=1\n",
    "(position_index_list, loc_index_list) = np.where(np.array(position_solutions) == 1)[1:]\n",
    "dict_df = defaultdict(list)\n",
    "for i, (j, l) in enumerate(zip(position_index_list, loc_index_list)):\n",
    "    worker_id = df_worker_loc.loc[i][\"worker_id\"]\n",
    "    # Assigned position\n",
    "    position = positions[j]\n",
    "    # Assigned store\n",
    "    loc = locations[l]\n",
    "    dict_df[\"worker_id\"].append(worker_id)\n",
    "    dict_df[\"position\"].append(position)\n",
    "    dict_df[\"location\"].append(loc)\n",
    "\n",
    "df_result = pd.DataFrame.from_dict(dict_df, orient=\"index\").T\n",
    "\n",
    "print(\"Store and position assignment for each employee\")\n",
    "display(df_result)"
   ]
  },
  {
   "attachments": {},
   "cell_type": "markdown",
   "metadata": {},
   "source": [
    "Finally, the fill rate for each position is visualized to verify that the required number of employees for each position is met in each store. Here, a cell in the table with a value of `N/A` means that the required number of employees for that position in that store is 0."
   ]
  },
  {
   "cell_type": "code",
   "execution_count": null,
   "metadata": {},
   "outputs": [],
   "source": [
    "dict_result_alloc = defaultdict(lambda: defaultdict(int))\n",
    "for loc, position in product(locations, positions):\n",
    "    dict_result_alloc[loc][position] = 0\n",
    "\n",
    "for i in range(len(df_result)):\n",
    "    data = df_result.loc[i]\n",
    "    position = data[\"position\"]\n",
    "    location = data[\"location\"]\n",
    "    dict_result_alloc[location][position] += 1\n",
    "\n",
    "df_result_alloc = pd.DataFrame.from_dict(dict_result_alloc, orient=\"index\")\n",
    "\n",
    "print(\"Number of people assigned by position\")\n",
    "display(df_result_alloc)"
   ]
  },
  {
   "cell_type": "code",
   "execution_count": null,
   "metadata": {},
   "outputs": [],
   "source": [
    "# Labels for the number of requested people for each store ['num_managers' 'num_submanagers' 'num_employees_any_position'].\n",
    "num_positions_labels = df_req.columns.values[1 : 1 + num_positions]\n",
    "\n",
    "dict_result_fill_rate = defaultdict(defaultdict)\n",
    "# Calculate the fill rate for each store\n",
    "for l in range(len(df_result_alloc)):\n",
    "    data = df_result_alloc.iloc[l]  # df_result_alloc for store l\n",
    "    loc = data.name  # Store name\n",
    "    num_req_non_staff = 0  # Variable to store the number of employees requested for each store by position\n",
    "\n",
    "    # Calculate the fill rate for each position.\n",
    "    for j in range(len(positions)):\n",
    "        # Number of employees requested for each store and each position\n",
    "        num_required = df_req[df_req[\"location\"] == loc][num_positions_labels[j]].item()\n",
    "        # Number of employees required for each store. The last element of df_req is the number of all employees regardless of the position, so for the number of employees without positions, subtract the number of employees with positions num_req_non_staff from the number of all employees.\n",
    "        if j == len(positions) - 1:\n",
    "            num_required -= num_req_non_staff\n",
    "        else:\n",
    "            num_req_non_staff += num_required\n",
    "        # Number of employees assigned to each store and each position\n",
    "        num_allocated = data[positions[j]].item()\n",
    "        # Calculate the fill rate. If the number of employees required is zero, assign N/A\n",
    "        if num_required > 0:\n",
    "            dict_result_fill_rate[loc][f\"{positions[j]} (fill rate)\"] = (\n",
    "                num_allocated / num_required\n",
    "            )\n",
    "        else:\n",
    "            dict_result_fill_rate[loc][f\"{positions[j]} (fill rate)\"] = \"N/A\"\n",
    "\n",
    "df_result_fill_rate = pd.DataFrame.from_dict(dict_result_fill_rate, orient=\"index\")\n",
    "\n",
    "print(\"Fill rate by position\")\n",
    "display(df_result_fill_rate)"
   ]
  },
  {
   "attachments": {},
   "cell_type": "markdown",
   "metadata": {},
   "source": [
    "We can see that the number of employees required for each position is met for all stores."
   ]
  },
  {
   "attachments": {},
   "cell_type": "markdown",
   "metadata": {},
   "source": [
    "<a id=\"step3\"></a>\n",
    "## **Step 3**\n",
    "\n",
    "In Step 3, in addition to the \"*each employee's work location preference*\", \"*the number of employees required for each store*\" and \"*required number of employees per position for each store*\" considered in [Step 2](#step2), employee assignment is performed to meet the culinary skill requirements for each store based on each employee's role and skill level for each culinary skill.\n",
    "\n",
    "Let us consider a sushi restaurant chain as an example. Each employee may have culinary skills such as \"filleting, nigiri, soup cooking, and a la carte preparation,\" and the level of each skill is also quantified. On the other hand, each restaurant also has a required skill level for each skill type, and employees are assigned to meet that level.\n",
    "\n",
    "For example, a sushi restaurant that requires a \"filleting\" skill of 10 requires that the sum of the \"filleting\" skills of all employees assigned to that restaurant must be at least 10.\n",
    "\n",
    "While Step 2 used the fill rate defined based on the ratio of assigned employees to the required number of employees in each store without considering positions, Step 3 optimizes the fill rate based on each cooking skill requirement.\n",
    "\n",
    "In addition, employees are assigned to either a \"floor\" or a \"kitchen\" role. The number of people who need to be assigned as floor staff is specified, and employees with zero-cooking skills are automatically assigned as floor staff members."
   ]
  },
  {
   "attachments": {},
   "cell_type": "markdown",
   "metadata": {},
   "source": [
    "<a id=\"3-formulation\"></a>\n",
    "### **3.1\\. Formulation**\n",
    "\n",
    "Redefine the variables and symbols used in the formulation.\n",
    "\n",
    "#### **Sets**\n",
    "\n",
    "- $W$: the set of employees (the symbol $i \\in W$ is used to denote employees)\n",
    "- $S$: the set of stores (the symbol $l \\in S$ is used to denote stores)\n",
    "- $R$: the set of positions (the symbol $j \\in R$ is used to denote positions)\n",
    "  - $j=0$: manager (`manager`)\n",
    "  - $j=1$: assistant manager (`submanager`)\n",
    "  - $j=2$: staff (no position) (`staff`)\n",
    "- $K$: the set of cooking skills (use the symbol $k$ to denote skills)\n",
    "  - $k=0$: filleting skill (`filleting`)\n",
    "  - $k=1$: *nigiri* (hand role) skill (`nigiri`)\n",
    "  - $k=2$: soup cooking skill (`soup`)\n",
    "  - $k=3$: skill in preparing a la carte (`a_la_carte`)\n",
    "- $A$: the set of roles (use the symbol $h$ to denote a role)\n",
    "  - $h=0$: floor staff (`floor staff`)\n",
    "  - $h=1$: kitchen staff (`kitchen staff`)\n",
    "\n",
    "#### **Constants**\n",
    "\n",
    "- $t_{k,l}$: required skill level for cooking skill $k$ in restaurant $l$ ($l \\in S$ and $k\\in K$)  \n",
    "- $r_{l}$: required number of floor staff in store $l$ ($l \\in S$)  \n",
    "- $c_{i,l}$: preference of employee $i$ for work location $l$ ($i \\in W$ and $l \\in S$)\n",
    "- $m_{i,j}$: whether employee $i$ can be assigned to position $j$, 0: not possible, 1: possible ($i \\in W$ and $j \\in R$)\n",
    "- $s_{i,k}$: the cooking skill level $k$ of employee $i$ has ($i \\in W$ and $k\\in K$)\n",
    "\n",
    "\n",
    "#### **Decision variables**\n",
    "\n",
    "- $M_{i,j,l}$: whether to assign employee $i$ to store $l$ as position $j$ `1` or not `0` ($i\\in W$ and $j\\in R$, $l\\in S$)\n",
    "- $P_{i,h,l}$: whether to assign employee $i$ to store $l$ as role $h$ `1` or not `0` ($i\\in W$, $h\\in A$ and $l\\in S$)\n",
    "- $L_{i,l}\\in \\{0,1\\}$: whether to assign employee $i$ to store $l$ `1` or not `0` ($i\\in W$ and $l\\in S$)\n",
    "  - There is a relation $L_{i,l} = \\sum_{j \\in R} M_{i,j,l}$.\n",
    "  - There is a relation $L_{i,l} = \\sum_{h \\in A} P_{i,h,l}$.\n"
   ]
  },
  {
   "attachments": {},
   "cell_type": "markdown",
   "metadata": {},
   "source": [
    "\n",
    "#### **Objective functions**\n",
    "\n",
    "First, as in the previous steps, we define the fill rate as the basis for the objective function. In Step 3, we consider the fill rate $w_{k,l}$ of cooking skills $k$ to the total amount of skills needed $t_{k,l}$ at store $l$ as follows.\n",
    "\n",
    "$$\n",
    "w_{k,l} = \\frac{1}{t_{k,l}}  \\displaystyle \\sum_{i\\in W} s_{i,k} P_{i,1,l}\n",
    "$$\n",
    "\n",
    "Here, $s_{i,k} P_{i,1,l}$ yields the sum of the level of cooking skills $k$ of all employees assigned as kitchen staff members in store $l$, and $t_{k,l}$ is the requirements associated with those skill levels.\n",
    "\n",
    "Also, as in the previous steps, the followings are used as the objective function.\n",
    "\n",
    "- **Maximize the average of the fill rate $w_{k,l}$**  \n",
    "\n",
    "  $$\n",
    "  \\begin{matrix}\n",
    "    {\\rm maximize} & \\left< w_{k,l} \\right>\n",
    "  \\end{matrix}\n",
    "  $$\n",
    "\n",
    "- **Minimize the variance of the fill rate $w_{k,l}$**  \n",
    "\n",
    "  $$\n",
    "  \\begin{matrix}\n",
    "    {\\rm minimize} & \\left< w_{k,l}^2 \\right> - \\left< w_{k,l} \\right>^2\n",
    "  \\end{matrix}\n",
    "  $$\n",
    "\n",
    "- **Maximize all employee preferences of work location $c_{i,l}$ for assigned store $l$**  \n",
    "\n",
    "  $$\n",
    "  \\begin{matrix}\n",
    "    {\\rm maximize}& \\displaystyle \\sum_{i\\in W}\\sum_{l\\in S}c_{i,l}L_{i,l}\n",
    "  \\end{matrix}\n",
    "  $$"
   ]
  },
  {
   "attachments": {},
   "cell_type": "markdown",
   "metadata": {},
   "source": [
    "#### **Constraints**\n",
    "\n",
    "The basic idea is the same as in [Step 2](#step2), but we need an additional formulation that relates the role-related variables $P$ and $M$.\n",
    "\n",
    "- **Employee $i$ can only be assigned to one store at a time**\n",
    "\n",
    "  $$\n",
    "  \\begin{align*}\n",
    "    \\sum_{l \\in S}L_{i,l} = 1 \\:\\:\\:\\:(\\forall i\\in W)\n",
    "  \\end{align*}\n",
    "  $$\n",
    "\n",
    "- **Each store $l$ is assigned a number of managerial employees $j \\in \\left\\{0, 1 \\right\\}$ equal to its required number of managerial employees at each store**\n",
    "\n",
    "  $$\n",
    "    \\forall l \\in S, \\forall j \\in \\left\\{0, 1 \\right\\}, \\sum_{i\\in W}M_{i,j,l} = r_{j,l}\n",
    "  $$\n",
    "\n",
    "- **Each store $l$ is assigned a number of floor staff employees $h=0$ equal to the requirement**\n",
    "\n",
    "  $$\n",
    "  \\begin{align*}\n",
    "    \\forall l \\in S, \\sum_{i\\in W} P_{i,0,l} = r_{l}\n",
    "  \\end{align*}\n",
    "  $$\n",
    "\n",
    "\n",
    "- **Constraints relating decision variables $P$ and $M$**\n",
    "  - Number of employees assigned to store $l$, regardless of position $j$, calculated from $M_{i,j,l}$:  \n",
    "\n",
    "    $$\n",
    "    \\sum_{j \\in R} M_{i,j,l}\n",
    "    $$\n",
    "\n",
    "  - Number of employees assigned to store $l$, regardless of role $h$, calculated from $P_{i,h,l}$:  \n",
    "\n",
    "    $$\n",
    "    \\sum_{h \\in A} P_{i,h,l}\n",
    "    $$\n",
    "\n",
    "  Since these must be equal,\n",
    "\n",
    "  $$\n",
    "    \\sum_{j \\in R} M_{i,j,l} = \\sum_{h \\in A} P_{i,h,l} \\:\\:\\:\\:(\\forall i\\in W, \\forall l \\in S).\n",
    "  $$"
   ]
  },
  {
   "attachments": {},
   "cell_type": "markdown",
   "metadata": {},
   "source": [
    "<a id=\"3-data\"></a>\n",
    "### **3.2\\. Data creation**\n",
    "\n",
    "Now, we will define the problem setting for the employee assignment problem for Step 3. As an example, we consider the following problem setting with 5 employees and 2 stores.  "
   ]
  },
  {
   "cell_type": "code",
   "execution_count": null,
   "metadata": {},
   "outputs": [],
   "source": [
    "# Set up information on the number of people requested for each store\n",
    "dict_req = dict(\n",
    "    location=[\"tenjin\", \"hakata\"],  # Store name\n",
    "    nun_managers=[\n",
    "        1,\n",
    "        1,\n",
    "    ],  # Number of people requested for each store with the manager position\n",
    "    num_submanagers=[\n",
    "        0,\n",
    "        1,\n",
    "    ],  # Number of required employees with the assistant manager position at each store\n",
    "    filleting=[1, 1],  # Filleting skill level required\n",
    "    nigiri=[1, 2],  # Nigiri skill level required\n",
    "    soup=[2, 2],  # Soup cooking skill level required\n",
    "    a_la_carte=[2, 2],  # A la carte preparation skill level required\n",
    "    num_floor_staff=[1, 1],  # Number of required floor staff members in each store\n",
    ")\n",
    "df_req = pd.DataFrame.from_dict(dict_req, orient=\"index\").T\n",
    "\n",
    "# Set each employee's work location preference\n",
    "dict_worker_loc = dict(\n",
    "    worker_id=[0, 1, 2, 50, 43],  # ID of the employee\n",
    "    tenjin=[2, 1, 1, 1, 1],  # Each employee's preference to work at tenjin store\n",
    "    hakata=[1, 2, 1, 1, 1],  # Each employee's preference to work at hakata store\n",
    ")\n",
    "df_worker_loc = pd.DataFrame.from_dict(dict_worker_loc, orient=\"index\").T\n",
    "\n",
    "# Set each employee's position qualifications and skill information\n",
    "dict_worker_skill = dict(\n",
    "    worker_id=[0, 1, 2, 50, 43],  # ID of the employee\n",
    "    manager=[1, 1, 0, 0, 0],  # Manager qualified 1 or not 0\n",
    "    submanager=[1, 1, 0, 1, 1],  # Assistant manager qualified 1 or not 0\n",
    "    staff=[1, 1, 1, 1, 1],  # Qualified as non-positional employee 1 or not 0\n",
    "    filleting=[2, 2, 0, 1, 1],  # Level of filleting skill\n",
    "    nigiri=[2, 2, 0, 2, 2],  # Level of nigiri skill\n",
    "    soup=[2, 2, 0, 0, 0],  # Level of soup cooking skill\n",
    "    a_la_carte=[2, 2, 0, 1, 1],  # Level of a la carte preparation skill\n",
    ")\n",
    "df_worker_skill = pd.DataFrame.from_dict(dict_worker_skill, orient=\"index\").T"
   ]
  },
  {
   "attachments": {},
   "cell_type": "markdown",
   "metadata": {},
   "source": [
    "The number of managers and assistant managers, the overall level of cooking skills required, and the number of floor staffs required for each store are defined in `df_req`."
   ]
  },
  {
   "cell_type": "code",
   "execution_count": null,
   "metadata": {},
   "outputs": [],
   "source": [
    "print(\"Number of people requested by position\")\n",
    "display(df_req)"
   ]
  },
  {
   "attachments": {},
   "cell_type": "markdown",
   "metadata": {},
   "source": [
    "Each employee's work preference for each store is stored in `df_worker_loc`."
   ]
  },
  {
   "cell_type": "code",
   "execution_count": null,
   "metadata": {},
   "outputs": [],
   "source": [
    "print(\"Work preference for each store\")\n",
    "display(df_worker_loc)"
   ]
  },
  {
   "attachments": {},
   "cell_type": "markdown",
   "metadata": {},
   "source": [
    "The `df_worker_skill` DataFrame contains the position qualification and cooking skill information for each employee. For `manager` and `submanager`, if the value is $1$, the employee can take these positions. The constants `filleting`, `nigiri`, `soup`, and `a_la_carte` represent their cooking skill level. If all the cooking skill levels are $0$, the employee cannot be a kitchen staff."
   ]
  },
  {
   "cell_type": "code",
   "execution_count": null,
   "metadata": {},
   "outputs": [],
   "source": [
    "print(\"Skill information by position for each employee\")\n",
    "display(df_worker_skill)"
   ]
  },
  {
   "attachments": {},
   "cell_type": "markdown",
   "metadata": {},
   "source": [
    "Now we set up the correspondence between employee IDs, store names, position titles, roles, cooking skills, and indices as follows."
   ]
  },
  {
   "cell_type": "code",
   "execution_count": null,
   "metadata": {},
   "outputs": [],
   "source": [
    "# Get employee ID, store name, position name, role name, and cooking skill name\n",
    "workers = df_worker_loc[\"worker_id\"].values\n",
    "locations = df_req[\"location\"].values\n",
    "positions = [\"manager\", \"submanager\", \"staff\"]\n",
    "# Role name\n",
    "assigns = [\"floor\", \"kitchen\"]\n",
    "# Name of cooking skill\n",
    "skills = [\"filleting\", \"nigiri\", \"soup\", \"a_la_carte\"]\n",
    "\n",
    "# Create a dictionary with store indices and store names as keys and values, respectively\n",
    "idx2loc = dict((i, v) for i, v in enumerate(locations))\n",
    "# Create a dictionary with store names and their indices as keys and values, respectively\n",
    "loc2idx = dict((v, i) for i, v in enumerate(locations))\n",
    "# Create a dictionary with positions index and position names as keys and values, respectively\n",
    "idx2position = dict((i, v) for i, v in enumerate(positions))\n",
    "# Create a dictionary with position names and their indices as keys and values, respectively\n",
    "position2idx = dict((v, i) for i, v in enumerate(positions))\n",
    "# Create a dictionary with cooking skill indices and the cooking skill names as keys and values, respectively\n",
    "idx2skill = dict((i, v) for i, v in enumerate(skills))\n",
    "# Create a dictionary with cooking skill names and their indices as keys and values, respectively\n",
    "skill2idx = dict((v, i) for i, v in enumerate(skills))\n",
    "\n",
    "# Get the size of each data\n",
    "num_workers = len(workers)\n",
    "num_locations = len(locations)\n",
    "num_positions = len(positions)\n",
    "num_assigns = len(assigns)\n",
    "num_skills = len(skills)"
   ]
  },
  {
   "attachments": {},
   "cell_type": "markdown",
   "metadata": {},
   "source": [
    "<a id=\"3-implementation\"></a>\n",
    "### **3.3\\. Implementation with Amplify**\n",
    "\n",
    "Let us implement the formulations with Amplify.\n",
    "\n",
    "First, we will create `position_variables` for the variable $M$ and `assign_variables` for the variable $P$ using `BinarySymbolGenerator`. These are 3-dimensional arrays of `[number of employees] x [number of positions] x [number of stores]` and `[number of employees] x [number of roles] x [number of stores]`, respectively."
   ]
  },
  {
   "cell_type": "code",
   "execution_count": null,
   "metadata": {},
   "outputs": [],
   "source": [
    "# Decision variable representing employee i working at store l with position j\n",
    "gen = BinarySymbolGenerator()\n",
    "position_variables = gen.array(num_workers, num_positions, num_locations)\n",
    "\n",
    "# Decision variable representing employee i working in store l in role h\n",
    "assign_variables = gen.array(num_workers, num_assigns, num_locations)"
   ]
  },
  {
   "attachments": {},
   "cell_type": "markdown",
   "metadata": {},
   "source": [
    "Similarly to the previous steps, the decision variable is zero-padded for the store $l$, where employee $i$ is \"unavailable\" in the work location preference attribute.\n",
    "\n",
    "In addition, the elements that are not assignable in terms of position or role are also zero-padded. This reduces the size of the final problem to be solved."
   ]
  },
  {
   "cell_type": "code",
   "execution_count": null,
   "metadata": {},
   "outputs": [],
   "source": [
    "for i, l in product(range(num_workers), locations):\n",
    "    worker_req = df_worker_loc.iloc[i][l]\n",
    "    if worker_req == 0:\n",
    "        # Store allocation is not possible for all positions for this employee\n",
    "        position_variables[i, :, loc2idx[l]] = 0\n",
    "        # Store allocation is not allowed for all roles for this employee\n",
    "        assign_variables[i, :, loc2idx[l]] = 0\n",
    "\n",
    "for i, j in product(range(num_workers), positions):\n",
    "    worker_skill = df_worker_skill.iloc[i][j]\n",
    "    if worker_skill == 0:\n",
    "        # The employee i cannot be assigned for this particular position j\n",
    "        position_variables[i, position2idx[j], :] = 0\n",
    "\n",
    "for i in range(num_workers):\n",
    "    if all(df_worker_skill.iloc[i][k] == 0 for k in skills):\n",
    "        # This employee i cannot take a kitchen role in any stores\n",
    "        assign_variables[i, 1, :] = 0\n",
    "\n",
    "\n",
    "# Variables related to stores and positions that cannot be assigned are fixed to 0\n",
    "print(position_variables)\n",
    "# Variables related to non-assignable stores/roles are fixed to 0\n",
    "print(assign_variables)"
   ]
  },
  {
   "attachments": {},
   "cell_type": "markdown",
   "metadata": {},
   "source": [
    "As for the `location_variables` representing $L$, the relation between the decision variables $P$ and $L$ can be used as follows ([3.1\\. Formulation](#3-formulation)."
   ]
  },
  {
   "cell_type": "code",
   "execution_count": null,
   "metadata": {},
   "outputs": [],
   "source": [
    "location_variables = assign_variables.sum(axis=1)\n",
    "display(location_variables)"
   ]
  },
  {
   "attachments": {},
   "cell_type": "markdown",
   "metadata": {},
   "source": [
    "Next, we calculate the fill rate $w_{k,l}$ for each store and each cooking skill. The fill rate $w_{k,l}$ is defined as follows, as explained in [3.1\\. Formulation](#3-formulation): \n",
    "\n",
    "$$\n",
    "\\begin{align*}\n",
    "    w_{k,l} = \\frac{1}{t_{k,l}}  \\displaystyle \\sum_{i\\in W} s_{i,k} P_{i,1,l}\n",
    "\\end{align*}\n",
    "$$"
   ]
  },
  {
   "cell_type": "code",
   "execution_count": null,
   "metadata": {},
   "outputs": [],
   "source": [
    "from amplify import BinaryPolyArray\n",
    "\n",
    "# Calculate the fill rate w_kl for each store and each cooking skill\n",
    "w_kl = BinaryPolyArray(\n",
    "    [\n",
    "        sum_poly(\n",
    "            df_worker_skill[idx2skill[k]] * assign_variables[:, 1, l],\n",
    "        )\n",
    "        / df_req[idx2skill[k]][l]\n",
    "        for k in range(num_skills)\n",
    "        for l in range(num_locations)\n",
    "    ]\n",
    ")"
   ]
  },
  {
   "attachments": {},
   "cell_type": "markdown",
   "metadata": {},
   "source": [
    "Next, compute each element of the objective function introduced in [3.1\\. Formulation](#3-formulation). For the function to be maximized, we transform it into a minimization problem by considering its negative value.\n",
    "\n",
    "- **Maximize the average of the fill rate $w_{k,l}$**\n",
    "\n",
    "  (Convert to minimizing its negative value)\n",
    "\n",
    "\n",
    "  $$\n",
    "  \\begin{matrix}\n",
    "    {\\rm minimize} & -\\langle w_{k,l} \\rangle\n",
    "  \\end{matrix}\n",
    "  $$\n",
    "\n",
    "- **Minimize the variance of the fill rate**  \n",
    "\n",
    "  $$\n",
    "  \\begin{matrix}\n",
    "    {\\rm minimize} & \\langle w_{k,l}^2 \\rangle - \\langle w_{k,l} \\rangle^2\n",
    "  \\end{matrix}\n",
    "  $$\n",
    "\n",
    "\n",
    "- **Maximize all employees' preferences of work location $c_{i,l}$ for allocated store $l$**  \n",
    "\n",
    "  (Convert to minimizing its negative value)\n",
    "\n",
    "  $$\n",
    "  \\begin{matrix}\n",
    "    {\\rm minimize}& \\displaystyle -\\sum_{i\\in W}\\sum_{l\\in S}c_{i,l}L_{i,l}\n",
    "  \\end{matrix}\n",
    "  $$"
   ]
  },
  {
   "cell_type": "code",
   "execution_count": null,
   "metadata": {},
   "outputs": [],
   "source": [
    "# Maximize the average fill rate (minimize its negative value)\n",
    "average_fill_rate_cost = -((w_kl.sum() / w_kl.size) ** 2)\n",
    "\n",
    "# Minimize the fill rate variance\n",
    "variance_fill_rate_cost = (w_kl * w_kl).sum() / w_kl.size - (\n",
    "    w_kl.sum() / w_kl.size\n",
    ") ** 2\n",
    "\n",
    "# Maximize employees' work location preference (minimize its negative value)\n",
    "location_cost = -sum_poly(\n",
    "    num_workers,\n",
    "    lambda i: sum_poly(\n",
    "        num_locations,\n",
    "        lambda l: df_worker_loc.loc[i][idx2loc[l]] * location_variables[i, l],\n",
    "    ),\n",
    ")"
   ]
  },
  {
   "attachments": {},
   "cell_type": "markdown",
   "metadata": {},
   "source": [
    "Finally, implement the following constraints as defined in [3.1\\. Formulation](#3-formulation).\n",
    "\n",
    "> - **Employee $i$ can only be assigned to one store at a time**\n",
    "> \n",
    ">   $$\n",
    ">   \\begin{align*}\n",
    ">     \\forall i\\in W, \\sum_{l \\in S}L_{i,l} = 1\n",
    ">   \\end{align*}\n",
    ">   $$\n",
    "> \n",
    "> - **Each store $l$ is assigned a number of managerial employees $j \\in \\left\\{0, 1 \\right\\}$ equal to its required number of managerial employees at each store**\n",
    "> \n",
    ">   $$\n",
    ">     \\forall l \\in S, \\forall j \\in \\left\\{0, 1 \\right\\}, \\sum_{i\\in W}M_{i,j,l} = r_{j,l}\n",
    ">   $$\n",
    "> \n",
    "> - **Each store $l$ is assigned a number of floor staff employees $h=0$ equal to the requirement**\n",
    "> \n",
    ">   $$\n",
    ">   \\begin{align*}\n",
    ">     \\forall l \\in S, \\sum_{i\\in W} P_{i,0,l} = r_{l}\n",
    ">   \\end{align*}\n",
    ">   $$\n",
    "> \n",
    "> - **Constraints relating decision variables $P$ and $M$**\n",
    "> \n",
    ">   $$\n",
    ">     \\sum_{j \\in R} M_{i,j,l} = \\sum_{h \\in A} P_{i,h,l} \\:\\:\\:\\:(\\forall i\\in W, \\forall l \\in S)\n",
    ">   $$\n",
    "\n",
    "Use `one_hot` or `equal_to` since these are equality constraints."
   ]
  },
  {
   "cell_type": "code",
   "execution_count": null,
   "metadata": {},
   "outputs": [],
   "source": [
    "# An employee i can be assigned to only one store at a time\n",
    "location_constarints = sum(one_hot(location_variables[i]) for i in range(num_workers))\n",
    "\n",
    "# The number of managerial employees (j=0 or 1) assigned is equal to the number of employees requested by store l\n",
    "req_manager_constraints = sum(\n",
    "    equal_to(position_variables[:, 0, l], df_req[\"nun_managers\"][l])\n",
    "    for l in range(num_locations)\n",
    ")\n",
    "req_submanager_constraints = sum(\n",
    "    equal_to(position_variables[:, 1, l], df_req[\"num_submanagers\"][l])\n",
    "    for l in range(num_locations)\n",
    ")\n",
    "\n",
    "# Assign a number of floor staff employees (h=0) equal to the number of employees required by each store l\n",
    "req_hall_constraints = sum(\n",
    "    equal_to(assign_variables[:, 0, l], df_req[\"num_floor_staff\"][l])\n",
    "    for l in range(num_locations)\n",
    ")\n",
    "\n",
    "# Constraints associating decision variables P and M\n",
    "role_assign_constraints = sum(\n",
    "    equal_to(\n",
    "        (position_variables.sum(axis=1))[i, l] - (assign_variables.sum(axis=1))[i, l], 0\n",
    "    )\n",
    "    for i in range(num_workers)\n",
    "    for l in range(num_locations)\n",
    ")"
   ]
  },
  {
   "attachments": {},
   "cell_type": "markdown",
   "metadata": {},
   "source": [
    "The optimization model is created based on the objective function and constraint equations implemented above. Although it is necessary to set appropriate weights for the objective function and constraints for Step 2 as well, the basic idea is as described in [1.3\\. Implementation by Amplify](#1-implementation), and the same weights are given below."
   ]
  },
  {
   "cell_type": "code",
   "execution_count": null,
   "metadata": {},
   "outputs": [],
   "source": [
    "# Coefficients of the respective objective function\n",
    "loc_priority = 1\n",
    "ave_fill_priority = 1\n",
    "var_fill_priority = 10\n",
    "\n",
    "# Objective function\n",
    "cost_func = (\n",
    "    loc_priority * location_cost\n",
    "    + ave_fill_priority * average_fill_rate_cost\n",
    "    + var_fill_priority * variance_fill_rate_cost\n",
    ")\n",
    "\n",
    "# weights of the penalty function representing the constraint\n",
    "constraint_weight = 10\n",
    "\n",
    "# Constraint\n",
    "constraints = constraint_weight * (\n",
    "    location_constarints\n",
    "    + req_manager_constraints\n",
    "    + req_submanager_constraints\n",
    "    + req_hall_constraints\n",
    "    + role_assign_constraints\n",
    ")\n",
    "\n",
    "# Add together the objective function and constraints to create the model to be optimized\n",
    "model = cost_func + constraints"
   ]
  },
  {
   "attachments": {},
   "cell_type": "markdown",
   "metadata": {},
   "source": [
    "This completes the implementation as far as the formulation of Step 3 is concerned."
   ]
  },
  {
   "attachments": {},
   "cell_type": "markdown",
   "metadata": {},
   "source": [
    "<a id=\"3-solve\"></a>\n",
    "### **3.4\\. Solution** \n",
    "\n",
    "The model to be optimized is passed to the solver created in [Step 1](#1-solve). After solving, the solution is extracted using the `decode` method to obtain the solution in the form corresponding to the decision variable matrices `location_variables`, `position_variables`, and `assign_variables`. Let `location_solutions`, `position_solutions`, and `assign_solutions` be the obtained solutions, respectively."
   ]
  },
  {
   "cell_type": "code",
   "execution_count": null,
   "metadata": {},
   "outputs": [],
   "source": [
    "# Pass the model to the solver to solve and obtain the result\n",
    "result = solver.solve(model)\n",
    "\n",
    "# If a solution that satisfies the constraints is not obtained, RuntimeError is issued (adjust weights, etc., and re-run the solver).\n",
    "if len(result) == 0:\n",
    "    raise RuntimeError(\"The given constraints are not satisfied\")\n",
    "values = result[0].values\n",
    "\n",
    "# Retrieve the solution in the form corresponding to the decision variable matrix `location_variables` for the assigned stores\n",
    "location_solutions = location_variables.decode(values)\n",
    "\n",
    "# Extract the solution in the form corresponding to the `role_variables` matrix of decision variables for the allocated stores and positions\n",
    "position_solutions = position_variables.decode(values)\n",
    "\n",
    "# Extract the solution in the form corresponding to the `assign_variables` matrix of decision variables for assigned stores and roles\n",
    "assign_solutions = assign_variables.decode(values)"
   ]
  },
  {
   "attachments": {},
   "cell_type": "markdown",
   "metadata": {},
   "source": [
    "### Results\n",
    "\n",
    "In the obtained optimal solution `position_solutions`, if `position_solutions[i][j][l] = 1`, then employee $i$ works in store $l$ as position $j$. Therefore, by retrieving the index of the matrix whose value is $1$, we can find out which employee is assigned to which store and as which position."
   ]
  },
  {
   "cell_type": "code",
   "execution_count": null,
   "metadata": {},
   "outputs": [],
   "source": [
    "import numpy as np\n",
    "from collections import defaultdict\n",
    "\n",
    "(role_index_list, loc_index_list) = np.where(np.array(position_solutions) == 1)[1:]\n",
    "dict_df = defaultdict(list)\n",
    "\n",
    "for i, (j, l) in enumerate(zip(role_index_list, loc_index_list)):\n",
    "    ## Assigned work location\n",
    "    worker_id = df_worker_loc.loc[i][\"worker_id\"]\n",
    "    position = positions[j]\n",
    "    loc = locations[l]\n",
    "    dict_df[\"worker_id\"].append(worker_id)\n",
    "    dict_df[\"position\"].append(position)\n",
    "    dict_df[\"location\"].append(loc)\n",
    "\n",
    "df_result = pd.DataFrame.from_dict(dict_df, orient=\"index\").T\n",
    "\n",
    "print(\"Store and position assignment for each employee\")\n",
    "display(df_result)"
   ]
  },
  {
   "attachments": {},
   "cell_type": "markdown",
   "metadata": {},
   "source": [
    "Next, we will check how well the required skill levels are met for each store. Whether the employee is assigned to `floor` or `kitchen` is taken from the result of `assign_solutions`, and in the case of `kitchen`, the level of cooking skills of each employee is accumulated for each store. In addition to the cooking skills, the number of floor staff members will also be accumulated for the purpose of calculating the fill rate.\n",
    "\n",
    "In each cell of the table, the fill rate calculated by **Total quantity / Required quantity** is shown."
   ]
  },
  {
   "cell_type": "code",
   "execution_count": null,
   "metadata": {},
   "outputs": [],
   "source": [
    "(assign_list, loc_index_list) = np.where(np.array(assign_solutions) == 1)[1:]\n",
    "\n",
    "dict_result_loc = defaultdict(lambda: defaultdict(int))\n",
    "\n",
    "for i, (j, l) in enumerate(zip(assign_list, loc_index_list)):\n",
    "    assign = assigns[j]\n",
    "    worker_id = df_worker_loc.loc[i][\"worker_id\"]\n",
    "    loc = locations[l]\n",
    "    if assign == \"kitchen\":\n",
    "        # If kitchen, add up all cooking skills.\n",
    "        for skill in skills:\n",
    "            dict_result_loc[loc][skill] += df_worker_skill.loc[i][skill]\n",
    "    else:\n",
    "        # also count the number of employees assigned as floor staff\n",
    "        dict_result_loc[loc][\"floor\"] += 1\n",
    "\n",
    "df_result_loc = pd.DataFrame.from_dict(dict_result_loc, orient=\"index\")\n",
    "\n",
    "dict_result = defaultdict(defaultdict)\n",
    "\n",
    "for i in range(len(df_result_loc)):\n",
    "    loc = df_result_loc.iloc[i].name\n",
    "    # Calculate the fill rate for all cooking skills\n",
    "    for skill in skills:\n",
    "        require_num_skill = df_req[df_req[\"location\"] == loc][skill].item()\n",
    "        satisfy_num_skill = df_result_loc.iloc[i][skill].item()\n",
    "        dict_result[loc][\n",
    "            f\"{skill} (fill rate)\"\n",
    "        ] = f\"{satisfy_num_skill/require_num_skill}\"\n",
    "    # Calculate the fill rate for the number of floor staff employees\n",
    "    require_num_skill = df_req[df_req[\"location\"] == loc][\"num_floor_staff\"].item()\n",
    "    satisfy_num_skill = df_result_loc.iloc[i][\"floor\"].item()\n",
    "    dict_result[loc][\n",
    "        \"floor staffs (fill rate)\"\n",
    "    ] = f\"{satisfy_num_skill/require_num_skill}\"\n",
    "\n",
    "df_result_skills = pd.DataFrame.from_dict(dict_result, orient=\"index\")\n",
    "\n",
    "print(\"Fill rate for the amount of required skills\")\n",
    "display(df_result_skills)"
   ]
  },
  {
   "attachments": {},
   "cell_type": "markdown",
   "metadata": {},
   "source": [
    "The table above shows that the required skill levels and the number of floor staff members are satisfied in each store.\n",
    "\n",
    "We will also verify that the required number of employees is met for each position in each store. The fill rate is calculated for each position. Here, a cell in the table with `N/A` means that the required number of employees for that position in that store is 0."
   ]
  },
  {
   "cell_type": "code",
   "execution_count": null,
   "metadata": {},
   "outputs": [],
   "source": [
    "dict_result_alloc = defaultdict(lambda: defaultdict(int))\n",
    "for loc, position in product(locations, positions):\n",
    "    dict_result_alloc[loc][position] = 0\n",
    "\n",
    "for i in range(len(df_result)):\n",
    "    data = df_result.loc[i]\n",
    "    position = data[\"position\"]\n",
    "    location = data[\"location\"]\n",
    "    dict_result_alloc[location][position] += 1\n",
    "\n",
    "df_result_alloc = pd.DataFrame.from_dict(dict_result_alloc, orient=\"index\")\n",
    "\n",
    "print(\"Number of employees assigned by position\")\n",
    "display(df_result_alloc)"
   ]
  },
  {
   "cell_type": "code",
   "execution_count": null,
   "metadata": {},
   "outputs": [],
   "source": [
    "# Labels for each store's requested managerial positions ['num_managers' 'num_submanagers']\n",
    "num_positions_labels = df_req.columns.values[1:num_positions]\n",
    "\n",
    "dict_result_fill_rate = defaultdict(defaultdict)\n",
    "# Calculate fill rate for each store\n",
    "for l in range(len(df_result_alloc)):\n",
    "    data = df_result_alloc.iloc[l]  # df_result_alloc for store l\n",
    "    loc = data.name  # Store name\n",
    "    # Calculate the fill rate for each position.\n",
    "    for j in range(len(positions) - 1):\n",
    "        # Number of employees required for each store and each position\n",
    "        num_required = df_req[df_req[\"location\"] == loc][num_positions_labels[j]].item()\n",
    "        # Number of employees assigned to each store and each position\n",
    "        num_allocated = data[positions[j]].item()\n",
    "        # Calculate the fill rate. If number of employees required is zero, assign N/A\n",
    "        if num_required > 0:\n",
    "            dict_result_fill_rate[loc][f\"{positions[j]} (fill rate)\"] = (\n",
    "                num_allocated / num_required\n",
    "            )\n",
    "        else:\n",
    "            dict_result_fill_rate[loc][f\"{positions[j]} (fill rate)\"] = \"N/A\"\n",
    "\n",
    "df_result_fill_rate = pd.DataFrame.from_dict(dict_result_fill_rate, orient=\"index\")\n",
    "\n",
    "print(\"Fill rate by position for each store\")\n",
    "display(df_result_fill_rate)"
   ]
  },
  {
   "attachments": {},
   "cell_type": "markdown",
   "metadata": {},
   "source": [
    "It shows that the required number of employees with the required position have been successfully assigned in all stores."
   ]
  }
 ],
 "metadata": {
  "language_info": {
   "name": "python",
   "pygments_lexer": "ipython3"
  }
 },
 "nbformat": 4,
 "nbformat_minor": 2
}
