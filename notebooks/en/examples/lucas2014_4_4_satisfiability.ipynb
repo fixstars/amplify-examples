{
 "cells": [
  {
   "cell_type": "markdown",
   "id": "e20e3b11",
   "metadata": {},
   "source": [
    "# Example NP problems published in A. Lucas, *Front. Phys.* (2014) - Satisfiability problem (SAT)\n",
    "\n",
    "This example code implements the **satisfiability problem (SAT)** introduced in the paper [A. Lucas, \"Ising formulations of many NP problems\", *Front. Phys.* (2014)](https://www.frontiersin.org/articles/10.3389/fphy.2014.00005/full) using Fixstars Amplify. Other NP-complete and NP-hard problems introduced in the same paper are also discussed below (the corresponding sections in the paper are shown in the brackets).\n",
    "\n",
    "- [Graph partitioning problem](https://amplify.fixstars.com/en/demo/lucas2014_2_2_graph_partitioning) (Sec. 2.2).\n",
    "- [Maximum clique problem](https://amplify.fixstars.com/en/demo/lucas2014_2_3_cliques) (Sec. 2.3)\n",
    "- [Exact cover problem](https://amplify.fixstars.com/en/demo/lucas2014_4_1_exact_cover) (Sec. 4.1)\n",
    "- [Set packing problem](https://amplify.fixstars.com/en/demo/lucas2014_4_2_set_packing) (Sec. 4.2)\n",
    "- [Minimum vertex cover problem](https://amplify.fixstars.com/en/demo/lucas2014_4_3_vertex_cover) (Sec. 4.3)\n",
    "- **Satisfiability problem (SAT)** (Sec. 4.4)\n",
    "- [Minimal maximal matching problem](https://amplify.fixstars.com/en/demo/lucas2014_4_5_minimal_maximal_matching) (Sec. 4.5)\n",
    "- [Graph coloring problem](https://amplify.fixstars.com/en/demo/lucas2014_6_1_graph_coloring) (Sec. 6.1)\n",
    "- [Clique cover problem](https://amplify.fixstars.com/en/demo/lucas2014_6_2_clique_cover) (Sec. 6.2)\n",
    "- [Job sequencing problem with integer lengths](https://amplify.fixstars.com/en/demo/lucas2014_6_3_job_sequencing_with_integer_lengths) (Sec. 6.3)\n",
    "- [Hamiltonian cycle problem](https://amplify.fixstars.com/en/demo/lucas2014_7_1_hamiltonian_cycles_and_paths) (Sec. 7.1)\n",
    "- [Directed feedback vertex set problem](https://amplify.fixstars.com/en/demo/lucas2014_8_3_directed_feedback_vertex_set) (Sec. 8.3)\n",
    "- [Minimum feedback edge set problem](https://amplify.fixstars.com/en/demo/lucas2014_8_5_feedback_edge_set) (Sec. 8.5)\n",
    "- [Graph isomorphism problem](https://amplify.fixstars.com/en/demo/lucas2014_9_graph_isomorphisms) (Sec. 9)"
   ]
  },
  {
   "cell_type": "markdown",
   "id": "a5b3cb8b",
   "metadata": {},
   "source": [
    "## 3-SAT problem\n",
    "\n",
    "For $N$ logical variables $x_1, x_2, \\ldots, x_N$, the logical disjunction (or) of these and some of their negations $\\bar{x_1}, \\bar{x_2}, \\ldots, \\bar{x_N}$ is called **clause**. For example, the following is a typical clause.\n",
    "\n",
    "$$\n",
    "x_1 \\lor \\bar{x_2} \\lor x_3\n",
    "$$\n",
    "\n",
    "The 3-SAT problem is to determine whether, given several clauses consisting of three literals (e.g. $x_i$ or $\\bar{x_i}$), you can assign $0$ or $1$ to each of $x_1, x_2, \\ldots, x_N$ so that all clauses have the value $1$. For example,\n",
    "\n",
    "$$\n",
    "(x_1 \\lor \\bar{x_2} \\lor x_3) \\land (x_2 \\lor \\bar{x_3} \\lor x_4) \\land (\\bar{x_1} \\lor \\bar{x_2} \\lor \\bar{x_4}) \\land (x_2 \\lor x_3 \\lor x_4) \n",
    "$$\n",
    "\n",
    "is a 3-SAT problem, and if you assign $x_1 = 1$, $x_2 = 1$, $x_3 = 1$, and $x_4 = 0$, all four clauses are $1$.\n",
    "\n",
    "Here, we will create a program that uses Fixstars Amplify to search for a solution to the 3-SAT problem. The formulation follows the one in Sec. 4.4 of [A. Lucas, Front. Phys. (2014)](https://www.frontiersin.org/articles/10.3389/fphy.2014.00005/full)."
   ]
  },
  {
   "cell_type": "markdown",
   "id": "3ef0be97",
   "metadata": {},
   "source": [
    "## Problem definition\n",
    "\n",
    "In this example program, we solve the following 3-SAT problem.\n",
    "\n",
    "\n",
    "$$\n",
    "(x_1 \\lor \\bar{x_2} \\lor x_3) \\land (x_2 \\lor \\bar{x_3} \\lor x_4) \\land (\\bar{x_1} \\lor \\bar{x_2} \\lor \\bar{x_4}) \\land (x_2 \\lor x_3 \\lor x_4). \n",
    "$$\n",
    "\n",
    "In the code, the logical variables $x_1, x_2, \\ldots, x_N$ are represented by the indices $1, 2, \\ldots, N$ and their negations $\\bar{x_1}, \\bar{x_2}, \\ldots, \\bar{x_N}$ by the corresponding negative numbers $-1, -2, \\ldots, -N$. Clauses are represented as literal tuples and 3-SAT problems are represented by a list of clauses as follows."
   ]
  },
  {
   "cell_type": "code",
   "execution_count": null,
   "id": "63eb3387",
   "metadata": {},
   "outputs": [],
   "source": [
    "N = 4  # Number of logical variables\n",
    "problem = [(1, -2, 3), (2, -3, 4), (-1, -2, -4), (2, 3, 4)]"
   ]
  },
  {
   "cell_type": "markdown",
   "id": "1dd80122",
   "metadata": {},
   "source": [
    "## Formulation\n",
    "\n",
    "Hereafter, the number of logical variables is $N$, and the number of clauses is $M$. In the present problem setup described above, $N=4$, $M=4$.\n",
    "\n",
    "### Formulation guidelines\n",
    "\n",
    "First, we prepare $3 \\times M$ binary variables $q$ and map them to each literal that appears in each clause. That is, $q_{i, j}$ corresponds to the $j$-th literal appearing in the $i$-th clause.\n",
    "\n",
    "Here, the immediate idea is to map literals and binary variables to each other, but formulating in this way will eventually lead to the [use of inequality constraints, which require auxiliary variables](https://amplify.fixstars.com/en/docs/amplify/v1/penalty.html#ineq-penalty). The use of auxiliary variables is not necessarily a bad thing. Still it is better not to use them if possible, so we will consider formulating the problem differently.\n",
    "\n",
    "Now, let us consider the following problem:\n",
    "\n",
    "---\n",
    "\n",
    "(Problem ☆) : For each clause of the 3-SAT problem, mark only one literal that appears in the clause (see the following logical formula). Can you do so so that a logical variable $x_i$ and its negation $\\bar{x_i}$ do not appear in the $M$ literals you have marked?\n",
    "\n",
    "$$\n",
    "\\text{Marked example: }\\:\\:(\\boxed{x_1} \\lor \\bar{x_2} \\lor x_3) \\land (\\boxed{x_2} \\lor \\bar{x_3} \\lor x_4) \\land (\\bar{x_1} \\lor \\bar{x_2} \\lor \\boxed{\\bar{x_4}}) \\land (\\boxed{x_2} \\lor x_3 \\lor x_4) \n",
    "$$\n",
    "\n",
    "--- \n",
    "\n",
    "If we can solve this (problem ☆), then we can solve the 3-SAT problem as well because the solution to the 3-SAT problem can be derived from the solution to (Problem ☆) as follows:\n",
    "\n",
    "- **Derivation of the 3-SAT problem**.  \n",
    "  For each of $i = 1, 2, \\ldots, N$, find the literal marked in the solution of (Problem ☆) that is $x_i$ or $\\bar{x_i}$ (there may be more than one such literal but from the conditions of (Problem ☆), $x_i$ and $\\bar{x_i }$ are never marked at the same time). When $x_i$ is marked, $x_i = 1$, and when $\\bar{x_i }$ is marked, $x_i = 0$. If no $x_i$ or $\\bar{x_i}$ is marked, $x_i$ can be either $0$ or $1$.\n",
    "\n",
    "It is easy to see that the logical variable $x$ determined in this way is a solution to the 3-SAT problem.\n",
    "Also, if there is a solution to the 3-SAT problem, we can construct a solution to (problem ☆) by marking one literal in each clause that is equal to $1$ in the solution. Thus, we know that it cannot happen that there is no solution to (problem ☆) even though there is a solution to the 3-SAT problem.\n",
    "\n",
    "Therefore, we can solve (Problem ☆) instead of the 3-SAT problem.\n",
    "\n",
    "Now let us formulate (Problem ☆). Let $3 \\times M$ binary variables $q$ correspond to each literal, and let the binary variables indicate whether the corresponding literal is marked. If it is marked, it is $1$; if not, it is $0$.\n",
    "\n",
    "For example, if the literal enclosed by the square in the following equation is marked, $q$ is as in the following table.\n",
    "\n",
    "$$\n",
    "(\\boxed{x_1} \\lor \\bar{x_2} \\lor x_3) \\land (\\boxed{x_2} \\lor \\bar{x_3} \\lor x_4) \\land (\\bar{x_1} \\lor \\bar{x_2} \\lor \\boxed{\\bar{x_4}}) \\land (\\boxed{x_2} \\lor x_3 \\lor x_4) \n",
    "$$\n",
    "\n",
    "| $q_{i,j}$  | 1st literal | 2nd literal | 3rd literal |\n",
    "| :--------: | :---------: | :---------: | :---------: |\n",
    "| 1st clause |      1      |      0      |      0      |\n",
    "| 2nd clause |      1      |      0      |      0      |\n",
    "| 3rd clause |      0      |      0      |      1      |\n",
    "| 4th clause |      1      |      0      |      0      |\n",
    "\n",
    "Also, restoring the solution of the 3-SAT problem from this $q$ yields $x_1 = 1$, $x_2 = 1$, and $x_4 = 0$ (see above **Derivation of the 3-SAT problem**). The restoration method is, as mentioned above, $x_i = 1$ when $x_i$ is marked, $x_i = 0$ when $\\bar{x_i}$ is marked, and $x_i$ can be either $0$ or $1$ when neither $x_i$ nor $\\bar{x_i}$ is marked (that is, $x _3$ can be either $0$ or $1$)."
   ]
  },
  {
   "cell_type": "markdown",
   "id": "238c4c61",
   "metadata": {},
   "source": [
    "### Objective function\n",
    "\n",
    "(Problem ☆) is a problem to find one way to mark $M$ literals that satisfy the condition, so we do not conder objective function.\n",
    "\n",
    "### Constraints\n",
    "\n",
    "For the marking corresponding to $q$ to be the solution of (Problem ☆), the following conditions must be satisfied.\n",
    "\n",
    "* Condition 1: For each clause, exactly one of the binary variables is $1$ (one of the literals appearing in the clause is marked).\n",
    "* Condition 2: For each $i$, the binary variable corresponding to $x_i$ and the binary variable corresponding to $\\bar{x_i}$ are never both $1$.\n",
    "\n",
    "Condition 1 is a [one-hot](https://amplify.fixstars.com/en/docs/amplify/v1/constraint.html#equality-constraints) constraint on each row of $q$, and we can express this condition as follows.\n",
    "\n",
    "$$\n",
    "\\sum_{k = 0}^{N-1} q_{i, k} = 1 \\quad  \\text{for} \\quad i \\in \\{0, 1, \\ldots, M-1\\}\n",
    "$$\n",
    "\n",
    "We can express condition 2 as follows.\n",
    "\n",
    "$$\n",
    "q_{i, k} q_{j, l} = 0\n",
    "$$\n",
    "\n",
    "Here, in the above equation, $(i, j, k, l)$ is the index such that the literal corresponding to $q_{i, k}$ is the negation of the literal corresponding to $q_{j, l}$."
   ]
  },
  {
   "cell_type": "markdown",
   "id": "88f2c231",
   "metadata": {},
   "source": [
    "## Implementation\n",
    "\n",
    "Using the problem and formulation described above, let us implement and solve the 3-SAT problem. First, create a binary variable matrix $q$ of $3\\times M$ using `BinarySymbolGenerator` in Fixstars Amplify SDK."
   ]
  },
  {
   "cell_type": "code",
   "execution_count": null,
   "id": "5fa8c13d",
   "metadata": {},
   "outputs": [],
   "source": [
    "from amplify import VariableGenerator\n",
    "\n",
    "M = len(problem)  # Number of clauses\n",
    "\n",
    "gen = VariableGenerator()\n",
    "q = gen.array(\"Binary\", shape=(M, 3))"
   ]
  },
  {
   "cell_type": "markdown",
   "id": "72f6b002",
   "metadata": {},
   "source": [
    "Next, we create the constraint corresponding to Condition 1. As mentioned, Condition 1 is a one-hot constraint for each row of $q$, and can be implemented by passing 1 to the `axis` parameter of the `one_hot` function."
   ]
  },
  {
   "cell_type": "code",
   "execution_count": null,
   "id": "9701e0c8",
   "metadata": {},
   "outputs": [],
   "source": [
    "from amplify import one_hot\n",
    "\n",
    "constraint1 = one_hot(q, axis=1)"
   ]
  },
  {
   "cell_type": "markdown",
   "id": "c9e667d7",
   "metadata": {},
   "source": [
    "Then, let us create the constraint corresponding to Condition 2. Condition 2 is the condition that the element of $q$ corresponding to $x_i$ and the element of $q$ corresponding to $\\bar{x_i}$ must not both be $1$. The literal corresponding to $q_{i, k}$ can be obtained by `problem[i][k]`, whose absolute value represents the index of the logical variable and whose sign indicates whether it is negative. Thus, whether two literals are negative to each other is identical to whether the two elements of `problem` add up to $0$."
   ]
  },
  {
   "cell_type": "code",
   "execution_count": null,
   "id": "19700cb9",
   "metadata": {},
   "outputs": [],
   "source": [
    "from amplify import equal_to, sum as amplify_sum\n",
    "\n",
    "constraint2 = amplify_sum(\n",
    "    equal_to(q[i, k] * q[j, l], 0)\n",
    "    for i in range(M)\n",
    "    for k in range(3)\n",
    "    for j in range(M)\n",
    "    for l in range(3)\n",
    "    if problem[i][k] + problem[j][l] == 0\n",
    ")"
   ]
  },
  {
   "cell_type": "markdown",
   "id": "23ee8d72",
   "metadata": {},
   "source": [
    "Now, we can convert the constructed constraints into an optimization model."
   ]
  },
  {
   "cell_type": "code",
   "execution_count": null,
   "id": "bdf85930",
   "metadata": {},
   "outputs": [],
   "source": [
    "from amplify import Model\n",
    "\n",
    "model = Model(constraint1 + constraint2)"
   ]
  },
  {
   "cell_type": "markdown",
   "id": "296df15c",
   "metadata": {},
   "source": [
    "Configure the client and execute the solver on the Fixstars Amplify Annealing Engine (AE)."
   ]
  },
  {
   "cell_type": "code",
   "execution_count": null,
   "id": "ab98e27c",
   "metadata": {},
   "outputs": [],
   "source": [
    "from amplify import FixstarsClient, solve\n",
    "from datetime import timedelta\n",
    "\n",
    "client = FixstarsClient()\n",
    "# client.token = \"xxxxxxxxxxxxxxxxxxxxxxxxxxxxxxxx\"  # If you use Amplify in a local environment or Google Colaboratory, enter your Amplify API token.\n",
    "client.parameters.timeout = timedelta(milliseconds=1000)  # timeout is 1000 ms\n",
    "\n",
    "# Solve the problem\n",
    "result = solve(model, client)"
   ]
  },
  {
   "cell_type": "markdown",
   "id": "7160ddf3",
   "metadata": {},
   "source": [
    "Since Amplify SDK automatically filters the solutions that satisfy the constraints, if the `result` is not empty, you know that there is a solution that satisfies the constraints."
   ]
  },
  {
   "cell_type": "code",
   "execution_count": null,
   "id": "894e549e",
   "metadata": {},
   "outputs": [],
   "source": [
    "if len(result) == 0:\n",
    "    print(\"No solution has been found.\")\n",
    "else:\n",
    "    print(\"A solution has been found.\")"
   ]
  },
  {
   "cell_type": "markdown",
   "id": "4b3a10ac",
   "metadata": {},
   "source": [
    "Finally, convert the solution of (Problem ☆) into the solution of the 3-SAT problem."
   ]
  },
  {
   "cell_type": "code",
   "execution_count": null,
   "id": "307eb544",
   "metadata": {},
   "outputs": [],
   "source": [
    "import numpy as np\n",
    "\n",
    "x = np.zeros(\n",
    "    N + 1\n",
    ")  # Default solution values for the 3-SAT problem. Since x is 1-origin, we define x to have (N+1) size\n",
    "values = q.evaluate(\n",
    "    result.best.values\n",
    ")  # Format the solution to have the same shape as the decision variable matrix by the decode method\n",
    "ones = np.argwhere(values == 1)  # Search all elements of q which are 1\n",
    "for i, k in ones:\n",
    "    if problem[i][k] > 0:\n",
    "        x[problem[i][k]] = 1\n",
    "print(x[1:])"
   ]
  }
 ],
 "metadata": {
  "language_info": {
   "name": "python",
   "pygments_lexer": "ipython3"
  }
 },
 "nbformat": 4,
 "nbformat_minor": 5
}
