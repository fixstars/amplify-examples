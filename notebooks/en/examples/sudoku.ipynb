{
 "cells": [
  {
   "attachments": {},
   "cell_type": "markdown",
   "metadata": {},
   "source": [
    "# Sudoku\n",
    "\n",
    "This tutorial explains how to solve a Sudoku puzzle using an Ising machine with Amplify."
   ]
  },
  {
   "attachments": {},
   "cell_type": "markdown",
   "metadata": {},
   "source": [
    "## About Sudoku\n",
    "\n",
    "[Sudoku](https://ja.wikipedia.org/wiki/%E6%95%B0%E7%8B%AC) is a puzzle that fills a $9\\times9$ grid with the numbers from $1$ to $9$ accordingly to the following [rules](https://www.nikoli.co.jp/ja/puzzles/sudoku/):\n",
    "\n",
    "* Place one number from $1$ to $9$ to each cell.\n",
    "* No identical numbers may be placed in each row and column, and in each of the nine $3\\times3$ subgrids.\n",
    "\n",
    "First, we are given initial clues, where 17 or more numbers are placed (it has been proven that no solution can be found with 16 or less clues). The game is played by determining the numbers that go into the unfilled cells accordingly to the rules above. When the game's difficulty level is low, it is relatively easy to determine which numbers to place. As the difficulty of the game increases, and it requires some experience to solve the puzzles.\n",
    "\n",
    "<div align=\"center\">\n",
    "<img src=\"https://upload.wikimedia.org/wikipedia/commons/thumb/e/e0/Sudoku_Puzzle_by_L2G-20050714_standardized_layout.svg/361px-Sudoku_Puzzle_by_L2G-20050714_standardized_layout.svg.png\">\n",
    "</div>\n",
    "\n",
    "<center>Reference: https://en.wikipedia.org/wiki/Sudoku</center>\n",
    "\n",
    "\n",
    "[Various algorithms](<https://en.wikipedia.org/wiki/Sudoku_solving_algorithms>) have been devised to solve Sudoku puzzles using computers, such as depth-first search, probabilistic methods, constraint satisfaction problems, exact cover problems, etc. By following these algorithms, Sudoku puzzles can be solved mechanically.\n",
    "\n",
    "In this tutorial, we will show how to solve Sudoku puzzles using an Ising machine.\n",
    "Formulating the problem from the above Sudoku rules, we define the corresponding function, where finding its minimum value is equivalent to solving the Sudoku puzzle. In the case of Sudoku, only constraint conditions are needed, and no cost function appears.\n",
    "\n",
    "Now let us take a look at how the code for solving a Sudoku puzzle is implemented using Amplify.\n",
    "\n",
    "<!-- [数独問題を解くアルゴリズムと実装](https://qiita.com/chinbaa_chi/items/4ba84c1c957473c7512d)\n",
    "[数独のアルゴリズムを考える ― 各種法の改善と高速化](https://www.slideshare.net/atmarksharp/ss-45348313)\n",
    " -->"
   ]
  },
  {
   "attachments": {},
   "cell_type": "markdown",
   "metadata": {},
   "source": [
    "## Formulation of constraints\n",
    "\n",
    "### How to express Sudoku constraints on annealing machines\n",
    "\n",
    "First, we consider how to express the constraint conditions that correspond to the Sudoku rules, using binary variables whose values are $\\{0, 1\\}$.\n",
    "\n",
    "The rules to be expressed are the followings:\n",
    "\n",
    "1. Each row contains the digits from $1$ to $9$ without overlap.\n",
    "2. Each column contains the digits $1$ to $9$ without overlap.\n",
    "3. Each $3\\times3$ subgrid contains the digits $1$ to $9$ without overlap.\n",
    "\n",
    "Without imposing the above rules 1-3, $9$ possible numbers can be placed in each of $9\\times9=81$ cells.\n",
    "We thus consider assigning $9$ binary variables to each of the cells, so that $9\\times9\\times9=729$ variables are prepared in total.\n",
    "One way to describe this situation is that we stack $9$ layers of $9\\times9=81$ grids, so that each layer corresponds to the numbers from $1$ to $9$, respectively.\n",
    "For the $9\\times9=81$ grid in each layer, we let $i$ and $j$ be the indices expressing the rows and columns, respectively, with $i,j=0,\\cdots,8$, corresponding to $1, \\cdots, 9$ th row and column.\n",
    "We also assign the layer index $k=0,\\dots,8$, so that the layer specified by the index corresponds to numbers $1,\\cdots,9$, respectively.\n",
    "\n",
    "From this observation, we can express the binary variables by $q_{i,j,k}$, where $i,j,k=0,\\cdots,8$ correspond to the indices for rows, columns, and layers, respectively.\n",
    "For example, $q_{2,4,6}=1$ means that number $7$ is placed in the cell at the 3rd row and 5th column, and $q_{2,4,6}=0$ means that $7$ is not to be placed here.\n",
    "\n",
    "Using these variables, the constraints 1-3 can be written as the following one-hot constraints, respectively.\n",
    "\n",
    "$$\n",
    "\\left\\{\n",
    "    \\begin{align}\n",
    "        &\\begin{split}\n",
    "            (a) \\quad &\\sum_{j=0}^8 q_{i,j,k}=1\n",
    "        \\end{split}\\\\\n",
    "        &\\begin{split}\n",
    "            (b) \\quad &\\sum_{i=0}^8 q_{i,j,k}=1\n",
    "        \\end{split}\\\\\n",
    "        &\\begin{split}\n",
    "            (c) \\quad &\\sum_{i,j\\in 3\\times3\\,\\text{subgrid}}q_{i,j,k}=1\n",
    "        \\end{split}\\\\\n",
    "        &\\begin{split}\n",
    "            (d) \\quad &\\sum_{k=0}^8 q_{i,j,k}=1\n",
    "        \\end{split}\n",
    "    \\end{align}\n",
    "\\right.\n",
    "$$\n",
    "\n",
    "The constraints $(a)$, $(b)$ and $(c)$ correspond to rules 1, 2 and 3, respectively. The $(d)$ constraint corresponds to the basic condition that each cell can only contain one number."
   ]
  },
  {
   "attachments": {},
   "cell_type": "markdown",
   "metadata": {},
   "source": [
    "## Initialization\n",
    "\n",
    "In Sudoku, clues are given as an initial placement with 17 or more numbers already placed. Here we use the following initial placement which is considered a difficult problem. In the following notation, the cells with no filled numbers are marked with $0$."
   ]
  },
  {
   "cell_type": "code",
   "execution_count": null,
   "metadata": {},
   "outputs": [],
   "source": [
    "import numpy as np\n",
    "\n",
    "# Indicate initial placement as a list\n",
    "# Reference: http://www.sudokugame.org/archive/printable.php?nd=4&y=2018&m=03&d=1\n",
    "initial = np.array(\n",
    "    [\n",
    "        [2, 0, 5, 1, 3, 0, 0, 0, 4],\n",
    "        [0, 0, 0, 0, 4, 8, 0, 0, 0],\n",
    "        [0, 0, 0, 0, 0, 7, 0, 2, 0],\n",
    "        [0, 3, 8, 5, 0, 0, 0, 9, 2],\n",
    "        [0, 0, 0, 0, 9, 0, 7, 0, 0],\n",
    "        [0, 0, 0, 0, 0, 0, 4, 5, 0],\n",
    "        [8, 6, 0, 9, 7, 0, 0, 0, 0],\n",
    "        [9, 5, 0, 0, 0, 0, 0, 3, 1],\n",
    "        [0, 0, 4, 0, 0, 0, 0, 0, 0],\n",
    "    ]\n",
    ")\n",
    "\n",
    "\n",
    "# Display Sudoku grid with numbers\n",
    "def print_sudoku(sudoku):\n",
    "    print(\"\\n\\n\")\n",
    "    for i in range(len(sudoku)):\n",
    "        line = \"\"\n",
    "        if i == 3 or i == 6:\n",
    "            print(\"---------------------\")\n",
    "        for j in range(len(sudoku[i])):\n",
    "            if j == 3 or j == 6:\n",
    "                line += \"| \"\n",
    "            line += str(sudoku[i][j]) + \" \"\n",
    "        print(line)\n",
    "\n",
    "\n",
    "print_sudoku(initial)"
   ]
  },
  {
   "attachments": {},
   "cell_type": "markdown",
   "metadata": {},
   "source": [
    "## Creating Constraints\n",
    "\n",
    "### Define variables and reflect initial placement\n",
    "\n",
    "First, we prepare variables using `gen_symbols` and `BinaryPoly` provided by Amplify.\n"
   ]
  },
  {
   "cell_type": "code",
   "execution_count": null,
   "metadata": {},
   "outputs": [],
   "source": [
    "from amplify import BinaryPoly, gen_symbols\n",
    "\n",
    "q = gen_symbols(BinaryPoly, 9, 9, 9)"
   ]
  },
  {
   "attachments": {},
   "cell_type": "markdown",
   "metadata": {},
   "source": [
    "This gives a three-dimensional array with $9^3=729$ variables. Each of `9, 9, 9` represents the number of elements in the rows, columns, and number layers, and their indices are `i`, `j`, and `k`, respectively. Each element can be accessed with `q[i][j][k]`. For example, the 9 variables for row number $0$ and column number $0$ can be displayed as follows:\n"
   ]
  },
  {
   "cell_type": "code",
   "execution_count": null,
   "metadata": {},
   "outputs": [],
   "source": [
    "q[0][0]"
   ]
  },
  {
   "attachments": {},
   "cell_type": "markdown",
   "metadata": {},
   "source": [
    "From the initial placement stored in `initial`, we can narrow down the unknown variables that can be determined accordingly to the rules of Sudoku. For example, the cell indicated by `i=1` and `j=5` already has a number $8$ (`initial[1][5]=8`), so the variable in the layer `k=7` corresponding to the number $8$ can be specified by `q[1][5][7]=1`. In this specific case, we can place some numbers accordingly to the rules in the following way.\n",
    "\n",
    "Rules 1 and 2 allow us to further determine the values of the variables `q[i][5][7]=0` ($i\\neq1$), `q[1][j][7]=0` ($j\\neq5$), and `q[i][5][7]=0` ($j\\neq5$), since the row and column containing the cell indicated by `i=1` and `j=5` in the layer `k=7` cannot contain the same number as $8$. This corresponds to imposing the constraints $(a)$ and $(b)$.\n",
    "\n",
    "Also, by rule 3, the $3\\times3$ subgrid, which this number $8$ above belongs to, cannot contain $8$ any more, so in $(i,j)\\in\\{(0,3),(0,4),(0,5),(1,3),(1,4),(2,3),(2,4),(2,5)\\}$, we can let `q[i ][j][7]=0`. We can imposed the constraint $(c)$ in this manner.\n",
    "\n",
    "Furthermore, we impose the constraint $(d)$ to place only one of the numbers in a cell where the number is fixed. In the above example, we have `q[1][5][k]=0` ($k\\neq7$). By performing similar operations for all the cells given from the initial layout, we can narrow down the required variables so that we can perform the calculations with fewer number of variables."
   ]
  },
  {
   "cell_type": "code",
   "execution_count": null,
   "metadata": {},
   "outputs": [],
   "source": [
    "for i, j in zip(\n",
    "    *np.where(initial != 0)\n",
    "):  # Obtain the indices of non-zero rows, columns, and layers\n",
    "    k = initial[i, j] - 1  # Note that -1 is used to convert from value to index\n",
    "\n",
    "    for m in range(9):\n",
    "        q[i][m][k] = BinaryPoly(0)  # Constraint(a)\n",
    "        q[m][j][k] = BinaryPoly(0)  # Constraint(b)\n",
    "        q[i][j][m] = BinaryPoly(0)  # Constraint(d)\n",
    "        q[3 * (i // 3) + m // 3][3 * (j // 3) + m % 3][k] = BinaryPoly(\n",
    "            0\n",
    "        )  # Constraint(c)\n",
    "\n",
    "    q[i][j][k] = BinaryPoly(1)  # Set the value of the variable to 1"
   ]
  },
  {
   "attachments": {},
   "cell_type": "markdown",
   "metadata": {},
   "source": [
    "We have now prepared the initial settings. As an example, if you display the 9 variables with the row number $0$ and the column number $0$, you will see that the second element is fixed as $1$, that is, the number $2$ is assigned to this cell."
   ]
  },
  {
   "cell_type": "code",
   "execution_count": null,
   "metadata": {},
   "outputs": [],
   "source": [
    "q[0][0]"
   ]
  },
  {
   "attachments": {},
   "cell_type": "markdown",
   "metadata": {},
   "source": [
    "Similarly, if we display the 9 variables with the row number $0$ and column number $1$, we can see that the numbers $1,2,3,4,5,6$ are not candidates."
   ]
  },
  {
   "cell_type": "code",
   "execution_count": null,
   "metadata": {},
   "outputs": [],
   "source": [
    "q[0][1]"
   ]
  },
  {
   "attachments": {},
   "cell_type": "markdown",
   "metadata": {},
   "source": [
    "## Setting constraints\n",
    "\n",
    "Next, we show how the constraint parts are implemented.\n",
    "The one-hot constraint in $(a)$-$(d)$ can be expressed using Amplify's `equal_to` function.\n",
    "\n",
    "We start by defining the constraint condition corresponding to $(a)$ that each row of cannot contain the same number.\n",
    "Since the sum of the variables for all columns specified by row `i` and layer `k` is given by $\\sum_{j=0}^{8}q_{i,j,k}$, the constraint can be obtained by setting this sum to $1$ as follows."
   ]
  },
  {
   "cell_type": "code",
   "execution_count": null,
   "metadata": {},
   "outputs": [],
   "source": [
    "from amplify.constraint import equal_to\n",
    "\n",
    "# (a): Constraint that each row cannot contain the same number\n",
    "row_constraints = [\n",
    "    equal_to(sum([q[i][j][k] for j in range(9)]), 1) for i in range(9) for k in range(9)\n",
    "]"
   ]
  },
  {
   "attachments": {},
   "cell_type": "markdown",
   "metadata": {},
   "source": [
    "Similarly, the constraint $(b)$ that each column has cannot contain the same number and $(d)$ that only one number can be placed in a given cell can be expressed as follows:"
   ]
  },
  {
   "cell_type": "code",
   "execution_count": null,
   "metadata": {},
   "outputs": [],
   "source": [
    "# (b): Constraint that each column cannot contain the same number\n",
    "col_constraints = [\n",
    "    equal_to(sum([q[i][j][k] for i in range(9)]), 1) for j in range(9) for k in range(9)\n",
    "]\n",
    "\n",
    "# (d): Constraint that only one number can be placed in a cell\n",
    "num_constraints = [\n",
    "    equal_to(sum([q[i][j][k] for k in range(9)]), 1) for i in range(9) for j in range(9)\n",
    "]"
   ]
  },
  {
   "attachments": {},
   "cell_type": "markdown",
   "metadata": {},
   "source": [
    "Finally, we express the constraint $(c)$ that each $3\\times3$ subgrid cannot contain the same number. We take the sum of the variables in each $3\\times3$ subgrid for all layers and impose the one-hot constraint as follows:"
   ]
  },
  {
   "cell_type": "code",
   "execution_count": null,
   "metadata": {},
   "outputs": [],
   "source": [
    "# (c): Constraint that 3x3 subgrids cannot contain the same number\n",
    "block_constraints = [\n",
    "    equal_to(sum([q[i + m // 3][j + m % 3][k] for m in range(9)]), 1)\n",
    "    for i in range(0, 9, 3)\n",
    "    for j in range(0, 9, 3)\n",
    "    for k in range(9)\n",
    "]"
   ]
  },
  {
   "attachments": {},
   "cell_type": "markdown",
   "metadata": {},
   "source": [
    "We have now obtained all the constraints, and we can add all these constraints together to obtain the total constraint object.\n"
   ]
  },
  {
   "cell_type": "code",
   "execution_count": null,
   "metadata": {},
   "outputs": [],
   "source": [
    "constraints = (\n",
    "    sum(row_constraints)\n",
    "    + sum(col_constraints)\n",
    "    + sum(num_constraints)\n",
    "    + sum(block_constraints)\n",
    ")"
   ]
  },
  {
   "attachments": {},
   "cell_type": "markdown",
   "metadata": {},
   "source": [
    "\n",
    "This completes the formulation of the Sudoku problem. If the Ising machine can find the combination of variables that satisfies all the constraints, this allows us to determine the numbers to be placed for all the cells, giving the solution for Sudoku."
   ]
  },
  {
   "cell_type": "code",
   "execution_count": null,
   "metadata": {},
   "outputs": [],
   "source": [
    "from amplify import Solver\n",
    "from amplify.client import FixstarsClient\n",
    "\n",
    "client = FixstarsClient()\n",
    "# client.token = \"xxxxxxxxxxxxxxxxxxxxxxxxxxxxxxxx\"\n",
    "client.parameters.timeout = 1000  # Timeout is 1 second\n",
    "\n",
    "solver = Solver(client)"
   ]
  },
  {
   "attachments": {},
   "cell_type": "markdown",
   "metadata": {},
   "source": [
    "We formulate the constraint `constraints` as a logical model class by giving it to `BinaryQuadraticModel`, and we can get the result by giving it to the `Solve.solver` method of the previously set `solver`."
   ]
  },
  {
   "cell_type": "code",
   "execution_count": null,
   "metadata": {},
   "outputs": [],
   "source": [
    "from amplify import BinaryQuadraticModel\n",
    "\n",
    "model = BinaryQuadraticModel(constraints)\n",
    "result = solver.solve(model)\n",
    "if len(result) == 0:\n",
    "    raise RuntimeError(\"Some of the constraints are not satisfied.\")\n",
    "\n",
    "values = result[0].values"
   ]
  },
  {
   "attachments": {},
   "cell_type": "markdown",
   "metadata": {},
   "source": [
    "The result of the execution is stored in `values`. By giving the variable array `q` and `values` to the `decode_solution` function, the variables are evaluated with the result values.\n",
    "Then, by searching for `k` such that `q[i][j][k] = 1` for all `i` and `j`, we can get the number `k + 1` as the solution for the indicated cell."
   ]
  },
  {
   "cell_type": "code",
   "execution_count": null,
   "metadata": {},
   "outputs": [],
   "source": [
    "from amplify import decode_solution\n",
    "\n",
    "q_values = decode_solution(q, values)\n",
    "answer = np.array([np.where(np.array(q_values[i]) != 0)[1] + 1 for i in range(9)])"
   ]
  },
  {
   "attachments": {},
   "cell_type": "markdown",
   "metadata": {},
   "source": [
    "Finally, the `print_sudoku` function is used to output the solution."
   ]
  },
  {
   "cell_type": "code",
   "execution_count": null,
   "metadata": {},
   "outputs": [],
   "source": [
    "print_sudoku(answer)"
   ]
  },
  {
   "attachments": {},
   "cell_type": "markdown",
   "metadata": {},
   "source": [
    "## Generalization of Sudoku\n",
    "\n",
    "So far we have dealt with a $9 \\times 9$ grid with $3 \\times 3$ subgrids, but the Ising machine can easily handle Sudoku puzzles with extended problem sizes, such as $16 \\times 16$ and $25 \\times 25$. We let the number of cells in a Sudoku puzzle be $N\\times N,\\,(N\\in\\mathbb{Z})$ and the corresponding subgrids be in the form of $n\\times n$ (where $N=n^2,\\,(n\\in\\mathbb{Z})$). For example, a basic $9\\times9$ Sudoku would have $N=9$ and $n=3$.\n",
    "\n",
    "We generalize the previous code using $N$ and $n$ and solve the $16\\times16$ mass Sudoku as an example."
   ]
  },
  {
   "cell_type": "code",
   "execution_count": null,
   "metadata": {},
   "outputs": [],
   "source": [
    "from amplify import (\n",
    "    BinaryPoly,\n",
    "    BinaryQuadraticModel,\n",
    "    gen_symbols,\n",
    "    Solver,\n",
    "    decode_solution,\n",
    ")\n",
    "from amplify.constraint import equal_to\n",
    "import numpy as np\n",
    "import math\n",
    "\n",
    "\n",
    "# Display a sudoku grid with numbers\n",
    "def print_sudoku(sudoku):\n",
    "    print(\"\\n\\n\")\n",
    "    N = len(sudoku)\n",
    "    n = int(math.sqrt(N))\n",
    "    width = len(str(N))\n",
    "    for i in range(len(sudoku)):\n",
    "        line = \"\"\n",
    "        if i % n == 0 and i != 0:\n",
    "            print(\"-\" * ((width + 1) * n * n + 2 * (n - 1)))\n",
    "        for j in range(len(sudoku[i])):\n",
    "            if j % n == 0 and j != 0:\n",
    "                line += \"| \"\n",
    "            line += str(sudoku[i][j]).rjust(width) + \" \"\n",
    "        print(line)\n",
    "\n",
    "\n",
    "# Construct variables and constraints from initial configuration and return them\n",
    "def get_model(initial):\n",
    "    N = len(initial)\n",
    "    n = int(math.sqrt(N))\n",
    "    q = gen_symbols(BinaryPoly, N, N, N)\n",
    "\n",
    "    for i, j in zip(*np.where(initial != 0)):\n",
    "        k = initial[i, j] - 1\n",
    "\n",
    "        for m in range(N):\n",
    "            q[i][m][k] = BinaryPoly(0)  # constraint (a)\n",
    "            q[m][j][k] = BinaryPoly(0)  # constraint (b)\n",
    "            q[i][j][m] = BinaryPoly(0)  # constraint (d)\n",
    "            q[n * (i // n) + m // n][n * (j // n) + m % n][k] = BinaryPoly(\n",
    "                0\n",
    "            )  # constraint (c)\n",
    "\n",
    "        q[i][j][k] = BinaryPoly(1)  # Substitute 1\n",
    "\n",
    "    # (a): Constraints that each row cannot contain the same number\n",
    "    row_constraints = [\n",
    "        equal_to(sum(q[i][j][k] for j in range(N)), 1)\n",
    "        for i in range(N)\n",
    "        for k in range(N)\n",
    "    ]\n",
    "\n",
    "    # (b): Constraints that each column cannot contain the same number\n",
    "    col_constraints = [\n",
    "        equal_to(sum(q[i][j][k] for i in range(N)), 1)\n",
    "        for j in range(N)\n",
    "        for k in range(N)\n",
    "    ]\n",
    "\n",
    "    # (d): Constraints that only one number can be in a cell\n",
    "    num_constraints = [\n",
    "        equal_to(sum(q[i][j][k] for k in range(N)), 1)\n",
    "        for i in range(N)\n",
    "        for j in range(N)\n",
    "    ]\n",
    "\n",
    "    # (c): Constraints that a nxn subgrid cannot contain the same number\n",
    "    block_constraints = [\n",
    "        equal_to(sum([q[i + m // n][j + m % n][k] for m in range(N)]), 1)\n",
    "        for i in range(0, N, n)\n",
    "        for j in range(0, N, n)\n",
    "        for k in range(N)\n",
    "    ]\n",
    "\n",
    "    constraints = (\n",
    "        sum(row_constraints)\n",
    "        + sum(col_constraints)\n",
    "        + sum(num_constraints)\n",
    "        + sum(block_constraints)\n",
    "    )\n",
    "\n",
    "    return q, BinaryQuadraticModel(constraints)"
   ]
  },
  {
   "cell_type": "code",
   "execution_count": null,
   "metadata": {},
   "outputs": [],
   "source": [
    "# Initial configuration for n = 4 (N = 16)\n",
    "# Reference: https://www.free-sudoku-puzzle.com/puzzle_fours/solve/3/238\n",
    "initial = np.array(\n",
    "    [\n",
    "        [0, 0, 0, 7, 0, 0, 0, 1, 5, 0, 3, 16, 4, 0, 15, 0],\n",
    "        [0, 11, 0, 0, 0, 0, 5, 0, 0, 2, 12, 6, 0, 0, 7, 14],\n",
    "        [4, 0, 0, 0, 7, 8, 9, 0, 11, 0, 1, 15, 0, 0, 10, 0],\n",
    "        [10, 0, 0, 0, 0, 0, 0, 15, 13, 0, 9, 7, 8, 0, 0, 1],\n",
    "        [13, 0, 0, 16, 15, 0, 4, 9, 0, 0, 14, 0, 11, 0, 1, 0],\n",
    "        [8, 0, 5, 0, 0, 0, 10, 0, 0, 0, 0, 0, 15, 0, 0, 0],\n",
    "        [0, 0, 0, 11, 0, 0, 0, 8, 16, 7, 0, 9, 0, 0, 0, 0],\n",
    "        [0, 0, 0, 14, 0, 0, 3, 0, 4, 0, 0, 5, 13, 0, 0, 0],\n",
    "        [0, 0, 0, 0, 3, 0, 0, 14, 0, 0, 4, 0, 9, 12, 8, 15],\n",
    "        [0, 0, 0, 0, 0, 1, 7, 10, 0, 15, 8, 11, 0, 0, 0, 0],\n",
    "        [0, 0, 0, 0, 11, 12, 0, 0, 0, 0, 16, 0, 3, 5, 0, 0],\n",
    "        [0, 0, 0, 0, 0, 16, 0, 0, 0, 5, 0, 0, 0, 0, 0, 0],\n",
    "        [0, 0, 0, 0, 0, 6, 16, 0, 15, 1, 5, 0, 14, 2, 0, 0],\n",
    "        [0, 0, 0, 3, 0, 0, 0, 0, 9, 0, 0, 14, 0, 1, 0, 4],\n",
    "        [2, 0, 12, 0, 0, 0, 0, 0, 0, 16, 13, 0, 6, 0, 3, 5],\n",
    "        [1, 0, 0, 0, 0, 15, 0, 0, 2, 11, 6, 12, 7, 9, 0, 10],\n",
    "    ]\n",
    ")\n",
    "\n",
    "# Obtain variables and model\n",
    "q, model = get_model(initial)\n",
    "\n",
    "\n",
    "from amplify import Solver, decode_solution\n",
    "from amplify.client import FixstarsClient\n",
    "\n",
    "client = FixstarsClient()\n",
    "# client.token = \"xxxxxxxxxxxxxxxxxxxxxxxxxxxxxxxx\"\n",
    "client.parameters.timeout = 10000  # Timeout is 10 seconds\n",
    "\n",
    "solver = Solver(client)\n",
    "result = solver.solve(model)\n",
    "if len(result) == 0:\n",
    "    raise RuntimeError(\"Some of the constraints are not satisfied.\")\n",
    "\n",
    "values = result[0].values\n",
    "\n",
    "q_values = decode_solution(q, values)\n",
    "N = len(q)\n",
    "answer = np.array([np.where(np.array(q_values[i]) != 0)[1] + 1 for i in range(N)])"
   ]
  },
  {
   "cell_type": "code",
   "execution_count": null,
   "metadata": {},
   "outputs": [],
   "source": [
    "print_sudoku(initial)"
   ]
  },
  {
   "cell_type": "code",
   "execution_count": null,
   "metadata": {},
   "outputs": [],
   "source": [
    "print_sudoku(answer)"
   ]
  }
 ],
 "metadata": {
  "language_info": {
   "name": "python",
   "pygments_lexer": "ipython3"
  }
 },
 "nbformat": 4,
 "nbformat_minor": 2
}
