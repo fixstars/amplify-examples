{
 "cells": [
  {
   "cell_type": "markdown",
   "id": "c162856d",
   "metadata": {},
   "source": [
    "# Example NP problems published in A. Lucas, *Front. Phys.* (2014) - Minimum feedback edge set problem\n",
    "\n",
    "This example code implements the **minimum feedback edge set problem** introduced in the paper [A. Lucas, \"Ising formulations of many NP problems\", *Front. Phys.* (2014)](https://www.frontiersin.org/articles/10.3389/fphy.2014.00005/full) using Fixstars Amplify. Other NP-complete and NP-hard problems introduced in the same paper are also discussed below (the corresponding sections in the paper are shown in the brackets).\n",
    "\n",
    "- [Graph partitioning problem](https://amplify.fixstars.com/en/demo/lucas2014_2_2_graph_partitioning) (Sec. 2.2).\n",
    "- [Maximum clique problem](https://amplify.fixstars.com/en/demo/lucas2014_2_3_cliques) (Sec. 2.3)\n",
    "- [Exact cover problem](https://amplify.fixstars.com/en/demo/lucas2014_4_1_exact_cover) (Sec. 4.1)\n",
    "- [Set packing problem](https://amplify.fixstars.com/en/demo/lucas2014_4_2_set_packing) (Sec. 4.2)\n",
    "- [Minimum vertex cover problem](https://amplify.fixstars.com/en/demo/lucas2014_4_3_vertex_cover) (Sec. 4.3)\n",
    "- [Satisfiability problem (SAT)](https://amplify.fixstars.com/en/demo/lucas2014_4_4_satisfiability) (Sec. 4.4)\n",
    "- [Minimum maximum matching problem](https://amplify.fixstars.com/en/demo/lucas2014_4_5_minimal_maximal_matching) (Sec. 4.5)\n",
    "- [Graph coloring problem](https://amplify.fixstars.com/en/demo/lucas2014_6_1_graph_coloring) (Sec. 6.1)\n",
    "- [Clique cover problem](https://amplify.fixstars.com/en/demo/lucas2014_6_2_clique_cover) (Sec. 6.2)\n",
    "- [Job sequencing problem with integer lengths](https://amplify.fixstars.com/en/demo/lucas2014_6_3_job_sequencing_with_integer_lengths) (Sec. 6.3)\n",
    "- [Hamiltonian cycle problem](https://amplify.fixstars.com/en/demo/lucas2014_7_1_hamiltonian_cycles_and_paths) (Sec. 7.1)\n",
    "- [Directed feedback vertex set problem](https://amplify.fixstars.com/en/demo/lucas2014_8_3_directed_feedback_vertex_set) (Sec. 8.3)\n",
    "- **Minimum feedback edge set problem** (Sec. 8.5)\n",
    "- [Graph isomorphism problem](https://amplify.fixstars.com/en/demo/lucas2014_9_graph_isomorphisms) (Sec. 9)"
   ]
  },
  {
   "cell_type": "markdown",
   "id": "1687cfd8",
   "metadata": {},
   "source": [
    "## Minimum feedback edge set problem\n",
    "\n",
    "Given a directed graph $G$, a subset $F$ of the edges of $G$ such that any closed path in $G$ contains at least $1$ edges in $F$ is called a **feedback edge set**. In other words, $F$ is a feedback edge set of $G$ if there is no closed path through only edges not contained in $F$ of $G$.\n",
    "\n",
    "For example, in the graph below, the edges shown in orange are the feedback edge set.\n",
    "\n",
    "![feedback edge set](../figures/Lucas2014/feedback_edge_set_ex.png)\n",
    "\n",
    "**Minimum feedback edge set problem** is the problem of finding, for a directed graph $G$, the feedback edge set of $G$, which has the minimum number of elements.\n",
    "\n",
    "Here, we use Fixstars Amplify to solve the minimum feedback edge set problem. The formulation of this sample program follows that of Sec. 8.5 of [A. Lucas, Front. Phys. (2014)](https://www.frontiersin.org/articles/10.3389/fphy.2014.00005/full)."
   ]
  },
  {
   "cell_type": "markdown",
   "id": "bebe052f",
   "metadata": {},
   "source": [
    "## Problem definition\n",
    "\n",
    "First, we create a directed graph $G$ using NetworkX as the minimum return edge set problem we solve in this example program."
   ]
  },
  {
   "cell_type": "code",
   "execution_count": null,
   "id": "afe026ea",
   "metadata": {},
   "outputs": [],
   "source": [
    "import networkx as nx\n",
    "import numpy as np\n",
    "\n",
    "N = 8  # Number of vertices\n",
    "G = nx.DiGraph()\n",
    "G.add_nodes_from(range(N))\n",
    "elist = [\n",
    "    (0, 1),\n",
    "    (0, 6),\n",
    "    (1, 2),\n",
    "    (2, 3),\n",
    "    (3, 1),\n",
    "    (3, 4),\n",
    "    (3, 5),\n",
    "    (4, 5),\n",
    "    (5, 6),\n",
    "    (6, 7),\n",
    "    (7, 0),\n",
    "]\n",
    "\n",
    "G.add_edges_from(elist)\n",
    "\n",
    "node_labels = {\n",
    "    0: \"a\",\n",
    "    1: \"b\",\n",
    "    2: \"c\",\n",
    "    3: \"d\",\n",
    "    4: \"e\",\n",
    "    5: \"f\",\n",
    "    6: \"g\",\n",
    "    7: \"h\",\n",
    "}\n",
    "pos = nx.circular_layout(G)  # Save the layout of the graph\n",
    "\n",
    "nx.draw_networkx(G, node_size=600, font_color=\"w\", labels=node_labels, pos=pos)"
   ]
  },
  {
   "cell_type": "markdown",
   "id": "7c6d2a5e",
   "metadata": {},
   "source": [
    "It is easy to see that the graph $G$, with edges $b\\rightarrow c$ and $a\\rightarrow g$ removed from the created graph $G$, has no closed path. That is, $\\{b\\rightarrow c$, $a\\rightarrow g\\}$ is a feedback edge set of $G$.\n",
    "\n",
    "Also, since the closed paths $b\\rightarrow c\\rightarrow d\\rightarrow b$ and $a\\rightarrow g\\rightarrow h\\rightarrow a$ have no common part, the number of elements in the feedback edge set of $G$ is always at least $2$.\n",
    "\n",
    "Therefore, for this problem, the minimum number of elements in the feedback edge set of $G$ is $2$."
   ]
  },
  {
   "cell_type": "markdown",
   "id": "ddd753ba",
   "metadata": {},
   "source": [
    "## Formulation\n",
    "\n",
    "Let $N$ be the number of vertices and $M$ the number of edges of $G$ hereafter.\n",
    "\n",
    "### Formulation guidelines\n",
    "\n",
    "First, we will associate $M$ binary variables $y$ with each edge to indicate whether the feedback edge set $F$ includes each edge. If $F$ includes the edge, the variable is $0$, and if not, the variable is $1$.\n",
    "\n",
    "Next, the condition \"there is no closed path through only those edges of $G$ that are not included in $F$\", can be rephrased as the condition that \"if we number the vertices of $G$ appropriately, we can make it so that all edges not contained in $F$ of $G$ go from a vertex with a small number to the one with a larger number (proof: $\\Rightarrow$ is straightforward, $\\Leftarrow$ is via topological sorting).\n",
    "\n",
    "This numbering can be expressed by using a binary variable table $x$ of $N\\times N$, where the binary variable in row $v$ and column $i$ is $1$ when the number of vertex $v$ is $i$.\n",
    "\n",
    "The graph created above is used to illustrate an example of variable mapping. The graph created above is shown below.\n",
    "\n",
    "![Graph](../figures/Lucas2014/feedback_edge_set0.png)\n",
    "\n",
    "For this graph, if we number the vertices as follows, the two orange edges are the feedback edge set (because the edges are in the direction of decreasing numbers), and all black edges are from a smaller-numbered vertex to a larger-numbered one.\n",
    "\n",
    "![Figure](../figures/Lucas2014/feedback_edge_set1.png)\n",
    "\n",
    "The binary variables $y$ and $x$ corresponding to this way of choosing the feedback edge set and numbering the vertices are shown in the following table.\n",
    "\n",
    "| Edge | $$a\\rightarrow b$$ | $$a\\rightarrow g$$ | $$b\\rightarrow c$$ | $$c\\rightarrow d$$ | $$d\\rightarrow b$$ | $$d\\rightarrow e$$ | $$d\\rightarrow f$$ | $$e\\rightarrow f$$ | $$f\\rightarrow g$$ | $$g\\rightarrow h$$ | $$h\\rightarrow a$$ |\n",
    "| ---- | :----------------: | :----------------: | :----------------: | :----------------: | :----------------: | :----------------: | :----------------: | :----------------: | :----------------: | :----------------: | :----------------: |\n",
    "| $y$  |         1          |         0          |         0          |         1          |         1          |         1          |         1          |         1          |         1          |         1          |         1          |\n",
    "\n",
    "<br/>\n",
    "\n",
    "| $x$ | 0   | 1   | 2   | 3   | 4   | 5   | 6   | 7   |\n",
    "| --- | --- | --- | --- | --- | --- | --- | --- | --- |\n",
    "| $a$ | 0   | 0   | 0   | 0   | 0   | 0   | 1   | 0   |\n",
    "| $b$ | 0   | 0   | 0   | 0   | 0   | 0   | 0   | 1   |\n",
    "| $c$ | 1   | 0   | 0   | 0   | 0   | 0   | 0   | 0   |\n",
    "| $d$ | 0   | 1   | 0   | 0   | 0   | 0   | 0   | 0   |\n",
    "| $e$ | 0   | 0   | 1   | 0   | 0   | 0   | 0   | 0   |\n",
    "| $f$ | 0   | 0   | 0   | 1   | 0   | 0   | 0   | 0   |\n",
    "| $g$ | 0   | 0   | 0   | 0   | 1   | 0   | 0   | 0   |\n",
    "| $h$ | 0   | 0   | 0   | 0   | 0   | 1   | 0   | 0   |\n",
    "\n",
    "### Objective function\n",
    "\n",
    "Since the number of elements in the feedback edge set should be as small as possible, the objective function is $\\displaystyle -\\sum_{e=0}^{M-1} y_e$ where $y_e$ is the number of elements in the feedback edge set. Note that $y_e$ is $0$ if the edge $e$ is included in the feedback edge set $F$ and $1$ otherwise.\n",
    "\n",
    "### Constraints\n",
    "\n",
    "For $y$ and $x$ to represent the feedback edge set, we need the following.\n",
    "\n",
    "* Condition 1: Each vertex of $G$ has a single number which is between $0$ and $N$. That is, each row of $x$ has exactly one single $1$.\n",
    "* Condition 2: For an edge $u\\rightarrow v$ of $G$, the number of $u$ is less than the number of $v$ if $u\\rightarrow v$ is not in the returned edge set $F$.\n",
    "\n",
    "Condition 1 is written as\n",
    "\n",
    "$$\n",
    "\\sum_{i=0}^{N-1} x_{v, i} = 1 \\quad \\text{for} \\quad v \\in \\{0, 1, \\ldots, N-1\\}.\n",
    "$$\n",
    "\n",
    "Also, since condition 2 can be rephrased as \"if the edge $u\\rightarrow v$ is not contained in $F$, then for natural numbers $i \\leq j$, $x_{u, \\underline{j}}$ and $x_{v, \\underline{i}}$ must not both be $1$.\" Therefore, condition 2 is written as\n",
    "\n",
    "$$\n",
    "y_{u\\rightarrow v} x_{u, j} x_{v, i} = 0 \\quad \\text{for} \\quad (u, v) \\in E, \\ 0 \\leq i \\leq j < N.\n",
    "$$\n",
    "\n",
    "Here, $E$ represents the edge set of $G$ and $y_{u\\rightarrow v}$ is the element of $y$ corresponding to the edge $u\\rightarrow v$.\n",
    "\n",
    "The expression for condition 2 is cubic and must be converted to quadratic using auxiliary variables to be solved by the Ising machine. The Fixstars Amplify SDK provides a [function](https://amplify.fixstars.com/en/docs/model.html#model-reduction) to perform this conversion automatically. Therefore, we will describe the following two methods. [Method 1](#method_1): using Fixstars Amplify SDK's polynomial-degree reduction function; and [Method 2](#method_2): manually reducing the condition 2 to a quadratic expression."
   ]
  },
  {
   "cell_type": "markdown",
   "id": "de02797d",
   "metadata": {},
   "source": [
    "<a id=\"method_1\"></a>\n",
    "## Implementation (Method 1: Using Amplify SDK's polynomial-degree reduction function)\n",
    "\n",
    "Using the problem and formulation described above, let us implement and solve the problem. First, use Amplify SDK's function to reduce the polynomial order.\n",
    "\n",
    "We create binary variables $y$ and $x$ using `BinarySymbolGenerator`."
   ]
  },
  {
   "cell_type": "code",
   "execution_count": null,
   "id": "90c01f29",
   "metadata": {},
   "outputs": [],
   "source": [
    "from amplify import BinarySymbolGenerator\n",
    "\n",
    "gen = BinarySymbolGenerator()\n",
    "\n",
    "M = len(G.edges)  # Number of edges\n",
    "y = gen.array(M)\n",
    "x = gen.array(N, N)  # N is the number of vertices"
   ]
  },
  {
   "cell_type": "markdown",
   "id": "0cf0b0c8",
   "metadata": {},
   "source": [
    "Next, we construct the objective function $\\displaystyle -\\sum_e y_e$."
   ]
  },
  {
   "cell_type": "code",
   "execution_count": null,
   "id": "a2f9dbbd",
   "metadata": {},
   "outputs": [],
   "source": [
    "cost = -y.sum()"
   ]
  },
  {
   "cell_type": "markdown",
   "id": "7972afa8",
   "metadata": {},
   "source": [
    "Let us now create a constraint condition corresponding to condition 1. Condition 1 is a one-hot constraint on each row of $x$."
   ]
  },
  {
   "cell_type": "code",
   "execution_count": null,
   "id": "3a29b4f2",
   "metadata": {},
   "outputs": [],
   "source": [
    "from amplify.constraint import one_hot\n",
    "\n",
    "constraint1 = [one_hot(x[v, :]) for v in range(N)]"
   ]
  },
  {
   "cell_type": "markdown",
   "id": "dc50d2e3",
   "metadata": {},
   "source": [
    "Then, we construct the constraint corresponding to condition 2. Condition 2 is the constraint $y_{u\\rightarrow v} x_{u, j} x_{v, i} = 0 \\bigl((u, v) \\in E, \\ 0 \\leq i \\leq j < N\\bigr)$."
   ]
  },
  {
   "cell_type": "code",
   "execution_count": null,
   "id": "900be980",
   "metadata": {},
   "outputs": [],
   "source": [
    "from amplify.constraint import equal_to\n",
    "\n",
    "constraint2 = [\n",
    "    equal_to(y[e] * x[u, j] * x[v, i], 0)\n",
    "    for e, (u, v) in enumerate(G.edges)\n",
    "    for i in range(N)\n",
    "    for j in range(N)\n",
    "    if i <= j\n",
    "]"
   ]
  },
  {
   "cell_type": "markdown",
   "id": "2a2a3afd",
   "metadata": {},
   "source": [
    "Finally, the objective function and constraints are combined and converted into a logical model.\n",
    "\n",
    "Since the constraints are given to the Ising machine as a penalty function for the objective function, we can determine the weights for the constraints by estimating values that are approximately equal to or slightly larger than the possible values of the objective function. In this case, the constraint weights are set to $2$.\n",
    "\n",
    "To reduce the number of auxiliary variables to be issued when performing the polynomial-degree reduction, we specify [`SUBSTITUTION`](https://amplify.fixstars.com/en/docs/model.html#substitution) as the algorithm. This algorithm is useful when many third-order or higher-order terms factor a common quadratic term $q_iq_j$.\n",
    "\n",
    "It is possible to check the number of variables after the introduction of auxiliary variables for the order reduction by using [`model.num_logical_vars`](https://amplify.fixstars.com/en/docs/model.html#quadratization-method). You may want to experiment with different degree reduction algorithms."
   ]
  },
  {
   "cell_type": "code",
   "execution_count": null,
   "id": "04588817",
   "metadata": {},
   "outputs": [],
   "source": [
    "from amplify import BinaryQuadraticModel, QuadratizationMethod\n",
    "\n",
    "penalty_multiplier = 2\n",
    "model = BinaryQuadraticModel(\n",
    "    cost,\n",
    "    penalty_multiplier * (sum(constraint1) + sum(constraint2)),\n",
    "    method=QuadratizationMethod.SUBSTITUTION,\n",
    ")"
   ]
  },
  {
   "cell_type": "markdown",
   "id": "fa8344a2",
   "metadata": {},
   "source": [
    "Let us set the client and execute the solver with Fixstars Amplify Annealing Engine (AE). Since `Solver` automatically filters the solutions that satisfy the constraints, if the `result` is not empty, you know that a solution has been found that satisfies the constraints."
   ]
  },
  {
   "cell_type": "code",
   "execution_count": null,
   "id": "575094a8",
   "metadata": {},
   "outputs": [],
   "source": [
    "from amplify.client import FixstarsClient\n",
    "from amplify import Solver\n",
    "\n",
    "client = FixstarsClient()\n",
    "# client.token = \"xxxxxxxxxxxxxxxxxxxxxxxxxxxxxxxx\"  # If you use Amplify in a local environment or Google Colaboratory, enter your Amplify API token.\n",
    "client.parameters.timeout = 1000\n",
    "\n",
    "# Define and execute the solver\n",
    "solver = Solver(client)\n",
    "result = solver.solve(model)\n",
    "\n",
    "if len(result) == 0:\n",
    "    print(\"No solution has been found.\")\n",
    "else:\n",
    "    print(\"A solution has been found.\")"
   ]
  },
  {
   "cell_type": "markdown",
   "id": "d2f69a00",
   "metadata": {},
   "source": [
    "Finally, we visualize the solution. As we discussed earlier, the minimum number of elements in the feedback edge set of $G$ is $2$, so if there are 2 orange edges, we have found the optimal solution."
   ]
  },
  {
   "cell_type": "code",
   "execution_count": null,
   "id": "5180847a",
   "metadata": {},
   "outputs": [],
   "source": [
    "# decode the binary variables\n",
    "values = result[0].values\n",
    "y_values = y.decode(values)\n",
    "x_values = x.decode(values)\n",
    "\n",
    "# Denote the indices of the edges\n",
    "numbering = dict(np.argwhere(x_values == 1))\n",
    "\n",
    "# Identify whether each edge is contained in F\n",
    "edge_colors = [\"C1\" if e == 0 else \"k\" for e in y_values]\n",
    "edge_width = [2.0 if e == 0 else 1.0 for e in y_values]\n",
    "\n",
    "# Visualize\n",
    "nx.draw_networkx(\n",
    "    G,\n",
    "    node_size=600,\n",
    "    font_color=\"w\",\n",
    "    labels=numbering,\n",
    "    edge_color=edge_colors,\n",
    "    width=edge_width,\n",
    "    pos=pos,\n",
    ")"
   ]
  },
  {
   "cell_type": "markdown",
   "id": "9b299122",
   "metadata": {},
   "source": [
    "We have now implemented a program to find the minimum feedback edge set. Next, we will describe how to formulate and solve the same problem without using the order reduction feature of Amplify SDK."
   ]
  },
  {
   "cell_type": "markdown",
   "id": "ca54b672",
   "metadata": {},
   "source": [
    "<a id=\"method_2\"></a>\n",
    "## Formulation (Method 2: Making the formulation quadratic)\n",
    "\n",
    "In the above formulation, condition 2 became a cubic expression. Here, we consider expressing condition 2 in a quadratic form by adding a new binary variable.\n",
    "\n",
    "As mentioned earlier, the condition 2 is the following condition.\n",
    "\n",
    "> For an edge $u\\rightarrow v$ of $G$, if $u\\rightarrow v$ is not contained in the feedback edge set $F$, then the number of $u$ is less than the number of $v$.\n",
    "\n",
    "### Formulation guidelines\n",
    "\n",
    "For the binary variables $y$ and $x$, assume as defined above.\n",
    "\n",
    "If we know that the number of vertex $u$ is $i$, then the constraint \"the number of $u$ is less than the number of $v$\" is expressed by\n",
    "a first-order expression as:\n",
    "\n",
    "$$\n",
    "\\sum_{j>i} x_{v, j} = 1.\n",
    "$$\n",
    "\n",
    "Therefore, if we can obtain the first-order formula for each edge for whether the feedback edge set $F$ includes the edge. For the number of the starting point, we can express condition 2 by taking these formulae and OR.\n",
    "\n",
    "We introduce a binary variable table $z$ of $M \\times N$ to express whether $F$ contains $M$ and the number of the starting point. Here $M$ is the number of edges in $G$, and $N$ is the number of vertices in $G$. The rows corresponding to $u\\rightarrow v$ in $z$ are all $0$ if the edge $u\\rightarrow v$ is contained in $F$; otherwise, only the $i$ column is $1$, with $i$ as the number of $u$ (starting point).\n",
    "\n",
    "For example, for the following feedback edge selection/numbering scheme, $z$ will be as in the table below.\n",
    "\n",
    "![Graph](../figures/Lucas2014/feedback_edge_set0.png)\n",
    "\n",
    "![Edge set](../figures/Lucas2014/feedback_edge_set1.png)\n",
    "\n",
    "| $z$              | 0   | 1   | 2   | 3   | 4   | 5   | 6   | 7   |\n",
    "| ---------------- | --- | --- | --- | --- | --- | --- | --- | --- |\n",
    "| $a\\rightarrow b$ | 0   | 0   | 0   | 0   | 0   | 0   | 1   | 0   |\n",
    "| $a\\rightarrow g$ | 0   | 0   | 0   | 0   | 0   | 0   | 0   | 0   |\n",
    "| $b\\rightarrow c$ | 0   | 0   | 0   | 0   | 0   | 0   | 0   | 0   |\n",
    "| $c\\rightarrow d$ | 1   | 0   | 0   | 0   | 0   | 0   | 0   | 0   |\n",
    "| $d\\rightarrow b$ | 0   | 1   | 0   | 0   | 0   | 0   | 0   | 0   |\n",
    "| $d\\rightarrow e$ | 0   | 1   | 0   | 0   | 0   | 0   | 0   | 0   |\n",
    "| $d\\rightarrow f$ | 0   | 1   | 0   | 0   | 0   | 0   | 0   | 0   |\n",
    "| $e\\rightarrow f$ | 0   | 0   | 1   | 0   | 0   | 0   | 0   | 0   |\n",
    "| $f\\rightarrow g$ | 0   | 0   | 0   | 1   | 0   | 0   | 0   | 0   |\n",
    "| $g\\rightarrow h$ | 0   | 0   | 0   | 0   | 1   | 0   | 0   | 0   |\n",
    "| $h\\rightarrow a$ | 0   | 0   | 0   | 0   | 0   | 1   | 0   | 0   |\n",
    "\n",
    "### Second-order formulation of the condition 2\n",
    "\n",
    "For condition 2, $z$ must satisfy the following. We write $z_{u\\rightarrow v}$ for the $z$ row corresponding to edge $u\\rightarrow v$\n",
    "\n",
    "* Condition 2-1: Each row of $z$ represents whether the corresponding edge is included in the feedback edge set $F$. That is, each row of $z$ is all $0$ if the corresponding edge is part of in $F$, and one colum of the row has $1$ otherwise.\n",
    "\n",
    "* Condition 2-2: Each row of $z$ represents the starting number of the edge if the feedback edge set $F$ does not include the corresponding edge. That is, $z_{u\\rightarrow v, i} = 1$ means that $u\\rightarrow v$ is not contained in $F$ and the number of $u$ is $i$.\n",
    "\n",
    "* Condition 2-3: If edge $u\\rightarrow v$ is not contained in $F$ and the number of vertex $u$ is $i$, then the number of vertex $v$ is greater than $i$.\n",
    "\n",
    "Condition 2-1 is written as\n",
    "\n",
    "$$\n",
    "\\sum_{i = 0}^{N - 1} z_{e, i} = y_e \\quad \\text{for} \\quad e \\in E.\n",
    "$$\n",
    "\n",
    "Please recall that $y_e$ is a binary variable $0$ if the edge $e$ is contained in $F$.\n",
    "\n",
    "For conditions 2-2, it is sufficient to impose the condition that \"if $z_{u\\rightarrow v, i} = 1$, then the number of $u$ is $i$\". This is because it is clear from Condition 2-1 that \"if $z_{u\\rightarrow v, i} = 1$, then $u\\rightarrow v$ is not contained in $F$\". Therefore, condition 2-2 is satisfied by the following equation.\n",
    "\n",
    "$$\n",
    "z_{u\\rightarrow v, i}(1 - x_{u, i}) = 0 \\quad \\text{for} \\quad (u\\rightarrow v) \\in E, \\ i \\in \\{0, 1, \\ldots, N-1\\}.\n",
    "$$\n",
    "\n",
    "\n",
    "From the condition 2-2, the presumption of condition 2-3 is equivalent to $z_{u\\rightarrow v, i} = 1$. Also, as mentioned earlier, the condition \"the number of vertices $v$ is greater than $i$\" is expressed by $\\sum_{j>i} x_{v, j} = 1$, so condition 2-3 is:\n",
    "\n",
    "$$\n",
    "z_{u\\rightarrow v, i} (1 - \\sum_{j>i} x_{v, j}) = 0 \\quad \\text{for} \\quad (u\\rightarrow v) \\in E, \\ i \\in \\{0, 1, \\ldots, N-1\\}\n",
    "$$ \n",
    "\n",
    "Condition 2-1, 2-2, and 2-3 can now be formulated in the first- and second-order manners. It is easy to see that constraint 2 is satisfied if all these conditions are satisfied."
   ]
  },
  {
   "cell_type": "markdown",
   "id": "80af6f1e",
   "metadata": {},
   "source": [
    "## Implementation (Method 2: Making the formulation quadratic)\n",
    "\n",
    "Let us solve the minimum feedback edge set problem in the above formulation as well.\n",
    "\n",
    "Since the definition of the objective function and constraint 1 are the same as in the first formulation, we omit the explanation."
   ]
  },
  {
   "cell_type": "code",
   "execution_count": null,
   "id": "8b822d7f",
   "metadata": {},
   "outputs": [],
   "source": [
    "from amplify import BinarySymbolGenerator\n",
    "from amplify.constraint import one_hot\n",
    "\n",
    "gen = BinarySymbolGenerator()\n",
    "\n",
    "M = len(G.edges)  # number of edges\n",
    "y = gen.array(M)\n",
    "x = gen.array(N, N)  # N is number of nodes\n",
    "\n",
    "cost = -y.sum()\n",
    "constraint1 = [one_hot(x[v, :]) for v in range(N)]"
   ]
  },
  {
   "cell_type": "markdown",
   "id": "320c2277",
   "metadata": {},
   "source": [
    "To implement condition 2, we  will define a binary variable table $Z$."
   ]
  },
  {
   "cell_type": "code",
   "execution_count": null,
   "id": "dd8a6871",
   "metadata": {},
   "outputs": [],
   "source": [
    "z = gen.array(M, N)"
   ]
  },
  {
   "cell_type": "markdown",
   "id": "0eeb9986",
   "metadata": {},
   "source": [
    "We will construct condition 2-1: $\\sum_{i = 0}^{N - 1} z_{e, i} = y_e \\ (e \\in E)$."
   ]
  },
  {
   "cell_type": "code",
   "execution_count": null,
   "id": "bf24e4ea",
   "metadata": {},
   "outputs": [],
   "source": [
    "from amplify.constraint import equal_to\n",
    "\n",
    "constraint2_1 = [equal_to(z[e, :].sum() - y[e], 0) for e in range(M)]"
   ]
  },
  {
   "cell_type": "markdown",
   "id": "2cafd506",
   "metadata": {},
   "source": [
    "Then we will construct condition 2-2: $z_{u\\rightarrow v, i} (1 - x_{u, i}) = 0 \\bigl((u\\rightarrow v) \\in E, \\ i \\in \\{0, 1, \\ldots, N-1\\}\\bigr)$."
   ]
  },
  {
   "cell_type": "code",
   "execution_count": null,
   "id": "7f2f5d42",
   "metadata": {},
   "outputs": [],
   "source": [
    "constraint2_2 = [\n",
    "    equal_to(z[e, i] * (1 - x[u, i]), 0)\n",
    "    for e, (u, v) in enumerate(G.edges)\n",
    "    for i in range(N)\n",
    "]"
   ]
  },
  {
   "cell_type": "markdown",
   "id": "89172ae3",
   "metadata": {},
   "source": [
    "Finally, condition 2-3 is implemented: $z_{u\\rightarrow v, i} (1 - \\sum_{j>i} x_{v, j}) = 0 \\ \\bigl((u\\rightarrow v) \\in E, \\ i \\in \\{0, 1, \\ldots, N-1\\}\\bigr)$.\n",
    "\n",
    "Under the condition that condition 1 holds, the left-hand side of conditions 2-3 takes the minimum value 0, so we can implement them by using the `penalty` function.\n",
    "\n",
    "On the other hand, if you use the `equal_to` function, [the left side is squared](https://amplify.fixstars.com/en/docs/constraint.html#id2) and becomes a fourth-order expression since the penalty function is generated internally. Therefore, in this constraint, we will avoid using the `equal_to` function is avoided."
   ]
  },
  {
   "cell_type": "code",
   "execution_count": null,
   "id": "d8979808",
   "metadata": {},
   "outputs": [],
   "source": [
    "from amplify.constraint import penalty\n",
    "\n",
    "constraint2_3 = [\n",
    "    penalty(z[e, i] * (1 - x[v, i + 1 :].sum()))\n",
    "    for e, (u, v) in enumerate(G.edges)\n",
    "    for i in range(N)\n",
    "]"
   ]
  },
  {
   "cell_type": "markdown",
   "id": "fc7463bf",
   "metadata": {},
   "source": [
    "The objective function and constraints are combined to form a logical model. Since the potential to satisfy `constraint2_3` may not work if condition 1 is not satisfied, we should increase the weight of condition 1."
   ]
  },
  {
   "cell_type": "code",
   "execution_count": null,
   "id": "1fdd2d8c",
   "metadata": {},
   "outputs": [],
   "source": [
    "model = (\n",
    "    cost\n",
    "    + 2 * sum(constraint1)\n",
    "    + sum(constraint2_1)\n",
    "    + sum(constraint2_2)\n",
    "    + sum(constraint2_3)\n",
    ")"
   ]
  },
  {
   "cell_type": "markdown",
   "id": "9e006c36",
   "metadata": {},
   "source": [
    "Let us execute the solver on the Fixstars Amplify Annealing Engine (AE) and visualize the results."
   ]
  },
  {
   "cell_type": "code",
   "execution_count": null,
   "id": "5f373adc",
   "metadata": {},
   "outputs": [],
   "source": [
    "from amplify.client import FixstarsClient\n",
    "from amplify import Solver\n",
    "\n",
    "client = FixstarsClient()\n",
    "# client.token = \"xxxxxxxxxxxxxxxxxxxxxxxxxxxxxxxx\"  # If you use Amplify in a local environment or Google Colaboratory, enter your Amplify API token.\n",
    "client.parameters.timeout = 1000\n",
    "\n",
    "# Define and execute the solver\n",
    "solver = Solver(client)\n",
    "result = solver.solve(model)\n",
    "\n",
    "if len(result) == 0:\n",
    "    print(\"No solution has been found.\")\n",
    "else:\n",
    "    print(\"A solution has been found.\")"
   ]
  },
  {
   "cell_type": "code",
   "execution_count": null,
   "id": "2b277a20",
   "metadata": {},
   "outputs": [],
   "source": [
    "y_values = y.decode(values)\n",
    "x_values = x.decode(values)\n",
    "\n",
    "numbering = dict(np.argwhere(x_values == 1))\n",
    "\n",
    "edge_colors = [\"C1\" if e == 0 else \"k\" for e in y_values]\n",
    "edge_width = [2.0 if e == 0 else 1.0 for e in y_values]\n",
    "\n",
    "nx.draw_networkx(\n",
    "    G,\n",
    "    node_size=600,\n",
    "    font_color=\"w\",\n",
    "    labels=numbering,\n",
    "    edge_color=edge_colors,\n",
    "    width=edge_width,\n",
    "    pos=pos,\n",
    ")"
   ]
  }
 ],
 "metadata": {
  "language_info": {
   "name": "python",
   "pygments_lexer": "ipython3"
  }
 },
 "nbformat": 4,
 "nbformat_minor": 5
}
