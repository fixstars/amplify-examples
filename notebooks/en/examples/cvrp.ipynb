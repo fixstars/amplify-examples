{
 "cells": [
  {
   "attachments": {},
   "cell_type": "markdown",
   "id": "linear-stanley",
   "metadata": {},
   "source": [
    "# Capacitated Vehicle Routing Problem (CVRP)\n",
    "\n",
    "In this tutorial, we consider the capacitated vehicle routing problem (CVRP), a type of vehicle routing problem (VRP).  \n",
    "\n",
    "Specific applications include\n",
    "- Delivery scheduling in the postal and other transportation industries\n",
    "- Scheduling in garbage collection and street cleaning\n",
    "\n",
    "A vehicle routing problem is a problem of determining efficient delivery routes from a depot to multiple cities. More specifically, the problem determines the allocation of delivery vehicles and cities, and the order in which the cities are visited, to minimize the total distance traveled by the delivery vehicles, the total cost, and so on. The routing problem can be interpreted as a generalization of the [traveling salesperson problem](https://amplify.fixstars.com/en/demo/tsp).\n",
    "\n",
    "The capacitated vehicle routing problem addressed in this tutorial is the above routing problem with an additional load constraint on each vehicle. In other words, each delivery vehicle must satisfy the load constraints while making deliveries --- they cannot carry loads heavier than their payload. This problem can be interpreted as a \"traveling salesperson problem + knapsack problem\".\n",
    "\n",
    "Here, we consider the case where there is only one delivery location (depot), and the demand in each city and the vehicle capacity take only integer values."
   ]
  },
  {
   "attachments": {},
   "cell_type": "markdown",
   "id": "dimensional-pottery",
   "metadata": {},
   "source": [
    "## Formulation"
   ]
  },
  {
   "attachments": {},
   "cell_type": "markdown",
   "id": "individual-promotion",
   "metadata": {},
   "source": [
    "First, define the constants and variables needed for the formulation.\n",
    "\n",
    "### Constants\n",
    "\n",
    "- $N$: Number of cities\n",
    "- $L$: Maximum number of cities that can be visited without exceeding the carrying capacity + 2 (origin + destination)\n",
    "- $K$: Number of vehicles\n",
    "- $Q$: Maximum payload of each vehicle, integer\n",
    "- $W_i$: Integer representing the weight of the load to be delivered to city $i$.\n",
    "- $D_{i\\to j}$: Real number representing the distance from city $i$ to city $j$ (city $0$ = depot) ($i, j \\in \\{0,1,\\dots,N \\}$)\n",
    "\n",
    "### Variables\n",
    "\n",
    "- $x_{i,j,k} \\in \\{0, 1\\} \\quad (i \\in \\{1, \\dots , L\\}, j \\in \\{0, \\dots, N\\}, k \\in \\{1, \\dots, K\\})$  \n",
    "  Binary variable indicating whether vehicle $k$ chooses city $j$ as $i$th city to visit ($x_{i,j,k}=1\\Leftrightarrow$ vehicle $k$ chooses city $j$ as $i$-th city to visit)\n",
    "\n",
    "  We then consider the constraints that the variables must satisfy.\n",
    "\n",
    "### Constraints\n",
    "\n",
    "We need the following four constraints.\n",
    "\n",
    "1. All vehicles start from and end at the depot (city $0$)  \n",
    "2. Vehicle $k$ visits only one $i$-th location  \n",
    "3. City $j$ (excluding the depot) is visited exactly once by any vehicle  \n",
    "4. The total weight of the loads carried by vehicle $k$ is less than or equal to $Q$  \n",
    "\n",
    "These conditions can be expressed as follows:\n",
    "\n",
    "1. All vehicles start from and end at the depot (city $0$)  \n",
    "   $$\n",
    "      x_{1,j,k} = \n",
    "      \\begin{cases}\n",
    "         1 \\quad (j = 0) \\\\\n",
    "         0 \\quad (j \\neq 0)\n",
    "      \\end{cases} \\\\\n",
    "   $$\n",
    "   $$\n",
    "      x_{L,j,k} = \n",
    "      \\begin{cases}\n",
    "         1 \\quad (j = 0) \\\\\n",
    "         0 \\quad (j \\neq 0)\n",
    "      \\end{cases}\n",
    "   $$\n",
    "\n",
    "\n",
    "\n",
    "2. Vehicle $k$ visits only one $i$-th location  \n",
    "   $$\n",
    "   \\sum_{j=0}^N x_{i,j,k} = 1 \\quad (i \\in \\{1, \\dots, L\\}, k \\in \\{1, \\dots, K\\})\n",
    "   $$\n",
    "\n",
    "3. City $j$ (excluding the depot) is visited exactly once by any vehicle  \n",
    "   $$\n",
    "   \\sum_{i=1}^L \\sum_{k=1}^K x_{i,j,k}=1 \\quad (j \\in \\{1, \\dots, N\\})\n",
    "   $$\n",
    "\n",
    "4. The total weight of the loads carried by the vehicle $k$ is less than or equal to $Q$  \n",
    "   $$\n",
    "   \\sum_{i=1}^L \\sum_{j=1}^N w_j x_{i,j,k} \\leq Q \\quad (k \\in \\{1, \\dots, K\\})\n",
    "   $$\n",
    "\n",
    "### Objective Function\n",
    "\n",
    "In this CVRP, we minimize the total distance traveled by the vehicle. The total distance traveled by a vehicle can be expressed in the following equation.\n",
    "\n",
    "$$\n",
    "\\sum_{k=1}^K\\sum_{i=1}^L\\sum_{j_1=0}^N\\sum_{j_2=0}^N D_{j_1\\to j_2}x_{i,j_1,k}x_{i+1,j_2,k}\n",
    "$$"
   ]
  },
  {
   "attachments": {},
   "cell_type": "markdown",
   "id": "manufactured-commander",
   "metadata": {},
   "source": [
    "### Explanation of Constraint Expressions\n",
    "\n",
    "This section provides a more intuitive explanation using concrete examples.\n",
    "\n",
    "The following is an example of a variable assignment that satisfies the constraint conditions, summarized in a table for each vehicle. The horizontal axis represents the alphabetical name of the city (the depot is the starting point), and the vertical axis represents the order of the cities to be visited (0 means departing from the depot, 9 means arriving at the depot at the end). If a square in the table is $1$, it means that the vehicle will visit the city.\n",
    "\n",
    "- **Vehicle 1** ($k=1$)\n",
    "\n",
    "<div align=\"center\">\n",
    "\n",
    "| $x_{i,j,1}$ | depot | A | B | C | D | E | F | G | H | I |\n",
    "|---|---|---|---|---|---|---|---|---|---|---|\n",
    "| **0 (start)** | 1 | 0 | 0 | 0 | 0 | 0 | 0 | 0 | 0 | 0 |\n",
    "| **1** | 0 | <font color=\"orange\">1</font> | 0 | 0 | 0 | 0 | 0 | 0 | 0 | 0 |\n",
    "| **2** | 0 | 0 | 0 | <font color=\"orange\">1</font> | 0 | 0 | 0 | 0 | 0 | 0 |\n",
    "| **3** | 0 | 0 | 0 | 0 | 0 | <font color=\"orange\">1</font> | 0 | 0 | 0 | 0 |\n",
    "| **4** | 0 | 0 | 0 | 0 | 0 | 0 | <font color=\"orange\">1</font> | 0 | 0 | 0 |\n",
    "| **5** | 1 | 0 | 0 | 0 | 0 | 0 | 0 | 0 | 0 | 0 |\n",
    "| **6** | 1 | 0 | 0 | 0 | 0 | 0 | 0 | 0 | 0 | 0 |\n",
    "| **7** | 1 | 0 | 0 | 0 | 0 | 0 | 0 | 0 | 0 | 0 |\n",
    "| **8** | 1 | 0 | 0 | 0 | 0 | 0 | 0 | 0 | 0 | 0 |\n",
    "| **9 (end)** | 1 | 0 | 0 | 0 | 0 | 0 | 0 | 0 | 0 | 0 |\n",
    "\n",
    "</div>\n",
    "\n",
    "- **Vehicle 2** ($k=2$)\n",
    "\n",
    "<div align=\"center\">\n",
    "\n",
    "| $x_{i,j,2}$ | depot | A | B | C | D | E | F | G | H | I |\n",
    "|---|---|---|---|---|---|---|---|---|---|---|\n",
    "| **0 (start)** | 1 | 0 | 0 | 0 | 0 | 0 | 0 | 0 | 0 | 0 |\n",
    "| **1** | 1 | 0 | 0 | 0 | 0 | 0 | 0 | 0 | 0 | 0 |\n",
    "| **2** | 1 | 0 | 0 | 0 | 0 | 0 | 0 | 0 | 0 | 0 |\n",
    "| **3** | 1 | 0 | 0 | 0 | 0 | 0 | 0 | 0 | 0 | 0 |\n",
    "| **4** | 0 | 0 | <font color=\"blue\">1</font> | 0 | 0 | 0 | 0 | 0 | 0 | 0 |\n",
    "| **5** | 0 | 0 | 0 | 0 | 0 | 0 | 0 | <font color=\"blue\">1</font> | 0 | 0 |\n",
    "| **6** | 0 | 0 | 0 | 0 | 0 | 0 | 0 | 0 | 0 | <font color=\"blue\">1</font> |\n",
    "| **7** | 1 | 0 | 0 | 0 | 0 | 0 | 0 | 0 | 0 | 0 |\n",
    "| **8** | 1 | 0 | 0 | 0 | 0 | 0 | 0 | 0 | 0 | 0 |\n",
    "| **9 (end)** | 1 | 0 | 0 | 0 | 0 | 0 | 0 | 0 | 0 | 0 |\n",
    "\n",
    "</div>\n",
    "\n",
    "- **Vehicle 3** ($k=3$)\n",
    "\n",
    "<div align=\"center\">\n",
    "\n",
    "| $x_{i,j,3}$ | depot | A | B | C | D | E | F | G | H | I |\n",
    "|---|---|---|---|---|---|---|---|---|---|---|\n",
    "| **0 (start)** | 1 | 0 | 0 | 0 | 0 | 0 | 0 | 0 | 0 | 0 |\n",
    "| **1** | 0 | 0 | 0 | 0 | <font color=\"green\">1</font> | 0 | 0 | 0 | 0 | 0 |\n",
    "| **2** | 0 | 0 | 0 | 0 | 0 | 0 | 0 | 0 | <font color=\"green\">1</font> | 0 |\n",
    "| **3** | 1 | 0 | 0 | 0 | 0 | 0 | 0 | 0 | 0 | 0 |\n",
    "| **4** | 1 | 0 | 0 | 0 | 0 | 0 | 0 | 0 | 0 | 0 |\n",
    "| **5** | 1 | 0 | 0 | 0 | 0 | 0 | 0 | 0 | 0 | 0 |\n",
    "| **6** | 1 | 0 | 0 | 0 | 0 | 0 | 0 | 0 | 0 | 0 |\n",
    "| **7** | 1 | 0 | 0 | 0 | 0 | 0 | 0 | 0 | 0 | 0 |\n",
    "| **8** | 1 | 0 | 0 | 0 | 0 | 0 | 0 | 0 | 0 | 0 |\n",
    "| **9 (end)** | 1 | 0 | 0 | 0 | 0 | 0 | 0 | 0 | 0 | 0 |\n",
    "\n",
    "</div>\n",
    "\n",
    "The above-mentioned constraint \"2: Vehicle $k$ visits only one $i$th location\" corresponds to a single \"$1$\" appearing in each row (horizontal line) of the above decision variable table and can be expressed by the following equation:\n",
    "\n",
    "$$\n",
    "\\sum_{j=0}^N x_{i,j,k} = 1 \\quad (i \\in \\{1, \\dots, L\\}, k \\in \\{1, \\dots, K\\})\n",
    "$$\n",
    "\n",
    "\n",
    "Also, the constraint \"3: City $j$ (excluding the depot) is visited exactly once by any vehicle\" corresponds to a single \"$1$\" appearing in each column (vertical line) except the depot for all vehicles combined, and can be expressed as follows:\n",
    "\n",
    "$$\n",
    "\\sum_{i=1}^L \\sum_{k=1}^K x_{i,j,k}=1 \\quad (j \\in \\{1, \\dots, N\\})\n",
    "$$\n",
    "\n",
    "<a id=\"post_process\"></a>\n",
    "While these constraints ensure that each city is visited exactly once by any vehicle, the formulation allows that the delivery depot to be visited any number of times. Therefore, post-processing is performed so that each vehicle visits a depot only twice, once at the start of the delivery and once at the end of the delivery. Specifically, if $1$ appears in the \"depot\" column except for rows 0 and 9 in the table, it is ignored (considered as $0$). The travel distance for the route obtained after this post-processing is equal to or shorter than that before the post-processing, which can be proven by using the triangular inequality."
   ]
  },
  {
   "attachments": {},
   "cell_type": "markdown",
   "id": "viral-medicare",
   "metadata": {},
   "source": [
    "## Implementation\n",
    "\n",
    "We will now implement the above formulation and constraints using Fixstars Amplify.\n",
    "\n",
    "### Problem definition and visualization\n",
    "\n",
    "First, let us define the variables needed to optimize the present problem. The number of vehicles is set to 2, the number of cities to 10, and the transportation demand for each city is randomly generated. Also, adjust `capacity` to be a solvable condition. The `dimension` is [number of cities + number of depots = number of cities + 1]."
   ]
  },
  {
   "cell_type": "code",
   "execution_count": null,
   "id": "theoretical-bronze",
   "metadata": {},
   "outputs": [],
   "source": [
    "import numpy as np\n",
    "from geopy.distance import geodesic\n",
    "\n",
    "# The number of vehicles\n",
    "nvehicle = 2\n",
    "\n",
    "# The number of cities to visit\n",
    "ncity = 10\n",
    "\n",
    "dimension = ncity + 1\n",
    "avg_cities_per_vehicle = dimension // nvehicle\n",
    "\n",
    "# Randomly determin the delivery demand (weight) in each city\n",
    "demand = np.random.randint(1, 100, size=dimension)\n",
    "demand[0] = 0\n",
    "demand_max = max(demand)\n",
    "demand_mean = sum(demand) / len(demand)\n",
    "\n",
    "# Set an appropriate vehicle payload Q for the above problem setting\n",
    "capacity = demand_max + int(demand_mean) * avg_cities_per_vehicle"
   ]
  },
  {
   "attachments": {},
   "cell_type": "markdown",
   "id": "a14b17be",
   "metadata": {},
   "source": [
    "Next, the coordinates of each city are randomly generated. Generate $D_{i \\to j}$ by computing the coordinate distances between all cities $i,j$."
   ]
  },
  {
   "cell_type": "code",
   "execution_count": null,
   "id": "1102ab88",
   "metadata": {},
   "outputs": [],
   "source": [
    "# Ranges of the coordinate\n",
    "lat_range = [51, 53]\n",
    "lon_range = [-2, 0]\n",
    "\n",
    "# Coordinates of each city\n",
    "ind2coord = {\n",
    "    i: (\n",
    "        np.random.uniform(lon_range[0], lon_range[1]),\n",
    "        np.random.uniform(lat_range[0], lat_range[1]),\n",
    "    )\n",
    "    for i in range(dimension)\n",
    "}\n",
    "\n",
    "# Coordinate distance matrix between two cities\n",
    "distance_matrix = np.array(\n",
    "    [\n",
    "        [geodesic(coord_i[::-1], coord_j[::-1]).m for coord_j in ind2coord.values()]\n",
    "        for coord_i in ind2coord.values()\n",
    "    ]\n",
    ")"
   ]
  },
  {
   "attachments": {},
   "cell_type": "markdown",
   "id": "5b705237",
   "metadata": {},
   "source": [
    "Create a list of colors to be used when plotting the problem."
   ]
  },
  {
   "cell_type": "code",
   "execution_count": null,
   "id": "ecf33fff",
   "metadata": {},
   "outputs": [],
   "source": [
    "_colors = [\n",
    "    \"green\",\n",
    "    \"orange\",\n",
    "    \"blue\",\n",
    "    \"red\",\n",
    "    \"purple\",\n",
    "    \"pink\",\n",
    "    \"darkblue\",\n",
    "    \"cadetblue\",\n",
    "    \"darkred\",\n",
    "    \"lightred\",\n",
    "    \"darkgreen\",\n",
    "    \"lightgreen\",\n",
    "    \"lightblue\",\n",
    "    \"darkpurple\",\n",
    "]"
   ]
  },
  {
   "attachments": {},
   "cell_type": "markdown",
   "id": "da494935",
   "metadata": {},
   "source": [
    "Define the function `plot_solution` to plot the coordinates of the cities."
   ]
  },
  {
   "cell_type": "code",
   "execution_count": null,
   "id": "included-activation",
   "metadata": {},
   "outputs": [],
   "source": [
    "import folium\n",
    "\n",
    "\n",
    "def plot_solution(coord: dict, title: str, best_tour: dict = dict()):\n",
    "    l = len(coord)\n",
    "    center = [\n",
    "        sum(lat for _, lat in coord.values()) / l,\n",
    "        sum(lon for lon, _ in coord.values()) / l,\n",
    "    ]\n",
    "    m = folium.Map(center, tiles=\"OpenStreetMap\", zoom_start=7)\n",
    "    folium.Marker(\n",
    "        location=coord[0][::-1],\n",
    "        popup=f\"depot\",\n",
    "        icon=folium.Icon(icon=\"car\", prefix=\"fa\"),\n",
    "    ).add_to(m)\n",
    "\n",
    "    _color = _colors[1]\n",
    "    if best_tour:\n",
    "        for k, tour in best_tour.items():\n",
    "            _color = _colors[k % len(_colors)]\n",
    "            for city in tour:\n",
    "                if city == 0:\n",
    "                    continue\n",
    "\n",
    "                folium.Marker(\n",
    "                    location=coord[city][::-1],\n",
    "                    popup=f\"person{k}\",\n",
    "                    icon=folium.Icon(\n",
    "                        icon=\"user\", prefix=\"fa\", color=\"white\", icon_color=_color\n",
    "                    ),\n",
    "                ).add_to(m)\n",
    "            folium.vector_layers.PolyLine(\n",
    "                locations=[coord[city][::-1] for city in tour], color=_color, weight=3\n",
    "            ).add_to(m)\n",
    "    else:\n",
    "        for k, node in coord.items():\n",
    "            if k == 0:\n",
    "                continue\n",
    "            folium.Marker(\n",
    "                location=node[::-1],\n",
    "                popup=f\"customer{k}\",\n",
    "                icon=folium.Icon(\n",
    "                    icon=\"user\", prefix=\"fa\", color=\"white\", icon_color=_color\n",
    "                ),\n",
    "            ).add_to(m)\n",
    "\n",
    "    title = f\"<h4>{title}</h4>\"\n",
    "    m.get_root().html.add_child(folium.Element(title))\n",
    "\n",
    "    return m"
   ]
  },
  {
   "attachments": {},
   "cell_type": "markdown",
   "id": "34b925d8",
   "metadata": {},
   "source": [
    "The `plot_solution` function displays the defined problem. The car-shaped pins represent the location of the depot (start and end points), and the human-shaped pins represent the points to be visited."
   ]
  },
  {
   "cell_type": "code",
   "execution_count": null,
   "id": "documented-destination",
   "metadata": {},
   "outputs": [],
   "source": [
    "# England, UK\n",
    "title = f\"capacity={capacity}, ncity={ncity}, nvehicle={nvehicle}\"\n",
    "plot_solution(ind2coord, title)"
   ]
  },
  {
   "attachments": {},
   "cell_type": "markdown",
   "id": "83d4a4cb",
   "metadata": {},
   "source": [
    "### Upper bound of cities to visit\n",
    "\n",
    "To reduce the size of the decision variable, an upper bound on the number of cities that can be visited by a single car is estimated in advance.\n",
    "\n",
    "The following `upperbound_of_tour` function estimates the maximum number of cities that can be visited without exceeding the load capacity by the following steps:\n",
    "\n",
    "1. Selecting the city with the lowest delivery demand (weight) among the cities not yet selected, and subtracting that city's demand from the maximum load capacity\n",
    "2. Repeating step 1 until the maximum load capacity becomes negative, and the number of iterations is the upper limit of the number of cities to visit"
   ]
  },
  {
   "cell_type": "code",
   "execution_count": null,
   "id": "detailed-dynamics",
   "metadata": {},
   "outputs": [],
   "source": [
    "def upperbound_of_tour(capacity: int, demand: np.ndarray) -> int:\n",
    "    max_tourable_cities = 1\n",
    "    for w in sorted(demand):\n",
    "        capacity -= w\n",
    "        if capacity >= 0:\n",
    "            max_tourable_cities += 1\n",
    "        else:\n",
    "            return max_tourable_cities\n",
    "    return max_tourable_cities"
   ]
  },
  {
   "attachments": {},
   "cell_type": "markdown",
   "id": "c6cb0f88",
   "metadata": {},
   "source": [
    "### Constructing QUBO formulation\n",
    "\n",
    "Next, we define the necessary decision variables, using Amplify's `BinarySymbolGenerator`. For a total of $N+1$ cities and depots, we will visit at most $L$ cities with $K$ vehicles, so we define the QUBO variable as a three-dimensional array of $L \\times (N+1) \\times K$ as follows (see the definitions of constants in the Formulation section)."
   ]
  },
  {
   "cell_type": "code",
   "execution_count": null,
   "id": "humanitarian-proceeding",
   "metadata": {},
   "outputs": [],
   "source": [
    "from amplify import BinaryPoly, BinarySymbolGenerator\n",
    "\n",
    "gen = BinarySymbolGenerator()\n",
    "\n",
    "# Maximum number of cities one vehicle can visit based on payload capacity\n",
    "max_tourable_cities = upperbound_of_tour(capacity, demand)\n",
    "\n",
    "x = gen.array(max_tourable_cities, dimension, nvehicle)"
   ]
  },
  {
   "attachments": {},
   "cell_type": "markdown",
   "id": "tropical-plasma",
   "metadata": {},
   "source": [
    "As mentioned in the section, Formulation, the constraints are:\n",
    "\n",
    "1. All vehicles start from and end at the depot (city $0$)  \n",
    "2. Vehicle $k$ visits only one $i$-th location  \n",
    "3. City $j$ (excluding the depot) is visited exactly once by any vehicle  \n",
    "4. The total weight of the loads carried by vehicle $k$ is less than or equal to $Q$  \n",
    "\n",
    "In other words,\n",
    "\n",
    "$$\n",
    "\\begin{align*}\n",
    "(1) \\quad &\n",
    "   x_{1,j,k} = \n",
    "   \\begin{cases}\n",
    "      1 \\quad (j = 0) \\\\\n",
    "      0 \\quad (j \\neq 0)\n",
    "   \\end{cases} \\\\\n",
    "   & x_{L,j,k} = \n",
    "   \\begin{cases}\n",
    "      1 \\quad (j = 0) \\\\\n",
    "      0 \\quad (j \\neq 0)\n",
    "   \\end{cases} \\\\\n",
    "(2)\\quad & \\sum_{j=0}^N x_{i,j,k} = 1 \\quad (i \\in \\{1, \\dots, L\\}, k \\in \\{1, \\dots, K\\})\\\\\n",
    "(3)\\quad & \\sum_{i=1}^L \\sum_{k=1}^K x_{i,j,k}=1 \\quad (j \\in \\{1, \\dots, N\\})\\\\\n",
    "(4)\\quad & \\sum_{i=1}^L \\sum_{j=1}^N w_j x_{i,j,k} \\leq Q \\quad (k \\in \\{1, \\dots, K\\})\\\\\n",
    "\\end{align*}.\n",
    "$$\n",
    "\n",
    "Note that $x_{i,j,k}$ corresponds to vehicle $k$ visits city $j$ as $i$-th location.\n",
    "\n",
    "We will use the `less_equal` function to express inequality constraints and the `equal_to` function to express equality constraints. Also, the coefficient that determines the weight of the constraint term is implemented as $\\max (d_{ij})$. This at least avoids the situation where the objective function is favored over the constraint term."
   ]
  },
  {
   "attachments": {},
   "cell_type": "markdown",
   "id": "ecb3c1d9",
   "metadata": {},
   "source": [
    "#### **Constraint (1):** all vehicles start from and end at the depot (city 0)\n",
    "\n",
    "The constraint equation is expressed as follows.\n",
    "\n",
    "$$\n",
    "\\begin{align*}\n",
    "    x_{1,j,k} = \n",
    "    \\begin{cases}\n",
    "        1 \\quad (j = 0) \\\\\n",
    "        0 \\quad (j \\neq 0)\n",
    "    \\end{cases} \\\\\n",
    "    x_{L,j,k} = \n",
    "    \\begin{cases}\n",
    "        1 \\quad (j = 0) \\\\\n",
    "        0 \\quad (j \\neq 0)\n",
    "    \\end{cases}\n",
    "\\end{align*}\n",
    "$$\n",
    "\n",
    "We achieve this constraint by prefixing. Prefixing allows us to reduce the number of variables to be solved. Create a function that directly assigns values as follows.\n",
    "\n",
    "To prefix the values of the variables, do `x[i][j][k] = 1` or `x[i][j][k] = 0`. The assignment operation to the decision variables must be performed before defining the objective functions or constraint equations."
   ]
  },
  {
   "cell_type": "code",
   "execution_count": null,
   "id": "68d977a2",
   "metadata": {},
   "outputs": [],
   "source": [
    "x[0][1:][:] = 0\n",
    "x[-1][1:][:] = 0\n",
    "\n",
    "x[0][0][:] = 1\n",
    "x[-1][0][:] = 1"
   ]
  },
  {
   "attachments": {},
   "cell_type": "markdown",
   "id": "a8145f50",
   "metadata": {},
   "source": [
    "#### **Constraint (2):** vehicle $k$ visits only one $i$-th location\n",
    "\n",
    "This constraint is already expressed by the following equation in the Formulation section.\n",
    "\n",
    "$$ \\sum_{j=0}^N x_{i,j,k} = 1 \\quad (i \\in \\{1, \\dots, L\\}, k \\in \\{1, \\dots, K\\}) $$\n",
    "\n",
    "This constraint equation is implemented as follows."
   ]
  },
  {
   "cell_type": "code",
   "execution_count": null,
   "id": "b5c64988",
   "metadata": {},
   "outputs": [],
   "source": [
    "from amplify.constraint import one_hot\n",
    "from amplify import sum_poly\n",
    "\n",
    "\n",
    "def make_onetrip_constraints(x) -> list:\n",
    "    max_tourable_cities = x.shape[0]\n",
    "    dimension = x.shape[1]\n",
    "    nvehicle = x.shape[2]\n",
    "\n",
    "    constraints = [\n",
    "        one_hot(sum_poly(dimension, lambda j: x[i][j][k]))\n",
    "        for i in range(max_tourable_cities)\n",
    "        for k in range(nvehicle)\n",
    "    ]\n",
    "    return constraints"
   ]
  },
  {
   "attachments": {},
   "cell_type": "markdown",
   "id": "7ea42aa4",
   "metadata": {},
   "source": [
    "#### **Constraint (3):** city $j$ (excluding the depot) is visited exactly once by any vehicle  \n",
    "\n",
    "As already mentioned in the Formulation section, this constraint is expressed as:\n",
    "\n",
    "$$ \\sum_{i=1}^L \\sum_{k=1}^K x_{i,j,k}=1 \\quad (j \\in \\{1, \\dots, N\\}).$$\n",
    "\n",
    "This equation is implemented as follows:"
   ]
  },
  {
   "cell_type": "code",
   "execution_count": null,
   "id": "40244e78",
   "metadata": {},
   "outputs": [],
   "source": [
    "def make_onevisit_constraints(x) -> list:\n",
    "    max_tourable_cities = x.shape[0]\n",
    "    dimension = x.shape[1]\n",
    "    nvehicle = x.shape[2]\n",
    "\n",
    "    constraints = [\n",
    "        one_hot(\n",
    "            sum_poly(\n",
    "                max_tourable_cities, lambda i: sum_poly(nvehicle, lambda k: x[i][j][k])\n",
    "            )\n",
    "        )\n",
    "        for j in range(1, dimension)\n",
    "    ]\n",
    "    return constraints"
   ]
  },
  {
   "attachments": {},
   "cell_type": "markdown",
   "id": "54cdac56",
   "metadata": {},
   "source": [
    "#### **Constraint (4):** the total weight of the loads carried by vehicle $k$ is less than or equal to $Q$\n",
    "\n",
    "This constraint is expressed by the following equation.\n",
    "\n",
    "$$ \\sum_{i=1}^L \\sum_{j=1}^N w_j x_{i,j,k} \\leq Q \\quad (k \\in \\{1, \\dots, K\\}) $$\n",
    "\n",
    "This constraint expression can be implemented using `less_equal`. Also, although not necessary in the present problem setup, we will specify `InequalityFormulation.RelaxationQuadra` as the `method` argument to `less_equal`. While this method is not a strict penalty function for this constraint, it keeps from generating many auxiliary variables internally, can handle real number coefficients, and thus increases solvability under large problem size conditions.\n",
    "\n",
    "\n",
    "See https://amplify.fixstars.com/en/docs/constraint.html#constraint-inequality-relaxation for further information."
   ]
  },
  {
   "cell_type": "code",
   "execution_count": null,
   "id": "735a60e9",
   "metadata": {},
   "outputs": [],
   "source": [
    "from amplify.constraint import less_equal\n",
    "from amplify import InequalityFormulation\n",
    "\n",
    "\n",
    "def make_capacity_constraints(x, demand: np.ndarray, capacity: int) -> list:\n",
    "    max_tourable_cities = x.shape[0]\n",
    "    dimension = x.shape[1]\n",
    "    nvehicle = x.shape[2]\n",
    "\n",
    "    constraints = [\n",
    "        less_equal(\n",
    "            demand * x[:, :, k],\n",
    "            capacity,\n",
    "            method=InequalityFormulation.RelaxationQuadra,\n",
    "        )\n",
    "        / capacity\n",
    "        / capacity\n",
    "        for k in range(nvehicle)\n",
    "    ]\n",
    "\n",
    "    return constraints"
   ]
  },
  {
   "attachments": {},
   "cell_type": "markdown",
   "id": "5e49269f",
   "metadata": {},
   "source": [
    "#### **Objective function**\n",
    "\n",
    "The objective this time is to minimize the total distance traveled by the vehicles, and the objective function may be written as follows:\n",
    "\n",
    "$$\n",
    "\\sum_{k=1}^K\\sum_{i=1}^L\\sum_{j_1=0}^N\\sum_{j_2=0}^N D_{j_1\\to j_2}x_{i,j_1,k}x_{i+1,j_2,k}\n",
    "$$\n",
    "\n",
    "The `einsum` function is used to compute the objective function. More information about the `einsum` function can be found [here](https://amplify.fixstars.com/en/docs/array.html#polynomial-array-einsum)."
   ]
  },
  {
   "cell_type": "code",
   "execution_count": null,
   "id": "dcbf8a27",
   "metadata": {},
   "outputs": [],
   "source": [
    "from amplify import einsum\n",
    "\n",
    "max_tourable_cities = x.shape[0]\n",
    "dimension = x.shape[1]\n",
    "nvehicle = x.shape[2]\n",
    "\n",
    "xr = x.roll(-1, axis=0)\n",
    "# Total distance of the route\n",
    "objective = einsum(\"pq,ipk,iqk\", distance_matrix, x, xr)"
   ]
  },
  {
   "attachments": {},
   "cell_type": "markdown",
   "id": "dedicated-combat",
   "metadata": {},
   "source": [
    "Based on the pre-assignment-based constraint, the three constraint equations, and the objective function implemented so far, we can now construct a QUBO model for CVRP as follows. Here, we set the weight for the constraint equations as `np.max(distance_matrix)`."
   ]
  },
  {
   "cell_type": "code",
   "execution_count": null,
   "id": "muslim-england",
   "metadata": {},
   "outputs": [],
   "source": [
    "constraints1 = make_onetrip_constraints(x)\n",
    "constraints2 = make_onevisit_constraints(x)\n",
    "constraints3 = make_capacity_constraints(x, demand, capacity)\n",
    "constraints = sum(constraints1) + sum(constraints2) + sum(constraints3)\n",
    "\n",
    "model = objective + constraints * np.max(distance_matrix)"
   ]
  },
  {
   "attachments": {},
   "cell_type": "markdown",
   "id": "6ad812e1",
   "metadata": {},
   "source": [
    "### Setting up Amplify client\n",
    "\n",
    "Let us use the Amplify Annealing Engine (AE) client."
   ]
  },
  {
   "cell_type": "code",
   "execution_count": null,
   "id": "8ee37586",
   "metadata": {},
   "outputs": [],
   "source": [
    "from amplify.client import FixstarsClient\n",
    "\n",
    "client = FixstarsClient()\n",
    "client.parameters.timeout = 2000  # Timeout is set to be 2 seconds\n",
    "# client.token = \"Please put your Amplify API Token\""
   ]
  },
  {
   "attachments": {},
   "cell_type": "markdown",
   "id": "historic-ireland",
   "metadata": {},
   "source": [
    "Then we will instantiate the `Solver` class with the client we just created, and we will execute the solution based on the QUBO model."
   ]
  },
  {
   "cell_type": "code",
   "execution_count": null,
   "id": "martial-cradle",
   "metadata": {},
   "outputs": [],
   "source": [
    "from amplify import Solver\n",
    "\n",
    "solver = Solver(client)\n",
    "\n",
    "result = solver.solve(model)\n",
    "if len(result.solutions) == 0:\n",
    "    raise RuntimeError(\"Some of the constraints are not satisfied.\")\n",
    "\n",
    "x_values = result.solutions[0].values  # solution"
   ]
  },
  {
   "attachments": {},
   "cell_type": "markdown",
   "id": "relative-group",
   "metadata": {},
   "source": [
    "### Post-processing and solution visualization\n",
    "\n",
    "The next step is to post-process and visualize the results.\n",
    "\n",
    "In the following we define the function `onehot2_sequence` to format the obtained solution and the function `process_sequence` to perform post-processing as described <a href=\"#post_process\">above</a>. The `onehot2_sequence` function creates a numbered list in visit order from the one-hot binary vector returned by `Solver` as follows.\n",
    "\n",
    "Note that the following type hints are compatible with Python 3.9 or later. If you are using an older environment (Python 3.8), such as in a local environment, run `from __future__ import annotations` additionally."
   ]
  },
  {
   "cell_type": "code",
   "execution_count": null,
   "id": "modified-showcase",
   "metadata": {},
   "outputs": [],
   "source": [
    "# from __future__ import annotations # For Python 3.8, uncomment this\n",
    "\n",
    "\n",
    "# Converting one-hot variable table to a dictionary. key: vehicle index, value: list containing the order of cities visited by each vehicle\n",
    "def onehot2_sequence(x_values) -> dict[int, list]:\n",
    "    nvehicle = x_values.shape[2]\n",
    "    sequence = dict()\n",
    "    for k in range(nvehicle):\n",
    "        sequence[k] = np.where(x_values[:, :, k])[1]\n",
    "    return sequence"
   ]
  },
  {
   "attachments": {},
   "cell_type": "markdown",
   "id": "8ab78729",
   "metadata": {},
   "source": [
    "Create the `process_sequence` function, which will return the list created by the `onehot2_sequence` function with the extra visits to the depot removed as described in <a href=\"#post_process\">described</a>. Using the triangular inequality, we can prove that the distance traveled after post-processing is less than or equal to the distance traveled before post-processing."
   ]
  },
  {
   "cell_type": "code",
   "execution_count": null,
   "id": "powerful-laser",
   "metadata": {},
   "outputs": [],
   "source": [
    "def process_sequence(sequence: dict[int, list]) -> dict[int, list]:\n",
    "    new_seq = dict()\n",
    "    for k, v in sequence.items():\n",
    "        v = np.append(v, v[0])\n",
    "        mask = np.concatenate(([True], np.diff(v) != 0))\n",
    "        new_seq[k] = v[mask]\n",
    "    return new_seq"
   ]
  },
  {
   "attachments": {},
   "cell_type": "markdown",
   "id": "searching-georgia",
   "metadata": {},
   "source": [
    "Now let's extract and visualize the result.\n",
    "\n",
    "We pass the solution `x_values` to the `decode` method of the decision variable array `x` and assign the result to the variable array.  \n",
    "\n",
    "Then, post-process the result using `onehot2_sequence` and `process_sequence` that we defined earlier."
   ]
  },
  {
   "cell_type": "code",
   "execution_count": null,
   "id": "molecular-detroit",
   "metadata": {},
   "outputs": [],
   "source": [
    "solution = x.decode(x_values)\n",
    "sequence = onehot2_sequence(\n",
    "    solution\n",
    ")  # Converting one-hot variable table to a dictionary. key: vehicle index, value: list containing the order of cities visited by each vehicle\n",
    "best_tour = process_sequence(\n",
    "    sequence\n",
    ")  # Remove extra visits to the depot from the dictionary above.\n",
    "print(result.solutions[0].energy)  # Print objective function value\n",
    "print(*best_tour.items(), sep=\"\\n\")  # Print the obtained route"
   ]
  },
  {
   "attachments": {},
   "cell_type": "markdown",
   "id": "3c1e6130",
   "metadata": {},
   "source": [
    "The `plot_solution` function, defined earlier in the Implementation section, visualizes the post-processed solution. The optimized route that each vehicle should take is displayed on the map."
   ]
  },
  {
   "cell_type": "code",
   "execution_count": null,
   "id": "interracial-league",
   "metadata": {},
   "outputs": [],
   "source": [
    "title = f\"capacity={capacity}, ncity={ncity}, nvehicle={nvehicle}, cost={result.solutions[0].energy:.2f}\"\n",
    "plot_solution(ind2coord, title, best_tour)"
   ]
  }
 ],
 "metadata": {
  "language_info": {
   "name": "python",
   "pygments_lexer": "ipython3"
  }
 },
 "nbformat": 4,
 "nbformat_minor": 5
}
