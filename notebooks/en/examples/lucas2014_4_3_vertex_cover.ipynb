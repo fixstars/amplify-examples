{
 "cells": [
  {
   "cell_type": "markdown",
   "id": "4b898407",
   "metadata": {},
   "source": [
    "# Example NP problems published in A. Lucas, *Front. Phys.* (2014) - Minimum vertex cover problem\n",
    "\n",
    "This example code implements the **minimum vertex cover problem** introduced in the paper [A. Lucas, \"Ising formulations of many NP problems\", *Front. Phys.* (2014)](https://www.frontiersin.org/articles/10.3389/fphy.2014.00005/full) using Fixstars Amplify. Other NP-complete and NP-hard problems introduced in the same paper are also discussed below (the corresponding sections in the paper are shown in the brackets).\n",
    "\n",
    "- [Graph partitioning problem](https://amplify.fixstars.com/en/demo/lucas2014_2_2_graph_partitioning) (Sec. 2.2).\n",
    "- [Maximum clique problem](https://amplify.fixstars.com/en/demo/lucas2014_2_3_cliques) (Sec. 2.3)\n",
    "- [Exact cover problem](https://amplify.fixstars.com/en/demo/lucas2014_4_1_exact_cover) (Sec. 4.1)\n",
    "- [Set packing problem](https://amplify.fixstars.com/en/demo/lucas2014_4_2_set_packing) (Sec. 4.2)\n",
    "- **Minimum vertex cover problem** (Sec. 4.3)\n",
    "- [Satisfiability problem (SAT)](https://amplify.fixstars.com/en/demo/lucas2014_4_4_satisfiability) (Sec. 4.4)\n",
    "- [Minimal maximal matching problem](https://amplify.fixstars.com/en/demo/lucas2014_4_5_minimal_maximal_matching) (Sec. 4.5)\n",
    "- [Graph coloring problem](https://amplify.fixstars.com/en/demo/lucas2014_6_1_graph_coloring) (Sec. 6.1)\n",
    "- [Clique cover problem](https://amplify.fixstars.com/en/demo/lucas2014_6_2_clique_cover) (Sec. 6.2)\n",
    "- [Job sequencing problem with integer lengths](https://amplify.fixstars.com/en/demo/lucas2014_6_3_job_sequencing_with_integer_lengths) (Sec. 6.3)\n",
    "- [Hamiltonian cycle problem](https://amplify.fixstars.com/en/demo/lucas2014_7_1_hamiltonian_cycles_and_paths) (Sec. 7.1)\n",
    "- [Directed feedback vertex set problem](https://amplify.fixstars.com/en/demo/lucas2014_8_3_directed_feedback_vertex_set) (Sec. 8.3)\n",
    "- [Minimum feedback edge set problem](https://amplify.fixstars.com/en/demo/lucas2014_8_5_feedback_edge_set) (Sec. 8.5)\n",
    "- [Graph isomorphism problem](https://amplify.fixstars.com/en/demo/lucas2014_9_graph_isomorphisms) (Sec. 9)"
   ]
  },
  {
   "cell_type": "markdown",
   "id": "1760d928",
   "metadata": {},
   "source": [
    "## Minimum vertex cover problem\n",
    "\n",
    "For a graph $G$, a **vertex cover** of $G$ is a subset $R$ of the vertices of $G$ such that $R$ contains at least one endpoint of any edge of $G$. The problem of finding the vertex cover of $G$ with the smallest number of elements is called the **minimum vertex cover problem**.\n",
    "\n",
    "For example, in the following graph, the set of orange vertices is a vertex cover. Observe that any edge of the graph $G$ is connected to an orange vertex.\n",
    "\n",
    "![Figure](../figures/Lucas2014/vertex_cover0.png)\n",
    "\n",
    "This example program uses Fixstars Amplify to solve the minimum vertex cover problem. The formulation follows that of Sec. 4.3 of [A. Lucas, Front. Phys. (2014)](https://www.frontiersin.org/articles/10.3389/fphy.2014.00005/full)."
   ]
  },
  {
   "cell_type": "markdown",
   "id": "4b2525fb",
   "metadata": {},
   "source": [
    "## Problem definition\n",
    "\n",
    "We will define a graph $G$ using NetworkX to demonstrate the minimum vertex cover problem with Fixstars Amplify."
   ]
  },
  {
   "cell_type": "code",
   "execution_count": null,
   "id": "a340ef47",
   "metadata": {},
   "outputs": [],
   "source": [
    "import networkx as nx\n",
    "\n",
    "N = 6  # Number of graph vertices\n",
    "G = nx.Graph()\n",
    "G.add_nodes_from(range(N))\n",
    "edge_list = [\n",
    "    (0, 1),\n",
    "    (0, 4),\n",
    "    (0, 5),\n",
    "    (1, 2),\n",
    "    (1, 4),\n",
    "    (2, 3),\n",
    "    (2, 4),\n",
    "    (2, 5),\n",
    "    (3, 4),\n",
    "    (4, 5),\n",
    "]\n",
    "\n",
    "G.add_edges_from(edge_list)\n",
    "\n",
    "pos = nx.circular_layout(G)\n",
    "\n",
    "# Visualize the constructed graph\n",
    "nx.draw_networkx(G, node_size=600, font_color=\"w\", pos=pos)"
   ]
  },
  {
   "cell_type": "markdown",
   "id": "b6baceb2",
   "metadata": {},
   "source": [
    "As mentioned earlier, a set of vertices 0, 2, and 4 is vertex-covered.\n",
    "Also, for a set $R$ to be vertex-covered, $R$ must contain either vertex 0 or vertex 1, either vertex 2 or vertex 3, and either vertex 4 or vertex 5, so the minimum number of elements in the vertex cover is $3$."
   ]
  },
  {
   "cell_type": "markdown",
   "id": "9a8eed5a",
   "metadata": {},
   "source": [
    "## Formulation\n",
    "\n",
    "Let $N$ be the number of vertices in $G$ hereafter.\n",
    "\n",
    "### Decision variables\n",
    "\n",
    "Let each of $N$ binary variables $q$ be associated with each vertex to indicate whether the vertex is included in the vertex cover $R$. The variable is $1$ if its corresponding vertex is included in $R$ and $0$ if not.\n",
    "\n",
    "For example, when $R$ is the set of orange vertices as in the figure below, the decision variable $q$ would be as in the below table.\n",
    "\n",
    "![Figure](../figures/Lucas2014/vertex_cover1.png)\n",
    "\n",
    "| Index of vertex | 0   | 1   | 2   | 3   | 4   | 5   |\n",
    "| --------------- | --- | --- | --- | --- | --- | --- |\n",
    "| $q$             | 1   | 0   | 1   | 0   | 1   | 0   |\n",
    "\n",
    "### Objective function\n",
    "\n",
    "Since the number of elements in $R$ should be as small as possible, the objective function is $\\displaystyle \\sum_{v = 0}^{N - 1}q_v$.\n",
    "\n",
    "<a id=\"constraint\"></a>\n",
    "### Constraints\n",
    "\n",
    "For $q$ to represent a vertex cover, we need the following constraints.\n",
    "\n",
    "* Condition 1: For each edge $(u, v)$ of $G$, either $u$ or $v$ is contained in $R$.\n",
    "\n",
    "Since this is a condition that either the binary variable corresponding to $u$ or the binary variable corresponding to $v$ is $1$,\n",
    "\n",
    "$$\n",
    "(1 - q_u) (1 - q_v) = 0 \\quad \\text{for} \\quad (u, v) \\in E.\n",
    "$$\n",
    "\n",
    "Here, $E$ is an edge set of $G$. Conversely, when condition 1 holds, clearly $R$ is a vertex covering $G$."
   ]
  },
  {
   "cell_type": "markdown",
   "id": "163dd7d7",
   "metadata": {},
   "source": [
    "## Implementation\n",
    "\n",
    "Using the problem and formulation defined above, let us implement and solve the problem. First, create as many binary variables $q$ as subsets are using the `BinarySymbolGenerator` in Fixstars Amplify SDK."
   ]
  },
  {
   "cell_type": "code",
   "execution_count": null,
   "id": "4f1506f4",
   "metadata": {},
   "outputs": [],
   "source": [
    "from amplify import VariableGenerator\n",
    "\n",
    "gen = VariableGenerator()\n",
    "q = gen.array(\"Binary\", N)"
   ]
  },
  {
   "cell_type": "markdown",
   "id": "009bf506",
   "metadata": {},
   "source": [
    "As mentioned earlier, the objective function is the number of elements in $R$, and we can compute it by summing $q$."
   ]
  },
  {
   "cell_type": "code",
   "execution_count": null,
   "id": "0dd37f11",
   "metadata": {},
   "outputs": [],
   "source": [
    "cost = q.sum()"
   ]
  },
  {
   "cell_type": "markdown",
   "id": "ad0e49a9",
   "metadata": {},
   "source": [
    "Create the constraint condition corresponding to the [condition 1](#constraint). The condition 1 implies that for each edge of $G$, one of the two vertices is contained in $R$ and is represented by $(1 - q_u) (1 - q_v) = 0 ,\\:\\: (u, v) \\in E$."
   ]
  },
  {
   "cell_type": "code",
   "execution_count": null,
   "id": "3df17c30",
   "metadata": {},
   "outputs": [],
   "source": [
    "from amplify import equal_to, sum as amplify_sum\n",
    "\n",
    "constraints = amplify_sum(equal_to((1 - q[u]) * (1 - q[v]), 0) for u, v in G.edges)"
   ]
  },
  {
   "cell_type": "markdown",
   "id": "18291942",
   "metadata": {},
   "source": [
    "The objective function and constraints implemented above are combined and converted into an optimization model. Although not necessary in this case, it may be required to multiply the constraint weight, depending on the problem setup. The basic idea is to estimate and determine a value for the weight approximately equal to or slightly more significant than the possible values of the objective function."
   ]
  },
  {
   "cell_type": "code",
   "execution_count": null,
   "id": "a7b135e6",
   "metadata": {},
   "outputs": [],
   "source": [
    "model = cost + constraints"
   ]
  },
  {
   "cell_type": "markdown",
   "id": "4c74bc21",
   "metadata": {},
   "source": [
    "Let us set the client and solve the logical model with Fixstars Amplify Annealing Engine (AE). Since Amplify SDK automatically filters the solutions that satisfy the constraints, if the `result` is not empty, you know that there is a solution that satisfies the constraints."
   ]
  },
  {
   "cell_type": "code",
   "execution_count": null,
   "id": "b3d83338",
   "metadata": {},
   "outputs": [],
   "source": [
    "from amplify import FixstarsClient, solve\n",
    "from datetime import timedelta\n",
    "\n",
    "client = FixstarsClient()\n",
    "# client.token = \"xxxxxxxxxxxxxxxxxxxxxxxxxxxxxxxx\"  # If you use Amplify in a local environment or Google Colaboratory, enter your Amplify API token.\n",
    "client.parameters.timeout = timedelta(milliseconds=1000)  # timeout is 1000 ms\n",
    "\n",
    "# Solve the problem\n",
    "result = solve(model, client)\n",
    "\n",
    "if len(result) == 0:\n",
    "    print(\"No solution has been found.\")\n",
    "else:\n",
    "    print(\"A solution has been found.\")"
   ]
  },
  {
   "cell_type": "markdown",
   "id": "f7bc900c",
   "metadata": {},
   "source": [
    "Finally, let us visualize the result. We can see that the selected vertices form the minimum vertex cover. You can try to solve the same problem for different graph shapes."
   ]
  },
  {
   "cell_type": "code",
   "execution_count": null,
   "id": "0588ac49",
   "metadata": {},
   "outputs": [],
   "source": [
    "values = q.evaluate(result.best.values)\n",
    "colors = [\"C1\" if value == 1 else \"C0\" for value in values]\n",
    "\n",
    "nx.draw_networkx(G, node_size=600, font_color=\"w\", node_color=colors, pos=pos)"
   ]
  }
 ],
 "metadata": {
  "language_info": {
   "name": "python",
   "pygments_lexer": "ipython3"
  }
 },
 "nbformat": 4,
 "nbformat_minor": 5
}
