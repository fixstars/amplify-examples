{
 "cells": [
  {
   "cell_type": "markdown",
   "id": "e5cd26f9",
   "metadata": {},
   "source": [
    "# Example NP problems published in A. Lucas, *Front. Phys.* (2014) - Maximum clique problem\n",
    "\n",
    "This example code implements the **maximum clique problem** introduced in the paper [A. Lucas, \"Ising formulations of many NP problems\", *Front. Phys.* (2014)](https://www.frontiersin.org/articles/10.3389/fphy.2014.00005/full) using Fixstars Amplify. Other NP-complete and NP-hard problems introduced in the same paper are also discussed below (the corresponding sections in the paper are shown in the brackets).\n",
    "\n",
    "- [Graph partitioning problem](https://amplify.fixstars.com/en/demo/lucas2014_2_2_graph_partitioning) (Sec. 2.2).\n",
    "- **Maximum clique problem** (Sec. 2.3)\n",
    "- [Exact cover problem](https://amplify.fixstars.com/en/demo/lucas2014_4_1_exact_cover) (Sec. 4.1)\n",
    "- [Set packing problem](https://amplify.fixstars.com/en/demo/lucas2014_4_2_set_packing) (Sec. 4.2)\n",
    "- [Minimum vertex cover problem](https://amplify.fixstars.com/en/demo/lucas2014_4_3_vertex_cover) (Sec. 4.3)\n",
    "- [Satisfiability problem (SAT)](https://amplify.fixstars.com/en/demo/lucas2014_4_4_satisfiability) (Sec. 4.4)\n",
    "- [Minimal maximal matching problem](https://amplify.fixstars.com/en/demo/lucas2014_4_5_minimal_maximal_matching) (Sec. 4.5)\n",
    "- [Graph coloring problem](https://amplify.fixstars.com/en/demo/lucas2014_6_1_graph_coloring) (Sec. 6.1)\n",
    "- [Clique cover problem](https://amplify.fixstars.com/en/demo/lucas2014_6_2_clique_cover) (Sec. 6.2)\n",
    "- [Job sequencing problem with integer lengths](https://amplify.fixstars.com/en/demo/lucas2014_6_3_job_sequencing_with_integer_lengths) (Sec. 6.3)\n",
    "- [Hamiltonian cycle problem](https://amplify.fixstars.com/en/demo/lucas2014_7_1_hamiltonian_cycles_and_paths) (Sec. 7.1)\n",
    "- [Directed feedback vertex set problem](https://amplify.fixstars.com/en/demo/lucas2014_8_3_directed_feedback_vertex_set) (Sec. 8.3)\n",
    "- [Minimum feedback edge set problem](https://amplify.fixstars.com/en/demo/lucas2014_8_5_feedback_edge_set) (Sec. 8.5)\n",
    "- [Graph isomorphism problem](https://amplify.fixstars.com/en/demo/lucas2014_9_graph_isomorphisms) (Sec. 9)"
   ]
  },
  {
   "cell_type": "markdown",
   "id": "44dda3e7",
   "metadata": {},
   "source": [
    "## Maximum clique problem\n",
    "\n",
    "For a graph $G$, a subset of the vertices of $G$ such that an edge connects any two vertices in the subset is called a clique. The **maximum clique problem** is to find the clique with the most significant number of elements.\n",
    "\n",
    "For example, all orange vertices in the graph below are connected by edges, so the four orange vertices form a clique.\n",
    "We can also see that there is no clique consisting of 5 vertices since there are only 3 vertices with degrees (the number of edges coming from a vertex) greater than or equal to 4.\n",
    "\n",
    "![Graph](../figures/Lucas2014/clique0.png)\n",
    "\n",
    "This example program uses Fixstars Amplify to solve the maximum clique problem. The formulation follows that of Sec. 2.3 of [A. Lucas, Front. Phys. (2014)](https://www.frontiersin.org/articles/10.3389/fphy.2014.00005/full)."
   ]
  },
  {
   "cell_type": "markdown",
   "id": "02e03ed2",
   "metadata": {},
   "source": [
    "## Problem definition\n",
    "\n",
    "As an example, create a graph $G$ using NetworkX. Since the graph created is the same as the above example graph, the maximum number of elements in the clique is 4, as mentioned above."
   ]
  },
  {
   "cell_type": "code",
   "execution_count": null,
   "id": "8c58b9c6",
   "metadata": {},
   "outputs": [],
   "source": [
    "from matplotlib import pyplot as plt\n",
    "import networkx as nx\n",
    "import numpy as np\n",
    "\n",
    "N = 7  # The number of vertices in the graph\n",
    "G = nx.Graph()\n",
    "G.add_nodes_from(range(N))\n",
    "# Define edges connecting two vertices\n",
    "elist = [\n",
    "    (0, 1),\n",
    "    (0, 6),\n",
    "    (1, 2),\n",
    "    (1, 3),\n",
    "    (1, 4),\n",
    "    (1, 6),\n",
    "    (2, 3),\n",
    "    (3, 4),\n",
    "    (3, 5),\n",
    "    (3, 6),\n",
    "    (4, 6),\n",
    "    (5, 6),\n",
    "]\n",
    "G.add_edges_from(elist)\n",
    "\n",
    "pos = nx.circular_layout(G)\n",
    "\n",
    "nx.draw_networkx(G, node_size=600, font_color=\"w\", pos=pos)"
   ]
  },
  {
   "cell_type": "markdown",
   "id": "96b0bcd4",
   "metadata": {},
   "source": [
    "## Formulation\n",
    "\n",
    "Let $N$ be the number of vertices in $G$ below.\n",
    "\n",
    "### Decision variables\n",
    "\n",
    "\n",
    "Let each of $N$ binary variables $q$ correspond to each vertex to indicate whether it is included in the clique. If the clique includes vertex $i$, $q_i$ is $1$, and if not, $0$.\n",
    "\n",
    "For example, a clique consisting of vertex 1, vertex 3, vertex 4, and vertex 6 as shown in the figure below, is represented as in the table below.\n",
    "\n",
    "![Figure](../figures/Lucas2014/clique1.png)\n",
    "\n",
    "| Index of vertex | 0   | 1   | 2   | 3   | 4   | 5   | 6   |\n",
    "| --------------- | --- | --- | --- | --- | --- | --- | --- |\n",
    "| $q$             | 0   | 1   | 0   | 1   | 1   | 0   | 1   |\n",
    "\n",
    "### Objective function\n",
    "\n",
    "Since the size of the clique should be as large as possible, the objective function is: \n",
    "\n",
    "$$\n",
    "-\\sum_{i = 0}^{N - 1} q_i\n",
    "$$\n",
    "\n",
    "We added the minus sign to make the maximization problem a minimization problem.\n",
    "\n",
    "### Constraints\n",
    "\n",
    "For the binary variable $q$ to correspond to a clique, we must impose the constraint that \"an edge connects every vertex in the clique.\" Using this contraposition, we can rephrase the condition as \"if vertices $u$ and $v$ are not connected by an edge, then at least one of $u$ and $v$ is not contained in the clique.\" We can write the condition as:\n",
    "\n",
    "$$\n",
    "q_uq_v = 0 \\quad\\text{for}\\quad (u, v) \\notin E\n",
    "$$\n",
    "\n",
    "Here, $E$ is the edge set of $G$.\n"
   ]
  },
  {
   "cell_type": "markdown",
   "id": "b2262913",
   "metadata": {},
   "source": [
    "## Implementation\n",
    "\n",
    "Using the problem and formulation created above, let us implement and solve the problem. First, create binary decision variables $q$ using the `BinarySymbolGenerator` in Fixstars Amplify SDK."
   ]
  },
  {
   "cell_type": "code",
   "execution_count": null,
   "id": "bf16cf91",
   "metadata": {},
   "outputs": [],
   "source": [
    "from amplify import BinarySymbolGenerator\n",
    "\n",
    "gen = BinarySymbolGenerator()\n",
    "q = gen.array(N)"
   ]
  },
  {
   "cell_type": "markdown",
   "id": "b637f2c6",
   "metadata": {},
   "source": [
    "Next, create the objective function. As introduced earlier, the objective function equals $-1$ times the number of vertices in the clique and is represented by $-\\sum_{i=0}^{N-1}q_i$."
   ]
  },
  {
   "cell_type": "code",
   "execution_count": null,
   "id": "c495fc17",
   "metadata": {},
   "outputs": [],
   "source": [
    "cost = -q.sum()"
   ]
  },
  {
   "cell_type": "markdown",
   "id": "b15dbde3",
   "metadata": {},
   "source": [
    "Next, we create the constraint condition. As mentioned earlier, the constraint is equivalent to the condition that edges connect all vertices in the clique, and we can express this by its contraposition $q_u q_v = 0 \\ \\left( (u, v) \\notin E\\right)$."
   ]
  },
  {
   "cell_type": "code",
   "execution_count": null,
   "id": "933a3dc9",
   "metadata": {},
   "outputs": [],
   "source": [
    "from amplify.constraint import equal_to\n",
    "\n",
    "constraints = [equal_to(q[u] * q[v], 0) for u, v in nx.non_edges(G)]"
   ]
  },
  {
   "cell_type": "markdown",
   "id": "dd57dc95",
   "metadata": {},
   "source": [
    "Now, we can combine the objective function and constraints constructed above into a logical model."
   ]
  },
  {
   "cell_type": "code",
   "execution_count": null,
   "id": "7a622ce9",
   "metadata": {},
   "outputs": [],
   "source": [
    "model = cost + sum(constraints)"
   ]
  },
  {
   "cell_type": "markdown",
   "id": "4e803d21",
   "metadata": {},
   "source": [
    "Let us define the client and solve the logical model on the Fixstars Amplify Annealing Engine (AE). If the return value of `solve` is not empty, there is a solution that satisfies the constraints."
   ]
  },
  {
   "cell_type": "code",
   "execution_count": null,
   "id": "9119d352",
   "metadata": {},
   "outputs": [],
   "source": [
    "from amplify.client import FixstarsClient\n",
    "from amplify import Solver\n",
    "\n",
    "client = FixstarsClient()\n",
    "# client.token = \"xxxxxxxxxxxxxxxxxxxxxxxxxxxxxxxx\"  # If you use Amplify in a local environment or Google Colaboratory, enter your Amplify API token.\n",
    "client.parameters.timeout = 1000\n",
    "\n",
    "# Define and execute the solver\n",
    "solver = Solver(client)\n",
    "result = solver.solve(model)\n",
    "\n",
    "if len(result) == 0:\n",
    "    print(\"No solution has been found.\")\n",
    "else:\n",
    "    print(\"A solution has been found.\")"
   ]
  },
  {
   "cell_type": "markdown",
   "id": "452c5365",
   "metadata": {},
   "source": [
    "Finally, we visualize the results. Since the problem setup is the same as the graph in the introduction, the maximum clique obtained is also the same. You can try changing the shape of the graph and the number of edges to see if you can correctly obtain the maximum clique."
   ]
  },
  {
   "cell_type": "code",
   "execution_count": null,
   "id": "5cb10c8e",
   "metadata": {},
   "outputs": [],
   "source": [
    "values = q.decode(result[0].values)\n",
    "colors = [\"C1\" if value == 1 else \"C0\" for value in values]\n",
    "nx.draw_networkx(G, node_size=600, node_color=colors, font_color=\"w\", pos=pos)"
   ]
  }
 ],
 "metadata": {
  "language_info": {
   "name": "python",
   "pygments_lexer": "ipython3"
  }
 },
 "nbformat": 4,
 "nbformat_minor": 5
}
