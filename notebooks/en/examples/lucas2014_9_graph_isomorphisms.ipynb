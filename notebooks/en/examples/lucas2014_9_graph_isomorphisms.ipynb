{
 "cells": [
  {
   "cell_type": "markdown",
   "id": "f134bea6",
   "metadata": {},
   "source": [
    "# Example NP problems published in A. Lucas, *Front. Phys.* (2014) - Graph isomorphism problem\n",
    "\n",
    "This example code implements the **graph isomorphism problem** introduced in the paper [A. Lucas, \"Ising formulations of many NP problems\", *Front. Phys.* (2014)](https://www.frontiersin.org/articles/10.3389/fphy.2014.00005/full) using Fixstars Amplify. Other NP-complete and NP-hard problems introduced in the same paper are also discussed below (the corresponding sections in the paper are shown in the brackets).\n",
    "\n",
    "- [Graph partitioning problem](https://amplify.fixstars.com/en/demo/lucas2014_2_2_graph_partitioning) (Sec. 2.2).\n",
    "- [Maximum clique problem](https://amplify.fixstars.com/en/demo/lucas2014_2_3_cliques) (Sec. 2.3)\n",
    "- [Exact cover problem](https://amplify.fixstars.com/en/demo/lucas2014_4_1_exact_cover) (Sec. 4.1)\n",
    "- [Set packing problem](https://amplify.fixstars.com/en/demo/lucas2014_4_2_set_packing) (Sec. 4.2)\n",
    "- [Minimum vertex cover problem](https://amplify.fixstars.com/en/demo/lucas2014_4_3_vertex_cover) (Sec. 4.3)\n",
    "- [Satisfiability problem (SAT)](https://amplify.fixstars.com/en/demo/lucas2014_4_4_satisfiability) (Sec. 4.4)\n",
    "- [Minimum maximum matching problem](https://amplify.fixstars.com/en/demo/lucas2014_4_5_minimal_maximal_matching) (Sec. 4.5)\n",
    "- [Graph coloring problem](https://amplify.fixstars.com/en/demo/lucas2014_6_1_graph_coloring) (Sec. 6.1)\n",
    "- [Clique cover problem](https://amplify.fixstars.com/en/demo/lucas2014_6_2_clique_cover) (Sec. 6.2)\n",
    "- [Job sequencing problem with integer lengths](https://amplify.fixstars.com/en/demo/lucas2014_6_3_job_sequencing_with_integer_lengths) (Sec. 6.3)\n",
    "- [Hamiltonian cycle problem](https://amplify.fixstars.com/en/demo/lucas2014_7_1_hamiltonian_cycles_and_paths) (Sec. 7.1)\n",
    "- [Directed feedback vertex set problem](https://amplify.fixstars.com/en/demo/lucas2014_8_3_directed_feedback_vertex_set) (Sec. 8.3)\n",
    "- [Minimum feedback edge set problem](https://amplify.fixstars.com/en/demo/lucas2014_8_5_feedback_edge_set) (Sec. 8.5)\n",
    "- **Graph isomorphism problem** (Sec. 9)"
   ]
  },
  {
   "cell_type": "markdown",
   "id": "49c39025",
   "metadata": {},
   "source": [
    "## Graph isomorphism problem\n",
    "\n",
    "Two (simple) graphs are **isomorphic** if there is a one-to-one correspondence (isomorphic mapping) between their vertices, and if an edge connects two vertices in one graph, then the two corresponding vertices in the other graph are also connected by an edge.\n",
    "In another way, two graphs are isomorphic if they form the same picture when drawn with their vertices appropriately aligned.\n",
    "\n",
    "In general, when the size of a graph is large, it is difficult to determine in practical time whether two graphs are isomorphic. In this section, we will create a program to search for isomorphic maps using Fixstars Amplify. The formulation of this sample program follows that of Sec. 9 of [A. Lucas, Front. Phys. (2014)](https://www.frontiersin.org/articles/10.3389/fphy.2014.00005/full)."
   ]
  },
  {
   "cell_type": "markdown",
   "id": "3eab0fa2",
   "metadata": {},
   "source": [
    "## Problem definition\n",
    "\n",
    "First, we create example graphs $G_1$ and $G_2$ using NetworkX. At this time, $G_1$ and $G_2$ should be isomorphic."
   ]
  },
  {
   "cell_type": "code",
   "execution_count": null,
   "id": "d5e02c98",
   "metadata": {},
   "outputs": [],
   "source": [
    "import networkx as nx\n",
    "import numpy as np\n",
    "\n",
    "N = 5  # Number of vertices\n",
    "\n",
    "G1 = nx.Graph()\n",
    "G1.add_nodes_from(range(N))\n",
    "elist1 = [(0, 1), (0, 4), (1, 2), (2, 3), (3, 4)]\n",
    "G1.add_edges_from(elist1)\n",
    "\n",
    "pos1 = nx.circular_layout(G1)\n",
    "\n",
    "nx.draw_networkx(G1, node_size=600, font_color=\"w\", pos=pos1)"
   ]
  },
  {
   "cell_type": "code",
   "execution_count": null,
   "id": "b3d2bca6",
   "metadata": {},
   "outputs": [],
   "source": [
    "G2 = nx.Graph()\n",
    "G2.add_nodes_from(range(N))\n",
    "elist2 = [(0, 2), (0, 3), (1, 3), (1, 4), (2, 4)]\n",
    "G2.add_edges_from(elist2)\n",
    "\n",
    "pos2 = nx.circular_layout(G2)\n",
    "\n",
    "nx.draw_networkx(G2, node_size=600, font_color=\"w\", pos=pos2)"
   ]
  },
  {
   "cell_type": "markdown",
   "id": "2eea7b7b",
   "metadata": {},
   "source": [
    "These two graphs are isomorphic maps if they correspond, for example, as shown in the following figure. If a vertex of color A is connected to a vertex of color B by an edge in one graph, then a vertex of color A is connected to a vertex of color B by an edge in the other graph (ignore the numbers on each vertex here for now).\n",
    "\n",
    "![Figure](../figures/Lucas2014/graph_isomorphism0.png)"
   ]
  },
  {
   "cell_type": "markdown",
   "id": "059a6b2c",
   "metadata": {},
   "source": [
    "## Formulation.\n",
    "\n",
    "If $G_1$ and $G_2$ have different numbers of vertices, they are not isomorphic, so below, we consider only the case where $G_1$ and $G_2$ have the same number of vertices. Let $N$ be the number of vertices in $G_1$. Formulate as follows.\n",
    "\n",
    "### Decision variables\n",
    "\n",
    "To represent the correspondence between two graphs, we prepare a binary variable table $q$ of $N\\times N$.\n",
    "When the $i$-th vertex of $G_1$ corresponds to the $j$-th vertex of $G_2$, the $i$ row $j$ column of $q$ should be $1$.\n",
    "\n",
    "For example, comparing the correspondence between the number and color of the vertices connected by edges in $G_1$ and $G_2$ in the figure above, the two graphs corresponded as follows.\n",
    "\n",
    "| Vertices of G1 | Vertices of G2 | Color  |\n",
    "| :------------: | :------------: | :----: |\n",
    "|       0        |       0        |  Blue  |\n",
    "|       1        |       2        | Orange |\n",
    "|       2        |       4        | Green  |\n",
    "|       3        |       1        |  Red   |\n",
    "|       4        |       3        | Purple |\n",
    "\n",
    "\n",
    "Representing this in a table of binary variables $q$, we have the following.\n",
    "\n",
    "\n",
    "| G1 \\ G2 | 0   | 1   | 2   | 3   | 4   |\n",
    "| :-----: | --- | --- | --- | --- | --- |\n",
    "|    0    | 1   | 0   | 0   | 0   | 0   |\n",
    "|    1    | 0   | 0   | 1   | 0   | 0   |\n",
    "|    2    | 0   | 0   | 0   | 0   | 1   |\n",
    "|    3    | 0   | 1   | 0   | 0   | 0   |\n",
    "|    4    | 0   | 0   | 0   | 1   | 0   |\n",
    "\n",
    "### Objective function\n",
    "\n",
    "Since the graph isomorphism problem is to find one that satisfies the conditions, we do not need to consider the objective function.\n",
    "\n",
    "### Constraints\n",
    "\n",
    "For $q$ to represent an isomorphic map, we need the following.\n",
    "\n",
    "* Condition 1: Each vertex of $G_1$ corresponds to one vertex of $G_2$. That is, each row of $q$ has only one $1$.\n",
    "\n",
    "* Condition 2: Each vertex of $G_2$ corresponds to one vertex of $G_1$. That is, each column of $q$ has only one $1$.\n",
    "\n",
    "* Condition 3: If vertices $u$ and $v$ in $G_1$ are connected by an edge, then the $2$ vertices in $G_2$ corresponding to $u$ and $v$ are also connected by an edge.\n",
    "\n",
    "* Condition 4: If vertices $s$ and $t$ in $G_2$ are connected by an edge, then the $2$ vertices of $G_1$ corresponding to $s$ and $t$ are also connected by an edge.\n",
    "\n",
    "The conditions 1 and 2 are\n",
    "\n",
    "\\begin{align*}\n",
    "\\sum_{j = 0}^{N-1} q_{i, j} = 1 \\quad & \\text{for} \\quad i \\in \\{0, 1, \\ldots, N-1\\} \\\\\n",
    "\\sum_{i = 0}^{N-1} q_{i, j} = 1 \\quad & \\text{for} \\quad j \\in \\{0, 1, \\ldots, N-1\\}.\n",
    "\\end{align*}\n",
    "\n",
    "Condition 3 can be reworded as \"if the vertices $u$ and $v$ of $G_1$ are connected by an edge and the vertices $s$ and $t$ of $G_2$ are not connected by an edge, $u$ and $s$ and $v$ and $t$ must not correspond to each other\". Thus, this condition can be\n",
    "\n",
    "$$\n",
    "q_{u, s} q_{v, t} = 0 \\quad \\text{for} \\quad (u\\rightarrow v) \\in E_1, (s\\rightarrow t) \\notin E_2.\n",
    "$$\n",
    "\n",
    "Here, $E_1$ and $E_2$ are the edge sets of $G_1$ and $G_2$, respectively.\n",
    "\n",
    "Similarly, the condition 4 is\n",
    "\n",
    "$$\n",
    "q_{u, s} q_{v, t} = 0 \\quad \\text{for} \\quad (u\\rightarrow v) \\notin E_1, (s\\rightarrow t) \\in E_2.\n",
    "$$\n",
    "\n",
    "If the conditions 1-4 hold, then graphs $G_1$ and $G_2$ are isomorphic. The above completes the formulation of the graph isomorphism problem."
   ]
  },
  {
   "cell_type": "markdown",
   "id": "ff0f3507",
   "metadata": {},
   "source": [
    "## Implementation\n",
    "\n",
    "Using the problem and formulation described above, let us implement and solve the problem. First, we create binary decision variables $q$ with `BinarySymbolGenerator`."
   ]
  },
  {
   "cell_type": "code",
   "execution_count": null,
   "id": "b1dc3d83",
   "metadata": {},
   "outputs": [],
   "source": [
    "from amplify import BinarySymbolGenerator\n",
    "\n",
    "gen = BinarySymbolGenerator()\n",
    "q = gen.array(N, N)"
   ]
  },
  {
   "cell_type": "markdown",
   "id": "b1fdf571",
   "metadata": {},
   "source": [
    "Next, we create the constraints corresponding to the conditions 1 and 2. Since these are conditions that there is only one $1$ in each row and column of $q$, we can construct them using `one_hot`."
   ]
  },
  {
   "cell_type": "code",
   "execution_count": null,
   "id": "6ab16a5a",
   "metadata": {},
   "outputs": [],
   "source": [
    "from amplify.constraint import one_hot\n",
    "\n",
    "constraint1 = [one_hot(q[i, :]) for i in range(N)]\n",
    "constraint2 = [one_hot(q[:, j]) for j in range(N)]"
   ]
  },
  {
   "cell_type": "markdown",
   "id": "4ffcac70",
   "metadata": {},
   "source": [
    "We create the corresponding constraints for conditions 3 and 4. The condition 3 is the constraint $q_{u, s} q_{v, t} = 0 \\bigl((u\\rightarrow v) \\in E_1, (s\\rightarrow t) \\notin E_2 \\bigr)$ and the condition 4 is the replacement of $G_1$ and $G_2$ in the condition 3."
   ]
  },
  {
   "cell_type": "code",
   "execution_count": null,
   "id": "455e4e3c",
   "metadata": {},
   "outputs": [],
   "source": [
    "from amplify.constraint import equal_to\n",
    "\n",
    "G1_edges = list(G1.edges) + [\n",
    "    (v, u) for (u, v) in G1.edges\n",
    "]  # Both of edges (u, v) and (v, u) are considered\n",
    "G1_not_edges = [(u, v) for u in range(N) for v in range(N) if (u, v) not in G1_edges]\n",
    "G2_edges = list(G2.edges) + [\n",
    "    (t, s) for (s, t) in G2.edges\n",
    "]  # Both of edges (u, v) and (v, u) are considered\n",
    "G2_not_edges = [(s, t) for s in range(N) for t in range(N) if (s, t) not in G2_edges]\n",
    "\n",
    "constraint3 = [\n",
    "    equal_to(q[u, s] * q[v, t], 0) for (u, v) in G1_edges for (s, t) in G2_not_edges\n",
    "]\n",
    "constraint4 = [\n",
    "    equal_to(q[u, s] * q[v, t], 0) for (u, v) in G1_not_edges for (s, t) in G2_edges\n",
    "]"
   ]
  },
  {
   "cell_type": "markdown",
   "id": "7b90c6c1",
   "metadata": {},
   "source": [
    "The created constraints are converted into a logical model. You do not need to convert them explicitly using `BinaryQuadraticModel` because it is done implicitly by the solver class `Solver`. Therefore, the following implementation:\n",
    "\n",
    "> ```python\n",
    "> model = sum(constraint1) + sum(constraint2) + sum(constraint3) + sum(constraint4)\n",
    "> ```\n",
    "\n",
    "does this conversion. However, if you explicitly convert to a logic model by using `BinaryQuadraticModel`, you can check the internal representation of the logical model and its internal state before solving."
   ]
  },
  {
   "cell_type": "code",
   "execution_count": null,
   "id": "4a828d5e",
   "metadata": {},
   "outputs": [],
   "source": [
    "from amplify import BinaryQuadraticModel\n",
    "\n",
    "model = BinaryQuadraticModel(\n",
    "    sum(constraint1) + sum(constraint2) + sum(constraint3) + sum(constraint4)\n",
    ")"
   ]
  },
  {
   "cell_type": "markdown",
   "id": "a4bd3bd3",
   "metadata": {},
   "source": [
    "Configure the client and execute the solver on the Amplify Annealing Engine (AE)."
   ]
  },
  {
   "cell_type": "code",
   "execution_count": null,
   "id": "a5c916d3",
   "metadata": {},
   "outputs": [],
   "source": [
    "from amplify.client import FixstarsClient\n",
    "from amplify import Solver\n",
    "\n",
    "client = FixstarsClient()\n",
    "# client.token = \"xxxxxxxxxxxxxxxxxxxxxxxxxxxxxxxx\"  # If you use Amplify in a local environment or Google Colaboratory, enter your Amplify API token.\n",
    "client.parameters.timeout = 1000\n",
    "\n",
    "# Define and  execute the solver\n",
    "solver = Solver(client)\n",
    "result = solver.solve(model)"
   ]
  },
  {
   "cell_type": "markdown",
   "id": "ec3dbb0a",
   "metadata": {},
   "source": [
    "Let us check whether we found the isomorphic mapping. Since `Solver` automatically filters the solutions that satisfy the constraints, if the `result` is not empty, you know that a solution has been found that satisfies the constraints."
   ]
  },
  {
   "cell_type": "code",
   "execution_count": null,
   "id": "7f3d42cf",
   "metadata": {},
   "outputs": [],
   "source": [
    "if len(result) == 0:\n",
    "    print(\"No isomorphic mapping has been found.\")\n",
    "else:\n",
    "    print(\"The isomorphic mapping has been found.\")"
   ]
  },
  {
   "cell_type": "markdown",
   "id": "0d2623c3",
   "metadata": {},
   "source": [
    "Lastly, the corresponding vertices of two graphs that are isomorphic maps are displayed in the same color."
   ]
  },
  {
   "cell_type": "code",
   "execution_count": null,
   "id": "db79d372",
   "metadata": {},
   "outputs": [],
   "source": [
    "import matplotlib.pyplot as plt\n",
    "\n",
    "values = q.decode(result[0].values)\n",
    "\n",
    "# Vertex \"i\" in G1 corresponds to vertex \"vertex_map[i]\" in G2\n",
    "vertex_map = np.where(values == 1)[1]\n",
    "\n",
    "colors = np.array([f\"C{i}\" for i in range(N)])\n",
    "\n",
    "# Let the i-th vertex of G2 be painted with the i-th color\n",
    "colors2 = colors\n",
    "# Paint the i-th vertex of G1 with the same color as the \"vertex_map[i]\"-th vertex of G2\n",
    "colors1 = colors[vertex_map]\n",
    "\n",
    "# Visualize\n",
    "fig, ax = plt.subplots(nrows=1, ncols=2, figsize=(12, 4))\n",
    "\n",
    "nx.draw_networkx(\n",
    "    G1, node_size=600, node_color=colors1, font_color=\"w\", pos=pos1, ax=ax[0]\n",
    ")\n",
    "nx.draw_networkx(\n",
    "    G2, node_size=600, node_color=colors2, font_color=\"w\", pos=pos2, ax=ax[1]\n",
    ")"
   ]
  }
 ],
 "metadata": {
  "language_info": {
   "name": "python",
   "pygments_lexer": "ipython3"
  }
 },
 "nbformat": 4,
 "nbformat_minor": 5
}
