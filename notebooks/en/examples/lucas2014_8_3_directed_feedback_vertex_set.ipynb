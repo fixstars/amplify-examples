{
 "cells": [
  {
   "cell_type": "markdown",
   "id": "4c3cfa00",
   "metadata": {},
   "source": [
    "# Example NP problems published in A. Lucas, *Front. Phys.* (2014) - Directed feedback vertex set problem\n",
    "\n",
    "This example code implements the **directed feedback vertex set problem** introduced in the paper [A. Lucas, \"Ising formulations of many NP problems\", *Front. Phys.* (2014)](https://www.frontiersin.org/articles/10.3389/fphy.2014.00005/full) using Fixstars Amplify. Other NP-complete and NP-hard problems introduced in the same paper are also discussed below (the corresponding sections in the paper are shown in the brackets).\n",
    "\n",
    "- [Graph partitioning problem](https://amplify.fixstars.com/en/demo/lucas2014_2_2_graph_partitioning) (Sec. 2.2).\n",
    "- [Maximum clique problem](https://amplify.fixstars.com/en/demo/lucas2014_2_3_cliques) (Sec. 2.3)\n",
    "- [Exact cover problem](https://amplify.fixstars.com/en/demo/lucas2014_4_1_exact_cover) (Sec. 4.1)\n",
    "- [Set packing problem](https://amplify.fixstars.com/en/demo/lucas2014_4_2_set_packing) (Sec. 4.2)\n",
    "- [Minimum vertex cover problem](https://amplify.fixstars.com/en/demo/lucas2014_4_3_vertex_cover) (Sec. 4.3)\n",
    "- [Satisfiability problem (SAT)](https://amplify.fixstars.com/en/demo/lucas2014_4_4_satisfiability) (Sec. 4.4)\n",
    "- [Minimum maximum matching problem](https://amplify.fixstars.com/en/demo/lucas2014_4_5_minimal_maximal_matching) (Sec. 4.5)\n",
    "- [Graph coloring problem](https://amplify.fixstars.com/en/demo/lucas2014_6_1_graph_coloring) (Sec. 6.1)\n",
    "- [Clique cover problem](https://amplify.fixstars.com/en/demo/lucas2014_6_2_clique_cover) (Sec. 6.2)\n",
    "- [Job sequencing problem with integer lengths](https://amplify.fixstars.com/en/demo/lucas2014_6_3_job_sequencing_with_integer_lengths) (Sec. 6.3)\n",
    "- [Hamiltonian cycle problem](https://amplify.fixstars.com/en/demo/lucas2014_7_1_hamiltonian_cycles_and_paths) (Sec. 7.1)\n",
    "- **Directed feedback vertex set problem** (Sec. 8.3)\n",
    "- [Minimum feedback edge set problem](https://amplify.fixstars.com/en/demo/lucas2014_8_5_feedback_edge_set) (Sec. 8.5)\n",
    "- [Graph isomorphism problem](https://amplify.fixstars.com/en/demo/lucas2014_9_graph_isomorphisms) (Sec. 9)"
   ]
  },
  {
   "cell_type": "markdown",
   "id": "c612b47a",
   "metadata": {},
   "source": [
    "## Directed feedback vertex set problem\n",
    "\n",
    "Given a directed graph $G$, a subset $F$ of the vertices of $G$ such that any closed path in $G$ passes through at least $1$ vertices in $F$ is called a **directed feedback vertex set**.\n",
    "\n",
    "In other words, $F$ is a directed feedback vertex set of $G$ if it is impossible to start from a vertex not contained in $F$ and return to the original vertex only through vertices not included in $F$.\n",
    "\n",
    "For example, in the graph below, the subset of vertices shown in orange is one of the directed feedback vertex sets.\n",
    "\n",
    "![Directed feedback vertex set](../figures/Lucas2014/feedback_vertex_ex.png)\n",
    "\n",
    "**The directed feedback vertex set problem** is the problem of finding the feedback vertex set for a directed graph $G$, which has the minimum number of elements. The formulation of this example program follows that of Sec. 8.3 of [A. Lucas, Front. Phys. (2014)](https://www.frontiersin.org/articles/10.3389/fphy.2014.00005/full)."
   ]
  },
  {
   "cell_type": "markdown",
   "id": "0b769d68",
   "metadata": {},
   "source": [
    "## Problem definition\n",
    "\n",
    "First, we create a directed graph $G$ using NetworkX as the feedback vertex set problem we will solve in this example program."
   ]
  },
  {
   "cell_type": "code",
   "execution_count": null,
   "id": "994c52cf",
   "metadata": {},
   "outputs": [],
   "source": [
    "import networkx as nx\n",
    "\n",
    "N = 8  # Number of vertices of the graph G\n",
    "G = nx.DiGraph()\n",
    "G.add_nodes_from(range(N))\n",
    "\n",
    "edge_list = [\n",
    "    (0, 1),\n",
    "    (1, 2),\n",
    "    (2, 3),\n",
    "    (3, 4),\n",
    "    (4, 5),\n",
    "    (5, 6),\n",
    "    (6, 7),\n",
    "    (7, 0),\n",
    "    (4, 2),\n",
    "    (7, 1),\n",
    "    (7, 5),\n",
    "]\n",
    "G.add_edges_from(edge_list)\n",
    "\n",
    "node_labels = {\n",
    "    0: \"a\",\n",
    "    1: \"b\",\n",
    "    2: \"c\",\n",
    "    3: \"d\",\n",
    "    4: \"e\",\n",
    "    5: \"f\",\n",
    "    6: \"g\",\n",
    "    7: \"h\",\n",
    "}\n",
    "pos = nx.circular_layout(G)  # Save the layout of the graph G\n",
    "\n",
    "nx.draw_networkx(G, node_size=600, font_color=\"w\", labels=node_labels, pos=pos)"
   ]
  },
  {
   "cell_type": "markdown",
   "id": "d3705e2d",
   "metadata": {},
   "source": [
    "It is easy to see that the graph created by removing the vertices $e$ and $f$ from $G$ has no closed path. That is, $\\{e, f\\}$ is a feedback vertex set of $G$.\n",
    "\n",
    "Also, since the closed path $c\\rightarrow d\\rightarrow e\\rightarrow c$ and the closed path $f\\rightarrow g\\rightarrow h\\rightarrow f$ have no common part, the number of elements in the feedback vertex set of $G$ is at least $2$. Therefore, for this problem, the minimum number of elements in the feedback vertex set of $G$ is $2$."
   ]
  },
  {
   "cell_type": "markdown",
   "id": "257c7297",
   "metadata": {},
   "source": [
    "## Formulation\n",
    "\n",
    "### Formulation guidelines\n",
    "\n",
    "In the following, let $N$ be the number of vertices in $G$.\n",
    "\n",
    "First, we will associate $N$ binary variables $y$ with each vertex to indicate whether a feedback vertex set $F$ includes the vertex. The binary variable is $0$ if the vertex is included in $F$ and $1$ if not.\n",
    "\n",
    "Next, the condition \"the subgraph $H$ of $G$ consisting of vertices not included in $F$ has no closed path\", which is a paraphrase of the main problem, is further paraphrased into the condition \"if we number the vertices of $H$ appropriately, we can make every directed edge of $H$ goes from a vertex with a small number to one with a large number\" (proof: $\\Rightarrow$ is straightforward, $\\Leftarrow$ is via topological sorting).\n",
    "\n",
    "This numbering can be expressed by using a binary variable table $x$ of $N\\times N$ and setting the binary variable in the $v$ row $i$ column to $1$ when the number of vertex $v$ is $i$.\n",
    "\n",
    "For example, the problem created above has the following graph.\n",
    "\n",
    "![above graph](../figures/Lucas2014/feedback_vertex_set0.png)\n",
    "\n",
    "If each vertex of this graph is colored and numbered as follows, the two orange points $e$ and $f$ are the feedback vertex set, and the edge connecting the blue vertices goes out from the smallest numbered vertex to the largest.\n",
    "\n",
    "![colored graph](../figures/Lucas2014/feedback_vertex_set1.png)\n",
    "\n",
    "The table below shows the binary variables $y$ and $x$ corresponding to this way of selecting a feedback vertex set and numbering the edges. Here, all rows of $x$ corresponding to vertices in the feedback vertex set are assumed to be $0$.\n",
    "\n",
    "|     | a   | b   | c   | d   | e   | f   | g   | h   |\n",
    "| --- | --- | --- | --- | --- | --- | --- | --- | --- |\n",
    "| $y$ | 1   | 1   | 1   | 1   | 0   | 0   | 1   | 1   |\n",
    "\n",
    "<br/>\n",
    "\n",
    "| $$x$$ | 0   | 1   | 2   | 3   | 4   | 5   | 6   | 7   |\n",
    "| ----- | --- | --- | --- | --- | --- | --- | --- | --- |\n",
    "| a     | 0   | 0   | 1   | 0   | 0   | 0   | 0   | 0   |\n",
    "| b     | 0   | 0   | 0   | 1   | 0   | 0   | 0   | 0   |\n",
    "| c     | 0   | 0   | 0   | 0   | 1   | 0   | 0   | 0   |\n",
    "| d     | 0   | 0   | 0   | 0   | 0   | 1   | 0   | 0   |\n",
    "| e     | 0   | 0   | 0   | 0   | 0   | 0   | 0   | 0   |\n",
    "| f     | 0   | 0   | 0   | 0   | 0   | 0   | 0   | 0   |\n",
    "| g     | 1   | 0   | 0   | 0   | 0   | 0   | 0   | 0   |\n",
    "| h     | 0   | 1   | 0   | 0   | 0   | 0   | 0   | 0   |"
   ]
  },
  {
   "cell_type": "markdown",
   "id": "b03937e1",
   "metadata": {},
   "source": [
    "### Objective function\n",
    "\n",
    "Since the number of elements in the feedback vertex set should be as small as possible, the objective function is:\n",
    "\n",
    "$$\n",
    "\\displaystyle -\\sum_{v=0}^{N-1} y_v,\n",
    "$$\n",
    "\n",
    "Note that $y_v$ is $0$ if the feedback vertex set includes the vertex $v$ and $1$ otherwise.\n",
    "\n",
    "### Constraints\n",
    "\n",
    "For $y$ and $x$ to represent the feedback vertex set, we need the following.\n",
    "\n",
    "* Condition 1: Vertices not included in $F$ are numbered $1$. That is, the row $v$ of $x$ are all $0$ if the feedback vertex set includes $v$, and it yields a single $1$ otherwise.\n",
    "\n",
    "* Condition 2: For an edge $u\\rightarrow v$ of $G$, if $u$ and $v$ are not both in the feedback vertex set, then the number of $u$ is less than the number of $v$. That is, $x_{u, j}$ and $x_{v, i}$ must not both be $1$ for natural numbers $i \\leq j$ at this time (note: $x_{u, \\underline{i}}$ and $x_{v, \\underline{j}}$ may both be $1$).\n",
    "\n",
    "The condition 1 is:\n",
    "$$\n",
    "    \\sum_{i=0}^{N-1} x_{v, i} = y_v \\quad \\text{for} \\quad v \\in \\{0, 1, \\ldots, N-1\\}.\n",
    "$$\n",
    "\n",
    "Also, from condition 1, if the feedback vertex set includes either $u$ or $v$, then $x_{u, j}$ and $x_{v, i}$ cannot both be $1$, so the condition \"$u$ and $v$ are not both included in the feedback vertex set\" in the condition 2 is naturally considered. Therefore, condition 2 is satisfied by the following equation.\n",
    "\n",
    "$$\n",
    "    x_{u, j} x_{v, i} = 0 \\quad \\text{for} \\quad (u, v) \\in E, \\ 0 \\leq i \\leq j < N.\n",
    "$$\n",
    "\n",
    "Conversely, when the binary variables $y$ and $x$ satisfy conditions 1 and 2, the set of vertices whose corresponding $y$ is $y=0$ is the feedback vertex set, so these can be given as the constraint conditions."
   ]
  },
  {
   "cell_type": "markdown",
   "id": "f3c14d9d",
   "metadata": {},
   "source": [
    "## Implementation\n",
    "\n",
    "Using the problem and formulation described above, let us implement and solve the problem. First, use `BinarySymbolGenerator` in Fixstars Amplify SDK to create the binary variables $y$ and $x$."
   ]
  },
  {
   "cell_type": "code",
   "execution_count": null,
   "id": "d60424db",
   "metadata": {},
   "outputs": [],
   "source": [
    "from amplify import VariableGenerator\n",
    "\n",
    "gen = VariableGenerator()\n",
    "y = gen.array(\"Binary\", shape=(N,))\n",
    "x = gen.array(\"Binary\", shape=(N, N))"
   ]
  },
  {
   "cell_type": "markdown",
   "id": "ab087728",
   "metadata": {},
   "source": [
    "Next, we create the objective function $\\displaystyle -\\sum_v y_v$."
   ]
  },
  {
   "cell_type": "code",
   "execution_count": null,
   "id": "e173eb4e",
   "metadata": {},
   "outputs": [],
   "source": [
    "cost = -y.sum()"
   ]
  },
  {
   "cell_type": "markdown",
   "id": "ec996337",
   "metadata": {},
   "source": [
    "Then, let us construct the constraint corresponding to the condition 1. Condition 1 represents that each vertex not included in $F$ is numbered, and we can rephrase this condition as the sum of each row of $x$ equals each element of $y$, as mentioned earlier.\n",
    "\n",
    "First, we create a one-dimensional array representing the difference between the sum of each row of $x$ and each element of $y$. Then, by specifying an empty tuple in the `axis` parameter of the `equal_to` function, we can generate constraints at once such that each element of this one-dimensional array is equal to 0."
   ]
  },
  {
   "cell_type": "code",
   "execution_count": null,
   "id": "a43360a9",
   "metadata": {},
   "outputs": [],
   "source": [
    "from amplify import equal_to\n",
    "\n",
    "diff = x.sum(axis=1) - y\n",
    "constraint1 = equal_to(diff, 0, axis=())"
   ]
  },
  {
   "cell_type": "markdown",
   "id": "6dbf93d4",
   "metadata": {},
   "source": [
    "Next, we create the constraint corresponding to the condition 2. The condition 2 is the constraint $x_{u, j} x_{v, i} = 0 \\bigl((u, v) \\in E, \\ 0 \\leq i \\leq j < N\\bigr)$."
   ]
  },
  {
   "cell_type": "code",
   "execution_count": null,
   "id": "1fa048c4",
   "metadata": {},
   "outputs": [],
   "source": [
    "from amplify import sum as amplify_sum\n",
    "\n",
    "constraint2 = amplify_sum(\n",
    "    equal_to(x[u, j] * x[v, i], 0)\n",
    "    for u, v in G.edges\n",
    "    for i in range(N)\n",
    "    for j in range(i, N)\n",
    ")"
   ]
  },
  {
   "cell_type": "markdown",
   "id": "5ae578b1",
   "metadata": {},
   "source": [
    "Now, we can combine the objective function and the constraints into a QUBO model.\n",
    "\n",
    "Since the constraints are given to the Ising machine as penalty functions on the objective function, we determine the weights of the constraints by estimating values that are approximately equal to or slightly greater than the possible values of the objective function. In this case, the constraint weights are set to $2$."
   ]
  },
  {
   "cell_type": "code",
   "execution_count": null,
   "id": "d972c831",
   "metadata": {},
   "outputs": [],
   "source": [
    "model = cost + (constraint1 + constraint2) * 2"
   ]
  },
  {
   "cell_type": "markdown",
   "id": "6383de72",
   "metadata": {},
   "source": [
    "Let us set the client and execute the solver with Fixstars Amplify Annealing Engine (AE). Since Amplify SDK automatically filters the solutions that satisfy the constraints, if the `result` is not empty, you know that a solution has been found that satisfies the constraints."
   ]
  },
  {
   "cell_type": "code",
   "execution_count": null,
   "id": "1d72d676",
   "metadata": {},
   "outputs": [],
   "source": [
    "from amplify import FixstarsClient, solve\n",
    "from datetime import timedelta\n",
    "\n",
    "client = FixstarsClient()\n",
    "# client.token = \"xxxxxxxxxxxxxxxxxxxxxxxxxxxxxxxx\"  # If you use Amplify in a local environment or Google Colaboratory, enter your Amplify API token.\n",
    "client.parameters.timeout = timedelta(milliseconds=1000)  # timeout is 1000 ms\n",
    "\n",
    "# Solve the problem\n",
    "result = solve(model, client)\n",
    "\n",
    "if len(result) == 0:\n",
    "    print(\"No solution has been found.\")\n",
    "else:\n",
    "    print(\"A solution has been found.\")"
   ]
  },
  {
   "cell_type": "markdown",
   "id": "2ae07dfd",
   "metadata": {},
   "source": [
    "Lastly, we will visualize the solution."
   ]
  },
  {
   "cell_type": "code",
   "execution_count": null,
   "id": "441e64f4",
   "metadata": {},
   "outputs": [],
   "source": [
    "import numpy as np\n",
    "\n",
    "values = result.best.values\n",
    "y_values = y.evaluate(values)\n",
    "x_values = x.evaluate(values)\n",
    "\n",
    "numbering = {v: \"\" for v in G.nodes}\n",
    "numbering.update(dict(np.argwhere(x_values == 1)))\n",
    "\n",
    "colors = [\"C0\" if v == 1 else \"C1\" for v in y_values]\n",
    "\n",
    "nx.draw_networkx(\n",
    "    G, node_size=600, node_color=colors, font_color=\"w\", labels=numbering, pos=pos\n",
    ")"
   ]
  }
 ],
 "metadata": {
  "language_info": {
   "name": "python",
   "pygments_lexer": "ipython3"
  }
 },
 "nbformat": 4,
 "nbformat_minor": 5
}
