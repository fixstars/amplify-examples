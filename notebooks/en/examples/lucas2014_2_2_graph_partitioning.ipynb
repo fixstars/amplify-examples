{
 "cells": [
  {
   "cell_type": "markdown",
   "id": "bb1f54db",
   "metadata": {},
   "source": [
    "# Example NP problems published in A. Lucas, *Front. Phys.* (2014) - Graph partitioning problem\n",
    "\n",
    "This example code implements the **Graph partitioning problem** introduced in the paper [A. Lucas, \"Ising formulations of many NP problems\", *Front. Phys.* (2014)](https://www.frontiersin.org/articles/10.3389/fphy.2014.00005/full) using Fixstars Amplify. Other NP-complete and NP-hard problems introduced in the same paper are also discussed below (the corresponding sections in the paper are shown in the brackets).\n",
    "\n",
    "- **Graph partitioning problem** (Sec. 2.2).\n",
    "- [Maximum clique problem](https://amplify.fixstars.com/en/demo/lucas2014_2_3_cliques) (Sec. 2.3)\n",
    "- [Exact cover problem](https://amplify.fixstars.com/en/demo/lucas2014_4_1_exact_cover) (Sec. 4.1)\n",
    "- [Set packing problem](https://amplify.fixstars.com/en/demo/lucas2014_4_2_set_packing) (Sec. 4.2)\n",
    "- [Minimum vertex cover problem](https://amplify.fixstars.com/en/demo/lucas2014_4_3_vertex_cover) (Sec. 4.3)\n",
    "- [Satisfiability problem (SAT)](https://amplify.fixstars.com/en/demo/lucas2014_4_4_satisfiability) (Sec. 4.4)\n",
    "- [Minimal maximal matching problem](https://amplify.fixstars.com/en/demo/lucas2014_4_5_minimal_maximal_matching) (Sec. 4.5)\n",
    "- [Graph coloring problem](https://amplify.fixstars.com/en/demo/lucas2014_6_1_graph_coloring) (Sec. 6.1)\n",
    "- [Clique cover problem](https://amplify.fixstars.com/en/demo/lucas2014_6_2_clique_cover) (Sec. 6.2)\n",
    "- [Job sequencing problem with integer lengths](https://amplify.fixstars.com/en/demo/lucas2014_6_3_job_sequencing_with_integer_lengths) (Sec. 6.3)\n",
    "- [Hamiltonian cycle problem](https://amplify.fixstars.com/en/demo/lucas2014_7_1_hamiltonian_cycles_and_paths) (Sec. 7.1)\n",
    "- [Directed feedback vertex set problem](https://amplify.fixstars.com/en/demo/lucas2014_8_3_directed_feedback_vertex_set) (Sec. 8.3)\n",
    "- [Minimum feedback edge set problem](https://amplify.fixstars.com/en/demo/lucas2014_8_5_feedback_edge_set) (Sec. 8.5)\n",
    "- [Graph isomorphism problem](https://amplify.fixstars.com/en/demo/lucas2014_9_graph_isomorphisms) (Sec. 9)\n"
   ]
  },
  {
   "cell_type": "markdown",
   "id": "6c38629a",
   "metadata": {},
   "source": [
    "## Graph partitioning problem\n",
    "\n",
    "Given a graph $G$ with $2N$ vertices, the **graph partitioning problem** is to find a way to partition $G$ into two sets of $N$ vertices each, such that the number of edges of $G$ connecting $2$ points belonging to different sets is minimized.\n",
    "\n",
    "For example, in the following graph, if we partition the 8 vertices into a set of 4 orange vertices and a set of 4 blue vertices, there are 2 edges connecting the blue and orange vertices. It is also easy to see that this partition is the optimal solution.\n",
    "\n",
    "\n",
    "![Graph](../figures/Lucas2014/graph_partition0.png)\n",
    "\n",
    "\n",
    "This example program uses Fixstars Amplify to solve the graph partitioning problem. The formulation follows that of Sec. 2.2 of [A. Lucas, Front. Phys. (2014)](https://www.frontiersin.org/articles/10.3389/fphy.2014.00005/full)."
   ]
  },
  {
   "cell_type": "markdown",
   "id": "c6e435a4",
   "metadata": {},
   "source": [
    "## Problem definition\n",
    "\n",
    "First, as an example, create a graph $G$ with $2N$ vertices using NetworkX."
   ]
  },
  {
   "cell_type": "code",
   "execution_count": null,
   "id": "1bf66774",
   "metadata": {},
   "outputs": [],
   "source": [
    "import networkx as nx\n",
    "import numpy as np\n",
    "\n",
    "N = 4  # Half the number of vertices in the graph\n",
    "G = nx.Graph()\n",
    "G.add_nodes_from(range(2 * N))\n",
    "# Define edges connecting two vertices\n",
    "elist = [(0, 1), (0, 2), (1, 2), (2, 3), (3, 4), (3, 5), (3, 6), (4, 5), (5, 6), (6, 7)]\n",
    "G.add_edges_from(elist)\n",
    "\n",
    "pos = nx.circular_layout(G)\n",
    "\n",
    "nx.draw_networkx(G, node_size=300, font_color=\"w\", pos=pos)"
   ]
  },
  {
   "cell_type": "markdown",
   "id": "22fa05b9",
   "metadata": {},
   "source": [
    "## Formulation\n",
    "\n",
    "### Decision variables \n",
    "\n",
    "Let each of $2N$ binary variables $q$ correspond to each vertex in $G$ to indicate which set each vertex belongs to. For example, if $q=0$ is the vertex set denoted by blue and $q=1$ is the vertex set denoted by orange, the binary variable combinations corresponding to the partitioning in the figure below are shown in the table below.\n",
    "\n",
    "![図](../figures/Lucas2014/graph_partition1.png)\n",
    "\n",
    "| Index of vertex | 0   | 1   | 2   | 3   | 4   | 5   | 6   | 7   |\n",
    "| --------------- | --- | --- | --- | --- | --- | --- | --- | --- |\n",
    "| $q$             | 0   | 0   | 0   | 1   | 1   | 1   | 1   | 0   |\n",
    "\n",
    "### Objective function\n",
    "\n",
    "To solve the graph partitioning problem, we can determine the value of the decision variable $q$ so as to minimize the number of edges connecting vertices belonging to different sets.\n",
    "\n",
    "For vertices $u$ and $v$ of $G$ to belong to different sets, the exclusive OR (xor) of $q_u$ and $q_v$ must be 1, which is expressed as $-2q_u q_v + q_u + q_v$ in quadratic form. Among all pairs $(u, v)$ of vertices connected by edges, the objective function is the minimum number of $(u, v)$ where $u$ and $v$ belong to different sets. Therefore, the objective function is:\n",
    "\n",
    "$$\n",
    "\\sum_{(u, v) \\in E} \\operatorname{xor}(q_u, q_v) = \\sum_{(u, v) \\in E} -2q_uq_v + q_u + q_v.\n",
    "$$\n",
    "\n",
    "### Constraints\n",
    "\n",
    "For the partition of the vertex set of $G$ represented by the decision variable $q$ to be two sets consisting of $N$ vertices,\n",
    "it is necessary and sufficient that there are $N$ binary variables, which are $0$ and $1$, respectively. Therefore, the sum of $q_i$ is $N$:\n",
    "\n",
    "$$\n",
    "\\sum_{i = 0}^{2N-1}q_i = N.\n",
    "$$\n"
   ]
  },
  {
   "cell_type": "markdown",
   "id": "2cebdd31",
   "metadata": {},
   "source": [
    "## Implementation\n",
    "\n",
    "With the problem and formulation described above, let's implement and solve the problem. First, create binary decision variables $q$ using the `BinarySymbolGenerator` in the Fixstars Amplify SDK."
   ]
  },
  {
   "cell_type": "code",
   "execution_count": null,
   "id": "cd00c2ec",
   "metadata": {},
   "outputs": [],
   "source": [
    "from amplify import BinarySymbolGenerator\n",
    "\n",
    "gen = BinarySymbolGenerator()\n",
    "q = gen.array(2 * N)"
   ]
  },
  {
   "cell_type": "markdown",
   "id": "fcbd6777",
   "metadata": {},
   "source": [
    "Next, we create the objective function $\\sum_{(u, v) \\in E} \\operatorname{xor}(q_u, q_v)$. The logical operator, `q[u] ^ q[v]`, is overloaded for the binary decision variables in Fixstars Amplify SDK, and $\\operatorname{ xor}(q_u, q_v)$ is computed to take the same value as a second-order polynomial ($-2q_uq_v + q_u + q_v$)."
   ]
  },
  {
   "cell_type": "code",
   "execution_count": null,
   "id": "e30fadc8",
   "metadata": {},
   "outputs": [],
   "source": [
    "cost = sum([q[u] ^ q[v] for u, v in G.edges])"
   ]
  },
  {
   "cell_type": "markdown",
   "id": "5dd72ffd",
   "metadata": {},
   "source": [
    "Next, we create a constraint condition. As mentioned above, the constraint condition is that the sum of the $2N$ binary decision variables is exactly $N$."
   ]
  },
  {
   "cell_type": "code",
   "execution_count": null,
   "id": "1edcfeeb",
   "metadata": {},
   "outputs": [],
   "source": [
    "from amplify.constraint import equal_to\n",
    "\n",
    "constraint = equal_to(q, N)"
   ]
  },
  {
   "cell_type": "markdown",
   "id": "9b626140",
   "metadata": {},
   "source": [
    "Let us combine the created objective function and constraints into a logical model.\n"
   ]
  },
  {
   "cell_type": "code",
   "execution_count": null,
   "id": "46a45ada",
   "metadata": {},
   "outputs": [],
   "source": [
    "model = cost + constraint"
   ]
  },
  {
   "cell_type": "markdown",
   "id": "e692e723",
   "metadata": {},
   "source": [
    "Now, we define the client and solve the logical model on the Fixstars Amplify Annealing Engine (AE). If the return value of `solve` is not empty, there is a solution that satisfies the constraints."
   ]
  },
  {
   "cell_type": "code",
   "execution_count": null,
   "id": "a13d124f",
   "metadata": {},
   "outputs": [],
   "source": [
    "from amplify.client import FixstarsClient\n",
    "from amplify import Solver\n",
    "\n",
    "client = FixstarsClient()\n",
    "# client.token = \"xxxxxxxxxxxxxxxxxxxxxxxxxxxxxxxx\"  # If you use Amplify in a local environment or Google Colaboratory, enter your Amplify API token.\n",
    "client.parameters.timeout = 1000\n",
    "\n",
    "# Define and execute the solver\n",
    "solver = Solver(client)\n",
    "result = solver.solve(model)\n",
    "\n",
    "if len(result) == 0:\n",
    "    print(\"No solution has been found.\")\n",
    "else:\n",
    "    print(\"A solution has been found.\")"
   ]
  },
  {
   "cell_type": "markdown",
   "id": "336c891e",
   "metadata": {},
   "source": [
    "Finally, visualize the resulting graph partition. Since the problem setup is similar to the graph in the introduction, the resulting partition will be similar. You can try changing the shape of the graph and the number of edges to see if you can achieve the correct partition."
   ]
  },
  {
   "cell_type": "code",
   "execution_count": null,
   "id": "51ec33ce",
   "metadata": {},
   "outputs": [],
   "source": [
    "values = q.decode(result[0].values)\n",
    "colors = [f\"C{int(value)}\" for value in values]\n",
    "\n",
    "nx.draw_networkx(G, node_size=600, node_color=colors, font_color=\"w\", pos=pos)"
   ]
  }
 ],
 "metadata": {
  "language_info": {
   "name": "python",
   "pygments_lexer": "ipython3"
  }
 },
 "nbformat": 4,
 "nbformat_minor": 5
}
