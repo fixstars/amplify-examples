{
 "cells": [
  {
   "cell_type": "markdown",
   "id": "f745124f",
   "metadata": {},
   "source": [
    "# Example NP problems published in A. Lucas, *Front. Phys.* (2014) - Clique cover problem\n",
    "\n",
    "This example code implements the **clique cover problem** introduced in the paper [A. Lucas, \"Ising formulations of many NP problems\", *Front. Phys.* (2014)](https://www.frontiersin.org/articles/10.3389/fphy.2014.00005/full) using Fixstars Amplify. Other NP-complete and NP-hard problems introduced in the same paper are also discussed below (the corresponding sections in the paper are shown in the brackets).\n",
    "\n",
    "- [Graph partitioning problem](https://amplify.fixstars.com/en/demo/lucas2014_2_2_graph_partitioning) (Sec. 2.2).\n",
    "- [Maximum clique problem](https://amplify.fixstars.com/en/demo/lucas2014_2_3_cliques) (Sec. 2.3)\n",
    "- [Exact cover problem](https://amplify.fixstars.com/en/demo/lucas2014_4_1_exact_cover) (Sec. 4.1)\n",
    "- [Set packing problem](https://amplify.fixstars.com/en/demo/lucas2014_4_2_set_packing) (Sec. 4.2)\n",
    "- [Minimum vertex cover problem](https://amplify.fixstars.com/en/demo/lucas2014_4_3_vertex_cover) (Sec. 4.3)\n",
    "- [Satisfiability problem (SAT)](https://amplify.fixstars.com/en/demo/lucas2014_4_4_satisfiability) (Sec. 4.4)\n",
    "- [Minimum maximum matching problem](https://amplify.fixstars.com/en/demo/lucas2014_4_5_minimal_maximal_matching) (Sec. 4.5)\n",
    "- [Graph coloring problem](https://amplify.fixstars.com/en/demo/lucas2014_6_1_graph_coloring) (Sec. 6.1)\n",
    "- **Clique cover problem** (Sec. 6.2)\n",
    "- [Job sequencing problem with integer lengths](https://amplify.fixstars.com/en/demo/lucas2014_6_3_job_sequencing_with_integer_lengths) (Sec. 6.3)\n",
    "- [Hamiltonian cycle problem](https://amplify.fixstars.com/en/demo/lucas2014_7_1_hamiltonian_cycles_and_paths) (Sec. 7.1)\n",
    "- [Directed feedback vertex set problem](https://amplify.fixstars.com/en/demo/lucas2014_8_3_directed_feedback_vertex_set) (Sec. 8.3)\n",
    "- [Minimum feedback edge set problem](https://amplify.fixstars.com/en/demo/lucas2014_8_5_feedback_edge_set) (Sec. 8.5)\n",
    "- [Graph isomorphism problem](https://amplify.fixstars.com/en/demo/lucas2014_9_graph_isomorphisms) (Sec. 9)"
   ]
  },
  {
   "cell_type": "markdown",
   "id": "3b15cb14",
   "metadata": {},
   "source": [
    "## Clique cover problem\n",
    "\n",
    "Given a graph $G$ and an integer $K$, **clique cover problem** is the problem to determine whether the vertices of $G$ can be painted with a $K$ color so that every pair of vertices of the same color is connected by an edge.\n",
    "\n",
    "For example, the following graph shows that it is possible to cover $G$ with $2$ colors (cliques) because all three blue vertices are connected by edges, and all three orange vertices are also connected by edges.\n",
    "\n",
    "![Figure0](../figures/Lucas2014/clique_cover0.png)\n",
    "\n",
    "Here, we create a program that uses Fixstars Amplify to search for a way to paint the vertices. The formulation follows the one in section 6.2 of [A. Lucas, Front. Phys. (2014)](https://www.frontiersin.org/articles/10.3389/fphy.2014.00005/full)."
   ]
  },
  {
   "cell_type": "markdown",
   "id": "f7a4b2b4",
   "metadata": {},
   "source": [
    "## Problem definition\n",
    "\n",
    "First, for example, let us create a graph $G$ using NetworkX. Also, let $K$, the number of colors, be $2$."
   ]
  },
  {
   "cell_type": "code",
   "execution_count": null,
   "id": "c6515528",
   "metadata": {},
   "outputs": [],
   "source": [
    "import networkx as nx\n",
    "import numpy as np\n",
    "\n",
    "N = 6  # Number of vertices of the graph\n",
    "K = 2  # Number of colors\n",
    "G = nx.Graph()\n",
    "G.add_nodes_from(range(N))\n",
    "elist = [(0, 1), (0, 2), (1, 2), (1, 3), (1, 4), (2, 3), (2, 5), (3, 4), (3, 5), (4, 5)]\n",
    "G.add_edges_from(elist)\n",
    "\n",
    "pos = nx.spring_layout(G, seed=0)\n",
    "\n",
    "nx.draw_networkx(G, node_size=600, font_color=\"w\", pos=pos)"
   ]
  },
  {
   "cell_type": "markdown",
   "id": "5923ae8b",
   "metadata": {},
   "source": [
    "The resulting graph is the same as the one shown in the introduction. Therefore, the condition is satisfied by painting the vertices $0$, $1$, and $2$ in one color and the vertices $3$, $4$, and $5$ in the other color."
   ]
  },
  {
   "cell_type": "markdown",
   "id": "a659e097",
   "metadata": {},
   "source": [
    "## Formulation\n",
    "\n",
    "Let $N$ be the number of vertices of $G$ below.\n",
    "\n",
    "### Decision variables\n",
    "\n",
    "Create a binary decision variable table $q$ of $N \\times K$, where each vertex is painted with a color specified by a corresponding decision variable. When vertex $i$ is painted with the $j$-th color, the binary variable in the $i$ row $j$ column of $q$ is $1$.\n",
    "\n",
    "For example, when vertices $0$, $1$, and $2$ are painted with the $0$th color and vertices $3$, $4$, and $5$ are painted with the $1$st color, the variable table $q$ is as follows.\n",
    "\n",
    "|   $q$    | 0th color | 1st color |\n",
    "| :------: | :-------: | :-------: |\n",
    "| Vertex 0 |     1     |     0     |\n",
    "| Vertex 1 |     1     |     0     |\n",
    "| Vertex 2 |     1     |     0     |\n",
    "| Vertex 3 |     0     |     1     |\n",
    "| Vertex 4 |     0     |     1     |\n",
    "| Vertex 5 |     0     |     1     |\n",
    "\n",
    "### Objective function\n",
    "\n",
    "Since the clique cover problem is to find one that satisfies the condition, No objective function is considered.\n",
    "\n",
    "### Constraints\n",
    "\n",
    "For $G$ to be covered by $K$ cliques according to $q$ and the corresponding coloring scheme, we need the following constraints.\n",
    "\n",
    "* Condition 1 : Each vertex of $G$ is painted with exactly a single color.\n",
    "* Condition 2: Vertices of the same color are always connected by an edge.\n",
    "\n",
    "Condition 1 is the constraint that there is precisely one $1$ in each row, and we can express this as:\n",
    "\n",
    "$$\n",
    "\\sum_{j = 0}^{K-1} q_{i, j} = 1 \\quad \\text{for} \\quad i \\in \\{0, 1, \\ldots, N-1\\}.\n",
    "$$ \n",
    "\n",
    "Also, considering the contraposition of condition 2, condition 2 is rephrased as \"$2$ vertices not connected by an edge are not painted in the same color\". \n",
    "\n",
    "The condition can be written as:\n",
    "\n",
    "$$\n",
    "q_{u, j} q_{v, j} = 0 \\quad \\text{for} \\quad (u, v) \\notin E, \\ j \\in \\{0, 1, \\ldots, K - 1\\}\n",
    "$$\n",
    "\n",
    "Here, $E$ is an edge set of $G$.\n"
   ]
  },
  {
   "cell_type": "markdown",
   "id": "28a2161a",
   "metadata": {},
   "source": [
    "## Implementation\n",
    "\n",
    "Using the problem and formulation described above, let us implement and solve the problem. First, we create $N\\times K$ binary variables $q$ using `BinarySymbolGenerator` in Fixstars Amplify SDK."
   ]
  },
  {
   "cell_type": "code",
   "execution_count": null,
   "id": "12a1e98f",
   "metadata": {},
   "outputs": [],
   "source": [
    "from amplify import BinarySymbolGenerator\n",
    "\n",
    "gen = BinarySymbolGenerator()\n",
    "q = gen.array(N, K)"
   ]
  },
  {
   "cell_type": "markdown",
   "id": "03c676ec",
   "metadata": {},
   "source": [
    "Next, we construct the constraint corresponding to condition 1. Condition 1 is condition that there is only one 1 in each row of $q$, so we can use `one_hot` to express this condition."
   ]
  },
  {
   "cell_type": "code",
   "execution_count": null,
   "id": "a0f48a41",
   "metadata": {},
   "outputs": [],
   "source": [
    "from amplify.constraint import one_hot\n",
    "\n",
    "constraint1 = [one_hot(q[i, :]) for i in range(N)]"
   ]
  },
  {
   "cell_type": "markdown",
   "id": "d627c1f5",
   "metadata": {},
   "source": [
    "Then, let us construct a constraint condition corresponding to the condition 2. The condition 2 is,\n",
    "$q_{u, j} q_{v, j} = 0 \\bigl((u, v) \\notin E, \\ j \\in \\{0, 1, \\ldots, K - 1\\}\\bigr)$."
   ]
  },
  {
   "cell_type": "code",
   "execution_count": null,
   "id": "ded11ff4",
   "metadata": {},
   "outputs": [],
   "source": [
    "from amplify.constraint import equal_to\n",
    "\n",
    "constraint2 = [\n",
    "    equal_to(q[u, j] * q[v, j], 0)\n",
    "    for u in range(N)\n",
    "    for v in range(N)\n",
    "    for j in range(K)\n",
    "    if u < v and (u, v) not in G.edges and (v, u) not in G.edges\n",
    "]"
   ]
  },
  {
   "cell_type": "markdown",
   "id": "511a8c6f",
   "metadata": {},
   "source": [
    "Now, we combine the abovementioned constraints and convert them into a logical model."
   ]
  },
  {
   "cell_type": "code",
   "execution_count": null,
   "id": "d5f5c3f9",
   "metadata": {},
   "outputs": [],
   "source": [
    "from amplify import BinaryQuadraticModel\n",
    "\n",
    "model = BinaryQuadraticModel(sum(constraint1) + sum(constraint2))"
   ]
  },
  {
   "cell_type": "markdown",
   "id": "8b0be3b6",
   "metadata": {},
   "source": [
    "Let us set the client and execute the solver with Fixstars Amplify Annealing Engine (AE). "
   ]
  },
  {
   "cell_type": "code",
   "execution_count": null,
   "id": "636fc01d",
   "metadata": {},
   "outputs": [],
   "source": [
    "from amplify.client import FixstarsClient\n",
    "from amplify import Solver\n",
    "\n",
    "client = FixstarsClient()\n",
    "# client.token = \"xxxxxxxxxxxxxxxxxxxxxxxxxxxxxxxx\"  # If you use Amplify in a local environment or Google Colaboratory, enter your Amplify API token.\n",
    "client.parameters.timeout = 1000\n",
    "\n",
    "# Define and execute the solver\n",
    "solver = Solver(client)\n",
    "result = solver.solve(model)"
   ]
  },
  {
   "cell_type": "markdown",
   "id": "9869c655",
   "metadata": {},
   "source": [
    "Since `Solver` automatically filters the solutions that satisfy the constraints, if the `result` is not empty, you know that there is a solution that satisfies the constraints."
   ]
  },
  {
   "cell_type": "code",
   "execution_count": null,
   "id": "d21635e4",
   "metadata": {},
   "outputs": [],
   "source": [
    "if len(result) == 0:\n",
    "    print(\"No solution has been found.\")\n",
    "else:\n",
    "    print(\"A solution has been found.\")"
   ]
  },
  {
   "cell_type": "markdown",
   "id": "5b09fdfe",
   "metadata": {},
   "source": [
    "Lastly, let us visualize the solution."
   ]
  },
  {
   "cell_type": "code",
   "execution_count": null,
   "id": "1a3f4534",
   "metadata": {},
   "outputs": [],
   "source": [
    "values = q.decode(result[0].values)\n",
    "\n",
    "colors = [f\"C{i}\" for i in np.where(values == 1)[1]]\n",
    "nx.draw_networkx(G, node_size=600, node_color=colors, font_color=\"w\", pos=pos)"
   ]
  }
 ],
 "metadata": {
  "language_info": {
   "name": "python",
   "pygments_lexer": "ipython3"
  }
 },
 "nbformat": 4,
 "nbformat_minor": 5
}
