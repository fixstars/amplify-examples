{
 "cells": [
  {
   "cell_type": "markdown",
   "id": "14c2f211",
   "metadata": {},
   "source": [
    "# Example NP problems published in A. Lucas, *Front. Phys.* (2014) - Hamiltonian cycle problem\n",
    "\n",
    "This example code implements the **Hamiltonian cycle problem** introduced in the paper [A. Lucas, \"Ising formulations of many NP problems\", *Front. Phys.* (2014)](https://www.frontiersin.org/articles/10.3389/fphy.2014.00005/full) using Fixstars Amplify. Other NP-complete and NP-hard problems introduced in the same paper are also discussed below (the corresponding sections in the paper are shown in the brackets).\n",
    "\n",
    "- [Graph partitioning problem](https://amplify.fixstars.com/en/demo/lucas2014_2_2_graph_partitioning) (Sec. 2.2).\n",
    "- [Maximum clique problem](https://amplify.fixstars.com/en/demo/lucas2014_2_3_cliques) (Sec. 2.3)\n",
    "- [Exact cover problem](https://amplify.fixstars.com/en/demo/lucas2014_4_1_exact_cover) (Sec. 4.1)\n",
    "- [Set packing problem](https://amplify.fixstars.com/en/demo/lucas2014_4_2_set_packing) (Sec. 4.2)\n",
    "- [Minimum vertex cover problem](https://amplify.fixstars.com/en/demo/lucas2014_4_3_vertex_cover) (Sec. 4.3)\n",
    "- [Satisfiability problem (SAT)](https://amplify.fixstars.com/en/demo/lucas2014_4_4_satisfiability) (Sec. 4.4)\n",
    "- [Minimum maximum matching problem](https://amplify.fixstars.com/en/demo/lucas2014_4_5_minimal_maximal_matching) (Sec. 4.5)\n",
    "- [Graph coloring problem](https://amplify.fixstars.com/en/demo/lucas2014_6_1_graph_coloring) (Sec. 6.1)\n",
    "- [Clique cover problem](https://amplify.fixstars.com/en/demo/lucas2014_6_2_clique_cover) (Sec. 6.2)\n",
    "- [Job sequencing problem with integer lengths](https://amplify.fixstars.com/en/demo/lucas2014_6_3_job_sequencing_with_integer_lengths) (Sec. 6.3)\n",
    "- **Hamiltonian cycle problem** (Sec. 7.1)\n",
    "- [Directed feedback vertex set problem](https://amplify.fixstars.com/en/demo/lucas2014_8_3_directed_feedback_vertex_set) (Sec. 8.3)\n",
    "- [Minimum feedback edge set problem](https://amplify.fixstars.com/en/demo/lucas2014_8_5_feedback_edge_set) (Sec. 8.5)\n",
    "- [Graph isomorphism problem](https://amplify.fixstars.com/en/demo/lucas2014_9_graph_isomorphisms) (Sec. 9)"
   ]
  },
  {
   "cell_type": "markdown",
   "id": "8e40b7d2",
   "metadata": {},
   "source": [
    "## Hamiltonian cycle problem\n",
    "\n",
    "Given a graph $G$, we call a closed path a Hamiltonian cycle if it passes through all vertices of $G$ once and returns to the origin.\n",
    "In general, when the size of the graph is large, it is difficult to determine in realistic time whether a Hamiltonian cycle exists in the graph.\n",
    "\n",
    "Here, we use Fixstars Amplify to solve this Hamiltonian cycle problem. This problem corresponds to section 7.1 of [A. Lucas, Front. Phys. (2014)](https://www.frontiersin.org/articles/10.3389/fphy.2014.00005/full)."
   ]
  },
  {
   "cell_type": "markdown",
   "id": "37b37af3",
   "metadata": {},
   "source": [
    "## Problem definition\n",
    "\n",
    "First, we create a graph $G$ to be considered in this sample program using NetworkX. The number of vertices is $N$."
   ]
  },
  {
   "cell_type": "code",
   "execution_count": null,
   "id": "68518ba1",
   "metadata": {},
   "outputs": [],
   "source": [
    "import networkx as nx\n",
    "import numpy as np\n",
    "\n",
    "N = 5  # Number of vertices of the graph\n",
    "G = nx.Graph()\n",
    "G.add_nodes_from(range(N))\n",
    "elist = [(0, 1), (0, 2), (1, 2), (1, 3), (1, 4), (2, 4), (3, 4)]\n",
    "\n",
    "pos = nx.circular_layout(G)  # Save the layout of the graph\n",
    "G.add_edges_from(elist)\n",
    "\n",
    "nx.draw_networkx(G, node_size=600, font_color=\"w\", pos=pos)"
   ]
  },
  {
   "cell_type": "markdown",
   "id": "4894950a",
   "metadata": {},
   "source": [
    "## Formulation\n",
    "\n",
    "### Decision variables\n",
    "\n",
    "Let us consider $N\\times N$ binary decision variables $q$, representing which vertex to pass and when. That is, a component $q_{k, i}$ of the binary decision variables corresponds to passing the vertex $i$ at $k$-th visit ($=1$) or not ($=0$). For example, when the binary variables are as follows, it corresponds to a closed path $0 \\rightarrow 1 \\rightarrow 3 \\rightarrow 4 \\rightarrow 2 \\rightarrow 0$ in the above graph.\n",
    "\n",
    "| Order \\ Index of vertex | 0   | 1   | 2   | 3   | 4   |\n",
    "| :---------------------: | --- | --- | --- | --- | --- |\n",
    "|           1st           | 1   | 0   | 0   | 0   | 0   |\n",
    "|           2nd           | 0   | 1   | 0   | 0   | 0   |\n",
    "|           3rd           | 0   | 0   | 0   | 1   | 0   |\n",
    "|           4th           | 0   | 0   | 0   | 0   | 1   |\n",
    "|           5th           | 0   | 0   | 1   | 0   | 0   |\n",
    "\n",
    "\n",
    "### Objective function\n",
    "\n",
    "Since the Hamiltonian cycle problem is to find one that satisfies the conditions, no objective function is considered.\n",
    "\n",
    "### Constraints\n",
    "\n",
    "For $q$ to represent a Hamiltonian cycle, we need the following: \n",
    "\n",
    "1. The $k$-th vertex must be a single vertex. We can rephrase this condition as there being exactly a single $1$ in each row of the binary variable table $q$. \n",
    "\n",
    "2. Each vertex must be passed through exactly $1$ times. We can rewrite this condition as there being exactly a single $1$ in each column of the binary variable table $q$. \n",
    "\n",
    "3. No transfers are allowed between vertices that are not connected. That is, when no edge connects between vertices $i$ and $j$, both $q_{k, i}$ and $q_{k+1, j}$ must not be $1$.\n",
    "\n",
    "The above conditions 1-3 can be written in mathematical expressions as follows, respectively.\n",
    "\n",
    "\\begin{align*}\n",
    "\\sum_{i=0}^{N-1} q_{k, i} = 1 & \\quad \\text{for} \\quad k \\in \\{0, 1, \\ldots, N-1\\} \\\\\n",
    "\\sum_{k=0}^{N-1} q_{k, i} = 1 & \\quad \\text{for} \\quad i \\in \\{0, 1, \\ldots, N-1\\} \\\\\n",
    "q_{k, i}q_{k+1, j} = 0 & \\quad \\text{for} \\quad k \\in \\{0, 1, \\ldots, N-1\\}, (i, j) \\notin E.\n",
    "\\end{align*}\n",
    "\n",
    "Here, $E$ denotes the edge set of $G$.\n",
    "\n",
    "Also, when the binary variables $q$ satisfy all conditions 1-3, $q$ corresponds to a Hamiltonian cycle of $G$."
   ]
  },
  {
   "cell_type": "markdown",
   "id": "365578c2",
   "metadata": {},
   "source": [
    "## Implementation\n",
    "\n",
    "Using the problem and formulation described above, let us implement and solve the problem. First, use `BinarySymbolGenerator` in Fixstars Amplify SDK to create $N\\times N$ binary decision variables $q$."
   ]
  },
  {
   "cell_type": "code",
   "execution_count": null,
   "id": "c240d5d1",
   "metadata": {},
   "outputs": [],
   "source": [
    "from amplify import BinarySymbolGenerator\n",
    "\n",
    "gen = BinarySymbolGenerator()\n",
    "q = gen.array(N, N)"
   ]
  },
  {
   "cell_type": "markdown",
   "id": "7d5e9143",
   "metadata": {},
   "source": [
    "Next, we create the constraints corresponding to the conditions 1 and 2. Since these are conditions that there is only one $1$ in each row and column of $q$, we can write them using `one_hot`."
   ]
  },
  {
   "cell_type": "code",
   "execution_count": null,
   "id": "a2ee0cb9",
   "metadata": {},
   "outputs": [],
   "source": [
    "from amplify.constraint import one_hot\n",
    "\n",
    "row_constraints = [one_hot(q[k, :]) for k in range(N)]\n",
    "col_constraints = [one_hot(q[:, i]) for i in range(N)]"
   ]
  },
  {
   "cell_type": "markdown",
   "id": "631d35c0",
   "metadata": {},
   "source": [
    "We can print the abovementioned constraints and check that the `one_hot` condition is correctly imposed on each row and column."
   ]
  },
  {
   "cell_type": "code",
   "execution_count": null,
   "id": "2f27e0bb",
   "metadata": {},
   "outputs": [],
   "source": [
    "row_constraints"
   ]
  },
  {
   "cell_type": "code",
   "execution_count": null,
   "id": "79f68b8f",
   "metadata": {},
   "outputs": [],
   "source": [
    "col_constraints"
   ]
  },
  {
   "cell_type": "markdown",
   "id": "ed941faa",
   "metadata": {},
   "source": [
    "Next, we create the constraint corresponding to the condition 3. Condition 3 is the condition that $q_{k, i}q_{k+1, j} = 0$ ($i$ and $j$ are two vertices not connected by an edge). Note that $q_{k+1, j}$ implies $q_{0, j}$ when $k=N-1$."
   ]
  },
  {
   "cell_type": "code",
   "execution_count": null,
   "id": "81163bc1",
   "metadata": {},
   "outputs": [],
   "source": [
    "from amplify.constraint import equal_to\n",
    "\n",
    "edge_constraints = [\n",
    "    equal_to(\n",
    "        q[k, i] * q[(k + 1) % N, j], 0\n",
    "    )  # %N is the treatment related to the above note.\n",
    "    for k in range(N)\n",
    "    for i in range(N)\n",
    "    for j in range(N)\n",
    "    if i != j and (i, j) not in G.edges and (j, i) not in G.edges\n",
    "]"
   ]
  },
  {
   "cell_type": "code",
   "execution_count": null,
   "id": "19e75593",
   "metadata": {},
   "outputs": [],
   "source": [
    "edge_constraints[:6]"
   ]
  },
  {
   "cell_type": "markdown",
   "id": "3a5b003a",
   "metadata": {},
   "source": [
    "The necessary constraints are in place. Finally, we combine to create the QUBO model."
   ]
  },
  {
   "cell_type": "code",
   "execution_count": null,
   "id": "da642952",
   "metadata": {},
   "outputs": [],
   "source": [
    "from amplify import BinaryQuadraticModel\n",
    "\n",
    "model = BinaryQuadraticModel(\n",
    "    sum(row_constraints) + sum(col_constraints) + sum(edge_constraints)\n",
    ")"
   ]
  },
  {
   "cell_type": "markdown",
   "id": "768c1f13",
   "metadata": {},
   "source": [
    "Let us set the client and execute the solver with Fixstars Amplify Annealing Engine (AE). "
   ]
  },
  {
   "cell_type": "code",
   "execution_count": null,
   "id": "32af09ce",
   "metadata": {},
   "outputs": [],
   "source": [
    "from amplify.client import FixstarsClient\n",
    "from amplify import Solver\n",
    "\n",
    "client = FixstarsClient()\n",
    "# client.token = \"xxxxxxxxxxxxxxxxxxxxxxxxxxxxxxxx\"  # If you use Amplify in a local environment or Google Colaboratory, enter your Amplify API token.\n",
    "client.parameters.timeout = 1000\n",
    "\n",
    "# Define and execute the solver\n",
    "solver = Solver(client)\n",
    "result = solver.solve(model)"
   ]
  },
  {
   "cell_type": "markdown",
   "id": "3fb56667",
   "metadata": {},
   "source": [
    "Now, we check whether there is a Hamiltonian cycle in the graph. Since `Solver` automatically filters the solutions that satisfy the constraints, if the `result` is not empty, you know that a solution has been found that satisfies the constraints."
   ]
  },
  {
   "cell_type": "code",
   "execution_count": null,
   "id": "ff9596cc",
   "metadata": {},
   "outputs": [],
   "source": [
    "if len(result) == 0:\n",
    "    print(\"No Hamiltonian cycle has been found.\")\n",
    "else:\n",
    "    print(\"A Hamiltonian cycle has been found.\")"
   ]
  },
  {
   "cell_type": "markdown",
   "id": "fc206716",
   "metadata": {},
   "source": [
    "Finally, let us visualize the solution. Below is the found Hamiltonian cycle in orange color."
   ]
  },
  {
   "cell_type": "code",
   "execution_count": null,
   "id": "c470e232",
   "metadata": {},
   "outputs": [],
   "source": [
    "# Setting default attributes for edges\n",
    "for edge in G.edges.values():\n",
    "    edge[\"color\"] = \"k\"\n",
    "    edge[\"width\"] = 1.0\n",
    "\n",
    "# Setting attributes for edges constituting the found Hamiltonian cycle\n",
    "values = q.decode(result[0].values)\n",
    "route = np.where(values == 1)[1]\n",
    "for i, j in zip(route, np.roll(route, -1)):\n",
    "    G.edges[i, j][\"color\"] = \"C1\"\n",
    "    G.edges[i, j][\"width\"] = 2.0\n",
    "\n",
    "# Visualize\n",
    "edge_color = [edge[\"color\"] for edge in G.edges.values()]\n",
    "edge_width = [edge[\"width\"] for edge in G.edges.values()]\n",
    "nx.draw_networkx(\n",
    "    G, node_size=600, font_color=\"w\", pos=pos, edge_color=edge_color, width=edge_width\n",
    ")"
   ]
  }
 ],
 "metadata": {
  "language_info": {
   "name": "python",
   "pygments_lexer": "ipython3"
  }
 },
 "nbformat": 4,
 "nbformat_minor": 5
}
